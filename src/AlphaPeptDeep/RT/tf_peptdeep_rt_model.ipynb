{
 "cells": [
  {
   "cell_type": "code",
   "execution_count": 1,
   "metadata": {
    "colab": {
     "base_uri": "https://localhost:8080/"
    },
    "executionInfo": {
     "elapsed": 122279,
     "status": "ok",
     "timestamp": 1742037843125,
     "user": {
      "displayName": "Jimmy Walraff",
      "userId": "17365452855707799727"
     },
     "user_tz": -60
    },
    "id": "MS27S-g7pEJ2",
    "outputId": "31f26d2d-d70e-4dd8-ba02-b33b421601ff"
   },
   "outputs": [
    {
     "name": "stdout",
     "output_type": "stream",
     "text": [
      "Collecting peptdeep\n",
      "  Downloading peptdeep-1.3.1-py3-none-any.whl.metadata (51 kB)\n",
      "\u001b[?25l     \u001b[90m━━━━━━━━━━━━━━━━━━━━━━━━━━━━━━━━━━━━━━━━\u001b[0m \u001b[32m0.0/51.2 kB\u001b[0m \u001b[31m?\u001b[0m eta \u001b[36m-:--:--\u001b[0m\r\u001b[2K     \u001b[90m━━━━━━━━━━━━━━━━━━━━━━━━━━━━━━━━━━━━━━━━\u001b[0m \u001b[32m51.2/51.2 kB\u001b[0m \u001b[31m2.2 MB/s\u001b[0m eta \u001b[36m0:00:00\u001b[0m\n",
      "\u001b[?25hRequirement already satisfied: click in /usr/local/lib/python3.11/dist-packages (from peptdeep) (8.1.8)\n",
      "Requirement already satisfied: pandas in /usr/local/lib/python3.11/dist-packages (from peptdeep) (2.2.2)\n",
      "Requirement already satisfied: numpy<2 in /usr/local/lib/python3.11/dist-packages (from peptdeep) (1.26.4)\n",
      "Requirement already satisfied: torch in /usr/local/lib/python3.11/dist-packages (from peptdeep) (2.6.0+cu124)\n",
      "Requirement already satisfied: tqdm in /usr/local/lib/python3.11/dist-packages (from peptdeep) (4.67.1)\n",
      "Requirement already satisfied: numba in /usr/local/lib/python3.11/dist-packages (from peptdeep) (0.60.0)\n",
      "Requirement already satisfied: psutil in /usr/local/lib/python3.11/dist-packages (from peptdeep) (5.9.5)\n",
      "Collecting biopython (from peptdeep)\n",
      "  Downloading biopython-1.85-cp311-cp311-manylinux_2_17_x86_64.manylinux2014_x86_64.whl.metadata (13 kB)\n",
      "Requirement already satisfied: transformers in /usr/local/lib/python3.11/dist-packages (from peptdeep) (4.48.3)\n",
      "Requirement already satisfied: scikit-learn in /usr/local/lib/python3.11/dist-packages (from peptdeep) (1.6.1)\n",
      "Collecting streamlit-aggrid (from peptdeep)\n",
      "  Downloading streamlit_aggrid-1.1.1-py3-none-any.whl.metadata (8.6 kB)\n",
      "Requirement already satisfied: lxml in /usr/local/lib/python3.11/dist-packages (from peptdeep) (5.3.1)\n",
      "Collecting pyteomics (from peptdeep)\n",
      "  Downloading pyteomics-4.7.5-py3-none-any.whl.metadata (6.5 kB)\n",
      "Collecting streamlit>=1.23.0 (from peptdeep)\n",
      "  Downloading streamlit-1.43.2-py2.py3-none-any.whl.metadata (8.9 kB)\n",
      "Collecting alphabase>=1.1.0 (from peptdeep)\n",
      "  Downloading alphabase-1.6.0-py3-none-any.whl.metadata (27 kB)\n",
      "Collecting alpharaw>=0.2.0 (from peptdeep)\n",
      "  Downloading alpharaw-0.4.6-py3-none-any.whl.metadata (27 kB)\n",
      "Requirement already satisfied: h5py in /usr/local/lib/python3.11/dist-packages (from alphabase>=1.1.0->peptdeep) (3.12.1)\n",
      "Collecting contextlib2 (from alphabase>=1.1.0->peptdeep)\n",
      "  Downloading contextlib2-21.6.0-py2.py3-none-any.whl.metadata (4.1 kB)\n",
      "Collecting xxhash (from alphabase>=1.1.0->peptdeep)\n",
      "  Downloading xxhash-3.5.0-cp311-cp311-manylinux_2_17_x86_64.manylinux2014_x86_64.whl.metadata (12 kB)\n",
      "Requirement already satisfied: regex in /usr/local/lib/python3.11/dist-packages (from alphabase>=1.1.0->peptdeep) (2024.11.6)\n",
      "Requirement already satisfied: dask in /usr/local/lib/python3.11/dist-packages (from alphabase>=1.1.0->peptdeep) (2024.12.1)\n",
      "Requirement already satisfied: dask_expr in /usr/local/lib/python3.11/dist-packages (from alphabase>=1.1.0->peptdeep) (1.1.21)\n",
      "Collecting pyahocorasick (from alphabase>=1.1.0->peptdeep)\n",
      "  Downloading pyahocorasick-2.1.0-cp311-cp311-manylinux_2_17_x86_64.manylinux2014_x86_64.whl.metadata (13 kB)\n",
      "Collecting rdkit==2024.3.3 (from alphabase>=1.1.0->peptdeep)\n",
      "  Downloading rdkit-2024.3.3-cp311-cp311-manylinux_2_28_x86_64.whl.metadata (3.9 kB)\n",
      "Requirement already satisfied: pyarrow in /usr/local/lib/python3.11/dist-packages (from alphabase>=1.1.0->peptdeep) (18.1.0)\n",
      "Requirement already satisfied: Pillow in /usr/local/lib/python3.11/dist-packages (from rdkit==2024.3.3->alphabase>=1.1.0->peptdeep) (11.1.0)\n",
      "Collecting pythonnet (from alpharaw>=0.2.0->peptdeep)\n",
      "  Downloading pythonnet-3.0.5-py3-none-any.whl.metadata (6.6 kB)\n",
      "Collecting alphatims (from alpharaw>=0.2.0->peptdeep)\n",
      "  Downloading alphatims-1.0.9-py3-none-any.whl.metadata (52 kB)\n",
      "\u001b[2K     \u001b[90m━━━━━━━━━━━━━━━━━━━━━━━━━━━━━━━━━━━━━━━━\u001b[0m \u001b[32m52.0/52.0 kB\u001b[0m \u001b[31m3.3 MB/s\u001b[0m eta \u001b[36m0:00:00\u001b[0m\n",
      "\u001b[?25hRequirement already satisfied: altair<6,>=4.0 in /usr/local/lib/python3.11/dist-packages (from streamlit>=1.23.0->peptdeep) (5.5.0)\n",
      "Requirement already satisfied: blinker<2,>=1.0.0 in /usr/local/lib/python3.11/dist-packages (from streamlit>=1.23.0->peptdeep) (1.9.0)\n",
      "Requirement already satisfied: cachetools<6,>=4.0 in /usr/local/lib/python3.11/dist-packages (from streamlit>=1.23.0->peptdeep) (5.5.2)\n",
      "Requirement already satisfied: packaging<25,>=20 in /usr/local/lib/python3.11/dist-packages (from streamlit>=1.23.0->peptdeep) (24.2)\n",
      "Requirement already satisfied: protobuf<6,>=3.20 in /usr/local/lib/python3.11/dist-packages (from streamlit>=1.23.0->peptdeep) (4.25.6)\n",
      "Requirement already satisfied: requests<3,>=2.27 in /usr/local/lib/python3.11/dist-packages (from streamlit>=1.23.0->peptdeep) (2.32.3)\n",
      "Requirement already satisfied: tenacity<10,>=8.1.0 in /usr/local/lib/python3.11/dist-packages (from streamlit>=1.23.0->peptdeep) (9.0.0)\n",
      "Requirement already satisfied: toml<2,>=0.10.1 in /usr/local/lib/python3.11/dist-packages (from streamlit>=1.23.0->peptdeep) (0.10.2)\n",
      "Requirement already satisfied: typing-extensions<5,>=4.4.0 in /usr/local/lib/python3.11/dist-packages (from streamlit>=1.23.0->peptdeep) (4.12.2)\n",
      "Collecting watchdog<7,>=2.1.5 (from streamlit>=1.23.0->peptdeep)\n",
      "  Downloading watchdog-6.0.0-py3-none-manylinux2014_x86_64.whl.metadata (44 kB)\n",
      "\u001b[2K     \u001b[90m━━━━━━━━━━━━━━━━━━━━━━━━━━━━━━━━━━━━━━━━\u001b[0m \u001b[32m44.3/44.3 kB\u001b[0m \u001b[31m1.9 MB/s\u001b[0m eta \u001b[36m0:00:00\u001b[0m\n",
      "\u001b[?25hRequirement already satisfied: gitpython!=3.1.19,<4,>=3.0.7 in /usr/local/lib/python3.11/dist-packages (from streamlit>=1.23.0->peptdeep) (3.1.44)\n",
      "Collecting pydeck<1,>=0.8.0b4 (from streamlit>=1.23.0->peptdeep)\n",
      "  Downloading pydeck-0.9.1-py2.py3-none-any.whl.metadata (4.1 kB)\n",
      "Requirement already satisfied: tornado<7,>=6.0.3 in /usr/local/lib/python3.11/dist-packages (from streamlit>=1.23.0->peptdeep) (6.4.2)\n",
      "Requirement already satisfied: python-dateutil>=2.8.2 in /usr/local/lib/python3.11/dist-packages (from pandas->peptdeep) (2.8.2)\n",
      "Requirement already satisfied: pytz>=2020.1 in /usr/local/lib/python3.11/dist-packages (from pandas->peptdeep) (2025.1)\n",
      "Requirement already satisfied: tzdata>=2022.7 in /usr/local/lib/python3.11/dist-packages (from pandas->peptdeep) (2025.1)\n",
      "Requirement already satisfied: llvmlite<0.44,>=0.43.0dev0 in /usr/local/lib/python3.11/dist-packages (from numba->peptdeep) (0.43.0)\n",
      "Requirement already satisfied: scipy>=1.6.0 in /usr/local/lib/python3.11/dist-packages (from scikit-learn->peptdeep) (1.14.1)\n",
      "Requirement already satisfied: joblib>=1.2.0 in /usr/local/lib/python3.11/dist-packages (from scikit-learn->peptdeep) (1.4.2)\n",
      "Requirement already satisfied: threadpoolctl>=3.1.0 in /usr/local/lib/python3.11/dist-packages (from scikit-learn->peptdeep) (3.5.0)\n",
      "Collecting python-decouple (from streamlit-aggrid->peptdeep)\n",
      "  Downloading python_decouple-3.8-py3-none-any.whl.metadata (14 kB)\n",
      "Requirement already satisfied: filelock in /usr/local/lib/python3.11/dist-packages (from torch->peptdeep) (3.17.0)\n",
      "Requirement already satisfied: networkx in /usr/local/lib/python3.11/dist-packages (from torch->peptdeep) (3.4.2)\n",
      "Requirement already satisfied: jinja2 in /usr/local/lib/python3.11/dist-packages (from torch->peptdeep) (3.1.6)\n",
      "Requirement already satisfied: fsspec in /usr/local/lib/python3.11/dist-packages (from torch->peptdeep) (2024.10.0)\n",
      "Collecting nvidia-cuda-nvrtc-cu12==12.4.127 (from torch->peptdeep)\n",
      "  Downloading nvidia_cuda_nvrtc_cu12-12.4.127-py3-none-manylinux2014_x86_64.whl.metadata (1.5 kB)\n",
      "Collecting nvidia-cuda-runtime-cu12==12.4.127 (from torch->peptdeep)\n",
      "  Downloading nvidia_cuda_runtime_cu12-12.4.127-py3-none-manylinux2014_x86_64.whl.metadata (1.5 kB)\n",
      "Collecting nvidia-cuda-cupti-cu12==12.4.127 (from torch->peptdeep)\n",
      "  Downloading nvidia_cuda_cupti_cu12-12.4.127-py3-none-manylinux2014_x86_64.whl.metadata (1.6 kB)\n",
      "Collecting nvidia-cudnn-cu12==9.1.0.70 (from torch->peptdeep)\n",
      "  Downloading nvidia_cudnn_cu12-9.1.0.70-py3-none-manylinux2014_x86_64.whl.metadata (1.6 kB)\n",
      "Collecting nvidia-cublas-cu12==12.4.5.8 (from torch->peptdeep)\n",
      "  Downloading nvidia_cublas_cu12-12.4.5.8-py3-none-manylinux2014_x86_64.whl.metadata (1.5 kB)\n",
      "Collecting nvidia-cufft-cu12==11.2.1.3 (from torch->peptdeep)\n",
      "  Downloading nvidia_cufft_cu12-11.2.1.3-py3-none-manylinux2014_x86_64.whl.metadata (1.5 kB)\n",
      "Collecting nvidia-curand-cu12==10.3.5.147 (from torch->peptdeep)\n",
      "  Downloading nvidia_curand_cu12-10.3.5.147-py3-none-manylinux2014_x86_64.whl.metadata (1.5 kB)\n",
      "Collecting nvidia-cusolver-cu12==11.6.1.9 (from torch->peptdeep)\n",
      "  Downloading nvidia_cusolver_cu12-11.6.1.9-py3-none-manylinux2014_x86_64.whl.metadata (1.6 kB)\n",
      "Collecting nvidia-cusparse-cu12==12.3.1.170 (from torch->peptdeep)\n",
      "  Downloading nvidia_cusparse_cu12-12.3.1.170-py3-none-manylinux2014_x86_64.whl.metadata (1.6 kB)\n",
      "Requirement already satisfied: nvidia-cusparselt-cu12==0.6.2 in /usr/local/lib/python3.11/dist-packages (from torch->peptdeep) (0.6.2)\n",
      "Requirement already satisfied: nvidia-nccl-cu12==2.21.5 in /usr/local/lib/python3.11/dist-packages (from torch->peptdeep) (2.21.5)\n",
      "Requirement already satisfied: nvidia-nvtx-cu12==12.4.127 in /usr/local/lib/python3.11/dist-packages (from torch->peptdeep) (12.4.127)\n",
      "Collecting nvidia-nvjitlink-cu12==12.4.127 (from torch->peptdeep)\n",
      "  Downloading nvidia_nvjitlink_cu12-12.4.127-py3-none-manylinux2014_x86_64.whl.metadata (1.5 kB)\n",
      "Requirement already satisfied: triton==3.2.0 in /usr/local/lib/python3.11/dist-packages (from torch->peptdeep) (3.2.0)\n",
      "Requirement already satisfied: sympy==1.13.1 in /usr/local/lib/python3.11/dist-packages (from torch->peptdeep) (1.13.1)\n",
      "Requirement already satisfied: mpmath<1.4,>=1.1.0 in /usr/local/lib/python3.11/dist-packages (from sympy==1.13.1->torch->peptdeep) (1.3.0)\n",
      "Requirement already satisfied: huggingface-hub<1.0,>=0.24.0 in /usr/local/lib/python3.11/dist-packages (from transformers->peptdeep) (0.28.1)\n",
      "Requirement already satisfied: pyyaml>=5.1 in /usr/local/lib/python3.11/dist-packages (from transformers->peptdeep) (6.0.2)\n",
      "Requirement already satisfied: tokenizers<0.22,>=0.21 in /usr/local/lib/python3.11/dist-packages (from transformers->peptdeep) (0.21.0)\n",
      "Requirement already satisfied: safetensors>=0.4.1 in /usr/local/lib/python3.11/dist-packages (from transformers->peptdeep) (0.5.3)\n",
      "Requirement already satisfied: jsonschema>=3.0 in /usr/local/lib/python3.11/dist-packages (from altair<6,>=4.0->streamlit>=1.23.0->peptdeep) (4.23.0)\n",
      "Requirement already satisfied: narwhals>=1.14.2 in /usr/local/lib/python3.11/dist-packages (from altair<6,>=4.0->streamlit>=1.23.0->peptdeep) (1.30.0)\n",
      "Requirement already satisfied: gitdb<5,>=4.0.1 in /usr/local/lib/python3.11/dist-packages (from gitpython!=3.1.19,<4,>=3.0.7->streamlit>=1.23.0->peptdeep) (4.0.12)\n",
      "Requirement already satisfied: MarkupSafe>=2.0 in /usr/local/lib/python3.11/dist-packages (from jinja2->torch->peptdeep) (3.0.2)\n",
      "Requirement already satisfied: six>=1.5 in /usr/local/lib/python3.11/dist-packages (from python-dateutil>=2.8.2->pandas->peptdeep) (1.17.0)\n",
      "Requirement already satisfied: charset-normalizer<4,>=2 in /usr/local/lib/python3.11/dist-packages (from requests<3,>=2.27->streamlit>=1.23.0->peptdeep) (3.4.1)\n",
      "Requirement already satisfied: idna<4,>=2.5 in /usr/local/lib/python3.11/dist-packages (from requests<3,>=2.27->streamlit>=1.23.0->peptdeep) (3.10)\n",
      "Requirement already satisfied: urllib3<3,>=1.21.1 in /usr/local/lib/python3.11/dist-packages (from requests<3,>=2.27->streamlit>=1.23.0->peptdeep) (2.3.0)\n",
      "Requirement already satisfied: certifi>=2017.4.17 in /usr/local/lib/python3.11/dist-packages (from requests<3,>=2.27->streamlit>=1.23.0->peptdeep) (2025.1.31)\n",
      "Collecting pyzstd (from alphatims->alpharaw>=0.2.0->peptdeep)\n",
      "  Downloading pyzstd-0.16.2-cp311-cp311-manylinux_2_17_x86_64.manylinux2014_x86_64.whl.metadata (2.4 kB)\n",
      "Requirement already satisfied: cloudpickle>=3.0.0 in /usr/local/lib/python3.11/dist-packages (from dask->alphabase>=1.1.0->peptdeep) (3.1.1)\n",
      "Requirement already satisfied: partd>=1.4.0 in /usr/local/lib/python3.11/dist-packages (from dask->alphabase>=1.1.0->peptdeep) (1.4.2)\n",
      "Requirement already satisfied: toolz>=0.10.0 in /usr/local/lib/python3.11/dist-packages (from dask->alphabase>=1.1.0->peptdeep) (0.12.1)\n",
      "Requirement already satisfied: importlib_metadata>=4.13.0 in /usr/local/lib/python3.11/dist-packages (from dask->alphabase>=1.1.0->peptdeep) (8.6.1)\n",
      "Collecting clr_loader<0.3.0,>=0.2.7 (from pythonnet->alpharaw>=0.2.0->peptdeep)\n",
      "  Downloading clr_loader-0.2.7.post0-py3-none-any.whl.metadata (1.5 kB)\n",
      "Requirement already satisfied: cffi>=1.17 in /usr/local/lib/python3.11/dist-packages (from clr_loader<0.3.0,>=0.2.7->pythonnet->alpharaw>=0.2.0->peptdeep) (1.17.1)\n",
      "Requirement already satisfied: smmap<6,>=3.0.1 in /usr/local/lib/python3.11/dist-packages (from gitdb<5,>=4.0.1->gitpython!=3.1.19,<4,>=3.0.7->streamlit>=1.23.0->peptdeep) (5.0.2)\n",
      "Requirement already satisfied: zipp>=3.20 in /usr/local/lib/python3.11/dist-packages (from importlib_metadata>=4.13.0->dask->alphabase>=1.1.0->peptdeep) (3.21.0)\n",
      "Requirement already satisfied: attrs>=22.2.0 in /usr/local/lib/python3.11/dist-packages (from jsonschema>=3.0->altair<6,>=4.0->streamlit>=1.23.0->peptdeep) (25.2.0)\n",
      "Requirement already satisfied: jsonschema-specifications>=2023.03.6 in /usr/local/lib/python3.11/dist-packages (from jsonschema>=3.0->altair<6,>=4.0->streamlit>=1.23.0->peptdeep) (2024.10.1)\n",
      "Requirement already satisfied: referencing>=0.28.4 in /usr/local/lib/python3.11/dist-packages (from jsonschema>=3.0->altair<6,>=4.0->streamlit>=1.23.0->peptdeep) (0.36.2)\n",
      "Requirement already satisfied: rpds-py>=0.7.1 in /usr/local/lib/python3.11/dist-packages (from jsonschema>=3.0->altair<6,>=4.0->streamlit>=1.23.0->peptdeep) (0.23.1)\n",
      "Requirement already satisfied: locket in /usr/local/lib/python3.11/dist-packages (from partd>=1.4.0->dask->alphabase>=1.1.0->peptdeep) (1.0.0)\n",
      "Requirement already satisfied: pycparser in /usr/local/lib/python3.11/dist-packages (from cffi>=1.17->clr_loader<0.3.0,>=0.2.7->pythonnet->alpharaw>=0.2.0->peptdeep) (2.22)\n",
      "Downloading peptdeep-1.3.1-py3-none-any.whl (566 kB)\n",
      "\u001b[2K   \u001b[90m━━━━━━━━━━━━━━━━━━━━━━━━━━━━━━━━━━━━━━━━\u001b[0m \u001b[32m566.8/566.8 kB\u001b[0m \u001b[31m18.2 MB/s\u001b[0m eta \u001b[36m0:00:00\u001b[0m\n",
      "\u001b[?25hDownloading alphabase-1.6.0-py3-none-any.whl (268 kB)\n",
      "\u001b[2K   \u001b[90m━━━━━━━━━━━━━━━━━━━━━━━━━━━━━━━━━━━━━━━━\u001b[0m \u001b[32m269.0/269.0 kB\u001b[0m \u001b[31m15.7 MB/s\u001b[0m eta \u001b[36m0:00:00\u001b[0m\n",
      "\u001b[?25hDownloading rdkit-2024.3.3-cp311-cp311-manylinux_2_28_x86_64.whl (33.1 MB)\n",
      "\u001b[2K   \u001b[90m━━━━━━━━━━━━━━━━━━━━━━━━━━━━━━━━━━━━━━━━\u001b[0m \u001b[32m33.1/33.1 MB\u001b[0m \u001b[31m25.3 MB/s\u001b[0m eta \u001b[36m0:00:00\u001b[0m\n",
      "\u001b[?25hDownloading alpharaw-0.4.6-py3-none-any.whl (3.3 MB)\n",
      "\u001b[2K   \u001b[90m━━━━━━━━━━━━━━━━━━━━━━━━━━━━━━━━━━━━━━━━\u001b[0m \u001b[32m3.3/3.3 MB\u001b[0m \u001b[31m12.9 MB/s\u001b[0m eta \u001b[36m0:00:00\u001b[0m\n",
      "\u001b[?25hDownloading streamlit-1.43.2-py2.py3-none-any.whl (9.7 MB)\n",
      "\u001b[2K   \u001b[90m━━━━━━━━━━━━━━━━━━━━━━━━━━━━━━━━━━━━━━━━\u001b[0m \u001b[32m9.7/9.7 MB\u001b[0m \u001b[31m36.1 MB/s\u001b[0m eta \u001b[36m0:00:00\u001b[0m\n",
      "\u001b[?25hDownloading biopython-1.85-cp311-cp311-manylinux_2_17_x86_64.manylinux2014_x86_64.whl (3.3 MB)\n",
      "\u001b[2K   \u001b[90m━━━━━━━━━━━━━━━━━━━━━━━━━━━━━━━━━━━━━━━━\u001b[0m \u001b[32m3.3/3.3 MB\u001b[0m \u001b[31m31.7 MB/s\u001b[0m eta \u001b[36m0:00:00\u001b[0m\n",
      "\u001b[?25hDownloading pyteomics-4.7.5-py3-none-any.whl (238 kB)\n",
      "\u001b[2K   \u001b[90m━━━━━━━━━━━━━━━━━━━━━━━━━━━━━━━━━━━━━━━━\u001b[0m \u001b[32m239.0/239.0 kB\u001b[0m \u001b[31m7.9 MB/s\u001b[0m eta \u001b[36m0:00:00\u001b[0m\n",
      "\u001b[?25hDownloading streamlit_aggrid-1.1.1-py3-none-any.whl (12.9 MB)\n",
      "\u001b[2K   \u001b[90m━━━━━━━━━━━━━━━━━━━━━━━━━━━━━━━━━━━━━━━━\u001b[0m \u001b[32m12.9/12.9 MB\u001b[0m \u001b[31m36.9 MB/s\u001b[0m eta \u001b[36m0:00:00\u001b[0m\n",
      "\u001b[?25hDownloading nvidia_cublas_cu12-12.4.5.8-py3-none-manylinux2014_x86_64.whl (363.4 MB)\n",
      "\u001b[2K   \u001b[90m━━━━━━━━━━━━━━━━━━━━━━━━━━━━━━━━━━━━━━━━\u001b[0m \u001b[32m363.4/363.4 MB\u001b[0m \u001b[31m4.6 MB/s\u001b[0m eta \u001b[36m0:00:00\u001b[0m\n",
      "\u001b[?25hDownloading nvidia_cuda_cupti_cu12-12.4.127-py3-none-manylinux2014_x86_64.whl (13.8 MB)\n",
      "\u001b[2K   \u001b[90m━━━━━━━━━━━━━━━━━━━━━━━━━━━━━━━━━━━━━━━━\u001b[0m \u001b[32m13.8/13.8 MB\u001b[0m \u001b[31m91.3 MB/s\u001b[0m eta \u001b[36m0:00:00\u001b[0m\n",
      "\u001b[?25hDownloading nvidia_cuda_nvrtc_cu12-12.4.127-py3-none-manylinux2014_x86_64.whl (24.6 MB)\n",
      "\u001b[2K   \u001b[90m━━━━━━━━━━━━━━━━━━━━━━━━━━━━━━━━━━━━━━━━\u001b[0m \u001b[32m24.6/24.6 MB\u001b[0m \u001b[31m85.6 MB/s\u001b[0m eta \u001b[36m0:00:00\u001b[0m\n",
      "\u001b[?25hDownloading nvidia_cuda_runtime_cu12-12.4.127-py3-none-manylinux2014_x86_64.whl (883 kB)\n",
      "\u001b[2K   \u001b[90m━━━━━━━━━━━━━━━━━━━━━━━━━━━━━━━━━━━━━━━━\u001b[0m \u001b[32m883.7/883.7 kB\u001b[0m \u001b[31m58.9 MB/s\u001b[0m eta \u001b[36m0:00:00\u001b[0m\n",
      "\u001b[?25hDownloading nvidia_cudnn_cu12-9.1.0.70-py3-none-manylinux2014_x86_64.whl (664.8 MB)\n",
      "\u001b[2K   \u001b[90m━━━━━━━━━━━━━━━━━━━━━━━━━━━━━━━━━━━━━━━━\u001b[0m \u001b[32m664.8/664.8 MB\u001b[0m \u001b[31m2.5 MB/s\u001b[0m eta \u001b[36m0:00:00\u001b[0m\n",
      "\u001b[?25hDownloading nvidia_cufft_cu12-11.2.1.3-py3-none-manylinux2014_x86_64.whl (211.5 MB)\n",
      "\u001b[2K   \u001b[90m━━━━━━━━━━━━━━━━━━━━━━━━━━━━━━━━━━━━━━━━\u001b[0m \u001b[32m211.5/211.5 MB\u001b[0m \u001b[31m5.4 MB/s\u001b[0m eta \u001b[36m0:00:00\u001b[0m\n",
      "\u001b[?25hDownloading nvidia_curand_cu12-10.3.5.147-py3-none-manylinux2014_x86_64.whl (56.3 MB)\n",
      "\u001b[2K   \u001b[90m━━━━━━━━━━━━━━━━━━━━━━━━━━━━━━━━━━━━━━━━\u001b[0m \u001b[32m56.3/56.3 MB\u001b[0m \u001b[31m10.8 MB/s\u001b[0m eta \u001b[36m0:00:00\u001b[0m\n",
      "\u001b[?25hDownloading nvidia_cusolver_cu12-11.6.1.9-py3-none-manylinux2014_x86_64.whl (127.9 MB)\n",
      "\u001b[2K   \u001b[90m━━━━━━━━━━━━━━━━━━━━━━━━━━━━━━━━━━━━━━━━\u001b[0m \u001b[32m127.9/127.9 MB\u001b[0m \u001b[31m7.1 MB/s\u001b[0m eta \u001b[36m0:00:00\u001b[0m\n",
      "\u001b[?25hDownloading nvidia_cusparse_cu12-12.3.1.170-py3-none-manylinux2014_x86_64.whl (207.5 MB)\n",
      "\u001b[2K   \u001b[90m━━━━━━━━━━━━━━━━━━━━━━━━━━━━━━━━━━━━━━━━\u001b[0m \u001b[32m207.5/207.5 MB\u001b[0m \u001b[31m4.7 MB/s\u001b[0m eta \u001b[36m0:00:00\u001b[0m\n",
      "\u001b[?25hDownloading nvidia_nvjitlink_cu12-12.4.127-py3-none-manylinux2014_x86_64.whl (21.1 MB)\n",
      "\u001b[2K   \u001b[90m━━━━━━━━━━━━━━━━━━━━━━━━━━━━━━━━━━━━━━━━\u001b[0m \u001b[32m21.1/21.1 MB\u001b[0m \u001b[31m23.8 MB/s\u001b[0m eta \u001b[36m0:00:00\u001b[0m\n",
      "\u001b[?25hDownloading pydeck-0.9.1-py2.py3-none-any.whl (6.9 MB)\n",
      "\u001b[2K   \u001b[90m━━━━━━━━━━━━━━━━━━━━━━━━━━━━━━━━━━━━━━━━\u001b[0m \u001b[32m6.9/6.9 MB\u001b[0m \u001b[31m59.8 MB/s\u001b[0m eta \u001b[36m0:00:00\u001b[0m\n",
      "\u001b[?25hDownloading watchdog-6.0.0-py3-none-manylinux2014_x86_64.whl (79 kB)\n",
      "\u001b[2K   \u001b[90m━━━━━━━━━━━━━━━━━━━━━━━━━━━━━━━━━━━━━━━━\u001b[0m \u001b[32m79.1/79.1 kB\u001b[0m \u001b[31m6.0 MB/s\u001b[0m eta \u001b[36m0:00:00\u001b[0m\n",
      "\u001b[?25hDownloading alphatims-1.0.9-py3-none-any.whl (10.3 MB)\n",
      "\u001b[2K   \u001b[90m━━━━━━━━━━━━━━━━━━━━━━━━━━━━━━━━━━━━━━━━\u001b[0m \u001b[32m10.3/10.3 MB\u001b[0m \u001b[31m47.0 MB/s\u001b[0m eta \u001b[36m0:00:00\u001b[0m\n",
      "\u001b[?25hDownloading contextlib2-21.6.0-py2.py3-none-any.whl (13 kB)\n",
      "Downloading pyahocorasick-2.1.0-cp311-cp311-manylinux_2_17_x86_64.manylinux2014_x86_64.whl (118 kB)\n",
      "\u001b[2K   \u001b[90m━━━━━━━━━━━━━━━━━━━━━━━━━━━━━━━━━━━━━━━━\u001b[0m \u001b[32m118.3/118.3 kB\u001b[0m \u001b[31m11.5 MB/s\u001b[0m eta \u001b[36m0:00:00\u001b[0m\n",
      "\u001b[?25hDownloading python_decouple-3.8-py3-none-any.whl (9.9 kB)\n",
      "Downloading pythonnet-3.0.5-py3-none-any.whl (297 kB)\n",
      "\u001b[2K   \u001b[90m━━━━━━━━━━━━━━━━━━━━━━━━━━━━━━━━━━━━━━━━\u001b[0m \u001b[32m297.5/297.5 kB\u001b[0m \u001b[31m19.6 MB/s\u001b[0m eta \u001b[36m0:00:00\u001b[0m\n",
      "\u001b[?25hDownloading xxhash-3.5.0-cp311-cp311-manylinux_2_17_x86_64.manylinux2014_x86_64.whl (194 kB)\n",
      "\u001b[2K   \u001b[90m━━━━━━━━━━━━━━━━━━━━━━━━━━━━━━━━━━━━━━━━\u001b[0m \u001b[32m194.8/194.8 kB\u001b[0m \u001b[31m13.0 MB/s\u001b[0m eta \u001b[36m0:00:00\u001b[0m\n",
      "\u001b[?25hDownloading clr_loader-0.2.7.post0-py3-none-any.whl (50 kB)\n",
      "\u001b[2K   \u001b[90m━━━━━━━━━━━━━━━━━━━━━━━━━━━━━━━━━━━━━━━━\u001b[0m \u001b[32m50.6/50.6 kB\u001b[0m \u001b[31m3.7 MB/s\u001b[0m eta \u001b[36m0:00:00\u001b[0m\n",
      "\u001b[?25hDownloading pyzstd-0.16.2-cp311-cp311-manylinux_2_17_x86_64.manylinux2014_x86_64.whl (413 kB)\n",
      "\u001b[2K   \u001b[90m━━━━━━━━━━━━━━━━━━━━━━━━━━━━━━━━━━━━━━━━\u001b[0m \u001b[32m413.7/413.7 kB\u001b[0m \u001b[31m23.5 MB/s\u001b[0m eta \u001b[36m0:00:00\u001b[0m\n",
      "\u001b[?25hInstalling collected packages: python-decouple, pyteomics, xxhash, watchdog, rdkit, pyzstd, pyahocorasick, nvidia-nvjitlink-cu12, nvidia-curand-cu12, nvidia-cufft-cu12, nvidia-cuda-runtime-cu12, nvidia-cuda-nvrtc-cu12, nvidia-cuda-cupti-cu12, nvidia-cublas-cu12, contextlib2, biopython, pydeck, nvidia-cusparse-cu12, nvidia-cudnn-cu12, clr_loader, pythonnet, nvidia-cusolver-cu12, alphatims, alphabase, streamlit, alpharaw, streamlit-aggrid, peptdeep\n",
      "  Attempting uninstall: nvidia-nvjitlink-cu12\n",
      "    Found existing installation: nvidia-nvjitlink-cu12 12.5.82\n",
      "    Uninstalling nvidia-nvjitlink-cu12-12.5.82:\n",
      "      Successfully uninstalled nvidia-nvjitlink-cu12-12.5.82\n",
      "  Attempting uninstall: nvidia-curand-cu12\n",
      "    Found existing installation: nvidia-curand-cu12 10.3.6.82\n",
      "    Uninstalling nvidia-curand-cu12-10.3.6.82:\n",
      "      Successfully uninstalled nvidia-curand-cu12-10.3.6.82\n",
      "  Attempting uninstall: nvidia-cufft-cu12\n",
      "    Found existing installation: nvidia-cufft-cu12 11.2.3.61\n",
      "    Uninstalling nvidia-cufft-cu12-11.2.3.61:\n",
      "      Successfully uninstalled nvidia-cufft-cu12-11.2.3.61\n",
      "  Attempting uninstall: nvidia-cuda-runtime-cu12\n",
      "    Found existing installation: nvidia-cuda-runtime-cu12 12.5.82\n",
      "    Uninstalling nvidia-cuda-runtime-cu12-12.5.82:\n",
      "      Successfully uninstalled nvidia-cuda-runtime-cu12-12.5.82\n",
      "  Attempting uninstall: nvidia-cuda-nvrtc-cu12\n",
      "    Found existing installation: nvidia-cuda-nvrtc-cu12 12.5.82\n",
      "    Uninstalling nvidia-cuda-nvrtc-cu12-12.5.82:\n",
      "      Successfully uninstalled nvidia-cuda-nvrtc-cu12-12.5.82\n",
      "  Attempting uninstall: nvidia-cuda-cupti-cu12\n",
      "    Found existing installation: nvidia-cuda-cupti-cu12 12.5.82\n",
      "    Uninstalling nvidia-cuda-cupti-cu12-12.5.82:\n",
      "      Successfully uninstalled nvidia-cuda-cupti-cu12-12.5.82\n",
      "  Attempting uninstall: nvidia-cublas-cu12\n",
      "    Found existing installation: nvidia-cublas-cu12 12.5.3.2\n",
      "    Uninstalling nvidia-cublas-cu12-12.5.3.2:\n",
      "      Successfully uninstalled nvidia-cublas-cu12-12.5.3.2\n",
      "  Attempting uninstall: nvidia-cusparse-cu12\n",
      "    Found existing installation: nvidia-cusparse-cu12 12.5.1.3\n",
      "    Uninstalling nvidia-cusparse-cu12-12.5.1.3:\n",
      "      Successfully uninstalled nvidia-cusparse-cu12-12.5.1.3\n",
      "  Attempting uninstall: nvidia-cudnn-cu12\n",
      "    Found existing installation: nvidia-cudnn-cu12 9.3.0.75\n",
      "    Uninstalling nvidia-cudnn-cu12-9.3.0.75:\n",
      "      Successfully uninstalled nvidia-cudnn-cu12-9.3.0.75\n",
      "  Attempting uninstall: nvidia-cusolver-cu12\n",
      "    Found existing installation: nvidia-cusolver-cu12 11.6.3.83\n",
      "    Uninstalling nvidia-cusolver-cu12-11.6.3.83:\n",
      "      Successfully uninstalled nvidia-cusolver-cu12-11.6.3.83\n",
      "Successfully installed alphabase-1.6.0 alpharaw-0.4.6 alphatims-1.0.9 biopython-1.85 clr_loader-0.2.7.post0 contextlib2-21.6.0 nvidia-cublas-cu12-12.4.5.8 nvidia-cuda-cupti-cu12-12.4.127 nvidia-cuda-nvrtc-cu12-12.4.127 nvidia-cuda-runtime-cu12-12.4.127 nvidia-cudnn-cu12-9.1.0.70 nvidia-cufft-cu12-11.2.1.3 nvidia-curand-cu12-10.3.5.147 nvidia-cusolver-cu12-11.6.1.9 nvidia-cusparse-cu12-12.3.1.170 nvidia-nvjitlink-cu12-12.4.127 peptdeep-1.3.1 pyahocorasick-2.1.0 pydeck-0.9.1 pyteomics-4.7.5 python-decouple-3.8 pythonnet-3.0.5 pyzstd-0.16.2 rdkit-2024.3.3 streamlit-1.43.2 streamlit-aggrid-1.1.1 watchdog-6.0.0 xxhash-3.5.0\n"
     ]
    }
   ],
   "source": [
    "!pip install peptdeep"
   ]
  },
  {
   "cell_type": "markdown",
   "metadata": {},
   "source": [
    "# Library import"
   ]
  },
  {
   "cell_type": "code",
   "execution_count": null,
   "metadata": {
    "colab": {
     "base_uri": "https://localhost:8080/"
    },
    "executionInfo": {
     "elapsed": 67555,
     "status": "ok",
     "timestamp": 1742037910686,
     "user": {
      "displayName": "Jimmy Walraff",
      "userId": "17365452855707799727"
     },
     "user_tz": -60
    },
    "id": "OU3cY_KVou5A",
    "outputId": "c041ff93-bb82-4a68-8622-23e999345c4e"
   },
   "outputs": [
    {
     "name": "stdout",
     "output_type": "stream",
     "text": [
      "2025-03-15 11:24:43> Downloading https://github.com/MannLabs/alphapeptdeep/releases/download/pre-trained-models/pretrained_models.zip ...\n",
      "2025-03-15 11:24:43> The pretrained models had been downloaded in /root/peptdeep/pretrained_models/pretrained_models.zip\n",
      "Mounted at /content/drive\n"
     ]
    }
   ],
   "source": [
    "from peptdeep.pretrained_models import ModelManager\n",
    "import pandas as pd\n",
    "import numpy as np\n",
    "import torch\n",
    "import torch.nn as nn\n",
    "from torch.utils.data import Dataset, DataLoader\n",
    "from sklearn.model_selection import train_test_split, StratifiedKFold\n",
    "from sklearn.metrics import accuracy_score, roc_auc_score, average_precision_score, precision_score, recall_score, f1_score\n",
    "from torch.nn.utils.rnn import pad_sequence\n",
    "\n",
    "import sys\n",
    "\n",
    "# from google.colab import drive # delete this line if not used on colab\n",
    "# drive.mount(\"/content/drive\", force_remount = True) # delete this line if not used on colab\n",
    "\n",
    "# sys.path.append(\"C:/Users/Walraff/OneDrive - Universite de Liege/Documents/Ulg/Master2/TFE/\")\n",
    "# sys.path.append(\"/content/drive/MyDrive/TFE/\")\n",
    "import utils\n",
    "\n",
    "import wandb"
   ]
  },
  {
   "cell_type": "code",
   "execution_count": 4,
   "metadata": {
    "colab": {
     "base_uri": "https://localhost:8080/",
     "height": 423
    },
    "executionInfo": {
     "elapsed": 746,
     "status": "ok",
     "timestamp": 1742037915930,
     "user": {
      "displayName": "Jimmy Walraff",
      "userId": "17365452855707799727"
     },
     "user_tz": -60
    },
    "id": "4EUKD1pjou5E",
    "outputId": "5c9a2921-2358-4545-a45b-c53f87c77d90"
   },
   "outputs": [
    {
     "data": {
      "application/vnd.google.colaboratory.intrinsic+json": {
       "summary": "{\n  \"name\": \"original_df\",\n  \"rows\": 155,\n  \"fields\": [\n    {\n      \"column\": \"ProteinName_SPARE\",\n      \"properties\": {\n        \"dtype\": \"category\",\n        \"num_unique_values\": 46,\n        \"samples\": [\n          \"sp|P36955|PEDF_HUMAN\",\n          \"sp|P13671|CO6_HUMAN\",\n          \"sp|P07357|CO8A_HUMAN\"\n        ],\n        \"semantic_type\": \"\",\n        \"description\": \"\"\n      }\n    },\n    {\n      \"column\": \"Peptide_SPARE\",\n      \"properties\": {\n        \"dtype\": \"string\",\n        \"num_unique_values\": 155,\n        \"samples\": [\n          \"ALNHLPLEYNSALYSR\",\n          \"TLLVEAEGIEQEK\",\n          \"CYTAVVPLVYGGETK\"\n        ],\n        \"semantic_type\": \"\",\n        \"description\": \"\"\n      }\n    },\n    {\n      \"column\": \"Status_SPARE\",\n      \"properties\": {\n        \"dtype\": \"category\",\n        \"num_unique_values\": 2,\n        \"samples\": [\n          \"mauvais\",\n          \"bon\"\n        ],\n        \"semantic_type\": \"\",\n        \"description\": \"\"\n      }\n    }\n  ]\n}",
       "type": "dataframe",
       "variable_name": "original_df"
      },
      "text/html": [
       "\n",
       "  <div id=\"df-3ff67ef5-d0aa-46a5-be09-10776413880f\" class=\"colab-df-container\">\n",
       "    <div>\n",
       "<style scoped>\n",
       "    .dataframe tbody tr th:only-of-type {\n",
       "        vertical-align: middle;\n",
       "    }\n",
       "\n",
       "    .dataframe tbody tr th {\n",
       "        vertical-align: top;\n",
       "    }\n",
       "\n",
       "    .dataframe thead th {\n",
       "        text-align: right;\n",
       "    }\n",
       "</style>\n",
       "<table border=\"1\" class=\"dataframe\">\n",
       "  <thead>\n",
       "    <tr style=\"text-align: right;\">\n",
       "      <th></th>\n",
       "      <th>ProteinName_SPARE</th>\n",
       "      <th>Peptide_SPARE</th>\n",
       "      <th>Status_SPARE</th>\n",
       "    </tr>\n",
       "  </thead>\n",
       "  <tbody>\n",
       "    <tr>\n",
       "      <th>0</th>\n",
       "      <td>sp|P02751|FINC_HUMAN</td>\n",
       "      <td>VDVIPVNLPGEHGQR</td>\n",
       "      <td>bon</td>\n",
       "    </tr>\n",
       "    <tr>\n",
       "      <th>1</th>\n",
       "      <td>sp|P02751|FINC_HUMAN</td>\n",
       "      <td>STTPDITGYR</td>\n",
       "      <td>bon</td>\n",
       "    </tr>\n",
       "    <tr>\n",
       "      <th>2</th>\n",
       "      <td>sp|P02751|FINC_HUMAN</td>\n",
       "      <td>SYTITGLQPGTDYK</td>\n",
       "      <td>bon</td>\n",
       "    </tr>\n",
       "    <tr>\n",
       "      <th>3</th>\n",
       "      <td>sp|P02751|FINC_HUMAN</td>\n",
       "      <td>IYLYTLNDNAR</td>\n",
       "      <td>bon</td>\n",
       "    </tr>\n",
       "    <tr>\n",
       "      <th>4</th>\n",
       "      <td>sp|P04114|APOB_HUMAN</td>\n",
       "      <td>TGISPLALIK</td>\n",
       "      <td>bon</td>\n",
       "    </tr>\n",
       "    <tr>\n",
       "      <th>...</th>\n",
       "      <td>...</td>\n",
       "      <td>...</td>\n",
       "      <td>...</td>\n",
       "    </tr>\n",
       "    <tr>\n",
       "      <th>150</th>\n",
       "      <td>sp|P02743|SAMP_HUMAN</td>\n",
       "      <td>VGEYSLYIGR</td>\n",
       "      <td>bon</td>\n",
       "    </tr>\n",
       "    <tr>\n",
       "      <th>151</th>\n",
       "      <td>sp|P04004|VTNC_HUMAN</td>\n",
       "      <td>GQYCYELDEK</td>\n",
       "      <td>mauvais</td>\n",
       "    </tr>\n",
       "    <tr>\n",
       "      <th>152</th>\n",
       "      <td>sp|P04004|VTNC_HUMAN</td>\n",
       "      <td>FEDGVLDPDYPR</td>\n",
       "      <td>bon</td>\n",
       "    </tr>\n",
       "    <tr>\n",
       "      <th>153</th>\n",
       "      <td>sp|P04004|VTNC_HUMAN</td>\n",
       "      <td>DWHGVPGQVDAAMAGR</td>\n",
       "      <td>bon</td>\n",
       "    </tr>\n",
       "    <tr>\n",
       "      <th>154</th>\n",
       "      <td>sp|P04004|VTNC_HUMAN</td>\n",
       "      <td>SIAQYWLGCPAPGHL</td>\n",
       "      <td>bon</td>\n",
       "    </tr>\n",
       "  </tbody>\n",
       "</table>\n",
       "<p>155 rows × 3 columns</p>\n",
       "</div>\n",
       "    <div class=\"colab-df-buttons\">\n",
       "\n",
       "  <div class=\"colab-df-container\">\n",
       "    <button class=\"colab-df-convert\" onclick=\"convertToInteractive('df-3ff67ef5-d0aa-46a5-be09-10776413880f')\"\n",
       "            title=\"Convert this dataframe to an interactive table.\"\n",
       "            style=\"display:none;\">\n",
       "\n",
       "  <svg xmlns=\"http://www.w3.org/2000/svg\" height=\"24px\" viewBox=\"0 -960 960 960\">\n",
       "    <path d=\"M120-120v-720h720v720H120Zm60-500h600v-160H180v160Zm220 220h160v-160H400v160Zm0 220h160v-160H400v160ZM180-400h160v-160H180v160Zm440 0h160v-160H620v160ZM180-180h160v-160H180v160Zm440 0h160v-160H620v160Z\"/>\n",
       "  </svg>\n",
       "    </button>\n",
       "\n",
       "  <style>\n",
       "    .colab-df-container {\n",
       "      display:flex;\n",
       "      gap: 12px;\n",
       "    }\n",
       "\n",
       "    .colab-df-convert {\n",
       "      background-color: #E8F0FE;\n",
       "      border: none;\n",
       "      border-radius: 50%;\n",
       "      cursor: pointer;\n",
       "      display: none;\n",
       "      fill: #1967D2;\n",
       "      height: 32px;\n",
       "      padding: 0 0 0 0;\n",
       "      width: 32px;\n",
       "    }\n",
       "\n",
       "    .colab-df-convert:hover {\n",
       "      background-color: #E2EBFA;\n",
       "      box-shadow: 0px 1px 2px rgba(60, 64, 67, 0.3), 0px 1px 3px 1px rgba(60, 64, 67, 0.15);\n",
       "      fill: #174EA6;\n",
       "    }\n",
       "\n",
       "    .colab-df-buttons div {\n",
       "      margin-bottom: 4px;\n",
       "    }\n",
       "\n",
       "    [theme=dark] .colab-df-convert {\n",
       "      background-color: #3B4455;\n",
       "      fill: #D2E3FC;\n",
       "    }\n",
       "\n",
       "    [theme=dark] .colab-df-convert:hover {\n",
       "      background-color: #434B5C;\n",
       "      box-shadow: 0px 1px 3px 1px rgba(0, 0, 0, 0.15);\n",
       "      filter: drop-shadow(0px 1px 2px rgba(0, 0, 0, 0.3));\n",
       "      fill: #FFFFFF;\n",
       "    }\n",
       "  </style>\n",
       "\n",
       "    <script>\n",
       "      const buttonEl =\n",
       "        document.querySelector('#df-3ff67ef5-d0aa-46a5-be09-10776413880f button.colab-df-convert');\n",
       "      buttonEl.style.display =\n",
       "        google.colab.kernel.accessAllowed ? 'block' : 'none';\n",
       "\n",
       "      async function convertToInteractive(key) {\n",
       "        const element = document.querySelector('#df-3ff67ef5-d0aa-46a5-be09-10776413880f');\n",
       "        const dataTable =\n",
       "          await google.colab.kernel.invokeFunction('convertToInteractive',\n",
       "                                                    [key], {});\n",
       "        if (!dataTable) return;\n",
       "\n",
       "        const docLinkHtml = 'Like what you see? Visit the ' +\n",
       "          '<a target=\"_blank\" href=https://colab.research.google.com/notebooks/data_table.ipynb>data table notebook</a>'\n",
       "          + ' to learn more about interactive tables.';\n",
       "        element.innerHTML = '';\n",
       "        dataTable['output_type'] = 'display_data';\n",
       "        await google.colab.output.renderOutput(dataTable, element);\n",
       "        const docLink = document.createElement('div');\n",
       "        docLink.innerHTML = docLinkHtml;\n",
       "        element.appendChild(docLink);\n",
       "      }\n",
       "    </script>\n",
       "  </div>\n",
       "\n",
       "\n",
       "<div id=\"df-56d44a3b-a31f-4ed9-9950-5bf3653d6c7d\">\n",
       "  <button class=\"colab-df-quickchart\" onclick=\"quickchart('df-56d44a3b-a31f-4ed9-9950-5bf3653d6c7d')\"\n",
       "            title=\"Suggest charts\"\n",
       "            style=\"display:none;\">\n",
       "\n",
       "<svg xmlns=\"http://www.w3.org/2000/svg\" height=\"24px\"viewBox=\"0 0 24 24\"\n",
       "     width=\"24px\">\n",
       "    <g>\n",
       "        <path d=\"M19 3H5c-1.1 0-2 .9-2 2v14c0 1.1.9 2 2 2h14c1.1 0 2-.9 2-2V5c0-1.1-.9-2-2-2zM9 17H7v-7h2v7zm4 0h-2V7h2v10zm4 0h-2v-4h2v4z\"/>\n",
       "    </g>\n",
       "</svg>\n",
       "  </button>\n",
       "\n",
       "<style>\n",
       "  .colab-df-quickchart {\n",
       "      --bg-color: #E8F0FE;\n",
       "      --fill-color: #1967D2;\n",
       "      --hover-bg-color: #E2EBFA;\n",
       "      --hover-fill-color: #174EA6;\n",
       "      --disabled-fill-color: #AAA;\n",
       "      --disabled-bg-color: #DDD;\n",
       "  }\n",
       "\n",
       "  [theme=dark] .colab-df-quickchart {\n",
       "      --bg-color: #3B4455;\n",
       "      --fill-color: #D2E3FC;\n",
       "      --hover-bg-color: #434B5C;\n",
       "      --hover-fill-color: #FFFFFF;\n",
       "      --disabled-bg-color: #3B4455;\n",
       "      --disabled-fill-color: #666;\n",
       "  }\n",
       "\n",
       "  .colab-df-quickchart {\n",
       "    background-color: var(--bg-color);\n",
       "    border: none;\n",
       "    border-radius: 50%;\n",
       "    cursor: pointer;\n",
       "    display: none;\n",
       "    fill: var(--fill-color);\n",
       "    height: 32px;\n",
       "    padding: 0;\n",
       "    width: 32px;\n",
       "  }\n",
       "\n",
       "  .colab-df-quickchart:hover {\n",
       "    background-color: var(--hover-bg-color);\n",
       "    box-shadow: 0 1px 2px rgba(60, 64, 67, 0.3), 0 1px 3px 1px rgba(60, 64, 67, 0.15);\n",
       "    fill: var(--button-hover-fill-color);\n",
       "  }\n",
       "\n",
       "  .colab-df-quickchart-complete:disabled,\n",
       "  .colab-df-quickchart-complete:disabled:hover {\n",
       "    background-color: var(--disabled-bg-color);\n",
       "    fill: var(--disabled-fill-color);\n",
       "    box-shadow: none;\n",
       "  }\n",
       "\n",
       "  .colab-df-spinner {\n",
       "    border: 2px solid var(--fill-color);\n",
       "    border-color: transparent;\n",
       "    border-bottom-color: var(--fill-color);\n",
       "    animation:\n",
       "      spin 1s steps(1) infinite;\n",
       "  }\n",
       "\n",
       "  @keyframes spin {\n",
       "    0% {\n",
       "      border-color: transparent;\n",
       "      border-bottom-color: var(--fill-color);\n",
       "      border-left-color: var(--fill-color);\n",
       "    }\n",
       "    20% {\n",
       "      border-color: transparent;\n",
       "      border-left-color: var(--fill-color);\n",
       "      border-top-color: var(--fill-color);\n",
       "    }\n",
       "    30% {\n",
       "      border-color: transparent;\n",
       "      border-left-color: var(--fill-color);\n",
       "      border-top-color: var(--fill-color);\n",
       "      border-right-color: var(--fill-color);\n",
       "    }\n",
       "    40% {\n",
       "      border-color: transparent;\n",
       "      border-right-color: var(--fill-color);\n",
       "      border-top-color: var(--fill-color);\n",
       "    }\n",
       "    60% {\n",
       "      border-color: transparent;\n",
       "      border-right-color: var(--fill-color);\n",
       "    }\n",
       "    80% {\n",
       "      border-color: transparent;\n",
       "      border-right-color: var(--fill-color);\n",
       "      border-bottom-color: var(--fill-color);\n",
       "    }\n",
       "    90% {\n",
       "      border-color: transparent;\n",
       "      border-bottom-color: var(--fill-color);\n",
       "    }\n",
       "  }\n",
       "</style>\n",
       "\n",
       "  <script>\n",
       "    async function quickchart(key) {\n",
       "      const quickchartButtonEl =\n",
       "        document.querySelector('#' + key + ' button');\n",
       "      quickchartButtonEl.disabled = true;  // To prevent multiple clicks.\n",
       "      quickchartButtonEl.classList.add('colab-df-spinner');\n",
       "      try {\n",
       "        const charts = await google.colab.kernel.invokeFunction(\n",
       "            'suggestCharts', [key], {});\n",
       "      } catch (error) {\n",
       "        console.error('Error during call to suggestCharts:', error);\n",
       "      }\n",
       "      quickchartButtonEl.classList.remove('colab-df-spinner');\n",
       "      quickchartButtonEl.classList.add('colab-df-quickchart-complete');\n",
       "    }\n",
       "    (() => {\n",
       "      let quickchartButtonEl =\n",
       "        document.querySelector('#df-56d44a3b-a31f-4ed9-9950-5bf3653d6c7d button');\n",
       "      quickchartButtonEl.style.display =\n",
       "        google.colab.kernel.accessAllowed ? 'block' : 'none';\n",
       "    })();\n",
       "  </script>\n",
       "</div>\n",
       "\n",
       "  <div id=\"id_7034867b-5f6c-4150-b705-bfb680fe5267\">\n",
       "    <style>\n",
       "      .colab-df-generate {\n",
       "        background-color: #E8F0FE;\n",
       "        border: none;\n",
       "        border-radius: 50%;\n",
       "        cursor: pointer;\n",
       "        display: none;\n",
       "        fill: #1967D2;\n",
       "        height: 32px;\n",
       "        padding: 0 0 0 0;\n",
       "        width: 32px;\n",
       "      }\n",
       "\n",
       "      .colab-df-generate:hover {\n",
       "        background-color: #E2EBFA;\n",
       "        box-shadow: 0px 1px 2px rgba(60, 64, 67, 0.3), 0px 1px 3px 1px rgba(60, 64, 67, 0.15);\n",
       "        fill: #174EA6;\n",
       "      }\n",
       "\n",
       "      [theme=dark] .colab-df-generate {\n",
       "        background-color: #3B4455;\n",
       "        fill: #D2E3FC;\n",
       "      }\n",
       "\n",
       "      [theme=dark] .colab-df-generate:hover {\n",
       "        background-color: #434B5C;\n",
       "        box-shadow: 0px 1px 3px 1px rgba(0, 0, 0, 0.15);\n",
       "        filter: drop-shadow(0px 1px 2px rgba(0, 0, 0, 0.3));\n",
       "        fill: #FFFFFF;\n",
       "      }\n",
       "    </style>\n",
       "    <button class=\"colab-df-generate\" onclick=\"generateWithVariable('original_df')\"\n",
       "            title=\"Generate code using this dataframe.\"\n",
       "            style=\"display:none;\">\n",
       "\n",
       "  <svg xmlns=\"http://www.w3.org/2000/svg\" height=\"24px\"viewBox=\"0 0 24 24\"\n",
       "       width=\"24px\">\n",
       "    <path d=\"M7,19H8.4L18.45,9,17,7.55,7,17.6ZM5,21V16.75L18.45,3.32a2,2,0,0,1,2.83,0l1.4,1.43a1.91,1.91,0,0,1,.58,1.4,1.91,1.91,0,0,1-.58,1.4L9.25,21ZM18.45,9,17,7.55Zm-12,3A5.31,5.31,0,0,0,4.9,8.1,5.31,5.31,0,0,0,1,6.5,5.31,5.31,0,0,0,4.9,4.9,5.31,5.31,0,0,0,6.5,1,5.31,5.31,0,0,0,8.1,4.9,5.31,5.31,0,0,0,12,6.5,5.46,5.46,0,0,0,6.5,12Z\"/>\n",
       "  </svg>\n",
       "    </button>\n",
       "    <script>\n",
       "      (() => {\n",
       "      const buttonEl =\n",
       "        document.querySelector('#id_7034867b-5f6c-4150-b705-bfb680fe5267 button.colab-df-generate');\n",
       "      buttonEl.style.display =\n",
       "        google.colab.kernel.accessAllowed ? 'block' : 'none';\n",
       "\n",
       "      buttonEl.onclick = () => {\n",
       "        google.colab.notebook.generateWithVariable('original_df');\n",
       "      }\n",
       "      })();\n",
       "    </script>\n",
       "  </div>\n",
       "\n",
       "    </div>\n",
       "  </div>\n"
      ],
      "text/plain": [
       "        ProteinName_SPARE     Peptide_SPARE Status_SPARE\n",
       "0    sp|P02751|FINC_HUMAN   VDVIPVNLPGEHGQR          bon\n",
       "1    sp|P02751|FINC_HUMAN        STTPDITGYR          bon\n",
       "2    sp|P02751|FINC_HUMAN    SYTITGLQPGTDYK          bon\n",
       "3    sp|P02751|FINC_HUMAN       IYLYTLNDNAR          bon\n",
       "4    sp|P04114|APOB_HUMAN        TGISPLALIK          bon\n",
       "..                    ...               ...          ...\n",
       "150  sp|P02743|SAMP_HUMAN        VGEYSLYIGR          bon\n",
       "151  sp|P04004|VTNC_HUMAN        GQYCYELDEK      mauvais\n",
       "152  sp|P04004|VTNC_HUMAN      FEDGVLDPDYPR          bon\n",
       "153  sp|P04004|VTNC_HUMAN  DWHGVPGQVDAAMAGR          bon\n",
       "154  sp|P04004|VTNC_HUMAN   SIAQYWLGCPAPGHL          bon\n",
       "\n",
       "[155 rows x 3 columns]"
      ]
     },
     "execution_count": 4,
     "metadata": {},
     "output_type": "execute_result"
    }
   ],
   "source": [
    "# data_path = \"C:/Users/Walraff/OneDrive - Universite de Liege/Documents/Ulg/Master2/TFE/data\"\n",
    "data_path = \"/content/drive/MyDrive/TFE/\"\n",
    "original_df = pd.read_csv(f'{data_path}/final_status_SPARE.csv')\n",
    "original_df"
   ]
  },
  {
   "cell_type": "markdown",
   "metadata": {},
   "source": [
    "# Dataset, model and loading data"
   ]
  },
  {
   "cell_type": "code",
   "execution_count": null,
   "metadata": {
    "colab": {
     "base_uri": "https://localhost:8080/"
    },
    "executionInfo": {
     "elapsed": 23,
     "status": "ok",
     "timestamp": 1742037915957,
     "user": {
      "displayName": "Jimmy Walraff",
      "userId": "17365452855707799727"
     },
     "user_tz": -60
    },
    "id": "Asvi56qzou5F",
    "outputId": "8b618efb-9657-4a84-fd88-0a8512c667f2"
   },
   "outputs": [
    {
     "name": "stdout",
     "output_type": "stream",
     "text": [
      "Class counts:\n",
      " quantotypic\n",
      "0    117\n",
      "1     38\n",
      "Name: count, dtype: int64\n",
      "Pos weight (for class 1): tensor(3.0789, dtype=torch.float64)\n"
     ]
    }
   ],
   "source": [
    "# Creating a dataframe with the sequences and labels\n",
    "df = pd.DataFrame()\n",
    "df[\"sequence\"] = original_df[\"Peptide_SPARE\"]\n",
    "# column required for RT model\n",
    "df[\"mods\"] = ''\n",
    "df[\"mod_sites\"] = ''\n",
    "df[\"nAA\"] = df[\"sequence\"].str.len()\n",
    "df[\"quantotypic\"] = original_df.apply(lambda row: 0 if row['Status_SPARE'] == 'bon' else 1, axis=1)\n",
    "\n",
    "class_counts = df['quantotypic'].value_counts()\n",
    "num_pos = class_counts.get(1, 0)  # Nombre d'échantillons de la classe 1\n",
    "num_neg = class_counts.get(0, 0)  # Nombre d'échantillons de la classe 0\n",
    "\n",
    "pos_weight = torch.tensor(num_neg / num_pos, dtype=torch.float64)\n",
    "\n",
    "# Affichage des résultats\n",
    "print(\"Class counts:\\n\", class_counts)\n",
    "print(\"Pos weight (for class 1):\", pos_weight)"
   ]
  },
  {
   "cell_type": "code",
   "execution_count": null,
   "metadata": {
    "executionInfo": {
     "elapsed": 8,
     "status": "ok",
     "timestamp": 1742037915969,
     "user": {
      "displayName": "Jimmy Walraff",
      "userId": "17365452855707799727"
     },
     "user_tz": -60
    },
    "id": "KxhpC0S9ou5G"
   },
   "outputs": [],
   "source": [
    "class RTPeptideDataset(Dataset):\n",
    "    \"\"\"\n",
    "    Custom Dataset for RT models using amino acid indices and modification features.\n",
    "\n",
    "    Args:\n",
    "        aa_indices (torch.Tensor or list): Encoded amino acid sequences (e.g., integer indices).\n",
    "        mod_x (torch.Tensor or list): Additional input features (e.g., modifications or physicochemical properties).\n",
    "        labels (torch.Tensor or list): Corresponding labels for each sample.\n",
    "    \"\"\"\n",
    "    def __init__(self, aa_indices, mod_x, labels):\n",
    "        self.aa_indices = aa_indices\n",
    "        self.mod_x = mod_x\n",
    "        self.labels = labels\n",
    "\n",
    "    def __len__(self):\n",
    "        return len(self.labels)\n",
    "\n",
    "    def __getitem__(self, idx):\n",
    "        return self.aa_indices[idx], self.mod_x[idx], self.labels[idx]\n"
   ]
  },
  {
   "cell_type": "code",
   "execution_count": null,
   "metadata": {
    "executionInfo": {
     "elapsed": 69,
     "status": "ok",
     "timestamp": 1742037916043,
     "user": {
      "displayName": "Jimmy Walraff",
      "userId": "17365452855707799727"
     },
     "user_tz": -60
    },
    "id": "BkQibC6Gou5G"
   },
   "outputs": [],
   "source": [
    "class RTPeptideModel(nn.Module):\n",
    "    \"\"\"\n",
    "    Model using RT encoder and MLP classifier.\n",
    "\n",
    "    Args:\n",
    "        encoder (nn.Module): Encoder module that takes (aa_indices, mod_x) as input and returns a feature vector.\n",
    "        hidden_dim (int): Dimension of the first hidden layer in the classifier.\n",
    "        dropout_prob (float): Dropout probability used after each hidden layer.\n",
    "        num_layers (int): Number of hidden layers before the final output layer.\n",
    "    \"\"\"\n",
    "    def __init__(self, encoder, hidden_dim, dropout_prob, num_layers):\n",
    "        super(RTPeptideModel, self).__init__()\n",
    "        self.encoder = encoder  # Encoder module used to process inputs\n",
    "\n",
    "        layers = []\n",
    "        input_dim = 256  # output dimension of encoder\n",
    "        for _ in range(num_layers):\n",
    "            layers.append(nn.Linear(input_dim, hidden_dim))\n",
    "            layers.append(nn.ReLU())\n",
    "            layers.append(nn.Dropout(dropout_prob))\n",
    "            input_dim = hidden_dim\n",
    "            hidden_dim = max(hidden_dim // 2, 1)  # Gradually reduce dimensionality\n",
    "\n",
    "        layers.append(nn.Linear(input_dim, 1))  # Final output layer for binary classification\n",
    "        self.classifier = nn.Sequential(*layers)\n",
    "\n",
    "    def forward(self, aa_indices, mod_x):\n",
    "        X = self.encoder(aa_indices, mod_x)\n",
    "        X = self.classifier(X)\n",
    "        return X\n"
   ]
  },
  {
   "cell_type": "code",
   "execution_count": 8,
   "metadata": {
    "executionInfo": {
     "elapsed": 5371,
     "status": "ok",
     "timestamp": 1742037921425,
     "user": {
      "displayName": "Jimmy Walraff",
      "userId": "17365452855707799727"
     },
     "user_tz": -60
    },
    "id": "svAemWSrou5H"
   },
   "outputs": [],
   "source": [
    "model_mgr = ModelManager()\n",
    "model_mgr.load_installed_models()\n",
    "pretrained_model = model_mgr.rt_model"
   ]
  },
  {
   "cell_type": "markdown",
   "metadata": {},
   "source": [
    "# Functions"
   ]
  },
  {
   "cell_type": "code",
   "execution_count": null,
   "metadata": {
    "executionInfo": {
     "elapsed": 15,
     "status": "ok",
     "timestamp": 1742037921433,
     "user": {
      "displayName": "Jimmy Walraff",
      "userId": "17365452855707799727"
     },
     "user_tz": -60
    },
    "id": "OQz7fCxyou5H"
   },
   "outputs": [],
   "source": [
    "def precompute_features(df, pretrained_model, model_name='CCS'):\n",
    "    \"\"\"\n",
    "    Precomputes peptide features (`aa_indices`, `mod_x`, and `labels`) to accelerate training.\n",
    "\n",
    "    Args:\n",
    "        df (pd.DataFrame): DataFrame containing peptide sequences and labels.\n",
    "        pretrained_model (nn.Module): Pretrained model with methods to extract amino acid and modification features.\n",
    "        model_name (str, optional): Identifier for model-specific preprocessing logic (e.g., 'CCS', 'RT').\n",
    "\n",
    "    Returns:\n",
    "        tuple: Three lists:\n",
    "            - aa_indices_list (list of torch.Tensor): Encoded amino acid index features.\n",
    "            - mod_x_list (list of torch.Tensor): Additional modification features.\n",
    "            - labels_list (list of torch.Tensor): Corresponding labels as float tensors.\n",
    "    \"\"\"\n",
    "    aa_indices_list = []\n",
    "    mod_x_list = []\n",
    "    labels_list = []\n",
    "\n",
    "    for _, row in df.iterrows():\n",
    "        sequence = row[\"sequence\"]\n",
    "        label = row[\"quantotypic\"]\n",
    "\n",
    "        # Build temporary DataFrame for encoder compatibility\n",
    "        row_df = pd.DataFrame({\"sequence\": [sequence]})\n",
    "        row_df[\"nAA\"] = row_df[\"sequence\"].str.len()\n",
    "        row_df[\"mod_sites\"] = \"\"\n",
    "        row_df[\"mods\"] = \"\"\n",
    "\n",
    "        if model_name == 'CCS':\n",
    "            row_df[\"charge\"] = 0  # Required for CCS input\n",
    "\n",
    "        # Extract features using the pretrained model\n",
    "        aa_indices = pretrained_model._get_26aa_indice_features(row_df).squeeze(0)\n",
    "        mod_x = pretrained_model._get_mod_features(row_df).squeeze(0)\n",
    "\n",
    "        # Store computed features\n",
    "        aa_indices_list.append(aa_indices)\n",
    "        mod_x_list.append(mod_x)\n",
    "        labels_list.append(torch.tensor(label, dtype=torch.float32))\n",
    "\n",
    "    return aa_indices_list, mod_x_list, labels_list"
   ]
  },
  {
   "cell_type": "code",
   "execution_count": null,
   "metadata": {
    "executionInfo": {
     "elapsed": 8,
     "status": "ok",
     "timestamp": 1742037921446,
     "user": {
      "displayName": "Jimmy Walraff",
      "userId": "17365452855707799727"
     },
     "user_tz": -60
    },
    "id": "EPYqxcPGou5I"
   },
   "outputs": [],
   "source": [
    "def collate_batch(batch):\n",
    "    \"\"\"\n",
    "    Custom collate function to dynamically pad amino acid and modification feature sequences.\n",
    "    \n",
    "    Args:\n",
    "        batch (list of tuples): Each element is a tuple (aa_indices, mod_x, y).\n",
    "\n",
    "    Returns:\n",
    "        tuple:\n",
    "            - aa_indices_padded (torch.Tensor): Padded tensor of amino acid index sequences (batch_size, max_len).\n",
    "            - mod_x_padded (torch.Tensor): Padded tensor of modification features (batch_size, max_len, feature_dim).\n",
    "            - y_tensor (torch.Tensor): Tensor of labels (batch_size,).\n",
    "    \"\"\"\n",
    "    aa_indices_list, mod_x_list, y_list = zip(*batch)\n",
    "\n",
    "    # Pad variable-length amino acid index sequences\n",
    "    aa_indices_padded = pad_sequence(aa_indices_list, batch_first=True, padding_value=0)\n",
    "\n",
    "    # Pad variable-length modification feature vectors\n",
    "    mod_x_padded = pad_sequence(mod_x_list, batch_first=True, padding_value=0)\n",
    "\n",
    "    # Convert labels to tensor\n",
    "    y_tensor = torch.tensor(y_list, dtype=torch.float32)\n",
    "\n",
    "    return aa_indices_padded, mod_x_padded, y_tensor\n"
   ]
  },
  {
   "cell_type": "code",
   "execution_count": null,
   "metadata": {
    "colab": {
     "base_uri": "https://localhost:8080/"
    },
    "executionInfo": {
     "elapsed": 3105,
     "status": "ok",
     "timestamp": 1742037924556,
     "user": {
      "displayName": "Jimmy Walraff",
      "userId": "17365452855707799727"
     },
     "user_tz": -60
    },
    "id": "Z5TyMxBpou5I",
    "outputId": "cda89ac0-2265-4c5f-9c51-b43334aba191"
   },
   "outputs": [
    {
     "name": "stdout",
     "output_type": "stream",
     "text": [
      "tensor([[ 0, 22, 22, 12,  8, 16, 14, 25,  8, 17, 22,  4,  9,  7, 12,  9, 11,  0,\n",
      "          0,  0,  0,  0,  0],\n",
      "        [ 0, 25,  5,  9, 20, 20,  9,  8, 14, 12,  6, 18,  0,  0,  0,  0,  0,  0,\n",
      "          0,  0,  0,  0,  0],\n",
      "        [ 0, 17,  6, 16,  9, 12, 12,  4,  6, 11,  0,  0,  0,  0,  0,  0,  0,  0,\n",
      "          0,  0,  0,  0,  0],\n",
      "        [ 0,  4, 23,  8,  7, 22, 16,  7, 17, 22,  4,  1,  1, 13,  1,  7, 18,  0,\n",
      "          0,  0,  0,  0,  0],\n",
      "        [ 0,  4, 14,  5, 12, 12, 22, 25, 11,  0,  0,  0,  0,  0,  0,  0,  0,  0,\n",
      "          0,  0,  0,  0,  0],\n",
      "        [ 0, 12, 19, 16,  9, 25, 14, 12, 22, 16, 22, 11,  0,  0,  0,  0,  0,  0,\n",
      "          0,  0,  0,  0,  0],\n",
      "        [ 0, 20, 12, 12, 22,  5,  1,  5,  7,  9,  5, 17,  5, 11,  0,  0,  0,  0,\n",
      "          0,  0,  0,  0,  0],\n",
      "        [ 0,  7, 25, 19,  9,  6, 19, 25,  1, 20, 11,  0,  0,  0,  0,  0,  0,  0,\n",
      "          0,  0,  0,  0,  0],\n",
      "        [ 0, 17, 25, 25,  5,  7, 19,  5,  9, 22, 22,  1,  7, 18,  0,  0,  0,  0,\n",
      "          0,  0,  0,  0,  0],\n",
      "        [ 0, 12, 16, 12, 22, 16,  1, 12,  4,  7,  3, 12, 18,  0,  0,  0,  0,  0,\n",
      "          0,  0,  0,  0,  0],\n",
      "        [ 0,  1, 25, 19, 12,  6, 19, 25, 14, 20, 17,  7, 18,  0,  0,  0,  0,  0,\n",
      "          0,  0,  0,  0,  0],\n",
      "        [ 0,  1, 13,  1, 22,  5,  4,  9,  9, 19, 18,  0,  0,  0,  0,  0,  0,  0,\n",
      "          0,  0,  0,  0,  0],\n",
      "        [ 0,  1, 20,  6,  7,  3,  8,  4,  7, 25, 19, 12,  4,  7, 16,  5,  5,  9,\n",
      "          5,  3, 20, 11,  0],\n",
      "        [ 0, 22,  7, 25, 22, 19,  7, 23,  7, 18,  0,  0,  0,  0,  0,  0,  0,  0,\n",
      "          0,  0,  0,  0,  0],\n",
      "        [ 0, 14, 25, 14, 12, 22,  5, 19, 12, 11,  0,  0,  0,  0,  0,  0,  0,  0,\n",
      "          0,  0,  0,  0,  0],\n",
      "        [ 0, 19, 12,  6, 20,  4, 12, 22,  1,  5, 11,  0,  0,  0,  0,  0,  0,  0,\n",
      "          0,  0,  0,  0,  0],\n",
      "        [ 0, 20,  7, 12, 17,  5, 22,  5, 22, 11,  0,  0,  0,  0,  0,  0,  0,  0,\n",
      "          0,  0,  0,  0,  0],\n",
      "        [ 0, 12,  4,  7,  9,  3, 23, 17, 22, 18,  0,  0,  0,  0,  0,  0,  0,  0,\n",
      "          0,  0,  0,  0,  0],\n",
      "        [ 0, 23,  1,  4, 12, 19,  7,  9, 20, 11,  0,  0,  0,  0,  0,  0,  0,  0,\n",
      "          0,  0,  0,  0,  0],\n",
      "        [ 0,  4,  6,  1, 12, 17, 14, 16, 19,  1, 22, 16, 18,  0,  0,  0,  0,  0,\n",
      "          0,  0,  0,  0,  0],\n",
      "        [ 0,  1,  7,  7, 19, 23,  4, 12,  1, 22, 17,  5, 18,  0,  0,  0,  0,  0,\n",
      "          0,  0,  0,  0,  0],\n",
      "        [ 0,  5,  1, 17, 12, 16, 22,  9,  5, 14, 11,  0,  0,  0,  0,  0,  0,  0,\n",
      "          0,  0,  0,  0,  0],\n",
      "        [ 0, 19,  1, 12, 22, 12, 17, 25, 12, 18,  0,  0,  0,  0,  0,  0,  0,  0,\n",
      "          0,  0,  0,  0,  0],\n",
      "        [ 0,  6, 17,  1, 19, 22,  1, 20, 16, 18,  0,  0,  0,  0,  0,  0,  0,  0,\n",
      "          0,  0,  0,  0,  0],\n",
      "        [ 0, 19, 25, 20,  9, 20,  7, 12, 17, 16,  7, 20,  4, 25, 11,  0,  0,  0,\n",
      "          0,  0,  0,  0,  0],\n",
      "        [ 0,  5, 12,  4,  5, 19, 12, 17, 22,  1,  5, 18,  0,  0,  0,  0,  0,  0,\n",
      "          0,  0,  0,  0,  0],\n",
      "        [ 0, 22,  7, 25, 22, 19,  7, 23,  7, 17, 19,  4, 14,  6, 11,  0,  0,  0,\n",
      "          0,  0,  0,  0,  0],\n",
      "        [ 0,  5, 19, 12, 19, 19, 25, 23,  5, 19,  1, 11,  0,  0,  0,  0,  0,  0,\n",
      "          0,  0,  0,  0,  0],\n",
      "        [ 0, 19, 12, 16, 22, 19,  4, 19, 22, 12, 19,  7,  6,  5, 17, 18,  0,  0,\n",
      "          0,  0,  0,  0,  0],\n",
      "        [ 0, 19, 20, 20, 16,  4,  9, 20,  7, 25, 18,  0,  0,  0,  0,  0,  0,  0,\n",
      "          0,  0,  0,  0,  0],\n",
      "        [ 0,  1, 12, 12,  1,  6, 17,  5, 19, 11,  0,  0,  0,  0,  0,  0,  0,  0,\n",
      "          0,  0,  0,  0,  0],\n",
      "        [ 0, 22,  4,  1,  6,  3,  7,  7, 19,  9, 22, 14,  5, 11,  0,  0,  0,  0,\n",
      "          0,  0,  0,  0,  0]], device='cuda:0')\n",
      "tensor([[[0., 0., 0.,  ..., 0., 0., 0.],\n",
      "         [0., 0., 0.,  ..., 0., 0., 0.],\n",
      "         [0., 0., 0.,  ..., 0., 0., 0.],\n",
      "         ...,\n",
      "         [0., 0., 0.,  ..., 0., 0., 0.],\n",
      "         [0., 0., 0.,  ..., 0., 0., 0.],\n",
      "         [0., 0., 0.,  ..., 0., 0., 0.]],\n",
      "\n",
      "        [[0., 0., 0.,  ..., 0., 0., 0.],\n",
      "         [0., 0., 0.,  ..., 0., 0., 0.],\n",
      "         [0., 0., 0.,  ..., 0., 0., 0.],\n",
      "         ...,\n",
      "         [0., 0., 0.,  ..., 0., 0., 0.],\n",
      "         [0., 0., 0.,  ..., 0., 0., 0.],\n",
      "         [0., 0., 0.,  ..., 0., 0., 0.]],\n",
      "\n",
      "        [[0., 0., 0.,  ..., 0., 0., 0.],\n",
      "         [0., 0., 0.,  ..., 0., 0., 0.],\n",
      "         [0., 0., 0.,  ..., 0., 0., 0.],\n",
      "         ...,\n",
      "         [0., 0., 0.,  ..., 0., 0., 0.],\n",
      "         [0., 0., 0.,  ..., 0., 0., 0.],\n",
      "         [0., 0., 0.,  ..., 0., 0., 0.]],\n",
      "\n",
      "        ...,\n",
      "\n",
      "        [[0., 0., 0.,  ..., 0., 0., 0.],\n",
      "         [0., 0., 0.,  ..., 0., 0., 0.],\n",
      "         [0., 0., 0.,  ..., 0., 0., 0.],\n",
      "         ...,\n",
      "         [0., 0., 0.,  ..., 0., 0., 0.],\n",
      "         [0., 0., 0.,  ..., 0., 0., 0.],\n",
      "         [0., 0., 0.,  ..., 0., 0., 0.]],\n",
      "\n",
      "        [[0., 0., 0.,  ..., 0., 0., 0.],\n",
      "         [0., 0., 0.,  ..., 0., 0., 0.],\n",
      "         [0., 0., 0.,  ..., 0., 0., 0.],\n",
      "         ...,\n",
      "         [0., 0., 0.,  ..., 0., 0., 0.],\n",
      "         [0., 0., 0.,  ..., 0., 0., 0.],\n",
      "         [0., 0., 0.,  ..., 0., 0., 0.]],\n",
      "\n",
      "        [[0., 0., 0.,  ..., 0., 0., 0.],\n",
      "         [0., 0., 0.,  ..., 0., 0., 0.],\n",
      "         [0., 0., 0.,  ..., 0., 0., 0.],\n",
      "         ...,\n",
      "         [0., 0., 0.,  ..., 0., 0., 0.],\n",
      "         [0., 0., 0.,  ..., 0., 0., 0.],\n",
      "         [0., 0., 0.,  ..., 0., 0., 0.]]], device='cuda:0')\n",
      "tensor([0., 0., 0., 0., 0., 0., 0., 0., 0., 0., 0., 0., 0., 0., 0., 0., 0., 0.,\n",
      "        0., 0., 0., 0., 1., 0., 0., 1., 0., 0., 0., 0., 0., 0.],\n",
      "       device='cuda:0')\n",
      "tensor([[-0.1366],\n",
      "        [-0.1076],\n",
      "        [-0.1533],\n",
      "        [-0.1196],\n",
      "        [-0.1151],\n",
      "        [-0.1191],\n",
      "        [-0.1513],\n",
      "        [-0.0892],\n",
      "        [-0.1042],\n",
      "        [-0.1161],\n",
      "        [-0.1529],\n",
      "        [-0.1035],\n",
      "        [-0.1352],\n",
      "        [-0.0918],\n",
      "        [-0.1808],\n",
      "        [-0.0868],\n",
      "        [-0.0985],\n",
      "        [-0.1067],\n",
      "        [-0.1337],\n",
      "        [-0.1336],\n",
      "        [-0.1393],\n",
      "        [-0.0795],\n",
      "        [-0.0773],\n",
      "        [-0.1224],\n",
      "        [-0.1172],\n",
      "        [-0.1398],\n",
      "        [-0.0933],\n",
      "        [-0.1360],\n",
      "        [-0.0829],\n",
      "        [-0.1514],\n",
      "        [-0.1543],\n",
      "        [-0.1240]], device='cuda:0', grad_fn=<AddmmBackward0>)\n"
     ]
    }
   ],
   "source": [
    "# Initialize the model with the pretrained encoder\n",
    "model = RTPeptideModel(pretrained_model.model.rt_encoder, hidden_dim=128, dropout_prob=0.5, num_layers=2)\n",
    "\n",
    "# Select the device (GPU if available, otherwise CPU)\n",
    "device = torch.device(\"cuda\" if torch.cuda.is_available() else \"cpu\")\n",
    "\n",
    "# Move the model and encoder to the selected device\n",
    "model.to(device)\n",
    "model.encoder.to(device)\n",
    "\n",
    "# Precompute features for all peptides in the dataset\n",
    "aa_indices_list, mod_x_list, labels_list = precompute_features(df, pretrained_model, model_name='RT')\n",
    "\n",
    "# Create the dataset using precomputed features\n",
    "dataset = RTPeptideDataset(aa_indices_list, mod_x_list, labels_list)\n",
    "\n",
    "# Create the DataLoader with custom collate function for padding\n",
    "train_loader = DataLoader(dataset, batch_size=32, shuffle=True, collate_fn=collate_batch)\n",
    "\n",
    "# Example training loop iteration\n",
    "for batch in train_loader:\n",
    "    aa_idx, mod_x, y = batch\n",
    "\n",
    "    # Move batch data to the selected device\n",
    "    aa_idx, mod_x, y = aa_idx.to(device), mod_x.to(device), y.to(device)\n",
    "\n",
    "    print(aa_idx)\n",
    "    print(mod_x)\n",
    "    print(y)\n",
    "    print(model(aa_idx, mod_x))\n",
    "    break\n"
   ]
  },
  {
   "cell_type": "code",
   "execution_count": null,
   "metadata": {
    "executionInfo": {
     "elapsed": 12,
     "status": "ok",
     "timestamp": 1742037924572,
     "user": {
      "displayName": "Jimmy Walraff",
      "userId": "17365452855707799727"
     },
     "user_tz": -60
    },
    "id": "9qLjCLvXou5I"
   },
   "outputs": [],
   "source": [
    "def early_stopping(val_losses, patience):\n",
    "    \"\"\"\n",
    "    Checks if the last 'patience' validation losses have increased or remained the same.\n",
    "\n",
    "    Args:\n",
    "        val_losses (list): List of validation losses.\n",
    "        patience (int): Number of consecutive epochs to check for lack of improvement.\n",
    "\n",
    "    Returns:\n",
    "        bool: True if the last 'patience' losses show no improvement, otherwise False.\n",
    "    \"\"\"\n",
    "    # Not enough values to apply the early stopping criterion\n",
    "    if len(val_losses) < patience + 1:\n",
    "        return False\n",
    "\n",
    "    # Check if each of the last 'patience' losses is greater than or equal to the previous one\n",
    "    for i in range(-patience, -1):\n",
    "        if val_losses[i] < val_losses[i + 1]:\n",
    "            continue\n",
    "        else:\n",
    "            return False\n",
    "\n",
    "    return True"
   ]
  },
  {
   "cell_type": "code",
   "execution_count": null,
   "metadata": {
    "executionInfo": {
     "elapsed": 9,
     "status": "ok",
     "timestamp": 1742037924595,
     "user": {
      "displayName": "Jimmy Walraff",
      "userId": "17365452855707799727"
     },
     "user_tz": -60
    },
    "id": "FaJT_eT_ou5J"
   },
   "outputs": [],
   "source": [
    "def reordering(data, labels, batch_converter, device):\n",
    "    \"\"\"\n",
    "    Prepares and converts a batch of sequence data and labels for ESM-2 model input.\n",
    "\n",
    "    Args:\n",
    "        data (tuple): Tuple containing two lists (e.g., sequence names and sequences).\n",
    "        labels (torch.Tensor): Tensor of labels associated with each sequence.\n",
    "        batch_converter (callable): Function to convert (name, sequence) pairs into tokenized format.\n",
    "        device (torch.device): Device to move the tensors to (e.g., 'cuda' or 'cpu').\n",
    "\n",
    "    Returns:\n",
    "        tuple:\n",
    "            - batch_tokens (torch.Tensor): Tensor of tokenized sequences.\n",
    "            - batch_labels (torch.Tensor): Tensor of corresponding labels (shape: [batch_size]).\n",
    "    \"\"\"\n",
    "    # Reformat data into a list of (name, sequence) tuples\n",
    "    ReArrangeData = []\n",
    "    for i in range(len(data[0])):\n",
    "        ReArrangeData.append((data[0][i], data[1][i]))\n",
    "\n",
    "    # Move labels to device and ensure float format\n",
    "    labels = labels.float()\n",
    "    batch_labels = labels.to(device).unsqueeze(1)\n",
    "\n",
    "    # Convert sequences to tokens using the batch converter\n",
    "    batch_tokens = batch_converter(ReArrangeData)[2].to(device)\n",
    "\n",
    "    return batch_tokens, batch_labels.squeeze(1)\n",
    "\n",
    "def train_epoch(model, dataloader, optimizer, criterion, device, model_name='Scratch', batch_converter=None):\n",
    "    \"\"\"\n",
    "    Trains the model for a single epoch.\n",
    "\n",
    "    Args:\n",
    "        model (nn.Module): The model to train.\n",
    "        dataloader (DataLoader): DataLoader providing training data batches.\n",
    "        optimizer (torch.optim.Optimizer): Optimizer used for updating model weights.\n",
    "        criterion (nn.Module): Loss function to compute the training loss.\n",
    "        device (str or torch.device): Device on which computations are performed ('cuda' or 'cpu').\n",
    "        model_name (str): Specifies the model type (e.g., 'Scratch', 'ESM', 'RT', 'CCS').\n",
    "        batch_converter (callable, optional): Function used to convert ESM data batches.\n",
    "\n",
    "    Returns:\n",
    "        float: Mean training loss over the entire epoch.\n",
    "    \"\"\"\n",
    "    model.train()\n",
    "    train_losses = []\n",
    "\n",
    "    for batch in dataloader:\n",
    "        # Prepare inputs and targets based on the model type\n",
    "        if model_name == 'ESM':\n",
    "            X, y = batch\n",
    "            X, y = reordering(X, y, batch_converter, device)\n",
    "        elif model_name in ['RT', 'CCS']:\n",
    "            aa_idx, mod_x, y = batch\n",
    "            aa_idx, mod_x, y = aa_idx.to(device), mod_x.to(device), y.to(device)\n",
    "        else:\n",
    "            X, y = batch\n",
    "            X, y = X.to(device), y.to(device)\n",
    "\n",
    "        # Reset gradients\n",
    "        optimizer.zero_grad()\n",
    "\n",
    "        # Forward pass\n",
    "        if model_name in ['RT', 'CCS']:\n",
    "            output = model(aa_idx, mod_x).squeeze(1)\n",
    "        else:\n",
    "            output = model(X).squeeze(1)\n",
    "\n",
    "        # Compute loss\n",
    "        loss = criterion(output, y)\n",
    "\n",
    "        # Backward pass and optimizer step\n",
    "        loss.backward()\n",
    "        optimizer.step()\n",
    "\n",
    "        # Record the loss\n",
    "        train_losses.append(loss.item())\n",
    "    \n",
    "    # wandb.log({\"training_loss\": np.array(train_losses).mean()})\n",
    "\n",
    "    return np.mean(train_losses)\n",
    "\n",
    "def val_epoch(model, dataloader, criterion, device, threshold=0.5, model_name='Scratch', batch_converter=None):\n",
    "    \"\"\"\n",
    "    Validates the model for one epoch and computes evaluation metrics.\n",
    "\n",
    "    Args:\n",
    "        model (nn.Module): The model to evaluate.\n",
    "        dataloader (DataLoader): DataLoader providing validation data.\n",
    "        criterion (nn.Module): Loss function used for evaluation.\n",
    "        device (str or torch.device): Device on which computations are performed ('cuda' or 'cpu').\n",
    "        threshold (float, optional): Threshold for binary classification (applied to predicted probabilities). Defaults to 0.5.\n",
    "        model_name (str): Model type identifier (e.g., 'Scratch', 'ESM', 'RT', 'CCS').\n",
    "        batch_converter (callable, optional): Function for converting ESM batches into tokenized format.\n",
    "\n",
    "    Returns:\n",
    "        dict: Dictionary containing the following metrics:\n",
    "              - \"loss\": Mean validation loss.\n",
    "              - \"accuracy\": Classification accuracy.\n",
    "              - \"roc_auc\": Area under the ROC curve.\n",
    "              - \"pr_auc\": Area under the precision-recall curve.\n",
    "    \"\"\"\n",
    "    model.eval()\n",
    "    val_losses = []\n",
    "    all_targets = []\n",
    "    all_predictions = []\n",
    "    all_probabilities = []\n",
    "\n",
    "    with torch.no_grad():\n",
    "        for batch in dataloader:\n",
    "            # Prepare inputs and targets based on model type\n",
    "            if model_name == 'ESM':\n",
    "                X, y = batch\n",
    "                X, y = reordering(X, y, batch_converter, device)\n",
    "            elif model_name in ['RT', 'CCS']:\n",
    "                aa_idx, mod_x, y = batch\n",
    "                aa_idx, mod_x, y = aa_idx.to(device), mod_x.to(device), y.to(device)\n",
    "            else:\n",
    "                X, y = batch\n",
    "                X, y = X.to(device), y.to(device)\n",
    "\n",
    "            # Forward pass\n",
    "            if model_name in ['RT', 'CCS']:\n",
    "                output = model(aa_idx, mod_x).squeeze(1)\n",
    "            else:\n",
    "                output = model(X).squeeze(1)\n",
    "\n",
    "            probabilities = torch.sigmoid(output)  # Convert logits to probabilities\n",
    "            loss = criterion(output, y)\n",
    "            val_losses.append(loss.item())\n",
    "\n",
    "            # Threshold probabilities to get binary predictions\n",
    "            binary_output = (probabilities >= threshold).float()\n",
    "\n",
    "            # Store results\n",
    "            all_targets.extend(y.cpu().numpy())\n",
    "            all_predictions.extend(binary_output.cpu().numpy())\n",
    "            all_probabilities.extend(probabilities.cpu().numpy())\n",
    "\n",
    "    # Compute average loss and metrics\n",
    "    mean_loss = np.mean(val_losses)\n",
    "    accuracy = (np.array(all_predictions) == np.array(all_targets)).mean()\n",
    "    roc_auc = roc_auc_score(all_targets, all_probabilities) if len(np.unique(all_targets)) > 1 else 0.0\n",
    "    pr_auc = average_precision_score(all_targets, all_probabilities) if len(np.unique(all_targets)) > 1 else 0.0\n",
    "\n",
    "    # Log metrics with wandb\n",
    "    # wandb.log({\n",
    "    #     \"validation_loss\": mean_loss,\n",
    "    #     \"validation_accuracy\": accuracy,\n",
    "    #     \"validation_roc_auc\": roc_auc,\n",
    "    #     \"validation_pr_auc\": pr_auc,\n",
    "    # })\n",
    "\n",
    "    return {\n",
    "        \"loss\": mean_loss,\n",
    "        \"accuracy\": accuracy,\n",
    "        \"roc_auc\": roc_auc,\n",
    "        \"pr_auc\": pr_auc\n",
    "    }"
   ]
  },
  {
   "cell_type": "code",
   "execution_count": null,
   "metadata": {
    "executionInfo": {
     "elapsed": 18,
     "status": "ok",
     "timestamp": 1742037924619,
     "user": {
      "displayName": "Jimmy Walraff",
      "userId": "17365452855707799727"
     },
     "user_tz": -60
    },
    "id": "N-GwH0JHou5K"
   },
   "outputs": [],
   "source": [
    "def train(model, train_loader, val_loader, n_epochs, lr, filename, threshold=0.5,\n",
    "          do_early_stopping=True, model_name='Scratch', batch_converter=None, weight=None):\n",
    "    \"\"\"\n",
    "    Trains the model over multiple epochs with validation after each epoch.\n",
    "\n",
    "    Args:\n",
    "        model (nn.Module): The model instance to train.\n",
    "        train_loader (DataLoader): DataLoader providing training data.\n",
    "        val_loader (DataLoader): DataLoader providing validation data.\n",
    "        n_epochs (int): Number of training epochs.\n",
    "        lr (float): Learning rate for the optimizer.\n",
    "        filename (str): File name to save the final model.\n",
    "        threshold (float, optional): Threshold for binary classification. Defaults to 0.5.\n",
    "        do_early_stopping (bool, optional): Whether to apply early stopping. Defaults to True.\n",
    "        model_name (str, optional): Identifier for model type (e.g., 'Scratch', 'ESM', 'RT', 'CCS').\n",
    "        batch_converter (callable, optional): Function to convert ESM batches into token format.\n",
    "        weight (torch.Tensor, optional): Weight for positive class in BCEWithLogitsLoss.\n",
    "\n",
    "    Returns:\n",
    "        dict: Training history containing:\n",
    "            - \"train_loss\": List of training losses per epoch.\n",
    "            - \"val_loss\": List of validation losses per epoch.\n",
    "            - \"val_accuracy\": List of validation accuracies.\n",
    "            - \"val_roc_auc\": List of ROC-AUC scores.\n",
    "            - \"val_pr_auc\": List of PR-AUC scores.\n",
    "    \"\"\"\n",
    "    device = \"cuda\" if torch.cuda.is_available() else \"cpu\"\n",
    "    torch.cuda.empty_cache()\n",
    "    model.to(device)\n",
    "\n",
    "    optimizer = torch.optim.Adam(model.parameters(), lr=lr)\n",
    "\n",
    "    if weight is not None:\n",
    "        criterion = nn.BCEWithLogitsLoss(pos_weight=weight)\n",
    "    else:\n",
    "        criterion = nn.BCEWithLogitsLoss()\n",
    "\n",
    "    history = {\n",
    "        \"train_loss\": [],\n",
    "        \"val_loss\": [],\n",
    "        \"val_accuracy\": [],\n",
    "        \"val_roc_auc\": [],\n",
    "        \"val_pr_auc\": [],\n",
    "    }\n",
    "\n",
    "    for epoch in range(n_epochs):\n",
    "        # Train for one epoch\n",
    "        train_loss = train_epoch(\n",
    "            model, train_loader, optimizer, criterion, device,\n",
    "            model_name=model_name, batch_converter=batch_converter\n",
    "        )\n",
    "\n",
    "        # Validate after each epoch\n",
    "        val_metrics = val_epoch(\n",
    "            model, val_loader, criterion, device, threshold,\n",
    "            model_name=model_name, batch_converter=batch_converter\n",
    "        )\n",
    "\n",
    "        # Record metrics\n",
    "        history[\"train_loss\"].append(train_loss)\n",
    "        history[\"val_loss\"].append(val_metrics[\"loss\"])\n",
    "        history[\"val_accuracy\"].append(val_metrics[\"accuracy\"])\n",
    "        history[\"val_roc_auc\"].append(val_metrics[\"roc_auc\"])\n",
    "        history[\"val_pr_auc\"].append(val_metrics[\"pr_auc\"])\n",
    "\n",
    "        # Early stopping\n",
    "        if early_stopping(history[\"val_loss\"], patience=5) and do_early_stopping:\n",
    "            print(f\"Early stopping triggered at epoch {epoch}.\")\n",
    "            break\n",
    "\n",
    "    # wandb.log({\"Early_stopping\": epoch})\n",
    "\n",
    "    return history"
   ]
  },
  {
   "cell_type": "code",
   "execution_count": null,
   "metadata": {
    "colab": {
     "base_uri": "https://localhost:8080/"
    },
    "executionInfo": {
     "elapsed": 56,
     "status": "ok",
     "timestamp": 1742037924680,
     "user": {
      "displayName": "Jimmy Walraff",
      "userId": "17365452855707799727"
     },
     "user_tz": -60
    },
    "id": "lPRUCbLJou5K",
    "outputId": "54815007-3dd1-4b7d-bb9d-97ac115b166b"
   },
   "outputs": [
    {
     "data": {
      "text/plain": [
       "tensor(3.0789, dtype=torch.float64)"
      ]
     },
     "execution_count": 15,
     "metadata": {},
     "output_type": "execute_result"
    }
   ],
   "source": [
    "def compute_pos_weight(df, target_column):\n",
    "    \"\"\"\n",
    "    Computes the pos_weight value for BCEWithLogitsLoss based on class imbalance.\n",
    "\n",
    "    Args:\n",
    "        df (pd.DataFrame): DataFrame containing the target labels.\n",
    "        target_column (str): Name of the column with binary class labels.\n",
    "\n",
    "    Returns:\n",
    "        torch.Tensor: A tensor representing the positive class weight for use in BCEWithLogitsLoss.\n",
    "                      If no positive samples are found, defaults to a weight of 1.0.\n",
    "    \"\"\"\n",
    "    class_counts = df[target_column].value_counts()\n",
    "\n",
    "    num_pos = class_counts.get(1, 0)  # Number of positive samples\n",
    "    num_neg = class_counts.get(0, 0)  # Number of negative samples\n",
    "\n",
    "    if num_pos == 0:\n",
    "        pos_weight = torch.tensor(1.0, dtype=torch.float64)\n",
    "    else:\n",
    "        pos_weight = torch.tensor(num_neg / num_pos, dtype=torch.float64)\n",
    "\n",
    "    return pos_weight\n",
    "\n",
    "compute_pos_weight(df, 'quantotypic')"
   ]
  },
  {
   "cell_type": "code",
   "execution_count": null,
   "metadata": {
    "executionInfo": {
     "elapsed": 7,
     "status": "ok",
     "timestamp": 1742037924693,
     "user": {
      "displayName": "Jimmy Walraff",
      "userId": "17365452855707799727"
     },
     "user_tz": -60
    },
    "id": "R-M92BHTou5L"
   },
   "outputs": [],
   "source": [
    "def compute_best(history, best_history, model, best_model):\n",
    "    \"\"\"\n",
    "    Compares the current model to the best model so far based on validation PR AUC,\n",
    "    and updates the best model and history if the current model performs better.\n",
    "\n",
    "    Args:\n",
    "        history (dict): Dictionary containing the current training and validation metrics.\n",
    "        best_history (dict): Dictionary containing the best validation metrics so far.\n",
    "        model (nn.Module): Current model instance.\n",
    "        best_model (nn.Module): Best model instance so far.\n",
    "\n",
    "    Returns:\n",
    "        tuple: Updated best model and its corresponding history.\n",
    "    \"\"\"\n",
    "    if best_history is None or (history[\"val_pr_auc\"][-1] > best_history[\"val_pr_auc\"][-1]):\n",
    "        best_model = model\n",
    "        best_history = history\n",
    "\n",
    "    return best_model, best_history\n",
    "\n",
    "def evaluate_rt_model(model, test_df):\n",
    "    \"\"\"\n",
    "    Evaluates a trained RT model on the test dataset and returns performance metrics.\n",
    "\n",
    "    Args:\n",
    "        model (nn.Module): The trained RT model to evaluate.\n",
    "        test_df (pd.DataFrame): Test data containing peptide sequences and labels.\n",
    "\n",
    "    Returns:\n",
    "        dict: Dictionary with evaluation metrics:\n",
    "              - 'accuracy': Classification accuracy.\n",
    "              - 'precision': Precision score.\n",
    "              - 'recall': Recall score.\n",
    "              - 'f1': F1 score.\n",
    "              - 'roc_auc': Area under the ROC curve.\n",
    "              - 'pr_auc': Area under the Precision-Recall curve.\n",
    "    \"\"\"\n",
    "    device = \"cuda\" if torch.cuda.is_available() else \"cpu\"\n",
    "    model.eval()\n",
    "    model.to(device)\n",
    "\n",
    "    # Load the pretrained feature extractor\n",
    "    model_mgr = ModelManager()\n",
    "    model_mgr.load_installed_models()\n",
    "    pretrained_model = model_mgr.rt_model\n",
    "\n",
    "    # Precompute input features\n",
    "    test_aa_indices, test_mod_x, test_labels = precompute_features(test_df, pretrained_model, model_name='RT')\n",
    "    test_dataset = RTPeptideDataset(test_aa_indices, test_mod_x, test_labels)\n",
    "    test_loader = DataLoader(test_dataset, batch_size=32, shuffle=False, collate_fn=collate_batch)\n",
    "\n",
    "    all_preds = []\n",
    "    all_targets = []\n",
    "\n",
    "    with torch.no_grad():\n",
    "        for aa_indices, mod_x, labels in test_loader:\n",
    "            aa_indices, mod_x, labels = aa_indices.to(device), mod_x.to(device), labels.to(device)\n",
    "            outputs = model(aa_indices, mod_x)\n",
    "            preds = torch.sigmoid(outputs).cpu().numpy()\n",
    "            all_preds.extend(preds)\n",
    "            all_targets.extend(labels.cpu().numpy())\n",
    "\n",
    "    all_preds = np.array(all_preds).flatten()\n",
    "    all_targets = np.array(all_targets)\n",
    "\n",
    "    predicted_classes = (all_preds >= 0.5).astype(int)\n",
    "\n",
    "    accuracy = accuracy_score(all_targets, predicted_classes)\n",
    "    precision = precision_score(all_targets, predicted_classes)\n",
    "    recall = recall_score(all_targets, predicted_classes)\n",
    "    f1 = f1_score(all_targets, predicted_classes)\n",
    "    roc_auc = roc_auc_score(all_targets, all_preds)\n",
    "    pr_auc = average_precision_score(all_targets, all_preds)\n",
    "\n",
    "    return {\n",
    "        'accuracy': accuracy,\n",
    "        'precision': precision,\n",
    "        'recall': recall,\n",
    "        'f1': f1,\n",
    "        'roc_auc': roc_auc,\n",
    "        'pr_auc': pr_auc\n",
    "    }\n",
    "\n",
    "def write_into_json(dict, filename):\n",
    "    import json\n",
    "    with open(filename, 'w') as f:\n",
    "        json.dump(dict, f)\n",
    "\n",
    "import warnings\n",
    "warnings.simplefilter(\"ignore\", category=FutureWarning)"
   ]
  },
  {
   "cell_type": "markdown",
   "metadata": {},
   "source": [
    "# Training"
   ]
  },
  {
   "cell_type": "code",
   "execution_count": null,
   "metadata": {
    "colab": {
     "base_uri": "https://localhost:8080/",
     "height": 1000
    },
    "executionInfo": {
     "elapsed": 14631685,
     "status": "ok",
     "timestamp": 1742052556396,
     "user": {
      "displayName": "Jimmy Walraff",
      "userId": "17365452855707799727"
     },
     "user_tz": -60
    },
    "id": "e_j9llfXou5L",
    "outputId": "62e62ba0-e6e0-44a8-c6e4-55013270d72a"
   },
   "outputs": [
    {
     "name": "stdout",
     "output_type": "stream",
     "text": [
      "Fold 1 on 5\n",
      "Testing config 1 on 144\n",
      "Testing config 2 on 144\n",
      "Testing config 3 on 144\n",
      "Testing config 4 on 144\n",
      "Testing config 5 on 144\n",
      "Testing config 6 on 144\n",
      "Testing config 7 on 144\n",
      "Testing config 8 on 144\n",
      "Testing config 9 on 144\n",
      "Testing config 10 on 144\n",
      "Testing config 11 on 144\n",
      "Testing config 12 on 144\n",
      "Testing config 13 on 144\n",
      "Testing config 14 on 144\n",
      "Testing config 15 on 144\n",
      "Testing config 16 on 144\n",
      "Testing config 17 on 144\n",
      "Testing config 18 on 144\n",
      "Testing config 19 on 144\n",
      "Testing config 20 on 144\n",
      "Testing config 21 on 144\n",
      "Testing config 22 on 144\n",
      "Testing config 23 on 144\n",
      "Testing config 24 on 144\n",
      "Testing config 25 on 144\n",
      "Testing config 26 on 144\n",
      "Testing config 27 on 144\n",
      "Testing config 28 on 144\n",
      "Testing config 29 on 144\n",
      "Testing config 30 on 144\n",
      "Testing config 31 on 144\n",
      "Testing config 32 on 144\n",
      "Testing config 33 on 144\n",
      "Testing config 34 on 144\n",
      "Testing config 35 on 144\n",
      "Testing config 36 on 144\n",
      "Testing config 37 on 144\n",
      "Testing config 38 on 144\n",
      "Testing config 39 on 144\n",
      "Testing config 40 on 144\n",
      "Testing config 41 on 144\n",
      "Testing config 42 on 144\n",
      "Testing config 43 on 144\n",
      "Testing config 44 on 144\n",
      "Testing config 45 on 144\n",
      "Testing config 46 on 144\n",
      "Testing config 47 on 144\n",
      "Testing config 48 on 144\n",
      "Testing config 49 on 144\n",
      "Testing config 50 on 144\n",
      "Testing config 51 on 144\n",
      "Testing config 52 on 144\n",
      "Testing config 53 on 144\n",
      "Testing config 54 on 144\n",
      "Testing config 55 on 144\n",
      "Testing config 56 on 144\n",
      "Testing config 57 on 144\n",
      "Testing config 58 on 144\n",
      "Testing config 59 on 144\n",
      "Testing config 60 on 144\n",
      "Testing config 61 on 144\n",
      "Testing config 62 on 144\n",
      "Testing config 63 on 144\n",
      "Testing config 64 on 144\n",
      "Testing config 65 on 144\n",
      "Testing config 66 on 144\n",
      "Testing config 67 on 144\n",
      "Testing config 68 on 144\n",
      "Testing config 69 on 144\n",
      "Testing config 70 on 144\n",
      "Testing config 71 on 144\n",
      "Testing config 72 on 144\n",
      "Testing config 73 on 144\n",
      "Testing config 74 on 144\n",
      "Testing config 75 on 144\n",
      "Testing config 76 on 144\n",
      "Testing config 77 on 144\n",
      "Testing config 78 on 144\n",
      "Testing config 79 on 144\n",
      "Testing config 80 on 144\n",
      "Testing config 81 on 144\n",
      "Testing config 82 on 144\n",
      "Testing config 83 on 144\n",
      "Testing config 84 on 144\n",
      "Testing config 85 on 144\n",
      "Testing config 86 on 144\n",
      "Testing config 87 on 144\n",
      "Testing config 88 on 144\n",
      "Testing config 89 on 144\n",
      "Testing config 90 on 144\n",
      "Testing config 91 on 144\n",
      "Testing config 92 on 144\n",
      "Testing config 93 on 144\n",
      "Testing config 94 on 144\n",
      "Testing config 95 on 144\n",
      "Testing config 96 on 144\n",
      "Testing config 97 on 144\n",
      "Testing config 98 on 144\n",
      "Testing config 99 on 144\n",
      "Testing config 100 on 144\n",
      "Testing config 101 on 144\n",
      "Testing config 102 on 144\n",
      "Testing config 103 on 144\n",
      "Testing config 104 on 144\n",
      "Testing config 105 on 144\n",
      "Testing config 106 on 144\n",
      "Testing config 107 on 144\n",
      "Testing config 108 on 144\n",
      "Testing config 109 on 144\n",
      "Testing config 110 on 144\n",
      "Testing config 111 on 144\n",
      "Testing config 112 on 144\n",
      "Testing config 113 on 144\n",
      "Testing config 114 on 144\n",
      "Testing config 115 on 144\n",
      "Testing config 116 on 144\n",
      "Testing config 117 on 144\n",
      "Testing config 118 on 144\n",
      "Testing config 119 on 144\n",
      "Testing config 120 on 144\n",
      "Testing config 121 on 144\n",
      "Testing config 122 on 144\n",
      "Testing config 123 on 144\n",
      "Testing config 124 on 144\n",
      "Testing config 125 on 144\n",
      "Testing config 126 on 144\n",
      "Testing config 127 on 144\n",
      "Testing config 128 on 144\n",
      "Testing config 129 on 144\n",
      "Testing config 130 on 144\n",
      "Testing config 131 on 144\n",
      "Testing config 132 on 144\n",
      "Testing config 133 on 144\n",
      "Testing config 134 on 144\n",
      "Testing config 135 on 144\n",
      "Testing config 136 on 144\n",
      "Testing config 137 on 144\n",
      "Testing config 138 on 144\n",
      "Testing config 139 on 144\n",
      "Testing config 140 on 144\n",
      "Testing config 141 on 144\n",
      "Testing config 142 on 144\n",
      "Testing config 143 on 144\n",
      "Testing config 144 on 144\n",
      "\n",
      "--------------------------------------Config Done--------------------------------------------\n",
      "\n"
     ]
    },
    {
     "name": "stderr",
     "output_type": "stream",
     "text": [
      "\u001b[34m\u001b[1mwandb\u001b[0m: Using wandb-core as the SDK backend.  Please refer to https://wandb.me/wandb-core for more information.\n",
      "\u001b[34m\u001b[1mwandb\u001b[0m: Currently logged in as: \u001b[33mjimmy-walraff02\u001b[0m (\u001b[33mTFE-proteomics\u001b[0m) to \u001b[32mhttps://api.wandb.ai\u001b[0m. Use \u001b[1m`wandb login --relogin`\u001b[0m to force relogin\n"
     ]
    },
    {
     "data": {
      "text/html": [
       "Tracking run with wandb version 0.19.8"
      ],
      "text/plain": [
       "<IPython.core.display.HTML object>"
      ]
     },
     "metadata": {},
     "output_type": "display_data"
    },
    {
     "data": {
      "text/html": [
       "Run data is saved locally in <code>/content/wandb/run-20250315_113218-kth367oa</code>"
      ],
      "text/plain": [
       "<IPython.core.display.HTML object>"
      ]
     },
     "metadata": {},
     "output_type": "display_data"
    },
    {
     "data": {
      "text/html": [
       "Syncing run <strong><a href='https://wandb.ai/TFE-proteomics/RT/runs/kth367oa' target=\"_blank\">ValidProtocol_RT_Scratch_fold_1</a></strong> to <a href='https://wandb.ai/TFE-proteomics/RT' target=\"_blank\">Weights & Biases</a> (<a href='https://wandb.me/developer-guide' target=\"_blank\">docs</a>)<br>"
      ],
      "text/plain": [
       "<IPython.core.display.HTML object>"
      ]
     },
     "metadata": {},
     "output_type": "display_data"
    },
    {
     "data": {
      "text/html": [
       " View project at <a href='https://wandb.ai/TFE-proteomics/RT' target=\"_blank\">https://wandb.ai/TFE-proteomics/RT</a>"
      ],
      "text/plain": [
       "<IPython.core.display.HTML object>"
      ]
     },
     "metadata": {},
     "output_type": "display_data"
    },
    {
     "data": {
      "text/html": [
       " View run at <a href='https://wandb.ai/TFE-proteomics/RT/runs/kth367oa' target=\"_blank\">https://wandb.ai/TFE-proteomics/RT/runs/kth367oa</a>"
      ],
      "text/plain": [
       "<IPython.core.display.HTML object>"
      ]
     },
     "metadata": {},
     "output_type": "display_data"
    },
    {
     "data": {
      "text/html": [],
      "text/plain": [
       "<IPython.core.display.HTML object>"
      ]
     },
     "metadata": {},
     "output_type": "display_data"
    },
    {
     "data": {
      "text/html": [
       "<br>    <style><br>        .wandb-row {<br>            display: flex;<br>            flex-direction: row;<br>            flex-wrap: wrap;<br>            justify-content: flex-start;<br>            width: 100%;<br>        }<br>        .wandb-col {<br>            display: flex;<br>            flex-direction: column;<br>            flex-basis: 100%;<br>            flex: 1;<br>            padding: 10px;<br>        }<br>    </style><br><div class=\"wandb-row\"><div class=\"wandb-col\"><h3>Run history:</h3><br/><table class=\"wandb\"><tr><td>accuracy</td><td>▁</td></tr><tr><td>f1</td><td>▁</td></tr><tr><td>pr_auc</td><td>▁</td></tr><tr><td>precision</td><td>▁</td></tr><tr><td>recall</td><td>▁</td></tr><tr><td>roc_auc</td><td>▁</td></tr></table><br/></div><div class=\"wandb-col\"><h3>Run summary:</h3><br/><table class=\"wandb\"><tr><td>accuracy</td><td>0.64516</td></tr><tr><td>f1</td><td>0.15385</td></tr><tr><td>pr_auc</td><td>0.36549</td></tr><tr><td>precision</td><td>0.16667</td></tr><tr><td>recall</td><td>0.14286</td></tr><tr><td>roc_auc</td><td>0.5</td></tr></table><br/></div></div>"
      ],
      "text/plain": [
       "<IPython.core.display.HTML object>"
      ]
     },
     "metadata": {},
     "output_type": "display_data"
    },
    {
     "data": {
      "text/html": [
       " View run <strong style=\"color:#cdcd00\">ValidProtocol_RT_Scratch_fold_1</strong> at: <a href='https://wandb.ai/TFE-proteomics/RT/runs/kth367oa' target=\"_blank\">https://wandb.ai/TFE-proteomics/RT/runs/kth367oa</a><br> View project at: <a href='https://wandb.ai/TFE-proteomics/RT' target=\"_blank\">https://wandb.ai/TFE-proteomics/RT</a><br>Synced 5 W&B file(s), 0 media file(s), 0 artifact file(s) and 0 other file(s)"
      ],
      "text/plain": [
       "<IPython.core.display.HTML object>"
      ]
     },
     "metadata": {},
     "output_type": "display_data"
    },
    {
     "data": {
      "text/html": [
       "Find logs at: <code>./wandb/run-20250315_113218-kth367oa/logs</code>"
      ],
      "text/plain": [
       "<IPython.core.display.HTML object>"
      ]
     },
     "metadata": {},
     "output_type": "display_data"
    },
    {
     "name": "stdout",
     "output_type": "stream",
     "text": [
      "Fold 2 on 5\n",
      "Testing config 1 on 144\n",
      "Testing config 2 on 144\n",
      "Testing config 3 on 144\n",
      "Testing config 4 on 144\n",
      "Testing config 5 on 144\n",
      "Testing config 6 on 144\n",
      "Testing config 7 on 144\n",
      "Testing config 8 on 144\n",
      "Testing config 9 on 144\n",
      "Testing config 10 on 144\n",
      "Testing config 11 on 144\n",
      "Testing config 12 on 144\n",
      "Testing config 13 on 144\n",
      "Testing config 14 on 144\n",
      "Testing config 15 on 144\n",
      "Testing config 16 on 144\n",
      "Testing config 17 on 144\n",
      "Testing config 18 on 144\n",
      "Testing config 19 on 144\n",
      "Testing config 20 on 144\n",
      "Testing config 21 on 144\n",
      "Testing config 22 on 144\n",
      "Testing config 23 on 144\n",
      "Testing config 24 on 144\n",
      "Testing config 25 on 144\n",
      "Testing config 26 on 144\n",
      "Testing config 27 on 144\n",
      "Testing config 28 on 144\n",
      "Testing config 29 on 144\n",
      "Testing config 30 on 144\n",
      "Testing config 31 on 144\n",
      "Testing config 32 on 144\n",
      "Testing config 33 on 144\n",
      "Testing config 34 on 144\n",
      "Testing config 35 on 144\n",
      "Testing config 36 on 144\n",
      "Testing config 37 on 144\n",
      "Testing config 38 on 144\n",
      "Testing config 39 on 144\n",
      "Testing config 40 on 144\n",
      "Testing config 41 on 144\n",
      "Testing config 42 on 144\n",
      "Testing config 43 on 144\n",
      "Testing config 44 on 144\n",
      "Testing config 45 on 144\n",
      "Testing config 46 on 144\n",
      "Testing config 47 on 144\n",
      "Testing config 48 on 144\n",
      "Testing config 49 on 144\n",
      "Testing config 50 on 144\n",
      "Testing config 51 on 144\n",
      "Testing config 52 on 144\n",
      "Testing config 53 on 144\n",
      "Testing config 54 on 144\n",
      "Testing config 55 on 144\n",
      "Testing config 56 on 144\n",
      "Testing config 57 on 144\n",
      "Testing config 58 on 144\n",
      "Testing config 59 on 144\n",
      "Testing config 60 on 144\n",
      "Testing config 61 on 144\n",
      "Testing config 62 on 144\n",
      "Testing config 63 on 144\n",
      "Testing config 64 on 144\n",
      "Testing config 65 on 144\n",
      "Testing config 66 on 144\n",
      "Testing config 67 on 144\n",
      "Testing config 68 on 144\n",
      "Testing config 69 on 144\n",
      "Testing config 70 on 144\n",
      "Testing config 71 on 144\n",
      "Testing config 72 on 144\n",
      "Testing config 73 on 144\n",
      "Testing config 74 on 144\n",
      "Testing config 75 on 144\n",
      "Testing config 76 on 144\n",
      "Testing config 77 on 144\n",
      "Testing config 78 on 144\n",
      "Testing config 79 on 144\n",
      "Testing config 80 on 144\n",
      "Testing config 81 on 144\n",
      "Testing config 82 on 144\n",
      "Testing config 83 on 144\n",
      "Testing config 84 on 144\n",
      "Testing config 85 on 144\n",
      "Testing config 86 on 144\n",
      "Testing config 87 on 144\n",
      "Testing config 88 on 144\n",
      "Testing config 89 on 144\n",
      "Testing config 90 on 144\n",
      "Testing config 91 on 144\n",
      "Testing config 92 on 144\n",
      "Testing config 93 on 144\n",
      "Testing config 94 on 144\n",
      "Testing config 95 on 144\n",
      "Testing config 96 on 144\n",
      "Testing config 97 on 144\n",
      "Testing config 98 on 144\n",
      "Testing config 99 on 144\n",
      "Testing config 100 on 144\n",
      "Testing config 101 on 144\n",
      "Testing config 102 on 144\n",
      "Testing config 103 on 144\n",
      "Testing config 104 on 144\n",
      "Testing config 105 on 144\n",
      "Testing config 106 on 144\n",
      "Testing config 107 on 144\n",
      "Testing config 108 on 144\n",
      "Testing config 109 on 144\n",
      "Testing config 110 on 144\n",
      "Testing config 111 on 144\n",
      "Testing config 112 on 144\n",
      "Testing config 113 on 144\n",
      "Testing config 114 on 144\n",
      "Testing config 115 on 144\n",
      "Testing config 116 on 144\n",
      "Testing config 117 on 144\n",
      "Testing config 118 on 144\n",
      "Testing config 119 on 144\n",
      "Testing config 120 on 144\n",
      "Testing config 121 on 144\n",
      "Testing config 122 on 144\n",
      "Testing config 123 on 144\n",
      "Testing config 124 on 144\n",
      "Testing config 125 on 144\n",
      "Testing config 126 on 144\n",
      "Testing config 127 on 144\n",
      "Testing config 128 on 144\n",
      "Testing config 129 on 144\n",
      "Testing config 130 on 144\n",
      "Testing config 131 on 144\n",
      "Testing config 132 on 144\n",
      "Testing config 133 on 144\n",
      "Testing config 134 on 144\n",
      "Testing config 135 on 144\n",
      "Testing config 136 on 144\n",
      "Testing config 137 on 144\n",
      "Testing config 138 on 144\n",
      "Testing config 139 on 144\n",
      "Testing config 140 on 144\n",
      "Testing config 141 on 144\n",
      "Testing config 142 on 144\n",
      "Testing config 143 on 144\n",
      "Testing config 144 on 144\n",
      "\n",
      "--------------------------------------Config Done--------------------------------------------\n",
      "\n"
     ]
    },
    {
     "name": "stderr",
     "output_type": "stream",
     "text": [
      "/usr/local/lib/python3.11/dist-packages/sklearn/metrics/_classification.py:1565: UndefinedMetricWarning: Precision is ill-defined and being set to 0.0 due to no predicted samples. Use `zero_division` parameter to control this behavior.\n",
      "  _warn_prf(average, modifier, f\"{metric.capitalize()} is\", len(result))\n"
     ]
    },
    {
     "data": {
      "text/html": [
       "Tracking run with wandb version 0.19.8"
      ],
      "text/plain": [
       "<IPython.core.display.HTML object>"
      ]
     },
     "metadata": {},
     "output_type": "display_data"
    },
    {
     "data": {
      "text/html": [
       "Run data is saved locally in <code>/content/wandb/run-20250315_113909-46fgtehm</code>"
      ],
      "text/plain": [
       "<IPython.core.display.HTML object>"
      ]
     },
     "metadata": {},
     "output_type": "display_data"
    },
    {
     "data": {
      "text/html": [
       "Syncing run <strong><a href='https://wandb.ai/TFE-proteomics/RT/runs/46fgtehm' target=\"_blank\">ValidProtocol_RT_Scratch_fold_2</a></strong> to <a href='https://wandb.ai/TFE-proteomics/RT' target=\"_blank\">Weights & Biases</a> (<a href='https://wandb.me/developer-guide' target=\"_blank\">docs</a>)<br>"
      ],
      "text/plain": [
       "<IPython.core.display.HTML object>"
      ]
     },
     "metadata": {},
     "output_type": "display_data"
    },
    {
     "data": {
      "text/html": [
       " View project at <a href='https://wandb.ai/TFE-proteomics/RT' target=\"_blank\">https://wandb.ai/TFE-proteomics/RT</a>"
      ],
      "text/plain": [
       "<IPython.core.display.HTML object>"
      ]
     },
     "metadata": {},
     "output_type": "display_data"
    },
    {
     "data": {
      "text/html": [
       " View run at <a href='https://wandb.ai/TFE-proteomics/RT/runs/46fgtehm' target=\"_blank\">https://wandb.ai/TFE-proteomics/RT/runs/46fgtehm</a>"
      ],
      "text/plain": [
       "<IPython.core.display.HTML object>"
      ]
     },
     "metadata": {},
     "output_type": "display_data"
    },
    {
     "data": {
      "text/html": [],
      "text/plain": [
       "<IPython.core.display.HTML object>"
      ]
     },
     "metadata": {},
     "output_type": "display_data"
    },
    {
     "data": {
      "text/html": [
       "<br>    <style><br>        .wandb-row {<br>            display: flex;<br>            flex-direction: row;<br>            flex-wrap: wrap;<br>            justify-content: flex-start;<br>            width: 100%;<br>        }<br>        .wandb-col {<br>            display: flex;<br>            flex-direction: column;<br>            flex-basis: 100%;<br>            flex: 1;<br>            padding: 10px;<br>        }<br>    </style><br><div class=\"wandb-row\"><div class=\"wandb-col\"><h3>Run history:</h3><br/><table class=\"wandb\"><tr><td>accuracy</td><td>▁</td></tr><tr><td>f1</td><td>▁</td></tr><tr><td>pr_auc</td><td>▁</td></tr><tr><td>precision</td><td>▁</td></tr><tr><td>recall</td><td>▁</td></tr><tr><td>roc_auc</td><td>▁</td></tr></table><br/></div><div class=\"wandb-col\"><h3>Run summary:</h3><br/><table class=\"wandb\"><tr><td>accuracy</td><td>0.77419</td></tr><tr><td>f1</td><td>0</td></tr><tr><td>pr_auc</td><td>0.29761</td></tr><tr><td>precision</td><td>0</td></tr><tr><td>recall</td><td>0</td></tr><tr><td>roc_auc</td><td>0.60714</td></tr></table><br/></div></div>"
      ],
      "text/plain": [
       "<IPython.core.display.HTML object>"
      ]
     },
     "metadata": {},
     "output_type": "display_data"
    },
    {
     "data": {
      "text/html": [
       " View run <strong style=\"color:#cdcd00\">ValidProtocol_RT_Scratch_fold_2</strong> at: <a href='https://wandb.ai/TFE-proteomics/RT/runs/46fgtehm' target=\"_blank\">https://wandb.ai/TFE-proteomics/RT/runs/46fgtehm</a><br> View project at: <a href='https://wandb.ai/TFE-proteomics/RT' target=\"_blank\">https://wandb.ai/TFE-proteomics/RT</a><br>Synced 5 W&B file(s), 0 media file(s), 0 artifact file(s) and 0 other file(s)"
      ],
      "text/plain": [
       "<IPython.core.display.HTML object>"
      ]
     },
     "metadata": {},
     "output_type": "display_data"
    },
    {
     "data": {
      "text/html": [
       "Find logs at: <code>./wandb/run-20250315_113909-46fgtehm/logs</code>"
      ],
      "text/plain": [
       "<IPython.core.display.HTML object>"
      ]
     },
     "metadata": {},
     "output_type": "display_data"
    },
    {
     "name": "stdout",
     "output_type": "stream",
     "text": [
      "Fold 3 on 5\n",
      "Testing config 1 on 144\n",
      "Testing config 2 on 144\n",
      "Testing config 3 on 144\n",
      "Testing config 4 on 144\n",
      "Testing config 5 on 144\n",
      "Testing config 6 on 144\n",
      "Testing config 7 on 144\n",
      "Testing config 8 on 144\n",
      "Testing config 9 on 144\n",
      "Testing config 10 on 144\n",
      "Testing config 11 on 144\n",
      "Testing config 12 on 144\n",
      "Testing config 13 on 144\n",
      "Testing config 14 on 144\n",
      "Testing config 15 on 144\n",
      "Testing config 16 on 144\n",
      "Testing config 17 on 144\n",
      "Testing config 18 on 144\n",
      "Testing config 19 on 144\n",
      "Testing config 20 on 144\n",
      "Testing config 21 on 144\n",
      "Testing config 22 on 144\n",
      "Testing config 23 on 144\n",
      "Testing config 24 on 144\n",
      "Testing config 25 on 144\n",
      "Testing config 26 on 144\n",
      "Testing config 27 on 144\n",
      "Testing config 28 on 144\n",
      "Testing config 29 on 144\n",
      "Testing config 30 on 144\n",
      "Testing config 31 on 144\n",
      "Testing config 32 on 144\n",
      "Testing config 33 on 144\n",
      "Testing config 34 on 144\n",
      "Testing config 35 on 144\n",
      "Testing config 36 on 144\n",
      "Testing config 37 on 144\n",
      "Testing config 38 on 144\n",
      "Testing config 39 on 144\n",
      "Testing config 40 on 144\n",
      "Testing config 41 on 144\n",
      "Testing config 42 on 144\n",
      "Testing config 43 on 144\n",
      "Testing config 44 on 144\n",
      "Testing config 45 on 144\n",
      "Testing config 46 on 144\n",
      "Testing config 47 on 144\n",
      "Testing config 48 on 144\n",
      "Testing config 49 on 144\n",
      "Testing config 50 on 144\n",
      "Testing config 51 on 144\n",
      "Testing config 52 on 144\n",
      "Testing config 53 on 144\n",
      "Testing config 54 on 144\n",
      "Testing config 55 on 144\n",
      "Testing config 56 on 144\n",
      "Testing config 57 on 144\n",
      "Testing config 58 on 144\n",
      "Testing config 59 on 144\n",
      "Testing config 60 on 144\n",
      "Testing config 61 on 144\n",
      "Testing config 62 on 144\n",
      "Testing config 63 on 144\n",
      "Testing config 64 on 144\n",
      "Testing config 65 on 144\n",
      "Testing config 66 on 144\n",
      "Testing config 67 on 144\n",
      "Testing config 68 on 144\n",
      "Testing config 69 on 144\n",
      "Testing config 70 on 144\n",
      "Testing config 71 on 144\n",
      "Testing config 72 on 144\n",
      "Testing config 73 on 144\n",
      "Testing config 74 on 144\n",
      "Testing config 75 on 144\n",
      "Testing config 76 on 144\n",
      "Testing config 77 on 144\n",
      "Testing config 78 on 144\n",
      "Testing config 79 on 144\n",
      "Testing config 80 on 144\n",
      "Testing config 81 on 144\n",
      "Testing config 82 on 144\n",
      "Testing config 83 on 144\n",
      "Testing config 84 on 144\n",
      "Testing config 85 on 144\n",
      "Testing config 86 on 144\n",
      "Testing config 87 on 144\n",
      "Testing config 88 on 144\n",
      "Testing config 89 on 144\n",
      "Testing config 90 on 144\n",
      "Testing config 91 on 144\n",
      "Testing config 92 on 144\n",
      "Testing config 93 on 144\n",
      "Testing config 94 on 144\n",
      "Testing config 95 on 144\n",
      "Testing config 96 on 144\n",
      "Testing config 97 on 144\n",
      "Testing config 98 on 144\n",
      "Testing config 99 on 144\n",
      "Testing config 100 on 144\n",
      "Testing config 101 on 144\n",
      "Testing config 102 on 144\n",
      "Testing config 103 on 144\n",
      "Testing config 104 on 144\n",
      "Testing config 105 on 144\n",
      "Testing config 106 on 144\n",
      "Testing config 107 on 144\n",
      "Testing config 108 on 144\n",
      "Testing config 109 on 144\n",
      "Testing config 110 on 144\n",
      "Testing config 111 on 144\n",
      "Testing config 112 on 144\n",
      "Testing config 113 on 144\n",
      "Testing config 114 on 144\n",
      "Testing config 115 on 144\n",
      "Testing config 116 on 144\n",
      "Testing config 117 on 144\n",
      "Testing config 118 on 144\n",
      "Testing config 119 on 144\n",
      "Testing config 120 on 144\n",
      "Testing config 121 on 144\n",
      "Testing config 122 on 144\n",
      "Testing config 123 on 144\n",
      "Testing config 124 on 144\n",
      "Testing config 125 on 144\n",
      "Testing config 126 on 144\n",
      "Testing config 127 on 144\n",
      "Testing config 128 on 144\n",
      "Testing config 129 on 144\n",
      "Testing config 130 on 144\n",
      "Testing config 131 on 144\n",
      "Testing config 132 on 144\n",
      "Testing config 133 on 144\n",
      "Testing config 134 on 144\n",
      "Testing config 135 on 144\n",
      "Testing config 136 on 144\n",
      "Testing config 137 on 144\n",
      "Testing config 138 on 144\n",
      "Testing config 139 on 144\n",
      "Testing config 140 on 144\n",
      "Testing config 141 on 144\n",
      "Testing config 142 on 144\n",
      "Testing config 143 on 144\n",
      "Testing config 144 on 144\n",
      "\n",
      "--------------------------------------Config Done--------------------------------------------\n",
      "\n"
     ]
    },
    {
     "data": {
      "text/html": [
       "Tracking run with wandb version 0.19.8"
      ],
      "text/plain": [
       "<IPython.core.display.HTML object>"
      ]
     },
     "metadata": {},
     "output_type": "display_data"
    },
    {
     "data": {
      "text/html": [
       "Run data is saved locally in <code>/content/wandb/run-20250315_114557-fxbh3fpl</code>"
      ],
      "text/plain": [
       "<IPython.core.display.HTML object>"
      ]
     },
     "metadata": {},
     "output_type": "display_data"
    },
    {
     "data": {
      "text/html": [
       "Syncing run <strong><a href='https://wandb.ai/TFE-proteomics/RT/runs/fxbh3fpl' target=\"_blank\">ValidProtocol_RT_Scratch_fold_3</a></strong> to <a href='https://wandb.ai/TFE-proteomics/RT' target=\"_blank\">Weights & Biases</a> (<a href='https://wandb.me/developer-guide' target=\"_blank\">docs</a>)<br>"
      ],
      "text/plain": [
       "<IPython.core.display.HTML object>"
      ]
     },
     "metadata": {},
     "output_type": "display_data"
    },
    {
     "data": {
      "text/html": [
       " View project at <a href='https://wandb.ai/TFE-proteomics/RT' target=\"_blank\">https://wandb.ai/TFE-proteomics/RT</a>"
      ],
      "text/plain": [
       "<IPython.core.display.HTML object>"
      ]
     },
     "metadata": {},
     "output_type": "display_data"
    },
    {
     "data": {
      "text/html": [
       " View run at <a href='https://wandb.ai/TFE-proteomics/RT/runs/fxbh3fpl' target=\"_blank\">https://wandb.ai/TFE-proteomics/RT/runs/fxbh3fpl</a>"
      ],
      "text/plain": [
       "<IPython.core.display.HTML object>"
      ]
     },
     "metadata": {},
     "output_type": "display_data"
    },
    {
     "data": {
      "text/html": [],
      "text/plain": [
       "<IPython.core.display.HTML object>"
      ]
     },
     "metadata": {},
     "output_type": "display_data"
    },
    {
     "data": {
      "text/html": [
       "<br>    <style><br>        .wandb-row {<br>            display: flex;<br>            flex-direction: row;<br>            flex-wrap: wrap;<br>            justify-content: flex-start;<br>            width: 100%;<br>        }<br>        .wandb-col {<br>            display: flex;<br>            flex-direction: column;<br>            flex-basis: 100%;<br>            flex: 1;<br>            padding: 10px;<br>        }<br>    </style><br><div class=\"wandb-row\"><div class=\"wandb-col\"><h3>Run history:</h3><br/><table class=\"wandb\"><tr><td>accuracy</td><td>▁</td></tr><tr><td>f1</td><td>▁</td></tr><tr><td>pr_auc</td><td>▁</td></tr><tr><td>precision</td><td>▁</td></tr><tr><td>recall</td><td>▁</td></tr><tr><td>roc_auc</td><td>▁</td></tr></table><br/></div><div class=\"wandb-col\"><h3>Run summary:</h3><br/><table class=\"wandb\"><tr><td>accuracy</td><td>0.64516</td></tr><tr><td>f1</td><td>0</td></tr><tr><td>pr_auc</td><td>0.28677</td></tr><tr><td>precision</td><td>0</td></tr><tr><td>recall</td><td>0</td></tr><tr><td>roc_auc</td><td>0.47826</td></tr></table><br/></div></div>"
      ],
      "text/plain": [
       "<IPython.core.display.HTML object>"
      ]
     },
     "metadata": {},
     "output_type": "display_data"
    },
    {
     "data": {
      "text/html": [
       " View run <strong style=\"color:#cdcd00\">ValidProtocol_RT_Scratch_fold_3</strong> at: <a href='https://wandb.ai/TFE-proteomics/RT/runs/fxbh3fpl' target=\"_blank\">https://wandb.ai/TFE-proteomics/RT/runs/fxbh3fpl</a><br> View project at: <a href='https://wandb.ai/TFE-proteomics/RT' target=\"_blank\">https://wandb.ai/TFE-proteomics/RT</a><br>Synced 5 W&B file(s), 0 media file(s), 0 artifact file(s) and 0 other file(s)"
      ],
      "text/plain": [
       "<IPython.core.display.HTML object>"
      ]
     },
     "metadata": {},
     "output_type": "display_data"
    },
    {
     "data": {
      "text/html": [
       "Find logs at: <code>./wandb/run-20250315_114557-fxbh3fpl/logs</code>"
      ],
      "text/plain": [
       "<IPython.core.display.HTML object>"
      ]
     },
     "metadata": {},
     "output_type": "display_data"
    },
    {
     "name": "stdout",
     "output_type": "stream",
     "text": [
      "Fold 4 on 5\n",
      "Testing config 1 on 144\n",
      "Testing config 2 on 144\n",
      "Testing config 3 on 144\n",
      "Testing config 4 on 144\n",
      "Testing config 5 on 144\n",
      "Testing config 6 on 144\n",
      "Testing config 7 on 144\n",
      "Testing config 8 on 144\n",
      "Testing config 9 on 144\n",
      "Testing config 10 on 144\n",
      "Testing config 11 on 144\n",
      "Testing config 12 on 144\n",
      "Testing config 13 on 144\n",
      "Testing config 14 on 144\n",
      "Testing config 15 on 144\n",
      "Testing config 16 on 144\n",
      "Testing config 17 on 144\n",
      "Testing config 18 on 144\n",
      "Testing config 19 on 144\n",
      "Testing config 20 on 144\n",
      "Testing config 21 on 144\n",
      "Testing config 22 on 144\n",
      "Testing config 23 on 144\n",
      "Testing config 24 on 144\n",
      "Testing config 25 on 144\n",
      "Testing config 26 on 144\n",
      "Testing config 27 on 144\n",
      "Testing config 28 on 144\n",
      "Testing config 29 on 144\n",
      "Testing config 30 on 144\n",
      "Testing config 31 on 144\n",
      "Testing config 32 on 144\n",
      "Testing config 33 on 144\n",
      "Testing config 34 on 144\n",
      "Testing config 35 on 144\n",
      "Testing config 36 on 144\n",
      "Testing config 37 on 144\n",
      "Testing config 38 on 144\n",
      "Testing config 39 on 144\n",
      "Testing config 40 on 144\n",
      "Testing config 41 on 144\n",
      "Testing config 42 on 144\n",
      "Testing config 43 on 144\n",
      "Testing config 44 on 144\n",
      "Testing config 45 on 144\n",
      "Testing config 46 on 144\n",
      "Testing config 47 on 144\n",
      "Testing config 48 on 144\n",
      "Testing config 49 on 144\n",
      "Testing config 50 on 144\n",
      "Testing config 51 on 144\n",
      "Testing config 52 on 144\n",
      "Testing config 53 on 144\n",
      "Testing config 54 on 144\n",
      "Testing config 55 on 144\n",
      "Testing config 56 on 144\n",
      "Testing config 57 on 144\n",
      "Testing config 58 on 144\n",
      "Testing config 59 on 144\n",
      "Testing config 60 on 144\n",
      "Testing config 61 on 144\n",
      "Testing config 62 on 144\n",
      "Testing config 63 on 144\n",
      "Testing config 64 on 144\n",
      "Testing config 65 on 144\n",
      "Testing config 66 on 144\n",
      "Testing config 67 on 144\n",
      "Testing config 68 on 144\n",
      "Testing config 69 on 144\n",
      "Testing config 70 on 144\n",
      "Testing config 71 on 144\n",
      "Testing config 72 on 144\n",
      "Testing config 73 on 144\n",
      "Testing config 74 on 144\n",
      "Testing config 75 on 144\n",
      "Testing config 76 on 144\n",
      "Testing config 77 on 144\n",
      "Testing config 78 on 144\n",
      "Testing config 79 on 144\n",
      "Testing config 80 on 144\n",
      "Testing config 81 on 144\n",
      "Testing config 82 on 144\n",
      "Testing config 83 on 144\n",
      "Testing config 84 on 144\n",
      "Testing config 85 on 144\n",
      "Testing config 86 on 144\n",
      "Testing config 87 on 144\n",
      "Testing config 88 on 144\n",
      "Testing config 89 on 144\n",
      "Testing config 90 on 144\n",
      "Testing config 91 on 144\n",
      "Testing config 92 on 144\n",
      "Testing config 93 on 144\n",
      "Testing config 94 on 144\n",
      "Testing config 95 on 144\n",
      "Testing config 96 on 144\n",
      "Testing config 97 on 144\n",
      "Testing config 98 on 144\n",
      "Testing config 99 on 144\n",
      "Testing config 100 on 144\n",
      "Testing config 101 on 144\n",
      "Testing config 102 on 144\n",
      "Testing config 103 on 144\n",
      "Testing config 104 on 144\n",
      "Testing config 105 on 144\n",
      "Testing config 106 on 144\n",
      "Testing config 107 on 144\n",
      "Testing config 108 on 144\n",
      "Testing config 109 on 144\n",
      "Testing config 110 on 144\n",
      "Testing config 111 on 144\n",
      "Testing config 112 on 144\n",
      "Testing config 113 on 144\n",
      "Testing config 114 on 144\n",
      "Testing config 115 on 144\n",
      "Testing config 116 on 144\n",
      "Testing config 117 on 144\n",
      "Testing config 118 on 144\n",
      "Testing config 119 on 144\n",
      "Testing config 120 on 144\n",
      "Testing config 121 on 144\n",
      "Testing config 122 on 144\n",
      "Testing config 123 on 144\n",
      "Testing config 124 on 144\n",
      "Testing config 125 on 144\n",
      "Testing config 126 on 144\n",
      "Testing config 127 on 144\n",
      "Testing config 128 on 144\n",
      "Testing config 129 on 144\n",
      "Testing config 130 on 144\n",
      "Testing config 131 on 144\n",
      "Testing config 132 on 144\n",
      "Testing config 133 on 144\n",
      "Testing config 134 on 144\n",
      "Testing config 135 on 144\n",
      "Testing config 136 on 144\n",
      "Testing config 137 on 144\n",
      "Testing config 138 on 144\n",
      "Testing config 139 on 144\n",
      "Testing config 140 on 144\n",
      "Testing config 141 on 144\n",
      "Testing config 142 on 144\n",
      "Testing config 143 on 144\n",
      "Testing config 144 on 144\n",
      "\n",
      "--------------------------------------Config Done--------------------------------------------\n",
      "\n"
     ]
    },
    {
     "name": "stderr",
     "output_type": "stream",
     "text": [
      "/usr/local/lib/python3.11/dist-packages/sklearn/metrics/_classification.py:1565: UndefinedMetricWarning: Precision is ill-defined and being set to 0.0 due to no predicted samples. Use `zero_division` parameter to control this behavior.\n",
      "  _warn_prf(average, modifier, f\"{metric.capitalize()} is\", len(result))\n"
     ]
    },
    {
     "data": {
      "text/html": [
       "Tracking run with wandb version 0.19.8"
      ],
      "text/plain": [
       "<IPython.core.display.HTML object>"
      ]
     },
     "metadata": {},
     "output_type": "display_data"
    },
    {
     "data": {
      "text/html": [
       "Run data is saved locally in <code>/content/wandb/run-20250315_115247-fc2kwhcq</code>"
      ],
      "text/plain": [
       "<IPython.core.display.HTML object>"
      ]
     },
     "metadata": {},
     "output_type": "display_data"
    },
    {
     "data": {
      "text/html": [
       "Syncing run <strong><a href='https://wandb.ai/TFE-proteomics/RT/runs/fc2kwhcq' target=\"_blank\">ValidProtocol_RT_Scratch_fold_4</a></strong> to <a href='https://wandb.ai/TFE-proteomics/RT' target=\"_blank\">Weights & Biases</a> (<a href='https://wandb.me/developer-guide' target=\"_blank\">docs</a>)<br>"
      ],
      "text/plain": [
       "<IPython.core.display.HTML object>"
      ]
     },
     "metadata": {},
     "output_type": "display_data"
    },
    {
     "data": {
      "text/html": [
       " View project at <a href='https://wandb.ai/TFE-proteomics/RT' target=\"_blank\">https://wandb.ai/TFE-proteomics/RT</a>"
      ],
      "text/plain": [
       "<IPython.core.display.HTML object>"
      ]
     },
     "metadata": {},
     "output_type": "display_data"
    },
    {
     "data": {
      "text/html": [
       " View run at <a href='https://wandb.ai/TFE-proteomics/RT/runs/fc2kwhcq' target=\"_blank\">https://wandb.ai/TFE-proteomics/RT/runs/fc2kwhcq</a>"
      ],
      "text/plain": [
       "<IPython.core.display.HTML object>"
      ]
     },
     "metadata": {},
     "output_type": "display_data"
    },
    {
     "data": {
      "text/html": [],
      "text/plain": [
       "<IPython.core.display.HTML object>"
      ]
     },
     "metadata": {},
     "output_type": "display_data"
    },
    {
     "data": {
      "text/html": [
       "<br>    <style><br>        .wandb-row {<br>            display: flex;<br>            flex-direction: row;<br>            flex-wrap: wrap;<br>            justify-content: flex-start;<br>            width: 100%;<br>        }<br>        .wandb-col {<br>            display: flex;<br>            flex-direction: column;<br>            flex-basis: 100%;<br>            flex: 1;<br>            padding: 10px;<br>        }<br>    </style><br><div class=\"wandb-row\"><div class=\"wandb-col\"><h3>Run history:</h3><br/><table class=\"wandb\"><tr><td>accuracy</td><td>▁</td></tr><tr><td>f1</td><td>▁</td></tr><tr><td>pr_auc</td><td>▁</td></tr><tr><td>precision</td><td>▁</td></tr><tr><td>recall</td><td>▁</td></tr><tr><td>roc_auc</td><td>▁</td></tr></table><br/></div><div class=\"wandb-col\"><h3>Run summary:</h3><br/><table class=\"wandb\"><tr><td>accuracy</td><td>0.74194</td></tr><tr><td>f1</td><td>0</td></tr><tr><td>pr_auc</td><td>0.35361</td></tr><tr><td>precision</td><td>0</td></tr><tr><td>recall</td><td>0</td></tr><tr><td>roc_auc</td><td>0.50543</td></tr></table><br/></div></div>"
      ],
      "text/plain": [
       "<IPython.core.display.HTML object>"
      ]
     },
     "metadata": {},
     "output_type": "display_data"
    },
    {
     "data": {
      "text/html": [
       " View run <strong style=\"color:#cdcd00\">ValidProtocol_RT_Scratch_fold_4</strong> at: <a href='https://wandb.ai/TFE-proteomics/RT/runs/fc2kwhcq' target=\"_blank\">https://wandb.ai/TFE-proteomics/RT/runs/fc2kwhcq</a><br> View project at: <a href='https://wandb.ai/TFE-proteomics/RT' target=\"_blank\">https://wandb.ai/TFE-proteomics/RT</a><br>Synced 5 W&B file(s), 0 media file(s), 0 artifact file(s) and 0 other file(s)"
      ],
      "text/plain": [
       "<IPython.core.display.HTML object>"
      ]
     },
     "metadata": {},
     "output_type": "display_data"
    },
    {
     "data": {
      "text/html": [
       "Find logs at: <code>./wandb/run-20250315_115247-fc2kwhcq/logs</code>"
      ],
      "text/plain": [
       "<IPython.core.display.HTML object>"
      ]
     },
     "metadata": {},
     "output_type": "display_data"
    },
    {
     "name": "stdout",
     "output_type": "stream",
     "text": [
      "Fold 5 on 5\n",
      "Testing config 1 on 144\n",
      "Testing config 2 on 144\n",
      "Testing config 3 on 144\n",
      "Testing config 4 on 144\n",
      "Testing config 5 on 144\n",
      "Testing config 6 on 144\n",
      "Testing config 7 on 144\n",
      "Testing config 8 on 144\n",
      "Testing config 9 on 144\n",
      "Testing config 10 on 144\n",
      "Testing config 11 on 144\n",
      "Testing config 12 on 144\n",
      "Testing config 13 on 144\n",
      "Testing config 14 on 144\n",
      "Testing config 15 on 144\n",
      "Testing config 16 on 144\n",
      "Testing config 17 on 144\n",
      "Testing config 18 on 144\n",
      "Testing config 19 on 144\n",
      "Testing config 20 on 144\n",
      "Testing config 21 on 144\n",
      "Testing config 22 on 144\n",
      "Testing config 23 on 144\n",
      "Testing config 24 on 144\n",
      "Testing config 25 on 144\n",
      "Testing config 26 on 144\n",
      "Testing config 27 on 144\n",
      "Testing config 28 on 144\n",
      "Testing config 29 on 144\n",
      "Testing config 30 on 144\n",
      "Testing config 31 on 144\n",
      "Testing config 32 on 144\n",
      "Testing config 33 on 144\n",
      "Testing config 34 on 144\n",
      "Testing config 35 on 144\n",
      "Testing config 36 on 144\n",
      "Testing config 37 on 144\n",
      "Testing config 38 on 144\n",
      "Testing config 39 on 144\n",
      "Testing config 40 on 144\n",
      "Testing config 41 on 144\n",
      "Testing config 42 on 144\n",
      "Testing config 43 on 144\n",
      "Testing config 44 on 144\n",
      "Testing config 45 on 144\n",
      "Testing config 46 on 144\n",
      "Testing config 47 on 144\n",
      "Testing config 48 on 144\n",
      "Testing config 49 on 144\n",
      "Testing config 50 on 144\n",
      "Testing config 51 on 144\n",
      "Testing config 52 on 144\n",
      "Testing config 53 on 144\n",
      "Testing config 54 on 144\n",
      "Testing config 55 on 144\n",
      "Testing config 56 on 144\n",
      "Testing config 57 on 144\n",
      "Testing config 58 on 144\n",
      "Testing config 59 on 144\n",
      "Testing config 60 on 144\n",
      "Testing config 61 on 144\n",
      "Testing config 62 on 144\n",
      "Testing config 63 on 144\n",
      "Testing config 64 on 144\n",
      "Testing config 65 on 144\n",
      "Testing config 66 on 144\n",
      "Testing config 67 on 144\n",
      "Testing config 68 on 144\n",
      "Testing config 69 on 144\n",
      "Testing config 70 on 144\n",
      "Testing config 71 on 144\n",
      "Testing config 72 on 144\n",
      "Testing config 73 on 144\n",
      "Testing config 74 on 144\n",
      "Testing config 75 on 144\n",
      "Testing config 76 on 144\n",
      "Testing config 77 on 144\n",
      "Testing config 78 on 144\n",
      "Testing config 79 on 144\n",
      "Testing config 80 on 144\n",
      "Testing config 81 on 144\n",
      "Testing config 82 on 144\n",
      "Testing config 83 on 144\n",
      "Testing config 84 on 144\n",
      "Testing config 85 on 144\n",
      "Testing config 86 on 144\n",
      "Testing config 87 on 144\n",
      "Testing config 88 on 144\n",
      "Testing config 89 on 144\n",
      "Testing config 90 on 144\n",
      "Testing config 91 on 144\n",
      "Testing config 92 on 144\n",
      "Testing config 93 on 144\n",
      "Testing config 94 on 144\n",
      "Testing config 95 on 144\n",
      "Testing config 96 on 144\n",
      "Testing config 97 on 144\n",
      "Testing config 98 on 144\n",
      "Testing config 99 on 144\n",
      "Testing config 100 on 144\n",
      "Testing config 101 on 144\n",
      "Testing config 102 on 144\n",
      "Testing config 103 on 144\n",
      "Testing config 104 on 144\n",
      "Testing config 105 on 144\n",
      "Testing config 106 on 144\n",
      "Testing config 107 on 144\n",
      "Testing config 108 on 144\n",
      "Testing config 109 on 144\n",
      "Testing config 110 on 144\n",
      "Testing config 111 on 144\n",
      "Testing config 112 on 144\n",
      "Testing config 113 on 144\n",
      "Testing config 114 on 144\n",
      "Testing config 115 on 144\n",
      "Testing config 116 on 144\n",
      "Testing config 117 on 144\n",
      "Testing config 118 on 144\n",
      "Testing config 119 on 144\n",
      "Testing config 120 on 144\n",
      "Testing config 121 on 144\n",
      "Testing config 122 on 144\n",
      "Testing config 123 on 144\n",
      "Testing config 124 on 144\n",
      "Testing config 125 on 144\n",
      "Testing config 126 on 144\n",
      "Testing config 127 on 144\n",
      "Testing config 128 on 144\n",
      "Testing config 129 on 144\n",
      "Testing config 130 on 144\n",
      "Testing config 131 on 144\n",
      "Testing config 132 on 144\n",
      "Testing config 133 on 144\n",
      "Testing config 134 on 144\n",
      "Testing config 135 on 144\n",
      "Testing config 136 on 144\n",
      "Testing config 137 on 144\n",
      "Testing config 138 on 144\n",
      "Testing config 139 on 144\n",
      "Testing config 140 on 144\n",
      "Testing config 141 on 144\n",
      "Testing config 142 on 144\n",
      "Testing config 143 on 144\n",
      "Testing config 144 on 144\n",
      "\n",
      "--------------------------------------Config Done--------------------------------------------\n",
      "\n"
     ]
    },
    {
     "name": "stderr",
     "output_type": "stream",
     "text": [
      "/usr/local/lib/python3.11/dist-packages/sklearn/metrics/_classification.py:1565: UndefinedMetricWarning: Precision is ill-defined and being set to 0.0 due to no predicted samples. Use `zero_division` parameter to control this behavior.\n",
      "  _warn_prf(average, modifier, f\"{metric.capitalize()} is\", len(result))\n"
     ]
    },
    {
     "data": {
      "text/html": [
       "Tracking run with wandb version 0.19.8"
      ],
      "text/plain": [
       "<IPython.core.display.HTML object>"
      ]
     },
     "metadata": {},
     "output_type": "display_data"
    },
    {
     "data": {
      "text/html": [
       "Run data is saved locally in <code>/content/wandb/run-20250315_115935-xzbgedlu</code>"
      ],
      "text/plain": [
       "<IPython.core.display.HTML object>"
      ]
     },
     "metadata": {},
     "output_type": "display_data"
    },
    {
     "data": {
      "text/html": [
       "Syncing run <strong><a href='https://wandb.ai/TFE-proteomics/RT/runs/xzbgedlu' target=\"_blank\">ValidProtocol_RT_Scratch_fold_5</a></strong> to <a href='https://wandb.ai/TFE-proteomics/RT' target=\"_blank\">Weights & Biases</a> (<a href='https://wandb.me/developer-guide' target=\"_blank\">docs</a>)<br>"
      ],
      "text/plain": [
       "<IPython.core.display.HTML object>"
      ]
     },
     "metadata": {},
     "output_type": "display_data"
    },
    {
     "data": {
      "text/html": [
       " View project at <a href='https://wandb.ai/TFE-proteomics/RT' target=\"_blank\">https://wandb.ai/TFE-proteomics/RT</a>"
      ],
      "text/plain": [
       "<IPython.core.display.HTML object>"
      ]
     },
     "metadata": {},
     "output_type": "display_data"
    },
    {
     "data": {
      "text/html": [
       " View run at <a href='https://wandb.ai/TFE-proteomics/RT/runs/xzbgedlu' target=\"_blank\">https://wandb.ai/TFE-proteomics/RT/runs/xzbgedlu</a>"
      ],
      "text/plain": [
       "<IPython.core.display.HTML object>"
      ]
     },
     "metadata": {},
     "output_type": "display_data"
    },
    {
     "data": {
      "text/html": [],
      "text/plain": [
       "<IPython.core.display.HTML object>"
      ]
     },
     "metadata": {},
     "output_type": "display_data"
    },
    {
     "data": {
      "text/html": [
       "<br>    <style><br>        .wandb-row {<br>            display: flex;<br>            flex-direction: row;<br>            flex-wrap: wrap;<br>            justify-content: flex-start;<br>            width: 100%;<br>        }<br>        .wandb-col {<br>            display: flex;<br>            flex-direction: column;<br>            flex-basis: 100%;<br>            flex: 1;<br>            padding: 10px;<br>        }<br>    </style><br><div class=\"wandb-row\"><div class=\"wandb-col\"><h3>Run history:</h3><br/><table class=\"wandb\"><tr><td>accuracy</td><td>▁</td></tr><tr><td>f1</td><td>▁</td></tr><tr><td>pr_auc</td><td>▁</td></tr><tr><td>precision</td><td>▁</td></tr><tr><td>recall</td><td>▁</td></tr><tr><td>roc_auc</td><td>▁</td></tr></table><br/></div><div class=\"wandb-col\"><h3>Run summary:</h3><br/><table class=\"wandb\"><tr><td>accuracy</td><td>0.74194</td></tr><tr><td>f1</td><td>0</td></tr><tr><td>pr_auc</td><td>0.25432</td></tr><tr><td>precision</td><td>0</td></tr><tr><td>recall</td><td>0</td></tr><tr><td>roc_auc</td><td>0.40761</td></tr></table><br/></div></div>"
      ],
      "text/plain": [
       "<IPython.core.display.HTML object>"
      ]
     },
     "metadata": {},
     "output_type": "display_data"
    },
    {
     "data": {
      "text/html": [
       " View run <strong style=\"color:#cdcd00\">ValidProtocol_RT_Scratch_fold_5</strong> at: <a href='https://wandb.ai/TFE-proteomics/RT/runs/xzbgedlu' target=\"_blank\">https://wandb.ai/TFE-proteomics/RT/runs/xzbgedlu</a><br> View project at: <a href='https://wandb.ai/TFE-proteomics/RT' target=\"_blank\">https://wandb.ai/TFE-proteomics/RT</a><br>Synced 5 W&B file(s), 0 media file(s), 0 artifact file(s) and 0 other file(s)"
      ],
      "text/plain": [
       "<IPython.core.display.HTML object>"
      ]
     },
     "metadata": {},
     "output_type": "display_data"
    },
    {
     "data": {
      "text/html": [
       "Find logs at: <code>./wandb/run-20250315_115935-xzbgedlu/logs</code>"
      ],
      "text/plain": [
       "<IPython.core.display.HTML object>"
      ]
     },
     "metadata": {},
     "output_type": "display_data"
    },
    {
     "data": {
      "text/html": [
       "Tracking run with wandb version 0.19.8"
      ],
      "text/plain": [
       "<IPython.core.display.HTML object>"
      ]
     },
     "metadata": {},
     "output_type": "display_data"
    },
    {
     "data": {
      "text/html": [
       "Run data is saved locally in <code>/content/wandb/run-20250315_115938-u03oj4e1</code>"
      ],
      "text/plain": [
       "<IPython.core.display.HTML object>"
      ]
     },
     "metadata": {},
     "output_type": "display_data"
    },
    {
     "data": {
      "text/html": [
       "Syncing run <strong><a href='https://wandb.ai/TFE-proteomics/RT/runs/u03oj4e1' target=\"_blank\">ValidProtocol_RT_Scratch_CrossValidation_Summary</a></strong> to <a href='https://wandb.ai/TFE-proteomics/RT' target=\"_blank\">Weights & Biases</a> (<a href='https://wandb.me/developer-guide' target=\"_blank\">docs</a>)<br>"
      ],
      "text/plain": [
       "<IPython.core.display.HTML object>"
      ]
     },
     "metadata": {},
     "output_type": "display_data"
    },
    {
     "data": {
      "text/html": [
       " View project at <a href='https://wandb.ai/TFE-proteomics/RT' target=\"_blank\">https://wandb.ai/TFE-proteomics/RT</a>"
      ],
      "text/plain": [
       "<IPython.core.display.HTML object>"
      ]
     },
     "metadata": {},
     "output_type": "display_data"
    },
    {
     "data": {
      "text/html": [
       " View run at <a href='https://wandb.ai/TFE-proteomics/RT/runs/u03oj4e1' target=\"_blank\">https://wandb.ai/TFE-proteomics/RT/runs/u03oj4e1</a>"
      ],
      "text/plain": [
       "<IPython.core.display.HTML object>"
      ]
     },
     "metadata": {},
     "output_type": "display_data"
    },
    {
     "data": {
      "text/html": [],
      "text/plain": [
       "<IPython.core.display.HTML object>"
      ]
     },
     "metadata": {},
     "output_type": "display_data"
    },
    {
     "data": {
      "text/html": [
       "<br>    <style><br>        .wandb-row {<br>            display: flex;<br>            flex-direction: row;<br>            flex-wrap: wrap;<br>            justify-content: flex-start;<br>            width: 100%;<br>        }<br>        .wandb-col {<br>            display: flex;<br>            flex-direction: column;<br>            flex-basis: 100%;<br>            flex: 1;<br>            padding: 10px;<br>        }<br>    </style><br><div class=\"wandb-row\"><div class=\"wandb-col\"><h3>Run history:</h3><br/><table class=\"wandb\"><tr><td>accuracy_mean</td><td>▁</td></tr><tr><td>accuracy_std</td><td>▁</td></tr><tr><td>f1_mean</td><td>▁</td></tr><tr><td>f1_std</td><td>▁</td></tr><tr><td>pr_auc_mean</td><td>▁</td></tr><tr><td>pr_auc_std</td><td>▁</td></tr><tr><td>precision_mean</td><td>▁</td></tr><tr><td>precision_std</td><td>▁</td></tr><tr><td>recall_mean</td><td>▁</td></tr><tr><td>recall_std</td><td>▁</td></tr><tr><td>roc_auc_mean</td><td>▁</td></tr><tr><td>roc_auc_std</td><td>▁</td></tr></table><br/></div><div class=\"wandb-col\"><h3>Run summary:</h3><br/><table class=\"wandb\"><tr><td>accuracy_mean</td><td>0.70968</td></tr><tr><td>accuracy_std</td><td>0.05398</td></tr><tr><td>f1_mean</td><td>0.03077</td></tr><tr><td>f1_std</td><td>0.06154</td></tr><tr><td>pr_auc_mean</td><td>0.31156</td></tr><tr><td>pr_auc_std</td><td>0.04186</td></tr><tr><td>precision_mean</td><td>0.03333</td></tr><tr><td>precision_std</td><td>0.06667</td></tr><tr><td>recall_mean</td><td>0.02857</td></tr><tr><td>recall_std</td><td>0.05714</td></tr><tr><td>roc_auc_mean</td><td>0.49969</td></tr><tr><td>roc_auc_std</td><td>0.06406</td></tr></table><br/></div></div>"
      ],
      "text/plain": [
       "<IPython.core.display.HTML object>"
      ]
     },
     "metadata": {},
     "output_type": "display_data"
    },
    {
     "data": {
      "text/html": [
       " View run <strong style=\"color:#cdcd00\">ValidProtocol_RT_Scratch_CrossValidation_Summary</strong> at: <a href='https://wandb.ai/TFE-proteomics/RT/runs/u03oj4e1' target=\"_blank\">https://wandb.ai/TFE-proteomics/RT/runs/u03oj4e1</a><br> View project at: <a href='https://wandb.ai/TFE-proteomics/RT' target=\"_blank\">https://wandb.ai/TFE-proteomics/RT</a><br>Synced 5 W&B file(s), 0 media file(s), 0 artifact file(s) and 0 other file(s)"
      ],
      "text/plain": [
       "<IPython.core.display.HTML object>"
      ]
     },
     "metadata": {},
     "output_type": "display_data"
    },
    {
     "data": {
      "text/html": [
       "Find logs at: <code>./wandb/run-20250315_115938-u03oj4e1/logs</code>"
      ],
      "text/plain": [
       "<IPython.core.display.HTML object>"
      ]
     },
     "metadata": {},
     "output_type": "display_data"
    },
    {
     "name": "stdout",
     "output_type": "stream",
     "text": [
      "Fold 1 on 5\n",
      "Testing config 1 on 144\n",
      "Testing config 2 on 144\n",
      "Testing config 3 on 144\n",
      "Testing config 4 on 144\n",
      "Testing config 5 on 144\n",
      "Testing config 6 on 144\n",
      "Testing config 7 on 144\n",
      "Testing config 8 on 144\n",
      "Testing config 9 on 144\n",
      "Testing config 10 on 144\n",
      "Testing config 11 on 144\n",
      "Testing config 12 on 144\n",
      "Testing config 13 on 144\n",
      "Testing config 14 on 144\n",
      "Testing config 15 on 144\n",
      "Testing config 16 on 144\n",
      "Testing config 17 on 144\n",
      "Testing config 18 on 144\n",
      "Testing config 19 on 144\n",
      "Testing config 20 on 144\n",
      "Testing config 21 on 144\n",
      "Testing config 22 on 144\n",
      "Testing config 23 on 144\n",
      "Testing config 24 on 144\n",
      "Testing config 25 on 144\n",
      "Testing config 26 on 144\n",
      "Testing config 27 on 144\n",
      "Testing config 28 on 144\n",
      "Testing config 29 on 144\n",
      "Testing config 30 on 144\n",
      "Testing config 31 on 144\n",
      "Testing config 32 on 144\n",
      "Testing config 33 on 144\n",
      "Testing config 34 on 144\n",
      "Testing config 35 on 144\n",
      "Testing config 36 on 144\n",
      "Testing config 37 on 144\n",
      "Testing config 38 on 144\n",
      "Testing config 39 on 144\n",
      "Testing config 40 on 144\n",
      "Testing config 41 on 144\n",
      "Testing config 42 on 144\n",
      "Testing config 43 on 144\n",
      "Testing config 44 on 144\n",
      "Testing config 45 on 144\n",
      "Testing config 46 on 144\n",
      "Testing config 47 on 144\n",
      "Testing config 48 on 144\n",
      "Testing config 49 on 144\n",
      "Testing config 50 on 144\n",
      "Testing config 51 on 144\n",
      "Testing config 52 on 144\n",
      "Testing config 53 on 144\n",
      "Testing config 54 on 144\n",
      "Testing config 55 on 144\n",
      "Testing config 56 on 144\n",
      "Testing config 57 on 144\n",
      "Testing config 58 on 144\n",
      "Testing config 59 on 144\n",
      "Testing config 60 on 144\n",
      "Testing config 61 on 144\n",
      "Testing config 62 on 144\n",
      "Testing config 63 on 144\n",
      "Testing config 64 on 144\n",
      "Testing config 65 on 144\n",
      "Testing config 66 on 144\n",
      "Testing config 67 on 144\n",
      "Testing config 68 on 144\n",
      "Testing config 69 on 144\n",
      "Testing config 70 on 144\n",
      "Testing config 71 on 144\n",
      "Testing config 72 on 144\n",
      "Testing config 73 on 144\n",
      "Testing config 74 on 144\n",
      "Testing config 75 on 144\n",
      "Testing config 76 on 144\n",
      "Testing config 77 on 144\n",
      "Testing config 78 on 144\n",
      "Testing config 79 on 144\n",
      "Testing config 80 on 144\n",
      "Testing config 81 on 144\n",
      "Testing config 82 on 144\n",
      "Testing config 83 on 144\n",
      "Testing config 84 on 144\n",
      "Testing config 85 on 144\n",
      "Testing config 86 on 144\n",
      "Testing config 87 on 144\n",
      "Testing config 88 on 144\n",
      "Testing config 89 on 144\n",
      "Testing config 90 on 144\n",
      "Testing config 91 on 144\n",
      "Testing config 92 on 144\n",
      "Testing config 93 on 144\n",
      "Testing config 94 on 144\n",
      "Testing config 95 on 144\n",
      "Testing config 96 on 144\n",
      "Testing config 97 on 144\n",
      "Testing config 98 on 144\n",
      "Testing config 99 on 144\n",
      "Testing config 100 on 144\n",
      "Testing config 101 on 144\n",
      "Testing config 102 on 144\n",
      "Testing config 103 on 144\n",
      "Testing config 104 on 144\n",
      "Testing config 105 on 144\n",
      "Testing config 106 on 144\n",
      "Testing config 107 on 144\n",
      "Testing config 108 on 144\n",
      "Testing config 109 on 144\n",
      "Testing config 110 on 144\n",
      "Testing config 111 on 144\n",
      "Testing config 112 on 144\n",
      "Testing config 113 on 144\n",
      "Testing config 114 on 144\n",
      "Testing config 115 on 144\n",
      "Testing config 116 on 144\n",
      "Testing config 117 on 144\n",
      "Testing config 118 on 144\n",
      "Testing config 119 on 144\n",
      "Testing config 120 on 144\n",
      "Testing config 121 on 144\n",
      "Testing config 122 on 144\n",
      "Testing config 123 on 144\n",
      "Testing config 124 on 144\n",
      "Testing config 125 on 144\n",
      "Testing config 126 on 144\n",
      "Testing config 127 on 144\n",
      "Testing config 128 on 144\n",
      "Testing config 129 on 144\n",
      "Testing config 130 on 144\n",
      "Testing config 131 on 144\n",
      "Testing config 132 on 144\n",
      "Testing config 133 on 144\n",
      "Testing config 134 on 144\n",
      "Testing config 135 on 144\n",
      "Testing config 136 on 144\n",
      "Testing config 137 on 144\n",
      "Testing config 138 on 144\n",
      "Testing config 139 on 144\n",
      "Testing config 140 on 144\n",
      "Testing config 141 on 144\n",
      "Testing config 142 on 144\n",
      "Testing config 143 on 144\n",
      "Testing config 144 on 144\n",
      "\n",
      "--------------------------------------Config Done--------------------------------------------\n",
      "\n"
     ]
    },
    {
     "data": {
      "text/html": [
       "Tracking run with wandb version 0.19.8"
      ],
      "text/plain": [
       "<IPython.core.display.HTML object>"
      ]
     },
     "metadata": {},
     "output_type": "display_data"
    },
    {
     "data": {
      "text/html": [
       "Run data is saved locally in <code>/content/wandb/run-20250315_120629-ergr6nfh</code>"
      ],
      "text/plain": [
       "<IPython.core.display.HTML object>"
      ]
     },
     "metadata": {},
     "output_type": "display_data"
    },
    {
     "data": {
      "text/html": [
       "Syncing run <strong><a href='https://wandb.ai/TFE-proteomics/RT/runs/ergr6nfh' target=\"_blank\">ValidProtocol_RT_Scratch_fold_1</a></strong> to <a href='https://wandb.ai/TFE-proteomics/RT' target=\"_blank\">Weights & Biases</a> (<a href='https://wandb.me/developer-guide' target=\"_blank\">docs</a>)<br>"
      ],
      "text/plain": [
       "<IPython.core.display.HTML object>"
      ]
     },
     "metadata": {},
     "output_type": "display_data"
    },
    {
     "data": {
      "text/html": [
       " View project at <a href='https://wandb.ai/TFE-proteomics/RT' target=\"_blank\">https://wandb.ai/TFE-proteomics/RT</a>"
      ],
      "text/plain": [
       "<IPython.core.display.HTML object>"
      ]
     },
     "metadata": {},
     "output_type": "display_data"
    },
    {
     "data": {
      "text/html": [
       " View run at <a href='https://wandb.ai/TFE-proteomics/RT/runs/ergr6nfh' target=\"_blank\">https://wandb.ai/TFE-proteomics/RT/runs/ergr6nfh</a>"
      ],
      "text/plain": [
       "<IPython.core.display.HTML object>"
      ]
     },
     "metadata": {},
     "output_type": "display_data"
    },
    {
     "data": {
      "text/html": [],
      "text/plain": [
       "<IPython.core.display.HTML object>"
      ]
     },
     "metadata": {},
     "output_type": "display_data"
    },
    {
     "data": {
      "text/html": [
       "<br>    <style><br>        .wandb-row {<br>            display: flex;<br>            flex-direction: row;<br>            flex-wrap: wrap;<br>            justify-content: flex-start;<br>            width: 100%;<br>        }<br>        .wandb-col {<br>            display: flex;<br>            flex-direction: column;<br>            flex-basis: 100%;<br>            flex: 1;<br>            padding: 10px;<br>        }<br>    </style><br><div class=\"wandb-row\"><div class=\"wandb-col\"><h3>Run history:</h3><br/><table class=\"wandb\"><tr><td>accuracy</td><td>▁</td></tr><tr><td>f1</td><td>▁</td></tr><tr><td>pr_auc</td><td>▁</td></tr><tr><td>precision</td><td>▁</td></tr><tr><td>recall</td><td>▁</td></tr><tr><td>roc_auc</td><td>▁</td></tr></table><br/></div><div class=\"wandb-col\"><h3>Run summary:</h3><br/><table class=\"wandb\"><tr><td>accuracy</td><td>0.74194</td></tr><tr><td>f1</td><td>0</td></tr><tr><td>pr_auc</td><td>0.25256</td></tr><tr><td>precision</td><td>0</td></tr><tr><td>recall</td><td>0</td></tr><tr><td>roc_auc</td><td>0.50595</td></tr></table><br/></div></div>"
      ],
      "text/plain": [
       "<IPython.core.display.HTML object>"
      ]
     },
     "metadata": {},
     "output_type": "display_data"
    },
    {
     "data": {
      "text/html": [
       " View run <strong style=\"color:#cdcd00\">ValidProtocol_RT_Scratch_fold_1</strong> at: <a href='https://wandb.ai/TFE-proteomics/RT/runs/ergr6nfh' target=\"_blank\">https://wandb.ai/TFE-proteomics/RT/runs/ergr6nfh</a><br> View project at: <a href='https://wandb.ai/TFE-proteomics/RT' target=\"_blank\">https://wandb.ai/TFE-proteomics/RT</a><br>Synced 5 W&B file(s), 0 media file(s), 0 artifact file(s) and 0 other file(s)"
      ],
      "text/plain": [
       "<IPython.core.display.HTML object>"
      ]
     },
     "metadata": {},
     "output_type": "display_data"
    },
    {
     "data": {
      "text/html": [
       "Find logs at: <code>./wandb/run-20250315_120629-ergr6nfh/logs</code>"
      ],
      "text/plain": [
       "<IPython.core.display.HTML object>"
      ]
     },
     "metadata": {},
     "output_type": "display_data"
    },
    {
     "name": "stdout",
     "output_type": "stream",
     "text": [
      "Fold 2 on 5\n",
      "Testing config 1 on 144\n",
      "Testing config 2 on 144\n",
      "Testing config 3 on 144\n",
      "Testing config 4 on 144\n",
      "Testing config 5 on 144\n",
      "Testing config 6 on 144\n",
      "Testing config 7 on 144\n",
      "Testing config 8 on 144\n",
      "Testing config 9 on 144\n",
      "Testing config 10 on 144\n",
      "Testing config 11 on 144\n",
      "Testing config 12 on 144\n",
      "Testing config 13 on 144\n",
      "Testing config 14 on 144\n",
      "Testing config 15 on 144\n",
      "Testing config 16 on 144\n",
      "Testing config 17 on 144\n",
      "Testing config 18 on 144\n",
      "Testing config 19 on 144\n",
      "Testing config 20 on 144\n",
      "Testing config 21 on 144\n",
      "Testing config 22 on 144\n",
      "Testing config 23 on 144\n",
      "Testing config 24 on 144\n",
      "Testing config 25 on 144\n",
      "Testing config 26 on 144\n",
      "Testing config 27 on 144\n",
      "Testing config 28 on 144\n",
      "Testing config 29 on 144\n",
      "Testing config 30 on 144\n",
      "Testing config 31 on 144\n",
      "Testing config 32 on 144\n",
      "Testing config 33 on 144\n",
      "Testing config 34 on 144\n",
      "Testing config 35 on 144\n",
      "Testing config 36 on 144\n",
      "Testing config 37 on 144\n",
      "Testing config 38 on 144\n",
      "Testing config 39 on 144\n",
      "Testing config 40 on 144\n",
      "Testing config 41 on 144\n",
      "Testing config 42 on 144\n",
      "Testing config 43 on 144\n",
      "Testing config 44 on 144\n",
      "Testing config 45 on 144\n",
      "Testing config 46 on 144\n",
      "Testing config 47 on 144\n",
      "Testing config 48 on 144\n",
      "Testing config 49 on 144\n",
      "Testing config 50 on 144\n",
      "Testing config 51 on 144\n",
      "Testing config 52 on 144\n",
      "Testing config 53 on 144\n",
      "Testing config 54 on 144\n",
      "Testing config 55 on 144\n",
      "Testing config 56 on 144\n",
      "Testing config 57 on 144\n",
      "Testing config 58 on 144\n",
      "Testing config 59 on 144\n",
      "Testing config 60 on 144\n",
      "Testing config 61 on 144\n",
      "Testing config 62 on 144\n",
      "Testing config 63 on 144\n",
      "Testing config 64 on 144\n",
      "Testing config 65 on 144\n",
      "Testing config 66 on 144\n",
      "Testing config 67 on 144\n",
      "Testing config 68 on 144\n",
      "Testing config 69 on 144\n",
      "Testing config 70 on 144\n",
      "Testing config 71 on 144\n",
      "Testing config 72 on 144\n",
      "Testing config 73 on 144\n",
      "Testing config 74 on 144\n",
      "Testing config 75 on 144\n",
      "Testing config 76 on 144\n",
      "Testing config 77 on 144\n",
      "Testing config 78 on 144\n",
      "Testing config 79 on 144\n",
      "Testing config 80 on 144\n",
      "Testing config 81 on 144\n",
      "Testing config 82 on 144\n",
      "Testing config 83 on 144\n",
      "Testing config 84 on 144\n",
      "Testing config 85 on 144\n",
      "Testing config 86 on 144\n",
      "Testing config 87 on 144\n",
      "Testing config 88 on 144\n",
      "Testing config 89 on 144\n",
      "Testing config 90 on 144\n",
      "Testing config 91 on 144\n",
      "Testing config 92 on 144\n",
      "Testing config 93 on 144\n",
      "Testing config 94 on 144\n",
      "Testing config 95 on 144\n",
      "Testing config 96 on 144\n",
      "Testing config 97 on 144\n",
      "Testing config 98 on 144\n",
      "Testing config 99 on 144\n",
      "Testing config 100 on 144\n",
      "Testing config 101 on 144\n",
      "Testing config 102 on 144\n",
      "Testing config 103 on 144\n",
      "Testing config 104 on 144\n",
      "Testing config 105 on 144\n",
      "Testing config 106 on 144\n",
      "Testing config 107 on 144\n",
      "Testing config 108 on 144\n",
      "Testing config 109 on 144\n",
      "Testing config 110 on 144\n",
      "Testing config 111 on 144\n",
      "Testing config 112 on 144\n",
      "Testing config 113 on 144\n",
      "Testing config 114 on 144\n",
      "Testing config 115 on 144\n",
      "Testing config 116 on 144\n",
      "Testing config 117 on 144\n",
      "Testing config 118 on 144\n",
      "Testing config 119 on 144\n",
      "Testing config 120 on 144\n",
      "Testing config 121 on 144\n",
      "Testing config 122 on 144\n",
      "Testing config 123 on 144\n",
      "Testing config 124 on 144\n",
      "Testing config 125 on 144\n",
      "Testing config 126 on 144\n",
      "Testing config 127 on 144\n",
      "Testing config 128 on 144\n",
      "Testing config 129 on 144\n",
      "Testing config 130 on 144\n",
      "Testing config 131 on 144\n",
      "Testing config 132 on 144\n",
      "Testing config 133 on 144\n",
      "Testing config 134 on 144\n",
      "Testing config 135 on 144\n",
      "Testing config 136 on 144\n",
      "Testing config 137 on 144\n",
      "Testing config 138 on 144\n",
      "Testing config 139 on 144\n",
      "Testing config 140 on 144\n",
      "Testing config 141 on 144\n",
      "Testing config 142 on 144\n",
      "Testing config 143 on 144\n",
      "Testing config 144 on 144\n",
      "\n",
      "--------------------------------------Config Done--------------------------------------------\n",
      "\n"
     ]
    },
    {
     "data": {
      "text/html": [
       "Tracking run with wandb version 0.19.8"
      ],
      "text/plain": [
       "<IPython.core.display.HTML object>"
      ]
     },
     "metadata": {},
     "output_type": "display_data"
    },
    {
     "data": {
      "text/html": [
       "Run data is saved locally in <code>/content/wandb/run-20250315_121322-okrwn4ak</code>"
      ],
      "text/plain": [
       "<IPython.core.display.HTML object>"
      ]
     },
     "metadata": {},
     "output_type": "display_data"
    },
    {
     "data": {
      "text/html": [
       "Syncing run <strong><a href='https://wandb.ai/TFE-proteomics/RT/runs/okrwn4ak' target=\"_blank\">ValidProtocol_RT_Scratch_fold_2</a></strong> to <a href='https://wandb.ai/TFE-proteomics/RT' target=\"_blank\">Weights & Biases</a> (<a href='https://wandb.me/developer-guide' target=\"_blank\">docs</a>)<br>"
      ],
      "text/plain": [
       "<IPython.core.display.HTML object>"
      ]
     },
     "metadata": {},
     "output_type": "display_data"
    },
    {
     "data": {
      "text/html": [
       " View project at <a href='https://wandb.ai/TFE-proteomics/RT' target=\"_blank\">https://wandb.ai/TFE-proteomics/RT</a>"
      ],
      "text/plain": [
       "<IPython.core.display.HTML object>"
      ]
     },
     "metadata": {},
     "output_type": "display_data"
    },
    {
     "data": {
      "text/html": [
       " View run at <a href='https://wandb.ai/TFE-proteomics/RT/runs/okrwn4ak' target=\"_blank\">https://wandb.ai/TFE-proteomics/RT/runs/okrwn4ak</a>"
      ],
      "text/plain": [
       "<IPython.core.display.HTML object>"
      ]
     },
     "metadata": {},
     "output_type": "display_data"
    },
    {
     "data": {
      "text/html": [],
      "text/plain": [
       "<IPython.core.display.HTML object>"
      ]
     },
     "metadata": {},
     "output_type": "display_data"
    },
    {
     "data": {
      "text/html": [
       "<br>    <style><br>        .wandb-row {<br>            display: flex;<br>            flex-direction: row;<br>            flex-wrap: wrap;<br>            justify-content: flex-start;<br>            width: 100%;<br>        }<br>        .wandb-col {<br>            display: flex;<br>            flex-direction: column;<br>            flex-basis: 100%;<br>            flex: 1;<br>            padding: 10px;<br>        }<br>    </style><br><div class=\"wandb-row\"><div class=\"wandb-col\"><h3>Run history:</h3><br/><table class=\"wandb\"><tr><td>accuracy</td><td>▁</td></tr><tr><td>f1</td><td>▁</td></tr><tr><td>pr_auc</td><td>▁</td></tr><tr><td>precision</td><td>▁</td></tr><tr><td>recall</td><td>▁</td></tr><tr><td>roc_auc</td><td>▁</td></tr></table><br/></div><div class=\"wandb-col\"><h3>Run summary:</h3><br/><table class=\"wandb\"><tr><td>accuracy</td><td>0.22581</td></tr><tr><td>f1</td><td>0.36842</td></tr><tr><td>pr_auc</td><td>0.2776</td></tr><tr><td>precision</td><td>0.22581</td></tr><tr><td>recall</td><td>1</td></tr><tr><td>roc_auc</td><td>0.57738</td></tr></table><br/></div></div>"
      ],
      "text/plain": [
       "<IPython.core.display.HTML object>"
      ]
     },
     "metadata": {},
     "output_type": "display_data"
    },
    {
     "data": {
      "text/html": [
       " View run <strong style=\"color:#cdcd00\">ValidProtocol_RT_Scratch_fold_2</strong> at: <a href='https://wandb.ai/TFE-proteomics/RT/runs/okrwn4ak' target=\"_blank\">https://wandb.ai/TFE-proteomics/RT/runs/okrwn4ak</a><br> View project at: <a href='https://wandb.ai/TFE-proteomics/RT' target=\"_blank\">https://wandb.ai/TFE-proteomics/RT</a><br>Synced 5 W&B file(s), 0 media file(s), 0 artifact file(s) and 0 other file(s)"
      ],
      "text/plain": [
       "<IPython.core.display.HTML object>"
      ]
     },
     "metadata": {},
     "output_type": "display_data"
    },
    {
     "data": {
      "text/html": [
       "Find logs at: <code>./wandb/run-20250315_121322-okrwn4ak/logs</code>"
      ],
      "text/plain": [
       "<IPython.core.display.HTML object>"
      ]
     },
     "metadata": {},
     "output_type": "display_data"
    },
    {
     "name": "stdout",
     "output_type": "stream",
     "text": [
      "Fold 3 on 5\n",
      "Testing config 1 on 144\n",
      "Testing config 2 on 144\n",
      "Testing config 3 on 144\n",
      "Testing config 4 on 144\n",
      "Testing config 5 on 144\n",
      "Testing config 6 on 144\n",
      "Testing config 7 on 144\n",
      "Testing config 8 on 144\n",
      "Testing config 9 on 144\n",
      "Testing config 10 on 144\n",
      "Testing config 11 on 144\n",
      "Testing config 12 on 144\n",
      "Testing config 13 on 144\n",
      "Testing config 14 on 144\n",
      "Testing config 15 on 144\n",
      "Testing config 16 on 144\n",
      "Testing config 17 on 144\n",
      "Testing config 18 on 144\n",
      "Testing config 19 on 144\n",
      "Testing config 20 on 144\n",
      "Testing config 21 on 144\n",
      "Testing config 22 on 144\n",
      "Testing config 23 on 144\n",
      "Testing config 24 on 144\n",
      "Testing config 25 on 144\n",
      "Testing config 26 on 144\n",
      "Testing config 27 on 144\n",
      "Testing config 28 on 144\n",
      "Testing config 29 on 144\n",
      "Testing config 30 on 144\n",
      "Testing config 31 on 144\n",
      "Testing config 32 on 144\n",
      "Testing config 33 on 144\n",
      "Testing config 34 on 144\n",
      "Testing config 35 on 144\n",
      "Testing config 36 on 144\n",
      "Testing config 37 on 144\n",
      "Testing config 38 on 144\n",
      "Testing config 39 on 144\n",
      "Testing config 40 on 144\n",
      "Testing config 41 on 144\n",
      "Testing config 42 on 144\n",
      "Testing config 43 on 144\n",
      "Testing config 44 on 144\n",
      "Testing config 45 on 144\n",
      "Testing config 46 on 144\n",
      "Testing config 47 on 144\n",
      "Testing config 48 on 144\n",
      "Testing config 49 on 144\n",
      "Testing config 50 on 144\n",
      "Testing config 51 on 144\n",
      "Testing config 52 on 144\n",
      "Testing config 53 on 144\n",
      "Testing config 54 on 144\n",
      "Testing config 55 on 144\n",
      "Testing config 56 on 144\n",
      "Testing config 57 on 144\n",
      "Testing config 58 on 144\n",
      "Testing config 59 on 144\n",
      "Testing config 60 on 144\n",
      "Testing config 61 on 144\n",
      "Testing config 62 on 144\n",
      "Testing config 63 on 144\n",
      "Testing config 64 on 144\n",
      "Testing config 65 on 144\n",
      "Testing config 66 on 144\n",
      "Testing config 67 on 144\n",
      "Testing config 68 on 144\n",
      "Testing config 69 on 144\n",
      "Testing config 70 on 144\n",
      "Testing config 71 on 144\n",
      "Testing config 72 on 144\n",
      "Testing config 73 on 144\n",
      "Testing config 74 on 144\n",
      "Testing config 75 on 144\n",
      "Testing config 76 on 144\n",
      "Testing config 77 on 144\n",
      "Testing config 78 on 144\n",
      "Testing config 79 on 144\n",
      "Testing config 80 on 144\n",
      "Testing config 81 on 144\n",
      "Testing config 82 on 144\n",
      "Testing config 83 on 144\n",
      "Testing config 84 on 144\n",
      "Testing config 85 on 144\n",
      "Testing config 86 on 144\n",
      "Testing config 87 on 144\n",
      "Testing config 88 on 144\n",
      "Testing config 89 on 144\n",
      "Testing config 90 on 144\n",
      "Testing config 91 on 144\n",
      "Testing config 92 on 144\n",
      "Testing config 93 on 144\n",
      "Testing config 94 on 144\n",
      "Testing config 95 on 144\n",
      "Testing config 96 on 144\n",
      "Testing config 97 on 144\n",
      "Testing config 98 on 144\n",
      "Testing config 99 on 144\n",
      "Testing config 100 on 144\n",
      "Testing config 101 on 144\n",
      "Testing config 102 on 144\n",
      "Testing config 103 on 144\n",
      "Testing config 104 on 144\n",
      "Testing config 105 on 144\n",
      "Testing config 106 on 144\n",
      "Testing config 107 on 144\n",
      "Testing config 108 on 144\n",
      "Testing config 109 on 144\n",
      "Testing config 110 on 144\n",
      "Testing config 111 on 144\n",
      "Testing config 112 on 144\n",
      "Testing config 113 on 144\n",
      "Testing config 114 on 144\n",
      "Testing config 115 on 144\n",
      "Testing config 116 on 144\n",
      "Testing config 117 on 144\n",
      "Testing config 118 on 144\n",
      "Testing config 119 on 144\n",
      "Testing config 120 on 144\n",
      "Testing config 121 on 144\n",
      "Testing config 122 on 144\n",
      "Testing config 123 on 144\n",
      "Testing config 124 on 144\n",
      "Testing config 125 on 144\n",
      "Testing config 126 on 144\n",
      "Testing config 127 on 144\n",
      "Testing config 128 on 144\n",
      "Testing config 129 on 144\n",
      "Testing config 130 on 144\n",
      "Testing config 131 on 144\n",
      "Testing config 132 on 144\n",
      "Testing config 133 on 144\n",
      "Testing config 134 on 144\n",
      "Testing config 135 on 144\n",
      "Testing config 136 on 144\n",
      "Testing config 137 on 144\n",
      "Testing config 138 on 144\n",
      "Testing config 139 on 144\n",
      "Testing config 140 on 144\n",
      "Testing config 141 on 144\n",
      "Testing config 142 on 144\n",
      "Testing config 143 on 144\n",
      "Testing config 144 on 144\n",
      "\n",
      "--------------------------------------Config Done--------------------------------------------\n",
      "\n"
     ]
    },
    {
     "data": {
      "text/html": [
       "Tracking run with wandb version 0.19.8"
      ],
      "text/plain": [
       "<IPython.core.display.HTML object>"
      ]
     },
     "metadata": {},
     "output_type": "display_data"
    },
    {
     "data": {
      "text/html": [
       "Run data is saved locally in <code>/content/wandb/run-20250315_122011-fn9b00eh</code>"
      ],
      "text/plain": [
       "<IPython.core.display.HTML object>"
      ]
     },
     "metadata": {},
     "output_type": "display_data"
    },
    {
     "data": {
      "text/html": [
       "Syncing run <strong><a href='https://wandb.ai/TFE-proteomics/RT/runs/fn9b00eh' target=\"_blank\">ValidProtocol_RT_Scratch_fold_3</a></strong> to <a href='https://wandb.ai/TFE-proteomics/RT' target=\"_blank\">Weights & Biases</a> (<a href='https://wandb.me/developer-guide' target=\"_blank\">docs</a>)<br>"
      ],
      "text/plain": [
       "<IPython.core.display.HTML object>"
      ]
     },
     "metadata": {},
     "output_type": "display_data"
    },
    {
     "data": {
      "text/html": [
       " View project at <a href='https://wandb.ai/TFE-proteomics/RT' target=\"_blank\">https://wandb.ai/TFE-proteomics/RT</a>"
      ],
      "text/plain": [
       "<IPython.core.display.HTML object>"
      ]
     },
     "metadata": {},
     "output_type": "display_data"
    },
    {
     "data": {
      "text/html": [
       " View run at <a href='https://wandb.ai/TFE-proteomics/RT/runs/fn9b00eh' target=\"_blank\">https://wandb.ai/TFE-proteomics/RT/runs/fn9b00eh</a>"
      ],
      "text/plain": [
       "<IPython.core.display.HTML object>"
      ]
     },
     "metadata": {},
     "output_type": "display_data"
    },
    {
     "data": {
      "text/html": [],
      "text/plain": [
       "<IPython.core.display.HTML object>"
      ]
     },
     "metadata": {},
     "output_type": "display_data"
    },
    {
     "data": {
      "text/html": [
       "<br>    <style><br>        .wandb-row {<br>            display: flex;<br>            flex-direction: row;<br>            flex-wrap: wrap;<br>            justify-content: flex-start;<br>            width: 100%;<br>        }<br>        .wandb-col {<br>            display: flex;<br>            flex-direction: column;<br>            flex-basis: 100%;<br>            flex: 1;<br>            padding: 10px;<br>        }<br>    </style><br><div class=\"wandb-row\"><div class=\"wandb-col\"><h3>Run history:</h3><br/><table class=\"wandb\"><tr><td>accuracy</td><td>▁</td></tr><tr><td>f1</td><td>▁</td></tr><tr><td>pr_auc</td><td>▁</td></tr><tr><td>precision</td><td>▁</td></tr><tr><td>recall</td><td>▁</td></tr><tr><td>roc_auc</td><td>▁</td></tr></table><br/></div><div class=\"wandb-col\"><h3>Run summary:</h3><br/><table class=\"wandb\"><tr><td>accuracy</td><td>0.58065</td></tr><tr><td>f1</td><td>0.13333</td></tr><tr><td>pr_auc</td><td>0.28536</td></tr><tr><td>precision</td><td>0.14286</td></tr><tr><td>recall</td><td>0.125</td></tr><tr><td>roc_auc</td><td>0.44022</td></tr></table><br/></div></div>"
      ],
      "text/plain": [
       "<IPython.core.display.HTML object>"
      ]
     },
     "metadata": {},
     "output_type": "display_data"
    },
    {
     "data": {
      "text/html": [
       " View run <strong style=\"color:#cdcd00\">ValidProtocol_RT_Scratch_fold_3</strong> at: <a href='https://wandb.ai/TFE-proteomics/RT/runs/fn9b00eh' target=\"_blank\">https://wandb.ai/TFE-proteomics/RT/runs/fn9b00eh</a><br> View project at: <a href='https://wandb.ai/TFE-proteomics/RT' target=\"_blank\">https://wandb.ai/TFE-proteomics/RT</a><br>Synced 5 W&B file(s), 0 media file(s), 0 artifact file(s) and 0 other file(s)"
      ],
      "text/plain": [
       "<IPython.core.display.HTML object>"
      ]
     },
     "metadata": {},
     "output_type": "display_data"
    },
    {
     "data": {
      "text/html": [
       "Find logs at: <code>./wandb/run-20250315_122011-fn9b00eh/logs</code>"
      ],
      "text/plain": [
       "<IPython.core.display.HTML object>"
      ]
     },
     "metadata": {},
     "output_type": "display_data"
    },
    {
     "name": "stdout",
     "output_type": "stream",
     "text": [
      "Fold 4 on 5\n",
      "Testing config 1 on 144\n",
      "Testing config 2 on 144\n",
      "Testing config 3 on 144\n",
      "Testing config 4 on 144\n",
      "Testing config 5 on 144\n",
      "Testing config 6 on 144\n",
      "Testing config 7 on 144\n",
      "Testing config 8 on 144\n",
      "Testing config 9 on 144\n",
      "Testing config 10 on 144\n",
      "Testing config 11 on 144\n",
      "Testing config 12 on 144\n",
      "Testing config 13 on 144\n",
      "Testing config 14 on 144\n",
      "Testing config 15 on 144\n",
      "Testing config 16 on 144\n",
      "Testing config 17 on 144\n",
      "Testing config 18 on 144\n",
      "Testing config 19 on 144\n",
      "Testing config 20 on 144\n",
      "Testing config 21 on 144\n",
      "Testing config 22 on 144\n",
      "Testing config 23 on 144\n",
      "Testing config 24 on 144\n",
      "Testing config 25 on 144\n",
      "Testing config 26 on 144\n",
      "Testing config 27 on 144\n",
      "Testing config 28 on 144\n",
      "Testing config 29 on 144\n",
      "Testing config 30 on 144\n",
      "Testing config 31 on 144\n",
      "Testing config 32 on 144\n",
      "Testing config 33 on 144\n",
      "Testing config 34 on 144\n",
      "Testing config 35 on 144\n",
      "Testing config 36 on 144\n",
      "Testing config 37 on 144\n",
      "Testing config 38 on 144\n",
      "Testing config 39 on 144\n",
      "Testing config 40 on 144\n",
      "Testing config 41 on 144\n",
      "Testing config 42 on 144\n",
      "Testing config 43 on 144\n",
      "Testing config 44 on 144\n",
      "Testing config 45 on 144\n",
      "Testing config 46 on 144\n",
      "Testing config 47 on 144\n",
      "Testing config 48 on 144\n",
      "Testing config 49 on 144\n",
      "Testing config 50 on 144\n",
      "Testing config 51 on 144\n",
      "Testing config 52 on 144\n",
      "Testing config 53 on 144\n",
      "Testing config 54 on 144\n",
      "Testing config 55 on 144\n",
      "Testing config 56 on 144\n",
      "Testing config 57 on 144\n",
      "Testing config 58 on 144\n",
      "Testing config 59 on 144\n",
      "Testing config 60 on 144\n",
      "Testing config 61 on 144\n",
      "Testing config 62 on 144\n",
      "Testing config 63 on 144\n",
      "Testing config 64 on 144\n",
      "Testing config 65 on 144\n",
      "Testing config 66 on 144\n",
      "Testing config 67 on 144\n",
      "Testing config 68 on 144\n",
      "Testing config 69 on 144\n",
      "Testing config 70 on 144\n",
      "Testing config 71 on 144\n",
      "Testing config 72 on 144\n",
      "Testing config 73 on 144\n",
      "Testing config 74 on 144\n",
      "Testing config 75 on 144\n",
      "Testing config 76 on 144\n",
      "Testing config 77 on 144\n",
      "Testing config 78 on 144\n",
      "Testing config 79 on 144\n",
      "Testing config 80 on 144\n",
      "Testing config 81 on 144\n",
      "Testing config 82 on 144\n",
      "Testing config 83 on 144\n",
      "Testing config 84 on 144\n",
      "Testing config 85 on 144\n",
      "Testing config 86 on 144\n",
      "Testing config 87 on 144\n",
      "Testing config 88 on 144\n",
      "Testing config 89 on 144\n",
      "Testing config 90 on 144\n",
      "Testing config 91 on 144\n",
      "Testing config 92 on 144\n",
      "Testing config 93 on 144\n",
      "Testing config 94 on 144\n",
      "Testing config 95 on 144\n",
      "Testing config 96 on 144\n",
      "Testing config 97 on 144\n",
      "Testing config 98 on 144\n",
      "Testing config 99 on 144\n",
      "Testing config 100 on 144\n",
      "Testing config 101 on 144\n",
      "Testing config 102 on 144\n",
      "Testing config 103 on 144\n",
      "Testing config 104 on 144\n",
      "Testing config 105 on 144\n",
      "Testing config 106 on 144\n",
      "Testing config 107 on 144\n",
      "Testing config 108 on 144\n",
      "Testing config 109 on 144\n",
      "Testing config 110 on 144\n",
      "Testing config 111 on 144\n",
      "Testing config 112 on 144\n",
      "Testing config 113 on 144\n",
      "Testing config 114 on 144\n",
      "Testing config 115 on 144\n",
      "Testing config 116 on 144\n",
      "Testing config 117 on 144\n",
      "Testing config 118 on 144\n",
      "Testing config 119 on 144\n",
      "Testing config 120 on 144\n",
      "Testing config 121 on 144\n",
      "Testing config 122 on 144\n",
      "Testing config 123 on 144\n",
      "Testing config 124 on 144\n",
      "Testing config 125 on 144\n",
      "Testing config 126 on 144\n",
      "Testing config 127 on 144\n",
      "Testing config 128 on 144\n",
      "Testing config 129 on 144\n",
      "Testing config 130 on 144\n",
      "Testing config 131 on 144\n",
      "Testing config 132 on 144\n",
      "Testing config 133 on 144\n",
      "Testing config 134 on 144\n",
      "Testing config 135 on 144\n",
      "Testing config 136 on 144\n",
      "Testing config 137 on 144\n",
      "Testing config 138 on 144\n",
      "Testing config 139 on 144\n",
      "Testing config 140 on 144\n",
      "Testing config 141 on 144\n",
      "Testing config 142 on 144\n",
      "Testing config 143 on 144\n",
      "Testing config 144 on 144\n",
      "\n",
      "--------------------------------------Config Done--------------------------------------------\n",
      "\n"
     ]
    },
    {
     "data": {
      "text/html": [
       "Tracking run with wandb version 0.19.8"
      ],
      "text/plain": [
       "<IPython.core.display.HTML object>"
      ]
     },
     "metadata": {},
     "output_type": "display_data"
    },
    {
     "data": {
      "text/html": [
       "Run data is saved locally in <code>/content/wandb/run-20250315_122657-otuqkaxy</code>"
      ],
      "text/plain": [
       "<IPython.core.display.HTML object>"
      ]
     },
     "metadata": {},
     "output_type": "display_data"
    },
    {
     "data": {
      "text/html": [
       "Syncing run <strong><a href='https://wandb.ai/TFE-proteomics/RT/runs/otuqkaxy' target=\"_blank\">ValidProtocol_RT_Scratch_fold_4</a></strong> to <a href='https://wandb.ai/TFE-proteomics/RT' target=\"_blank\">Weights & Biases</a> (<a href='https://wandb.me/developer-guide' target=\"_blank\">docs</a>)<br>"
      ],
      "text/plain": [
       "<IPython.core.display.HTML object>"
      ]
     },
     "metadata": {},
     "output_type": "display_data"
    },
    {
     "data": {
      "text/html": [
       " View project at <a href='https://wandb.ai/TFE-proteomics/RT' target=\"_blank\">https://wandb.ai/TFE-proteomics/RT</a>"
      ],
      "text/plain": [
       "<IPython.core.display.HTML object>"
      ]
     },
     "metadata": {},
     "output_type": "display_data"
    },
    {
     "data": {
      "text/html": [
       " View run at <a href='https://wandb.ai/TFE-proteomics/RT/runs/otuqkaxy' target=\"_blank\">https://wandb.ai/TFE-proteomics/RT/runs/otuqkaxy</a>"
      ],
      "text/plain": [
       "<IPython.core.display.HTML object>"
      ]
     },
     "metadata": {},
     "output_type": "display_data"
    },
    {
     "data": {
      "text/html": [],
      "text/plain": [
       "<IPython.core.display.HTML object>"
      ]
     },
     "metadata": {},
     "output_type": "display_data"
    },
    {
     "data": {
      "text/html": [
       "<br>    <style><br>        .wandb-row {<br>            display: flex;<br>            flex-direction: row;<br>            flex-wrap: wrap;<br>            justify-content: flex-start;<br>            width: 100%;<br>        }<br>        .wandb-col {<br>            display: flex;<br>            flex-direction: column;<br>            flex-basis: 100%;<br>            flex: 1;<br>            padding: 10px;<br>        }<br>    </style><br><div class=\"wandb-row\"><div class=\"wandb-col\"><h3>Run history:</h3><br/><table class=\"wandb\"><tr><td>accuracy</td><td>▁</td></tr><tr><td>f1</td><td>▁</td></tr><tr><td>pr_auc</td><td>▁</td></tr><tr><td>precision</td><td>▁</td></tr><tr><td>recall</td><td>▁</td></tr><tr><td>roc_auc</td><td>▁</td></tr></table><br/></div><div class=\"wandb-col\"><h3>Run summary:</h3><br/><table class=\"wandb\"><tr><td>accuracy</td><td>0.45161</td></tr><tr><td>f1</td><td>0.41379</td></tr><tr><td>pr_auc</td><td>0.44577</td></tr><tr><td>precision</td><td>0.28571</td></tr><tr><td>recall</td><td>0.75</td></tr><tr><td>roc_auc</td><td>0.60326</td></tr></table><br/></div></div>"
      ],
      "text/plain": [
       "<IPython.core.display.HTML object>"
      ]
     },
     "metadata": {},
     "output_type": "display_data"
    },
    {
     "data": {
      "text/html": [
       " View run <strong style=\"color:#cdcd00\">ValidProtocol_RT_Scratch_fold_4</strong> at: <a href='https://wandb.ai/TFE-proteomics/RT/runs/otuqkaxy' target=\"_blank\">https://wandb.ai/TFE-proteomics/RT/runs/otuqkaxy</a><br> View project at: <a href='https://wandb.ai/TFE-proteomics/RT' target=\"_blank\">https://wandb.ai/TFE-proteomics/RT</a><br>Synced 5 W&B file(s), 0 media file(s), 0 artifact file(s) and 0 other file(s)"
      ],
      "text/plain": [
       "<IPython.core.display.HTML object>"
      ]
     },
     "metadata": {},
     "output_type": "display_data"
    },
    {
     "data": {
      "text/html": [
       "Find logs at: <code>./wandb/run-20250315_122657-otuqkaxy/logs</code>"
      ],
      "text/plain": [
       "<IPython.core.display.HTML object>"
      ]
     },
     "metadata": {},
     "output_type": "display_data"
    },
    {
     "name": "stdout",
     "output_type": "stream",
     "text": [
      "Fold 5 on 5\n",
      "Testing config 1 on 144\n",
      "Testing config 2 on 144\n",
      "Testing config 3 on 144\n",
      "Testing config 4 on 144\n",
      "Testing config 5 on 144\n",
      "Testing config 6 on 144\n",
      "Testing config 7 on 144\n",
      "Testing config 8 on 144\n",
      "Testing config 9 on 144\n",
      "Testing config 10 on 144\n",
      "Testing config 11 on 144\n",
      "Testing config 12 on 144\n",
      "Testing config 13 on 144\n",
      "Testing config 14 on 144\n",
      "Testing config 15 on 144\n",
      "Testing config 16 on 144\n",
      "Testing config 17 on 144\n",
      "Testing config 18 on 144\n",
      "Testing config 19 on 144\n",
      "Testing config 20 on 144\n",
      "Testing config 21 on 144\n",
      "Testing config 22 on 144\n",
      "Testing config 23 on 144\n",
      "Testing config 24 on 144\n",
      "Testing config 25 on 144\n",
      "Testing config 26 on 144\n",
      "Testing config 27 on 144\n",
      "Testing config 28 on 144\n",
      "Testing config 29 on 144\n",
      "Testing config 30 on 144\n",
      "Testing config 31 on 144\n",
      "Testing config 32 on 144\n",
      "Testing config 33 on 144\n",
      "Testing config 34 on 144\n",
      "Testing config 35 on 144\n",
      "Testing config 36 on 144\n",
      "Testing config 37 on 144\n",
      "Testing config 38 on 144\n",
      "Testing config 39 on 144\n",
      "Testing config 40 on 144\n",
      "Testing config 41 on 144\n",
      "Testing config 42 on 144\n",
      "Testing config 43 on 144\n",
      "Testing config 44 on 144\n",
      "Testing config 45 on 144\n",
      "Testing config 46 on 144\n",
      "Testing config 47 on 144\n",
      "Testing config 48 on 144\n",
      "Testing config 49 on 144\n",
      "Testing config 50 on 144\n",
      "Testing config 51 on 144\n",
      "Testing config 52 on 144\n",
      "Testing config 53 on 144\n",
      "Testing config 54 on 144\n",
      "Testing config 55 on 144\n",
      "Testing config 56 on 144\n",
      "Testing config 57 on 144\n",
      "Testing config 58 on 144\n",
      "Testing config 59 on 144\n",
      "Testing config 60 on 144\n",
      "Testing config 61 on 144\n",
      "Testing config 62 on 144\n",
      "Testing config 63 on 144\n",
      "Testing config 64 on 144\n",
      "Testing config 65 on 144\n",
      "Testing config 66 on 144\n",
      "Testing config 67 on 144\n",
      "Testing config 68 on 144\n",
      "Testing config 69 on 144\n",
      "Testing config 70 on 144\n",
      "Testing config 71 on 144\n",
      "Testing config 72 on 144\n",
      "Testing config 73 on 144\n",
      "Testing config 74 on 144\n",
      "Testing config 75 on 144\n",
      "Testing config 76 on 144\n",
      "Testing config 77 on 144\n",
      "Testing config 78 on 144\n",
      "Testing config 79 on 144\n",
      "Testing config 80 on 144\n",
      "Testing config 81 on 144\n",
      "Testing config 82 on 144\n",
      "Testing config 83 on 144\n",
      "Testing config 84 on 144\n",
      "Testing config 85 on 144\n",
      "Testing config 86 on 144\n",
      "Testing config 87 on 144\n",
      "Testing config 88 on 144\n",
      "Testing config 89 on 144\n",
      "Testing config 90 on 144\n",
      "Testing config 91 on 144\n",
      "Testing config 92 on 144\n",
      "Testing config 93 on 144\n",
      "Testing config 94 on 144\n",
      "Testing config 95 on 144\n",
      "Testing config 96 on 144\n",
      "Testing config 97 on 144\n",
      "Testing config 98 on 144\n",
      "Testing config 99 on 144\n",
      "Testing config 100 on 144\n",
      "Testing config 101 on 144\n",
      "Testing config 102 on 144\n",
      "Testing config 103 on 144\n",
      "Testing config 104 on 144\n",
      "Testing config 105 on 144\n",
      "Testing config 106 on 144\n",
      "Testing config 107 on 144\n",
      "Testing config 108 on 144\n",
      "Testing config 109 on 144\n",
      "Testing config 110 on 144\n",
      "Testing config 111 on 144\n",
      "Testing config 112 on 144\n",
      "Testing config 113 on 144\n",
      "Testing config 114 on 144\n",
      "Testing config 115 on 144\n",
      "Testing config 116 on 144\n",
      "Testing config 117 on 144\n",
      "Testing config 118 on 144\n",
      "Testing config 119 on 144\n",
      "Testing config 120 on 144\n",
      "Testing config 121 on 144\n",
      "Testing config 122 on 144\n",
      "Testing config 123 on 144\n",
      "Testing config 124 on 144\n",
      "Testing config 125 on 144\n",
      "Testing config 126 on 144\n",
      "Testing config 127 on 144\n",
      "Testing config 128 on 144\n",
      "Testing config 129 on 144\n",
      "Testing config 130 on 144\n",
      "Testing config 131 on 144\n",
      "Testing config 132 on 144\n",
      "Testing config 133 on 144\n",
      "Testing config 134 on 144\n",
      "Testing config 135 on 144\n",
      "Testing config 136 on 144\n",
      "Testing config 137 on 144\n",
      "Testing config 138 on 144\n",
      "Testing config 139 on 144\n",
      "Testing config 140 on 144\n",
      "Testing config 141 on 144\n",
      "Testing config 142 on 144\n",
      "Testing config 143 on 144\n",
      "Testing config 144 on 144\n",
      "\n",
      "--------------------------------------Config Done--------------------------------------------\n",
      "\n"
     ]
    },
    {
     "data": {
      "text/html": [
       "Tracking run with wandb version 0.19.8"
      ],
      "text/plain": [
       "<IPython.core.display.HTML object>"
      ]
     },
     "metadata": {},
     "output_type": "display_data"
    },
    {
     "data": {
      "text/html": [
       "Run data is saved locally in <code>/content/wandb/run-20250315_123358-mmhr5c1w</code>"
      ],
      "text/plain": [
       "<IPython.core.display.HTML object>"
      ]
     },
     "metadata": {},
     "output_type": "display_data"
    },
    {
     "data": {
      "text/html": [
       "Syncing run <strong><a href='https://wandb.ai/TFE-proteomics/RT/runs/mmhr5c1w' target=\"_blank\">ValidProtocol_RT_Scratch_fold_5</a></strong> to <a href='https://wandb.ai/TFE-proteomics/RT' target=\"_blank\">Weights & Biases</a> (<a href='https://wandb.me/developer-guide' target=\"_blank\">docs</a>)<br>"
      ],
      "text/plain": [
       "<IPython.core.display.HTML object>"
      ]
     },
     "metadata": {},
     "output_type": "display_data"
    },
    {
     "data": {
      "text/html": [
       " View project at <a href='https://wandb.ai/TFE-proteomics/RT' target=\"_blank\">https://wandb.ai/TFE-proteomics/RT</a>"
      ],
      "text/plain": [
       "<IPython.core.display.HTML object>"
      ]
     },
     "metadata": {},
     "output_type": "display_data"
    },
    {
     "data": {
      "text/html": [
       " View run at <a href='https://wandb.ai/TFE-proteomics/RT/runs/mmhr5c1w' target=\"_blank\">https://wandb.ai/TFE-proteomics/RT/runs/mmhr5c1w</a>"
      ],
      "text/plain": [
       "<IPython.core.display.HTML object>"
      ]
     },
     "metadata": {},
     "output_type": "display_data"
    },
    {
     "data": {
      "text/html": [],
      "text/plain": [
       "<IPython.core.display.HTML object>"
      ]
     },
     "metadata": {},
     "output_type": "display_data"
    },
    {
     "data": {
      "text/html": [
       "<br>    <style><br>        .wandb-row {<br>            display: flex;<br>            flex-direction: row;<br>            flex-wrap: wrap;<br>            justify-content: flex-start;<br>            width: 100%;<br>        }<br>        .wandb-col {<br>            display: flex;<br>            flex-direction: column;<br>            flex-basis: 100%;<br>            flex: 1;<br>            padding: 10px;<br>        }<br>    </style><br><div class=\"wandb-row\"><div class=\"wandb-col\"><h3>Run history:</h3><br/><table class=\"wandb\"><tr><td>accuracy</td><td>▁</td></tr><tr><td>f1</td><td>▁</td></tr><tr><td>pr_auc</td><td>▁</td></tr><tr><td>precision</td><td>▁</td></tr><tr><td>recall</td><td>▁</td></tr><tr><td>roc_auc</td><td>▁</td></tr></table><br/></div><div class=\"wandb-col\"><h3>Run summary:</h3><br/><table class=\"wandb\"><tr><td>accuracy</td><td>0.51613</td></tr><tr><td>f1</td><td>0.11765</td></tr><tr><td>pr_auc</td><td>0.25622</td></tr><tr><td>precision</td><td>0.11111</td></tr><tr><td>recall</td><td>0.125</td></tr><tr><td>roc_auc</td><td>0.3587</td></tr></table><br/></div></div>"
      ],
      "text/plain": [
       "<IPython.core.display.HTML object>"
      ]
     },
     "metadata": {},
     "output_type": "display_data"
    },
    {
     "data": {
      "text/html": [
       " View run <strong style=\"color:#cdcd00\">ValidProtocol_RT_Scratch_fold_5</strong> at: <a href='https://wandb.ai/TFE-proteomics/RT/runs/mmhr5c1w' target=\"_blank\">https://wandb.ai/TFE-proteomics/RT/runs/mmhr5c1w</a><br> View project at: <a href='https://wandb.ai/TFE-proteomics/RT' target=\"_blank\">https://wandb.ai/TFE-proteomics/RT</a><br>Synced 5 W&B file(s), 0 media file(s), 0 artifact file(s) and 0 other file(s)"
      ],
      "text/plain": [
       "<IPython.core.display.HTML object>"
      ]
     },
     "metadata": {},
     "output_type": "display_data"
    },
    {
     "data": {
      "text/html": [
       "Find logs at: <code>./wandb/run-20250315_123358-mmhr5c1w/logs</code>"
      ],
      "text/plain": [
       "<IPython.core.display.HTML object>"
      ]
     },
     "metadata": {},
     "output_type": "display_data"
    },
    {
     "data": {
      "text/html": [
       "Tracking run with wandb version 0.19.8"
      ],
      "text/plain": [
       "<IPython.core.display.HTML object>"
      ]
     },
     "metadata": {},
     "output_type": "display_data"
    },
    {
     "data": {
      "text/html": [
       "Run data is saved locally in <code>/content/wandb/run-20250315_123402-3ztjrlhg</code>"
      ],
      "text/plain": [
       "<IPython.core.display.HTML object>"
      ]
     },
     "metadata": {},
     "output_type": "display_data"
    },
    {
     "data": {
      "text/html": [
       "Syncing run <strong><a href='https://wandb.ai/TFE-proteomics/RT/runs/3ztjrlhg' target=\"_blank\">ValidProtocol_RT_Scratch_CrossValidation_Summary</a></strong> to <a href='https://wandb.ai/TFE-proteomics/RT' target=\"_blank\">Weights & Biases</a> (<a href='https://wandb.me/developer-guide' target=\"_blank\">docs</a>)<br>"
      ],
      "text/plain": [
       "<IPython.core.display.HTML object>"
      ]
     },
     "metadata": {},
     "output_type": "display_data"
    },
    {
     "data": {
      "text/html": [
       " View project at <a href='https://wandb.ai/TFE-proteomics/RT' target=\"_blank\">https://wandb.ai/TFE-proteomics/RT</a>"
      ],
      "text/plain": [
       "<IPython.core.display.HTML object>"
      ]
     },
     "metadata": {},
     "output_type": "display_data"
    },
    {
     "data": {
      "text/html": [
       " View run at <a href='https://wandb.ai/TFE-proteomics/RT/runs/3ztjrlhg' target=\"_blank\">https://wandb.ai/TFE-proteomics/RT/runs/3ztjrlhg</a>"
      ],
      "text/plain": [
       "<IPython.core.display.HTML object>"
      ]
     },
     "metadata": {},
     "output_type": "display_data"
    },
    {
     "data": {
      "text/html": [],
      "text/plain": [
       "<IPython.core.display.HTML object>"
      ]
     },
     "metadata": {},
     "output_type": "display_data"
    },
    {
     "data": {
      "text/html": [
       "<br>    <style><br>        .wandb-row {<br>            display: flex;<br>            flex-direction: row;<br>            flex-wrap: wrap;<br>            justify-content: flex-start;<br>            width: 100%;<br>        }<br>        .wandb-col {<br>            display: flex;<br>            flex-direction: column;<br>            flex-basis: 100%;<br>            flex: 1;<br>            padding: 10px;<br>        }<br>    </style><br><div class=\"wandb-row\"><div class=\"wandb-col\"><h3>Run history:</h3><br/><table class=\"wandb\"><tr><td>accuracy_mean</td><td>▁</td></tr><tr><td>accuracy_std</td><td>▁</td></tr><tr><td>f1_mean</td><td>▁</td></tr><tr><td>f1_std</td><td>▁</td></tr><tr><td>pr_auc_mean</td><td>▁</td></tr><tr><td>pr_auc_std</td><td>▁</td></tr><tr><td>precision_mean</td><td>▁</td></tr><tr><td>precision_std</td><td>▁</td></tr><tr><td>recall_mean</td><td>▁</td></tr><tr><td>recall_std</td><td>▁</td></tr><tr><td>roc_auc_mean</td><td>▁</td></tr><tr><td>roc_auc_std</td><td>▁</td></tr></table><br/></div><div class=\"wandb-col\"><h3>Run summary:</h3><br/><table class=\"wandb\"><tr><td>accuracy_mean</td><td>0.50323</td></tr><tr><td>accuracy_std</td><td>0.16898</td></tr><tr><td>f1_mean</td><td>0.20664</td></tr><tr><td>f1_std</td><td>0.15816</td></tr><tr><td>pr_auc_mean</td><td>0.3035</td></tr><tr><td>pr_auc_std</td><td>0.07221</td></tr><tr><td>precision_mean</td><td>0.1531</td></tr><tr><td>precision_std</td><td>0.09816</td></tr><tr><td>recall_mean</td><td>0.4</td></tr><tr><td>recall_std</td><td>0.39843</td></tr><tr><td>roc_auc_mean</td><td>0.4971</td></tr><tr><td>roc_auc_std</td><td>0.08965</td></tr></table><br/></div></div>"
      ],
      "text/plain": [
       "<IPython.core.display.HTML object>"
      ]
     },
     "metadata": {},
     "output_type": "display_data"
    },
    {
     "data": {
      "text/html": [
       " View run <strong style=\"color:#cdcd00\">ValidProtocol_RT_Scratch_CrossValidation_Summary</strong> at: <a href='https://wandb.ai/TFE-proteomics/RT/runs/3ztjrlhg' target=\"_blank\">https://wandb.ai/TFE-proteomics/RT/runs/3ztjrlhg</a><br> View project at: <a href='https://wandb.ai/TFE-proteomics/RT' target=\"_blank\">https://wandb.ai/TFE-proteomics/RT</a><br>Synced 5 W&B file(s), 0 media file(s), 0 artifact file(s) and 0 other file(s)"
      ],
      "text/plain": [
       "<IPython.core.display.HTML object>"
      ]
     },
     "metadata": {},
     "output_type": "display_data"
    },
    {
     "data": {
      "text/html": [
       "Find logs at: <code>./wandb/run-20250315_123402-3ztjrlhg/logs</code>"
      ],
      "text/plain": [
       "<IPython.core.display.HTML object>"
      ]
     },
     "metadata": {},
     "output_type": "display_data"
    },
    {
     "name": "stdout",
     "output_type": "stream",
     "text": [
      "Fold 1 on 5\n",
      "Testing config 1 on 144\n",
      "Testing config 2 on 144\n",
      "Testing config 3 on 144\n",
      "Testing config 4 on 144\n",
      "Testing config 5 on 144\n",
      "Testing config 6 on 144\n",
      "Testing config 7 on 144\n",
      "Testing config 8 on 144\n",
      "Testing config 9 on 144\n",
      "Testing config 10 on 144\n",
      "Testing config 11 on 144\n",
      "Testing config 12 on 144\n",
      "Testing config 13 on 144\n",
      "Testing config 14 on 144\n",
      "Testing config 15 on 144\n",
      "Testing config 16 on 144\n",
      "Testing config 17 on 144\n",
      "Testing config 18 on 144\n",
      "Testing config 19 on 144\n",
      "Testing config 20 on 144\n",
      "Testing config 21 on 144\n",
      "Testing config 22 on 144\n",
      "Testing config 23 on 144\n",
      "Testing config 24 on 144\n",
      "Testing config 25 on 144\n",
      "Testing config 26 on 144\n",
      "Testing config 27 on 144\n",
      "Testing config 28 on 144\n",
      "Testing config 29 on 144\n",
      "Testing config 30 on 144\n",
      "Testing config 31 on 144\n",
      "Testing config 32 on 144\n",
      "Testing config 33 on 144\n",
      "Testing config 34 on 144\n",
      "Testing config 35 on 144\n",
      "Testing config 36 on 144\n",
      "Testing config 37 on 144\n",
      "Testing config 38 on 144\n",
      "Testing config 39 on 144\n",
      "Testing config 40 on 144\n",
      "Testing config 41 on 144\n",
      "Testing config 42 on 144\n",
      "Testing config 43 on 144\n",
      "Testing config 44 on 144\n",
      "Testing config 45 on 144\n",
      "Testing config 46 on 144\n",
      "Testing config 47 on 144\n",
      "Testing config 48 on 144\n",
      "Testing config 49 on 144\n",
      "Testing config 50 on 144\n",
      "Testing config 51 on 144\n",
      "Testing config 52 on 144\n",
      "Testing config 53 on 144\n",
      "Testing config 54 on 144\n",
      "Testing config 55 on 144\n",
      "Testing config 56 on 144\n",
      "Testing config 57 on 144\n",
      "Testing config 58 on 144\n",
      "Testing config 59 on 144\n",
      "Testing config 60 on 144\n",
      "Testing config 61 on 144\n",
      "Testing config 62 on 144\n",
      "Testing config 63 on 144\n",
      "Testing config 64 on 144\n",
      "Testing config 65 on 144\n",
      "Testing config 66 on 144\n",
      "Testing config 67 on 144\n",
      "Testing config 68 on 144\n",
      "Testing config 69 on 144\n",
      "Testing config 70 on 144\n",
      "Testing config 71 on 144\n",
      "Testing config 72 on 144\n",
      "Testing config 73 on 144\n",
      "Testing config 74 on 144\n",
      "Testing config 75 on 144\n",
      "Testing config 76 on 144\n",
      "Testing config 77 on 144\n",
      "Testing config 78 on 144\n",
      "Testing config 79 on 144\n",
      "Testing config 80 on 144\n",
      "Testing config 81 on 144\n",
      "Testing config 82 on 144\n",
      "Testing config 83 on 144\n",
      "Testing config 84 on 144\n",
      "Testing config 85 on 144\n",
      "Testing config 86 on 144\n",
      "Testing config 87 on 144\n",
      "Testing config 88 on 144\n",
      "Testing config 89 on 144\n",
      "Testing config 90 on 144\n",
      "Testing config 91 on 144\n",
      "Testing config 92 on 144\n",
      "Testing config 93 on 144\n",
      "Testing config 94 on 144\n",
      "Testing config 95 on 144\n",
      "Testing config 96 on 144\n",
      "Testing config 97 on 144\n",
      "Testing config 98 on 144\n",
      "Testing config 99 on 144\n",
      "Testing config 100 on 144\n",
      "Testing config 101 on 144\n",
      "Testing config 102 on 144\n",
      "Testing config 103 on 144\n",
      "Testing config 104 on 144\n",
      "Testing config 105 on 144\n",
      "Testing config 106 on 144\n",
      "Testing config 107 on 144\n",
      "Testing config 108 on 144\n",
      "Testing config 109 on 144\n",
      "Testing config 110 on 144\n",
      "Testing config 111 on 144\n",
      "Testing config 112 on 144\n",
      "Testing config 113 on 144\n",
      "Testing config 114 on 144\n",
      "Testing config 115 on 144\n",
      "Testing config 116 on 144\n",
      "Testing config 117 on 144\n",
      "Testing config 118 on 144\n",
      "Testing config 119 on 144\n",
      "Testing config 120 on 144\n",
      "Testing config 121 on 144\n",
      "Testing config 122 on 144\n",
      "Testing config 123 on 144\n",
      "Testing config 124 on 144\n",
      "Testing config 125 on 144\n",
      "Testing config 126 on 144\n",
      "Testing config 127 on 144\n",
      "Testing config 128 on 144\n",
      "Testing config 129 on 144\n",
      "Testing config 130 on 144\n",
      "Testing config 131 on 144\n",
      "Testing config 132 on 144\n",
      "Testing config 133 on 144\n",
      "Testing config 134 on 144\n",
      "Testing config 135 on 144\n",
      "Testing config 136 on 144\n",
      "Testing config 137 on 144\n",
      "Testing config 138 on 144\n",
      "Testing config 139 on 144\n",
      "Testing config 140 on 144\n",
      "Testing config 141 on 144\n",
      "Testing config 142 on 144\n",
      "Testing config 143 on 144\n",
      "Testing config 144 on 144\n",
      "\n",
      "--------------------------------------Config Done--------------------------------------------\n",
      "\n"
     ]
    },
    {
     "data": {
      "text/html": [
       "Tracking run with wandb version 0.19.8"
      ],
      "text/plain": [
       "<IPython.core.display.HTML object>"
      ]
     },
     "metadata": {},
     "output_type": "display_data"
    },
    {
     "data": {
      "text/html": [
       "Run data is saved locally in <code>/content/wandb/run-20250315_124131-qzx5ob4h</code>"
      ],
      "text/plain": [
       "<IPython.core.display.HTML object>"
      ]
     },
     "metadata": {},
     "output_type": "display_data"
    },
    {
     "data": {
      "text/html": [
       "Syncing run <strong><a href='https://wandb.ai/TFE-proteomics/RT/runs/qzx5ob4h' target=\"_blank\">ValidProtocol_RT_Scratch_fold_1</a></strong> to <a href='https://wandb.ai/TFE-proteomics/RT' target=\"_blank\">Weights & Biases</a> (<a href='https://wandb.me/developer-guide' target=\"_blank\">docs</a>)<br>"
      ],
      "text/plain": [
       "<IPython.core.display.HTML object>"
      ]
     },
     "metadata": {},
     "output_type": "display_data"
    },
    {
     "data": {
      "text/html": [
       " View project at <a href='https://wandb.ai/TFE-proteomics/RT' target=\"_blank\">https://wandb.ai/TFE-proteomics/RT</a>"
      ],
      "text/plain": [
       "<IPython.core.display.HTML object>"
      ]
     },
     "metadata": {},
     "output_type": "display_data"
    },
    {
     "data": {
      "text/html": [
       " View run at <a href='https://wandb.ai/TFE-proteomics/RT/runs/qzx5ob4h' target=\"_blank\">https://wandb.ai/TFE-proteomics/RT/runs/qzx5ob4h</a>"
      ],
      "text/plain": [
       "<IPython.core.display.HTML object>"
      ]
     },
     "metadata": {},
     "output_type": "display_data"
    },
    {
     "data": {
      "text/html": [],
      "text/plain": [
       "<IPython.core.display.HTML object>"
      ]
     },
     "metadata": {},
     "output_type": "display_data"
    },
    {
     "data": {
      "text/html": [
       "<br>    <style><br>        .wandb-row {<br>            display: flex;<br>            flex-direction: row;<br>            flex-wrap: wrap;<br>            justify-content: flex-start;<br>            width: 100%;<br>        }<br>        .wandb-col {<br>            display: flex;<br>            flex-direction: column;<br>            flex-basis: 100%;<br>            flex: 1;<br>            padding: 10px;<br>        }<br>    </style><br><div class=\"wandb-row\"><div class=\"wandb-col\"><h3>Run history:</h3><br/><table class=\"wandb\"><tr><td>accuracy</td><td>▁</td></tr><tr><td>f1</td><td>▁</td></tr><tr><td>pr_auc</td><td>▁</td></tr><tr><td>precision</td><td>▁</td></tr><tr><td>recall</td><td>▁</td></tr><tr><td>roc_auc</td><td>▁</td></tr></table><br/></div><div class=\"wandb-col\"><h3>Run summary:</h3><br/><table class=\"wandb\"><tr><td>accuracy</td><td>0.67742</td></tr><tr><td>f1</td><td>0.375</td></tr><tr><td>pr_auc</td><td>0.42176</td></tr><tr><td>precision</td><td>0.33333</td></tr><tr><td>recall</td><td>0.42857</td></tr><tr><td>roc_auc</td><td>0.59524</td></tr></table><br/></div></div>"
      ],
      "text/plain": [
       "<IPython.core.display.HTML object>"
      ]
     },
     "metadata": {},
     "output_type": "display_data"
    },
    {
     "data": {
      "text/html": [
       " View run <strong style=\"color:#cdcd00\">ValidProtocol_RT_Scratch_fold_1</strong> at: <a href='https://wandb.ai/TFE-proteomics/RT/runs/qzx5ob4h' target=\"_blank\">https://wandb.ai/TFE-proteomics/RT/runs/qzx5ob4h</a><br> View project at: <a href='https://wandb.ai/TFE-proteomics/RT' target=\"_blank\">https://wandb.ai/TFE-proteomics/RT</a><br>Synced 5 W&B file(s), 0 media file(s), 0 artifact file(s) and 0 other file(s)"
      ],
      "text/plain": [
       "<IPython.core.display.HTML object>"
      ]
     },
     "metadata": {},
     "output_type": "display_data"
    },
    {
     "data": {
      "text/html": [
       "Find logs at: <code>./wandb/run-20250315_124131-qzx5ob4h/logs</code>"
      ],
      "text/plain": [
       "<IPython.core.display.HTML object>"
      ]
     },
     "metadata": {},
     "output_type": "display_data"
    },
    {
     "name": "stdout",
     "output_type": "stream",
     "text": [
      "Fold 2 on 5\n",
      "Testing config 1 on 144\n",
      "Testing config 2 on 144\n",
      "Testing config 3 on 144\n",
      "Testing config 4 on 144\n",
      "Testing config 5 on 144\n",
      "Testing config 6 on 144\n",
      "Testing config 7 on 144\n",
      "Testing config 8 on 144\n",
      "Testing config 9 on 144\n",
      "Testing config 10 on 144\n",
      "Testing config 11 on 144\n",
      "Testing config 12 on 144\n",
      "Testing config 13 on 144\n",
      "Testing config 14 on 144\n",
      "Testing config 15 on 144\n",
      "Testing config 16 on 144\n",
      "Testing config 17 on 144\n",
      "Testing config 18 on 144\n",
      "Testing config 19 on 144\n",
      "Testing config 20 on 144\n",
      "Testing config 21 on 144\n",
      "Testing config 22 on 144\n",
      "Testing config 23 on 144\n",
      "Testing config 24 on 144\n",
      "Testing config 25 on 144\n",
      "Testing config 26 on 144\n",
      "Testing config 27 on 144\n",
      "Testing config 28 on 144\n",
      "Testing config 29 on 144\n",
      "Testing config 30 on 144\n",
      "Testing config 31 on 144\n",
      "Testing config 32 on 144\n",
      "Testing config 33 on 144\n",
      "Testing config 34 on 144\n",
      "Testing config 35 on 144\n",
      "Testing config 36 on 144\n",
      "Testing config 37 on 144\n",
      "Testing config 38 on 144\n",
      "Testing config 39 on 144\n",
      "Testing config 40 on 144\n",
      "Testing config 41 on 144\n",
      "Testing config 42 on 144\n",
      "Testing config 43 on 144\n",
      "Testing config 44 on 144\n",
      "Testing config 45 on 144\n",
      "Testing config 46 on 144\n",
      "Testing config 47 on 144\n",
      "Testing config 48 on 144\n",
      "Testing config 49 on 144\n",
      "Testing config 50 on 144\n",
      "Testing config 51 on 144\n",
      "Testing config 52 on 144\n",
      "Testing config 53 on 144\n",
      "Testing config 54 on 144\n",
      "Testing config 55 on 144\n",
      "Testing config 56 on 144\n",
      "Testing config 57 on 144\n",
      "Testing config 58 on 144\n",
      "Testing config 59 on 144\n",
      "Testing config 60 on 144\n",
      "Testing config 61 on 144\n",
      "Testing config 62 on 144\n",
      "Testing config 63 on 144\n",
      "Testing config 64 on 144\n",
      "Testing config 65 on 144\n",
      "Testing config 66 on 144\n",
      "Testing config 67 on 144\n",
      "Testing config 68 on 144\n",
      "Testing config 69 on 144\n",
      "Testing config 70 on 144\n",
      "Testing config 71 on 144\n",
      "Testing config 72 on 144\n",
      "Testing config 73 on 144\n",
      "Testing config 74 on 144\n",
      "Testing config 75 on 144\n",
      "Testing config 76 on 144\n",
      "Testing config 77 on 144\n",
      "Testing config 78 on 144\n",
      "Testing config 79 on 144\n",
      "Testing config 80 on 144\n",
      "Testing config 81 on 144\n",
      "Testing config 82 on 144\n",
      "Testing config 83 on 144\n",
      "Testing config 84 on 144\n",
      "Testing config 85 on 144\n",
      "Testing config 86 on 144\n",
      "Testing config 87 on 144\n",
      "Testing config 88 on 144\n",
      "Testing config 89 on 144\n",
      "Testing config 90 on 144\n",
      "Testing config 91 on 144\n",
      "Testing config 92 on 144\n",
      "Testing config 93 on 144\n",
      "Testing config 94 on 144\n",
      "Testing config 95 on 144\n",
      "Testing config 96 on 144\n",
      "Testing config 97 on 144\n",
      "Testing config 98 on 144\n",
      "Testing config 99 on 144\n",
      "Testing config 100 on 144\n",
      "Testing config 101 on 144\n",
      "Testing config 102 on 144\n",
      "Testing config 103 on 144\n",
      "Testing config 104 on 144\n",
      "Testing config 105 on 144\n",
      "Testing config 106 on 144\n",
      "Testing config 107 on 144\n",
      "Testing config 108 on 144\n",
      "Testing config 109 on 144\n",
      "Testing config 110 on 144\n",
      "Testing config 111 on 144\n",
      "Testing config 112 on 144\n",
      "Testing config 113 on 144\n",
      "Testing config 114 on 144\n",
      "Testing config 115 on 144\n",
      "Testing config 116 on 144\n",
      "Testing config 117 on 144\n",
      "Testing config 118 on 144\n",
      "Testing config 119 on 144\n",
      "Testing config 120 on 144\n",
      "Testing config 121 on 144\n",
      "Testing config 122 on 144\n",
      "Testing config 123 on 144\n",
      "Testing config 124 on 144\n",
      "Testing config 125 on 144\n",
      "Testing config 126 on 144\n",
      "Testing config 127 on 144\n",
      "Testing config 128 on 144\n",
      "Testing config 129 on 144\n",
      "Testing config 130 on 144\n",
      "Testing config 131 on 144\n",
      "Testing config 132 on 144\n",
      "Testing config 133 on 144\n",
      "Testing config 134 on 144\n",
      "Testing config 135 on 144\n",
      "Testing config 136 on 144\n",
      "Testing config 137 on 144\n",
      "Testing config 138 on 144\n",
      "Testing config 139 on 144\n",
      "Testing config 140 on 144\n",
      "Testing config 141 on 144\n",
      "Testing config 142 on 144\n",
      "Testing config 143 on 144\n",
      "Testing config 144 on 144\n",
      "\n",
      "--------------------------------------Config Done--------------------------------------------\n",
      "\n"
     ]
    },
    {
     "data": {
      "text/html": [
       "Tracking run with wandb version 0.19.8"
      ],
      "text/plain": [
       "<IPython.core.display.HTML object>"
      ]
     },
     "metadata": {},
     "output_type": "display_data"
    },
    {
     "data": {
      "text/html": [
       "Run data is saved locally in <code>/content/wandb/run-20250315_124858-q9ezhylq</code>"
      ],
      "text/plain": [
       "<IPython.core.display.HTML object>"
      ]
     },
     "metadata": {},
     "output_type": "display_data"
    },
    {
     "data": {
      "text/html": [
       "Syncing run <strong><a href='https://wandb.ai/TFE-proteomics/RT/runs/q9ezhylq' target=\"_blank\">ValidProtocol_RT_Scratch_fold_2</a></strong> to <a href='https://wandb.ai/TFE-proteomics/RT' target=\"_blank\">Weights & Biases</a> (<a href='https://wandb.me/developer-guide' target=\"_blank\">docs</a>)<br>"
      ],
      "text/plain": [
       "<IPython.core.display.HTML object>"
      ]
     },
     "metadata": {},
     "output_type": "display_data"
    },
    {
     "data": {
      "text/html": [
       " View project at <a href='https://wandb.ai/TFE-proteomics/RT' target=\"_blank\">https://wandb.ai/TFE-proteomics/RT</a>"
      ],
      "text/plain": [
       "<IPython.core.display.HTML object>"
      ]
     },
     "metadata": {},
     "output_type": "display_data"
    },
    {
     "data": {
      "text/html": [
       " View run at <a href='https://wandb.ai/TFE-proteomics/RT/runs/q9ezhylq' target=\"_blank\">https://wandb.ai/TFE-proteomics/RT/runs/q9ezhylq</a>"
      ],
      "text/plain": [
       "<IPython.core.display.HTML object>"
      ]
     },
     "metadata": {},
     "output_type": "display_data"
    },
    {
     "data": {
      "text/html": [],
      "text/plain": [
       "<IPython.core.display.HTML object>"
      ]
     },
     "metadata": {},
     "output_type": "display_data"
    },
    {
     "data": {
      "text/html": [
       "<br>    <style><br>        .wandb-row {<br>            display: flex;<br>            flex-direction: row;<br>            flex-wrap: wrap;<br>            justify-content: flex-start;<br>            width: 100%;<br>        }<br>        .wandb-col {<br>            display: flex;<br>            flex-direction: column;<br>            flex-basis: 100%;<br>            flex: 1;<br>            padding: 10px;<br>        }<br>    </style><br><div class=\"wandb-row\"><div class=\"wandb-col\"><h3>Run history:</h3><br/><table class=\"wandb\"><tr><td>accuracy</td><td>▁</td></tr><tr><td>f1</td><td>▁</td></tr><tr><td>pr_auc</td><td>▁</td></tr><tr><td>precision</td><td>▁</td></tr><tr><td>recall</td><td>▁</td></tr><tr><td>roc_auc</td><td>▁</td></tr></table><br/></div><div class=\"wandb-col\"><h3>Run summary:</h3><br/><table class=\"wandb\"><tr><td>accuracy</td><td>0.70968</td></tr><tr><td>f1</td><td>0.30769</td></tr><tr><td>pr_auc</td><td>0.33505</td></tr><tr><td>precision</td><td>0.33333</td></tr><tr><td>recall</td><td>0.28571</td></tr><tr><td>roc_auc</td><td>0.66667</td></tr></table><br/></div></div>"
      ],
      "text/plain": [
       "<IPython.core.display.HTML object>"
      ]
     },
     "metadata": {},
     "output_type": "display_data"
    },
    {
     "data": {
      "text/html": [
       " View run <strong style=\"color:#cdcd00\">ValidProtocol_RT_Scratch_fold_2</strong> at: <a href='https://wandb.ai/TFE-proteomics/RT/runs/q9ezhylq' target=\"_blank\">https://wandb.ai/TFE-proteomics/RT/runs/q9ezhylq</a><br> View project at: <a href='https://wandb.ai/TFE-proteomics/RT' target=\"_blank\">https://wandb.ai/TFE-proteomics/RT</a><br>Synced 5 W&B file(s), 0 media file(s), 0 artifact file(s) and 0 other file(s)"
      ],
      "text/plain": [
       "<IPython.core.display.HTML object>"
      ]
     },
     "metadata": {},
     "output_type": "display_data"
    },
    {
     "data": {
      "text/html": [
       "Find logs at: <code>./wandb/run-20250315_124858-q9ezhylq/logs</code>"
      ],
      "text/plain": [
       "<IPython.core.display.HTML object>"
      ]
     },
     "metadata": {},
     "output_type": "display_data"
    },
    {
     "name": "stdout",
     "output_type": "stream",
     "text": [
      "Fold 3 on 5\n",
      "Testing config 1 on 144\n",
      "Testing config 2 on 144\n",
      "Testing config 3 on 144\n",
      "Testing config 4 on 144\n",
      "Testing config 5 on 144\n",
      "Testing config 6 on 144\n",
      "Testing config 7 on 144\n",
      "Testing config 8 on 144\n",
      "Testing config 9 on 144\n",
      "Testing config 10 on 144\n",
      "Testing config 11 on 144\n",
      "Testing config 12 on 144\n",
      "Testing config 13 on 144\n",
      "Testing config 14 on 144\n",
      "Testing config 15 on 144\n",
      "Testing config 16 on 144\n",
      "Testing config 17 on 144\n",
      "Testing config 18 on 144\n",
      "Testing config 19 on 144\n",
      "Testing config 20 on 144\n",
      "Testing config 21 on 144\n",
      "Testing config 22 on 144\n",
      "Testing config 23 on 144\n",
      "Testing config 24 on 144\n",
      "Testing config 25 on 144\n",
      "Testing config 26 on 144\n",
      "Testing config 27 on 144\n",
      "Testing config 28 on 144\n",
      "Testing config 29 on 144\n",
      "Testing config 30 on 144\n",
      "Testing config 31 on 144\n",
      "Testing config 32 on 144\n",
      "Testing config 33 on 144\n",
      "Testing config 34 on 144\n",
      "Testing config 35 on 144\n",
      "Testing config 36 on 144\n",
      "Testing config 37 on 144\n",
      "Testing config 38 on 144\n",
      "Testing config 39 on 144\n",
      "Testing config 40 on 144\n",
      "Testing config 41 on 144\n",
      "Testing config 42 on 144\n",
      "Testing config 43 on 144\n",
      "Testing config 44 on 144\n",
      "Testing config 45 on 144\n",
      "Testing config 46 on 144\n",
      "Testing config 47 on 144\n",
      "Testing config 48 on 144\n",
      "Testing config 49 on 144\n",
      "Testing config 50 on 144\n",
      "Testing config 51 on 144\n",
      "Testing config 52 on 144\n",
      "Testing config 53 on 144\n",
      "Testing config 54 on 144\n",
      "Testing config 55 on 144\n",
      "Testing config 56 on 144\n",
      "Testing config 57 on 144\n",
      "Testing config 58 on 144\n",
      "Testing config 59 on 144\n",
      "Testing config 60 on 144\n",
      "Testing config 61 on 144\n",
      "Testing config 62 on 144\n",
      "Testing config 63 on 144\n",
      "Testing config 64 on 144\n",
      "Testing config 65 on 144\n",
      "Testing config 66 on 144\n",
      "Testing config 67 on 144\n",
      "Testing config 68 on 144\n",
      "Testing config 69 on 144\n",
      "Testing config 70 on 144\n",
      "Testing config 71 on 144\n",
      "Testing config 72 on 144\n",
      "Testing config 73 on 144\n",
      "Testing config 74 on 144\n",
      "Testing config 75 on 144\n",
      "Testing config 76 on 144\n",
      "Testing config 77 on 144\n",
      "Testing config 78 on 144\n",
      "Testing config 79 on 144\n",
      "Testing config 80 on 144\n",
      "Testing config 81 on 144\n",
      "Testing config 82 on 144\n",
      "Testing config 83 on 144\n",
      "Testing config 84 on 144\n",
      "Testing config 85 on 144\n",
      "Testing config 86 on 144\n",
      "Testing config 87 on 144\n",
      "Testing config 88 on 144\n",
      "Testing config 89 on 144\n",
      "Testing config 90 on 144\n",
      "Testing config 91 on 144\n",
      "Testing config 92 on 144\n",
      "Testing config 93 on 144\n",
      "Testing config 94 on 144\n",
      "Testing config 95 on 144\n",
      "Testing config 96 on 144\n",
      "Testing config 97 on 144\n",
      "Testing config 98 on 144\n",
      "Testing config 99 on 144\n",
      "Testing config 100 on 144\n",
      "Testing config 101 on 144\n",
      "Testing config 102 on 144\n",
      "Testing config 103 on 144\n",
      "Testing config 104 on 144\n",
      "Testing config 105 on 144\n",
      "Testing config 106 on 144\n",
      "Testing config 107 on 144\n",
      "Testing config 108 on 144\n",
      "Testing config 109 on 144\n",
      "Testing config 110 on 144\n",
      "Testing config 111 on 144\n",
      "Testing config 112 on 144\n",
      "Testing config 113 on 144\n",
      "Testing config 114 on 144\n",
      "Testing config 115 on 144\n",
      "Testing config 116 on 144\n",
      "Testing config 117 on 144\n",
      "Testing config 118 on 144\n",
      "Testing config 119 on 144\n",
      "Testing config 120 on 144\n",
      "Testing config 121 on 144\n",
      "Testing config 122 on 144\n",
      "Testing config 123 on 144\n",
      "Testing config 124 on 144\n",
      "Testing config 125 on 144\n",
      "Testing config 126 on 144\n",
      "Testing config 127 on 144\n",
      "Testing config 128 on 144\n",
      "Testing config 129 on 144\n",
      "Testing config 130 on 144\n",
      "Testing config 131 on 144\n",
      "Testing config 132 on 144\n",
      "Testing config 133 on 144\n",
      "Testing config 134 on 144\n",
      "Testing config 135 on 144\n",
      "Testing config 136 on 144\n",
      "Testing config 137 on 144\n",
      "Testing config 138 on 144\n",
      "Testing config 139 on 144\n",
      "Testing config 140 on 144\n",
      "Testing config 141 on 144\n",
      "Testing config 142 on 144\n",
      "Testing config 143 on 144\n",
      "Testing config 144 on 144\n",
      "\n",
      "--------------------------------------Config Done--------------------------------------------\n",
      "\n"
     ]
    },
    {
     "data": {
      "text/html": [
       "Tracking run with wandb version 0.19.8"
      ],
      "text/plain": [
       "<IPython.core.display.HTML object>"
      ]
     },
     "metadata": {},
     "output_type": "display_data"
    },
    {
     "data": {
      "text/html": [
       "Run data is saved locally in <code>/content/wandb/run-20250315_125623-7fgrrcd8</code>"
      ],
      "text/plain": [
       "<IPython.core.display.HTML object>"
      ]
     },
     "metadata": {},
     "output_type": "display_data"
    },
    {
     "data": {
      "text/html": [
       "Syncing run <strong><a href='https://wandb.ai/TFE-proteomics/RT/runs/7fgrrcd8' target=\"_blank\">ValidProtocol_RT_Scratch_fold_3</a></strong> to <a href='https://wandb.ai/TFE-proteomics/RT' target=\"_blank\">Weights & Biases</a> (<a href='https://wandb.me/developer-guide' target=\"_blank\">docs</a>)<br>"
      ],
      "text/plain": [
       "<IPython.core.display.HTML object>"
      ]
     },
     "metadata": {},
     "output_type": "display_data"
    },
    {
     "data": {
      "text/html": [
       " View project at <a href='https://wandb.ai/TFE-proteomics/RT' target=\"_blank\">https://wandb.ai/TFE-proteomics/RT</a>"
      ],
      "text/plain": [
       "<IPython.core.display.HTML object>"
      ]
     },
     "metadata": {},
     "output_type": "display_data"
    },
    {
     "data": {
      "text/html": [
       " View run at <a href='https://wandb.ai/TFE-proteomics/RT/runs/7fgrrcd8' target=\"_blank\">https://wandb.ai/TFE-proteomics/RT/runs/7fgrrcd8</a>"
      ],
      "text/plain": [
       "<IPython.core.display.HTML object>"
      ]
     },
     "metadata": {},
     "output_type": "display_data"
    },
    {
     "data": {
      "text/html": [],
      "text/plain": [
       "<IPython.core.display.HTML object>"
      ]
     },
     "metadata": {},
     "output_type": "display_data"
    },
    {
     "data": {
      "text/html": [
       "<br>    <style><br>        .wandb-row {<br>            display: flex;<br>            flex-direction: row;<br>            flex-wrap: wrap;<br>            justify-content: flex-start;<br>            width: 100%;<br>        }<br>        .wandb-col {<br>            display: flex;<br>            flex-direction: column;<br>            flex-basis: 100%;<br>            flex: 1;<br>            padding: 10px;<br>        }<br>    </style><br><div class=\"wandb-row\"><div class=\"wandb-col\"><h3>Run history:</h3><br/><table class=\"wandb\"><tr><td>accuracy</td><td>▁</td></tr><tr><td>f1</td><td>▁</td></tr><tr><td>pr_auc</td><td>▁</td></tr><tr><td>precision</td><td>▁</td></tr><tr><td>recall</td><td>▁</td></tr><tr><td>roc_auc</td><td>▁</td></tr></table><br/></div><div class=\"wandb-col\"><h3>Run summary:</h3><br/><table class=\"wandb\"><tr><td>accuracy</td><td>0.54839</td></tr><tr><td>f1</td><td>0.22222</td></tr><tr><td>pr_auc</td><td>0.34131</td></tr><tr><td>precision</td><td>0.2</td></tr><tr><td>recall</td><td>0.25</td></tr><tr><td>roc_auc</td><td>0.42391</td></tr></table><br/></div></div>"
      ],
      "text/plain": [
       "<IPython.core.display.HTML object>"
      ]
     },
     "metadata": {},
     "output_type": "display_data"
    },
    {
     "data": {
      "text/html": [
       " View run <strong style=\"color:#cdcd00\">ValidProtocol_RT_Scratch_fold_3</strong> at: <a href='https://wandb.ai/TFE-proteomics/RT/runs/7fgrrcd8' target=\"_blank\">https://wandb.ai/TFE-proteomics/RT/runs/7fgrrcd8</a><br> View project at: <a href='https://wandb.ai/TFE-proteomics/RT' target=\"_blank\">https://wandb.ai/TFE-proteomics/RT</a><br>Synced 5 W&B file(s), 0 media file(s), 0 artifact file(s) and 0 other file(s)"
      ],
      "text/plain": [
       "<IPython.core.display.HTML object>"
      ]
     },
     "metadata": {},
     "output_type": "display_data"
    },
    {
     "data": {
      "text/html": [
       "Find logs at: <code>./wandb/run-20250315_125623-7fgrrcd8/logs</code>"
      ],
      "text/plain": [
       "<IPython.core.display.HTML object>"
      ]
     },
     "metadata": {},
     "output_type": "display_data"
    },
    {
     "name": "stdout",
     "output_type": "stream",
     "text": [
      "Fold 4 on 5\n",
      "Testing config 1 on 144\n",
      "Testing config 2 on 144\n",
      "Testing config 3 on 144\n",
      "Testing config 4 on 144\n",
      "Testing config 5 on 144\n",
      "Testing config 6 on 144\n",
      "Testing config 7 on 144\n",
      "Testing config 8 on 144\n",
      "Testing config 9 on 144\n",
      "Testing config 10 on 144\n",
      "Testing config 11 on 144\n",
      "Testing config 12 on 144\n",
      "Testing config 13 on 144\n",
      "Testing config 14 on 144\n",
      "Testing config 15 on 144\n",
      "Testing config 16 on 144\n",
      "Testing config 17 on 144\n",
      "Testing config 18 on 144\n",
      "Testing config 19 on 144\n",
      "Testing config 20 on 144\n",
      "Testing config 21 on 144\n",
      "Testing config 22 on 144\n",
      "Testing config 23 on 144\n",
      "Testing config 24 on 144\n",
      "Testing config 25 on 144\n",
      "Testing config 26 on 144\n",
      "Testing config 27 on 144\n",
      "Testing config 28 on 144\n",
      "Testing config 29 on 144\n",
      "Testing config 30 on 144\n",
      "Testing config 31 on 144\n",
      "Testing config 32 on 144\n",
      "Testing config 33 on 144\n",
      "Testing config 34 on 144\n",
      "Testing config 35 on 144\n",
      "Testing config 36 on 144\n",
      "Testing config 37 on 144\n",
      "Testing config 38 on 144\n",
      "Testing config 39 on 144\n",
      "Testing config 40 on 144\n",
      "Testing config 41 on 144\n",
      "Testing config 42 on 144\n",
      "Testing config 43 on 144\n",
      "Testing config 44 on 144\n",
      "Testing config 45 on 144\n",
      "Testing config 46 on 144\n",
      "Testing config 47 on 144\n",
      "Testing config 48 on 144\n",
      "Testing config 49 on 144\n",
      "Testing config 50 on 144\n",
      "Testing config 51 on 144\n",
      "Testing config 52 on 144\n",
      "Testing config 53 on 144\n",
      "Testing config 54 on 144\n",
      "Testing config 55 on 144\n",
      "Testing config 56 on 144\n",
      "Testing config 57 on 144\n",
      "Testing config 58 on 144\n",
      "Testing config 59 on 144\n",
      "Testing config 60 on 144\n",
      "Testing config 61 on 144\n",
      "Testing config 62 on 144\n",
      "Testing config 63 on 144\n",
      "Testing config 64 on 144\n",
      "Testing config 65 on 144\n",
      "Testing config 66 on 144\n",
      "Testing config 67 on 144\n",
      "Testing config 68 on 144\n",
      "Testing config 69 on 144\n",
      "Testing config 70 on 144\n",
      "Testing config 71 on 144\n",
      "Testing config 72 on 144\n",
      "Testing config 73 on 144\n",
      "Testing config 74 on 144\n",
      "Testing config 75 on 144\n",
      "Testing config 76 on 144\n",
      "Testing config 77 on 144\n",
      "Testing config 78 on 144\n",
      "Testing config 79 on 144\n",
      "Testing config 80 on 144\n",
      "Testing config 81 on 144\n",
      "Testing config 82 on 144\n",
      "Testing config 83 on 144\n",
      "Testing config 84 on 144\n",
      "Testing config 85 on 144\n",
      "Testing config 86 on 144\n",
      "Testing config 87 on 144\n",
      "Testing config 88 on 144\n",
      "Testing config 89 on 144\n",
      "Testing config 90 on 144\n",
      "Testing config 91 on 144\n",
      "Testing config 92 on 144\n",
      "Testing config 93 on 144\n",
      "Testing config 94 on 144\n",
      "Testing config 95 on 144\n",
      "Testing config 96 on 144\n",
      "Testing config 97 on 144\n",
      "Testing config 98 on 144\n",
      "Testing config 99 on 144\n",
      "Testing config 100 on 144\n",
      "Testing config 101 on 144\n",
      "Testing config 102 on 144\n",
      "Testing config 103 on 144\n",
      "Testing config 104 on 144\n",
      "Testing config 105 on 144\n",
      "Testing config 106 on 144\n",
      "Testing config 107 on 144\n",
      "Testing config 108 on 144\n",
      "Testing config 109 on 144\n",
      "Testing config 110 on 144\n",
      "Testing config 111 on 144\n",
      "Testing config 112 on 144\n",
      "Testing config 113 on 144\n",
      "Testing config 114 on 144\n",
      "Testing config 115 on 144\n",
      "Testing config 116 on 144\n",
      "Testing config 117 on 144\n",
      "Testing config 118 on 144\n",
      "Testing config 119 on 144\n",
      "Testing config 120 on 144\n",
      "Testing config 121 on 144\n",
      "Testing config 122 on 144\n",
      "Testing config 123 on 144\n",
      "Testing config 124 on 144\n",
      "Testing config 125 on 144\n",
      "Testing config 126 on 144\n",
      "Testing config 127 on 144\n",
      "Testing config 128 on 144\n",
      "Testing config 129 on 144\n",
      "Testing config 130 on 144\n",
      "Testing config 131 on 144\n",
      "Testing config 132 on 144\n",
      "Testing config 133 on 144\n",
      "Testing config 134 on 144\n",
      "Testing config 135 on 144\n",
      "Testing config 136 on 144\n",
      "Testing config 137 on 144\n",
      "Testing config 138 on 144\n",
      "Testing config 139 on 144\n",
      "Testing config 140 on 144\n",
      "Testing config 141 on 144\n",
      "Testing config 142 on 144\n",
      "Testing config 143 on 144\n",
      "Testing config 144 on 144\n",
      "\n",
      "--------------------------------------Config Done--------------------------------------------\n",
      "\n"
     ]
    },
    {
     "data": {
      "text/html": [
       "Tracking run with wandb version 0.19.8"
      ],
      "text/plain": [
       "<IPython.core.display.HTML object>"
      ]
     },
     "metadata": {},
     "output_type": "display_data"
    },
    {
     "data": {
      "text/html": [
       "Run data is saved locally in <code>/content/wandb/run-20250315_130339-kvp5iwmp</code>"
      ],
      "text/plain": [
       "<IPython.core.display.HTML object>"
      ]
     },
     "metadata": {},
     "output_type": "display_data"
    },
    {
     "data": {
      "text/html": [
       "Syncing run <strong><a href='https://wandb.ai/TFE-proteomics/RT/runs/kvp5iwmp' target=\"_blank\">ValidProtocol_RT_Scratch_fold_4</a></strong> to <a href='https://wandb.ai/TFE-proteomics/RT' target=\"_blank\">Weights & Biases</a> (<a href='https://wandb.me/developer-guide' target=\"_blank\">docs</a>)<br>"
      ],
      "text/plain": [
       "<IPython.core.display.HTML object>"
      ]
     },
     "metadata": {},
     "output_type": "display_data"
    },
    {
     "data": {
      "text/html": [
       " View project at <a href='https://wandb.ai/TFE-proteomics/RT' target=\"_blank\">https://wandb.ai/TFE-proteomics/RT</a>"
      ],
      "text/plain": [
       "<IPython.core.display.HTML object>"
      ]
     },
     "metadata": {},
     "output_type": "display_data"
    },
    {
     "data": {
      "text/html": [
       " View run at <a href='https://wandb.ai/TFE-proteomics/RT/runs/kvp5iwmp' target=\"_blank\">https://wandb.ai/TFE-proteomics/RT/runs/kvp5iwmp</a>"
      ],
      "text/plain": [
       "<IPython.core.display.HTML object>"
      ]
     },
     "metadata": {},
     "output_type": "display_data"
    },
    {
     "data": {
      "text/html": [],
      "text/plain": [
       "<IPython.core.display.HTML object>"
      ]
     },
     "metadata": {},
     "output_type": "display_data"
    },
    {
     "data": {
      "text/html": [
       "<br>    <style><br>        .wandb-row {<br>            display: flex;<br>            flex-direction: row;<br>            flex-wrap: wrap;<br>            justify-content: flex-start;<br>            width: 100%;<br>        }<br>        .wandb-col {<br>            display: flex;<br>            flex-direction: column;<br>            flex-basis: 100%;<br>            flex: 1;<br>            padding: 10px;<br>        }<br>    </style><br><div class=\"wandb-row\"><div class=\"wandb-col\"><h3>Run history:</h3><br/><table class=\"wandb\"><tr><td>accuracy</td><td>▁</td></tr><tr><td>f1</td><td>▁</td></tr><tr><td>pr_auc</td><td>▁</td></tr><tr><td>precision</td><td>▁</td></tr><tr><td>recall</td><td>▁</td></tr><tr><td>roc_auc</td><td>▁</td></tr></table><br/></div><div class=\"wandb-col\"><h3>Run summary:</h3><br/><table class=\"wandb\"><tr><td>accuracy</td><td>0.6129</td></tr><tr><td>f1</td><td>0.33333</td></tr><tr><td>pr_auc</td><td>0.40538</td></tr><tr><td>precision</td><td>0.3</td></tr><tr><td>recall</td><td>0.375</td></tr><tr><td>roc_auc</td><td>0.6087</td></tr></table><br/></div></div>"
      ],
      "text/plain": [
       "<IPython.core.display.HTML object>"
      ]
     },
     "metadata": {},
     "output_type": "display_data"
    },
    {
     "data": {
      "text/html": [
       " View run <strong style=\"color:#cdcd00\">ValidProtocol_RT_Scratch_fold_4</strong> at: <a href='https://wandb.ai/TFE-proteomics/RT/runs/kvp5iwmp' target=\"_blank\">https://wandb.ai/TFE-proteomics/RT/runs/kvp5iwmp</a><br> View project at: <a href='https://wandb.ai/TFE-proteomics/RT' target=\"_blank\">https://wandb.ai/TFE-proteomics/RT</a><br>Synced 5 W&B file(s), 0 media file(s), 0 artifact file(s) and 0 other file(s)"
      ],
      "text/plain": [
       "<IPython.core.display.HTML object>"
      ]
     },
     "metadata": {},
     "output_type": "display_data"
    },
    {
     "data": {
      "text/html": [
       "Find logs at: <code>./wandb/run-20250315_130339-kvp5iwmp/logs</code>"
      ],
      "text/plain": [
       "<IPython.core.display.HTML object>"
      ]
     },
     "metadata": {},
     "output_type": "display_data"
    },
    {
     "name": "stdout",
     "output_type": "stream",
     "text": [
      "Fold 5 on 5\n",
      "Testing config 1 on 144\n",
      "Testing config 2 on 144\n",
      "Testing config 3 on 144\n",
      "Testing config 4 on 144\n",
      "Testing config 5 on 144\n",
      "Testing config 6 on 144\n",
      "Testing config 7 on 144\n",
      "Testing config 8 on 144\n",
      "Testing config 9 on 144\n",
      "Testing config 10 on 144\n",
      "Testing config 11 on 144\n",
      "Testing config 12 on 144\n",
      "Testing config 13 on 144\n",
      "Testing config 14 on 144\n",
      "Testing config 15 on 144\n",
      "Testing config 16 on 144\n",
      "Testing config 17 on 144\n",
      "Testing config 18 on 144\n",
      "Testing config 19 on 144\n",
      "Testing config 20 on 144\n",
      "Testing config 21 on 144\n",
      "Testing config 22 on 144\n",
      "Testing config 23 on 144\n",
      "Testing config 24 on 144\n",
      "Testing config 25 on 144\n",
      "Testing config 26 on 144\n",
      "Testing config 27 on 144\n",
      "Testing config 28 on 144\n",
      "Testing config 29 on 144\n",
      "Testing config 30 on 144\n",
      "Testing config 31 on 144\n",
      "Testing config 32 on 144\n",
      "Testing config 33 on 144\n",
      "Testing config 34 on 144\n",
      "Testing config 35 on 144\n",
      "Testing config 36 on 144\n",
      "Testing config 37 on 144\n",
      "Testing config 38 on 144\n",
      "Testing config 39 on 144\n",
      "Testing config 40 on 144\n",
      "Testing config 41 on 144\n",
      "Testing config 42 on 144\n",
      "Testing config 43 on 144\n",
      "Testing config 44 on 144\n",
      "Testing config 45 on 144\n",
      "Testing config 46 on 144\n",
      "Testing config 47 on 144\n",
      "Testing config 48 on 144\n",
      "Testing config 49 on 144\n",
      "Testing config 50 on 144\n",
      "Testing config 51 on 144\n",
      "Testing config 52 on 144\n",
      "Testing config 53 on 144\n",
      "Testing config 54 on 144\n",
      "Testing config 55 on 144\n",
      "Testing config 56 on 144\n",
      "Testing config 57 on 144\n",
      "Testing config 58 on 144\n",
      "Testing config 59 on 144\n",
      "Testing config 60 on 144\n",
      "Testing config 61 on 144\n",
      "Testing config 62 on 144\n",
      "Testing config 63 on 144\n",
      "Testing config 64 on 144\n",
      "Testing config 65 on 144\n",
      "Testing config 66 on 144\n",
      "Testing config 67 on 144\n",
      "Testing config 68 on 144\n",
      "Testing config 69 on 144\n",
      "Testing config 70 on 144\n",
      "Testing config 71 on 144\n",
      "Testing config 72 on 144\n",
      "Testing config 73 on 144\n",
      "Testing config 74 on 144\n",
      "Testing config 75 on 144\n",
      "Testing config 76 on 144\n",
      "Testing config 77 on 144\n",
      "Testing config 78 on 144\n",
      "Testing config 79 on 144\n",
      "Testing config 80 on 144\n",
      "Testing config 81 on 144\n",
      "Testing config 82 on 144\n",
      "Testing config 83 on 144\n",
      "Testing config 84 on 144\n",
      "Testing config 85 on 144\n",
      "Testing config 86 on 144\n",
      "Testing config 87 on 144\n",
      "Testing config 88 on 144\n",
      "Testing config 89 on 144\n",
      "Testing config 90 on 144\n",
      "Testing config 91 on 144\n",
      "Testing config 92 on 144\n",
      "Testing config 93 on 144\n",
      "Testing config 94 on 144\n",
      "Testing config 95 on 144\n",
      "Testing config 96 on 144\n",
      "Testing config 97 on 144\n",
      "Testing config 98 on 144\n",
      "Testing config 99 on 144\n",
      "Testing config 100 on 144\n",
      "Testing config 101 on 144\n",
      "Testing config 102 on 144\n",
      "Testing config 103 on 144\n",
      "Testing config 104 on 144\n",
      "Testing config 105 on 144\n",
      "Testing config 106 on 144\n",
      "Testing config 107 on 144\n",
      "Testing config 108 on 144\n",
      "Testing config 109 on 144\n",
      "Testing config 110 on 144\n",
      "Testing config 111 on 144\n",
      "Testing config 112 on 144\n",
      "Testing config 113 on 144\n",
      "Testing config 114 on 144\n",
      "Testing config 115 on 144\n",
      "Testing config 116 on 144\n",
      "Testing config 117 on 144\n",
      "Testing config 118 on 144\n",
      "Testing config 119 on 144\n",
      "Testing config 120 on 144\n",
      "Testing config 121 on 144\n",
      "Testing config 122 on 144\n",
      "Testing config 123 on 144\n",
      "Testing config 124 on 144\n",
      "Testing config 125 on 144\n",
      "Testing config 126 on 144\n",
      "Testing config 127 on 144\n",
      "Testing config 128 on 144\n",
      "Testing config 129 on 144\n",
      "Testing config 130 on 144\n",
      "Testing config 131 on 144\n",
      "Testing config 132 on 144\n",
      "Testing config 133 on 144\n",
      "Testing config 134 on 144\n",
      "Testing config 135 on 144\n",
      "Testing config 136 on 144\n",
      "Testing config 137 on 144\n",
      "Testing config 138 on 144\n",
      "Testing config 139 on 144\n",
      "Testing config 140 on 144\n",
      "Testing config 141 on 144\n",
      "Testing config 142 on 144\n",
      "Testing config 143 on 144\n",
      "Testing config 144 on 144\n",
      "\n",
      "--------------------------------------Config Done--------------------------------------------\n",
      "\n"
     ]
    },
    {
     "data": {
      "text/html": [
       "Tracking run with wandb version 0.19.8"
      ],
      "text/plain": [
       "<IPython.core.display.HTML object>"
      ]
     },
     "metadata": {},
     "output_type": "display_data"
    },
    {
     "data": {
      "text/html": [
       "Run data is saved locally in <code>/content/wandb/run-20250315_131054-zem8787v</code>"
      ],
      "text/plain": [
       "<IPython.core.display.HTML object>"
      ]
     },
     "metadata": {},
     "output_type": "display_data"
    },
    {
     "data": {
      "text/html": [
       "Syncing run <strong><a href='https://wandb.ai/TFE-proteomics/RT/runs/zem8787v' target=\"_blank\">ValidProtocol_RT_Scratch_fold_5</a></strong> to <a href='https://wandb.ai/TFE-proteomics/RT' target=\"_blank\">Weights & Biases</a> (<a href='https://wandb.me/developer-guide' target=\"_blank\">docs</a>)<br>"
      ],
      "text/plain": [
       "<IPython.core.display.HTML object>"
      ]
     },
     "metadata": {},
     "output_type": "display_data"
    },
    {
     "data": {
      "text/html": [
       " View project at <a href='https://wandb.ai/TFE-proteomics/RT' target=\"_blank\">https://wandb.ai/TFE-proteomics/RT</a>"
      ],
      "text/plain": [
       "<IPython.core.display.HTML object>"
      ]
     },
     "metadata": {},
     "output_type": "display_data"
    },
    {
     "data": {
      "text/html": [
       " View run at <a href='https://wandb.ai/TFE-proteomics/RT/runs/zem8787v' target=\"_blank\">https://wandb.ai/TFE-proteomics/RT/runs/zem8787v</a>"
      ],
      "text/plain": [
       "<IPython.core.display.HTML object>"
      ]
     },
     "metadata": {},
     "output_type": "display_data"
    },
    {
     "data": {
      "text/html": [],
      "text/plain": [
       "<IPython.core.display.HTML object>"
      ]
     },
     "metadata": {},
     "output_type": "display_data"
    },
    {
     "data": {
      "text/html": [
       "<br>    <style><br>        .wandb-row {<br>            display: flex;<br>            flex-direction: row;<br>            flex-wrap: wrap;<br>            justify-content: flex-start;<br>            width: 100%;<br>        }<br>        .wandb-col {<br>            display: flex;<br>            flex-direction: column;<br>            flex-basis: 100%;<br>            flex: 1;<br>            padding: 10px;<br>        }<br>    </style><br><div class=\"wandb-row\"><div class=\"wandb-col\"><h3>Run history:</h3><br/><table class=\"wandb\"><tr><td>accuracy</td><td>▁</td></tr><tr><td>f1</td><td>▁</td></tr><tr><td>pr_auc</td><td>▁</td></tr><tr><td>precision</td><td>▁</td></tr><tr><td>recall</td><td>▁</td></tr><tr><td>roc_auc</td><td>▁</td></tr></table><br/></div><div class=\"wandb-col\"><h3>Run summary:</h3><br/><table class=\"wandb\"><tr><td>accuracy</td><td>0.70968</td></tr><tr><td>f1</td><td>0.18182</td></tr><tr><td>pr_auc</td><td>0.2524</td></tr><tr><td>precision</td><td>0.33333</td></tr><tr><td>recall</td><td>0.125</td></tr><tr><td>roc_auc</td><td>0.34239</td></tr></table><br/></div></div>"
      ],
      "text/plain": [
       "<IPython.core.display.HTML object>"
      ]
     },
     "metadata": {},
     "output_type": "display_data"
    },
    {
     "data": {
      "text/html": [
       " View run <strong style=\"color:#cdcd00\">ValidProtocol_RT_Scratch_fold_5</strong> at: <a href='https://wandb.ai/TFE-proteomics/RT/runs/zem8787v' target=\"_blank\">https://wandb.ai/TFE-proteomics/RT/runs/zem8787v</a><br> View project at: <a href='https://wandb.ai/TFE-proteomics/RT' target=\"_blank\">https://wandb.ai/TFE-proteomics/RT</a><br>Synced 5 W&B file(s), 0 media file(s), 0 artifact file(s) and 0 other file(s)"
      ],
      "text/plain": [
       "<IPython.core.display.HTML object>"
      ]
     },
     "metadata": {},
     "output_type": "display_data"
    },
    {
     "data": {
      "text/html": [
       "Find logs at: <code>./wandb/run-20250315_131054-zem8787v/logs</code>"
      ],
      "text/plain": [
       "<IPython.core.display.HTML object>"
      ]
     },
     "metadata": {},
     "output_type": "display_data"
    },
    {
     "data": {
      "text/html": [
       "Tracking run with wandb version 0.19.8"
      ],
      "text/plain": [
       "<IPython.core.display.HTML object>"
      ]
     },
     "metadata": {},
     "output_type": "display_data"
    },
    {
     "data": {
      "text/html": [
       "Run data is saved locally in <code>/content/wandb/run-20250315_131056-vkp501ab</code>"
      ],
      "text/plain": [
       "<IPython.core.display.HTML object>"
      ]
     },
     "metadata": {},
     "output_type": "display_data"
    },
    {
     "data": {
      "text/html": [
       "Syncing run <strong><a href='https://wandb.ai/TFE-proteomics/RT/runs/vkp501ab' target=\"_blank\">ValidProtocol_RT_Scratch_CrossValidation_Summary</a></strong> to <a href='https://wandb.ai/TFE-proteomics/RT' target=\"_blank\">Weights & Biases</a> (<a href='https://wandb.me/developer-guide' target=\"_blank\">docs</a>)<br>"
      ],
      "text/plain": [
       "<IPython.core.display.HTML object>"
      ]
     },
     "metadata": {},
     "output_type": "display_data"
    },
    {
     "data": {
      "text/html": [
       " View project at <a href='https://wandb.ai/TFE-proteomics/RT' target=\"_blank\">https://wandb.ai/TFE-proteomics/RT</a>"
      ],
      "text/plain": [
       "<IPython.core.display.HTML object>"
      ]
     },
     "metadata": {},
     "output_type": "display_data"
    },
    {
     "data": {
      "text/html": [
       " View run at <a href='https://wandb.ai/TFE-proteomics/RT/runs/vkp501ab' target=\"_blank\">https://wandb.ai/TFE-proteomics/RT/runs/vkp501ab</a>"
      ],
      "text/plain": [
       "<IPython.core.display.HTML object>"
      ]
     },
     "metadata": {},
     "output_type": "display_data"
    },
    {
     "data": {
      "text/html": [],
      "text/plain": [
       "<IPython.core.display.HTML object>"
      ]
     },
     "metadata": {},
     "output_type": "display_data"
    },
    {
     "data": {
      "text/html": [
       "<br>    <style><br>        .wandb-row {<br>            display: flex;<br>            flex-direction: row;<br>            flex-wrap: wrap;<br>            justify-content: flex-start;<br>            width: 100%;<br>        }<br>        .wandb-col {<br>            display: flex;<br>            flex-direction: column;<br>            flex-basis: 100%;<br>            flex: 1;<br>            padding: 10px;<br>        }<br>    </style><br><div class=\"wandb-row\"><div class=\"wandb-col\"><h3>Run history:</h3><br/><table class=\"wandb\"><tr><td>accuracy_mean</td><td>▁</td></tr><tr><td>accuracy_std</td><td>▁</td></tr><tr><td>f1_mean</td><td>▁</td></tr><tr><td>f1_std</td><td>▁</td></tr><tr><td>pr_auc_mean</td><td>▁</td></tr><tr><td>pr_auc_std</td><td>▁</td></tr><tr><td>precision_mean</td><td>▁</td></tr><tr><td>precision_std</td><td>▁</td></tr><tr><td>recall_mean</td><td>▁</td></tr><tr><td>recall_std</td><td>▁</td></tr><tr><td>roc_auc_mean</td><td>▁</td></tr><tr><td>roc_auc_std</td><td>▁</td></tr></table><br/></div><div class=\"wandb-col\"><h3>Run summary:</h3><br/><table class=\"wandb\"><tr><td>accuracy_mean</td><td>0.65161</td></tr><tr><td>accuracy_std</td><td>0.06255</td></tr><tr><td>f1_mean</td><td>0.28401</td></tr><tr><td>f1_std</td><td>0.07146</td></tr><tr><td>pr_auc_mean</td><td>0.35118</td></tr><tr><td>pr_auc_std</td><td>0.06006</td></tr><tr><td>precision_mean</td><td>0.3</td></tr><tr><td>precision_std</td><td>0.05164</td></tr><tr><td>recall_mean</td><td>0.29286</td></tr><tr><td>recall_std</td><td>0.1051</td></tr><tr><td>roc_auc_mean</td><td>0.52738</td></tr><tr><td>roc_auc_std</td><td>0.12292</td></tr></table><br/></div></div>"
      ],
      "text/plain": [
       "<IPython.core.display.HTML object>"
      ]
     },
     "metadata": {},
     "output_type": "display_data"
    },
    {
     "data": {
      "text/html": [
       " View run <strong style=\"color:#cdcd00\">ValidProtocol_RT_Scratch_CrossValidation_Summary</strong> at: <a href='https://wandb.ai/TFE-proteomics/RT/runs/vkp501ab' target=\"_blank\">https://wandb.ai/TFE-proteomics/RT/runs/vkp501ab</a><br> View project at: <a href='https://wandb.ai/TFE-proteomics/RT' target=\"_blank\">https://wandb.ai/TFE-proteomics/RT</a><br>Synced 5 W&B file(s), 0 media file(s), 0 artifact file(s) and 0 other file(s)"
      ],
      "text/plain": [
       "<IPython.core.display.HTML object>"
      ]
     },
     "metadata": {},
     "output_type": "display_data"
    },
    {
     "data": {
      "text/html": [
       "Find logs at: <code>./wandb/run-20250315_131056-vkp501ab/logs</code>"
      ],
      "text/plain": [
       "<IPython.core.display.HTML object>"
      ]
     },
     "metadata": {},
     "output_type": "display_data"
    },
    {
     "name": "stdout",
     "output_type": "stream",
     "text": [
      "Fold 1 on 5\n",
      "Testing config 1 on 144\n",
      "Testing config 2 on 144\n",
      "Testing config 3 on 144\n",
      "Testing config 4 on 144\n",
      "Testing config 5 on 144\n",
      "Testing config 6 on 144\n",
      "Testing config 7 on 144\n",
      "Testing config 8 on 144\n",
      "Testing config 9 on 144\n",
      "Testing config 10 on 144\n",
      "Testing config 11 on 144\n",
      "Testing config 12 on 144\n",
      "Testing config 13 on 144\n",
      "Testing config 14 on 144\n",
      "Testing config 15 on 144\n",
      "Testing config 16 on 144\n",
      "Testing config 17 on 144\n",
      "Testing config 18 on 144\n",
      "Testing config 19 on 144\n",
      "Testing config 20 on 144\n",
      "Testing config 21 on 144\n",
      "Testing config 22 on 144\n",
      "Testing config 23 on 144\n",
      "Testing config 24 on 144\n",
      "Testing config 25 on 144\n",
      "Testing config 26 on 144\n",
      "Testing config 27 on 144\n",
      "Testing config 28 on 144\n",
      "Testing config 29 on 144\n",
      "Testing config 30 on 144\n",
      "Testing config 31 on 144\n",
      "Testing config 32 on 144\n",
      "Testing config 33 on 144\n",
      "Testing config 34 on 144\n",
      "Testing config 35 on 144\n",
      "Testing config 36 on 144\n",
      "Testing config 37 on 144\n",
      "Testing config 38 on 144\n",
      "Testing config 39 on 144\n",
      "Testing config 40 on 144\n",
      "Testing config 41 on 144\n",
      "Testing config 42 on 144\n",
      "Testing config 43 on 144\n",
      "Testing config 44 on 144\n",
      "Testing config 45 on 144\n",
      "Testing config 46 on 144\n",
      "Testing config 47 on 144\n",
      "Testing config 48 on 144\n",
      "Testing config 49 on 144\n",
      "Testing config 50 on 144\n",
      "Testing config 51 on 144\n",
      "Testing config 52 on 144\n",
      "Testing config 53 on 144\n",
      "Testing config 54 on 144\n",
      "Testing config 55 on 144\n",
      "Testing config 56 on 144\n",
      "Testing config 57 on 144\n",
      "Testing config 58 on 144\n",
      "Testing config 59 on 144\n",
      "Testing config 60 on 144\n",
      "Testing config 61 on 144\n",
      "Testing config 62 on 144\n",
      "Testing config 63 on 144\n",
      "Testing config 64 on 144\n",
      "Testing config 65 on 144\n",
      "Testing config 66 on 144\n",
      "Testing config 67 on 144\n",
      "Testing config 68 on 144\n",
      "Testing config 69 on 144\n",
      "Testing config 70 on 144\n",
      "Testing config 71 on 144\n",
      "Testing config 72 on 144\n",
      "Testing config 73 on 144\n",
      "Testing config 74 on 144\n",
      "Testing config 75 on 144\n",
      "Testing config 76 on 144\n",
      "Testing config 77 on 144\n",
      "Testing config 78 on 144\n",
      "Testing config 79 on 144\n",
      "Testing config 80 on 144\n",
      "Testing config 81 on 144\n",
      "Testing config 82 on 144\n",
      "Testing config 83 on 144\n",
      "Testing config 84 on 144\n",
      "Testing config 85 on 144\n",
      "Testing config 86 on 144\n",
      "Testing config 87 on 144\n",
      "Testing config 88 on 144\n",
      "Testing config 89 on 144\n",
      "Testing config 90 on 144\n",
      "Testing config 91 on 144\n",
      "Testing config 92 on 144\n",
      "Testing config 93 on 144\n",
      "Testing config 94 on 144\n",
      "Testing config 95 on 144\n",
      "Testing config 96 on 144\n",
      "Testing config 97 on 144\n",
      "Testing config 98 on 144\n",
      "Testing config 99 on 144\n",
      "Testing config 100 on 144\n",
      "Testing config 101 on 144\n",
      "Testing config 102 on 144\n",
      "Testing config 103 on 144\n",
      "Testing config 104 on 144\n",
      "Testing config 105 on 144\n",
      "Testing config 106 on 144\n",
      "Testing config 107 on 144\n",
      "Testing config 108 on 144\n",
      "Testing config 109 on 144\n",
      "Testing config 110 on 144\n",
      "Testing config 111 on 144\n",
      "Testing config 112 on 144\n",
      "Testing config 113 on 144\n",
      "Testing config 114 on 144\n",
      "Testing config 115 on 144\n",
      "Testing config 116 on 144\n",
      "Testing config 117 on 144\n",
      "Testing config 118 on 144\n",
      "Testing config 119 on 144\n",
      "Testing config 120 on 144\n",
      "Testing config 121 on 144\n",
      "Testing config 122 on 144\n",
      "Testing config 123 on 144\n",
      "Testing config 124 on 144\n",
      "Testing config 125 on 144\n",
      "Testing config 126 on 144\n",
      "Testing config 127 on 144\n",
      "Testing config 128 on 144\n",
      "Testing config 129 on 144\n",
      "Testing config 130 on 144\n",
      "Testing config 131 on 144\n",
      "Testing config 132 on 144\n",
      "Testing config 133 on 144\n",
      "Testing config 134 on 144\n",
      "Testing config 135 on 144\n",
      "Testing config 136 on 144\n",
      "Testing config 137 on 144\n",
      "Testing config 138 on 144\n",
      "Testing config 139 on 144\n",
      "Testing config 140 on 144\n",
      "Testing config 141 on 144\n",
      "Testing config 142 on 144\n",
      "Testing config 143 on 144\n",
      "Testing config 144 on 144\n",
      "\n",
      "--------------------------------------Config Done--------------------------------------------\n",
      "\n"
     ]
    },
    {
     "data": {
      "text/html": [
       "Tracking run with wandb version 0.19.8"
      ],
      "text/plain": [
       "<IPython.core.display.HTML object>"
      ]
     },
     "metadata": {},
     "output_type": "display_data"
    },
    {
     "data": {
      "text/html": [
       "Run data is saved locally in <code>/content/wandb/run-20250315_131941-479i8kdi</code>"
      ],
      "text/plain": [
       "<IPython.core.display.HTML object>"
      ]
     },
     "metadata": {},
     "output_type": "display_data"
    },
    {
     "data": {
      "text/html": [
       "Syncing run <strong><a href='https://wandb.ai/TFE-proteomics/RT/runs/479i8kdi' target=\"_blank\">ValidProtocol_RT_Scratch_fold_1</a></strong> to <a href='https://wandb.ai/TFE-proteomics/RT' target=\"_blank\">Weights & Biases</a> (<a href='https://wandb.me/developer-guide' target=\"_blank\">docs</a>)<br>"
      ],
      "text/plain": [
       "<IPython.core.display.HTML object>"
      ]
     },
     "metadata": {},
     "output_type": "display_data"
    },
    {
     "data": {
      "text/html": [
       " View project at <a href='https://wandb.ai/TFE-proteomics/RT' target=\"_blank\">https://wandb.ai/TFE-proteomics/RT</a>"
      ],
      "text/plain": [
       "<IPython.core.display.HTML object>"
      ]
     },
     "metadata": {},
     "output_type": "display_data"
    },
    {
     "data": {
      "text/html": [
       " View run at <a href='https://wandb.ai/TFE-proteomics/RT/runs/479i8kdi' target=\"_blank\">https://wandb.ai/TFE-proteomics/RT/runs/479i8kdi</a>"
      ],
      "text/plain": [
       "<IPython.core.display.HTML object>"
      ]
     },
     "metadata": {},
     "output_type": "display_data"
    },
    {
     "data": {
      "text/html": [],
      "text/plain": [
       "<IPython.core.display.HTML object>"
      ]
     },
     "metadata": {},
     "output_type": "display_data"
    },
    {
     "data": {
      "text/html": [
       "<br>    <style><br>        .wandb-row {<br>            display: flex;<br>            flex-direction: row;<br>            flex-wrap: wrap;<br>            justify-content: flex-start;<br>            width: 100%;<br>        }<br>        .wandb-col {<br>            display: flex;<br>            flex-direction: column;<br>            flex-basis: 100%;<br>            flex: 1;<br>            padding: 10px;<br>        }<br>    </style><br><div class=\"wandb-row\"><div class=\"wandb-col\"><h3>Run history:</h3><br/><table class=\"wandb\"><tr><td>accuracy</td><td>▁</td></tr><tr><td>f1</td><td>▁</td></tr><tr><td>pr_auc</td><td>▁</td></tr><tr><td>precision</td><td>▁</td></tr><tr><td>recall</td><td>▁</td></tr><tr><td>roc_auc</td><td>▁</td></tr></table><br/></div><div class=\"wandb-col\"><h3>Run summary:</h3><br/><table class=\"wandb\"><tr><td>accuracy</td><td>0.67742</td></tr><tr><td>f1</td><td>0.16667</td></tr><tr><td>pr_auc</td><td>0.28191</td></tr><tr><td>precision</td><td>0.2</td></tr><tr><td>recall</td><td>0.14286</td></tr><tr><td>roc_auc</td><td>0.59524</td></tr></table><br/></div></div>"
      ],
      "text/plain": [
       "<IPython.core.display.HTML object>"
      ]
     },
     "metadata": {},
     "output_type": "display_data"
    },
    {
     "data": {
      "text/html": [
       " View run <strong style=\"color:#cdcd00\">ValidProtocol_RT_Scratch_fold_1</strong> at: <a href='https://wandb.ai/TFE-proteomics/RT/runs/479i8kdi' target=\"_blank\">https://wandb.ai/TFE-proteomics/RT/runs/479i8kdi</a><br> View project at: <a href='https://wandb.ai/TFE-proteomics/RT' target=\"_blank\">https://wandb.ai/TFE-proteomics/RT</a><br>Synced 5 W&B file(s), 0 media file(s), 0 artifact file(s) and 0 other file(s)"
      ],
      "text/plain": [
       "<IPython.core.display.HTML object>"
      ]
     },
     "metadata": {},
     "output_type": "display_data"
    },
    {
     "data": {
      "text/html": [
       "Find logs at: <code>./wandb/run-20250315_131941-479i8kdi/logs</code>"
      ],
      "text/plain": [
       "<IPython.core.display.HTML object>"
      ]
     },
     "metadata": {},
     "output_type": "display_data"
    },
    {
     "name": "stdout",
     "output_type": "stream",
     "text": [
      "Fold 2 on 5\n",
      "Testing config 1 on 144\n",
      "Testing config 2 on 144\n",
      "Testing config 3 on 144\n",
      "Testing config 4 on 144\n",
      "Testing config 5 on 144\n",
      "Testing config 6 on 144\n",
      "Testing config 7 on 144\n",
      "Testing config 8 on 144\n",
      "Testing config 9 on 144\n",
      "Testing config 10 on 144\n",
      "Testing config 11 on 144\n",
      "Testing config 12 on 144\n",
      "Testing config 13 on 144\n",
      "Testing config 14 on 144\n",
      "Testing config 15 on 144\n",
      "Testing config 16 on 144\n",
      "Testing config 17 on 144\n",
      "Testing config 18 on 144\n",
      "Testing config 19 on 144\n",
      "Testing config 20 on 144\n",
      "Testing config 21 on 144\n",
      "Testing config 22 on 144\n",
      "Testing config 23 on 144\n",
      "Testing config 24 on 144\n",
      "Testing config 25 on 144\n",
      "Testing config 26 on 144\n",
      "Testing config 27 on 144\n",
      "Testing config 28 on 144\n",
      "Testing config 29 on 144\n",
      "Testing config 30 on 144\n",
      "Testing config 31 on 144\n",
      "Testing config 32 on 144\n",
      "Testing config 33 on 144\n",
      "Testing config 34 on 144\n",
      "Testing config 35 on 144\n",
      "Testing config 36 on 144\n",
      "Testing config 37 on 144\n",
      "Testing config 38 on 144\n",
      "Testing config 39 on 144\n",
      "Testing config 40 on 144\n",
      "Testing config 41 on 144\n",
      "Testing config 42 on 144\n",
      "Testing config 43 on 144\n",
      "Testing config 44 on 144\n",
      "Testing config 45 on 144\n",
      "Testing config 46 on 144\n",
      "Testing config 47 on 144\n",
      "Testing config 48 on 144\n",
      "Testing config 49 on 144\n",
      "Testing config 50 on 144\n",
      "Testing config 51 on 144\n",
      "Testing config 52 on 144\n",
      "Testing config 53 on 144\n",
      "Testing config 54 on 144\n",
      "Testing config 55 on 144\n",
      "Testing config 56 on 144\n",
      "Testing config 57 on 144\n",
      "Testing config 58 on 144\n",
      "Testing config 59 on 144\n",
      "Testing config 60 on 144\n",
      "Testing config 61 on 144\n",
      "Testing config 62 on 144\n",
      "Testing config 63 on 144\n",
      "Testing config 64 on 144\n",
      "Testing config 65 on 144\n",
      "Testing config 66 on 144\n",
      "Testing config 67 on 144\n",
      "Testing config 68 on 144\n",
      "Testing config 69 on 144\n",
      "Testing config 70 on 144\n",
      "Testing config 71 on 144\n",
      "Testing config 72 on 144\n",
      "Testing config 73 on 144\n",
      "Testing config 74 on 144\n",
      "Testing config 75 on 144\n",
      "Testing config 76 on 144\n",
      "Testing config 77 on 144\n",
      "Testing config 78 on 144\n",
      "Testing config 79 on 144\n",
      "Testing config 80 on 144\n",
      "Testing config 81 on 144\n",
      "Testing config 82 on 144\n",
      "Testing config 83 on 144\n",
      "Testing config 84 on 144\n",
      "Testing config 85 on 144\n",
      "Testing config 86 on 144\n",
      "Testing config 87 on 144\n",
      "Testing config 88 on 144\n",
      "Testing config 89 on 144\n",
      "Testing config 90 on 144\n",
      "Testing config 91 on 144\n",
      "Testing config 92 on 144\n",
      "Testing config 93 on 144\n",
      "Testing config 94 on 144\n",
      "Testing config 95 on 144\n",
      "Testing config 96 on 144\n",
      "Testing config 97 on 144\n",
      "Testing config 98 on 144\n",
      "Testing config 99 on 144\n",
      "Testing config 100 on 144\n",
      "Testing config 101 on 144\n",
      "Testing config 102 on 144\n",
      "Testing config 103 on 144\n",
      "Testing config 104 on 144\n",
      "Testing config 105 on 144\n",
      "Testing config 106 on 144\n",
      "Testing config 107 on 144\n",
      "Testing config 108 on 144\n",
      "Testing config 109 on 144\n",
      "Testing config 110 on 144\n",
      "Testing config 111 on 144\n",
      "Testing config 112 on 144\n",
      "Testing config 113 on 144\n",
      "Testing config 114 on 144\n",
      "Testing config 115 on 144\n",
      "Testing config 116 on 144\n",
      "Testing config 117 on 144\n",
      "Testing config 118 on 144\n",
      "Testing config 119 on 144\n",
      "Testing config 120 on 144\n",
      "Testing config 121 on 144\n",
      "Testing config 122 on 144\n",
      "Testing config 123 on 144\n",
      "Testing config 124 on 144\n",
      "Testing config 125 on 144\n",
      "Testing config 126 on 144\n",
      "Testing config 127 on 144\n",
      "Testing config 128 on 144\n",
      "Testing config 129 on 144\n",
      "Testing config 130 on 144\n",
      "Testing config 131 on 144\n",
      "Testing config 132 on 144\n",
      "Testing config 133 on 144\n",
      "Testing config 134 on 144\n",
      "Testing config 135 on 144\n",
      "Testing config 136 on 144\n",
      "Testing config 137 on 144\n",
      "Testing config 138 on 144\n",
      "Testing config 139 on 144\n",
      "Testing config 140 on 144\n",
      "Testing config 141 on 144\n",
      "Testing config 142 on 144\n",
      "Testing config 143 on 144\n",
      "Testing config 144 on 144\n",
      "\n",
      "--------------------------------------Config Done--------------------------------------------\n",
      "\n"
     ]
    },
    {
     "data": {
      "text/html": [
       "Tracking run with wandb version 0.19.8"
      ],
      "text/plain": [
       "<IPython.core.display.HTML object>"
      ]
     },
     "metadata": {},
     "output_type": "display_data"
    },
    {
     "data": {
      "text/html": [
       "Run data is saved locally in <code>/content/wandb/run-20250315_132831-t48if50w</code>"
      ],
      "text/plain": [
       "<IPython.core.display.HTML object>"
      ]
     },
     "metadata": {},
     "output_type": "display_data"
    },
    {
     "data": {
      "text/html": [
       "Syncing run <strong><a href='https://wandb.ai/TFE-proteomics/RT/runs/t48if50w' target=\"_blank\">ValidProtocol_RT_Scratch_fold_2</a></strong> to <a href='https://wandb.ai/TFE-proteomics/RT' target=\"_blank\">Weights & Biases</a> (<a href='https://wandb.me/developer-guide' target=\"_blank\">docs</a>)<br>"
      ],
      "text/plain": [
       "<IPython.core.display.HTML object>"
      ]
     },
     "metadata": {},
     "output_type": "display_data"
    },
    {
     "data": {
      "text/html": [
       " View project at <a href='https://wandb.ai/TFE-proteomics/RT' target=\"_blank\">https://wandb.ai/TFE-proteomics/RT</a>"
      ],
      "text/plain": [
       "<IPython.core.display.HTML object>"
      ]
     },
     "metadata": {},
     "output_type": "display_data"
    },
    {
     "data": {
      "text/html": [
       " View run at <a href='https://wandb.ai/TFE-proteomics/RT/runs/t48if50w' target=\"_blank\">https://wandb.ai/TFE-proteomics/RT/runs/t48if50w</a>"
      ],
      "text/plain": [
       "<IPython.core.display.HTML object>"
      ]
     },
     "metadata": {},
     "output_type": "display_data"
    },
    {
     "data": {
      "text/html": [],
      "text/plain": [
       "<IPython.core.display.HTML object>"
      ]
     },
     "metadata": {},
     "output_type": "display_data"
    },
    {
     "data": {
      "text/html": [
       "<br>    <style><br>        .wandb-row {<br>            display: flex;<br>            flex-direction: row;<br>            flex-wrap: wrap;<br>            justify-content: flex-start;<br>            width: 100%;<br>        }<br>        .wandb-col {<br>            display: flex;<br>            flex-direction: column;<br>            flex-basis: 100%;<br>            flex: 1;<br>            padding: 10px;<br>        }<br>    </style><br><div class=\"wandb-row\"><div class=\"wandb-col\"><h3>Run history:</h3><br/><table class=\"wandb\"><tr><td>accuracy</td><td>▁</td></tr><tr><td>f1</td><td>▁</td></tr><tr><td>pr_auc</td><td>▁</td></tr><tr><td>precision</td><td>▁</td></tr><tr><td>recall</td><td>▁</td></tr><tr><td>roc_auc</td><td>▁</td></tr></table><br/></div><div class=\"wandb-col\"><h3>Run summary:</h3><br/><table class=\"wandb\"><tr><td>accuracy</td><td>0.54839</td></tr><tr><td>f1</td><td>0.22222</td></tr><tr><td>pr_auc</td><td>0.21674</td></tr><tr><td>precision</td><td>0.18182</td></tr><tr><td>recall</td><td>0.28571</td></tr><tr><td>roc_auc</td><td>0.43452</td></tr></table><br/></div></div>"
      ],
      "text/plain": [
       "<IPython.core.display.HTML object>"
      ]
     },
     "metadata": {},
     "output_type": "display_data"
    },
    {
     "data": {
      "text/html": [
       " View run <strong style=\"color:#cdcd00\">ValidProtocol_RT_Scratch_fold_2</strong> at: <a href='https://wandb.ai/TFE-proteomics/RT/runs/t48if50w' target=\"_blank\">https://wandb.ai/TFE-proteomics/RT/runs/t48if50w</a><br> View project at: <a href='https://wandb.ai/TFE-proteomics/RT' target=\"_blank\">https://wandb.ai/TFE-proteomics/RT</a><br>Synced 5 W&B file(s), 0 media file(s), 0 artifact file(s) and 0 other file(s)"
      ],
      "text/plain": [
       "<IPython.core.display.HTML object>"
      ]
     },
     "metadata": {},
     "output_type": "display_data"
    },
    {
     "data": {
      "text/html": [
       "Find logs at: <code>./wandb/run-20250315_132831-t48if50w/logs</code>"
      ],
      "text/plain": [
       "<IPython.core.display.HTML object>"
      ]
     },
     "metadata": {},
     "output_type": "display_data"
    },
    {
     "name": "stdout",
     "output_type": "stream",
     "text": [
      "Fold 3 on 5\n",
      "Testing config 1 on 144\n",
      "Testing config 2 on 144\n",
      "Testing config 3 on 144\n",
      "Testing config 4 on 144\n",
      "Testing config 5 on 144\n",
      "Testing config 6 on 144\n",
      "Testing config 7 on 144\n",
      "Testing config 8 on 144\n",
      "Testing config 9 on 144\n",
      "Testing config 10 on 144\n",
      "Testing config 11 on 144\n",
      "Testing config 12 on 144\n",
      "Testing config 13 on 144\n",
      "Testing config 14 on 144\n",
      "Testing config 15 on 144\n",
      "Testing config 16 on 144\n",
      "Testing config 17 on 144\n",
      "Testing config 18 on 144\n",
      "Testing config 19 on 144\n",
      "Testing config 20 on 144\n",
      "Testing config 21 on 144\n",
      "Testing config 22 on 144\n",
      "Testing config 23 on 144\n",
      "Testing config 24 on 144\n",
      "Testing config 25 on 144\n",
      "Testing config 26 on 144\n",
      "Testing config 27 on 144\n",
      "Testing config 28 on 144\n",
      "Testing config 29 on 144\n",
      "Testing config 30 on 144\n",
      "Testing config 31 on 144\n",
      "Testing config 32 on 144\n",
      "Testing config 33 on 144\n",
      "Testing config 34 on 144\n",
      "Testing config 35 on 144\n",
      "Testing config 36 on 144\n",
      "Testing config 37 on 144\n",
      "Testing config 38 on 144\n",
      "Testing config 39 on 144\n",
      "Testing config 40 on 144\n",
      "Testing config 41 on 144\n",
      "Testing config 42 on 144\n",
      "Testing config 43 on 144\n",
      "Testing config 44 on 144\n",
      "Testing config 45 on 144\n",
      "Testing config 46 on 144\n",
      "Testing config 47 on 144\n",
      "Testing config 48 on 144\n",
      "Testing config 49 on 144\n",
      "Testing config 50 on 144\n",
      "Testing config 51 on 144\n",
      "Testing config 52 on 144\n",
      "Testing config 53 on 144\n",
      "Testing config 54 on 144\n",
      "Testing config 55 on 144\n",
      "Testing config 56 on 144\n",
      "Testing config 57 on 144\n",
      "Testing config 58 on 144\n",
      "Testing config 59 on 144\n",
      "Testing config 60 on 144\n",
      "Testing config 61 on 144\n",
      "Testing config 62 on 144\n",
      "Testing config 63 on 144\n",
      "Testing config 64 on 144\n",
      "Testing config 65 on 144\n",
      "Testing config 66 on 144\n",
      "Testing config 67 on 144\n",
      "Testing config 68 on 144\n",
      "Testing config 69 on 144\n",
      "Testing config 70 on 144\n",
      "Testing config 71 on 144\n",
      "Testing config 72 on 144\n",
      "Testing config 73 on 144\n",
      "Testing config 74 on 144\n",
      "Testing config 75 on 144\n",
      "Testing config 76 on 144\n",
      "Testing config 77 on 144\n",
      "Testing config 78 on 144\n",
      "Testing config 79 on 144\n",
      "Testing config 80 on 144\n",
      "Testing config 81 on 144\n",
      "Testing config 82 on 144\n",
      "Testing config 83 on 144\n",
      "Testing config 84 on 144\n",
      "Testing config 85 on 144\n",
      "Testing config 86 on 144\n",
      "Testing config 87 on 144\n",
      "Testing config 88 on 144\n",
      "Testing config 89 on 144\n",
      "Testing config 90 on 144\n",
      "Testing config 91 on 144\n",
      "Testing config 92 on 144\n",
      "Testing config 93 on 144\n",
      "Testing config 94 on 144\n",
      "Testing config 95 on 144\n",
      "Testing config 96 on 144\n",
      "Testing config 97 on 144\n",
      "Testing config 98 on 144\n",
      "Testing config 99 on 144\n",
      "Testing config 100 on 144\n",
      "Testing config 101 on 144\n",
      "Testing config 102 on 144\n",
      "Testing config 103 on 144\n",
      "Testing config 104 on 144\n",
      "Testing config 105 on 144\n",
      "Testing config 106 on 144\n",
      "Testing config 107 on 144\n",
      "Testing config 108 on 144\n",
      "Testing config 109 on 144\n",
      "Testing config 110 on 144\n",
      "Testing config 111 on 144\n",
      "Testing config 112 on 144\n",
      "Testing config 113 on 144\n",
      "Testing config 114 on 144\n",
      "Testing config 115 on 144\n",
      "Testing config 116 on 144\n",
      "Testing config 117 on 144\n",
      "Testing config 118 on 144\n",
      "Testing config 119 on 144\n",
      "Testing config 120 on 144\n",
      "Testing config 121 on 144\n",
      "Testing config 122 on 144\n",
      "Testing config 123 on 144\n",
      "Testing config 124 on 144\n",
      "Testing config 125 on 144\n",
      "Testing config 126 on 144\n",
      "Testing config 127 on 144\n",
      "Testing config 128 on 144\n",
      "Testing config 129 on 144\n",
      "Testing config 130 on 144\n",
      "Testing config 131 on 144\n",
      "Testing config 132 on 144\n",
      "Testing config 133 on 144\n",
      "Testing config 134 on 144\n",
      "Testing config 135 on 144\n",
      "Testing config 136 on 144\n",
      "Testing config 137 on 144\n",
      "Testing config 138 on 144\n",
      "Testing config 139 on 144\n",
      "Testing config 140 on 144\n",
      "Testing config 141 on 144\n",
      "Testing config 142 on 144\n",
      "Testing config 143 on 144\n",
      "Testing config 144 on 144\n",
      "\n",
      "--------------------------------------Config Done--------------------------------------------\n",
      "\n"
     ]
    },
    {
     "data": {
      "text/html": [
       "Tracking run with wandb version 0.19.8"
      ],
      "text/plain": [
       "<IPython.core.display.HTML object>"
      ]
     },
     "metadata": {},
     "output_type": "display_data"
    },
    {
     "data": {
      "text/html": [
       "Run data is saved locally in <code>/content/wandb/run-20250315_133722-sd0w0e30</code>"
      ],
      "text/plain": [
       "<IPython.core.display.HTML object>"
      ]
     },
     "metadata": {},
     "output_type": "display_data"
    },
    {
     "data": {
      "text/html": [
       "Syncing run <strong><a href='https://wandb.ai/TFE-proteomics/RT/runs/sd0w0e30' target=\"_blank\">ValidProtocol_RT_Scratch_fold_3</a></strong> to <a href='https://wandb.ai/TFE-proteomics/RT' target=\"_blank\">Weights & Biases</a> (<a href='https://wandb.me/developer-guide' target=\"_blank\">docs</a>)<br>"
      ],
      "text/plain": [
       "<IPython.core.display.HTML object>"
      ]
     },
     "metadata": {},
     "output_type": "display_data"
    },
    {
     "data": {
      "text/html": [
       " View project at <a href='https://wandb.ai/TFE-proteomics/RT' target=\"_blank\">https://wandb.ai/TFE-proteomics/RT</a>"
      ],
      "text/plain": [
       "<IPython.core.display.HTML object>"
      ]
     },
     "metadata": {},
     "output_type": "display_data"
    },
    {
     "data": {
      "text/html": [
       " View run at <a href='https://wandb.ai/TFE-proteomics/RT/runs/sd0w0e30' target=\"_blank\">https://wandb.ai/TFE-proteomics/RT/runs/sd0w0e30</a>"
      ],
      "text/plain": [
       "<IPython.core.display.HTML object>"
      ]
     },
     "metadata": {},
     "output_type": "display_data"
    },
    {
     "data": {
      "text/html": [],
      "text/plain": [
       "<IPython.core.display.HTML object>"
      ]
     },
     "metadata": {},
     "output_type": "display_data"
    },
    {
     "data": {
      "text/html": [
       "<br>    <style><br>        .wandb-row {<br>            display: flex;<br>            flex-direction: row;<br>            flex-wrap: wrap;<br>            justify-content: flex-start;<br>            width: 100%;<br>        }<br>        .wandb-col {<br>            display: flex;<br>            flex-direction: column;<br>            flex-basis: 100%;<br>            flex: 1;<br>            padding: 10px;<br>        }<br>    </style><br><div class=\"wandb-row\"><div class=\"wandb-col\"><h3>Run history:</h3><br/><table class=\"wandb\"><tr><td>accuracy</td><td>▁</td></tr><tr><td>f1</td><td>▁</td></tr><tr><td>pr_auc</td><td>▁</td></tr><tr><td>precision</td><td>▁</td></tr><tr><td>recall</td><td>▁</td></tr><tr><td>roc_auc</td><td>▁</td></tr></table><br/></div><div class=\"wandb-col\"><h3>Run summary:</h3><br/><table class=\"wandb\"><tr><td>accuracy</td><td>0.67742</td></tr><tr><td>f1</td><td>0.28571</td></tr><tr><td>pr_auc</td><td>0.34273</td></tr><tr><td>precision</td><td>0.33333</td></tr><tr><td>recall</td><td>0.25</td></tr><tr><td>roc_auc</td><td>0.49457</td></tr></table><br/></div></div>"
      ],
      "text/plain": [
       "<IPython.core.display.HTML object>"
      ]
     },
     "metadata": {},
     "output_type": "display_data"
    },
    {
     "data": {
      "text/html": [
       " View run <strong style=\"color:#cdcd00\">ValidProtocol_RT_Scratch_fold_3</strong> at: <a href='https://wandb.ai/TFE-proteomics/RT/runs/sd0w0e30' target=\"_blank\">https://wandb.ai/TFE-proteomics/RT/runs/sd0w0e30</a><br> View project at: <a href='https://wandb.ai/TFE-proteomics/RT' target=\"_blank\">https://wandb.ai/TFE-proteomics/RT</a><br>Synced 5 W&B file(s), 0 media file(s), 0 artifact file(s) and 0 other file(s)"
      ],
      "text/plain": [
       "<IPython.core.display.HTML object>"
      ]
     },
     "metadata": {},
     "output_type": "display_data"
    },
    {
     "data": {
      "text/html": [
       "Find logs at: <code>./wandb/run-20250315_133722-sd0w0e30/logs</code>"
      ],
      "text/plain": [
       "<IPython.core.display.HTML object>"
      ]
     },
     "metadata": {},
     "output_type": "display_data"
    },
    {
     "name": "stdout",
     "output_type": "stream",
     "text": [
      "Fold 4 on 5\n",
      "Testing config 1 on 144\n",
      "Testing config 2 on 144\n",
      "Testing config 3 on 144\n",
      "Testing config 4 on 144\n",
      "Testing config 5 on 144\n",
      "Testing config 6 on 144\n",
      "Testing config 7 on 144\n",
      "Testing config 8 on 144\n",
      "Testing config 9 on 144\n",
      "Testing config 10 on 144\n",
      "Testing config 11 on 144\n",
      "Testing config 12 on 144\n",
      "Testing config 13 on 144\n",
      "Testing config 14 on 144\n",
      "Testing config 15 on 144\n",
      "Testing config 16 on 144\n",
      "Testing config 17 on 144\n",
      "Testing config 18 on 144\n",
      "Testing config 19 on 144\n",
      "Testing config 20 on 144\n",
      "Testing config 21 on 144\n",
      "Testing config 22 on 144\n",
      "Testing config 23 on 144\n",
      "Testing config 24 on 144\n",
      "Testing config 25 on 144\n",
      "Testing config 26 on 144\n",
      "Testing config 27 on 144\n",
      "Testing config 28 on 144\n",
      "Testing config 29 on 144\n",
      "Testing config 30 on 144\n",
      "Testing config 31 on 144\n",
      "Testing config 32 on 144\n",
      "Testing config 33 on 144\n",
      "Testing config 34 on 144\n",
      "Testing config 35 on 144\n",
      "Testing config 36 on 144\n",
      "Testing config 37 on 144\n",
      "Testing config 38 on 144\n",
      "Testing config 39 on 144\n",
      "Testing config 40 on 144\n",
      "Testing config 41 on 144\n",
      "Testing config 42 on 144\n",
      "Testing config 43 on 144\n",
      "Testing config 44 on 144\n",
      "Testing config 45 on 144\n",
      "Testing config 46 on 144\n",
      "Testing config 47 on 144\n",
      "Testing config 48 on 144\n",
      "Testing config 49 on 144\n",
      "Testing config 50 on 144\n",
      "Testing config 51 on 144\n",
      "Testing config 52 on 144\n",
      "Testing config 53 on 144\n",
      "Testing config 54 on 144\n",
      "Testing config 55 on 144\n",
      "Testing config 56 on 144\n",
      "Testing config 57 on 144\n",
      "Testing config 58 on 144\n",
      "Testing config 59 on 144\n",
      "Testing config 60 on 144\n",
      "Testing config 61 on 144\n",
      "Testing config 62 on 144\n",
      "Testing config 63 on 144\n",
      "Testing config 64 on 144\n",
      "Testing config 65 on 144\n",
      "Testing config 66 on 144\n",
      "Testing config 67 on 144\n",
      "Testing config 68 on 144\n",
      "Testing config 69 on 144\n",
      "Testing config 70 on 144\n",
      "Testing config 71 on 144\n",
      "Testing config 72 on 144\n",
      "Testing config 73 on 144\n",
      "Testing config 74 on 144\n",
      "Testing config 75 on 144\n",
      "Testing config 76 on 144\n",
      "Testing config 77 on 144\n",
      "Testing config 78 on 144\n",
      "Testing config 79 on 144\n",
      "Testing config 80 on 144\n",
      "Testing config 81 on 144\n",
      "Testing config 82 on 144\n",
      "Testing config 83 on 144\n",
      "Testing config 84 on 144\n",
      "Testing config 85 on 144\n",
      "Testing config 86 on 144\n",
      "Testing config 87 on 144\n",
      "Testing config 88 on 144\n",
      "Testing config 89 on 144\n",
      "Testing config 90 on 144\n",
      "Testing config 91 on 144\n",
      "Testing config 92 on 144\n",
      "Testing config 93 on 144\n",
      "Testing config 94 on 144\n",
      "Testing config 95 on 144\n",
      "Testing config 96 on 144\n",
      "Testing config 97 on 144\n",
      "Testing config 98 on 144\n",
      "Testing config 99 on 144\n",
      "Testing config 100 on 144\n",
      "Testing config 101 on 144\n",
      "Testing config 102 on 144\n",
      "Testing config 103 on 144\n",
      "Testing config 104 on 144\n",
      "Testing config 105 on 144\n",
      "Testing config 106 on 144\n",
      "Testing config 107 on 144\n",
      "Testing config 108 on 144\n",
      "Testing config 109 on 144\n",
      "Testing config 110 on 144\n",
      "Testing config 111 on 144\n",
      "Testing config 112 on 144\n",
      "Testing config 113 on 144\n",
      "Testing config 114 on 144\n",
      "Testing config 115 on 144\n",
      "Testing config 116 on 144\n",
      "Testing config 117 on 144\n",
      "Testing config 118 on 144\n",
      "Testing config 119 on 144\n",
      "Testing config 120 on 144\n",
      "Testing config 121 on 144\n",
      "Testing config 122 on 144\n",
      "Testing config 123 on 144\n",
      "Testing config 124 on 144\n",
      "Testing config 125 on 144\n",
      "Testing config 126 on 144\n",
      "Testing config 127 on 144\n",
      "Testing config 128 on 144\n",
      "Testing config 129 on 144\n",
      "Testing config 130 on 144\n",
      "Testing config 131 on 144\n",
      "Testing config 132 on 144\n",
      "Testing config 133 on 144\n",
      "Testing config 134 on 144\n",
      "Testing config 135 on 144\n",
      "Testing config 136 on 144\n",
      "Testing config 137 on 144\n",
      "Testing config 138 on 144\n",
      "Testing config 139 on 144\n",
      "Testing config 140 on 144\n",
      "Testing config 141 on 144\n",
      "Testing config 142 on 144\n",
      "Testing config 143 on 144\n",
      "Testing config 144 on 144\n",
      "\n",
      "--------------------------------------Config Done--------------------------------------------\n",
      "\n"
     ]
    },
    {
     "data": {
      "text/html": [
       "Tracking run with wandb version 0.19.8"
      ],
      "text/plain": [
       "<IPython.core.display.HTML object>"
      ]
     },
     "metadata": {},
     "output_type": "display_data"
    },
    {
     "data": {
      "text/html": [
       "Run data is saved locally in <code>/content/wandb/run-20250315_134614-10s8g3nz</code>"
      ],
      "text/plain": [
       "<IPython.core.display.HTML object>"
      ]
     },
     "metadata": {},
     "output_type": "display_data"
    },
    {
     "data": {
      "text/html": [
       "Syncing run <strong><a href='https://wandb.ai/TFE-proteomics/RT/runs/10s8g3nz' target=\"_blank\">ValidProtocol_RT_Scratch_fold_4</a></strong> to <a href='https://wandb.ai/TFE-proteomics/RT' target=\"_blank\">Weights & Biases</a> (<a href='https://wandb.me/developer-guide' target=\"_blank\">docs</a>)<br>"
      ],
      "text/plain": [
       "<IPython.core.display.HTML object>"
      ]
     },
     "metadata": {},
     "output_type": "display_data"
    },
    {
     "data": {
      "text/html": [
       " View project at <a href='https://wandb.ai/TFE-proteomics/RT' target=\"_blank\">https://wandb.ai/TFE-proteomics/RT</a>"
      ],
      "text/plain": [
       "<IPython.core.display.HTML object>"
      ]
     },
     "metadata": {},
     "output_type": "display_data"
    },
    {
     "data": {
      "text/html": [
       " View run at <a href='https://wandb.ai/TFE-proteomics/RT/runs/10s8g3nz' target=\"_blank\">https://wandb.ai/TFE-proteomics/RT/runs/10s8g3nz</a>"
      ],
      "text/plain": [
       "<IPython.core.display.HTML object>"
      ]
     },
     "metadata": {},
     "output_type": "display_data"
    },
    {
     "data": {
      "text/html": [],
      "text/plain": [
       "<IPython.core.display.HTML object>"
      ]
     },
     "metadata": {},
     "output_type": "display_data"
    },
    {
     "data": {
      "text/html": [
       "<br>    <style><br>        .wandb-row {<br>            display: flex;<br>            flex-direction: row;<br>            flex-wrap: wrap;<br>            justify-content: flex-start;<br>            width: 100%;<br>        }<br>        .wandb-col {<br>            display: flex;<br>            flex-direction: column;<br>            flex-basis: 100%;<br>            flex: 1;<br>            padding: 10px;<br>        }<br>    </style><br><div class=\"wandb-row\"><div class=\"wandb-col\"><h3>Run history:</h3><br/><table class=\"wandb\"><tr><td>accuracy</td><td>▁</td></tr><tr><td>f1</td><td>▁</td></tr><tr><td>pr_auc</td><td>▁</td></tr><tr><td>precision</td><td>▁</td></tr><tr><td>recall</td><td>▁</td></tr><tr><td>roc_auc</td><td>▁</td></tr></table><br/></div><div class=\"wandb-col\"><h3>Run summary:</h3><br/><table class=\"wandb\"><tr><td>accuracy</td><td>0.6129</td></tr><tr><td>f1</td><td>0.25</td></tr><tr><td>pr_auc</td><td>0.2961</td></tr><tr><td>precision</td><td>0.25</td></tr><tr><td>recall</td><td>0.25</td></tr><tr><td>roc_auc</td><td>0.44565</td></tr></table><br/></div></div>"
      ],
      "text/plain": [
       "<IPython.core.display.HTML object>"
      ]
     },
     "metadata": {},
     "output_type": "display_data"
    },
    {
     "data": {
      "text/html": [
       " View run <strong style=\"color:#cdcd00\">ValidProtocol_RT_Scratch_fold_4</strong> at: <a href='https://wandb.ai/TFE-proteomics/RT/runs/10s8g3nz' target=\"_blank\">https://wandb.ai/TFE-proteomics/RT/runs/10s8g3nz</a><br> View project at: <a href='https://wandb.ai/TFE-proteomics/RT' target=\"_blank\">https://wandb.ai/TFE-proteomics/RT</a><br>Synced 5 W&B file(s), 0 media file(s), 0 artifact file(s) and 0 other file(s)"
      ],
      "text/plain": [
       "<IPython.core.display.HTML object>"
      ]
     },
     "metadata": {},
     "output_type": "display_data"
    },
    {
     "data": {
      "text/html": [
       "Find logs at: <code>./wandb/run-20250315_134614-10s8g3nz/logs</code>"
      ],
      "text/plain": [
       "<IPython.core.display.HTML object>"
      ]
     },
     "metadata": {},
     "output_type": "display_data"
    },
    {
     "name": "stdout",
     "output_type": "stream",
     "text": [
      "Fold 5 on 5\n",
      "Testing config 1 on 144\n",
      "Testing config 2 on 144\n",
      "Testing config 3 on 144\n",
      "Testing config 4 on 144\n",
      "Testing config 5 on 144\n",
      "Testing config 6 on 144\n",
      "Testing config 7 on 144\n",
      "Testing config 8 on 144\n",
      "Testing config 9 on 144\n",
      "Testing config 10 on 144\n",
      "Testing config 11 on 144\n",
      "Testing config 12 on 144\n",
      "Testing config 13 on 144\n",
      "Testing config 14 on 144\n",
      "Testing config 15 on 144\n",
      "Testing config 16 on 144\n",
      "Testing config 17 on 144\n",
      "Testing config 18 on 144\n",
      "Testing config 19 on 144\n",
      "Testing config 20 on 144\n",
      "Testing config 21 on 144\n",
      "Testing config 22 on 144\n",
      "Testing config 23 on 144\n",
      "Testing config 24 on 144\n",
      "Testing config 25 on 144\n",
      "Testing config 26 on 144\n",
      "Testing config 27 on 144\n",
      "Testing config 28 on 144\n",
      "Testing config 29 on 144\n",
      "Testing config 30 on 144\n",
      "Testing config 31 on 144\n",
      "Testing config 32 on 144\n",
      "Testing config 33 on 144\n",
      "Testing config 34 on 144\n",
      "Testing config 35 on 144\n",
      "Testing config 36 on 144\n",
      "Testing config 37 on 144\n",
      "Testing config 38 on 144\n",
      "Testing config 39 on 144\n",
      "Testing config 40 on 144\n",
      "Testing config 41 on 144\n",
      "Testing config 42 on 144\n",
      "Testing config 43 on 144\n",
      "Testing config 44 on 144\n",
      "Testing config 45 on 144\n",
      "Testing config 46 on 144\n",
      "Testing config 47 on 144\n",
      "Testing config 48 on 144\n",
      "Testing config 49 on 144\n",
      "Testing config 50 on 144\n",
      "Testing config 51 on 144\n",
      "Testing config 52 on 144\n",
      "Testing config 53 on 144\n",
      "Testing config 54 on 144\n",
      "Testing config 55 on 144\n",
      "Testing config 56 on 144\n",
      "Testing config 57 on 144\n",
      "Testing config 58 on 144\n",
      "Testing config 59 on 144\n",
      "Testing config 60 on 144\n",
      "Testing config 61 on 144\n",
      "Testing config 62 on 144\n",
      "Testing config 63 on 144\n",
      "Testing config 64 on 144\n",
      "Testing config 65 on 144\n",
      "Testing config 66 on 144\n",
      "Testing config 67 on 144\n",
      "Testing config 68 on 144\n",
      "Testing config 69 on 144\n",
      "Testing config 70 on 144\n",
      "Testing config 71 on 144\n",
      "Testing config 72 on 144\n",
      "Testing config 73 on 144\n",
      "Testing config 74 on 144\n",
      "Testing config 75 on 144\n",
      "Testing config 76 on 144\n",
      "Testing config 77 on 144\n",
      "Testing config 78 on 144\n",
      "Testing config 79 on 144\n",
      "Testing config 80 on 144\n",
      "Testing config 81 on 144\n",
      "Testing config 82 on 144\n",
      "Testing config 83 on 144\n",
      "Testing config 84 on 144\n",
      "Testing config 85 on 144\n",
      "Testing config 86 on 144\n",
      "Testing config 87 on 144\n",
      "Testing config 88 on 144\n",
      "Testing config 89 on 144\n",
      "Testing config 90 on 144\n",
      "Testing config 91 on 144\n",
      "Testing config 92 on 144\n",
      "Testing config 93 on 144\n",
      "Testing config 94 on 144\n",
      "Testing config 95 on 144\n",
      "Testing config 96 on 144\n",
      "Testing config 97 on 144\n",
      "Testing config 98 on 144\n",
      "Testing config 99 on 144\n",
      "Testing config 100 on 144\n",
      "Testing config 101 on 144\n",
      "Testing config 102 on 144\n",
      "Testing config 103 on 144\n",
      "Testing config 104 on 144\n",
      "Testing config 105 on 144\n",
      "Testing config 106 on 144\n",
      "Testing config 107 on 144\n",
      "Testing config 108 on 144\n",
      "Testing config 109 on 144\n",
      "Testing config 110 on 144\n",
      "Testing config 111 on 144\n",
      "Testing config 112 on 144\n",
      "Testing config 113 on 144\n",
      "Testing config 114 on 144\n",
      "Testing config 115 on 144\n",
      "Testing config 116 on 144\n",
      "Testing config 117 on 144\n",
      "Testing config 118 on 144\n",
      "Testing config 119 on 144\n",
      "Testing config 120 on 144\n",
      "Testing config 121 on 144\n",
      "Testing config 122 on 144\n",
      "Testing config 123 on 144\n",
      "Testing config 124 on 144\n",
      "Testing config 125 on 144\n",
      "Testing config 126 on 144\n",
      "Testing config 127 on 144\n",
      "Testing config 128 on 144\n",
      "Testing config 129 on 144\n",
      "Testing config 130 on 144\n",
      "Testing config 131 on 144\n",
      "Testing config 132 on 144\n",
      "Testing config 133 on 144\n",
      "Testing config 134 on 144\n",
      "Testing config 135 on 144\n",
      "Testing config 136 on 144\n",
      "Testing config 137 on 144\n",
      "Testing config 138 on 144\n",
      "Testing config 139 on 144\n",
      "Testing config 140 on 144\n",
      "Testing config 141 on 144\n",
      "Testing config 142 on 144\n",
      "Testing config 143 on 144\n",
      "Testing config 144 on 144\n",
      "\n",
      "--------------------------------------Config Done--------------------------------------------\n",
      "\n"
     ]
    },
    {
     "data": {
      "text/html": [
       "Tracking run with wandb version 0.19.8"
      ],
      "text/plain": [
       "<IPython.core.display.HTML object>"
      ]
     },
     "metadata": {},
     "output_type": "display_data"
    },
    {
     "data": {
      "text/html": [
       "Run data is saved locally in <code>/content/wandb/run-20250315_135459-s7vr8hqe</code>"
      ],
      "text/plain": [
       "<IPython.core.display.HTML object>"
      ]
     },
     "metadata": {},
     "output_type": "display_data"
    },
    {
     "data": {
      "text/html": [
       "Syncing run <strong><a href='https://wandb.ai/TFE-proteomics/RT/runs/s7vr8hqe' target=\"_blank\">ValidProtocol_RT_Scratch_fold_5</a></strong> to <a href='https://wandb.ai/TFE-proteomics/RT' target=\"_blank\">Weights & Biases</a> (<a href='https://wandb.me/developer-guide' target=\"_blank\">docs</a>)<br>"
      ],
      "text/plain": [
       "<IPython.core.display.HTML object>"
      ]
     },
     "metadata": {},
     "output_type": "display_data"
    },
    {
     "data": {
      "text/html": [
       " View project at <a href='https://wandb.ai/TFE-proteomics/RT' target=\"_blank\">https://wandb.ai/TFE-proteomics/RT</a>"
      ],
      "text/plain": [
       "<IPython.core.display.HTML object>"
      ]
     },
     "metadata": {},
     "output_type": "display_data"
    },
    {
     "data": {
      "text/html": [
       " View run at <a href='https://wandb.ai/TFE-proteomics/RT/runs/s7vr8hqe' target=\"_blank\">https://wandb.ai/TFE-proteomics/RT/runs/s7vr8hqe</a>"
      ],
      "text/plain": [
       "<IPython.core.display.HTML object>"
      ]
     },
     "metadata": {},
     "output_type": "display_data"
    },
    {
     "data": {
      "text/html": [],
      "text/plain": [
       "<IPython.core.display.HTML object>"
      ]
     },
     "metadata": {},
     "output_type": "display_data"
    },
    {
     "data": {
      "text/html": [
       "<br>    <style><br>        .wandb-row {<br>            display: flex;<br>            flex-direction: row;<br>            flex-wrap: wrap;<br>            justify-content: flex-start;<br>            width: 100%;<br>        }<br>        .wandb-col {<br>            display: flex;<br>            flex-direction: column;<br>            flex-basis: 100%;<br>            flex: 1;<br>            padding: 10px;<br>        }<br>    </style><br><div class=\"wandb-row\"><div class=\"wandb-col\"><h3>Run history:</h3><br/><table class=\"wandb\"><tr><td>accuracy</td><td>▁</td></tr><tr><td>f1</td><td>▁</td></tr><tr><td>pr_auc</td><td>▁</td></tr><tr><td>precision</td><td>▁</td></tr><tr><td>recall</td><td>▁</td></tr><tr><td>roc_auc</td><td>▁</td></tr></table><br/></div><div class=\"wandb-col\"><h3>Run summary:</h3><br/><table class=\"wandb\"><tr><td>accuracy</td><td>0.58065</td></tr><tr><td>f1</td><td>0.13333</td></tr><tr><td>pr_auc</td><td>0.34212</td></tr><tr><td>precision</td><td>0.14286</td></tr><tr><td>recall</td><td>0.125</td></tr><tr><td>roc_auc</td><td>0.42391</td></tr></table><br/></div></div>"
      ],
      "text/plain": [
       "<IPython.core.display.HTML object>"
      ]
     },
     "metadata": {},
     "output_type": "display_data"
    },
    {
     "data": {
      "text/html": [
       " View run <strong style=\"color:#cdcd00\">ValidProtocol_RT_Scratch_fold_5</strong> at: <a href='https://wandb.ai/TFE-proteomics/RT/runs/s7vr8hqe' target=\"_blank\">https://wandb.ai/TFE-proteomics/RT/runs/s7vr8hqe</a><br> View project at: <a href='https://wandb.ai/TFE-proteomics/RT' target=\"_blank\">https://wandb.ai/TFE-proteomics/RT</a><br>Synced 5 W&B file(s), 0 media file(s), 0 artifact file(s) and 0 other file(s)"
      ],
      "text/plain": [
       "<IPython.core.display.HTML object>"
      ]
     },
     "metadata": {},
     "output_type": "display_data"
    },
    {
     "data": {
      "text/html": [
       "Find logs at: <code>./wandb/run-20250315_135459-s7vr8hqe/logs</code>"
      ],
      "text/plain": [
       "<IPython.core.display.HTML object>"
      ]
     },
     "metadata": {},
     "output_type": "display_data"
    },
    {
     "data": {
      "text/html": [
       "Tracking run with wandb version 0.19.8"
      ],
      "text/plain": [
       "<IPython.core.display.HTML object>"
      ]
     },
     "metadata": {},
     "output_type": "display_data"
    },
    {
     "data": {
      "text/html": [
       "Run data is saved locally in <code>/content/wandb/run-20250315_135502-v7cu5bpj</code>"
      ],
      "text/plain": [
       "<IPython.core.display.HTML object>"
      ]
     },
     "metadata": {},
     "output_type": "display_data"
    },
    {
     "data": {
      "text/html": [
       "Syncing run <strong><a href='https://wandb.ai/TFE-proteomics/RT/runs/v7cu5bpj' target=\"_blank\">ValidProtocol_RT_Scratch_CrossValidation_Summary</a></strong> to <a href='https://wandb.ai/TFE-proteomics/RT' target=\"_blank\">Weights & Biases</a> (<a href='https://wandb.me/developer-guide' target=\"_blank\">docs</a>)<br>"
      ],
      "text/plain": [
       "<IPython.core.display.HTML object>"
      ]
     },
     "metadata": {},
     "output_type": "display_data"
    },
    {
     "data": {
      "text/html": [
       " View project at <a href='https://wandb.ai/TFE-proteomics/RT' target=\"_blank\">https://wandb.ai/TFE-proteomics/RT</a>"
      ],
      "text/plain": [
       "<IPython.core.display.HTML object>"
      ]
     },
     "metadata": {},
     "output_type": "display_data"
    },
    {
     "data": {
      "text/html": [
       " View run at <a href='https://wandb.ai/TFE-proteomics/RT/runs/v7cu5bpj' target=\"_blank\">https://wandb.ai/TFE-proteomics/RT/runs/v7cu5bpj</a>"
      ],
      "text/plain": [
       "<IPython.core.display.HTML object>"
      ]
     },
     "metadata": {},
     "output_type": "display_data"
    },
    {
     "data": {
      "text/html": [],
      "text/plain": [
       "<IPython.core.display.HTML object>"
      ]
     },
     "metadata": {},
     "output_type": "display_data"
    },
    {
     "data": {
      "text/html": [
       "<br>    <style><br>        .wandb-row {<br>            display: flex;<br>            flex-direction: row;<br>            flex-wrap: wrap;<br>            justify-content: flex-start;<br>            width: 100%;<br>        }<br>        .wandb-col {<br>            display: flex;<br>            flex-direction: column;<br>            flex-basis: 100%;<br>            flex: 1;<br>            padding: 10px;<br>        }<br>    </style><br><div class=\"wandb-row\"><div class=\"wandb-col\"><h3>Run history:</h3><br/><table class=\"wandb\"><tr><td>accuracy_mean</td><td>▁</td></tr><tr><td>accuracy_std</td><td>▁</td></tr><tr><td>f1_mean</td><td>▁</td></tr><tr><td>f1_std</td><td>▁</td></tr><tr><td>pr_auc_mean</td><td>▁</td></tr><tr><td>pr_auc_std</td><td>▁</td></tr><tr><td>precision_mean</td><td>▁</td></tr><tr><td>precision_std</td><td>▁</td></tr><tr><td>recall_mean</td><td>▁</td></tr><tr><td>recall_std</td><td>▁</td></tr><tr><td>roc_auc_mean</td><td>▁</td></tr><tr><td>roc_auc_std</td><td>▁</td></tr></table><br/></div><div class=\"wandb-col\"><h3>Run summary:</h3><br/><table class=\"wandb\"><tr><td>accuracy_mean</td><td>0.61935</td></tr><tr><td>accuracy_std</td><td>0.05161</td></tr><tr><td>f1_mean</td><td>0.21159</td></tr><tr><td>f1_std</td><td>0.05518</td></tr><tr><td>pr_auc_mean</td><td>0.29592</td></tr><tr><td>pr_auc_std</td><td>0.04646</td></tr><tr><td>precision_mean</td><td>0.2216</td></tr><tr><td>precision_std</td><td>0.06564</td></tr><tr><td>recall_mean</td><td>0.21071</td></tr><tr><td>recall_std</td><td>0.06429</td></tr><tr><td>roc_auc_mean</td><td>0.47878</td></tr><tr><td>roc_auc_std</td><td>0.06305</td></tr></table><br/></div></div>"
      ],
      "text/plain": [
       "<IPython.core.display.HTML object>"
      ]
     },
     "metadata": {},
     "output_type": "display_data"
    },
    {
     "data": {
      "text/html": [
       " View run <strong style=\"color:#cdcd00\">ValidProtocol_RT_Scratch_CrossValidation_Summary</strong> at: <a href='https://wandb.ai/TFE-proteomics/RT/runs/v7cu5bpj' target=\"_blank\">https://wandb.ai/TFE-proteomics/RT/runs/v7cu5bpj</a><br> View project at: <a href='https://wandb.ai/TFE-proteomics/RT' target=\"_blank\">https://wandb.ai/TFE-proteomics/RT</a><br>Synced 5 W&B file(s), 0 media file(s), 0 artifact file(s) and 0 other file(s)"
      ],
      "text/plain": [
       "<IPython.core.display.HTML object>"
      ]
     },
     "metadata": {},
     "output_type": "display_data"
    },
    {
     "data": {
      "text/html": [
       "Find logs at: <code>./wandb/run-20250315_135502-v7cu5bpj/logs</code>"
      ],
      "text/plain": [
       "<IPython.core.display.HTML object>"
      ]
     },
     "metadata": {},
     "output_type": "display_data"
    },
    {
     "name": "stdout",
     "output_type": "stream",
     "text": [
      "Fold 1 on 5\n",
      "Testing config 1 on 144\n",
      "Testing config 2 on 144\n",
      "Testing config 3 on 144\n",
      "Testing config 4 on 144\n",
      "Testing config 5 on 144\n",
      "Testing config 6 on 144\n",
      "Testing config 7 on 144\n",
      "Testing config 8 on 144\n",
      "Testing config 9 on 144\n",
      "Testing config 10 on 144\n",
      "Testing config 11 on 144\n",
      "Testing config 12 on 144\n",
      "Testing config 13 on 144\n",
      "Testing config 14 on 144\n",
      "Testing config 15 on 144\n",
      "Testing config 16 on 144\n",
      "Testing config 17 on 144\n",
      "Testing config 18 on 144\n",
      "Testing config 19 on 144\n",
      "Testing config 20 on 144\n",
      "Testing config 21 on 144\n",
      "Testing config 22 on 144\n",
      "Testing config 23 on 144\n",
      "Testing config 24 on 144\n",
      "Testing config 25 on 144\n",
      "Testing config 26 on 144\n",
      "Testing config 27 on 144\n",
      "Testing config 28 on 144\n",
      "Testing config 29 on 144\n",
      "Testing config 30 on 144\n",
      "Testing config 31 on 144\n",
      "Testing config 32 on 144\n",
      "Testing config 33 on 144\n",
      "Testing config 34 on 144\n",
      "Testing config 35 on 144\n",
      "Testing config 36 on 144\n",
      "Testing config 37 on 144\n",
      "Testing config 38 on 144\n",
      "Testing config 39 on 144\n",
      "Testing config 40 on 144\n",
      "Testing config 41 on 144\n",
      "Testing config 42 on 144\n",
      "Testing config 43 on 144\n",
      "Testing config 44 on 144\n",
      "Testing config 45 on 144\n",
      "Testing config 46 on 144\n",
      "Testing config 47 on 144\n",
      "Testing config 48 on 144\n",
      "Testing config 49 on 144\n",
      "Testing config 50 on 144\n",
      "Testing config 51 on 144\n",
      "Testing config 52 on 144\n",
      "Testing config 53 on 144\n",
      "Testing config 54 on 144\n",
      "Testing config 55 on 144\n",
      "Testing config 56 on 144\n",
      "Testing config 57 on 144\n",
      "Testing config 58 on 144\n",
      "Testing config 59 on 144\n",
      "Testing config 60 on 144\n",
      "Testing config 61 on 144\n",
      "Testing config 62 on 144\n",
      "Testing config 63 on 144\n",
      "Testing config 64 on 144\n",
      "Testing config 65 on 144\n",
      "Testing config 66 on 144\n",
      "Testing config 67 on 144\n",
      "Testing config 68 on 144\n",
      "Testing config 69 on 144\n",
      "Testing config 70 on 144\n",
      "Testing config 71 on 144\n",
      "Testing config 72 on 144\n",
      "Testing config 73 on 144\n",
      "Testing config 74 on 144\n",
      "Testing config 75 on 144\n",
      "Testing config 76 on 144\n",
      "Testing config 77 on 144\n",
      "Testing config 78 on 144\n",
      "Testing config 79 on 144\n",
      "Testing config 80 on 144\n",
      "Testing config 81 on 144\n",
      "Testing config 82 on 144\n",
      "Testing config 83 on 144\n",
      "Testing config 84 on 144\n",
      "Testing config 85 on 144\n",
      "Testing config 86 on 144\n",
      "Testing config 87 on 144\n",
      "Testing config 88 on 144\n",
      "Testing config 89 on 144\n",
      "Testing config 90 on 144\n",
      "Testing config 91 on 144\n",
      "Testing config 92 on 144\n",
      "Testing config 93 on 144\n",
      "Testing config 94 on 144\n",
      "Testing config 95 on 144\n",
      "Testing config 96 on 144\n",
      "Testing config 97 on 144\n",
      "Testing config 98 on 144\n",
      "Testing config 99 on 144\n",
      "Testing config 100 on 144\n",
      "Testing config 101 on 144\n",
      "Testing config 102 on 144\n",
      "Testing config 103 on 144\n",
      "Testing config 104 on 144\n",
      "Testing config 105 on 144\n",
      "Testing config 106 on 144\n",
      "Testing config 107 on 144\n",
      "Testing config 108 on 144\n",
      "Testing config 109 on 144\n",
      "Testing config 110 on 144\n",
      "Testing config 111 on 144\n",
      "Testing config 112 on 144\n",
      "Testing config 113 on 144\n",
      "Testing config 114 on 144\n",
      "Testing config 115 on 144\n",
      "Testing config 116 on 144\n",
      "Testing config 117 on 144\n",
      "Testing config 118 on 144\n",
      "Testing config 119 on 144\n",
      "Testing config 120 on 144\n",
      "Testing config 121 on 144\n",
      "Testing config 122 on 144\n",
      "Testing config 123 on 144\n",
      "Testing config 124 on 144\n",
      "Testing config 125 on 144\n",
      "Testing config 126 on 144\n",
      "Testing config 127 on 144\n",
      "Testing config 128 on 144\n",
      "Testing config 129 on 144\n",
      "Testing config 130 on 144\n",
      "Testing config 131 on 144\n",
      "Testing config 132 on 144\n",
      "Testing config 133 on 144\n",
      "Testing config 134 on 144\n",
      "Testing config 135 on 144\n",
      "Testing config 136 on 144\n",
      "Testing config 137 on 144\n",
      "Testing config 138 on 144\n",
      "Testing config 139 on 144\n",
      "Testing config 140 on 144\n",
      "Testing config 141 on 144\n",
      "Testing config 142 on 144\n",
      "Testing config 143 on 144\n",
      "Testing config 144 on 144\n",
      "\n",
      "--------------------------------------Config Done--------------------------------------------\n",
      "\n"
     ]
    },
    {
     "data": {
      "text/html": [
       "Tracking run with wandb version 0.19.8"
      ],
      "text/plain": [
       "<IPython.core.display.HTML object>"
      ]
     },
     "metadata": {},
     "output_type": "display_data"
    },
    {
     "data": {
      "text/html": [
       "Run data is saved locally in <code>/content/wandb/run-20250315_140350-g9lxsd0n</code>"
      ],
      "text/plain": [
       "<IPython.core.display.HTML object>"
      ]
     },
     "metadata": {},
     "output_type": "display_data"
    },
    {
     "data": {
      "text/html": [
       "Syncing run <strong><a href='https://wandb.ai/TFE-proteomics/RT/runs/g9lxsd0n' target=\"_blank\">ValidProtocol_RT_Scratch_fold_1</a></strong> to <a href='https://wandb.ai/TFE-proteomics/RT' target=\"_blank\">Weights & Biases</a> (<a href='https://wandb.me/developer-guide' target=\"_blank\">docs</a>)<br>"
      ],
      "text/plain": [
       "<IPython.core.display.HTML object>"
      ]
     },
     "metadata": {},
     "output_type": "display_data"
    },
    {
     "data": {
      "text/html": [
       " View project at <a href='https://wandb.ai/TFE-proteomics/RT' target=\"_blank\">https://wandb.ai/TFE-proteomics/RT</a>"
      ],
      "text/plain": [
       "<IPython.core.display.HTML object>"
      ]
     },
     "metadata": {},
     "output_type": "display_data"
    },
    {
     "data": {
      "text/html": [
       " View run at <a href='https://wandb.ai/TFE-proteomics/RT/runs/g9lxsd0n' target=\"_blank\">https://wandb.ai/TFE-proteomics/RT/runs/g9lxsd0n</a>"
      ],
      "text/plain": [
       "<IPython.core.display.HTML object>"
      ]
     },
     "metadata": {},
     "output_type": "display_data"
    },
    {
     "data": {
      "text/html": [],
      "text/plain": [
       "<IPython.core.display.HTML object>"
      ]
     },
     "metadata": {},
     "output_type": "display_data"
    },
    {
     "data": {
      "text/html": [
       "<br>    <style><br>        .wandb-row {<br>            display: flex;<br>            flex-direction: row;<br>            flex-wrap: wrap;<br>            justify-content: flex-start;<br>            width: 100%;<br>        }<br>        .wandb-col {<br>            display: flex;<br>            flex-direction: column;<br>            flex-basis: 100%;<br>            flex: 1;<br>            padding: 10px;<br>        }<br>    </style><br><div class=\"wandb-row\"><div class=\"wandb-col\"><h3>Run history:</h3><br/><table class=\"wandb\"><tr><td>accuracy</td><td>▁</td></tr><tr><td>f1</td><td>▁</td></tr><tr><td>pr_auc</td><td>▁</td></tr><tr><td>precision</td><td>▁</td></tr><tr><td>recall</td><td>▁</td></tr><tr><td>roc_auc</td><td>▁</td></tr></table><br/></div><div class=\"wandb-col\"><h3>Run summary:</h3><br/><table class=\"wandb\"><tr><td>accuracy</td><td>0.70968</td></tr><tr><td>f1</td><td>0</td></tr><tr><td>pr_auc</td><td>0.26482</td></tr><tr><td>precision</td><td>0</td></tr><tr><td>recall</td><td>0</td></tr><tr><td>roc_auc</td><td>0.53571</td></tr></table><br/></div></div>"
      ],
      "text/plain": [
       "<IPython.core.display.HTML object>"
      ]
     },
     "metadata": {},
     "output_type": "display_data"
    },
    {
     "data": {
      "text/html": [
       " View run <strong style=\"color:#cdcd00\">ValidProtocol_RT_Scratch_fold_1</strong> at: <a href='https://wandb.ai/TFE-proteomics/RT/runs/g9lxsd0n' target=\"_blank\">https://wandb.ai/TFE-proteomics/RT/runs/g9lxsd0n</a><br> View project at: <a href='https://wandb.ai/TFE-proteomics/RT' target=\"_blank\">https://wandb.ai/TFE-proteomics/RT</a><br>Synced 5 W&B file(s), 0 media file(s), 0 artifact file(s) and 0 other file(s)"
      ],
      "text/plain": [
       "<IPython.core.display.HTML object>"
      ]
     },
     "metadata": {},
     "output_type": "display_data"
    },
    {
     "data": {
      "text/html": [
       "Find logs at: <code>./wandb/run-20250315_140350-g9lxsd0n/logs</code>"
      ],
      "text/plain": [
       "<IPython.core.display.HTML object>"
      ]
     },
     "metadata": {},
     "output_type": "display_data"
    },
    {
     "name": "stdout",
     "output_type": "stream",
     "text": [
      "Fold 2 on 5\n",
      "Testing config 1 on 144\n",
      "Testing config 2 on 144\n",
      "Testing config 3 on 144\n",
      "Testing config 4 on 144\n",
      "Testing config 5 on 144\n",
      "Testing config 6 on 144\n",
      "Testing config 7 on 144\n",
      "Testing config 8 on 144\n",
      "Testing config 9 on 144\n",
      "Testing config 10 on 144\n",
      "Testing config 11 on 144\n",
      "Testing config 12 on 144\n",
      "Testing config 13 on 144\n",
      "Testing config 14 on 144\n",
      "Testing config 15 on 144\n",
      "Testing config 16 on 144\n",
      "Testing config 17 on 144\n",
      "Testing config 18 on 144\n",
      "Testing config 19 on 144\n",
      "Testing config 20 on 144\n",
      "Testing config 21 on 144\n",
      "Testing config 22 on 144\n",
      "Testing config 23 on 144\n",
      "Testing config 24 on 144\n",
      "Testing config 25 on 144\n",
      "Testing config 26 on 144\n",
      "Testing config 27 on 144\n",
      "Testing config 28 on 144\n",
      "Testing config 29 on 144\n",
      "Testing config 30 on 144\n",
      "Testing config 31 on 144\n",
      "Testing config 32 on 144\n",
      "Testing config 33 on 144\n",
      "Testing config 34 on 144\n",
      "Testing config 35 on 144\n",
      "Testing config 36 on 144\n",
      "Testing config 37 on 144\n",
      "Testing config 38 on 144\n",
      "Testing config 39 on 144\n",
      "Testing config 40 on 144\n",
      "Testing config 41 on 144\n",
      "Testing config 42 on 144\n",
      "Testing config 43 on 144\n",
      "Testing config 44 on 144\n",
      "Testing config 45 on 144\n",
      "Testing config 46 on 144\n",
      "Testing config 47 on 144\n",
      "Testing config 48 on 144\n",
      "Testing config 49 on 144\n",
      "Testing config 50 on 144\n",
      "Testing config 51 on 144\n",
      "Testing config 52 on 144\n",
      "Testing config 53 on 144\n",
      "Testing config 54 on 144\n",
      "Testing config 55 on 144\n",
      "Testing config 56 on 144\n",
      "Testing config 57 on 144\n",
      "Testing config 58 on 144\n",
      "Testing config 59 on 144\n",
      "Testing config 60 on 144\n",
      "Testing config 61 on 144\n",
      "Testing config 62 on 144\n",
      "Testing config 63 on 144\n",
      "Testing config 64 on 144\n",
      "Testing config 65 on 144\n",
      "Testing config 66 on 144\n",
      "Testing config 67 on 144\n",
      "Testing config 68 on 144\n",
      "Testing config 69 on 144\n",
      "Testing config 70 on 144\n",
      "Testing config 71 on 144\n",
      "Testing config 72 on 144\n",
      "Testing config 73 on 144\n",
      "Testing config 74 on 144\n",
      "Testing config 75 on 144\n",
      "Testing config 76 on 144\n",
      "Testing config 77 on 144\n",
      "Testing config 78 on 144\n",
      "Testing config 79 on 144\n",
      "Testing config 80 on 144\n",
      "Testing config 81 on 144\n",
      "Testing config 82 on 144\n",
      "Testing config 83 on 144\n",
      "Testing config 84 on 144\n",
      "Testing config 85 on 144\n",
      "Testing config 86 on 144\n",
      "Testing config 87 on 144\n",
      "Testing config 88 on 144\n",
      "Testing config 89 on 144\n",
      "Testing config 90 on 144\n",
      "Testing config 91 on 144\n",
      "Testing config 92 on 144\n",
      "Testing config 93 on 144\n",
      "Testing config 94 on 144\n",
      "Testing config 95 on 144\n",
      "Testing config 96 on 144\n",
      "Testing config 97 on 144\n",
      "Testing config 98 on 144\n",
      "Testing config 99 on 144\n",
      "Testing config 100 on 144\n",
      "Testing config 101 on 144\n",
      "Testing config 102 on 144\n",
      "Testing config 103 on 144\n",
      "Testing config 104 on 144\n",
      "Testing config 105 on 144\n",
      "Testing config 106 on 144\n",
      "Testing config 107 on 144\n",
      "Testing config 108 on 144\n",
      "Testing config 109 on 144\n",
      "Testing config 110 on 144\n",
      "Testing config 111 on 144\n",
      "Testing config 112 on 144\n",
      "Testing config 113 on 144\n",
      "Testing config 114 on 144\n",
      "Testing config 115 on 144\n",
      "Testing config 116 on 144\n",
      "Testing config 117 on 144\n",
      "Testing config 118 on 144\n",
      "Testing config 119 on 144\n",
      "Testing config 120 on 144\n",
      "Testing config 121 on 144\n",
      "Testing config 122 on 144\n",
      "Testing config 123 on 144\n",
      "Testing config 124 on 144\n",
      "Testing config 125 on 144\n",
      "Testing config 126 on 144\n",
      "Testing config 127 on 144\n",
      "Testing config 128 on 144\n",
      "Testing config 129 on 144\n",
      "Testing config 130 on 144\n",
      "Testing config 131 on 144\n",
      "Testing config 132 on 144\n",
      "Testing config 133 on 144\n",
      "Testing config 134 on 144\n",
      "Testing config 135 on 144\n",
      "Testing config 136 on 144\n",
      "Testing config 137 on 144\n",
      "Testing config 138 on 144\n",
      "Testing config 139 on 144\n",
      "Testing config 140 on 144\n",
      "Testing config 141 on 144\n",
      "Testing config 142 on 144\n",
      "Testing config 143 on 144\n",
      "Testing config 144 on 144\n",
      "\n",
      "--------------------------------------Config Done--------------------------------------------\n",
      "\n"
     ]
    },
    {
     "data": {
      "text/html": [
       "Tracking run with wandb version 0.19.8"
      ],
      "text/plain": [
       "<IPython.core.display.HTML object>"
      ]
     },
     "metadata": {},
     "output_type": "display_data"
    },
    {
     "data": {
      "text/html": [
       "Run data is saved locally in <code>/content/wandb/run-20250315_141238-cmj4nbn4</code>"
      ],
      "text/plain": [
       "<IPython.core.display.HTML object>"
      ]
     },
     "metadata": {},
     "output_type": "display_data"
    },
    {
     "data": {
      "text/html": [
       "Syncing run <strong><a href='https://wandb.ai/TFE-proteomics/RT/runs/cmj4nbn4' target=\"_blank\">ValidProtocol_RT_Scratch_fold_2</a></strong> to <a href='https://wandb.ai/TFE-proteomics/RT' target=\"_blank\">Weights & Biases</a> (<a href='https://wandb.me/developer-guide' target=\"_blank\">docs</a>)<br>"
      ],
      "text/plain": [
       "<IPython.core.display.HTML object>"
      ]
     },
     "metadata": {},
     "output_type": "display_data"
    },
    {
     "data": {
      "text/html": [
       " View project at <a href='https://wandb.ai/TFE-proteomics/RT' target=\"_blank\">https://wandb.ai/TFE-proteomics/RT</a>"
      ],
      "text/plain": [
       "<IPython.core.display.HTML object>"
      ]
     },
     "metadata": {},
     "output_type": "display_data"
    },
    {
     "data": {
      "text/html": [
       " View run at <a href='https://wandb.ai/TFE-proteomics/RT/runs/cmj4nbn4' target=\"_blank\">https://wandb.ai/TFE-proteomics/RT/runs/cmj4nbn4</a>"
      ],
      "text/plain": [
       "<IPython.core.display.HTML object>"
      ]
     },
     "metadata": {},
     "output_type": "display_data"
    },
    {
     "data": {
      "text/html": [],
      "text/plain": [
       "<IPython.core.display.HTML object>"
      ]
     },
     "metadata": {},
     "output_type": "display_data"
    },
    {
     "data": {
      "text/html": [
       "<br>    <style><br>        .wandb-row {<br>            display: flex;<br>            flex-direction: row;<br>            flex-wrap: wrap;<br>            justify-content: flex-start;<br>            width: 100%;<br>        }<br>        .wandb-col {<br>            display: flex;<br>            flex-direction: column;<br>            flex-basis: 100%;<br>            flex: 1;<br>            padding: 10px;<br>        }<br>    </style><br><div class=\"wandb-row\"><div class=\"wandb-col\"><h3>Run history:</h3><br/><table class=\"wandb\"><tr><td>accuracy</td><td>▁</td></tr><tr><td>f1</td><td>▁</td></tr><tr><td>pr_auc</td><td>▁</td></tr><tr><td>precision</td><td>▁</td></tr><tr><td>recall</td><td>▁</td></tr><tr><td>roc_auc</td><td>▁</td></tr></table><br/></div><div class=\"wandb-col\"><h3>Run summary:</h3><br/><table class=\"wandb\"><tr><td>accuracy</td><td>0.77419</td></tr><tr><td>f1</td><td>0.22222</td></tr><tr><td>pr_auc</td><td>0.46334</td></tr><tr><td>precision</td><td>0.5</td></tr><tr><td>recall</td><td>0.14286</td></tr><tr><td>roc_auc</td><td>0.69643</td></tr></table><br/></div></div>"
      ],
      "text/plain": [
       "<IPython.core.display.HTML object>"
      ]
     },
     "metadata": {},
     "output_type": "display_data"
    },
    {
     "data": {
      "text/html": [
       " View run <strong style=\"color:#cdcd00\">ValidProtocol_RT_Scratch_fold_2</strong> at: <a href='https://wandb.ai/TFE-proteomics/RT/runs/cmj4nbn4' target=\"_blank\">https://wandb.ai/TFE-proteomics/RT/runs/cmj4nbn4</a><br> View project at: <a href='https://wandb.ai/TFE-proteomics/RT' target=\"_blank\">https://wandb.ai/TFE-proteomics/RT</a><br>Synced 5 W&B file(s), 0 media file(s), 0 artifact file(s) and 0 other file(s)"
      ],
      "text/plain": [
       "<IPython.core.display.HTML object>"
      ]
     },
     "metadata": {},
     "output_type": "display_data"
    },
    {
     "data": {
      "text/html": [
       "Find logs at: <code>./wandb/run-20250315_141238-cmj4nbn4/logs</code>"
      ],
      "text/plain": [
       "<IPython.core.display.HTML object>"
      ]
     },
     "metadata": {},
     "output_type": "display_data"
    },
    {
     "name": "stdout",
     "output_type": "stream",
     "text": [
      "Fold 3 on 5\n",
      "Testing config 1 on 144\n",
      "Testing config 2 on 144\n",
      "Testing config 3 on 144\n",
      "Testing config 4 on 144\n",
      "Testing config 5 on 144\n",
      "Testing config 6 on 144\n",
      "Testing config 7 on 144\n",
      "Testing config 8 on 144\n",
      "Testing config 9 on 144\n",
      "Testing config 10 on 144\n",
      "Testing config 11 on 144\n",
      "Testing config 12 on 144\n",
      "Testing config 13 on 144\n",
      "Testing config 14 on 144\n",
      "Testing config 15 on 144\n",
      "Testing config 16 on 144\n",
      "Testing config 17 on 144\n",
      "Testing config 18 on 144\n",
      "Testing config 19 on 144\n",
      "Testing config 20 on 144\n",
      "Testing config 21 on 144\n",
      "Testing config 22 on 144\n",
      "Testing config 23 on 144\n",
      "Testing config 24 on 144\n",
      "Testing config 25 on 144\n",
      "Testing config 26 on 144\n",
      "Testing config 27 on 144\n",
      "Testing config 28 on 144\n",
      "Testing config 29 on 144\n",
      "Testing config 30 on 144\n",
      "Testing config 31 on 144\n",
      "Testing config 32 on 144\n",
      "Testing config 33 on 144\n",
      "Testing config 34 on 144\n",
      "Testing config 35 on 144\n",
      "Testing config 36 on 144\n",
      "Testing config 37 on 144\n",
      "Testing config 38 on 144\n",
      "Testing config 39 on 144\n",
      "Testing config 40 on 144\n",
      "Testing config 41 on 144\n",
      "Testing config 42 on 144\n",
      "Testing config 43 on 144\n",
      "Testing config 44 on 144\n",
      "Testing config 45 on 144\n",
      "Testing config 46 on 144\n",
      "Testing config 47 on 144\n",
      "Testing config 48 on 144\n",
      "Testing config 49 on 144\n",
      "Testing config 50 on 144\n",
      "Testing config 51 on 144\n",
      "Testing config 52 on 144\n",
      "Testing config 53 on 144\n",
      "Testing config 54 on 144\n",
      "Testing config 55 on 144\n",
      "Testing config 56 on 144\n",
      "Testing config 57 on 144\n",
      "Testing config 58 on 144\n",
      "Testing config 59 on 144\n",
      "Testing config 60 on 144\n",
      "Testing config 61 on 144\n",
      "Testing config 62 on 144\n",
      "Testing config 63 on 144\n",
      "Testing config 64 on 144\n",
      "Testing config 65 on 144\n",
      "Testing config 66 on 144\n",
      "Testing config 67 on 144\n",
      "Testing config 68 on 144\n",
      "Testing config 69 on 144\n",
      "Testing config 70 on 144\n",
      "Testing config 71 on 144\n",
      "Testing config 72 on 144\n",
      "Testing config 73 on 144\n",
      "Testing config 74 on 144\n",
      "Testing config 75 on 144\n",
      "Testing config 76 on 144\n",
      "Testing config 77 on 144\n",
      "Testing config 78 on 144\n",
      "Testing config 79 on 144\n",
      "Testing config 80 on 144\n",
      "Testing config 81 on 144\n",
      "Testing config 82 on 144\n",
      "Testing config 83 on 144\n",
      "Testing config 84 on 144\n",
      "Testing config 85 on 144\n",
      "Testing config 86 on 144\n",
      "Testing config 87 on 144\n",
      "Testing config 88 on 144\n",
      "Testing config 89 on 144\n",
      "Testing config 90 on 144\n",
      "Testing config 91 on 144\n",
      "Testing config 92 on 144\n",
      "Testing config 93 on 144\n",
      "Testing config 94 on 144\n",
      "Testing config 95 on 144\n",
      "Testing config 96 on 144\n",
      "Testing config 97 on 144\n",
      "Testing config 98 on 144\n",
      "Testing config 99 on 144\n",
      "Testing config 100 on 144\n",
      "Testing config 101 on 144\n",
      "Testing config 102 on 144\n",
      "Testing config 103 on 144\n",
      "Testing config 104 on 144\n",
      "Testing config 105 on 144\n",
      "Testing config 106 on 144\n",
      "Testing config 107 on 144\n",
      "Testing config 108 on 144\n",
      "Testing config 109 on 144\n",
      "Testing config 110 on 144\n",
      "Testing config 111 on 144\n",
      "Testing config 112 on 144\n",
      "Testing config 113 on 144\n",
      "Testing config 114 on 144\n",
      "Testing config 115 on 144\n",
      "Testing config 116 on 144\n",
      "Testing config 117 on 144\n",
      "Testing config 118 on 144\n",
      "Testing config 119 on 144\n",
      "Testing config 120 on 144\n",
      "Testing config 121 on 144\n",
      "Testing config 122 on 144\n",
      "Testing config 123 on 144\n",
      "Testing config 124 on 144\n",
      "Testing config 125 on 144\n",
      "Testing config 126 on 144\n",
      "Testing config 127 on 144\n",
      "Testing config 128 on 144\n",
      "Testing config 129 on 144\n",
      "Testing config 130 on 144\n",
      "Testing config 131 on 144\n",
      "Testing config 132 on 144\n",
      "Testing config 133 on 144\n",
      "Testing config 134 on 144\n",
      "Testing config 135 on 144\n",
      "Testing config 136 on 144\n",
      "Testing config 137 on 144\n",
      "Testing config 138 on 144\n",
      "Testing config 139 on 144\n",
      "Testing config 140 on 144\n",
      "Testing config 141 on 144\n",
      "Testing config 142 on 144\n",
      "Testing config 143 on 144\n",
      "Testing config 144 on 144\n",
      "\n",
      "--------------------------------------Config Done--------------------------------------------\n",
      "\n"
     ]
    },
    {
     "data": {
      "text/html": [
       "Tracking run with wandb version 0.19.8"
      ],
      "text/plain": [
       "<IPython.core.display.HTML object>"
      ]
     },
     "metadata": {},
     "output_type": "display_data"
    },
    {
     "data": {
      "text/html": [
       "Run data is saved locally in <code>/content/wandb/run-20250315_142127-kv80kyhu</code>"
      ],
      "text/plain": [
       "<IPython.core.display.HTML object>"
      ]
     },
     "metadata": {},
     "output_type": "display_data"
    },
    {
     "data": {
      "text/html": [
       "Syncing run <strong><a href='https://wandb.ai/TFE-proteomics/RT/runs/kv80kyhu' target=\"_blank\">ValidProtocol_RT_Scratch_fold_3</a></strong> to <a href='https://wandb.ai/TFE-proteomics/RT' target=\"_blank\">Weights & Biases</a> (<a href='https://wandb.me/developer-guide' target=\"_blank\">docs</a>)<br>"
      ],
      "text/plain": [
       "<IPython.core.display.HTML object>"
      ]
     },
     "metadata": {},
     "output_type": "display_data"
    },
    {
     "data": {
      "text/html": [
       " View project at <a href='https://wandb.ai/TFE-proteomics/RT' target=\"_blank\">https://wandb.ai/TFE-proteomics/RT</a>"
      ],
      "text/plain": [
       "<IPython.core.display.HTML object>"
      ]
     },
     "metadata": {},
     "output_type": "display_data"
    },
    {
     "data": {
      "text/html": [
       " View run at <a href='https://wandb.ai/TFE-proteomics/RT/runs/kv80kyhu' target=\"_blank\">https://wandb.ai/TFE-proteomics/RT/runs/kv80kyhu</a>"
      ],
      "text/plain": [
       "<IPython.core.display.HTML object>"
      ]
     },
     "metadata": {},
     "output_type": "display_data"
    },
    {
     "data": {
      "text/html": [],
      "text/plain": [
       "<IPython.core.display.HTML object>"
      ]
     },
     "metadata": {},
     "output_type": "display_data"
    },
    {
     "data": {
      "text/html": [
       "<br>    <style><br>        .wandb-row {<br>            display: flex;<br>            flex-direction: row;<br>            flex-wrap: wrap;<br>            justify-content: flex-start;<br>            width: 100%;<br>        }<br>        .wandb-col {<br>            display: flex;<br>            flex-direction: column;<br>            flex-basis: 100%;<br>            flex: 1;<br>            padding: 10px;<br>        }<br>    </style><br><div class=\"wandb-row\"><div class=\"wandb-col\"><h3>Run history:</h3><br/><table class=\"wandb\"><tr><td>accuracy</td><td>▁</td></tr><tr><td>f1</td><td>▁</td></tr><tr><td>pr_auc</td><td>▁</td></tr><tr><td>precision</td><td>▁</td></tr><tr><td>recall</td><td>▁</td></tr><tr><td>roc_auc</td><td>▁</td></tr></table><br/></div><div class=\"wandb-col\"><h3>Run summary:</h3><br/><table class=\"wandb\"><tr><td>accuracy</td><td>0.58065</td></tr><tr><td>f1</td><td>0.13333</td></tr><tr><td>pr_auc</td><td>0.25394</td></tr><tr><td>precision</td><td>0.14286</td></tr><tr><td>recall</td><td>0.125</td></tr><tr><td>roc_auc</td><td>0.45652</td></tr></table><br/></div></div>"
      ],
      "text/plain": [
       "<IPython.core.display.HTML object>"
      ]
     },
     "metadata": {},
     "output_type": "display_data"
    },
    {
     "data": {
      "text/html": [
       " View run <strong style=\"color:#cdcd00\">ValidProtocol_RT_Scratch_fold_3</strong> at: <a href='https://wandb.ai/TFE-proteomics/RT/runs/kv80kyhu' target=\"_blank\">https://wandb.ai/TFE-proteomics/RT/runs/kv80kyhu</a><br> View project at: <a href='https://wandb.ai/TFE-proteomics/RT' target=\"_blank\">https://wandb.ai/TFE-proteomics/RT</a><br>Synced 5 W&B file(s), 0 media file(s), 0 artifact file(s) and 0 other file(s)"
      ],
      "text/plain": [
       "<IPython.core.display.HTML object>"
      ]
     },
     "metadata": {},
     "output_type": "display_data"
    },
    {
     "data": {
      "text/html": [
       "Find logs at: <code>./wandb/run-20250315_142127-kv80kyhu/logs</code>"
      ],
      "text/plain": [
       "<IPython.core.display.HTML object>"
      ]
     },
     "metadata": {},
     "output_type": "display_data"
    },
    {
     "name": "stdout",
     "output_type": "stream",
     "text": [
      "Fold 4 on 5\n",
      "Testing config 1 on 144\n",
      "Testing config 2 on 144\n",
      "Testing config 3 on 144\n",
      "Testing config 4 on 144\n",
      "Testing config 5 on 144\n",
      "Testing config 6 on 144\n",
      "Testing config 7 on 144\n",
      "Testing config 8 on 144\n",
      "Testing config 9 on 144\n",
      "Testing config 10 on 144\n",
      "Testing config 11 on 144\n",
      "Testing config 12 on 144\n",
      "Testing config 13 on 144\n",
      "Testing config 14 on 144\n",
      "Testing config 15 on 144\n",
      "Testing config 16 on 144\n",
      "Testing config 17 on 144\n",
      "Testing config 18 on 144\n",
      "Testing config 19 on 144\n",
      "Testing config 20 on 144\n",
      "Testing config 21 on 144\n",
      "Testing config 22 on 144\n",
      "Testing config 23 on 144\n",
      "Testing config 24 on 144\n",
      "Testing config 25 on 144\n",
      "Testing config 26 on 144\n",
      "Testing config 27 on 144\n",
      "Testing config 28 on 144\n",
      "Testing config 29 on 144\n",
      "Testing config 30 on 144\n",
      "Testing config 31 on 144\n",
      "Testing config 32 on 144\n",
      "Testing config 33 on 144\n",
      "Testing config 34 on 144\n",
      "Testing config 35 on 144\n",
      "Testing config 36 on 144\n",
      "Testing config 37 on 144\n",
      "Testing config 38 on 144\n",
      "Testing config 39 on 144\n",
      "Testing config 40 on 144\n",
      "Testing config 41 on 144\n",
      "Testing config 42 on 144\n",
      "Testing config 43 on 144\n",
      "Testing config 44 on 144\n",
      "Testing config 45 on 144\n",
      "Testing config 46 on 144\n",
      "Testing config 47 on 144\n",
      "Testing config 48 on 144\n",
      "Testing config 49 on 144\n",
      "Testing config 50 on 144\n",
      "Testing config 51 on 144\n",
      "Testing config 52 on 144\n",
      "Testing config 53 on 144\n",
      "Testing config 54 on 144\n",
      "Testing config 55 on 144\n",
      "Testing config 56 on 144\n",
      "Testing config 57 on 144\n",
      "Testing config 58 on 144\n",
      "Testing config 59 on 144\n",
      "Testing config 60 on 144\n",
      "Testing config 61 on 144\n",
      "Testing config 62 on 144\n",
      "Testing config 63 on 144\n",
      "Testing config 64 on 144\n",
      "Testing config 65 on 144\n",
      "Testing config 66 on 144\n",
      "Testing config 67 on 144\n",
      "Testing config 68 on 144\n",
      "Testing config 69 on 144\n",
      "Testing config 70 on 144\n",
      "Testing config 71 on 144\n",
      "Testing config 72 on 144\n",
      "Testing config 73 on 144\n",
      "Testing config 74 on 144\n",
      "Testing config 75 on 144\n",
      "Testing config 76 on 144\n",
      "Testing config 77 on 144\n",
      "Testing config 78 on 144\n",
      "Testing config 79 on 144\n",
      "Testing config 80 on 144\n",
      "Testing config 81 on 144\n",
      "Testing config 82 on 144\n",
      "Testing config 83 on 144\n",
      "Testing config 84 on 144\n",
      "Testing config 85 on 144\n",
      "Testing config 86 on 144\n",
      "Testing config 87 on 144\n",
      "Testing config 88 on 144\n",
      "Testing config 89 on 144\n",
      "Testing config 90 on 144\n",
      "Testing config 91 on 144\n",
      "Testing config 92 on 144\n",
      "Testing config 93 on 144\n",
      "Testing config 94 on 144\n",
      "Testing config 95 on 144\n",
      "Testing config 96 on 144\n",
      "Testing config 97 on 144\n",
      "Testing config 98 on 144\n",
      "Testing config 99 on 144\n",
      "Testing config 100 on 144\n",
      "Testing config 101 on 144\n",
      "Testing config 102 on 144\n",
      "Testing config 103 on 144\n",
      "Testing config 104 on 144\n",
      "Testing config 105 on 144\n",
      "Testing config 106 on 144\n",
      "Testing config 107 on 144\n",
      "Testing config 108 on 144\n",
      "Testing config 109 on 144\n",
      "Testing config 110 on 144\n",
      "Testing config 111 on 144\n",
      "Testing config 112 on 144\n",
      "Testing config 113 on 144\n",
      "Testing config 114 on 144\n",
      "Testing config 115 on 144\n",
      "Testing config 116 on 144\n",
      "Testing config 117 on 144\n",
      "Testing config 118 on 144\n",
      "Testing config 119 on 144\n",
      "Testing config 120 on 144\n",
      "Testing config 121 on 144\n",
      "Testing config 122 on 144\n",
      "Testing config 123 on 144\n",
      "Testing config 124 on 144\n",
      "Testing config 125 on 144\n",
      "Testing config 126 on 144\n",
      "Testing config 127 on 144\n",
      "Testing config 128 on 144\n",
      "Testing config 129 on 144\n",
      "Testing config 130 on 144\n",
      "Testing config 131 on 144\n",
      "Testing config 132 on 144\n",
      "Testing config 133 on 144\n",
      "Testing config 134 on 144\n",
      "Testing config 135 on 144\n",
      "Testing config 136 on 144\n",
      "Testing config 137 on 144\n",
      "Testing config 138 on 144\n",
      "Testing config 139 on 144\n",
      "Testing config 140 on 144\n",
      "Testing config 141 on 144\n",
      "Testing config 142 on 144\n",
      "Testing config 143 on 144\n",
      "Testing config 144 on 144\n",
      "\n",
      "--------------------------------------Config Done--------------------------------------------\n",
      "\n"
     ]
    },
    {
     "data": {
      "text/html": [
       "Tracking run with wandb version 0.19.8"
      ],
      "text/plain": [
       "<IPython.core.display.HTML object>"
      ]
     },
     "metadata": {},
     "output_type": "display_data"
    },
    {
     "data": {
      "text/html": [
       "Run data is saved locally in <code>/content/wandb/run-20250315_143019-knq774ux</code>"
      ],
      "text/plain": [
       "<IPython.core.display.HTML object>"
      ]
     },
     "metadata": {},
     "output_type": "display_data"
    },
    {
     "data": {
      "text/html": [
       "Syncing run <strong><a href='https://wandb.ai/TFE-proteomics/RT/runs/knq774ux' target=\"_blank\">ValidProtocol_RT_Scratch_fold_4</a></strong> to <a href='https://wandb.ai/TFE-proteomics/RT' target=\"_blank\">Weights & Biases</a> (<a href='https://wandb.me/developer-guide' target=\"_blank\">docs</a>)<br>"
      ],
      "text/plain": [
       "<IPython.core.display.HTML object>"
      ]
     },
     "metadata": {},
     "output_type": "display_data"
    },
    {
     "data": {
      "text/html": [
       " View project at <a href='https://wandb.ai/TFE-proteomics/RT' target=\"_blank\">https://wandb.ai/TFE-proteomics/RT</a>"
      ],
      "text/plain": [
       "<IPython.core.display.HTML object>"
      ]
     },
     "metadata": {},
     "output_type": "display_data"
    },
    {
     "data": {
      "text/html": [
       " View run at <a href='https://wandb.ai/TFE-proteomics/RT/runs/knq774ux' target=\"_blank\">https://wandb.ai/TFE-proteomics/RT/runs/knq774ux</a>"
      ],
      "text/plain": [
       "<IPython.core.display.HTML object>"
      ]
     },
     "metadata": {},
     "output_type": "display_data"
    },
    {
     "data": {
      "text/html": [],
      "text/plain": [
       "<IPython.core.display.HTML object>"
      ]
     },
     "metadata": {},
     "output_type": "display_data"
    },
    {
     "data": {
      "text/html": [
       "<br>    <style><br>        .wandb-row {<br>            display: flex;<br>            flex-direction: row;<br>            flex-wrap: wrap;<br>            justify-content: flex-start;<br>            width: 100%;<br>        }<br>        .wandb-col {<br>            display: flex;<br>            flex-direction: column;<br>            flex-basis: 100%;<br>            flex: 1;<br>            padding: 10px;<br>        }<br>    </style><br><div class=\"wandb-row\"><div class=\"wandb-col\"><h3>Run history:</h3><br/><table class=\"wandb\"><tr><td>accuracy</td><td>▁</td></tr><tr><td>f1</td><td>▁</td></tr><tr><td>pr_auc</td><td>▁</td></tr><tr><td>precision</td><td>▁</td></tr><tr><td>recall</td><td>▁</td></tr><tr><td>roc_auc</td><td>▁</td></tr></table><br/></div><div class=\"wandb-col\"><h3>Run summary:</h3><br/><table class=\"wandb\"><tr><td>accuracy</td><td>0.70968</td></tr><tr><td>f1</td><td>0.18182</td></tr><tr><td>pr_auc</td><td>0.56195</td></tr><tr><td>precision</td><td>0.33333</td></tr><tr><td>recall</td><td>0.125</td></tr><tr><td>roc_auc</td><td>0.76087</td></tr></table><br/></div></div>"
      ],
      "text/plain": [
       "<IPython.core.display.HTML object>"
      ]
     },
     "metadata": {},
     "output_type": "display_data"
    },
    {
     "data": {
      "text/html": [
       " View run <strong style=\"color:#cdcd00\">ValidProtocol_RT_Scratch_fold_4</strong> at: <a href='https://wandb.ai/TFE-proteomics/RT/runs/knq774ux' target=\"_blank\">https://wandb.ai/TFE-proteomics/RT/runs/knq774ux</a><br> View project at: <a href='https://wandb.ai/TFE-proteomics/RT' target=\"_blank\">https://wandb.ai/TFE-proteomics/RT</a><br>Synced 5 W&B file(s), 0 media file(s), 0 artifact file(s) and 0 other file(s)"
      ],
      "text/plain": [
       "<IPython.core.display.HTML object>"
      ]
     },
     "metadata": {},
     "output_type": "display_data"
    },
    {
     "data": {
      "text/html": [
       "Find logs at: <code>./wandb/run-20250315_143019-knq774ux/logs</code>"
      ],
      "text/plain": [
       "<IPython.core.display.HTML object>"
      ]
     },
     "metadata": {},
     "output_type": "display_data"
    },
    {
     "name": "stdout",
     "output_type": "stream",
     "text": [
      "Fold 5 on 5\n",
      "Testing config 1 on 144\n",
      "Testing config 2 on 144\n",
      "Testing config 3 on 144\n",
      "Testing config 4 on 144\n",
      "Testing config 5 on 144\n",
      "Testing config 6 on 144\n",
      "Testing config 7 on 144\n",
      "Testing config 8 on 144\n",
      "Testing config 9 on 144\n",
      "Testing config 10 on 144\n",
      "Testing config 11 on 144\n",
      "Testing config 12 on 144\n",
      "Testing config 13 on 144\n",
      "Testing config 14 on 144\n",
      "Testing config 15 on 144\n",
      "Testing config 16 on 144\n",
      "Testing config 17 on 144\n",
      "Testing config 18 on 144\n",
      "Testing config 19 on 144\n",
      "Testing config 20 on 144\n",
      "Testing config 21 on 144\n",
      "Testing config 22 on 144\n",
      "Testing config 23 on 144\n",
      "Testing config 24 on 144\n",
      "Testing config 25 on 144\n",
      "Testing config 26 on 144\n",
      "Testing config 27 on 144\n",
      "Testing config 28 on 144\n",
      "Testing config 29 on 144\n",
      "Testing config 30 on 144\n",
      "Testing config 31 on 144\n",
      "Testing config 32 on 144\n",
      "Testing config 33 on 144\n",
      "Testing config 34 on 144\n",
      "Testing config 35 on 144\n",
      "Testing config 36 on 144\n",
      "Testing config 37 on 144\n",
      "Testing config 38 on 144\n",
      "Testing config 39 on 144\n",
      "Testing config 40 on 144\n",
      "Testing config 41 on 144\n",
      "Testing config 42 on 144\n",
      "Testing config 43 on 144\n",
      "Testing config 44 on 144\n",
      "Testing config 45 on 144\n",
      "Testing config 46 on 144\n",
      "Testing config 47 on 144\n",
      "Testing config 48 on 144\n",
      "Testing config 49 on 144\n",
      "Testing config 50 on 144\n",
      "Testing config 51 on 144\n",
      "Testing config 52 on 144\n",
      "Testing config 53 on 144\n",
      "Testing config 54 on 144\n",
      "Testing config 55 on 144\n",
      "Testing config 56 on 144\n",
      "Testing config 57 on 144\n",
      "Testing config 58 on 144\n",
      "Testing config 59 on 144\n",
      "Testing config 60 on 144\n",
      "Testing config 61 on 144\n",
      "Testing config 62 on 144\n",
      "Testing config 63 on 144\n",
      "Testing config 64 on 144\n",
      "Testing config 65 on 144\n",
      "Testing config 66 on 144\n",
      "Testing config 67 on 144\n",
      "Testing config 68 on 144\n",
      "Testing config 69 on 144\n",
      "Testing config 70 on 144\n",
      "Testing config 71 on 144\n",
      "Testing config 72 on 144\n",
      "Testing config 73 on 144\n",
      "Testing config 74 on 144\n",
      "Testing config 75 on 144\n",
      "Testing config 76 on 144\n",
      "Testing config 77 on 144\n",
      "Testing config 78 on 144\n",
      "Testing config 79 on 144\n",
      "Testing config 80 on 144\n",
      "Testing config 81 on 144\n",
      "Testing config 82 on 144\n",
      "Testing config 83 on 144\n",
      "Testing config 84 on 144\n",
      "Testing config 85 on 144\n",
      "Testing config 86 on 144\n",
      "Testing config 87 on 144\n",
      "Testing config 88 on 144\n",
      "Testing config 89 on 144\n",
      "Testing config 90 on 144\n",
      "Testing config 91 on 144\n",
      "Testing config 92 on 144\n",
      "Testing config 93 on 144\n",
      "Testing config 94 on 144\n",
      "Testing config 95 on 144\n",
      "Testing config 96 on 144\n",
      "Testing config 97 on 144\n",
      "Testing config 98 on 144\n",
      "Testing config 99 on 144\n",
      "Testing config 100 on 144\n",
      "Testing config 101 on 144\n",
      "Testing config 102 on 144\n",
      "Testing config 103 on 144\n",
      "Testing config 104 on 144\n",
      "Testing config 105 on 144\n",
      "Testing config 106 on 144\n",
      "Testing config 107 on 144\n",
      "Testing config 108 on 144\n",
      "Testing config 109 on 144\n",
      "Testing config 110 on 144\n",
      "Testing config 111 on 144\n",
      "Testing config 112 on 144\n",
      "Testing config 113 on 144\n",
      "Testing config 114 on 144\n",
      "Testing config 115 on 144\n",
      "Testing config 116 on 144\n",
      "Testing config 117 on 144\n",
      "Testing config 118 on 144\n",
      "Testing config 119 on 144\n",
      "Testing config 120 on 144\n",
      "Testing config 121 on 144\n",
      "Testing config 122 on 144\n",
      "Testing config 123 on 144\n",
      "Testing config 124 on 144\n",
      "Testing config 125 on 144\n",
      "Testing config 126 on 144\n",
      "Testing config 127 on 144\n",
      "Testing config 128 on 144\n",
      "Testing config 129 on 144\n",
      "Testing config 130 on 144\n",
      "Testing config 131 on 144\n",
      "Testing config 132 on 144\n",
      "Testing config 133 on 144\n",
      "Testing config 134 on 144\n",
      "Testing config 135 on 144\n",
      "Testing config 136 on 144\n",
      "Testing config 137 on 144\n",
      "Testing config 138 on 144\n",
      "Testing config 139 on 144\n",
      "Testing config 140 on 144\n",
      "Testing config 141 on 144\n",
      "Testing config 142 on 144\n",
      "Testing config 143 on 144\n",
      "Testing config 144 on 144\n",
      "\n",
      "--------------------------------------Config Done--------------------------------------------\n",
      "\n"
     ]
    },
    {
     "name": "stderr",
     "output_type": "stream",
     "text": [
      "/usr/local/lib/python3.11/dist-packages/sklearn/metrics/_classification.py:1565: UndefinedMetricWarning: Precision is ill-defined and being set to 0.0 due to no predicted samples. Use `zero_division` parameter to control this behavior.\n",
      "  _warn_prf(average, modifier, f\"{metric.capitalize()} is\", len(result))\n"
     ]
    },
    {
     "data": {
      "text/html": [
       "Tracking run with wandb version 0.19.8"
      ],
      "text/plain": [
       "<IPython.core.display.HTML object>"
      ]
     },
     "metadata": {},
     "output_type": "display_data"
    },
    {
     "data": {
      "text/html": [
       "Run data is saved locally in <code>/content/wandb/run-20250315_143905-6csknh2x</code>"
      ],
      "text/plain": [
       "<IPython.core.display.HTML object>"
      ]
     },
     "metadata": {},
     "output_type": "display_data"
    },
    {
     "data": {
      "text/html": [
       "Syncing run <strong><a href='https://wandb.ai/TFE-proteomics/RT/runs/6csknh2x' target=\"_blank\">ValidProtocol_RT_Scratch_fold_5</a></strong> to <a href='https://wandb.ai/TFE-proteomics/RT' target=\"_blank\">Weights & Biases</a> (<a href='https://wandb.me/developer-guide' target=\"_blank\">docs</a>)<br>"
      ],
      "text/plain": [
       "<IPython.core.display.HTML object>"
      ]
     },
     "metadata": {},
     "output_type": "display_data"
    },
    {
     "data": {
      "text/html": [
       " View project at <a href='https://wandb.ai/TFE-proteomics/RT' target=\"_blank\">https://wandb.ai/TFE-proteomics/RT</a>"
      ],
      "text/plain": [
       "<IPython.core.display.HTML object>"
      ]
     },
     "metadata": {},
     "output_type": "display_data"
    },
    {
     "data": {
      "text/html": [
       " View run at <a href='https://wandb.ai/TFE-proteomics/RT/runs/6csknh2x' target=\"_blank\">https://wandb.ai/TFE-proteomics/RT/runs/6csknh2x</a>"
      ],
      "text/plain": [
       "<IPython.core.display.HTML object>"
      ]
     },
     "metadata": {},
     "output_type": "display_data"
    },
    {
     "data": {
      "text/html": [],
      "text/plain": [
       "<IPython.core.display.HTML object>"
      ]
     },
     "metadata": {},
     "output_type": "display_data"
    },
    {
     "data": {
      "text/html": [
       "<br>    <style><br>        .wandb-row {<br>            display: flex;<br>            flex-direction: row;<br>            flex-wrap: wrap;<br>            justify-content: flex-start;<br>            width: 100%;<br>        }<br>        .wandb-col {<br>            display: flex;<br>            flex-direction: column;<br>            flex-basis: 100%;<br>            flex: 1;<br>            padding: 10px;<br>        }<br>    </style><br><div class=\"wandb-row\"><div class=\"wandb-col\"><h3>Run history:</h3><br/><table class=\"wandb\"><tr><td>accuracy</td><td>▁</td></tr><tr><td>f1</td><td>▁</td></tr><tr><td>pr_auc</td><td>▁</td></tr><tr><td>precision</td><td>▁</td></tr><tr><td>recall</td><td>▁</td></tr><tr><td>roc_auc</td><td>▁</td></tr></table><br/></div><div class=\"wandb-col\"><h3>Run summary:</h3><br/><table class=\"wandb\"><tr><td>accuracy</td><td>0.74194</td></tr><tr><td>f1</td><td>0</td></tr><tr><td>pr_auc</td><td>0.3114</td></tr><tr><td>precision</td><td>0</td></tr><tr><td>recall</td><td>0</td></tr><tr><td>roc_auc</td><td>0.33152</td></tr></table><br/></div></div>"
      ],
      "text/plain": [
       "<IPython.core.display.HTML object>"
      ]
     },
     "metadata": {},
     "output_type": "display_data"
    },
    {
     "data": {
      "text/html": [
       " View run <strong style=\"color:#cdcd00\">ValidProtocol_RT_Scratch_fold_5</strong> at: <a href='https://wandb.ai/TFE-proteomics/RT/runs/6csknh2x' target=\"_blank\">https://wandb.ai/TFE-proteomics/RT/runs/6csknh2x</a><br> View project at: <a href='https://wandb.ai/TFE-proteomics/RT' target=\"_blank\">https://wandb.ai/TFE-proteomics/RT</a><br>Synced 5 W&B file(s), 0 media file(s), 0 artifact file(s) and 0 other file(s)"
      ],
      "text/plain": [
       "<IPython.core.display.HTML object>"
      ]
     },
     "metadata": {},
     "output_type": "display_data"
    },
    {
     "data": {
      "text/html": [
       "Find logs at: <code>./wandb/run-20250315_143905-6csknh2x/logs</code>"
      ],
      "text/plain": [
       "<IPython.core.display.HTML object>"
      ]
     },
     "metadata": {},
     "output_type": "display_data"
    },
    {
     "data": {
      "text/html": [
       "Tracking run with wandb version 0.19.8"
      ],
      "text/plain": [
       "<IPython.core.display.HTML object>"
      ]
     },
     "metadata": {},
     "output_type": "display_data"
    },
    {
     "data": {
      "text/html": [
       "Run data is saved locally in <code>/content/wandb/run-20250315_143908-e7aqkqok</code>"
      ],
      "text/plain": [
       "<IPython.core.display.HTML object>"
      ]
     },
     "metadata": {},
     "output_type": "display_data"
    },
    {
     "data": {
      "text/html": [
       "Syncing run <strong><a href='https://wandb.ai/TFE-proteomics/RT/runs/e7aqkqok' target=\"_blank\">ValidProtocol_RT_Scratch_CrossValidation_Summary</a></strong> to <a href='https://wandb.ai/TFE-proteomics/RT' target=\"_blank\">Weights & Biases</a> (<a href='https://wandb.me/developer-guide' target=\"_blank\">docs</a>)<br>"
      ],
      "text/plain": [
       "<IPython.core.display.HTML object>"
      ]
     },
     "metadata": {},
     "output_type": "display_data"
    },
    {
     "data": {
      "text/html": [
       " View project at <a href='https://wandb.ai/TFE-proteomics/RT' target=\"_blank\">https://wandb.ai/TFE-proteomics/RT</a>"
      ],
      "text/plain": [
       "<IPython.core.display.HTML object>"
      ]
     },
     "metadata": {},
     "output_type": "display_data"
    },
    {
     "data": {
      "text/html": [
       " View run at <a href='https://wandb.ai/TFE-proteomics/RT/runs/e7aqkqok' target=\"_blank\">https://wandb.ai/TFE-proteomics/RT/runs/e7aqkqok</a>"
      ],
      "text/plain": [
       "<IPython.core.display.HTML object>"
      ]
     },
     "metadata": {},
     "output_type": "display_data"
    },
    {
     "data": {
      "text/html": [],
      "text/plain": [
       "<IPython.core.display.HTML object>"
      ]
     },
     "metadata": {},
     "output_type": "display_data"
    },
    {
     "data": {
      "text/html": [
       "<br>    <style><br>        .wandb-row {<br>            display: flex;<br>            flex-direction: row;<br>            flex-wrap: wrap;<br>            justify-content: flex-start;<br>            width: 100%;<br>        }<br>        .wandb-col {<br>            display: flex;<br>            flex-direction: column;<br>            flex-basis: 100%;<br>            flex: 1;<br>            padding: 10px;<br>        }<br>    </style><br><div class=\"wandb-row\"><div class=\"wandb-col\"><h3>Run history:</h3><br/><table class=\"wandb\"><tr><td>accuracy_mean</td><td>▁</td></tr><tr><td>accuracy_std</td><td>▁</td></tr><tr><td>f1_mean</td><td>▁</td></tr><tr><td>f1_std</td><td>▁</td></tr><tr><td>pr_auc_mean</td><td>▁</td></tr><tr><td>pr_auc_std</td><td>▁</td></tr><tr><td>precision_mean</td><td>▁</td></tr><tr><td>precision_std</td><td>▁</td></tr><tr><td>recall_mean</td><td>▁</td></tr><tr><td>recall_std</td><td>▁</td></tr><tr><td>roc_auc_mean</td><td>▁</td></tr><tr><td>roc_auc_std</td><td>▁</td></tr></table><br/></div><div class=\"wandb-col\"><h3>Run summary:</h3><br/><table class=\"wandb\"><tr><td>accuracy_mean</td><td>0.70323</td></tr><tr><td>accuracy_std</td><td>0.06579</td></tr><tr><td>f1_mean</td><td>0.10747</td></tr><tr><td>f1_std</td><td>0.09216</td></tr><tr><td>pr_auc_mean</td><td>0.37109</td></tr><tr><td>pr_auc_std</td><td>0.12126</td></tr><tr><td>precision_mean</td><td>0.19524</td></tr><tr><td>precision_std</td><td>0.19541</td></tr><tr><td>recall_mean</td><td>0.07857</td></tr><tr><td>recall_std</td><td>0.06448</td></tr><tr><td>roc_auc_mean</td><td>0.55621</td></tr><tr><td>roc_auc_std</td><td>0.15645</td></tr></table><br/></div></div>"
      ],
      "text/plain": [
       "<IPython.core.display.HTML object>"
      ]
     },
     "metadata": {},
     "output_type": "display_data"
    },
    {
     "data": {
      "text/html": [
       " View run <strong style=\"color:#cdcd00\">ValidProtocol_RT_Scratch_CrossValidation_Summary</strong> at: <a href='https://wandb.ai/TFE-proteomics/RT/runs/e7aqkqok' target=\"_blank\">https://wandb.ai/TFE-proteomics/RT/runs/e7aqkqok</a><br> View project at: <a href='https://wandb.ai/TFE-proteomics/RT' target=\"_blank\">https://wandb.ai/TFE-proteomics/RT</a><br>Synced 5 W&B file(s), 0 media file(s), 0 artifact file(s) and 0 other file(s)"
      ],
      "text/plain": [
       "<IPython.core.display.HTML object>"
      ]
     },
     "metadata": {},
     "output_type": "display_data"
    },
    {
     "data": {
      "text/html": [
       "Find logs at: <code>./wandb/run-20250315_143908-e7aqkqok/logs</code>"
      ],
      "text/plain": [
       "<IPython.core.display.HTML object>"
      ]
     },
     "metadata": {},
     "output_type": "display_data"
    },
    {
     "name": "stdout",
     "output_type": "stream",
     "text": [
      "Fold 1 on 5\n",
      "Testing config 1 on 144\n",
      "Testing config 2 on 144\n",
      "Testing config 3 on 144\n",
      "Testing config 4 on 144\n",
      "Testing config 5 on 144\n",
      "Testing config 6 on 144\n",
      "Testing config 7 on 144\n",
      "Testing config 8 on 144\n",
      "Testing config 9 on 144\n",
      "Testing config 10 on 144\n",
      "Testing config 11 on 144\n",
      "Testing config 12 on 144\n",
      "Testing config 13 on 144\n",
      "Testing config 14 on 144\n",
      "Testing config 15 on 144\n",
      "Testing config 16 on 144\n",
      "Testing config 17 on 144\n",
      "Testing config 18 on 144\n",
      "Testing config 19 on 144\n",
      "Testing config 20 on 144\n",
      "Testing config 21 on 144\n",
      "Testing config 22 on 144\n",
      "Testing config 23 on 144\n",
      "Testing config 24 on 144\n",
      "Testing config 25 on 144\n",
      "Testing config 26 on 144\n",
      "Testing config 27 on 144\n",
      "Testing config 28 on 144\n",
      "Testing config 29 on 144\n",
      "Testing config 30 on 144\n",
      "Testing config 31 on 144\n",
      "Testing config 32 on 144\n",
      "Testing config 33 on 144\n",
      "Testing config 34 on 144\n",
      "Testing config 35 on 144\n",
      "Testing config 36 on 144\n",
      "Testing config 37 on 144\n",
      "Testing config 38 on 144\n",
      "Testing config 39 on 144\n",
      "Testing config 40 on 144\n",
      "Testing config 41 on 144\n",
      "Testing config 42 on 144\n",
      "Testing config 43 on 144\n",
      "Testing config 44 on 144\n",
      "Testing config 45 on 144\n",
      "Testing config 46 on 144\n",
      "Testing config 47 on 144\n",
      "Testing config 48 on 144\n",
      "Testing config 49 on 144\n",
      "Testing config 50 on 144\n",
      "Testing config 51 on 144\n",
      "Testing config 52 on 144\n",
      "Testing config 53 on 144\n",
      "Testing config 54 on 144\n",
      "Testing config 55 on 144\n",
      "Testing config 56 on 144\n",
      "Testing config 57 on 144\n",
      "Testing config 58 on 144\n",
      "Testing config 59 on 144\n",
      "Testing config 60 on 144\n",
      "Testing config 61 on 144\n",
      "Testing config 62 on 144\n",
      "Testing config 63 on 144\n",
      "Testing config 64 on 144\n",
      "Testing config 65 on 144\n",
      "Testing config 66 on 144\n",
      "Testing config 67 on 144\n",
      "Testing config 68 on 144\n",
      "Testing config 69 on 144\n",
      "Testing config 70 on 144\n",
      "Testing config 71 on 144\n",
      "Testing config 72 on 144\n",
      "Testing config 73 on 144\n",
      "Testing config 74 on 144\n",
      "Testing config 75 on 144\n",
      "Testing config 76 on 144\n",
      "Testing config 77 on 144\n",
      "Testing config 78 on 144\n",
      "Testing config 79 on 144\n",
      "Testing config 80 on 144\n",
      "Testing config 81 on 144\n",
      "Testing config 82 on 144\n",
      "Testing config 83 on 144\n",
      "Testing config 84 on 144\n",
      "Testing config 85 on 144\n",
      "Testing config 86 on 144\n",
      "Testing config 87 on 144\n",
      "Testing config 88 on 144\n",
      "Testing config 89 on 144\n",
      "Testing config 90 on 144\n",
      "Testing config 91 on 144\n",
      "Testing config 92 on 144\n",
      "Testing config 93 on 144\n",
      "Testing config 94 on 144\n",
      "Testing config 95 on 144\n",
      "Testing config 96 on 144\n",
      "Testing config 97 on 144\n",
      "Testing config 98 on 144\n",
      "Testing config 99 on 144\n",
      "Testing config 100 on 144\n",
      "Testing config 101 on 144\n",
      "Testing config 102 on 144\n",
      "Testing config 103 on 144\n",
      "Testing config 104 on 144\n",
      "Testing config 105 on 144\n",
      "Testing config 106 on 144\n",
      "Testing config 107 on 144\n",
      "Testing config 108 on 144\n",
      "Testing config 109 on 144\n",
      "Testing config 110 on 144\n",
      "Testing config 111 on 144\n",
      "Testing config 112 on 144\n",
      "Testing config 113 on 144\n",
      "Testing config 114 on 144\n",
      "Testing config 115 on 144\n",
      "Testing config 116 on 144\n",
      "Testing config 117 on 144\n",
      "Testing config 118 on 144\n",
      "Testing config 119 on 144\n",
      "Testing config 120 on 144\n",
      "Testing config 121 on 144\n",
      "Testing config 122 on 144\n",
      "Testing config 123 on 144\n",
      "Testing config 124 on 144\n",
      "Testing config 125 on 144\n",
      "Testing config 126 on 144\n",
      "Testing config 127 on 144\n",
      "Testing config 128 on 144\n",
      "Testing config 129 on 144\n",
      "Testing config 130 on 144\n",
      "Testing config 131 on 144\n",
      "Testing config 132 on 144\n",
      "Testing config 133 on 144\n",
      "Testing config 134 on 144\n",
      "Testing config 135 on 144\n",
      "Testing config 136 on 144\n",
      "Testing config 137 on 144\n",
      "Testing config 138 on 144\n",
      "Testing config 139 on 144\n",
      "Testing config 140 on 144\n",
      "Testing config 141 on 144\n",
      "Testing config 142 on 144\n",
      "Testing config 143 on 144\n",
      "Testing config 144 on 144\n",
      "\n",
      "--------------------------------------Config Done--------------------------------------------\n",
      "\n"
     ]
    },
    {
     "data": {
      "text/html": [
       "Tracking run with wandb version 0.19.8"
      ],
      "text/plain": [
       "<IPython.core.display.HTML object>"
      ]
     },
     "metadata": {},
     "output_type": "display_data"
    },
    {
     "data": {
      "text/html": [
       "Run data is saved locally in <code>/content/wandb/run-20250315_144901-mi5sh1bz</code>"
      ],
      "text/plain": [
       "<IPython.core.display.HTML object>"
      ]
     },
     "metadata": {},
     "output_type": "display_data"
    },
    {
     "data": {
      "text/html": [
       "Syncing run <strong><a href='https://wandb.ai/TFE-proteomics/RT/runs/mi5sh1bz' target=\"_blank\">ValidProtocol_RT_Scratch_fold_1</a></strong> to <a href='https://wandb.ai/TFE-proteomics/RT' target=\"_blank\">Weights & Biases</a> (<a href='https://wandb.me/developer-guide' target=\"_blank\">docs</a>)<br>"
      ],
      "text/plain": [
       "<IPython.core.display.HTML object>"
      ]
     },
     "metadata": {},
     "output_type": "display_data"
    },
    {
     "data": {
      "text/html": [
       " View project at <a href='https://wandb.ai/TFE-proteomics/RT' target=\"_blank\">https://wandb.ai/TFE-proteomics/RT</a>"
      ],
      "text/plain": [
       "<IPython.core.display.HTML object>"
      ]
     },
     "metadata": {},
     "output_type": "display_data"
    },
    {
     "data": {
      "text/html": [
       " View run at <a href='https://wandb.ai/TFE-proteomics/RT/runs/mi5sh1bz' target=\"_blank\">https://wandb.ai/TFE-proteomics/RT/runs/mi5sh1bz</a>"
      ],
      "text/plain": [
       "<IPython.core.display.HTML object>"
      ]
     },
     "metadata": {},
     "output_type": "display_data"
    },
    {
     "data": {
      "text/html": [],
      "text/plain": [
       "<IPython.core.display.HTML object>"
      ]
     },
     "metadata": {},
     "output_type": "display_data"
    },
    {
     "data": {
      "text/html": [
       "<br>    <style><br>        .wandb-row {<br>            display: flex;<br>            flex-direction: row;<br>            flex-wrap: wrap;<br>            justify-content: flex-start;<br>            width: 100%;<br>        }<br>        .wandb-col {<br>            display: flex;<br>            flex-direction: column;<br>            flex-basis: 100%;<br>            flex: 1;<br>            padding: 10px;<br>        }<br>    </style><br><div class=\"wandb-row\"><div class=\"wandb-col\"><h3>Run history:</h3><br/><table class=\"wandb\"><tr><td>accuracy</td><td>▁</td></tr><tr><td>f1</td><td>▁</td></tr><tr><td>pr_auc</td><td>▁</td></tr><tr><td>precision</td><td>▁</td></tr><tr><td>recall</td><td>▁</td></tr><tr><td>roc_auc</td><td>▁</td></tr></table><br/></div><div class=\"wandb-col\"><h3>Run summary:</h3><br/><table class=\"wandb\"><tr><td>accuracy</td><td>0.64516</td></tr><tr><td>f1</td><td>0.26667</td></tr><tr><td>pr_auc</td><td>0.34572</td></tr><tr><td>precision</td><td>0.25</td></tr><tr><td>recall</td><td>0.28571</td></tr><tr><td>roc_auc</td><td>0.60119</td></tr></table><br/></div></div>"
      ],
      "text/plain": [
       "<IPython.core.display.HTML object>"
      ]
     },
     "metadata": {},
     "output_type": "display_data"
    },
    {
     "data": {
      "text/html": [
       " View run <strong style=\"color:#cdcd00\">ValidProtocol_RT_Scratch_fold_1</strong> at: <a href='https://wandb.ai/TFE-proteomics/RT/runs/mi5sh1bz' target=\"_blank\">https://wandb.ai/TFE-proteomics/RT/runs/mi5sh1bz</a><br> View project at: <a href='https://wandb.ai/TFE-proteomics/RT' target=\"_blank\">https://wandb.ai/TFE-proteomics/RT</a><br>Synced 5 W&B file(s), 0 media file(s), 0 artifact file(s) and 0 other file(s)"
      ],
      "text/plain": [
       "<IPython.core.display.HTML object>"
      ]
     },
     "metadata": {},
     "output_type": "display_data"
    },
    {
     "data": {
      "text/html": [
       "Find logs at: <code>./wandb/run-20250315_144901-mi5sh1bz/logs</code>"
      ],
      "text/plain": [
       "<IPython.core.display.HTML object>"
      ]
     },
     "metadata": {},
     "output_type": "display_data"
    },
    {
     "name": "stdout",
     "output_type": "stream",
     "text": [
      "Fold 2 on 5\n",
      "Testing config 1 on 144\n",
      "Testing config 2 on 144\n",
      "Testing config 3 on 144\n",
      "Testing config 4 on 144\n",
      "Testing config 5 on 144\n",
      "Testing config 6 on 144\n",
      "Testing config 7 on 144\n",
      "Testing config 8 on 144\n",
      "Testing config 9 on 144\n",
      "Testing config 10 on 144\n",
      "Testing config 11 on 144\n",
      "Testing config 12 on 144\n",
      "Testing config 13 on 144\n",
      "Testing config 14 on 144\n",
      "Testing config 15 on 144\n",
      "Testing config 16 on 144\n",
      "Testing config 17 on 144\n",
      "Testing config 18 on 144\n",
      "Testing config 19 on 144\n",
      "Testing config 20 on 144\n",
      "Testing config 21 on 144\n",
      "Testing config 22 on 144\n",
      "Testing config 23 on 144\n",
      "Testing config 24 on 144\n",
      "Testing config 25 on 144\n",
      "Testing config 26 on 144\n",
      "Testing config 27 on 144\n",
      "Testing config 28 on 144\n",
      "Testing config 29 on 144\n",
      "Testing config 30 on 144\n",
      "Testing config 31 on 144\n",
      "Testing config 32 on 144\n",
      "Testing config 33 on 144\n",
      "Testing config 34 on 144\n",
      "Testing config 35 on 144\n",
      "Testing config 36 on 144\n",
      "Testing config 37 on 144\n",
      "Testing config 38 on 144\n",
      "Testing config 39 on 144\n",
      "Testing config 40 on 144\n",
      "Testing config 41 on 144\n",
      "Testing config 42 on 144\n",
      "Testing config 43 on 144\n",
      "Testing config 44 on 144\n",
      "Testing config 45 on 144\n",
      "Testing config 46 on 144\n",
      "Testing config 47 on 144\n",
      "Testing config 48 on 144\n",
      "Testing config 49 on 144\n",
      "Testing config 50 on 144\n",
      "Testing config 51 on 144\n",
      "Testing config 52 on 144\n",
      "Testing config 53 on 144\n",
      "Testing config 54 on 144\n",
      "Testing config 55 on 144\n",
      "Testing config 56 on 144\n",
      "Testing config 57 on 144\n",
      "Testing config 58 on 144\n",
      "Testing config 59 on 144\n",
      "Testing config 60 on 144\n",
      "Testing config 61 on 144\n",
      "Testing config 62 on 144\n",
      "Testing config 63 on 144\n",
      "Testing config 64 on 144\n",
      "Testing config 65 on 144\n",
      "Testing config 66 on 144\n",
      "Testing config 67 on 144\n",
      "Testing config 68 on 144\n",
      "Testing config 69 on 144\n",
      "Testing config 70 on 144\n",
      "Testing config 71 on 144\n",
      "Testing config 72 on 144\n",
      "Testing config 73 on 144\n",
      "Testing config 74 on 144\n",
      "Testing config 75 on 144\n",
      "Testing config 76 on 144\n",
      "Testing config 77 on 144\n",
      "Testing config 78 on 144\n",
      "Testing config 79 on 144\n",
      "Testing config 80 on 144\n",
      "Testing config 81 on 144\n",
      "Testing config 82 on 144\n",
      "Testing config 83 on 144\n",
      "Testing config 84 on 144\n",
      "Testing config 85 on 144\n",
      "Testing config 86 on 144\n",
      "Testing config 87 on 144\n",
      "Testing config 88 on 144\n",
      "Testing config 89 on 144\n",
      "Testing config 90 on 144\n",
      "Testing config 91 on 144\n",
      "Testing config 92 on 144\n",
      "Testing config 93 on 144\n",
      "Testing config 94 on 144\n",
      "Testing config 95 on 144\n",
      "Testing config 96 on 144\n",
      "Testing config 97 on 144\n",
      "Testing config 98 on 144\n",
      "Testing config 99 on 144\n",
      "Testing config 100 on 144\n",
      "Testing config 101 on 144\n",
      "Testing config 102 on 144\n",
      "Testing config 103 on 144\n",
      "Testing config 104 on 144\n",
      "Testing config 105 on 144\n",
      "Testing config 106 on 144\n",
      "Testing config 107 on 144\n",
      "Testing config 108 on 144\n",
      "Testing config 109 on 144\n",
      "Testing config 110 on 144\n",
      "Testing config 111 on 144\n",
      "Testing config 112 on 144\n",
      "Testing config 113 on 144\n",
      "Testing config 114 on 144\n",
      "Testing config 115 on 144\n",
      "Testing config 116 on 144\n",
      "Testing config 117 on 144\n",
      "Testing config 118 on 144\n",
      "Testing config 119 on 144\n",
      "Testing config 120 on 144\n",
      "Testing config 121 on 144\n",
      "Testing config 122 on 144\n",
      "Testing config 123 on 144\n",
      "Testing config 124 on 144\n",
      "Testing config 125 on 144\n",
      "Testing config 126 on 144\n",
      "Testing config 127 on 144\n",
      "Testing config 128 on 144\n",
      "Testing config 129 on 144\n",
      "Testing config 130 on 144\n",
      "Testing config 131 on 144\n",
      "Testing config 132 on 144\n",
      "Testing config 133 on 144\n",
      "Testing config 134 on 144\n",
      "Testing config 135 on 144\n",
      "Testing config 136 on 144\n",
      "Testing config 137 on 144\n",
      "Testing config 138 on 144\n",
      "Testing config 139 on 144\n",
      "Testing config 140 on 144\n",
      "Testing config 141 on 144\n",
      "Testing config 142 on 144\n",
      "Testing config 143 on 144\n",
      "Testing config 144 on 144\n",
      "\n",
      "--------------------------------------Config Done--------------------------------------------\n",
      "\n"
     ]
    },
    {
     "data": {
      "text/html": [
       "Tracking run with wandb version 0.19.8"
      ],
      "text/plain": [
       "<IPython.core.display.HTML object>"
      ]
     },
     "metadata": {},
     "output_type": "display_data"
    },
    {
     "data": {
      "text/html": [
       "Run data is saved locally in <code>/content/wandb/run-20250315_145900-qh14ezw7</code>"
      ],
      "text/plain": [
       "<IPython.core.display.HTML object>"
      ]
     },
     "metadata": {},
     "output_type": "display_data"
    },
    {
     "data": {
      "text/html": [
       "Syncing run <strong><a href='https://wandb.ai/TFE-proteomics/RT/runs/qh14ezw7' target=\"_blank\">ValidProtocol_RT_Scratch_fold_2</a></strong> to <a href='https://wandb.ai/TFE-proteomics/RT' target=\"_blank\">Weights & Biases</a> (<a href='https://wandb.me/developer-guide' target=\"_blank\">docs</a>)<br>"
      ],
      "text/plain": [
       "<IPython.core.display.HTML object>"
      ]
     },
     "metadata": {},
     "output_type": "display_data"
    },
    {
     "data": {
      "text/html": [
       " View project at <a href='https://wandb.ai/TFE-proteomics/RT' target=\"_blank\">https://wandb.ai/TFE-proteomics/RT</a>"
      ],
      "text/plain": [
       "<IPython.core.display.HTML object>"
      ]
     },
     "metadata": {},
     "output_type": "display_data"
    },
    {
     "data": {
      "text/html": [
       " View run at <a href='https://wandb.ai/TFE-proteomics/RT/runs/qh14ezw7' target=\"_blank\">https://wandb.ai/TFE-proteomics/RT/runs/qh14ezw7</a>"
      ],
      "text/plain": [
       "<IPython.core.display.HTML object>"
      ]
     },
     "metadata": {},
     "output_type": "display_data"
    },
    {
     "data": {
      "text/html": [],
      "text/plain": [
       "<IPython.core.display.HTML object>"
      ]
     },
     "metadata": {},
     "output_type": "display_data"
    },
    {
     "data": {
      "text/html": [
       "<br>    <style><br>        .wandb-row {<br>            display: flex;<br>            flex-direction: row;<br>            flex-wrap: wrap;<br>            justify-content: flex-start;<br>            width: 100%;<br>        }<br>        .wandb-col {<br>            display: flex;<br>            flex-direction: column;<br>            flex-basis: 100%;<br>            flex: 1;<br>            padding: 10px;<br>        }<br>    </style><br><div class=\"wandb-row\"><div class=\"wandb-col\"><h3>Run history:</h3><br/><table class=\"wandb\"><tr><td>accuracy</td><td>▁</td></tr><tr><td>f1</td><td>▁</td></tr><tr><td>pr_auc</td><td>▁</td></tr><tr><td>precision</td><td>▁</td></tr><tr><td>recall</td><td>▁</td></tr><tr><td>roc_auc</td><td>▁</td></tr></table><br/></div><div class=\"wandb-col\"><h3>Run summary:</h3><br/><table class=\"wandb\"><tr><td>accuracy</td><td>0.74194</td></tr><tr><td>f1</td><td>0.5</td></tr><tr><td>pr_auc</td><td>0.63368</td></tr><tr><td>precision</td><td>0.44444</td></tr><tr><td>recall</td><td>0.57143</td></tr><tr><td>roc_auc</td><td>0.80952</td></tr></table><br/></div></div>"
      ],
      "text/plain": [
       "<IPython.core.display.HTML object>"
      ]
     },
     "metadata": {},
     "output_type": "display_data"
    },
    {
     "data": {
      "text/html": [
       " View run <strong style=\"color:#cdcd00\">ValidProtocol_RT_Scratch_fold_2</strong> at: <a href='https://wandb.ai/TFE-proteomics/RT/runs/qh14ezw7' target=\"_blank\">https://wandb.ai/TFE-proteomics/RT/runs/qh14ezw7</a><br> View project at: <a href='https://wandb.ai/TFE-proteomics/RT' target=\"_blank\">https://wandb.ai/TFE-proteomics/RT</a><br>Synced 5 W&B file(s), 0 media file(s), 0 artifact file(s) and 0 other file(s)"
      ],
      "text/plain": [
       "<IPython.core.display.HTML object>"
      ]
     },
     "metadata": {},
     "output_type": "display_data"
    },
    {
     "data": {
      "text/html": [
       "Find logs at: <code>./wandb/run-20250315_145900-qh14ezw7/logs</code>"
      ],
      "text/plain": [
       "<IPython.core.display.HTML object>"
      ]
     },
     "metadata": {},
     "output_type": "display_data"
    },
    {
     "name": "stdout",
     "output_type": "stream",
     "text": [
      "Fold 3 on 5\n",
      "Testing config 1 on 144\n",
      "Testing config 2 on 144\n",
      "Testing config 3 on 144\n",
      "Testing config 4 on 144\n",
      "Testing config 5 on 144\n",
      "Testing config 6 on 144\n",
      "Testing config 7 on 144\n",
      "Testing config 8 on 144\n",
      "Testing config 9 on 144\n",
      "Testing config 10 on 144\n",
      "Testing config 11 on 144\n",
      "Testing config 12 on 144\n",
      "Testing config 13 on 144\n",
      "Testing config 14 on 144\n",
      "Testing config 15 on 144\n",
      "Testing config 16 on 144\n",
      "Testing config 17 on 144\n",
      "Testing config 18 on 144\n",
      "Testing config 19 on 144\n",
      "Testing config 20 on 144\n",
      "Testing config 21 on 144\n",
      "Testing config 22 on 144\n",
      "Testing config 23 on 144\n",
      "Testing config 24 on 144\n",
      "Testing config 25 on 144\n",
      "Testing config 26 on 144\n",
      "Testing config 27 on 144\n",
      "Testing config 28 on 144\n",
      "Testing config 29 on 144\n",
      "Testing config 30 on 144\n",
      "Testing config 31 on 144\n",
      "Testing config 32 on 144\n",
      "Testing config 33 on 144\n",
      "Testing config 34 on 144\n",
      "Testing config 35 on 144\n",
      "Testing config 36 on 144\n",
      "Testing config 37 on 144\n",
      "Testing config 38 on 144\n",
      "Testing config 39 on 144\n",
      "Testing config 40 on 144\n",
      "Testing config 41 on 144\n",
      "Testing config 42 on 144\n",
      "Testing config 43 on 144\n",
      "Testing config 44 on 144\n",
      "Testing config 45 on 144\n",
      "Testing config 46 on 144\n",
      "Testing config 47 on 144\n",
      "Testing config 48 on 144\n",
      "Testing config 49 on 144\n",
      "Testing config 50 on 144\n",
      "Testing config 51 on 144\n",
      "Testing config 52 on 144\n",
      "Testing config 53 on 144\n",
      "Testing config 54 on 144\n",
      "Testing config 55 on 144\n",
      "Testing config 56 on 144\n",
      "Testing config 57 on 144\n",
      "Testing config 58 on 144\n",
      "Testing config 59 on 144\n",
      "Testing config 60 on 144\n",
      "Testing config 61 on 144\n",
      "Testing config 62 on 144\n",
      "Testing config 63 on 144\n",
      "Testing config 64 on 144\n",
      "Testing config 65 on 144\n",
      "Testing config 66 on 144\n",
      "Testing config 67 on 144\n",
      "Testing config 68 on 144\n",
      "Testing config 69 on 144\n",
      "Testing config 70 on 144\n",
      "Testing config 71 on 144\n",
      "Testing config 72 on 144\n",
      "Testing config 73 on 144\n",
      "Testing config 74 on 144\n",
      "Testing config 75 on 144\n",
      "Testing config 76 on 144\n",
      "Testing config 77 on 144\n",
      "Testing config 78 on 144\n",
      "Testing config 79 on 144\n",
      "Testing config 80 on 144\n",
      "Testing config 81 on 144\n",
      "Testing config 82 on 144\n",
      "Testing config 83 on 144\n",
      "Testing config 84 on 144\n",
      "Testing config 85 on 144\n",
      "Testing config 86 on 144\n",
      "Testing config 87 on 144\n",
      "Testing config 88 on 144\n",
      "Testing config 89 on 144\n",
      "Testing config 90 on 144\n",
      "Testing config 91 on 144\n",
      "Testing config 92 on 144\n",
      "Testing config 93 on 144\n",
      "Testing config 94 on 144\n",
      "Testing config 95 on 144\n",
      "Testing config 96 on 144\n",
      "Testing config 97 on 144\n",
      "Testing config 98 on 144\n",
      "Testing config 99 on 144\n",
      "Testing config 100 on 144\n",
      "Testing config 101 on 144\n",
      "Testing config 102 on 144\n",
      "Testing config 103 on 144\n",
      "Testing config 104 on 144\n",
      "Testing config 105 on 144\n",
      "Testing config 106 on 144\n",
      "Testing config 107 on 144\n",
      "Testing config 108 on 144\n",
      "Testing config 109 on 144\n",
      "Testing config 110 on 144\n",
      "Testing config 111 on 144\n",
      "Testing config 112 on 144\n",
      "Testing config 113 on 144\n",
      "Testing config 114 on 144\n",
      "Testing config 115 on 144\n",
      "Testing config 116 on 144\n",
      "Testing config 117 on 144\n",
      "Testing config 118 on 144\n",
      "Testing config 119 on 144\n",
      "Testing config 120 on 144\n",
      "Testing config 121 on 144\n",
      "Testing config 122 on 144\n",
      "Testing config 123 on 144\n",
      "Testing config 124 on 144\n",
      "Testing config 125 on 144\n",
      "Testing config 126 on 144\n",
      "Testing config 127 on 144\n",
      "Testing config 128 on 144\n",
      "Testing config 129 on 144\n",
      "Testing config 130 on 144\n",
      "Testing config 131 on 144\n",
      "Testing config 132 on 144\n",
      "Testing config 133 on 144\n",
      "Testing config 134 on 144\n",
      "Testing config 135 on 144\n",
      "Testing config 136 on 144\n",
      "Testing config 137 on 144\n",
      "Testing config 138 on 144\n",
      "Testing config 139 on 144\n",
      "Testing config 140 on 144\n",
      "Testing config 141 on 144\n",
      "Testing config 142 on 144\n",
      "Testing config 143 on 144\n",
      "Testing config 144 on 144\n",
      "\n",
      "--------------------------------------Config Done--------------------------------------------\n",
      "\n"
     ]
    },
    {
     "data": {
      "text/html": [
       "Tracking run with wandb version 0.19.8"
      ],
      "text/plain": [
       "<IPython.core.display.HTML object>"
      ]
     },
     "metadata": {},
     "output_type": "display_data"
    },
    {
     "data": {
      "text/html": [
       "Run data is saved locally in <code>/content/wandb/run-20250315_150916-v08roaso</code>"
      ],
      "text/plain": [
       "<IPython.core.display.HTML object>"
      ]
     },
     "metadata": {},
     "output_type": "display_data"
    },
    {
     "data": {
      "text/html": [
       "Syncing run <strong><a href='https://wandb.ai/TFE-proteomics/RT/runs/v08roaso' target=\"_blank\">ValidProtocol_RT_Scratch_fold_3</a></strong> to <a href='https://wandb.ai/TFE-proteomics/RT' target=\"_blank\">Weights & Biases</a> (<a href='https://wandb.me/developer-guide' target=\"_blank\">docs</a>)<br>"
      ],
      "text/plain": [
       "<IPython.core.display.HTML object>"
      ]
     },
     "metadata": {},
     "output_type": "display_data"
    },
    {
     "data": {
      "text/html": [
       " View project at <a href='https://wandb.ai/TFE-proteomics/RT' target=\"_blank\">https://wandb.ai/TFE-proteomics/RT</a>"
      ],
      "text/plain": [
       "<IPython.core.display.HTML object>"
      ]
     },
     "metadata": {},
     "output_type": "display_data"
    },
    {
     "data": {
      "text/html": [
       " View run at <a href='https://wandb.ai/TFE-proteomics/RT/runs/v08roaso' target=\"_blank\">https://wandb.ai/TFE-proteomics/RT/runs/v08roaso</a>"
      ],
      "text/plain": [
       "<IPython.core.display.HTML object>"
      ]
     },
     "metadata": {},
     "output_type": "display_data"
    },
    {
     "data": {
      "text/html": [],
      "text/plain": [
       "<IPython.core.display.HTML object>"
      ]
     },
     "metadata": {},
     "output_type": "display_data"
    },
    {
     "data": {
      "text/html": [
       "<br>    <style><br>        .wandb-row {<br>            display: flex;<br>            flex-direction: row;<br>            flex-wrap: wrap;<br>            justify-content: flex-start;<br>            width: 100%;<br>        }<br>        .wandb-col {<br>            display: flex;<br>            flex-direction: column;<br>            flex-basis: 100%;<br>            flex: 1;<br>            padding: 10px;<br>        }<br>    </style><br><div class=\"wandb-row\"><div class=\"wandb-col\"><h3>Run history:</h3><br/><table class=\"wandb\"><tr><td>accuracy</td><td>▁</td></tr><tr><td>f1</td><td>▁</td></tr><tr><td>pr_auc</td><td>▁</td></tr><tr><td>precision</td><td>▁</td></tr><tr><td>recall</td><td>▁</td></tr><tr><td>roc_auc</td><td>▁</td></tr></table><br/></div><div class=\"wandb-col\"><h3>Run summary:</h3><br/><table class=\"wandb\"><tr><td>accuracy</td><td>0.67742</td></tr><tr><td>f1</td><td>0.28571</td></tr><tr><td>pr_auc</td><td>0.27724</td></tr><tr><td>precision</td><td>0.33333</td></tr><tr><td>recall</td><td>0.25</td></tr><tr><td>roc_auc</td><td>0.41304</td></tr></table><br/></div></div>"
      ],
      "text/plain": [
       "<IPython.core.display.HTML object>"
      ]
     },
     "metadata": {},
     "output_type": "display_data"
    },
    {
     "data": {
      "text/html": [
       " View run <strong style=\"color:#cdcd00\">ValidProtocol_RT_Scratch_fold_3</strong> at: <a href='https://wandb.ai/TFE-proteomics/RT/runs/v08roaso' target=\"_blank\">https://wandb.ai/TFE-proteomics/RT/runs/v08roaso</a><br> View project at: <a href='https://wandb.ai/TFE-proteomics/RT' target=\"_blank\">https://wandb.ai/TFE-proteomics/RT</a><br>Synced 5 W&B file(s), 0 media file(s), 0 artifact file(s) and 0 other file(s)"
      ],
      "text/plain": [
       "<IPython.core.display.HTML object>"
      ]
     },
     "metadata": {},
     "output_type": "display_data"
    },
    {
     "data": {
      "text/html": [
       "Find logs at: <code>./wandb/run-20250315_150916-v08roaso/logs</code>"
      ],
      "text/plain": [
       "<IPython.core.display.HTML object>"
      ]
     },
     "metadata": {},
     "output_type": "display_data"
    },
    {
     "name": "stdout",
     "output_type": "stream",
     "text": [
      "Fold 4 on 5\n",
      "Testing config 1 on 144\n",
      "Testing config 2 on 144\n",
      "Testing config 3 on 144\n",
      "Testing config 4 on 144\n",
      "Testing config 5 on 144\n",
      "Testing config 6 on 144\n",
      "Testing config 7 on 144\n",
      "Testing config 8 on 144\n",
      "Testing config 9 on 144\n",
      "Testing config 10 on 144\n",
      "Testing config 11 on 144\n",
      "Testing config 12 on 144\n",
      "Testing config 13 on 144\n",
      "Testing config 14 on 144\n",
      "Testing config 15 on 144\n",
      "Testing config 16 on 144\n",
      "Testing config 17 on 144\n",
      "Testing config 18 on 144\n",
      "Testing config 19 on 144\n",
      "Testing config 20 on 144\n",
      "Testing config 21 on 144\n",
      "Testing config 22 on 144\n",
      "Testing config 23 on 144\n",
      "Testing config 24 on 144\n",
      "Testing config 25 on 144\n",
      "Testing config 26 on 144\n",
      "Testing config 27 on 144\n",
      "Testing config 28 on 144\n",
      "Testing config 29 on 144\n",
      "Testing config 30 on 144\n",
      "Testing config 31 on 144\n",
      "Testing config 32 on 144\n",
      "Testing config 33 on 144\n",
      "Testing config 34 on 144\n",
      "Testing config 35 on 144\n",
      "Testing config 36 on 144\n",
      "Testing config 37 on 144\n",
      "Testing config 38 on 144\n",
      "Testing config 39 on 144\n",
      "Testing config 40 on 144\n",
      "Testing config 41 on 144\n",
      "Testing config 42 on 144\n",
      "Testing config 43 on 144\n",
      "Testing config 44 on 144\n",
      "Testing config 45 on 144\n",
      "Testing config 46 on 144\n",
      "Testing config 47 on 144\n",
      "Testing config 48 on 144\n",
      "Testing config 49 on 144\n",
      "Testing config 50 on 144\n",
      "Testing config 51 on 144\n",
      "Testing config 52 on 144\n",
      "Testing config 53 on 144\n",
      "Testing config 54 on 144\n",
      "Testing config 55 on 144\n",
      "Testing config 56 on 144\n",
      "Testing config 57 on 144\n",
      "Testing config 58 on 144\n",
      "Testing config 59 on 144\n",
      "Testing config 60 on 144\n",
      "Testing config 61 on 144\n",
      "Testing config 62 on 144\n",
      "Testing config 63 on 144\n",
      "Testing config 64 on 144\n",
      "Testing config 65 on 144\n",
      "Testing config 66 on 144\n",
      "Testing config 67 on 144\n",
      "Testing config 68 on 144\n",
      "Testing config 69 on 144\n",
      "Testing config 70 on 144\n",
      "Testing config 71 on 144\n",
      "Testing config 72 on 144\n",
      "Testing config 73 on 144\n",
      "Testing config 74 on 144\n",
      "Testing config 75 on 144\n",
      "Testing config 76 on 144\n",
      "Testing config 77 on 144\n",
      "Testing config 78 on 144\n",
      "Testing config 79 on 144\n",
      "Testing config 80 on 144\n",
      "Testing config 81 on 144\n",
      "Testing config 82 on 144\n",
      "Testing config 83 on 144\n",
      "Testing config 84 on 144\n",
      "Testing config 85 on 144\n",
      "Testing config 86 on 144\n",
      "Testing config 87 on 144\n",
      "Testing config 88 on 144\n",
      "Testing config 89 on 144\n",
      "Testing config 90 on 144\n",
      "Testing config 91 on 144\n",
      "Testing config 92 on 144\n",
      "Testing config 93 on 144\n",
      "Testing config 94 on 144\n",
      "Testing config 95 on 144\n",
      "Testing config 96 on 144\n",
      "Testing config 97 on 144\n",
      "Testing config 98 on 144\n",
      "Testing config 99 on 144\n",
      "Testing config 100 on 144\n",
      "Testing config 101 on 144\n",
      "Testing config 102 on 144\n",
      "Testing config 103 on 144\n",
      "Testing config 104 on 144\n",
      "Testing config 105 on 144\n",
      "Testing config 106 on 144\n",
      "Testing config 107 on 144\n",
      "Testing config 108 on 144\n",
      "Testing config 109 on 144\n",
      "Testing config 110 on 144\n",
      "Testing config 111 on 144\n",
      "Testing config 112 on 144\n",
      "Testing config 113 on 144\n",
      "Testing config 114 on 144\n",
      "Testing config 115 on 144\n",
      "Testing config 116 on 144\n",
      "Testing config 117 on 144\n",
      "Testing config 118 on 144\n",
      "Testing config 119 on 144\n",
      "Testing config 120 on 144\n",
      "Testing config 121 on 144\n",
      "Testing config 122 on 144\n",
      "Testing config 123 on 144\n",
      "Testing config 124 on 144\n",
      "Testing config 125 on 144\n",
      "Testing config 126 on 144\n",
      "Testing config 127 on 144\n",
      "Testing config 128 on 144\n",
      "Testing config 129 on 144\n",
      "Testing config 130 on 144\n",
      "Testing config 131 on 144\n",
      "Testing config 132 on 144\n",
      "Testing config 133 on 144\n",
      "Testing config 134 on 144\n",
      "Testing config 135 on 144\n",
      "Testing config 136 on 144\n",
      "Testing config 137 on 144\n",
      "Testing config 138 on 144\n",
      "Testing config 139 on 144\n",
      "Testing config 140 on 144\n",
      "Testing config 141 on 144\n",
      "Testing config 142 on 144\n",
      "Testing config 143 on 144\n",
      "Testing config 144 on 144\n",
      "\n",
      "--------------------------------------Config Done--------------------------------------------\n",
      "\n"
     ]
    },
    {
     "data": {
      "text/html": [
       "Tracking run with wandb version 0.19.8"
      ],
      "text/plain": [
       "<IPython.core.display.HTML object>"
      ]
     },
     "metadata": {},
     "output_type": "display_data"
    },
    {
     "data": {
      "text/html": [
       "Run data is saved locally in <code>/content/wandb/run-20250315_151912-zzpkab65</code>"
      ],
      "text/plain": [
       "<IPython.core.display.HTML object>"
      ]
     },
     "metadata": {},
     "output_type": "display_data"
    },
    {
     "data": {
      "text/html": [
       "Syncing run <strong><a href='https://wandb.ai/TFE-proteomics/RT/runs/zzpkab65' target=\"_blank\">ValidProtocol_RT_Scratch_fold_4</a></strong> to <a href='https://wandb.ai/TFE-proteomics/RT' target=\"_blank\">Weights & Biases</a> (<a href='https://wandb.me/developer-guide' target=\"_blank\">docs</a>)<br>"
      ],
      "text/plain": [
       "<IPython.core.display.HTML object>"
      ]
     },
     "metadata": {},
     "output_type": "display_data"
    },
    {
     "data": {
      "text/html": [
       " View project at <a href='https://wandb.ai/TFE-proteomics/RT' target=\"_blank\">https://wandb.ai/TFE-proteomics/RT</a>"
      ],
      "text/plain": [
       "<IPython.core.display.HTML object>"
      ]
     },
     "metadata": {},
     "output_type": "display_data"
    },
    {
     "data": {
      "text/html": [
       " View run at <a href='https://wandb.ai/TFE-proteomics/RT/runs/zzpkab65' target=\"_blank\">https://wandb.ai/TFE-proteomics/RT/runs/zzpkab65</a>"
      ],
      "text/plain": [
       "<IPython.core.display.HTML object>"
      ]
     },
     "metadata": {},
     "output_type": "display_data"
    },
    {
     "data": {
      "text/html": [],
      "text/plain": [
       "<IPython.core.display.HTML object>"
      ]
     },
     "metadata": {},
     "output_type": "display_data"
    },
    {
     "data": {
      "text/html": [
       "<br>    <style><br>        .wandb-row {<br>            display: flex;<br>            flex-direction: row;<br>            flex-wrap: wrap;<br>            justify-content: flex-start;<br>            width: 100%;<br>        }<br>        .wandb-col {<br>            display: flex;<br>            flex-direction: column;<br>            flex-basis: 100%;<br>            flex: 1;<br>            padding: 10px;<br>        }<br>    </style><br><div class=\"wandb-row\"><div class=\"wandb-col\"><h3>Run history:</h3><br/><table class=\"wandb\"><tr><td>accuracy</td><td>▁</td></tr><tr><td>f1</td><td>▁</td></tr><tr><td>pr_auc</td><td>▁</td></tr><tr><td>precision</td><td>▁</td></tr><tr><td>recall</td><td>▁</td></tr><tr><td>roc_auc</td><td>▁</td></tr></table><br/></div><div class=\"wandb-col\"><h3>Run summary:</h3><br/><table class=\"wandb\"><tr><td>accuracy</td><td>0.70968</td></tr><tr><td>f1</td><td>0</td></tr><tr><td>pr_auc</td><td>0.19537</td></tr><tr><td>precision</td><td>0</td></tr><tr><td>recall</td><td>0</td></tr><tr><td>roc_auc</td><td>0.26087</td></tr></table><br/></div></div>"
      ],
      "text/plain": [
       "<IPython.core.display.HTML object>"
      ]
     },
     "metadata": {},
     "output_type": "display_data"
    },
    {
     "data": {
      "text/html": [
       " View run <strong style=\"color:#cdcd00\">ValidProtocol_RT_Scratch_fold_4</strong> at: <a href='https://wandb.ai/TFE-proteomics/RT/runs/zzpkab65' target=\"_blank\">https://wandb.ai/TFE-proteomics/RT/runs/zzpkab65</a><br> View project at: <a href='https://wandb.ai/TFE-proteomics/RT' target=\"_blank\">https://wandb.ai/TFE-proteomics/RT</a><br>Synced 5 W&B file(s), 0 media file(s), 0 artifact file(s) and 0 other file(s)"
      ],
      "text/plain": [
       "<IPython.core.display.HTML object>"
      ]
     },
     "metadata": {},
     "output_type": "display_data"
    },
    {
     "data": {
      "text/html": [
       "Find logs at: <code>./wandb/run-20250315_151912-zzpkab65/logs</code>"
      ],
      "text/plain": [
       "<IPython.core.display.HTML object>"
      ]
     },
     "metadata": {},
     "output_type": "display_data"
    },
    {
     "name": "stdout",
     "output_type": "stream",
     "text": [
      "Fold 5 on 5\n",
      "Testing config 1 on 144\n",
      "Testing config 2 on 144\n",
      "Testing config 3 on 144\n",
      "Testing config 4 on 144\n",
      "Testing config 5 on 144\n",
      "Testing config 6 on 144\n",
      "Testing config 7 on 144\n",
      "Testing config 8 on 144\n",
      "Testing config 9 on 144\n",
      "Testing config 10 on 144\n",
      "Testing config 11 on 144\n",
      "Testing config 12 on 144\n",
      "Testing config 13 on 144\n",
      "Testing config 14 on 144\n",
      "Testing config 15 on 144\n",
      "Testing config 16 on 144\n",
      "Testing config 17 on 144\n",
      "Testing config 18 on 144\n",
      "Testing config 19 on 144\n",
      "Testing config 20 on 144\n",
      "Testing config 21 on 144\n",
      "Testing config 22 on 144\n",
      "Testing config 23 on 144\n",
      "Testing config 24 on 144\n",
      "Testing config 25 on 144\n",
      "Testing config 26 on 144\n",
      "Testing config 27 on 144\n",
      "Testing config 28 on 144\n",
      "Testing config 29 on 144\n",
      "Testing config 30 on 144\n",
      "Testing config 31 on 144\n",
      "Testing config 32 on 144\n",
      "Testing config 33 on 144\n",
      "Testing config 34 on 144\n",
      "Testing config 35 on 144\n",
      "Testing config 36 on 144\n",
      "Testing config 37 on 144\n",
      "Testing config 38 on 144\n",
      "Testing config 39 on 144\n",
      "Testing config 40 on 144\n",
      "Testing config 41 on 144\n",
      "Testing config 42 on 144\n",
      "Testing config 43 on 144\n",
      "Testing config 44 on 144\n",
      "Testing config 45 on 144\n",
      "Testing config 46 on 144\n",
      "Testing config 47 on 144\n",
      "Testing config 48 on 144\n",
      "Testing config 49 on 144\n",
      "Testing config 50 on 144\n",
      "Testing config 51 on 144\n",
      "Testing config 52 on 144\n",
      "Testing config 53 on 144\n",
      "Testing config 54 on 144\n",
      "Testing config 55 on 144\n",
      "Testing config 56 on 144\n",
      "Testing config 57 on 144\n",
      "Testing config 58 on 144\n",
      "Testing config 59 on 144\n",
      "Testing config 60 on 144\n",
      "Testing config 61 on 144\n",
      "Testing config 62 on 144\n",
      "Testing config 63 on 144\n",
      "Testing config 64 on 144\n",
      "Testing config 65 on 144\n",
      "Testing config 66 on 144\n",
      "Testing config 67 on 144\n",
      "Testing config 68 on 144\n",
      "Testing config 69 on 144\n",
      "Testing config 70 on 144\n",
      "Testing config 71 on 144\n",
      "Testing config 72 on 144\n",
      "Testing config 73 on 144\n",
      "Testing config 74 on 144\n",
      "Testing config 75 on 144\n",
      "Testing config 76 on 144\n",
      "Testing config 77 on 144\n",
      "Testing config 78 on 144\n",
      "Testing config 79 on 144\n",
      "Testing config 80 on 144\n",
      "Testing config 81 on 144\n",
      "Testing config 82 on 144\n",
      "Testing config 83 on 144\n",
      "Testing config 84 on 144\n",
      "Testing config 85 on 144\n",
      "Testing config 86 on 144\n",
      "Testing config 87 on 144\n",
      "Testing config 88 on 144\n",
      "Testing config 89 on 144\n",
      "Testing config 90 on 144\n",
      "Testing config 91 on 144\n",
      "Testing config 92 on 144\n",
      "Testing config 93 on 144\n",
      "Testing config 94 on 144\n",
      "Testing config 95 on 144\n",
      "Testing config 96 on 144\n",
      "Testing config 97 on 144\n",
      "Testing config 98 on 144\n",
      "Testing config 99 on 144\n",
      "Testing config 100 on 144\n",
      "Testing config 101 on 144\n",
      "Testing config 102 on 144\n",
      "Testing config 103 on 144\n",
      "Testing config 104 on 144\n",
      "Testing config 105 on 144\n",
      "Testing config 106 on 144\n",
      "Testing config 107 on 144\n",
      "Testing config 108 on 144\n",
      "Testing config 109 on 144\n",
      "Testing config 110 on 144\n",
      "Testing config 111 on 144\n",
      "Testing config 112 on 144\n",
      "Testing config 113 on 144\n",
      "Testing config 114 on 144\n",
      "Testing config 115 on 144\n",
      "Testing config 116 on 144\n",
      "Testing config 117 on 144\n",
      "Testing config 118 on 144\n",
      "Testing config 119 on 144\n",
      "Testing config 120 on 144\n",
      "Testing config 121 on 144\n",
      "Testing config 122 on 144\n",
      "Testing config 123 on 144\n",
      "Testing config 124 on 144\n",
      "Testing config 125 on 144\n",
      "Testing config 126 on 144\n",
      "Testing config 127 on 144\n",
      "Testing config 128 on 144\n",
      "Testing config 129 on 144\n",
      "Testing config 130 on 144\n",
      "Testing config 131 on 144\n",
      "Testing config 132 on 144\n",
      "Testing config 133 on 144\n",
      "Testing config 134 on 144\n",
      "Testing config 135 on 144\n",
      "Testing config 136 on 144\n",
      "Testing config 137 on 144\n",
      "Testing config 138 on 144\n",
      "Testing config 139 on 144\n",
      "Testing config 140 on 144\n",
      "Testing config 141 on 144\n",
      "Testing config 142 on 144\n",
      "Testing config 143 on 144\n",
      "Testing config 144 on 144\n",
      "\n",
      "--------------------------------------Config Done--------------------------------------------\n",
      "\n"
     ]
    },
    {
     "data": {
      "text/html": [
       "Tracking run with wandb version 0.19.8"
      ],
      "text/plain": [
       "<IPython.core.display.HTML object>"
      ]
     },
     "metadata": {},
     "output_type": "display_data"
    },
    {
     "data": {
      "text/html": [
       "Run data is saved locally in <code>/content/wandb/run-20250315_152910-ie8imyg2</code>"
      ],
      "text/plain": [
       "<IPython.core.display.HTML object>"
      ]
     },
     "metadata": {},
     "output_type": "display_data"
    },
    {
     "data": {
      "text/html": [
       "Syncing run <strong><a href='https://wandb.ai/TFE-proteomics/RT/runs/ie8imyg2' target=\"_blank\">ValidProtocol_RT_Scratch_fold_5</a></strong> to <a href='https://wandb.ai/TFE-proteomics/RT' target=\"_blank\">Weights & Biases</a> (<a href='https://wandb.me/developer-guide' target=\"_blank\">docs</a>)<br>"
      ],
      "text/plain": [
       "<IPython.core.display.HTML object>"
      ]
     },
     "metadata": {},
     "output_type": "display_data"
    },
    {
     "data": {
      "text/html": [
       " View project at <a href='https://wandb.ai/TFE-proteomics/RT' target=\"_blank\">https://wandb.ai/TFE-proteomics/RT</a>"
      ],
      "text/plain": [
       "<IPython.core.display.HTML object>"
      ]
     },
     "metadata": {},
     "output_type": "display_data"
    },
    {
     "data": {
      "text/html": [
       " View run at <a href='https://wandb.ai/TFE-proteomics/RT/runs/ie8imyg2' target=\"_blank\">https://wandb.ai/TFE-proteomics/RT/runs/ie8imyg2</a>"
      ],
      "text/plain": [
       "<IPython.core.display.HTML object>"
      ]
     },
     "metadata": {},
     "output_type": "display_data"
    },
    {
     "data": {
      "text/html": [],
      "text/plain": [
       "<IPython.core.display.HTML object>"
      ]
     },
     "metadata": {},
     "output_type": "display_data"
    },
    {
     "data": {
      "text/html": [
       "<br>    <style><br>        .wandb-row {<br>            display: flex;<br>            flex-direction: row;<br>            flex-wrap: wrap;<br>            justify-content: flex-start;<br>            width: 100%;<br>        }<br>        .wandb-col {<br>            display: flex;<br>            flex-direction: column;<br>            flex-basis: 100%;<br>            flex: 1;<br>            padding: 10px;<br>        }<br>    </style><br><div class=\"wandb-row\"><div class=\"wandb-col\"><h3>Run history:</h3><br/><table class=\"wandb\"><tr><td>accuracy</td><td>▁</td></tr><tr><td>f1</td><td>▁</td></tr><tr><td>pr_auc</td><td>▁</td></tr><tr><td>precision</td><td>▁</td></tr><tr><td>recall</td><td>▁</td></tr><tr><td>roc_auc</td><td>▁</td></tr></table><br/></div><div class=\"wandb-col\"><h3>Run summary:</h3><br/><table class=\"wandb\"><tr><td>accuracy</td><td>0.6129</td></tr><tr><td>f1</td><td>0.14286</td></tr><tr><td>pr_auc</td><td>0.23376</td></tr><tr><td>precision</td><td>0.16667</td></tr><tr><td>recall</td><td>0.125</td></tr><tr><td>roc_auc</td><td>0.42935</td></tr></table><br/></div></div>"
      ],
      "text/plain": [
       "<IPython.core.display.HTML object>"
      ]
     },
     "metadata": {},
     "output_type": "display_data"
    },
    {
     "data": {
      "text/html": [
       " View run <strong style=\"color:#cdcd00\">ValidProtocol_RT_Scratch_fold_5</strong> at: <a href='https://wandb.ai/TFE-proteomics/RT/runs/ie8imyg2' target=\"_blank\">https://wandb.ai/TFE-proteomics/RT/runs/ie8imyg2</a><br> View project at: <a href='https://wandb.ai/TFE-proteomics/RT' target=\"_blank\">https://wandb.ai/TFE-proteomics/RT</a><br>Synced 5 W&B file(s), 0 media file(s), 0 artifact file(s) and 0 other file(s)"
      ],
      "text/plain": [
       "<IPython.core.display.HTML object>"
      ]
     },
     "metadata": {},
     "output_type": "display_data"
    },
    {
     "data": {
      "text/html": [
       "Find logs at: <code>./wandb/run-20250315_152910-ie8imyg2/logs</code>"
      ],
      "text/plain": [
       "<IPython.core.display.HTML object>"
      ]
     },
     "metadata": {},
     "output_type": "display_data"
    },
    {
     "data": {
      "text/html": [
       "Tracking run with wandb version 0.19.8"
      ],
      "text/plain": [
       "<IPython.core.display.HTML object>"
      ]
     },
     "metadata": {},
     "output_type": "display_data"
    },
    {
     "data": {
      "text/html": [
       "Run data is saved locally in <code>/content/wandb/run-20250315_152913-0jgya9lc</code>"
      ],
      "text/plain": [
       "<IPython.core.display.HTML object>"
      ]
     },
     "metadata": {},
     "output_type": "display_data"
    },
    {
     "data": {
      "text/html": [
       "Syncing run <strong><a href='https://wandb.ai/TFE-proteomics/RT/runs/0jgya9lc' target=\"_blank\">ValidProtocol_RT_Scratch_CrossValidation_Summary</a></strong> to <a href='https://wandb.ai/TFE-proteomics/RT' target=\"_blank\">Weights & Biases</a> (<a href='https://wandb.me/developer-guide' target=\"_blank\">docs</a>)<br>"
      ],
      "text/plain": [
       "<IPython.core.display.HTML object>"
      ]
     },
     "metadata": {},
     "output_type": "display_data"
    },
    {
     "data": {
      "text/html": [
       " View project at <a href='https://wandb.ai/TFE-proteomics/RT' target=\"_blank\">https://wandb.ai/TFE-proteomics/RT</a>"
      ],
      "text/plain": [
       "<IPython.core.display.HTML object>"
      ]
     },
     "metadata": {},
     "output_type": "display_data"
    },
    {
     "data": {
      "text/html": [
       " View run at <a href='https://wandb.ai/TFE-proteomics/RT/runs/0jgya9lc' target=\"_blank\">https://wandb.ai/TFE-proteomics/RT/runs/0jgya9lc</a>"
      ],
      "text/plain": [
       "<IPython.core.display.HTML object>"
      ]
     },
     "metadata": {},
     "output_type": "display_data"
    },
    {
     "data": {
      "text/html": [],
      "text/plain": [
       "<IPython.core.display.HTML object>"
      ]
     },
     "metadata": {},
     "output_type": "display_data"
    },
    {
     "data": {
      "text/html": [
       "<br>    <style><br>        .wandb-row {<br>            display: flex;<br>            flex-direction: row;<br>            flex-wrap: wrap;<br>            justify-content: flex-start;<br>            width: 100%;<br>        }<br>        .wandb-col {<br>            display: flex;<br>            flex-direction: column;<br>            flex-basis: 100%;<br>            flex: 1;<br>            padding: 10px;<br>        }<br>    </style><br><div class=\"wandb-row\"><div class=\"wandb-col\"><h3>Run history:</h3><br/><table class=\"wandb\"><tr><td>accuracy_mean</td><td>▁</td></tr><tr><td>accuracy_std</td><td>▁</td></tr><tr><td>f1_mean</td><td>▁</td></tr><tr><td>f1_std</td><td>▁</td></tr><tr><td>pr_auc_mean</td><td>▁</td></tr><tr><td>pr_auc_std</td><td>▁</td></tr><tr><td>precision_mean</td><td>▁</td></tr><tr><td>precision_std</td><td>▁</td></tr><tr><td>recall_mean</td><td>▁</td></tr><tr><td>recall_std</td><td>▁</td></tr><tr><td>roc_auc_mean</td><td>▁</td></tr><tr><td>roc_auc_std</td><td>▁</td></tr></table><br/></div><div class=\"wandb-col\"><h3>Run summary:</h3><br/><table class=\"wandb\"><tr><td>accuracy_mean</td><td>0.67742</td></tr><tr><td>accuracy_std</td><td>0.04562</td></tr><tr><td>f1_mean</td><td>0.23905</td></tr><tr><td>f1_std</td><td>0.16579</td></tr><tr><td>pr_auc_mean</td><td>0.33715</td></tr><tr><td>pr_auc_std</td><td>0.15645</td></tr><tr><td>precision_mean</td><td>0.23889</td></tr><tr><td>precision_std</td><td>0.15072</td></tr><tr><td>recall_mean</td><td>0.24643</td></tr><tr><td>recall_std</td><td>0.19113</td></tr><tr><td>roc_auc_mean</td><td>0.5028</td></tr><tr><td>roc_auc_std</td><td>0.18748</td></tr></table><br/></div></div>"
      ],
      "text/plain": [
       "<IPython.core.display.HTML object>"
      ]
     },
     "metadata": {},
     "output_type": "display_data"
    },
    {
     "data": {
      "text/html": [
       " View run <strong style=\"color:#cdcd00\">ValidProtocol_RT_Scratch_CrossValidation_Summary</strong> at: <a href='https://wandb.ai/TFE-proteomics/RT/runs/0jgya9lc' target=\"_blank\">https://wandb.ai/TFE-proteomics/RT/runs/0jgya9lc</a><br> View project at: <a href='https://wandb.ai/TFE-proteomics/RT' target=\"_blank\">https://wandb.ai/TFE-proteomics/RT</a><br>Synced 5 W&B file(s), 0 media file(s), 0 artifact file(s) and 0 other file(s)"
      ],
      "text/plain": [
       "<IPython.core.display.HTML object>"
      ]
     },
     "metadata": {},
     "output_type": "display_data"
    },
    {
     "data": {
      "text/html": [
       "Find logs at: <code>./wandb/run-20250315_152913-0jgya9lc/logs</code>"
      ],
      "text/plain": [
       "<IPython.core.display.HTML object>"
      ]
     },
     "metadata": {},
     "output_type": "display_data"
    }
   ],
   "source": [
    "LEARNING_RATE = 3e-4\n",
    "EMBED_DIM = 128\n",
    "HIDDEN_DIM = 128\n",
    "OUTPUT_DIM = 1\n",
    "N_EPOCHS = 100\n",
    "N_SPLITS = 5\n",
    "DROPOUT = 0.3\n",
    "BATCH_SIZE = 32\n",
    "\n",
    "# Define paths and useful variables\n",
    "count = 1\n",
    "do_early_stopping = False\n",
    "models_path = \"/content/drive/MyDrive/TFE/Models\"\n",
    "results_path = \"/content/drive/MyDrive/TFE/Results\"\n",
    "images_path = \"/content/drive/MyDrive/TFE/Images\"\n",
    "\n",
    "imbalanced_name_dict = {\n",
    "    \"Imbalance\": {\n",
    "        (False, False): \"N\",\n",
    "        (True, False): \"W\",\n",
    "        (False, True): \"O\"\n",
    "    },\n",
    "    \"Early Stopping\": {\n",
    "        True: \"ES\",\n",
    "        False: \"NES\"\n",
    "    },\n",
    "    \"Transfer Learning\": {\n",
    "        True: \"FT\",\n",
    "        False: \"FE\",\n",
    "        None: \"N\"\n",
    "    }\n",
    "}\n",
    "\n",
    "kf = StratifiedKFold(n_splits=N_SPLITS, shuffle=True, random_state=42)\n",
    "\n",
    "# Loop over all configurations of variant (here only different class imbalance technique) in order to compute all in once\n",
    "for FT in [False, True]:\n",
    "    for weighting, oversampling in [(False, False), (True, False), (False, True)]:\n",
    "        temp_results_list = []\n",
    "        # Loop over the folds\n",
    "        for fold, (train_idx, test_idx) in enumerate(kf.split(df, df['quantotypic'])):\n",
    "            # Split the data and creating dataloaders\n",
    "            print(f\"Fold {fold+1} on 5\")\n",
    "            tmp_train_df = df.iloc[train_idx]\n",
    "            test_df = df.iloc[test_idx]\n",
    "\n",
    "            train_df, val_df = train_test_split(tmp_train_df, test_size=0.2, stratify=tmp_train_df['quantotypic'], random_state=42)\n",
    "\n",
    "            if oversampling:\n",
    "                train_df = utils.balance_classes_with_oversampling(train_df)\n",
    "\n",
    "            pos_weight = compute_pos_weight(train_df, 'quantotypic') if weighting else None\n",
    "\n",
    "            model_mgr = ModelManager()\n",
    "            pretrained_model = model_mgr.rt_model\n",
    "\n",
    "            train_aa_indices_list, train_mod_x_list, train_labels_list = precompute_features(train_df, pretrained_model, model_name = 'RT')\n",
    "            validation_aa_indices_list, validation_mod_x_list, validation_labels_list = precompute_features(val_df, pretrained_model, model_name = 'RT')\n",
    "\n",
    "            train_dataset = RTPeptideDataset(train_aa_indices_list, train_mod_x_list, train_labels_list)\n",
    "            validation_dataset = RTPeptideDataset(validation_aa_indices_list, validation_mod_x_list, validation_labels_list)\n",
    "\n",
    "            train_loader = DataLoader(train_dataset, batch_size=BATCH_SIZE, shuffle=True, collate_fn=collate_batch)\n",
    "            validation_loader = DataLoader(validation_dataset, batch_size=BATCH_SIZE, shuffle=False, collate_fn=collate_batch)\n",
    "\n",
    "            best_model = None\n",
    "            best_history = None\n",
    "\n",
    "            # GridSearch for hyperparameters\n",
    "            config_count = 1\n",
    "            for LR in [0.0001, 0.001, 0.01, 0.1]:\n",
    "                for n_layers in [1, 2, 3]:\n",
    "                    for dropout in [0.2, 0.3]:\n",
    "                        for hidden_size, embed_size in [(64, 64), (128, 128)]:\n",
    "                            for n_epoch in [25, 50, 100]:\n",
    "                                print(f\"Testing config {config_count} on {4*3*2*2*3}\")\n",
    "                                config_count += 1\n",
    "\n",
    "                                # Loading the model\n",
    "                                model_mgr = ModelManager()\n",
    "                                pretrained_model = model_mgr.rt_model\n",
    "\n",
    "                                # Freeze the encoder if not fine-tuning\n",
    "                                for param in pretrained_model.model.rt_encoder.parameters():\n",
    "                                    param.requires_grad = FT\n",
    "\n",
    "                                # Initialize the model with the pretrained encoder\n",
    "                                model = RTPeptideModel(pretrained_model.model.rt_encoder, hidden_dim=hidden_size, dropout_prob=dropout, num_layers=n_layers)\n",
    "\n",
    "                                # wandb.init(\n",
    "                                #     project=\"MLP\",\n",
    "                                #     name=f\"MLP_Scratch_config_hyperparameters\",\n",
    "                                #     config={\n",
    "                                #         \"learning_rate\": LR,\n",
    "                                #         \"architecture\": \"MLP\",\n",
    "                                #         \"dataset\": \"SPARE\",\n",
    "                                #         \"epochs\": N_EPOCHS,\n",
    "                                #         \"Batch_size\": batch_size,\n",
    "                                #         \"Dropout\": dropout,\n",
    "                                #         \"Hidden_size\": hidden_size,\n",
    "                                #         \"Embedding_size\": embed_size,\n",
    "                                #         \"Number of layers\": n_layers,\n",
    "                                #         \"Oversampling\": oversampling,\n",
    "                                #         \"Weighting\": weighting,\n",
    "                                #         \"Early stopping\": do_early_stopping\n",
    "                                #     }\n",
    "                                # )\n",
    "\n",
    "\n",
    "                                # Train the model\n",
    "                                history = train(model, train_loader, validation_loader, n_epoch, LR, \"test\", do_early_stopping=do_early_stopping,\n",
    "                                                model_name='RT', weight=pos_weight)\n",
    "\n",
    "                                # Evaluate the model on the validation set\n",
    "                                best_model, best_history = compute_best(history, best_history, model, best_model)\n",
    "\n",
    "                                # wandb.finish()\n",
    "\n",
    "            print(\"\\n--------------------------------------Config Done--------------------------------------------\\n\")\n",
    "            # Evaluate the best model on the test set\n",
    "            results = evaluate_rt_model(best_model, test_df)\n",
    "\n",
    "            temp_results_list.append({\n",
    "                'accuracy': results['accuracy'],\n",
    "                'precision': results['precision'],\n",
    "                'recall': results['recall'],\n",
    "                'f1': results['f1'],\n",
    "                'roc_auc': results['roc_auc'],\n",
    "                'pr_auc': results['pr_auc']\n",
    "            })\n",
    "\n",
    "            wandb.init(project=\"RT\", name=f\"ValidProtocol_RT_Scratch_fold_{fold+1}\",\n",
    "                    config={\n",
    "                            \"weighting\": weighting,\n",
    "                            \"oversampling\": oversampling,\n",
    "                            \"early_stopping\": do_early_stopping,\n",
    "                            \"Fine tuning\": FT\n",
    "                    })\n",
    "\n",
    "            wandb.log(results)\n",
    "            wandb.finish()\n",
    "\n",
    "            # Save the best model\n",
    "            text = f\"{imbalanced_name_dict['Early Stopping'][do_early_stopping]}_{imbalanced_name_dict['Transfer Learning'][FT]}_{imbalanced_name_dict['Imbalance'][(weighting, oversampling)]}\"\n",
    "            filename = f\"Best_RT_{text}_cvfold{fold+1}\"\n",
    "            torch.save(best_model.state_dict(), f\"{models_path}/{filename}.pth\")\n",
    "\n",
    "        accuracy_list = [res['accuracy'] for res in temp_results_list]\n",
    "        precision_list = [res['precision'] for res in temp_results_list]\n",
    "        recall_list = [res['recall'] for res in temp_results_list]\n",
    "        f1_list = [res['f1'] for res in temp_results_list]\n",
    "        roc_auc_list = [res['roc_auc'] for res in temp_results_list]\n",
    "        pr_auc_list = [res['pr_auc'] for res in temp_results_list]\n",
    "\n",
    "        metrics_summary = {\n",
    "            'accuracy_mean': np.mean(accuracy_list),\n",
    "            'accuracy_std': np.std(accuracy_list),\n",
    "            'precision_mean': np.mean(precision_list),\n",
    "            'precision_std': np.std(precision_list),\n",
    "            'recall_mean': np.mean(recall_list),\n",
    "            'recall_std': np.std(recall_list),\n",
    "            'f1_mean': np.mean(f1_list),\n",
    "            'f1_std': np.std(f1_list),\n",
    "            'roc_auc_mean': np.mean(roc_auc_list),\n",
    "            'roc_auc_std': np.std(roc_auc_list),\n",
    "            'pr_auc_mean': np.mean(pr_auc_list),\n",
    "            'pr_auc_std': np.std(pr_auc_list),\n",
    "        }\n",
    "\n",
    "        wandb.init(project=\"RT\", name=f\"ValidProtocol_RT_Scratch_CrossValidation_Summary\",\n",
    "                config={\n",
    "                        \"weighting\": weighting,\n",
    "                        \"oversampling\": oversampling,\n",
    "                        \"early_stopping\": do_early_stopping,\n",
    "                        \"Fine tuning\": FT\n",
    "                })\n",
    "        wandb.log(metrics_summary)\n",
    "        wandb.finish()\n",
    "\n",
    "        dict_save = {\n",
    "            'weighting': weighting,\n",
    "            'oversampling': oversampling,\n",
    "            'early_stopping': do_early_stopping,\n",
    "            \"Fine tuning\": FT,\n",
    "            'metrics': metrics_summary\n",
    "        }\n",
    "\n",
    "        # Save the results into a JSON file\n",
    "        write_into_json(dict_save, f\"{results_path}/ValidProtocol_RT_Experiment_{count}.json\")\n",
    "        count += 1"
   ]
  },
  {
   "cell_type": "code",
   "execution_count": null,
   "metadata": {
    "id": "2QVNF8v6ou5M",
    "outputId": "dd44b8e5-7aa6-4064-f70f-719862f00677"
   },
   "outputs": [
    {
     "name": "stderr",
     "output_type": "stream",
     "text": [
      "c:\\Python310\\lib\\site-packages\\peptdeep\\model\\model_interface.py:731: FutureWarning: You are using `torch.load` with `weights_only=False` (the current default value), which uses the default pickle module implicitly. It is possible to construct malicious pickle data which will execute arbitrary code during unpickling (See https://github.com/pytorch/pytorch/blob/main/SECURITY.md#untrusted-models for more details). In a future release, the default value for `weights_only` will be flipped to `True`. This limits the functions that could be executed during unpickling. Arbitrary objects will no longer be allowed to be loaded via this mode unless they are explicitly allowlisted by the user via `torch.serialization.add_safe_globals`. We recommend you start setting `weights_only=True` for any use case where you don't have full control of the loaded file. Please open an issue on GitHub for any issues related to this experimental feature.\n",
      "  torch.load(stream, map_location=self.device), strict=False\n"
     ]
    },
    {
     "data": {
      "text/plain": [
       "['T_destination',\n",
       " '__annotations__',\n",
       " '__call__',\n",
       " '__class__',\n",
       " '__delattr__',\n",
       " '__dict__',\n",
       " '__dir__',\n",
       " '__doc__',\n",
       " '__eq__',\n",
       " '__format__',\n",
       " '__ge__',\n",
       " '__getattr__',\n",
       " '__getattribute__',\n",
       " '__getstate__',\n",
       " '__gt__',\n",
       " '__hash__',\n",
       " '__init__',\n",
       " '__init_subclass__',\n",
       " '__le__',\n",
       " '__lt__',\n",
       " '__module__',\n",
       " '__ne__',\n",
       " '__new__',\n",
       " '__reduce__',\n",
       " '__reduce_ex__',\n",
       " '__repr__',\n",
       " '__setattr__',\n",
       " '__setstate__',\n",
       " '__sizeof__',\n",
       " '__str__',\n",
       " '__subclasshook__',\n",
       " '__weakref__',\n",
       " '_apply',\n",
       " '_backward_hooks',\n",
       " '_backward_pre_hooks',\n",
       " '_buffers',\n",
       " '_call_impl',\n",
       " '_compiled_call_impl',\n",
       " '_forward_hooks',\n",
       " '_forward_hooks_always_called',\n",
       " '_forward_hooks_with_kwargs',\n",
       " '_forward_pre_hooks',\n",
       " '_forward_pre_hooks_with_kwargs',\n",
       " '_get_backward_hooks',\n",
       " '_get_backward_pre_hooks',\n",
       " '_get_name',\n",
       " '_is_full_backward_hook',\n",
       " '_load_from_state_dict',\n",
       " '_load_state_dict_post_hooks',\n",
       " '_load_state_dict_pre_hooks',\n",
       " '_maybe_warn_non_full_backward_hook',\n",
       " '_modules',\n",
       " '_named_members',\n",
       " '_non_persistent_buffers_set',\n",
       " '_parameters',\n",
       " '_register_load_state_dict_pre_hook',\n",
       " '_register_state_dict_hook',\n",
       " '_replicate_for_data_parallel',\n",
       " '_save_to_state_dict',\n",
       " '_slow_forward',\n",
       " '_state_dict_hooks',\n",
       " '_state_dict_pre_hooks',\n",
       " '_version',\n",
       " '_wrapped_call_impl',\n",
       " 'add_module',\n",
       " 'apply',\n",
       " 'attn_sum',\n",
       " 'bfloat16',\n",
       " 'buffers',\n",
       " 'call_super_init',\n",
       " 'children',\n",
       " 'compile',\n",
       " 'cpu',\n",
       " 'cuda',\n",
       " 'double',\n",
       " 'dump_patches',\n",
       " 'eval',\n",
       " 'extra_repr',\n",
       " 'float',\n",
       " 'forward',\n",
       " 'get_buffer',\n",
       " 'get_extra_state',\n",
       " 'get_parameter',\n",
       " 'get_submodule',\n",
       " 'half',\n",
       " 'hidden_nn',\n",
       " 'input_cnn',\n",
       " 'ipu',\n",
       " 'load_state_dict',\n",
       " 'mod_nn',\n",
       " 'modules',\n",
       " 'named_buffers',\n",
       " 'named_children',\n",
       " 'named_modules',\n",
       " 'named_parameters',\n",
       " 'parameters',\n",
       " 'register_backward_hook',\n",
       " 'register_buffer',\n",
       " 'register_forward_hook',\n",
       " 'register_forward_pre_hook',\n",
       " 'register_full_backward_hook',\n",
       " 'register_full_backward_pre_hook',\n",
       " 'register_load_state_dict_post_hook',\n",
       " 'register_module',\n",
       " 'register_parameter',\n",
       " 'register_state_dict_pre_hook',\n",
       " 'requires_grad_',\n",
       " 'set_extra_state',\n",
       " 'share_memory',\n",
       " 'state_dict',\n",
       " 'to',\n",
       " 'to_empty',\n",
       " 'train',\n",
       " 'training',\n",
       " 'type',\n",
       " 'xpu',\n",
       " 'zero_grad']"
      ]
     },
     "execution_count": 6,
     "metadata": {},
     "output_type": "execute_result"
    }
   ],
   "source": [
    "model_mgr = ModelManager()\n",
    "model_mgr.load_installed_models()\n",
    "pretrained_model = model_mgr.rt_model\n",
    "\n",
    "dir(pretrained_model.model.rt_encoder)"
   ]
  },
  {
   "cell_type": "code",
   "execution_count": null,
   "metadata": {
    "id": "_hM9m0cxou5M",
    "outputId": "23530c87-c32e-4089-c1ba-dff79272c1f8"
   },
   "outputs": [
    {
     "name": "stdout",
     "output_type": "stream",
     "text": [
      "Encoder_26AA_Mod_CNN_LSTM_AttnSum(\n",
      "  (mod_nn): Mod_Embedding_FixFirstK(\n",
      "    (nn): Linear(in_features=103, out_features=2, bias=False)\n",
      "  )\n",
      "  (input_cnn): SeqCNN(\n",
      "    (cnn_short): Conv1d(35, 35, kernel_size=(3,), stride=(1,), padding=(1,))\n",
      "    (cnn_medium): Conv1d(35, 35, kernel_size=(5,), stride=(1,), padding=(2,))\n",
      "    (cnn_long): Conv1d(35, 35, kernel_size=(7,), stride=(1,), padding=(3,))\n",
      "  )\n",
      "  (hidden_nn): SeqLSTM(\n",
      "    (rnn): LSTM(140, 128, num_layers=2, batch_first=True, bidirectional=True)\n",
      "  )\n",
      "  (attn_sum): SeqAttentionSum(\n",
      "    (attn): Sequential(\n",
      "      (0): Linear(in_features=256, out_features=1, bias=False)\n",
      "      (1): Softmax(dim=1)\n",
      "    )\n",
      "  )\n",
      ")\n"
     ]
    }
   ],
   "source": [
    "print(pretrained_model.model.rt_encoder)"
   ]
  },
  {
   "cell_type": "code",
   "execution_count": null,
   "metadata": {
    "id": "-1vZTmHZou5N",
    "outputId": "c37bde8c-6d3a-4542-9d93-12631e161db5"
   },
   "outputs": [
    {
     "name": "stdout",
     "output_type": "stream",
     "text": [
      "Model_RT_LSTM_CNN(\n",
      "  (dropout): Dropout(p=0.1, inplace=False)\n",
      "  (rt_encoder): Encoder_26AA_Mod_CNN_LSTM_AttnSum(\n",
      "    (mod_nn): Mod_Embedding_FixFirstK(\n",
      "      (nn): Linear(in_features=103, out_features=2, bias=False)\n",
      "    )\n",
      "    (input_cnn): SeqCNN(\n",
      "      (cnn_short): Conv1d(35, 35, kernel_size=(3,), stride=(1,), padding=(1,))\n",
      "      (cnn_medium): Conv1d(35, 35, kernel_size=(5,), stride=(1,), padding=(2,))\n",
      "      (cnn_long): Conv1d(35, 35, kernel_size=(7,), stride=(1,), padding=(3,))\n",
      "    )\n",
      "    (hidden_nn): SeqLSTM(\n",
      "      (rnn): LSTM(140, 128, num_layers=2, batch_first=True, bidirectional=True)\n",
      "    )\n",
      "    (attn_sum): SeqAttentionSum(\n",
      "      (attn): Sequential(\n",
      "        (0): Linear(in_features=256, out_features=1, bias=False)\n",
      "        (1): Softmax(dim=1)\n",
      "      )\n",
      "    )\n",
      "  )\n",
      "  (rt_decoder): Decoder_Linear(\n",
      "    (nn): Sequential(\n",
      "      (0): Linear(in_features=256, out_features=64, bias=True)\n",
      "      (1): PReLU(num_parameters=1)\n",
      "      (2): Linear(in_features=64, out_features=1, bias=True)\n",
      "    )\n",
      "  )\n",
      ")\n"
     ]
    }
   ],
   "source": [
    "print(pretrained_model.model)"
   ]
  },
  {
   "cell_type": "code",
   "execution_count": null,
   "metadata": {
    "id": "aTS0qnLuou5N",
    "outputId": "4ddc8df6-6c5f-4609-cfea-2f22748acb87"
   },
   "outputs": [
    {
     "data": {
      "text/plain": [
       "['__class__',\n",
       " '__delattr__',\n",
       " '__dict__',\n",
       " '__dir__',\n",
       " '__doc__',\n",
       " '__eq__',\n",
       " '__format__',\n",
       " '__ge__',\n",
       " '__getattribute__',\n",
       " '__gt__',\n",
       " '__hash__',\n",
       " '__init__',\n",
       " '__init_subclass__',\n",
       " '__le__',\n",
       " '__lt__',\n",
       " '__module__',\n",
       " '__ne__',\n",
       " '__new__',\n",
       " '__reduce__',\n",
       " '__reduce_ex__',\n",
       " '__repr__',\n",
       " '__setattr__',\n",
       " '__sizeof__',\n",
       " '__str__',\n",
       " '__subclasshook__',\n",
       " '__weakref__',\n",
       " '_as_tensor',\n",
       " '_check_predict_in_order',\n",
       " '_device',\n",
       " '_device_ids',\n",
       " '_device_type',\n",
       " '_fixed_sequence_len',\n",
       " '_get_26aa_indice_features',\n",
       " '_get_aa_features',\n",
       " '_get_aa_indice_features',\n",
       " '_get_aa_indice_features_padding_zeros',\n",
       " '_get_aa_mod_features',\n",
       " '_get_features_from_batch_df',\n",
       " '_get_lr_schedule_with_warmup',\n",
       " '_get_mod_features',\n",
       " '_get_targets_from_batch_df',\n",
       " '_init_for_training',\n",
       " '_load_model_from_pytorchfile',\n",
       " '_load_model_from_stream',\n",
       " '_load_model_from_zipfile',\n",
       " '_min_pred_value',\n",
       " '_model_to_device',\n",
       " '_pad_zeros_if_fixed_len',\n",
       " '_predict_in_order',\n",
       " '_predict_one_batch',\n",
       " '_prepare_predict_data_df',\n",
       " '_prepare_train_data_df',\n",
       " '_prepare_training',\n",
       " '_save_codes',\n",
       " '_set_batch_predict_data',\n",
       " '_set_optimizer',\n",
       " '_target_column_to_predict',\n",
       " '_target_column_to_train',\n",
       " '_train_one_batch',\n",
       " '_train_one_epoch',\n",
       " '_train_one_epoch_by_padding_zeros',\n",
       " 'add_irt_column_to_precursor_df',\n",
       " 'build',\n",
       " 'build_from_py_codes',\n",
       " 'callback_handler',\n",
       " 'device',\n",
       " 'device_ids',\n",
       " 'device_type',\n",
       " 'fixed_sequence_len',\n",
       " 'get_parameter_num',\n",
       " 'load',\n",
       " 'loss_func',\n",
       " 'lr_scheduler_class',\n",
       " 'min_pred_value',\n",
       " 'model',\n",
       " 'model_params',\n",
       " 'optimizer',\n",
       " 'predict',\n",
       " 'predict_df',\n",
       " 'predict_mp',\n",
       " 'save',\n",
       " 'set_bert_trainable',\n",
       " 'set_callback_handler',\n",
       " 'set_device',\n",
       " 'set_layer_trainable',\n",
       " 'set_lr',\n",
       " 'set_lr_scheduler_class',\n",
       " 'target_column_to_predict',\n",
       " 'target_column_to_train',\n",
       " 'test',\n",
       " 'train',\n",
       " 'train_with_warmup']"
      ]
     },
     "execution_count": 18,
     "metadata": {},
     "output_type": "execute_result"
    }
   ],
   "source": [
    "dir(pretrained_model)"
   ]
  },
  {
   "cell_type": "code",
   "execution_count": null,
   "metadata": {
    "id": "14fvTVTGou5O",
    "outputId": "bbc0ad85-c910-459b-d758-8551eed2ac6e"
   },
   "outputs": [
    {
     "name": "stdout",
     "output_type": "stream",
     "text": [
      "{'fixed_sequence_len': 0, 'min_pred_value': 0.0, 'dropout': 0.1}\n"
     ]
    }
   ],
   "source": [
    "print(pretrained_model.model_params)"
   ]
  }
 ],
 "metadata": {
  "accelerator": "GPU",
  "colab": {
   "gpuType": "T4",
   "provenance": []
  },
  "kernelspec": {
   "display_name": "Python 3",
   "name": "python3"
  },
  "language_info": {
   "codemirror_mode": {
    "name": "ipython",
    "version": 3
   },
   "file_extension": ".py",
   "mimetype": "text/x-python",
   "name": "python",
   "nbconvert_exporter": "python",
   "pygments_lexer": "ipython3",
   "version": "3.10.6"
  }
 },
 "nbformat": 4,
 "nbformat_minor": 0
}
