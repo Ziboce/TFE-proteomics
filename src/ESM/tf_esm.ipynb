{
 "cells": [
  {
   "cell_type": "code",
   "execution_count": 2,
   "metadata": {
    "colab": {
     "base_uri": "https://localhost:8080/"
    },
    "executionInfo": {
     "elapsed": 8949,
     "status": "ok",
     "timestamp": 1740301226904,
     "user": {
      "displayName": "Jimmy Walraff",
      "userId": "17365452855707799727"
     },
     "user_tz": -60
    },
    "id": "aeb0uBex7Ps4",
    "outputId": "efff4355-ef35-475f-a6f7-827fddfb0c8a"
   },
   "outputs": [
    {
     "name": "stdout",
     "output_type": "stream",
     "text": [
      "Collecting fair-esm\n",
      "  Downloading fair_esm-2.0.0-py3-none-any.whl.metadata (37 kB)\n",
      "Downloading fair_esm-2.0.0-py3-none-any.whl (93 kB)\n",
      "\u001b[?25l   \u001b[90m━━━━━━━━━━━━━━━━━━━━━━━━━━━━━━━━━━━━━━━━\u001b[0m \u001b[32m0.0/93.1 kB\u001b[0m \u001b[31m?\u001b[0m eta \u001b[36m-:--:--\u001b[0m\r\u001b[2K   \u001b[90m━━━━━━━━━━━━━━━━━━━━━━━━━━━━━━━━━━━━━━━━\u001b[0m \u001b[32m93.1/93.1 kB\u001b[0m \u001b[31m4.1 MB/s\u001b[0m eta \u001b[36m0:00:00\u001b[0m\n",
      "\u001b[?25hInstalling collected packages: fair-esm\n",
      "Successfully installed fair-esm-2.0.0\n"
     ]
    }
   ],
   "source": [
    "!pip install fair-esm"
   ]
  },
  {
   "cell_type": "markdown",
   "metadata": {},
   "source": [
    "# Library import"
   ]
  },
  {
   "cell_type": "code",
   "execution_count": null,
   "metadata": {
    "colab": {
     "base_uri": "https://localhost:8080/"
    },
    "executionInfo": {
     "elapsed": 58071,
     "status": "ok",
     "timestamp": 1740301284978,
     "user": {
      "displayName": "Jimmy Walraff",
      "userId": "17365452855707799727"
     },
     "user_tz": -60
    },
    "id": "FndJBOhj7Lk_",
    "outputId": "819ce343-fc14-4b74-856c-e88ff86bea86"
   },
   "outputs": [
    {
     "name": "stdout",
     "output_type": "stream",
     "text": [
      "Mounted at /content/drive\n"
     ]
    }
   ],
   "source": [
    "import esm\n",
    "import pandas as pd\n",
    "import torch\n",
    "import torch.nn as nn\n",
    "import numpy as np\n",
    "from torch.utils.data import Dataset, DataLoader\n",
    "from sklearn.model_selection import train_test_split, StratifiedKFold\n",
    "from sklearn.metrics import accuracy_score, roc_auc_score, average_precision_score, precision_score, recall_score, f1_score\n",
    "\n",
    "import sys\n",
    "\n",
    "# from google.colab import drive # delete this line if not used on colab\n",
    "# drive.mount(\"/content/drive\", force_remount = True) # delete this line if not used on colab\n",
    "\n",
    "# sys.path.append(\"C:/Users/Walraff/OneDrive - Universite de Liege/Documents/Ulg/Master2/TFE/\")\n",
    "# sys.path.append(\"/content/drive/MyDrive/TFE/\")\n",
    "import utils\n",
    "\n",
    "import wandb"
   ]
  },
  {
   "cell_type": "code",
   "execution_count": 5,
   "metadata": {
    "colab": {
     "base_uri": "https://localhost:8080/"
    },
    "executionInfo": {
     "elapsed": 1330,
     "status": "ok",
     "timestamp": 1740301288856,
     "user": {
      "displayName": "Jimmy Walraff",
      "userId": "17365452855707799727"
     },
     "user_tz": -60
    },
    "id": "eF60BURa7LlD",
    "outputId": "165b5c83-fb1e-426c-f44d-c8445c67b527"
   },
   "outputs": [
    {
     "name": "stderr",
     "output_type": "stream",
     "text": [
      "Downloading: \"https://dl.fbaipublicfiles.com/fair-esm/models/esm2_t6_8M_UR50D.pt\" to /root/.cache/torch/hub/checkpoints/esm2_t6_8M_UR50D.pt\n",
      "Downloading: \"https://dl.fbaipublicfiles.com/fair-esm/regression/esm2_t6_8M_UR50D-contact-regression.pt\" to /root/.cache/torch/hub/checkpoints/esm2_t6_8M_UR50D-contact-regression.pt\n"
     ]
    },
    {
     "name": "stdout",
     "output_type": "stream",
     "text": [
      "ESM2(\n",
      "  (embed_tokens): Embedding(33, 320, padding_idx=1)\n",
      "  (layers): ModuleList(\n",
      "    (0-5): 6 x TransformerLayer(\n",
      "      (self_attn): MultiheadAttention(\n",
      "        (k_proj): Linear(in_features=320, out_features=320, bias=True)\n",
      "        (v_proj): Linear(in_features=320, out_features=320, bias=True)\n",
      "        (q_proj): Linear(in_features=320, out_features=320, bias=True)\n",
      "        (out_proj): Linear(in_features=320, out_features=320, bias=True)\n",
      "        (rot_emb): RotaryEmbedding()\n",
      "      )\n",
      "      (self_attn_layer_norm): LayerNorm((320,), eps=1e-05, elementwise_affine=True)\n",
      "      (fc1): Linear(in_features=320, out_features=1280, bias=True)\n",
      "      (fc2): Linear(in_features=1280, out_features=320, bias=True)\n",
      "      (final_layer_norm): LayerNorm((320,), eps=1e-05, elementwise_affine=True)\n",
      "    )\n",
      "  )\n",
      "  (contact_head): ContactPredictionHead(\n",
      "    (regression): Linear(in_features=120, out_features=1, bias=True)\n",
      "    (activation): Sigmoid()\n",
      "  )\n",
      "  (emb_layer_norm_after): LayerNorm((320,), eps=1e-05, elementwise_affine=True)\n",
      "  (lm_head): RobertaLMHead(\n",
      "    (dense): Linear(in_features=320, out_features=320, bias=True)\n",
      "    (layer_norm): LayerNorm((320,), eps=1e-05, elementwise_affine=True)\n",
      "  )\n",
      ")\n",
      "\n"
     ]
    }
   ],
   "source": [
    "# Load the pretrained model\n",
    "pretrained_model, alphabet = esm.pretrained.esm2_t6_8M_UR50D()\n",
    "\n",
    "# Print the structure to confirm the components\n",
    "print(pretrained_model, end='\\n\\n')"
   ]
  },
  {
   "cell_type": "code",
   "execution_count": 6,
   "metadata": {
    "colab": {
     "base_uri": "https://localhost:8080/",
     "height": 424
    },
    "executionInfo": {
     "elapsed": 822,
     "status": "ok",
     "timestamp": 1740301289686,
     "user": {
      "displayName": "Jimmy Walraff",
      "userId": "17365452855707799727"
     },
     "user_tz": -60
    },
    "id": "Cu56rDL97LlE",
    "outputId": "e413e16f-7c21-4793-9819-ab705ffb34f8"
   },
   "outputs": [
    {
     "data": {
      "application/vnd.google.colaboratory.intrinsic+json": {
       "summary": "{\n  \"name\": \"original_df\",\n  \"rows\": 155,\n  \"fields\": [\n    {\n      \"column\": \"ProteinName_SPARE\",\n      \"properties\": {\n        \"dtype\": \"category\",\n        \"num_unique_values\": 46,\n        \"samples\": [\n          \"sp|P36955|PEDF_HUMAN\",\n          \"sp|P13671|CO6_HUMAN\",\n          \"sp|P07357|CO8A_HUMAN\"\n        ],\n        \"semantic_type\": \"\",\n        \"description\": \"\"\n      }\n    },\n    {\n      \"column\": \"Peptide_SPARE\",\n      \"properties\": {\n        \"dtype\": \"string\",\n        \"num_unique_values\": 155,\n        \"samples\": [\n          \"ALNHLPLEYNSALYSR\",\n          \"TLLVEAEGIEQEK\",\n          \"CYTAVVPLVYGGETK\"\n        ],\n        \"semantic_type\": \"\",\n        \"description\": \"\"\n      }\n    },\n    {\n      \"column\": \"Status_SPARE\",\n      \"properties\": {\n        \"dtype\": \"category\",\n        \"num_unique_values\": 2,\n        \"samples\": [\n          \"mauvais\",\n          \"bon\"\n        ],\n        \"semantic_type\": \"\",\n        \"description\": \"\"\n      }\n    }\n  ]\n}",
       "type": "dataframe",
       "variable_name": "original_df"
      },
      "text/html": [
       "\n",
       "  <div id=\"df-12bac11c-84b9-46d5-bc37-0664a6aa517e\" class=\"colab-df-container\">\n",
       "    <div>\n",
       "<style scoped>\n",
       "    .dataframe tbody tr th:only-of-type {\n",
       "        vertical-align: middle;\n",
       "    }\n",
       "\n",
       "    .dataframe tbody tr th {\n",
       "        vertical-align: top;\n",
       "    }\n",
       "\n",
       "    .dataframe thead th {\n",
       "        text-align: right;\n",
       "    }\n",
       "</style>\n",
       "<table border=\"1\" class=\"dataframe\">\n",
       "  <thead>\n",
       "    <tr style=\"text-align: right;\">\n",
       "      <th></th>\n",
       "      <th>ProteinName_SPARE</th>\n",
       "      <th>Peptide_SPARE</th>\n",
       "      <th>Status_SPARE</th>\n",
       "    </tr>\n",
       "  </thead>\n",
       "  <tbody>\n",
       "    <tr>\n",
       "      <th>0</th>\n",
       "      <td>sp|P02751|FINC_HUMAN</td>\n",
       "      <td>VDVIPVNLPGEHGQR</td>\n",
       "      <td>bon</td>\n",
       "    </tr>\n",
       "    <tr>\n",
       "      <th>1</th>\n",
       "      <td>sp|P02751|FINC_HUMAN</td>\n",
       "      <td>STTPDITGYR</td>\n",
       "      <td>bon</td>\n",
       "    </tr>\n",
       "    <tr>\n",
       "      <th>2</th>\n",
       "      <td>sp|P02751|FINC_HUMAN</td>\n",
       "      <td>SYTITGLQPGTDYK</td>\n",
       "      <td>bon</td>\n",
       "    </tr>\n",
       "    <tr>\n",
       "      <th>3</th>\n",
       "      <td>sp|P02751|FINC_HUMAN</td>\n",
       "      <td>IYLYTLNDNAR</td>\n",
       "      <td>bon</td>\n",
       "    </tr>\n",
       "    <tr>\n",
       "      <th>4</th>\n",
       "      <td>sp|P04114|APOB_HUMAN</td>\n",
       "      <td>TGISPLALIK</td>\n",
       "      <td>bon</td>\n",
       "    </tr>\n",
       "    <tr>\n",
       "      <th>...</th>\n",
       "      <td>...</td>\n",
       "      <td>...</td>\n",
       "      <td>...</td>\n",
       "    </tr>\n",
       "    <tr>\n",
       "      <th>150</th>\n",
       "      <td>sp|P02743|SAMP_HUMAN</td>\n",
       "      <td>VGEYSLYIGR</td>\n",
       "      <td>bon</td>\n",
       "    </tr>\n",
       "    <tr>\n",
       "      <th>151</th>\n",
       "      <td>sp|P04004|VTNC_HUMAN</td>\n",
       "      <td>GQYCYELDEK</td>\n",
       "      <td>mauvais</td>\n",
       "    </tr>\n",
       "    <tr>\n",
       "      <th>152</th>\n",
       "      <td>sp|P04004|VTNC_HUMAN</td>\n",
       "      <td>FEDGVLDPDYPR</td>\n",
       "      <td>bon</td>\n",
       "    </tr>\n",
       "    <tr>\n",
       "      <th>153</th>\n",
       "      <td>sp|P04004|VTNC_HUMAN</td>\n",
       "      <td>DWHGVPGQVDAAMAGR</td>\n",
       "      <td>bon</td>\n",
       "    </tr>\n",
       "    <tr>\n",
       "      <th>154</th>\n",
       "      <td>sp|P04004|VTNC_HUMAN</td>\n",
       "      <td>SIAQYWLGCPAPGHL</td>\n",
       "      <td>bon</td>\n",
       "    </tr>\n",
       "  </tbody>\n",
       "</table>\n",
       "<p>155 rows × 3 columns</p>\n",
       "</div>\n",
       "    <div class=\"colab-df-buttons\">\n",
       "\n",
       "  <div class=\"colab-df-container\">\n",
       "    <button class=\"colab-df-convert\" onclick=\"convertToInteractive('df-12bac11c-84b9-46d5-bc37-0664a6aa517e')\"\n",
       "            title=\"Convert this dataframe to an interactive table.\"\n",
       "            style=\"display:none;\">\n",
       "\n",
       "  <svg xmlns=\"http://www.w3.org/2000/svg\" height=\"24px\" viewBox=\"0 -960 960 960\">\n",
       "    <path d=\"M120-120v-720h720v720H120Zm60-500h600v-160H180v160Zm220 220h160v-160H400v160Zm0 220h160v-160H400v160ZM180-400h160v-160H180v160Zm440 0h160v-160H620v160ZM180-180h160v-160H180v160Zm440 0h160v-160H620v160Z\"/>\n",
       "  </svg>\n",
       "    </button>\n",
       "\n",
       "  <style>\n",
       "    .colab-df-container {\n",
       "      display:flex;\n",
       "      gap: 12px;\n",
       "    }\n",
       "\n",
       "    .colab-df-convert {\n",
       "      background-color: #E8F0FE;\n",
       "      border: none;\n",
       "      border-radius: 50%;\n",
       "      cursor: pointer;\n",
       "      display: none;\n",
       "      fill: #1967D2;\n",
       "      height: 32px;\n",
       "      padding: 0 0 0 0;\n",
       "      width: 32px;\n",
       "    }\n",
       "\n",
       "    .colab-df-convert:hover {\n",
       "      background-color: #E2EBFA;\n",
       "      box-shadow: 0px 1px 2px rgba(60, 64, 67, 0.3), 0px 1px 3px 1px rgba(60, 64, 67, 0.15);\n",
       "      fill: #174EA6;\n",
       "    }\n",
       "\n",
       "    .colab-df-buttons div {\n",
       "      margin-bottom: 4px;\n",
       "    }\n",
       "\n",
       "    [theme=dark] .colab-df-convert {\n",
       "      background-color: #3B4455;\n",
       "      fill: #D2E3FC;\n",
       "    }\n",
       "\n",
       "    [theme=dark] .colab-df-convert:hover {\n",
       "      background-color: #434B5C;\n",
       "      box-shadow: 0px 1px 3px 1px rgba(0, 0, 0, 0.15);\n",
       "      filter: drop-shadow(0px 1px 2px rgba(0, 0, 0, 0.3));\n",
       "      fill: #FFFFFF;\n",
       "    }\n",
       "  </style>\n",
       "\n",
       "    <script>\n",
       "      const buttonEl =\n",
       "        document.querySelector('#df-12bac11c-84b9-46d5-bc37-0664a6aa517e button.colab-df-convert');\n",
       "      buttonEl.style.display =\n",
       "        google.colab.kernel.accessAllowed ? 'block' : 'none';\n",
       "\n",
       "      async function convertToInteractive(key) {\n",
       "        const element = document.querySelector('#df-12bac11c-84b9-46d5-bc37-0664a6aa517e');\n",
       "        const dataTable =\n",
       "          await google.colab.kernel.invokeFunction('convertToInteractive',\n",
       "                                                    [key], {});\n",
       "        if (!dataTable) return;\n",
       "\n",
       "        const docLinkHtml = 'Like what you see? Visit the ' +\n",
       "          '<a target=\"_blank\" href=https://colab.research.google.com/notebooks/data_table.ipynb>data table notebook</a>'\n",
       "          + ' to learn more about interactive tables.';\n",
       "        element.innerHTML = '';\n",
       "        dataTable['output_type'] = 'display_data';\n",
       "        await google.colab.output.renderOutput(dataTable, element);\n",
       "        const docLink = document.createElement('div');\n",
       "        docLink.innerHTML = docLinkHtml;\n",
       "        element.appendChild(docLink);\n",
       "      }\n",
       "    </script>\n",
       "  </div>\n",
       "\n",
       "\n",
       "<div id=\"df-947a17e0-4f42-4dee-b98b-4a147b3aac98\">\n",
       "  <button class=\"colab-df-quickchart\" onclick=\"quickchart('df-947a17e0-4f42-4dee-b98b-4a147b3aac98')\"\n",
       "            title=\"Suggest charts\"\n",
       "            style=\"display:none;\">\n",
       "\n",
       "<svg xmlns=\"http://www.w3.org/2000/svg\" height=\"24px\"viewBox=\"0 0 24 24\"\n",
       "     width=\"24px\">\n",
       "    <g>\n",
       "        <path d=\"M19 3H5c-1.1 0-2 .9-2 2v14c0 1.1.9 2 2 2h14c1.1 0 2-.9 2-2V5c0-1.1-.9-2-2-2zM9 17H7v-7h2v7zm4 0h-2V7h2v10zm4 0h-2v-4h2v4z\"/>\n",
       "    </g>\n",
       "</svg>\n",
       "  </button>\n",
       "\n",
       "<style>\n",
       "  .colab-df-quickchart {\n",
       "      --bg-color: #E8F0FE;\n",
       "      --fill-color: #1967D2;\n",
       "      --hover-bg-color: #E2EBFA;\n",
       "      --hover-fill-color: #174EA6;\n",
       "      --disabled-fill-color: #AAA;\n",
       "      --disabled-bg-color: #DDD;\n",
       "  }\n",
       "\n",
       "  [theme=dark] .colab-df-quickchart {\n",
       "      --bg-color: #3B4455;\n",
       "      --fill-color: #D2E3FC;\n",
       "      --hover-bg-color: #434B5C;\n",
       "      --hover-fill-color: #FFFFFF;\n",
       "      --disabled-bg-color: #3B4455;\n",
       "      --disabled-fill-color: #666;\n",
       "  }\n",
       "\n",
       "  .colab-df-quickchart {\n",
       "    background-color: var(--bg-color);\n",
       "    border: none;\n",
       "    border-radius: 50%;\n",
       "    cursor: pointer;\n",
       "    display: none;\n",
       "    fill: var(--fill-color);\n",
       "    height: 32px;\n",
       "    padding: 0;\n",
       "    width: 32px;\n",
       "  }\n",
       "\n",
       "  .colab-df-quickchart:hover {\n",
       "    background-color: var(--hover-bg-color);\n",
       "    box-shadow: 0 1px 2px rgba(60, 64, 67, 0.3), 0 1px 3px 1px rgba(60, 64, 67, 0.15);\n",
       "    fill: var(--button-hover-fill-color);\n",
       "  }\n",
       "\n",
       "  .colab-df-quickchart-complete:disabled,\n",
       "  .colab-df-quickchart-complete:disabled:hover {\n",
       "    background-color: var(--disabled-bg-color);\n",
       "    fill: var(--disabled-fill-color);\n",
       "    box-shadow: none;\n",
       "  }\n",
       "\n",
       "  .colab-df-spinner {\n",
       "    border: 2px solid var(--fill-color);\n",
       "    border-color: transparent;\n",
       "    border-bottom-color: var(--fill-color);\n",
       "    animation:\n",
       "      spin 1s steps(1) infinite;\n",
       "  }\n",
       "\n",
       "  @keyframes spin {\n",
       "    0% {\n",
       "      border-color: transparent;\n",
       "      border-bottom-color: var(--fill-color);\n",
       "      border-left-color: var(--fill-color);\n",
       "    }\n",
       "    20% {\n",
       "      border-color: transparent;\n",
       "      border-left-color: var(--fill-color);\n",
       "      border-top-color: var(--fill-color);\n",
       "    }\n",
       "    30% {\n",
       "      border-color: transparent;\n",
       "      border-left-color: var(--fill-color);\n",
       "      border-top-color: var(--fill-color);\n",
       "      border-right-color: var(--fill-color);\n",
       "    }\n",
       "    40% {\n",
       "      border-color: transparent;\n",
       "      border-right-color: var(--fill-color);\n",
       "      border-top-color: var(--fill-color);\n",
       "    }\n",
       "    60% {\n",
       "      border-color: transparent;\n",
       "      border-right-color: var(--fill-color);\n",
       "    }\n",
       "    80% {\n",
       "      border-color: transparent;\n",
       "      border-right-color: var(--fill-color);\n",
       "      border-bottom-color: var(--fill-color);\n",
       "    }\n",
       "    90% {\n",
       "      border-color: transparent;\n",
       "      border-bottom-color: var(--fill-color);\n",
       "    }\n",
       "  }\n",
       "</style>\n",
       "\n",
       "  <script>\n",
       "    async function quickchart(key) {\n",
       "      const quickchartButtonEl =\n",
       "        document.querySelector('#' + key + ' button');\n",
       "      quickchartButtonEl.disabled = true;  // To prevent multiple clicks.\n",
       "      quickchartButtonEl.classList.add('colab-df-spinner');\n",
       "      try {\n",
       "        const charts = await google.colab.kernel.invokeFunction(\n",
       "            'suggestCharts', [key], {});\n",
       "      } catch (error) {\n",
       "        console.error('Error during call to suggestCharts:', error);\n",
       "      }\n",
       "      quickchartButtonEl.classList.remove('colab-df-spinner');\n",
       "      quickchartButtonEl.classList.add('colab-df-quickchart-complete');\n",
       "    }\n",
       "    (() => {\n",
       "      let quickchartButtonEl =\n",
       "        document.querySelector('#df-947a17e0-4f42-4dee-b98b-4a147b3aac98 button');\n",
       "      quickchartButtonEl.style.display =\n",
       "        google.colab.kernel.accessAllowed ? 'block' : 'none';\n",
       "    })();\n",
       "  </script>\n",
       "</div>\n",
       "\n",
       "  <div id=\"id_82ea64d4-84ab-4428-be0c-01d37f93dcb3\">\n",
       "    <style>\n",
       "      .colab-df-generate {\n",
       "        background-color: #E8F0FE;\n",
       "        border: none;\n",
       "        border-radius: 50%;\n",
       "        cursor: pointer;\n",
       "        display: none;\n",
       "        fill: #1967D2;\n",
       "        height: 32px;\n",
       "        padding: 0 0 0 0;\n",
       "        width: 32px;\n",
       "      }\n",
       "\n",
       "      .colab-df-generate:hover {\n",
       "        background-color: #E2EBFA;\n",
       "        box-shadow: 0px 1px 2px rgba(60, 64, 67, 0.3), 0px 1px 3px 1px rgba(60, 64, 67, 0.15);\n",
       "        fill: #174EA6;\n",
       "      }\n",
       "\n",
       "      [theme=dark] .colab-df-generate {\n",
       "        background-color: #3B4455;\n",
       "        fill: #D2E3FC;\n",
       "      }\n",
       "\n",
       "      [theme=dark] .colab-df-generate:hover {\n",
       "        background-color: #434B5C;\n",
       "        box-shadow: 0px 1px 3px 1px rgba(0, 0, 0, 0.15);\n",
       "        filter: drop-shadow(0px 1px 2px rgba(0, 0, 0, 0.3));\n",
       "        fill: #FFFFFF;\n",
       "      }\n",
       "    </style>\n",
       "    <button class=\"colab-df-generate\" onclick=\"generateWithVariable('original_df')\"\n",
       "            title=\"Generate code using this dataframe.\"\n",
       "            style=\"display:none;\">\n",
       "\n",
       "  <svg xmlns=\"http://www.w3.org/2000/svg\" height=\"24px\"viewBox=\"0 0 24 24\"\n",
       "       width=\"24px\">\n",
       "    <path d=\"M7,19H8.4L18.45,9,17,7.55,7,17.6ZM5,21V16.75L18.45,3.32a2,2,0,0,1,2.83,0l1.4,1.43a1.91,1.91,0,0,1,.58,1.4,1.91,1.91,0,0,1-.58,1.4L9.25,21ZM18.45,9,17,7.55Zm-12,3A5.31,5.31,0,0,0,4.9,8.1,5.31,5.31,0,0,0,1,6.5,5.31,5.31,0,0,0,4.9,4.9,5.31,5.31,0,0,0,6.5,1,5.31,5.31,0,0,0,8.1,4.9,5.31,5.31,0,0,0,12,6.5,5.46,5.46,0,0,0,6.5,12Z\"/>\n",
       "  </svg>\n",
       "    </button>\n",
       "    <script>\n",
       "      (() => {\n",
       "      const buttonEl =\n",
       "        document.querySelector('#id_82ea64d4-84ab-4428-be0c-01d37f93dcb3 button.colab-df-generate');\n",
       "      buttonEl.style.display =\n",
       "        google.colab.kernel.accessAllowed ? 'block' : 'none';\n",
       "\n",
       "      buttonEl.onclick = () => {\n",
       "        google.colab.notebook.generateWithVariable('original_df');\n",
       "      }\n",
       "      })();\n",
       "    </script>\n",
       "  </div>\n",
       "\n",
       "    </div>\n",
       "  </div>\n"
      ],
      "text/plain": [
       "        ProteinName_SPARE     Peptide_SPARE Status_SPARE\n",
       "0    sp|P02751|FINC_HUMAN   VDVIPVNLPGEHGQR          bon\n",
       "1    sp|P02751|FINC_HUMAN        STTPDITGYR          bon\n",
       "2    sp|P02751|FINC_HUMAN    SYTITGLQPGTDYK          bon\n",
       "3    sp|P02751|FINC_HUMAN       IYLYTLNDNAR          bon\n",
       "4    sp|P04114|APOB_HUMAN        TGISPLALIK          bon\n",
       "..                    ...               ...          ...\n",
       "150  sp|P02743|SAMP_HUMAN        VGEYSLYIGR          bon\n",
       "151  sp|P04004|VTNC_HUMAN        GQYCYELDEK      mauvais\n",
       "152  sp|P04004|VTNC_HUMAN      FEDGVLDPDYPR          bon\n",
       "153  sp|P04004|VTNC_HUMAN  DWHGVPGQVDAAMAGR          bon\n",
       "154  sp|P04004|VTNC_HUMAN   SIAQYWLGCPAPGHL          bon\n",
       "\n",
       "[155 rows x 3 columns]"
      ]
     },
     "execution_count": 6,
     "metadata": {},
     "output_type": "execute_result"
    }
   ],
   "source": [
    "# data_path = \"C:/Users/Walraff/OneDrive - Universite de Liege/Documents/Ulg/Master2/TFE/data\"\n",
    "data_path = \"/content/drive/MyDrive/TFE/\"\n",
    "original_df = pd.read_csv(f'{data_path}/final_status_SPARE.csv')\n",
    "original_df"
   ]
  },
  {
   "cell_type": "markdown",
   "metadata": {},
   "source": [
    "# Dataset, Model and loading data"
   ]
  },
  {
   "cell_type": "code",
   "execution_count": null,
   "metadata": {
    "colab": {
     "base_uri": "https://localhost:8080/"
    },
    "executionInfo": {
     "elapsed": 5,
     "status": "ok",
     "timestamp": 1740301289692,
     "user": {
      "displayName": "Jimmy Walraff",
      "userId": "17365452855707799727"
     },
     "user_tz": -60
    },
    "id": "CGezZgRQ7LlE",
    "outputId": "073cfd53-862c-44b0-e331-204d096a8f8f"
   },
   "outputs": [
    {
     "name": "stdout",
     "output_type": "stream",
     "text": [
      "Class counts:\n",
      " quantotypic\n",
      "0    117\n",
      "1     38\n",
      "Name: count, dtype: int64\n",
      "Pos weight (for class 1): tensor(3.0789, dtype=torch.float64)\n"
     ]
    }
   ],
   "source": [
    "# Creating a dataframe with the sequences and labels\n",
    "df = pd.DataFrame()\n",
    "df[\"sequence\"] = original_df[\"Peptide_SPARE\"]\n",
    "df[\"quantotypic\"] = original_df.apply(lambda row: 0 if row['Status_SPARE'] == 'bon' else 1, axis=1)\n",
    "\n",
    "class_counts = df['quantotypic'].value_counts()\n",
    "num_pos = class_counts.get(1, 0) \n",
    "num_neg = class_counts.get(0, 0)\n",
    "\n",
    "pos_weight = torch.tensor(num_neg / num_pos, dtype=torch.float64)\n",
    "\n",
    "# Affichage des résultats\n",
    "print(\"Class counts:\\n\", class_counts)\n",
    "print(\"Pos weight (for class 1):\", pos_weight)"
   ]
  },
  {
   "cell_type": "code",
   "execution_count": null,
   "metadata": {
    "executionInfo": {
     "elapsed": 3,
     "status": "ok",
     "timestamp": 1740301289696,
     "user": {
      "displayName": "Jimmy Walraff",
      "userId": "17365452855707799727"
     },
     "user_tz": -60
    },
    "id": "gXiITBhE7LlF"
   },
   "outputs": [],
   "source": [
    "class ESMPeptideDataset(Dataset):\n",
    "    \"\"\"\n",
    "    Custom Dataset for ESM-based models using peptide sequences.\n",
    "\n",
    "    Each sequence is returned as a tuple (ID, sequence), as expected by ESM's batch converter.\n",
    "\n",
    "    Args:\n",
    "        sequences (list of str): List of amino acid sequences.\n",
    "        labels (list or array-like): Corresponding labels for each sequence.\n",
    "    \"\"\"\n",
    "    def __init__(self, sequences, labels):\n",
    "        self.sequences = sequences\n",
    "        self.labels = labels\n",
    "\n",
    "    def __len__(self):\n",
    "        return len(self.sequences)\n",
    "\n",
    "    def __getitem__(self, idx):\n",
    "        \"\"\"Returns a tuple (ID, sequence) and the corresponding label.\"\"\"\n",
    "        seq = self.sequences[idx]\n",
    "        label = self.labels[idx]\n",
    "        data = (f'protein{idx}', seq)\n",
    "        return data, label\n"
   ]
  },
  {
   "cell_type": "code",
   "execution_count": null,
   "metadata": {
    "executionInfo": {
     "elapsed": 4,
     "status": "ok",
     "timestamp": 1740301289702,
     "user": {
      "displayName": "Jimmy Walraff",
      "userId": "17365452855707799727"
     },
     "user_tz": -60
    },
    "id": "9CK7Vw1R7LlF"
   },
   "outputs": [],
   "source": [
    "class ESMClassifier(nn.Module):\n",
    "    \"\"\"\n",
    "    Classifier built on top of a pretrained ESM model.\n",
    "\n",
    "    This model uses the [CLS] token embedding from the final representation layer\n",
    "    and passes it through a multi-layer perceptron for binary classification.\n",
    "\n",
    "    Args:\n",
    "        pretrained_model (nn.Module): A pretrained ESM model instance.\n",
    "        hidden_dim (int, optional): Dimension of the first hidden layer. Defaults to 128.\n",
    "        dropout_prob (float, optional): Dropout probability applied after each layer. Defaults to 0.3.\n",
    "        output_dim (int, optional): Dimension of the output layer. Defaults to 1 (for binary classification).\n",
    "        num_layers (int, optional): Number of hidden layers before the final output. Defaults to 3.\n",
    "    \"\"\"\n",
    "    def __init__(self, pretrained_model, hidden_dim=128, dropout_prob=0.3, output_dim=1, num_layers=3):\n",
    "        super(ESMClassifier, self).__init__()\n",
    "        self.esm = pretrained_model\n",
    "\n",
    "        layers = []\n",
    "        input_dim = self.esm.embed_dim\n",
    "        for _ in range(num_layers):\n",
    "            layers.append(nn.Linear(input_dim, hidden_dim))\n",
    "            layers.append(nn.ReLU())\n",
    "            layers.append(nn.Dropout(dropout_prob))\n",
    "            input_dim = hidden_dim\n",
    "            hidden_dim = max(hidden_dim // 2, 1)  # Prevents dimension from dropping to 0\n",
    "\n",
    "        layers.append(nn.Linear(input_dim, output_dim))\n",
    "        self.classifier = nn.Sequential(*layers)\n",
    "\n",
    "    def forward(self, tokens):\n",
    "        # Get token representations from the top ESM layer\n",
    "        outputs = self.esm(tokens, repr_layers=[6])\n",
    "        token_representations = outputs['representations'][6]\n",
    "\n",
    "        # Use the [CLS] token (first token) representation\n",
    "        cls_representation = token_representations[:, 0, :]\n",
    "\n",
    "        # Pass through classifier\n",
    "        logits = self.classifier(cls_representation)\n",
    "\n",
    "        return logits\n"
   ]
  },
  {
   "cell_type": "markdown",
   "metadata": {},
   "source": [
    "# Functions"
   ]
  },
  {
   "cell_type": "code",
   "execution_count": null,
   "metadata": {
    "executionInfo": {
     "elapsed": 3,
     "status": "ok",
     "timestamp": 1740301289707,
     "user": {
      "displayName": "Jimmy Walraff",
      "userId": "17365452855707799727"
     },
     "user_tz": -60
    },
    "id": "_vmhNEsT7LlG"
   },
   "outputs": [],
   "source": [
    "def early_stopping(val_losses, patience):\n",
    "    \"\"\"\n",
    "    Checks if the last 'patience' validation losses have increased or remained the same.\n",
    "\n",
    "    Args:\n",
    "        val_losses (list): List of validation losses.\n",
    "        patience (int): Number of consecutive epochs to check for lack of improvement.\n",
    "\n",
    "    Returns:\n",
    "        bool: True if the last 'patience' losses show no improvement, otherwise False.\n",
    "    \"\"\"\n",
    "    # Not enough values to apply the early stopping criterion\n",
    "    if len(val_losses) < patience + 1:\n",
    "        return False\n",
    "\n",
    "    # Check if each of the last 'patience' losses is greater than or equal to the previous one\n",
    "    for i in range(-patience, -1):\n",
    "        if val_losses[i] < val_losses[i + 1]:\n",
    "            continue\n",
    "        else:\n",
    "            return False\n",
    "\n",
    "    return True"
   ]
  },
  {
   "cell_type": "code",
   "execution_count": null,
   "metadata": {
    "executionInfo": {
     "elapsed": 168,
     "status": "ok",
     "timestamp": 1740301289877,
     "user": {
      "displayName": "Jimmy Walraff",
      "userId": "17365452855707799727"
     },
     "user_tz": -60
    },
    "id": "t1Kjvk977LlG"
   },
   "outputs": [],
   "source": [
    "def reordering(data, labels, batch_converter, device):\n",
    "    \"\"\"\n",
    "    Prepares and converts a batch of sequence data and labels for ESM-2 model input.\n",
    "\n",
    "    Args:\n",
    "        data (tuple): Tuple containing two lists (e.g., sequence names and sequences).\n",
    "        labels (torch.Tensor): Tensor of labels associated with each sequence.\n",
    "        batch_converter (callable): Function to convert (name, sequence) pairs into tokenized format.\n",
    "        device (torch.device): Device to move the tensors to (e.g., 'cuda' or 'cpu').\n",
    "\n",
    "    Returns:\n",
    "        tuple:\n",
    "            - batch_tokens (torch.Tensor): Tensor of tokenized sequences.\n",
    "            - batch_labels (torch.Tensor): Tensor of corresponding labels (shape: [batch_size]).\n",
    "    \"\"\"\n",
    "    # Reformat data into a list of (name, sequence) tuples\n",
    "    ReArrangeData = []\n",
    "    for i in range(len(data[0])):\n",
    "        ReArrangeData.append((data[0][i], data[1][i]))\n",
    "\n",
    "    # Move labels to device and ensure float format\n",
    "    labels = labels.float()\n",
    "    batch_labels = labels.to(device).unsqueeze(1)\n",
    "\n",
    "    # Convert sequences to tokens using the batch converter\n",
    "    batch_tokens = batch_converter(ReArrangeData)[2].to(device)\n",
    "\n",
    "    return batch_tokens, batch_labels.squeeze(1)\n",
    "\n",
    "def train_epoch(model, dataloader, optimizer, criterion, device, model_name='Scratch', batch_converter=None):\n",
    "    \"\"\"\n",
    "    Trains the model for a single epoch.\n",
    "\n",
    "    Args:\n",
    "        model (nn.Module): The model to train.\n",
    "        dataloader (DataLoader): DataLoader providing training data batches.\n",
    "        optimizer (torch.optim.Optimizer): Optimizer used for updating model weights.\n",
    "        criterion (nn.Module): Loss function to compute the training loss.\n",
    "        device (str or torch.device): Device on which computations are performed ('cuda' or 'cpu').\n",
    "        model_name (str): Specifies the model type (e.g., 'Scratch', 'ESM', 'RT', 'CCS').\n",
    "        batch_converter (callable, optional): Function used to convert ESM data batches.\n",
    "\n",
    "    Returns:\n",
    "        float: Mean training loss over the entire epoch.\n",
    "    \"\"\"\n",
    "    model.train()\n",
    "    train_losses = []\n",
    "\n",
    "    for batch in dataloader:\n",
    "        # Prepare inputs and targets based on the model type\n",
    "        if model_name == 'ESM':\n",
    "            X, y = batch\n",
    "            X, y = reordering(X, y, batch_converter, device)\n",
    "        elif model_name in ['RT', 'CCS']:\n",
    "            aa_idx, mod_x, y = batch\n",
    "            aa_idx, mod_x, y = aa_idx.to(device), mod_x.to(device), y.to(device)\n",
    "        else:\n",
    "            X, y = batch\n",
    "            X, y = X.to(device), y.to(device)\n",
    "\n",
    "        # Reset gradients\n",
    "        optimizer.zero_grad()\n",
    "\n",
    "        # Forward pass\n",
    "        if model_name in ['RT', 'CCS']:\n",
    "            output = model(aa_idx, mod_x).squeeze(1)\n",
    "        else:\n",
    "            output = model(X).squeeze(1)\n",
    "\n",
    "        # Compute loss\n",
    "        loss = criterion(output, y)\n",
    "\n",
    "        # Backward pass and optimizer step\n",
    "        loss.backward()\n",
    "        optimizer.step()\n",
    "\n",
    "        # Record the loss\n",
    "        train_losses.append(loss.item())\n",
    "    \n",
    "    # wandb.log({\"training_loss\": np.array(train_losses).mean()})\n",
    "\n",
    "    return np.mean(train_losses)\n",
    "\n",
    "def val_epoch(model, dataloader, criterion, device, threshold=0.5, model_name='Scratch', batch_converter=None):\n",
    "    \"\"\"\n",
    "    Validates the model for one epoch and computes evaluation metrics.\n",
    "\n",
    "    Args:\n",
    "        model (nn.Module): The model to evaluate.\n",
    "        dataloader (DataLoader): DataLoader providing validation data.\n",
    "        criterion (nn.Module): Loss function used for evaluation.\n",
    "        device (str or torch.device): Device on which computations are performed ('cuda' or 'cpu').\n",
    "        threshold (float, optional): Threshold for binary classification (applied to predicted probabilities). Defaults to 0.5.\n",
    "        model_name (str): Model type identifier (e.g., 'Scratch', 'ESM', 'RT', 'CCS').\n",
    "        batch_converter (callable, optional): Function for converting ESM batches into tokenized format.\n",
    "\n",
    "    Returns:\n",
    "        dict: Dictionary containing the following metrics:\n",
    "              - \"loss\": Mean validation loss.\n",
    "              - \"accuracy\": Classification accuracy.\n",
    "              - \"roc_auc\": Area under the ROC curve.\n",
    "              - \"pr_auc\": Area under the precision-recall curve.\n",
    "    \"\"\"\n",
    "    model.eval()\n",
    "    val_losses = []\n",
    "    all_targets = []\n",
    "    all_predictions = []\n",
    "    all_probabilities = []\n",
    "\n",
    "    with torch.no_grad():\n",
    "        for batch in dataloader:\n",
    "            # Prepare inputs and targets based on model type\n",
    "            if model_name == 'ESM':\n",
    "                X, y = batch\n",
    "                X, y = reordering(X, y, batch_converter, device)\n",
    "            elif model_name in ['RT', 'CCS']:\n",
    "                aa_idx, mod_x, y = batch\n",
    "                aa_idx, mod_x, y = aa_idx.to(device), mod_x.to(device), y.to(device)\n",
    "            else:\n",
    "                X, y = batch\n",
    "                X, y = X.to(device), y.to(device)\n",
    "\n",
    "            # Forward pass\n",
    "            if model_name in ['RT', 'CCS']:\n",
    "                output = model(aa_idx, mod_x).squeeze(1)\n",
    "            else:\n",
    "                output = model(X).squeeze(1)\n",
    "\n",
    "            probabilities = torch.sigmoid(output)  # Convert logits to probabilities\n",
    "            loss = criterion(output, y)\n",
    "            val_losses.append(loss.item())\n",
    "\n",
    "            # Threshold probabilities to get binary predictions\n",
    "            binary_output = (probabilities >= threshold).float()\n",
    "\n",
    "            # Store results\n",
    "            all_targets.extend(y.cpu().numpy())\n",
    "            all_predictions.extend(binary_output.cpu().numpy())\n",
    "            all_probabilities.extend(probabilities.cpu().numpy())\n",
    "\n",
    "    # Compute average loss and metrics\n",
    "    mean_loss = np.mean(val_losses)\n",
    "    accuracy = (np.array(all_predictions) == np.array(all_targets)).mean()\n",
    "    roc_auc = roc_auc_score(all_targets, all_probabilities) if len(np.unique(all_targets)) > 1 else 0.0\n",
    "    pr_auc = average_precision_score(all_targets, all_probabilities) if len(np.unique(all_targets)) > 1 else 0.0\n",
    "\n",
    "    # Log metrics with wandb\n",
    "    # wandb.log({\n",
    "    #     \"validation_loss\": mean_loss,\n",
    "    #     \"validation_accuracy\": accuracy,\n",
    "    #     \"validation_roc_auc\": roc_auc,\n",
    "    #     \"validation_pr_auc\": pr_auc,\n",
    "    # })\n",
    "\n",
    "    return {\n",
    "        \"loss\": mean_loss,\n",
    "        \"accuracy\": accuracy,\n",
    "        \"roc_auc\": roc_auc,\n",
    "        \"pr_auc\": pr_auc\n",
    "    }"
   ]
  },
  {
   "cell_type": "code",
   "execution_count": null,
   "metadata": {
    "executionInfo": {
     "elapsed": 2,
     "status": "ok",
     "timestamp": 1740301289881,
     "user": {
      "displayName": "Jimmy Walraff",
      "userId": "17365452855707799727"
     },
     "user_tz": -60
    },
    "id": "TpZdNYZm7LlH"
   },
   "outputs": [],
   "source": [
    "def train(model, train_loader, val_loader, n_epochs, lr, filename, threshold=0.5,\n",
    "          do_early_stopping=True, model_name='Scratch', batch_converter=None, weight=None):\n",
    "    \"\"\"\n",
    "    Trains the model over multiple epochs with validation after each epoch.\n",
    "\n",
    "    Args:\n",
    "        model (nn.Module): The model instance to train.\n",
    "        train_loader (DataLoader): DataLoader providing training data.\n",
    "        val_loader (DataLoader): DataLoader providing validation data.\n",
    "        n_epochs (int): Number of training epochs.\n",
    "        lr (float): Learning rate for the optimizer.\n",
    "        filename (str): File name to save the final model.\n",
    "        threshold (float, optional): Threshold for binary classification. Defaults to 0.5.\n",
    "        do_early_stopping (bool, optional): Whether to apply early stopping. Defaults to True.\n",
    "        model_name (str, optional): Identifier for model type (e.g., 'Scratch', 'ESM', 'RT', 'CCS').\n",
    "        batch_converter (callable, optional): Function to convert ESM batches into token format.\n",
    "        weight (torch.Tensor, optional): Weight for positive class in BCEWithLogitsLoss.\n",
    "\n",
    "    Returns:\n",
    "        dict: Training history containing:\n",
    "            - \"train_loss\": List of training losses per epoch.\n",
    "            - \"val_loss\": List of validation losses per epoch.\n",
    "            - \"val_accuracy\": List of validation accuracies.\n",
    "            - \"val_roc_auc\": List of ROC-AUC scores.\n",
    "            - \"val_pr_auc\": List of PR-AUC scores.\n",
    "    \"\"\"\n",
    "    device = \"cuda\" if torch.cuda.is_available() else \"cpu\"\n",
    "    torch.cuda.empty_cache()\n",
    "    model.to(device)\n",
    "\n",
    "    optimizer = torch.optim.Adam(model.parameters(), lr=lr)\n",
    "\n",
    "    if weight is not None:\n",
    "        criterion = nn.BCEWithLogitsLoss(pos_weight=weight)\n",
    "    else:\n",
    "        criterion = nn.BCEWithLogitsLoss()\n",
    "\n",
    "    history = {\n",
    "        \"train_loss\": [],\n",
    "        \"val_loss\": [],\n",
    "        \"val_accuracy\": [],\n",
    "        \"val_roc_auc\": [],\n",
    "        \"val_pr_auc\": [],\n",
    "    }\n",
    "\n",
    "    for epoch in range(n_epochs):\n",
    "        # Train for one epoch\n",
    "        train_loss = train_epoch(\n",
    "            model, train_loader, optimizer, criterion, device,\n",
    "            model_name=model_name, batch_converter=batch_converter\n",
    "        )\n",
    "\n",
    "        # Validate after each epoch\n",
    "        val_metrics = val_epoch(\n",
    "            model, val_loader, criterion, device, threshold,\n",
    "            model_name=model_name, batch_converter=batch_converter\n",
    "        )\n",
    "\n",
    "        # Record metrics\n",
    "        history[\"train_loss\"].append(train_loss)\n",
    "        history[\"val_loss\"].append(val_metrics[\"loss\"])\n",
    "        history[\"val_accuracy\"].append(val_metrics[\"accuracy\"])\n",
    "        history[\"val_roc_auc\"].append(val_metrics[\"roc_auc\"])\n",
    "        history[\"val_pr_auc\"].append(val_metrics[\"pr_auc\"])\n",
    "\n",
    "        # Early stopping\n",
    "        if early_stopping(history[\"val_loss\"], patience=5) and do_early_stopping:\n",
    "            print(f\"Early stopping triggered at epoch {epoch}.\")\n",
    "            break\n",
    "\n",
    "    # wandb.log({\"Early_stopping\": epoch})\n",
    "\n",
    "    return history"
   ]
  },
  {
   "cell_type": "code",
   "execution_count": null,
   "metadata": {
    "colab": {
     "base_uri": "https://localhost:8080/"
    },
    "executionInfo": {
     "elapsed": 521,
     "status": "ok",
     "timestamp": 1740301290403,
     "user": {
      "displayName": "Jimmy Walraff",
      "userId": "17365452855707799727"
     },
     "user_tz": -60
    },
    "id": "iuqNZWcG7LlH",
    "outputId": "72a6fa76-93c1-489b-867a-e9048e129cb9"
   },
   "outputs": [
    {
     "data": {
      "text/plain": [
       "tensor(3.0789, dtype=torch.float64)"
      ]
     },
     "execution_count": 13,
     "metadata": {},
     "output_type": "execute_result"
    }
   ],
   "source": [
    "def compute_pos_weight(df, target_column):\n",
    "    \"\"\"\n",
    "    Computes the pos_weight value for BCEWithLogitsLoss based on class imbalance.\n",
    "\n",
    "    Args:\n",
    "        df (pd.DataFrame): DataFrame containing the target labels.\n",
    "        target_column (str): Name of the column with binary class labels.\n",
    "\n",
    "    Returns:\n",
    "        torch.Tensor: A tensor representing the positive class weight for use in BCEWithLogitsLoss.\n",
    "                      If no positive samples are found, defaults to a weight of 1.0.\n",
    "    \"\"\"\n",
    "    class_counts = df[target_column].value_counts()\n",
    "\n",
    "    num_pos = class_counts.get(1, 0)  # Number of positive samples\n",
    "    num_neg = class_counts.get(0, 0)  # Number of negative samples\n",
    "\n",
    "    if num_pos == 0:\n",
    "        pos_weight = torch.tensor(1.0, dtype=torch.float64)\n",
    "    else:\n",
    "        pos_weight = torch.tensor(num_neg / num_pos, dtype=torch.float64)\n",
    "\n",
    "    return pos_weight\n",
    "\n",
    "compute_pos_weight(df, 'quantotypic')"
   ]
  },
  {
   "cell_type": "code",
   "execution_count": null,
   "metadata": {
    "executionInfo": {
     "elapsed": 2,
     "status": "ok",
     "timestamp": 1740301290406,
     "user": {
      "displayName": "Jimmy Walraff",
      "userId": "17365452855707799727"
     },
     "user_tz": -60
    },
    "id": "nrHL7cNC7LlH"
   },
   "outputs": [],
   "source": [
    "def compute_best(history, best_history, model, best_model):\n",
    "    \"\"\"\n",
    "    Compares the current model to the best model so far based on validation PR AUC,\n",
    "    and updates the best model and history if the current model performs better.\n",
    "\n",
    "    Args:\n",
    "        history (dict): Dictionary containing the current training and validation metrics.\n",
    "        best_history (dict): Dictionary containing the best validation metrics so far.\n",
    "        model (nn.Module): Current model instance.\n",
    "        best_model (nn.Module): Best model instance so far.\n",
    "\n",
    "    Returns:\n",
    "        tuple: Updated best model and its corresponding history.\n",
    "    \"\"\"\n",
    "    if best_history is None or (history[\"val_pr_auc\"][-1] > best_history[\"val_pr_auc\"][-1]):\n",
    "        best_model = model\n",
    "        best_history = history\n",
    "\n",
    "    return best_model, best_history\n",
    "\n",
    "def evaluate_esm_model(model, test_df, batch_converter = None):\n",
    "    \"\"\"\n",
    "    Evaluates a trained ESM-based model on the test set and returns classification metrics.\n",
    "\n",
    "    Args:\n",
    "        model (nn.Module): The trained ESM classifier model.\n",
    "        test_df (pd.DataFrame): DataFrame containing test peptide sequences and labels.\n",
    "        batch_converter (callable): Function that converts (ID, sequence) tuples to tokenized tensors (ESM-compatible).\n",
    "\n",
    "    Returns:\n",
    "        dict: Dictionary containing evaluation metrics:\n",
    "              - 'accuracy': Classification accuracy.\n",
    "              - 'precision': Precision score.\n",
    "              - 'recall': Recall score.\n",
    "              - 'f1': F1 score.\n",
    "              - 'roc_auc': ROC AUC score.\n",
    "              - 'pr_auc': Precision-Recall AUC score.\n",
    "    \"\"\"\n",
    "    device = \"cuda\" if torch.cuda.is_available() else \"cpu\" # Get the device\n",
    "    model.eval()\n",
    "    model.to(device)\n",
    "\n",
    "    sequences = test_df[\"sequence\"].values\n",
    "    labels = test_df[\"quantotypic\"].values\n",
    "\n",
    "    test_dataset = ESMPeptideDataset(sequences, labels)\n",
    "    test_loader = DataLoader(test_dataset, batch_size=32, shuffle=False)\n",
    "\n",
    "    all_preds = []\n",
    "    all_targets = []\n",
    "\n",
    "    with torch.no_grad():\n",
    "        for X, y in test_loader:\n",
    "            X, y = reordering(X, y, batch_converter, device)\n",
    "            X, y = X.to(device), y.to(device)\n",
    "            outputs = model(X).squeeze(1)\n",
    "            preds = torch.sigmoid(outputs).cpu().numpy()\n",
    "            all_preds.extend(preds)\n",
    "            all_targets.extend(y.cpu().numpy())\n",
    "\n",
    "    all_preds = np.array(all_preds).flatten()\n",
    "    all_targets = np.array(all_targets)\n",
    "\n",
    "    predicted_classes = (all_preds >= 0.5).astype(int)\n",
    "\n",
    "    accuracy = accuracy_score(all_targets, predicted_classes)\n",
    "    precision = precision_score(all_targets, predicted_classes)\n",
    "    recall = recall_score(all_targets, predicted_classes)\n",
    "    f1 = f1_score(all_targets, predicted_classes)\n",
    "    roc_auc = roc_auc_score(all_targets, all_preds)\n",
    "    pr_auc = average_precision_score(all_targets, all_preds)\n",
    "\n",
    "    return {\n",
    "        'accuracy': accuracy,\n",
    "        'precision': precision,\n",
    "        'recall': recall,\n",
    "        'f1': f1,\n",
    "        'roc_auc': roc_auc,\n",
    "        'pr_auc': pr_auc\n",
    "    }\n",
    "\n",
    "def write_into_json(dict, filename):\n",
    "    import json\n",
    "    with open(filename, 'w') as f:\n",
    "        json.dump(dict, f)"
   ]
  },
  {
   "cell_type": "markdown",
   "metadata": {},
   "source": [
    "# Training"
   ]
  },
  {
   "cell_type": "code",
   "execution_count": null,
   "metadata": {
    "colab": {
     "base_uri": "https://localhost:8080/",
     "height": 1000,
     "referenced_widgets": [
      "fd59e3d3ddcc4fd0badbf9d3bfa06776",
      "e695209cb3a14fa7af50d8d47dcdf1c8",
      "38beda4976514fc699811e13043ca778",
      "1fc0a8d6a7a545989549847f285bf6c3",
      "f3f950dddee54c93aaf1157931d7fbc4",
      "276e0eb5546c422fb267f42be20bded7",
      "097dc40e2d964bef8e258004c0ad9f13",
      "a8998c3587034fc9b2c34c066a024624"
     ]
    },
    "id": "es45bfvb7LlI",
    "outputId": "743bd1a3-544a-4406-ed84-560958b8445b"
   },
   "outputs": [
    {
     "name": "stdout",
     "output_type": "stream",
     "text": [
      "Fold 1 on 5\n",
      "Testing config 1 on 144\n",
      "Testing config 2 on 144\n",
      "Testing config 3 on 144\n",
      "Testing config 4 on 144\n",
      "Testing config 5 on 144\n",
      "Testing config 6 on 144\n",
      "Testing config 7 on 144\n",
      "Testing config 8 on 144\n",
      "Testing config 9 on 144\n",
      "Testing config 10 on 144\n",
      "Testing config 11 on 144\n",
      "Testing config 12 on 144\n",
      "Testing config 13 on 144\n",
      "Testing config 14 on 144\n",
      "Testing config 15 on 144\n",
      "Testing config 16 on 144\n",
      "Testing config 17 on 144\n",
      "Testing config 18 on 144\n",
      "Testing config 19 on 144\n",
      "Testing config 20 on 144\n",
      "Testing config 21 on 144\n",
      "Testing config 22 on 144\n",
      "Testing config 23 on 144\n",
      "Testing config 24 on 144\n",
      "Testing config 25 on 144\n",
      "Testing config 26 on 144\n",
      "Testing config 27 on 144\n",
      "Testing config 28 on 144\n",
      "Testing config 29 on 144\n",
      "Testing config 30 on 144\n",
      "Testing config 31 on 144\n",
      "Testing config 32 on 144\n",
      "Testing config 33 on 144\n",
      "Testing config 34 on 144\n",
      "Testing config 35 on 144\n",
      "Testing config 36 on 144\n",
      "Testing config 37 on 144\n",
      "Testing config 38 on 144\n",
      "Testing config 39 on 144\n",
      "Testing config 40 on 144\n",
      "Testing config 41 on 144\n",
      "Testing config 42 on 144\n",
      "Testing config 43 on 144\n",
      "Testing config 44 on 144\n",
      "Testing config 45 on 144\n",
      "Testing config 46 on 144\n",
      "Testing config 47 on 144\n",
      "Testing config 48 on 144\n",
      "Testing config 49 on 144\n",
      "Testing config 50 on 144\n",
      "Testing config 51 on 144\n",
      "Testing config 52 on 144\n",
      "Testing config 53 on 144\n",
      "Testing config 54 on 144\n",
      "Testing config 55 on 144\n",
      "Testing config 56 on 144\n",
      "Testing config 57 on 144\n",
      "Testing config 58 on 144\n",
      "Testing config 59 on 144\n",
      "Testing config 60 on 144\n",
      "Testing config 61 on 144\n",
      "Testing config 62 on 144\n",
      "Testing config 63 on 144\n",
      "Testing config 64 on 144\n",
      "Testing config 65 on 144\n",
      "Testing config 66 on 144\n",
      "Testing config 67 on 144\n",
      "Testing config 68 on 144\n",
      "Testing config 69 on 144\n",
      "Testing config 70 on 144\n",
      "Testing config 71 on 144\n",
      "Testing config 72 on 144\n",
      "Testing config 73 on 144\n",
      "Testing config 74 on 144\n",
      "Testing config 75 on 144\n",
      "Testing config 76 on 144\n",
      "Testing config 77 on 144\n",
      "Testing config 78 on 144\n",
      "Testing config 79 on 144\n",
      "Testing config 80 on 144\n",
      "Testing config 81 on 144\n",
      "Testing config 82 on 144\n",
      "Testing config 83 on 144\n",
      "Testing config 84 on 144\n",
      "Testing config 85 on 144\n",
      "Testing config 86 on 144\n",
      "Testing config 87 on 144\n",
      "Testing config 88 on 144\n",
      "Testing config 89 on 144\n",
      "Testing config 90 on 144\n",
      "Testing config 91 on 144\n",
      "Testing config 92 on 144\n",
      "Testing config 93 on 144\n",
      "Testing config 94 on 144\n",
      "Testing config 95 on 144\n",
      "Testing config 96 on 144\n",
      "Testing config 97 on 144\n",
      "Testing config 98 on 144\n",
      "Testing config 99 on 144\n",
      "Testing config 100 on 144\n",
      "Testing config 101 on 144\n",
      "Testing config 102 on 144\n",
      "Testing config 103 on 144\n",
      "Testing config 104 on 144\n",
      "Testing config 105 on 144\n",
      "Testing config 106 on 144\n",
      "Testing config 107 on 144\n",
      "Testing config 108 on 144\n",
      "Testing config 109 on 144\n",
      "Testing config 110 on 144\n",
      "Testing config 111 on 144\n",
      "Testing config 112 on 144\n",
      "Testing config 113 on 144\n",
      "Testing config 114 on 144\n",
      "Testing config 115 on 144\n",
      "Testing config 116 on 144\n",
      "Testing config 117 on 144\n",
      "Testing config 118 on 144\n",
      "Testing config 119 on 144\n",
      "Testing config 120 on 144\n",
      "Testing config 121 on 144\n",
      "Testing config 122 on 144\n",
      "Testing config 123 on 144\n",
      "Testing config 124 on 144\n",
      "Testing config 125 on 144\n",
      "Testing config 126 on 144\n",
      "Testing config 127 on 144\n",
      "Testing config 128 on 144\n",
      "Testing config 129 on 144\n",
      "Testing config 130 on 144\n",
      "Testing config 131 on 144\n",
      "Testing config 132 on 144\n",
      "Testing config 133 on 144\n",
      "Testing config 134 on 144\n",
      "Testing config 135 on 144\n",
      "Testing config 136 on 144\n",
      "Testing config 137 on 144\n",
      "Testing config 138 on 144\n",
      "Testing config 139 on 144\n",
      "Testing config 140 on 144\n",
      "Testing config 141 on 144\n",
      "Testing config 142 on 144\n",
      "Testing config 143 on 144\n",
      "Testing config 144 on 144\n",
      "\n",
      "--------------------------------------Config Done--------------------------------------------\n",
      "\n"
     ]
    },
    {
     "name": "stderr",
     "output_type": "stream",
     "text": [
      "/usr/local/lib/python3.11/dist-packages/sklearn/metrics/_classification.py:1565: UndefinedMetricWarning: Precision is ill-defined and being set to 0.0 due to no predicted samples. Use `zero_division` parameter to control this behavior.\n",
      "  _warn_prf(average, modifier, f\"{metric.capitalize()} is\", len(result))\n",
      "\u001b[34m\u001b[1mwandb\u001b[0m: Currently logged in as: \u001b[33mjimmy-walraff02\u001b[0m (\u001b[33mTFE-proteomics\u001b[0m) to \u001b[32mhttps://api.wandb.ai\u001b[0m. Use \u001b[1m`wandb login --relogin`\u001b[0m to force relogin\n",
      "\u001b[34m\u001b[1mwandb\u001b[0m: Using wandb-core as the SDK backend.  Please refer to https://wandb.me/wandb-core for more information.\n"
     ]
    },
    {
     "data": {
      "text/html": [
       "Tracking run with wandb version 0.19.6"
      ],
      "text/plain": [
       "<IPython.core.display.HTML object>"
      ]
     },
     "metadata": {},
     "output_type": "display_data"
    },
    {
     "data": {
      "text/html": [
       "Run data is saved locally in <code>/content/wandb/run-20250222_094747-yy98avmp</code>"
      ],
      "text/plain": [
       "<IPython.core.display.HTML object>"
      ]
     },
     "metadata": {},
     "output_type": "display_data"
    },
    {
     "data": {
      "text/html": [
       "Syncing run <strong><a href='https://wandb.ai/TFE-proteomics/ESM/runs/yy98avmp' target=\"_blank\">ValidProtocol_ESM_fold_1</a></strong> to <a href='https://wandb.ai/TFE-proteomics/ESM' target=\"_blank\">Weights & Biases</a> (<a href='https://wandb.me/developer-guide' target=\"_blank\">docs</a>)<br>"
      ],
      "text/plain": [
       "<IPython.core.display.HTML object>"
      ]
     },
     "metadata": {},
     "output_type": "display_data"
    },
    {
     "data": {
      "text/html": [
       " View project at <a href='https://wandb.ai/TFE-proteomics/ESM' target=\"_blank\">https://wandb.ai/TFE-proteomics/ESM</a>"
      ],
      "text/plain": [
       "<IPython.core.display.HTML object>"
      ]
     },
     "metadata": {},
     "output_type": "display_data"
    },
    {
     "data": {
      "text/html": [
       " View run at <a href='https://wandb.ai/TFE-proteomics/ESM/runs/yy98avmp' target=\"_blank\">https://wandb.ai/TFE-proteomics/ESM/runs/yy98avmp</a>"
      ],
      "text/plain": [
       "<IPython.core.display.HTML object>"
      ]
     },
     "metadata": {},
     "output_type": "display_data"
    },
    {
     "data": {
      "text/html": [],
      "text/plain": [
       "<IPython.core.display.HTML object>"
      ]
     },
     "metadata": {},
     "output_type": "display_data"
    },
    {
     "data": {
      "text/html": [
       "<br>    <style><br>        .wandb-row {<br>            display: flex;<br>            flex-direction: row;<br>            flex-wrap: wrap;<br>            justify-content: flex-start;<br>            width: 100%;<br>        }<br>        .wandb-col {<br>            display: flex;<br>            flex-direction: column;<br>            flex-basis: 100%;<br>            flex: 1;<br>            padding: 10px;<br>        }<br>    </style><br><div class=\"wandb-row\"><div class=\"wandb-col\"><h3>Run history:</h3><br/><table class=\"wandb\"><tr><td>accuracy</td><td>▁</td></tr><tr><td>f1</td><td>▁</td></tr><tr><td>pr_auc</td><td>▁</td></tr><tr><td>precision</td><td>▁</td></tr><tr><td>recall</td><td>▁</td></tr><tr><td>roc_auc</td><td>▁</td></tr></table><br/></div><div class=\"wandb-col\"><h3>Run summary:</h3><br/><table class=\"wandb\"><tr><td>accuracy</td><td>0.77419</td></tr><tr><td>f1</td><td>0</td></tr><tr><td>pr_auc</td><td>0.23046</td></tr><tr><td>precision</td><td>0</td></tr><tr><td>recall</td><td>0</td></tr><tr><td>roc_auc</td><td>0.49405</td></tr></table><br/></div></div>"
      ],
      "text/plain": [
       "<IPython.core.display.HTML object>"
      ]
     },
     "metadata": {},
     "output_type": "display_data"
    },
    {
     "data": {
      "text/html": [
       " View run <strong style=\"color:#cdcd00\">ValidProtocol_ESM_fold_1</strong> at: <a href='https://wandb.ai/TFE-proteomics/ESM/runs/yy98avmp' target=\"_blank\">https://wandb.ai/TFE-proteomics/ESM/runs/yy98avmp</a><br> View project at: <a href='https://wandb.ai/TFE-proteomics/ESM' target=\"_blank\">https://wandb.ai/TFE-proteomics/ESM</a><br>Synced 5 W&B file(s), 0 media file(s), 0 artifact file(s) and 0 other file(s)"
      ],
      "text/plain": [
       "<IPython.core.display.HTML object>"
      ]
     },
     "metadata": {},
     "output_type": "display_data"
    },
    {
     "data": {
      "text/html": [
       "Find logs at: <code>./wandb/run-20250222_094747-yy98avmp/logs</code>"
      ],
      "text/plain": [
       "<IPython.core.display.HTML object>"
      ]
     },
     "metadata": {},
     "output_type": "display_data"
    },
    {
     "name": "stdout",
     "output_type": "stream",
     "text": [
      "Fold 2 on 5\n",
      "Testing config 1 on 144\n",
      "Testing config 2 on 144\n",
      "Testing config 3 on 144\n",
      "Testing config 4 on 144\n",
      "Testing config 5 on 144\n",
      "Testing config 6 on 144\n",
      "Testing config 7 on 144\n",
      "Testing config 8 on 144\n",
      "Testing config 9 on 144\n",
      "Testing config 10 on 144\n",
      "Testing config 11 on 144\n",
      "Testing config 12 on 144\n",
      "Testing config 13 on 144\n",
      "Testing config 14 on 144\n",
      "Testing config 15 on 144\n",
      "Testing config 16 on 144\n",
      "Testing config 17 on 144\n",
      "Testing config 18 on 144\n",
      "Testing config 19 on 144\n",
      "Testing config 20 on 144\n",
      "Testing config 21 on 144\n",
      "Testing config 22 on 144\n",
      "Testing config 23 on 144\n",
      "Testing config 24 on 144\n",
      "Testing config 25 on 144\n",
      "Testing config 26 on 144\n",
      "Testing config 27 on 144\n",
      "Testing config 28 on 144\n",
      "Testing config 29 on 144\n",
      "Testing config 30 on 144\n",
      "Testing config 31 on 144\n",
      "Testing config 32 on 144\n",
      "Testing config 33 on 144\n",
      "Testing config 34 on 144\n",
      "Testing config 35 on 144\n",
      "Testing config 36 on 144\n",
      "Testing config 37 on 144\n",
      "Testing config 38 on 144\n",
      "Testing config 39 on 144\n",
      "Testing config 40 on 144\n",
      "Testing config 41 on 144\n",
      "Testing config 42 on 144\n",
      "Testing config 43 on 144\n",
      "Testing config 44 on 144\n",
      "Testing config 45 on 144\n",
      "Testing config 46 on 144\n",
      "Testing config 47 on 144\n",
      "Testing config 48 on 144\n",
      "Testing config 49 on 144\n",
      "Testing config 50 on 144\n",
      "Testing config 51 on 144\n",
      "Testing config 52 on 144\n",
      "Testing config 53 on 144\n",
      "Testing config 54 on 144\n",
      "Testing config 55 on 144\n",
      "Testing config 56 on 144\n",
      "Testing config 57 on 144\n",
      "Testing config 58 on 144\n",
      "Testing config 59 on 144\n",
      "Testing config 60 on 144\n",
      "Testing config 61 on 144\n",
      "Testing config 62 on 144\n",
      "Testing config 63 on 144\n",
      "Testing config 64 on 144\n",
      "Testing config 65 on 144\n",
      "Testing config 66 on 144\n",
      "Testing config 67 on 144\n",
      "Testing config 68 on 144\n",
      "Testing config 69 on 144\n",
      "Testing config 70 on 144\n",
      "Testing config 71 on 144\n",
      "Testing config 72 on 144\n",
      "Testing config 73 on 144\n",
      "Testing config 74 on 144\n",
      "Testing config 75 on 144\n",
      "Testing config 76 on 144\n",
      "Testing config 77 on 144\n",
      "Testing config 78 on 144\n",
      "Testing config 79 on 144\n",
      "Testing config 80 on 144\n",
      "Testing config 81 on 144\n",
      "Testing config 82 on 144\n",
      "Testing config 83 on 144\n",
      "Testing config 84 on 144\n",
      "Testing config 85 on 144\n",
      "Testing config 86 on 144\n",
      "Testing config 87 on 144\n",
      "Testing config 88 on 144\n",
      "Testing config 89 on 144\n",
      "Testing config 90 on 144\n",
      "Testing config 91 on 144\n",
      "Testing config 92 on 144\n",
      "Testing config 93 on 144\n",
      "Testing config 94 on 144\n",
      "Testing config 95 on 144\n",
      "Testing config 96 on 144\n",
      "Testing config 97 on 144\n",
      "Testing config 98 on 144\n",
      "Testing config 99 on 144\n",
      "Testing config 100 on 144\n",
      "Testing config 101 on 144\n",
      "Testing config 102 on 144\n",
      "Testing config 103 on 144\n",
      "Testing config 104 on 144\n",
      "Testing config 105 on 144\n",
      "Testing config 106 on 144\n",
      "Testing config 107 on 144\n",
      "Testing config 108 on 144\n",
      "Testing config 109 on 144\n",
      "Testing config 110 on 144\n",
      "Testing config 111 on 144\n",
      "Testing config 112 on 144\n",
      "Testing config 113 on 144\n",
      "Testing config 114 on 144\n",
      "Testing config 115 on 144\n",
      "Testing config 116 on 144\n",
      "Testing config 117 on 144\n",
      "Testing config 118 on 144\n",
      "Testing config 119 on 144\n",
      "Testing config 120 on 144\n",
      "Testing config 121 on 144\n",
      "Testing config 122 on 144\n",
      "Testing config 123 on 144\n",
      "Testing config 124 on 144\n",
      "Testing config 125 on 144\n",
      "Testing config 126 on 144\n",
      "Testing config 127 on 144\n",
      "Testing config 128 on 144\n",
      "Testing config 129 on 144\n",
      "Testing config 130 on 144\n",
      "Testing config 131 on 144\n",
      "Testing config 132 on 144\n",
      "Testing config 133 on 144\n",
      "Testing config 134 on 144\n",
      "Testing config 135 on 144\n",
      "Testing config 136 on 144\n",
      "Testing config 137 on 144\n",
      "Testing config 138 on 144\n",
      "Testing config 139 on 144\n",
      "Testing config 140 on 144\n",
      "Testing config 141 on 144\n",
      "Testing config 142 on 144\n",
      "Testing config 143 on 144\n",
      "Testing config 144 on 144\n",
      "\n",
      "--------------------------------------Config Done--------------------------------------------\n",
      "\n"
     ]
    },
    {
     "name": "stderr",
     "output_type": "stream",
     "text": [
      "/usr/local/lib/python3.11/dist-packages/sklearn/metrics/_classification.py:1565: UndefinedMetricWarning: Precision is ill-defined and being set to 0.0 due to no predicted samples. Use `zero_division` parameter to control this behavior.\n",
      "  _warn_prf(average, modifier, f\"{metric.capitalize()} is\", len(result))\n"
     ]
    },
    {
     "data": {
      "text/html": [
       "Tracking run with wandb version 0.19.6"
      ],
      "text/plain": [
       "<IPython.core.display.HTML object>"
      ]
     },
     "metadata": {},
     "output_type": "display_data"
    },
    {
     "data": {
      "text/html": [
       "Run data is saved locally in <code>/content/wandb/run-20250222_095817-bh869dye</code>"
      ],
      "text/plain": [
       "<IPython.core.display.HTML object>"
      ]
     },
     "metadata": {},
     "output_type": "display_data"
    },
    {
     "data": {
      "text/html": [
       "Syncing run <strong><a href='https://wandb.ai/TFE-proteomics/ESM/runs/bh869dye' target=\"_blank\">ValidProtocol_ESM_fold_2</a></strong> to <a href='https://wandb.ai/TFE-proteomics/ESM' target=\"_blank\">Weights & Biases</a> (<a href='https://wandb.me/developer-guide' target=\"_blank\">docs</a>)<br>"
      ],
      "text/plain": [
       "<IPython.core.display.HTML object>"
      ]
     },
     "metadata": {},
     "output_type": "display_data"
    },
    {
     "data": {
      "text/html": [
       " View project at <a href='https://wandb.ai/TFE-proteomics/ESM' target=\"_blank\">https://wandb.ai/TFE-proteomics/ESM</a>"
      ],
      "text/plain": [
       "<IPython.core.display.HTML object>"
      ]
     },
     "metadata": {},
     "output_type": "display_data"
    },
    {
     "data": {
      "text/html": [
       " View run at <a href='https://wandb.ai/TFE-proteomics/ESM/runs/bh869dye' target=\"_blank\">https://wandb.ai/TFE-proteomics/ESM/runs/bh869dye</a>"
      ],
      "text/plain": [
       "<IPython.core.display.HTML object>"
      ]
     },
     "metadata": {},
     "output_type": "display_data"
    },
    {
     "data": {
      "text/html": [],
      "text/plain": [
       "<IPython.core.display.HTML object>"
      ]
     },
     "metadata": {},
     "output_type": "display_data"
    },
    {
     "data": {
      "text/html": [
       "<br>    <style><br>        .wandb-row {<br>            display: flex;<br>            flex-direction: row;<br>            flex-wrap: wrap;<br>            justify-content: flex-start;<br>            width: 100%;<br>        }<br>        .wandb-col {<br>            display: flex;<br>            flex-direction: column;<br>            flex-basis: 100%;<br>            flex: 1;<br>            padding: 10px;<br>        }<br>    </style><br><div class=\"wandb-row\"><div class=\"wandb-col\"><h3>Run history:</h3><br/><table class=\"wandb\"><tr><td>accuracy</td><td>▁</td></tr><tr><td>f1</td><td>▁</td></tr><tr><td>pr_auc</td><td>▁</td></tr><tr><td>precision</td><td>▁</td></tr><tr><td>recall</td><td>▁</td></tr><tr><td>roc_auc</td><td>▁</td></tr></table><br/></div><div class=\"wandb-col\"><h3>Run summary:</h3><br/><table class=\"wandb\"><tr><td>accuracy</td><td>0.77419</td></tr><tr><td>f1</td><td>0</td></tr><tr><td>pr_auc</td><td>0.29767</td></tr><tr><td>precision</td><td>0</td></tr><tr><td>recall</td><td>0</td></tr><tr><td>roc_auc</td><td>0.53571</td></tr></table><br/></div></div>"
      ],
      "text/plain": [
       "<IPython.core.display.HTML object>"
      ]
     },
     "metadata": {},
     "output_type": "display_data"
    },
    {
     "data": {
      "text/html": [
       " View run <strong style=\"color:#cdcd00\">ValidProtocol_ESM_fold_2</strong> at: <a href='https://wandb.ai/TFE-proteomics/ESM/runs/bh869dye' target=\"_blank\">https://wandb.ai/TFE-proteomics/ESM/runs/bh869dye</a><br> View project at: <a href='https://wandb.ai/TFE-proteomics/ESM' target=\"_blank\">https://wandb.ai/TFE-proteomics/ESM</a><br>Synced 5 W&B file(s), 0 media file(s), 0 artifact file(s) and 0 other file(s)"
      ],
      "text/plain": [
       "<IPython.core.display.HTML object>"
      ]
     },
     "metadata": {},
     "output_type": "display_data"
    },
    {
     "data": {
      "text/html": [
       "Find logs at: <code>./wandb/run-20250222_095817-bh869dye/logs</code>"
      ],
      "text/plain": [
       "<IPython.core.display.HTML object>"
      ]
     },
     "metadata": {},
     "output_type": "display_data"
    },
    {
     "name": "stdout",
     "output_type": "stream",
     "text": [
      "Fold 3 on 5\n",
      "Testing config 1 on 144\n",
      "Testing config 2 on 144\n",
      "Testing config 3 on 144\n",
      "Testing config 4 on 144\n",
      "Testing config 5 on 144\n",
      "Testing config 6 on 144\n",
      "Testing config 7 on 144\n",
      "Testing config 8 on 144\n",
      "Testing config 9 on 144\n",
      "Testing config 10 on 144\n",
      "Testing config 11 on 144\n",
      "Testing config 12 on 144\n",
      "Testing config 13 on 144\n",
      "Testing config 14 on 144\n",
      "Testing config 15 on 144\n",
      "Testing config 16 on 144\n",
      "Testing config 17 on 144\n",
      "Testing config 18 on 144\n",
      "Testing config 19 on 144\n",
      "Testing config 20 on 144\n",
      "Testing config 21 on 144\n",
      "Testing config 22 on 144\n",
      "Testing config 23 on 144\n",
      "Testing config 24 on 144\n",
      "Testing config 25 on 144\n",
      "Testing config 26 on 144\n",
      "Testing config 27 on 144\n",
      "Testing config 28 on 144\n",
      "Testing config 29 on 144\n",
      "Testing config 30 on 144\n",
      "Testing config 31 on 144\n",
      "Testing config 32 on 144\n",
      "Testing config 33 on 144\n",
      "Testing config 34 on 144\n",
      "Testing config 35 on 144\n",
      "Testing config 36 on 144\n",
      "Testing config 37 on 144\n",
      "Testing config 38 on 144\n",
      "Testing config 39 on 144\n",
      "Testing config 40 on 144\n",
      "Testing config 41 on 144\n",
      "Testing config 42 on 144\n",
      "Testing config 43 on 144\n",
      "Testing config 44 on 144\n",
      "Testing config 45 on 144\n",
      "Testing config 46 on 144\n",
      "Testing config 47 on 144\n",
      "Testing config 48 on 144\n",
      "Testing config 49 on 144\n",
      "Testing config 50 on 144\n",
      "Testing config 51 on 144\n",
      "Testing config 52 on 144\n",
      "Testing config 53 on 144\n",
      "Testing config 54 on 144\n",
      "Testing config 55 on 144\n",
      "Testing config 56 on 144\n",
      "Testing config 57 on 144\n",
      "Testing config 58 on 144\n",
      "Testing config 59 on 144\n",
      "Testing config 60 on 144\n",
      "Testing config 61 on 144\n",
      "Testing config 62 on 144\n",
      "Testing config 63 on 144\n",
      "Testing config 64 on 144\n",
      "Testing config 65 on 144\n",
      "Testing config 66 on 144\n",
      "Testing config 67 on 144\n",
      "Testing config 68 on 144\n",
      "Testing config 69 on 144\n",
      "Testing config 70 on 144\n",
      "Testing config 71 on 144\n",
      "Testing config 72 on 144\n",
      "Testing config 73 on 144\n",
      "Testing config 74 on 144\n",
      "Testing config 75 on 144\n",
      "Testing config 76 on 144\n",
      "Testing config 77 on 144\n",
      "Testing config 78 on 144\n",
      "Testing config 79 on 144\n",
      "Testing config 80 on 144\n",
      "Testing config 81 on 144\n",
      "Testing config 82 on 144\n",
      "Testing config 83 on 144\n",
      "Testing config 84 on 144\n",
      "Testing config 85 on 144\n",
      "Testing config 86 on 144\n",
      "Testing config 87 on 144\n",
      "Testing config 88 on 144\n",
      "Testing config 89 on 144\n",
      "Testing config 90 on 144\n",
      "Testing config 91 on 144\n",
      "Testing config 92 on 144\n",
      "Testing config 93 on 144\n",
      "Testing config 94 on 144\n",
      "Testing config 95 on 144\n",
      "Testing config 96 on 144\n",
      "Testing config 97 on 144\n",
      "Testing config 98 on 144\n",
      "Testing config 99 on 144\n",
      "Testing config 100 on 144\n",
      "Testing config 101 on 144\n",
      "Testing config 102 on 144\n",
      "Testing config 103 on 144\n",
      "Testing config 104 on 144\n",
      "Testing config 105 on 144\n",
      "Testing config 106 on 144\n",
      "Testing config 107 on 144\n",
      "Testing config 108 on 144\n",
      "Testing config 109 on 144\n",
      "Testing config 110 on 144\n",
      "Testing config 111 on 144\n",
      "Testing config 112 on 144\n",
      "Testing config 113 on 144\n",
      "Testing config 114 on 144\n",
      "Testing config 115 on 144\n",
      "Testing config 116 on 144\n",
      "Testing config 117 on 144\n",
      "Testing config 118 on 144\n",
      "Testing config 119 on 144\n",
      "Testing config 120 on 144\n",
      "Testing config 121 on 144\n",
      "Testing config 122 on 144\n",
      "Testing config 123 on 144\n",
      "Testing config 124 on 144\n",
      "Testing config 125 on 144\n",
      "Testing config 126 on 144\n",
      "Testing config 127 on 144\n",
      "Testing config 128 on 144\n",
      "Testing config 129 on 144\n",
      "Testing config 130 on 144\n",
      "Testing config 131 on 144\n",
      "Testing config 132 on 144\n",
      "Testing config 133 on 144\n",
      "Testing config 134 on 144\n",
      "Testing config 135 on 144\n",
      "Testing config 136 on 144\n",
      "Testing config 137 on 144\n",
      "Testing config 138 on 144\n",
      "Testing config 139 on 144\n",
      "Testing config 140 on 144\n",
      "Testing config 141 on 144\n",
      "Testing config 142 on 144\n",
      "Testing config 143 on 144\n",
      "Testing config 144 on 144\n",
      "\n",
      "--------------------------------------Config Done--------------------------------------------\n",
      "\n"
     ]
    },
    {
     "name": "stderr",
     "output_type": "stream",
     "text": [
      "/usr/local/lib/python3.11/dist-packages/sklearn/metrics/_classification.py:1565: UndefinedMetricWarning: Precision is ill-defined and being set to 0.0 due to no predicted samples. Use `zero_division` parameter to control this behavior.\n",
      "  _warn_prf(average, modifier, f\"{metric.capitalize()} is\", len(result))\n"
     ]
    },
    {
     "data": {
      "text/html": [
       "Tracking run with wandb version 0.19.6"
      ],
      "text/plain": [
       "<IPython.core.display.HTML object>"
      ]
     },
     "metadata": {},
     "output_type": "display_data"
    },
    {
     "data": {
      "text/html": [
       "Run data is saved locally in <code>/content/wandb/run-20250222_100837-qcpc55qy</code>"
      ],
      "text/plain": [
       "<IPython.core.display.HTML object>"
      ]
     },
     "metadata": {},
     "output_type": "display_data"
    },
    {
     "data": {
      "text/html": [
       "Syncing run <strong><a href='https://wandb.ai/TFE-proteomics/ESM/runs/qcpc55qy' target=\"_blank\">ValidProtocol_ESM_fold_3</a></strong> to <a href='https://wandb.ai/TFE-proteomics/ESM' target=\"_blank\">Weights & Biases</a> (<a href='https://wandb.me/developer-guide' target=\"_blank\">docs</a>)<br>"
      ],
      "text/plain": [
       "<IPython.core.display.HTML object>"
      ]
     },
     "metadata": {},
     "output_type": "display_data"
    },
    {
     "data": {
      "text/html": [
       " View project at <a href='https://wandb.ai/TFE-proteomics/ESM' target=\"_blank\">https://wandb.ai/TFE-proteomics/ESM</a>"
      ],
      "text/plain": [
       "<IPython.core.display.HTML object>"
      ]
     },
     "metadata": {},
     "output_type": "display_data"
    },
    {
     "data": {
      "text/html": [
       " View run at <a href='https://wandb.ai/TFE-proteomics/ESM/runs/qcpc55qy' target=\"_blank\">https://wandb.ai/TFE-proteomics/ESM/runs/qcpc55qy</a>"
      ],
      "text/plain": [
       "<IPython.core.display.HTML object>"
      ]
     },
     "metadata": {},
     "output_type": "display_data"
    },
    {
     "data": {
      "text/html": [],
      "text/plain": [
       "<IPython.core.display.HTML object>"
      ]
     },
     "metadata": {},
     "output_type": "display_data"
    },
    {
     "data": {
      "text/html": [
       "<br>    <style><br>        .wandb-row {<br>            display: flex;<br>            flex-direction: row;<br>            flex-wrap: wrap;<br>            justify-content: flex-start;<br>            width: 100%;<br>        }<br>        .wandb-col {<br>            display: flex;<br>            flex-direction: column;<br>            flex-basis: 100%;<br>            flex: 1;<br>            padding: 10px;<br>        }<br>    </style><br><div class=\"wandb-row\"><div class=\"wandb-col\"><h3>Run history:</h3><br/><table class=\"wandb\"><tr><td>accuracy</td><td>▁</td></tr><tr><td>f1</td><td>▁</td></tr><tr><td>pr_auc</td><td>▁</td></tr><tr><td>precision</td><td>▁</td></tr><tr><td>recall</td><td>▁</td></tr><tr><td>roc_auc</td><td>▁</td></tr></table><br/></div><div class=\"wandb-col\"><h3>Run summary:</h3><br/><table class=\"wandb\"><tr><td>accuracy</td><td>0.74194</td></tr><tr><td>f1</td><td>0</td></tr><tr><td>pr_auc</td><td>0.31127</td></tr><tr><td>precision</td><td>0</td></tr><tr><td>recall</td><td>0</td></tr><tr><td>roc_auc</td><td>0.58696</td></tr></table><br/></div></div>"
      ],
      "text/plain": [
       "<IPython.core.display.HTML object>"
      ]
     },
     "metadata": {},
     "output_type": "display_data"
    },
    {
     "data": {
      "text/html": [
       " View run <strong style=\"color:#cdcd00\">ValidProtocol_ESM_fold_3</strong> at: <a href='https://wandb.ai/TFE-proteomics/ESM/runs/qcpc55qy' target=\"_blank\">https://wandb.ai/TFE-proteomics/ESM/runs/qcpc55qy</a><br> View project at: <a href='https://wandb.ai/TFE-proteomics/ESM' target=\"_blank\">https://wandb.ai/TFE-proteomics/ESM</a><br>Synced 5 W&B file(s), 0 media file(s), 0 artifact file(s) and 0 other file(s)"
      ],
      "text/plain": [
       "<IPython.core.display.HTML object>"
      ]
     },
     "metadata": {},
     "output_type": "display_data"
    },
    {
     "data": {
      "text/html": [
       "Find logs at: <code>./wandb/run-20250222_100837-qcpc55qy/logs</code>"
      ],
      "text/plain": [
       "<IPython.core.display.HTML object>"
      ]
     },
     "metadata": {},
     "output_type": "display_data"
    },
    {
     "name": "stdout",
     "output_type": "stream",
     "text": [
      "Fold 4 on 5\n",
      "Testing config 1 on 144\n",
      "Testing config 2 on 144\n",
      "Testing config 3 on 144\n",
      "Testing config 4 on 144\n",
      "Testing config 5 on 144\n",
      "Testing config 6 on 144\n",
      "Testing config 7 on 144\n",
      "Testing config 8 on 144\n",
      "Testing config 9 on 144\n",
      "Testing config 10 on 144\n",
      "Testing config 11 on 144\n",
      "Testing config 12 on 144\n",
      "Testing config 13 on 144\n",
      "Testing config 14 on 144\n",
      "Testing config 15 on 144\n",
      "Testing config 16 on 144\n",
      "Testing config 17 on 144\n",
      "Testing config 18 on 144\n",
      "Testing config 19 on 144\n",
      "Testing config 20 on 144\n",
      "Testing config 21 on 144\n",
      "Testing config 22 on 144\n",
      "Testing config 23 on 144\n",
      "Testing config 24 on 144\n",
      "Testing config 25 on 144\n",
      "Testing config 26 on 144\n",
      "Testing config 27 on 144\n",
      "Testing config 28 on 144\n",
      "Testing config 29 on 144\n",
      "Testing config 30 on 144\n",
      "Testing config 31 on 144\n",
      "Testing config 32 on 144\n",
      "Testing config 33 on 144\n",
      "Testing config 34 on 144\n",
      "Testing config 35 on 144\n",
      "Testing config 36 on 144\n",
      "Testing config 37 on 144\n",
      "Testing config 38 on 144\n",
      "Testing config 39 on 144\n",
      "Testing config 40 on 144\n",
      "Testing config 41 on 144\n",
      "Testing config 42 on 144\n",
      "Testing config 43 on 144\n",
      "Testing config 44 on 144\n",
      "Testing config 45 on 144\n",
      "Testing config 46 on 144\n",
      "Testing config 47 on 144\n",
      "Testing config 48 on 144\n",
      "Testing config 49 on 144\n",
      "Testing config 50 on 144\n",
      "Testing config 51 on 144\n",
      "Testing config 52 on 144\n",
      "Testing config 53 on 144\n",
      "Testing config 54 on 144\n",
      "Testing config 55 on 144\n",
      "Testing config 56 on 144\n",
      "Testing config 57 on 144\n",
      "Testing config 58 on 144\n",
      "Testing config 59 on 144\n",
      "Testing config 60 on 144\n",
      "Testing config 61 on 144\n",
      "Testing config 62 on 144\n",
      "Testing config 63 on 144\n",
      "Testing config 64 on 144\n",
      "Testing config 65 on 144\n",
      "Testing config 66 on 144\n",
      "Testing config 67 on 144\n",
      "Testing config 68 on 144\n",
      "Testing config 69 on 144\n",
      "Testing config 70 on 144\n",
      "Testing config 71 on 144\n",
      "Testing config 72 on 144\n",
      "Testing config 73 on 144\n",
      "Testing config 74 on 144\n",
      "Testing config 75 on 144\n",
      "Testing config 76 on 144\n",
      "Testing config 77 on 144\n",
      "Testing config 78 on 144\n",
      "Testing config 79 on 144\n",
      "Testing config 80 on 144\n",
      "Testing config 81 on 144\n",
      "Testing config 82 on 144\n",
      "Testing config 83 on 144\n",
      "Testing config 84 on 144\n",
      "Testing config 85 on 144\n",
      "Testing config 86 on 144\n",
      "Testing config 87 on 144\n",
      "Testing config 88 on 144\n",
      "Testing config 89 on 144\n",
      "Testing config 90 on 144\n",
      "Testing config 91 on 144\n",
      "Testing config 92 on 144\n",
      "Testing config 93 on 144\n",
      "Testing config 94 on 144\n",
      "Testing config 95 on 144\n",
      "Testing config 96 on 144\n",
      "Testing config 97 on 144\n",
      "Testing config 98 on 144\n",
      "Testing config 99 on 144\n",
      "Testing config 100 on 144\n",
      "Testing config 101 on 144\n",
      "Testing config 102 on 144\n",
      "Testing config 103 on 144\n",
      "Testing config 104 on 144\n",
      "Testing config 105 on 144\n",
      "Testing config 106 on 144\n",
      "Testing config 107 on 144\n",
      "Testing config 108 on 144\n",
      "Testing config 109 on 144\n",
      "Testing config 110 on 144\n",
      "Testing config 111 on 144\n",
      "Testing config 112 on 144\n",
      "Testing config 113 on 144\n",
      "Testing config 114 on 144\n",
      "Testing config 115 on 144\n",
      "Testing config 116 on 144\n",
      "Testing config 117 on 144\n",
      "Testing config 118 on 144\n",
      "Testing config 119 on 144\n",
      "Testing config 120 on 144\n",
      "Testing config 121 on 144\n",
      "Testing config 122 on 144\n",
      "Testing config 123 on 144\n",
      "Testing config 124 on 144\n",
      "Testing config 125 on 144\n",
      "Testing config 126 on 144\n",
      "Testing config 127 on 144\n",
      "Testing config 128 on 144\n",
      "Testing config 129 on 144\n",
      "Testing config 130 on 144\n",
      "Testing config 131 on 144\n",
      "Testing config 132 on 144\n",
      "Testing config 133 on 144\n",
      "Testing config 134 on 144\n",
      "Testing config 135 on 144\n",
      "Testing config 136 on 144\n",
      "Testing config 137 on 144\n",
      "Testing config 138 on 144\n",
      "Testing config 139 on 144\n",
      "Testing config 140 on 144\n",
      "Testing config 141 on 144\n",
      "Testing config 142 on 144\n",
      "Testing config 143 on 144\n",
      "Testing config 144 on 144\n",
      "\n",
      "--------------------------------------Config Done--------------------------------------------\n",
      "\n"
     ]
    },
    {
     "name": "stderr",
     "output_type": "stream",
     "text": [
      "/usr/local/lib/python3.11/dist-packages/sklearn/metrics/_classification.py:1565: UndefinedMetricWarning: Precision is ill-defined and being set to 0.0 due to no predicted samples. Use `zero_division` parameter to control this behavior.\n",
      "  _warn_prf(average, modifier, f\"{metric.capitalize()} is\", len(result))\n"
     ]
    },
    {
     "data": {
      "text/html": [
       "Tracking run with wandb version 0.19.6"
      ],
      "text/plain": [
       "<IPython.core.display.HTML object>"
      ]
     },
     "metadata": {},
     "output_type": "display_data"
    },
    {
     "data": {
      "text/html": [
       "Run data is saved locally in <code>/content/wandb/run-20250222_101900-9hum51m9</code>"
      ],
      "text/plain": [
       "<IPython.core.display.HTML object>"
      ]
     },
     "metadata": {},
     "output_type": "display_data"
    },
    {
     "data": {
      "text/html": [
       "Syncing run <strong><a href='https://wandb.ai/TFE-proteomics/ESM/runs/9hum51m9' target=\"_blank\">ValidProtocol_ESM_fold_4</a></strong> to <a href='https://wandb.ai/TFE-proteomics/ESM' target=\"_blank\">Weights & Biases</a> (<a href='https://wandb.me/developer-guide' target=\"_blank\">docs</a>)<br>"
      ],
      "text/plain": [
       "<IPython.core.display.HTML object>"
      ]
     },
     "metadata": {},
     "output_type": "display_data"
    },
    {
     "data": {
      "text/html": [
       " View project at <a href='https://wandb.ai/TFE-proteomics/ESM' target=\"_blank\">https://wandb.ai/TFE-proteomics/ESM</a>"
      ],
      "text/plain": [
       "<IPython.core.display.HTML object>"
      ]
     },
     "metadata": {},
     "output_type": "display_data"
    },
    {
     "data": {
      "text/html": [
       " View run at <a href='https://wandb.ai/TFE-proteomics/ESM/runs/9hum51m9' target=\"_blank\">https://wandb.ai/TFE-proteomics/ESM/runs/9hum51m9</a>"
      ],
      "text/plain": [
       "<IPython.core.display.HTML object>"
      ]
     },
     "metadata": {},
     "output_type": "display_data"
    },
    {
     "data": {
      "text/html": [],
      "text/plain": [
       "<IPython.core.display.HTML object>"
      ]
     },
     "metadata": {},
     "output_type": "display_data"
    },
    {
     "data": {
      "text/html": [
       "<br>    <style><br>        .wandb-row {<br>            display: flex;<br>            flex-direction: row;<br>            flex-wrap: wrap;<br>            justify-content: flex-start;<br>            width: 100%;<br>        }<br>        .wandb-col {<br>            display: flex;<br>            flex-direction: column;<br>            flex-basis: 100%;<br>            flex: 1;<br>            padding: 10px;<br>        }<br>    </style><br><div class=\"wandb-row\"><div class=\"wandb-col\"><h3>Run history:</h3><br/><table class=\"wandb\"><tr><td>accuracy</td><td>▁</td></tr><tr><td>f1</td><td>▁</td></tr><tr><td>pr_auc</td><td>▁</td></tr><tr><td>precision</td><td>▁</td></tr><tr><td>recall</td><td>▁</td></tr><tr><td>roc_auc</td><td>▁</td></tr></table><br/></div><div class=\"wandb-col\"><h3>Run summary:</h3><br/><table class=\"wandb\"><tr><td>accuracy</td><td>0.74194</td></tr><tr><td>f1</td><td>0</td></tr><tr><td>pr_auc</td><td>0.45706</td></tr><tr><td>precision</td><td>0</td></tr><tr><td>recall</td><td>0</td></tr><tr><td>roc_auc</td><td>0.66304</td></tr></table><br/></div></div>"
      ],
      "text/plain": [
       "<IPython.core.display.HTML object>"
      ]
     },
     "metadata": {},
     "output_type": "display_data"
    },
    {
     "data": {
      "text/html": [
       " View run <strong style=\"color:#cdcd00\">ValidProtocol_ESM_fold_4</strong> at: <a href='https://wandb.ai/TFE-proteomics/ESM/runs/9hum51m9' target=\"_blank\">https://wandb.ai/TFE-proteomics/ESM/runs/9hum51m9</a><br> View project at: <a href='https://wandb.ai/TFE-proteomics/ESM' target=\"_blank\">https://wandb.ai/TFE-proteomics/ESM</a><br>Synced 5 W&B file(s), 0 media file(s), 0 artifact file(s) and 0 other file(s)"
      ],
      "text/plain": [
       "<IPython.core.display.HTML object>"
      ]
     },
     "metadata": {},
     "output_type": "display_data"
    },
    {
     "data": {
      "text/html": [
       "Find logs at: <code>./wandb/run-20250222_101900-9hum51m9/logs</code>"
      ],
      "text/plain": [
       "<IPython.core.display.HTML object>"
      ]
     },
     "metadata": {},
     "output_type": "display_data"
    },
    {
     "name": "stdout",
     "output_type": "stream",
     "text": [
      "Fold 5 on 5\n",
      "Testing config 1 on 144\n",
      "Testing config 2 on 144\n",
      "Testing config 3 on 144\n",
      "Testing config 4 on 144\n",
      "Testing config 5 on 144\n",
      "Testing config 6 on 144\n",
      "Testing config 7 on 144\n",
      "Testing config 8 on 144\n",
      "Testing config 9 on 144\n",
      "Testing config 10 on 144\n",
      "Testing config 11 on 144\n",
      "Testing config 12 on 144\n",
      "Testing config 13 on 144\n",
      "Testing config 14 on 144\n",
      "Testing config 15 on 144\n",
      "Testing config 16 on 144\n",
      "Testing config 17 on 144\n",
      "Testing config 18 on 144\n",
      "Testing config 19 on 144\n",
      "Testing config 20 on 144\n",
      "Testing config 21 on 144\n",
      "Testing config 22 on 144\n",
      "Testing config 23 on 144\n",
      "Testing config 24 on 144\n",
      "Testing config 25 on 144\n",
      "Testing config 26 on 144\n",
      "Testing config 27 on 144\n",
      "Testing config 28 on 144\n",
      "Testing config 29 on 144\n",
      "Testing config 30 on 144\n",
      "Testing config 31 on 144\n",
      "Testing config 32 on 144\n",
      "Testing config 33 on 144\n",
      "Testing config 34 on 144\n",
      "Testing config 35 on 144\n",
      "Testing config 36 on 144\n",
      "Testing config 37 on 144\n",
      "Testing config 38 on 144\n",
      "Testing config 39 on 144\n",
      "Testing config 40 on 144\n",
      "Testing config 41 on 144\n",
      "Testing config 42 on 144\n",
      "Testing config 43 on 144\n",
      "Testing config 44 on 144\n",
      "Testing config 45 on 144\n",
      "Testing config 46 on 144\n",
      "Testing config 47 on 144\n",
      "Testing config 48 on 144\n",
      "Testing config 49 on 144\n",
      "Testing config 50 on 144\n",
      "Testing config 51 on 144\n",
      "Testing config 52 on 144\n",
      "Testing config 53 on 144\n",
      "Testing config 54 on 144\n",
      "Testing config 55 on 144\n",
      "Testing config 56 on 144\n",
      "Testing config 57 on 144\n",
      "Testing config 58 on 144\n",
      "Testing config 59 on 144\n",
      "Testing config 60 on 144\n",
      "Testing config 61 on 144\n",
      "Testing config 62 on 144\n",
      "Testing config 63 on 144\n",
      "Testing config 64 on 144\n",
      "Testing config 65 on 144\n",
      "Testing config 66 on 144\n",
      "Testing config 67 on 144\n",
      "Testing config 68 on 144\n",
      "Testing config 69 on 144\n",
      "Testing config 70 on 144\n",
      "Testing config 71 on 144\n",
      "Testing config 72 on 144\n",
      "Testing config 73 on 144\n",
      "Testing config 74 on 144\n",
      "Testing config 75 on 144\n",
      "Testing config 76 on 144\n",
      "Testing config 77 on 144\n",
      "Testing config 78 on 144\n",
      "Testing config 79 on 144\n",
      "Testing config 80 on 144\n",
      "Testing config 81 on 144\n",
      "Testing config 82 on 144\n",
      "Testing config 83 on 144\n",
      "Testing config 84 on 144\n",
      "Testing config 85 on 144\n",
      "Testing config 86 on 144\n",
      "Testing config 87 on 144\n",
      "Testing config 88 on 144\n",
      "Testing config 89 on 144\n",
      "Testing config 90 on 144\n",
      "Testing config 91 on 144\n",
      "Testing config 92 on 144\n",
      "Testing config 93 on 144\n",
      "Testing config 94 on 144\n",
      "Testing config 95 on 144\n",
      "Testing config 96 on 144\n",
      "Testing config 97 on 144\n",
      "Testing config 98 on 144\n",
      "Testing config 99 on 144\n",
      "Testing config 100 on 144\n",
      "Testing config 101 on 144\n",
      "Testing config 102 on 144\n",
      "Testing config 103 on 144\n",
      "Testing config 104 on 144\n",
      "Testing config 105 on 144\n",
      "Testing config 106 on 144\n",
      "Testing config 107 on 144\n",
      "Testing config 108 on 144\n",
      "Testing config 109 on 144\n",
      "Testing config 110 on 144\n",
      "Testing config 111 on 144\n",
      "Testing config 112 on 144\n",
      "Testing config 113 on 144\n",
      "Testing config 114 on 144\n",
      "Testing config 115 on 144\n",
      "Testing config 116 on 144\n",
      "Testing config 117 on 144\n",
      "Testing config 118 on 144\n",
      "Testing config 119 on 144\n",
      "Testing config 120 on 144\n",
      "Testing config 121 on 144\n",
      "Testing config 122 on 144\n",
      "Testing config 123 on 144\n",
      "Testing config 124 on 144\n",
      "Testing config 125 on 144\n",
      "Testing config 126 on 144\n",
      "Testing config 127 on 144\n",
      "Testing config 128 on 144\n",
      "Testing config 129 on 144\n",
      "Testing config 130 on 144\n",
      "Testing config 131 on 144\n",
      "Testing config 132 on 144\n",
      "Testing config 133 on 144\n",
      "Testing config 134 on 144\n",
      "Testing config 135 on 144\n",
      "Testing config 136 on 144\n",
      "Testing config 137 on 144\n",
      "Testing config 138 on 144\n",
      "Testing config 139 on 144\n",
      "Testing config 140 on 144\n",
      "Testing config 141 on 144\n",
      "Testing config 142 on 144\n",
      "Testing config 143 on 144\n",
      "Testing config 144 on 144\n",
      "\n",
      "--------------------------------------Config Done--------------------------------------------\n",
      "\n"
     ]
    },
    {
     "name": "stderr",
     "output_type": "stream",
     "text": [
      "/usr/local/lib/python3.11/dist-packages/sklearn/metrics/_classification.py:1565: UndefinedMetricWarning: Precision is ill-defined and being set to 0.0 due to no predicted samples. Use `zero_division` parameter to control this behavior.\n",
      "  _warn_prf(average, modifier, f\"{metric.capitalize()} is\", len(result))\n"
     ]
    },
    {
     "data": {
      "text/html": [
       "Tracking run with wandb version 0.19.6"
      ],
      "text/plain": [
       "<IPython.core.display.HTML object>"
      ]
     },
     "metadata": {},
     "output_type": "display_data"
    },
    {
     "data": {
      "text/html": [
       "Run data is saved locally in <code>/content/wandb/run-20250222_102933-inrv0yfq</code>"
      ],
      "text/plain": [
       "<IPython.core.display.HTML object>"
      ]
     },
     "metadata": {},
     "output_type": "display_data"
    },
    {
     "data": {
      "text/html": [
       "Syncing run <strong><a href='https://wandb.ai/TFE-proteomics/ESM/runs/inrv0yfq' target=\"_blank\">ValidProtocol_ESM_fold_5</a></strong> to <a href='https://wandb.ai/TFE-proteomics/ESM' target=\"_blank\">Weights & Biases</a> (<a href='https://wandb.me/developer-guide' target=\"_blank\">docs</a>)<br>"
      ],
      "text/plain": [
       "<IPython.core.display.HTML object>"
      ]
     },
     "metadata": {},
     "output_type": "display_data"
    },
    {
     "data": {
      "text/html": [
       " View project at <a href='https://wandb.ai/TFE-proteomics/ESM' target=\"_blank\">https://wandb.ai/TFE-proteomics/ESM</a>"
      ],
      "text/plain": [
       "<IPython.core.display.HTML object>"
      ]
     },
     "metadata": {},
     "output_type": "display_data"
    },
    {
     "data": {
      "text/html": [
       " View run at <a href='https://wandb.ai/TFE-proteomics/ESM/runs/inrv0yfq' target=\"_blank\">https://wandb.ai/TFE-proteomics/ESM/runs/inrv0yfq</a>"
      ],
      "text/plain": [
       "<IPython.core.display.HTML object>"
      ]
     },
     "metadata": {},
     "output_type": "display_data"
    },
    {
     "data": {
      "text/html": [],
      "text/plain": [
       "<IPython.core.display.HTML object>"
      ]
     },
     "metadata": {},
     "output_type": "display_data"
    },
    {
     "data": {
      "text/html": [
       "<br>    <style><br>        .wandb-row {<br>            display: flex;<br>            flex-direction: row;<br>            flex-wrap: wrap;<br>            justify-content: flex-start;<br>            width: 100%;<br>        }<br>        .wandb-col {<br>            display: flex;<br>            flex-direction: column;<br>            flex-basis: 100%;<br>            flex: 1;<br>            padding: 10px;<br>        }<br>    </style><br><div class=\"wandb-row\"><div class=\"wandb-col\"><h3>Run history:</h3><br/><table class=\"wandb\"><tr><td>accuracy</td><td>▁</td></tr><tr><td>f1</td><td>▁</td></tr><tr><td>pr_auc</td><td>▁</td></tr><tr><td>precision</td><td>▁</td></tr><tr><td>recall</td><td>▁</td></tr><tr><td>roc_auc</td><td>▁</td></tr></table><br/></div><div class=\"wandb-col\"><h3>Run summary:</h3><br/><table class=\"wandb\"><tr><td>accuracy</td><td>0.74194</td></tr><tr><td>f1</td><td>0</td></tr><tr><td>pr_auc</td><td>0.27531</td></tr><tr><td>precision</td><td>0</td></tr><tr><td>recall</td><td>0</td></tr><tr><td>roc_auc</td><td>0.4837</td></tr></table><br/></div></div>"
      ],
      "text/plain": [
       "<IPython.core.display.HTML object>"
      ]
     },
     "metadata": {},
     "output_type": "display_data"
    },
    {
     "data": {
      "text/html": [
       " View run <strong style=\"color:#cdcd00\">ValidProtocol_ESM_fold_5</strong> at: <a href='https://wandb.ai/TFE-proteomics/ESM/runs/inrv0yfq' target=\"_blank\">https://wandb.ai/TFE-proteomics/ESM/runs/inrv0yfq</a><br> View project at: <a href='https://wandb.ai/TFE-proteomics/ESM' target=\"_blank\">https://wandb.ai/TFE-proteomics/ESM</a><br>Synced 5 W&B file(s), 0 media file(s), 0 artifact file(s) and 0 other file(s)"
      ],
      "text/plain": [
       "<IPython.core.display.HTML object>"
      ]
     },
     "metadata": {},
     "output_type": "display_data"
    },
    {
     "data": {
      "text/html": [
       "Find logs at: <code>./wandb/run-20250222_102933-inrv0yfq/logs</code>"
      ],
      "text/plain": [
       "<IPython.core.display.HTML object>"
      ]
     },
     "metadata": {},
     "output_type": "display_data"
    },
    {
     "data": {
      "text/html": [
       "Tracking run with wandb version 0.19.6"
      ],
      "text/plain": [
       "<IPython.core.display.HTML object>"
      ]
     },
     "metadata": {},
     "output_type": "display_data"
    },
    {
     "data": {
      "text/html": [
       "Run data is saved locally in <code>/content/wandb/run-20250222_102936-xomzm7d0</code>"
      ],
      "text/plain": [
       "<IPython.core.display.HTML object>"
      ]
     },
     "metadata": {},
     "output_type": "display_data"
    },
    {
     "data": {
      "text/html": [
       "Syncing run <strong><a href='https://wandb.ai/TFE-proteomics/ESM/runs/xomzm7d0' target=\"_blank\">ValidProtocol_ESM_CrossValidation_Summary</a></strong> to <a href='https://wandb.ai/TFE-proteomics/ESM' target=\"_blank\">Weights & Biases</a> (<a href='https://wandb.me/developer-guide' target=\"_blank\">docs</a>)<br>"
      ],
      "text/plain": [
       "<IPython.core.display.HTML object>"
      ]
     },
     "metadata": {},
     "output_type": "display_data"
    },
    {
     "data": {
      "text/html": [
       " View project at <a href='https://wandb.ai/TFE-proteomics/ESM' target=\"_blank\">https://wandb.ai/TFE-proteomics/ESM</a>"
      ],
      "text/plain": [
       "<IPython.core.display.HTML object>"
      ]
     },
     "metadata": {},
     "output_type": "display_data"
    },
    {
     "data": {
      "text/html": [
       " View run at <a href='https://wandb.ai/TFE-proteomics/ESM/runs/xomzm7d0' target=\"_blank\">https://wandb.ai/TFE-proteomics/ESM/runs/xomzm7d0</a>"
      ],
      "text/plain": [
       "<IPython.core.display.HTML object>"
      ]
     },
     "metadata": {},
     "output_type": "display_data"
    },
    {
     "data": {
      "text/html": [],
      "text/plain": [
       "<IPython.core.display.HTML object>"
      ]
     },
     "metadata": {},
     "output_type": "display_data"
    },
    {
     "data": {
      "text/html": [
       "<br>    <style><br>        .wandb-row {<br>            display: flex;<br>            flex-direction: row;<br>            flex-wrap: wrap;<br>            justify-content: flex-start;<br>            width: 100%;<br>        }<br>        .wandb-col {<br>            display: flex;<br>            flex-direction: column;<br>            flex-basis: 100%;<br>            flex: 1;<br>            padding: 10px;<br>        }<br>    </style><br><div class=\"wandb-row\"><div class=\"wandb-col\"><h3>Run history:</h3><br/><table class=\"wandb\"><tr><td>accuracy_mean</td><td>▁</td></tr><tr><td>accuracy_std</td><td>▁</td></tr><tr><td>f1_mean</td><td>▁</td></tr><tr><td>f1_std</td><td>▁</td></tr><tr><td>pr_auc_mean</td><td>▁</td></tr><tr><td>pr_auc_std</td><td>▁</td></tr><tr><td>precision_mean</td><td>▁</td></tr><tr><td>precision_std</td><td>▁</td></tr><tr><td>recall_mean</td><td>▁</td></tr><tr><td>recall_std</td><td>▁</td></tr><tr><td>roc_auc_mean</td><td>▁</td></tr><tr><td>roc_auc_std</td><td>▁</td></tr></table><br/></div><div class=\"wandb-col\"><h3>Run summary:</h3><br/><table class=\"wandb\"><tr><td>accuracy_mean</td><td>0.75484</td></tr><tr><td>accuracy_std</td><td>0.0158</td></tr><tr><td>f1_mean</td><td>0</td></tr><tr><td>f1_std</td><td>0</td></tr><tr><td>pr_auc_mean</td><td>0.31435</td></tr><tr><td>pr_auc_std</td><td>0.07644</td></tr><tr><td>precision_mean</td><td>0</td></tr><tr><td>precision_std</td><td>0</td></tr><tr><td>recall_mean</td><td>0</td></tr><tr><td>recall_std</td><td>0</td></tr><tr><td>roc_auc_mean</td><td>0.55269</td></tr><tr><td>roc_auc_std</td><td>0.06609</td></tr></table><br/></div></div>"
      ],
      "text/plain": [
       "<IPython.core.display.HTML object>"
      ]
     },
     "metadata": {},
     "output_type": "display_data"
    },
    {
     "data": {
      "text/html": [
       " View run <strong style=\"color:#cdcd00\">ValidProtocol_ESM_CrossValidation_Summary</strong> at: <a href='https://wandb.ai/TFE-proteomics/ESM/runs/xomzm7d0' target=\"_blank\">https://wandb.ai/TFE-proteomics/ESM/runs/xomzm7d0</a><br> View project at: <a href='https://wandb.ai/TFE-proteomics/ESM' target=\"_blank\">https://wandb.ai/TFE-proteomics/ESM</a><br>Synced 5 W&B file(s), 0 media file(s), 0 artifact file(s) and 0 other file(s)"
      ],
      "text/plain": [
       "<IPython.core.display.HTML object>"
      ]
     },
     "metadata": {},
     "output_type": "display_data"
    },
    {
     "data": {
      "text/html": [
       "Find logs at: <code>./wandb/run-20250222_102936-xomzm7d0/logs</code>"
      ],
      "text/plain": [
       "<IPython.core.display.HTML object>"
      ]
     },
     "metadata": {},
     "output_type": "display_data"
    },
    {
     "name": "stdout",
     "output_type": "stream",
     "text": [
      "Fold 1 on 5\n",
      "Testing config 1 on 144\n",
      "Testing config 2 on 144\n",
      "Testing config 3 on 144\n",
      "Testing config 4 on 144\n",
      "Testing config 5 on 144\n",
      "Testing config 6 on 144\n",
      "Testing config 7 on 144\n",
      "Testing config 8 on 144\n",
      "Testing config 9 on 144\n",
      "Testing config 10 on 144\n",
      "Testing config 11 on 144\n",
      "Testing config 12 on 144\n",
      "Testing config 13 on 144\n",
      "Testing config 14 on 144\n",
      "Testing config 15 on 144\n",
      "Testing config 16 on 144\n",
      "Testing config 17 on 144\n",
      "Testing config 18 on 144\n",
      "Testing config 19 on 144\n",
      "Testing config 20 on 144\n",
      "Testing config 21 on 144\n",
      "Testing config 22 on 144\n",
      "Testing config 23 on 144\n",
      "Testing config 24 on 144\n",
      "Testing config 25 on 144\n",
      "Testing config 26 on 144\n",
      "Testing config 27 on 144\n",
      "Testing config 28 on 144\n",
      "Testing config 29 on 144\n",
      "Testing config 30 on 144\n",
      "Testing config 31 on 144\n",
      "Testing config 32 on 144\n",
      "Testing config 33 on 144\n",
      "Testing config 34 on 144\n",
      "Testing config 35 on 144\n",
      "Testing config 36 on 144\n",
      "Testing config 37 on 144\n",
      "Testing config 38 on 144\n",
      "Testing config 39 on 144\n",
      "Testing config 40 on 144\n",
      "Testing config 41 on 144\n",
      "Testing config 42 on 144\n",
      "Testing config 43 on 144\n",
      "Testing config 44 on 144\n",
      "Testing config 45 on 144\n",
      "Testing config 46 on 144\n",
      "Testing config 47 on 144\n",
      "Testing config 48 on 144\n",
      "Testing config 49 on 144\n",
      "Testing config 50 on 144\n",
      "Testing config 51 on 144\n",
      "Testing config 52 on 144\n",
      "Testing config 53 on 144\n",
      "Testing config 54 on 144\n",
      "Testing config 55 on 144\n",
      "Testing config 56 on 144\n",
      "Testing config 57 on 144\n",
      "Testing config 58 on 144\n",
      "Testing config 59 on 144\n",
      "Testing config 60 on 144\n",
      "Testing config 61 on 144\n",
      "Testing config 62 on 144\n",
      "Testing config 63 on 144\n",
      "Testing config 64 on 144\n",
      "Testing config 65 on 144\n",
      "Testing config 66 on 144\n",
      "Testing config 67 on 144\n",
      "Testing config 68 on 144\n",
      "Testing config 69 on 144\n",
      "Testing config 70 on 144\n",
      "Testing config 71 on 144\n",
      "Testing config 72 on 144\n",
      "Testing config 73 on 144\n",
      "Testing config 74 on 144\n",
      "Testing config 75 on 144\n",
      "Testing config 76 on 144\n",
      "Testing config 77 on 144\n",
      "Testing config 78 on 144\n",
      "Testing config 79 on 144\n",
      "Testing config 80 on 144\n",
      "Testing config 81 on 144\n",
      "Testing config 82 on 144\n",
      "Testing config 83 on 144\n",
      "Testing config 84 on 144\n",
      "Testing config 85 on 144\n",
      "Testing config 86 on 144\n",
      "Testing config 87 on 144\n",
      "Testing config 88 on 144\n",
      "Testing config 89 on 144\n",
      "Testing config 90 on 144\n",
      "Testing config 91 on 144\n",
      "Testing config 92 on 144\n",
      "Testing config 93 on 144\n",
      "Testing config 94 on 144\n",
      "Testing config 95 on 144\n",
      "Testing config 96 on 144\n",
      "Testing config 97 on 144\n",
      "Testing config 98 on 144\n",
      "Testing config 99 on 144\n",
      "Testing config 100 on 144\n",
      "Testing config 101 on 144\n",
      "Testing config 102 on 144\n",
      "Testing config 103 on 144\n",
      "Testing config 104 on 144\n",
      "Testing config 105 on 144\n",
      "Testing config 106 on 144\n",
      "Testing config 107 on 144\n",
      "Testing config 108 on 144\n",
      "Testing config 109 on 144\n",
      "Testing config 110 on 144\n",
      "Testing config 111 on 144\n",
      "Testing config 112 on 144\n",
      "Testing config 113 on 144\n",
      "Testing config 114 on 144\n",
      "Testing config 115 on 144\n",
      "Testing config 116 on 144\n",
      "Testing config 117 on 144\n",
      "Testing config 118 on 144\n",
      "Testing config 119 on 144\n",
      "Testing config 120 on 144\n",
      "Testing config 121 on 144\n",
      "Testing config 122 on 144\n",
      "Testing config 123 on 144\n",
      "Testing config 124 on 144\n",
      "Testing config 125 on 144\n",
      "Testing config 126 on 144\n",
      "Testing config 127 on 144\n",
      "Testing config 128 on 144\n",
      "Testing config 129 on 144\n",
      "Testing config 130 on 144\n",
      "Testing config 131 on 144\n",
      "Testing config 132 on 144\n",
      "Testing config 133 on 144\n",
      "Testing config 134 on 144\n",
      "Testing config 135 on 144\n",
      "Testing config 136 on 144\n",
      "Testing config 137 on 144\n",
      "Testing config 138 on 144\n",
      "Testing config 139 on 144\n",
      "Testing config 140 on 144\n",
      "Testing config 141 on 144\n",
      "Testing config 142 on 144\n",
      "Testing config 143 on 144\n",
      "Testing config 144 on 144\n",
      "\n",
      "--------------------------------------Config Done--------------------------------------------\n",
      "\n"
     ]
    },
    {
     "data": {
      "text/html": [
       "Tracking run with wandb version 0.19.6"
      ],
      "text/plain": [
       "<IPython.core.display.HTML object>"
      ]
     },
     "metadata": {},
     "output_type": "display_data"
    },
    {
     "data": {
      "text/html": [
       "Run data is saved locally in <code>/content/wandb/run-20250222_103957-6m4arqxt</code>"
      ],
      "text/plain": [
       "<IPython.core.display.HTML object>"
      ]
     },
     "metadata": {},
     "output_type": "display_data"
    },
    {
     "data": {
      "text/html": [
       "Syncing run <strong><a href='https://wandb.ai/TFE-proteomics/ESM/runs/6m4arqxt' target=\"_blank\">ValidProtocol_ESM_fold_1</a></strong> to <a href='https://wandb.ai/TFE-proteomics/ESM' target=\"_blank\">Weights & Biases</a> (<a href='https://wandb.me/developer-guide' target=\"_blank\">docs</a>)<br>"
      ],
      "text/plain": [
       "<IPython.core.display.HTML object>"
      ]
     },
     "metadata": {},
     "output_type": "display_data"
    },
    {
     "data": {
      "text/html": [
       " View project at <a href='https://wandb.ai/TFE-proteomics/ESM' target=\"_blank\">https://wandb.ai/TFE-proteomics/ESM</a>"
      ],
      "text/plain": [
       "<IPython.core.display.HTML object>"
      ]
     },
     "metadata": {},
     "output_type": "display_data"
    },
    {
     "data": {
      "text/html": [
       " View run at <a href='https://wandb.ai/TFE-proteomics/ESM/runs/6m4arqxt' target=\"_blank\">https://wandb.ai/TFE-proteomics/ESM/runs/6m4arqxt</a>"
      ],
      "text/plain": [
       "<IPython.core.display.HTML object>"
      ]
     },
     "metadata": {},
     "output_type": "display_data"
    },
    {
     "data": {
      "text/html": [],
      "text/plain": [
       "<IPython.core.display.HTML object>"
      ]
     },
     "metadata": {},
     "output_type": "display_data"
    },
    {
     "data": {
      "text/html": [
       "<br>    <style><br>        .wandb-row {<br>            display: flex;<br>            flex-direction: row;<br>            flex-wrap: wrap;<br>            justify-content: flex-start;<br>            width: 100%;<br>        }<br>        .wandb-col {<br>            display: flex;<br>            flex-direction: column;<br>            flex-basis: 100%;<br>            flex: 1;<br>            padding: 10px;<br>        }<br>    </style><br><div class=\"wandb-row\"><div class=\"wandb-col\"><h3>Run history:</h3><br/><table class=\"wandb\"><tr><td>accuracy</td><td>▁</td></tr><tr><td>f1</td><td>▁</td></tr><tr><td>pr_auc</td><td>▁</td></tr><tr><td>precision</td><td>▁</td></tr><tr><td>recall</td><td>▁</td></tr><tr><td>roc_auc</td><td>▁</td></tr></table><br/></div><div class=\"wandb-col\"><h3>Run summary:</h3><br/><table class=\"wandb\"><tr><td>accuracy</td><td>0.22581</td></tr><tr><td>f1</td><td>0.36842</td></tr><tr><td>pr_auc</td><td>0.19655</td></tr><tr><td>precision</td><td>0.22581</td></tr><tr><td>recall</td><td>1</td></tr><tr><td>roc_auc</td><td>0.32143</td></tr></table><br/></div></div>"
      ],
      "text/plain": [
       "<IPython.core.display.HTML object>"
      ]
     },
     "metadata": {},
     "output_type": "display_data"
    },
    {
     "data": {
      "text/html": [
       " View run <strong style=\"color:#cdcd00\">ValidProtocol_ESM_fold_1</strong> at: <a href='https://wandb.ai/TFE-proteomics/ESM/runs/6m4arqxt' target=\"_blank\">https://wandb.ai/TFE-proteomics/ESM/runs/6m4arqxt</a><br> View project at: <a href='https://wandb.ai/TFE-proteomics/ESM' target=\"_blank\">https://wandb.ai/TFE-proteomics/ESM</a><br>Synced 5 W&B file(s), 0 media file(s), 0 artifact file(s) and 0 other file(s)"
      ],
      "text/plain": [
       "<IPython.core.display.HTML object>"
      ]
     },
     "metadata": {},
     "output_type": "display_data"
    },
    {
     "data": {
      "text/html": [
       "Find logs at: <code>./wandb/run-20250222_103957-6m4arqxt/logs</code>"
      ],
      "text/plain": [
       "<IPython.core.display.HTML object>"
      ]
     },
     "metadata": {},
     "output_type": "display_data"
    },
    {
     "name": "stdout",
     "output_type": "stream",
     "text": [
      "Fold 2 on 5\n",
      "Testing config 1 on 144\n",
      "Testing config 2 on 144\n",
      "Testing config 3 on 144\n",
      "Testing config 4 on 144\n",
      "Testing config 5 on 144\n",
      "Testing config 6 on 144\n",
      "Testing config 7 on 144\n",
      "Testing config 8 on 144\n",
      "Testing config 9 on 144\n",
      "Testing config 10 on 144\n",
      "Testing config 11 on 144\n",
      "Testing config 12 on 144\n",
      "Testing config 13 on 144\n",
      "Testing config 14 on 144\n",
      "Testing config 15 on 144\n",
      "Testing config 16 on 144\n",
      "Testing config 17 on 144\n",
      "Testing config 18 on 144\n",
      "Testing config 19 on 144\n",
      "Testing config 20 on 144\n",
      "Testing config 21 on 144\n",
      "Testing config 22 on 144\n",
      "Testing config 23 on 144\n",
      "Testing config 24 on 144\n",
      "Testing config 25 on 144\n",
      "Testing config 26 on 144\n",
      "Testing config 27 on 144\n",
      "Testing config 28 on 144\n",
      "Testing config 29 on 144\n",
      "Testing config 30 on 144\n",
      "Testing config 31 on 144\n",
      "Testing config 32 on 144\n",
      "Testing config 33 on 144\n",
      "Testing config 34 on 144\n",
      "Testing config 35 on 144\n",
      "Testing config 36 on 144\n",
      "Testing config 37 on 144\n",
      "Testing config 38 on 144\n",
      "Testing config 39 on 144\n",
      "Testing config 40 on 144\n",
      "Testing config 41 on 144\n",
      "Testing config 42 on 144\n",
      "Testing config 43 on 144\n",
      "Testing config 44 on 144\n",
      "Testing config 45 on 144\n",
      "Testing config 46 on 144\n",
      "Testing config 47 on 144\n",
      "Testing config 48 on 144\n",
      "Testing config 49 on 144\n",
      "Testing config 50 on 144\n",
      "Testing config 51 on 144\n",
      "Testing config 52 on 144\n",
      "Testing config 53 on 144\n",
      "Testing config 54 on 144\n",
      "Testing config 55 on 144\n",
      "Testing config 56 on 144\n",
      "Testing config 57 on 144\n",
      "Testing config 58 on 144\n",
      "Testing config 59 on 144\n",
      "Testing config 60 on 144\n",
      "Testing config 61 on 144\n",
      "Testing config 62 on 144\n",
      "Testing config 63 on 144\n",
      "Testing config 64 on 144\n",
      "Testing config 65 on 144\n",
      "Testing config 66 on 144\n",
      "Testing config 67 on 144\n",
      "Testing config 68 on 144\n",
      "Testing config 69 on 144\n",
      "Testing config 70 on 144\n",
      "Testing config 71 on 144\n",
      "Testing config 72 on 144\n",
      "Testing config 73 on 144\n",
      "Testing config 74 on 144\n",
      "Testing config 75 on 144\n",
      "Testing config 76 on 144\n",
      "Testing config 77 on 144\n",
      "Testing config 78 on 144\n",
      "Testing config 79 on 144\n",
      "Testing config 80 on 144\n",
      "Testing config 81 on 144\n",
      "Testing config 82 on 144\n",
      "Testing config 83 on 144\n",
      "Testing config 84 on 144\n",
      "Testing config 85 on 144\n",
      "Testing config 86 on 144\n",
      "Testing config 87 on 144\n",
      "Testing config 88 on 144\n",
      "Testing config 89 on 144\n",
      "Testing config 90 on 144\n",
      "Testing config 91 on 144\n",
      "Testing config 92 on 144\n",
      "Testing config 93 on 144\n",
      "Testing config 94 on 144\n",
      "Testing config 95 on 144\n",
      "Testing config 96 on 144\n",
      "Testing config 97 on 144\n",
      "Testing config 98 on 144\n",
      "Testing config 99 on 144\n",
      "Testing config 100 on 144\n",
      "Testing config 101 on 144\n",
      "Testing config 102 on 144\n",
      "Testing config 103 on 144\n",
      "Testing config 104 on 144\n",
      "Testing config 105 on 144\n",
      "Testing config 106 on 144\n",
      "Testing config 107 on 144\n",
      "Testing config 108 on 144\n",
      "Testing config 109 on 144\n",
      "Testing config 110 on 144\n",
      "Testing config 111 on 144\n",
      "Testing config 112 on 144\n",
      "Testing config 113 on 144\n",
      "Testing config 114 on 144\n",
      "Testing config 115 on 144\n",
      "Testing config 116 on 144\n",
      "Testing config 117 on 144\n",
      "Testing config 118 on 144\n",
      "Testing config 119 on 144\n",
      "Testing config 120 on 144\n",
      "Testing config 121 on 144\n",
      "Testing config 122 on 144\n",
      "Testing config 123 on 144\n",
      "Testing config 124 on 144\n",
      "Testing config 125 on 144\n",
      "Testing config 126 on 144\n",
      "Testing config 127 on 144\n",
      "Testing config 128 on 144\n",
      "Testing config 129 on 144\n",
      "Testing config 130 on 144\n",
      "Testing config 131 on 144\n",
      "Testing config 132 on 144\n",
      "Testing config 133 on 144\n",
      "Testing config 134 on 144\n",
      "Testing config 135 on 144\n",
      "Testing config 136 on 144\n",
      "Testing config 137 on 144\n",
      "Testing config 138 on 144\n",
      "Testing config 139 on 144\n",
      "Testing config 140 on 144\n",
      "Testing config 141 on 144\n",
      "Testing config 142 on 144\n",
      "Testing config 143 on 144\n",
      "Testing config 144 on 144\n",
      "\n",
      "--------------------------------------Config Done--------------------------------------------\n",
      "\n"
     ]
    },
    {
     "name": "stderr",
     "output_type": "stream",
     "text": [
      "/usr/local/lib/python3.11/dist-packages/sklearn/metrics/_classification.py:1565: UndefinedMetricWarning: Precision is ill-defined and being set to 0.0 due to no predicted samples. Use `zero_division` parameter to control this behavior.\n",
      "  _warn_prf(average, modifier, f\"{metric.capitalize()} is\", len(result))\n"
     ]
    },
    {
     "data": {
      "text/html": [
       "Tracking run with wandb version 0.19.6"
      ],
      "text/plain": [
       "<IPython.core.display.HTML object>"
      ]
     },
     "metadata": {},
     "output_type": "display_data"
    },
    {
     "data": {
      "text/html": [
       "Run data is saved locally in <code>/content/wandb/run-20250222_105022-fkopb3s9</code>"
      ],
      "text/plain": [
       "<IPython.core.display.HTML object>"
      ]
     },
     "metadata": {},
     "output_type": "display_data"
    },
    {
     "data": {
      "text/html": [
       "Syncing run <strong><a href='https://wandb.ai/TFE-proteomics/ESM/runs/fkopb3s9' target=\"_blank\">ValidProtocol_ESM_fold_2</a></strong> to <a href='https://wandb.ai/TFE-proteomics/ESM' target=\"_blank\">Weights & Biases</a> (<a href='https://wandb.me/developer-guide' target=\"_blank\">docs</a>)<br>"
      ],
      "text/plain": [
       "<IPython.core.display.HTML object>"
      ]
     },
     "metadata": {},
     "output_type": "display_data"
    },
    {
     "data": {
      "text/html": [
       " View project at <a href='https://wandb.ai/TFE-proteomics/ESM' target=\"_blank\">https://wandb.ai/TFE-proteomics/ESM</a>"
      ],
      "text/plain": [
       "<IPython.core.display.HTML object>"
      ]
     },
     "metadata": {},
     "output_type": "display_data"
    },
    {
     "data": {
      "text/html": [
       " View run at <a href='https://wandb.ai/TFE-proteomics/ESM/runs/fkopb3s9' target=\"_blank\">https://wandb.ai/TFE-proteomics/ESM/runs/fkopb3s9</a>"
      ],
      "text/plain": [
       "<IPython.core.display.HTML object>"
      ]
     },
     "metadata": {},
     "output_type": "display_data"
    },
    {
     "data": {
      "text/html": [],
      "text/plain": [
       "<IPython.core.display.HTML object>"
      ]
     },
     "metadata": {},
     "output_type": "display_data"
    },
    {
     "data": {
      "text/html": [
       "<br>    <style><br>        .wandb-row {<br>            display: flex;<br>            flex-direction: row;<br>            flex-wrap: wrap;<br>            justify-content: flex-start;<br>            width: 100%;<br>        }<br>        .wandb-col {<br>            display: flex;<br>            flex-direction: column;<br>            flex-basis: 100%;<br>            flex: 1;<br>            padding: 10px;<br>        }<br>    </style><br><div class=\"wandb-row\"><div class=\"wandb-col\"><h3>Run history:</h3><br/><table class=\"wandb\"><tr><td>accuracy</td><td>▁</td></tr><tr><td>f1</td><td>▁</td></tr><tr><td>pr_auc</td><td>▁</td></tr><tr><td>precision</td><td>▁</td></tr><tr><td>recall</td><td>▁</td></tr><tr><td>roc_auc</td><td>▁</td></tr></table><br/></div><div class=\"wandb-col\"><h3>Run summary:</h3><br/><table class=\"wandb\"><tr><td>accuracy</td><td>0.77419</td></tr><tr><td>f1</td><td>0</td></tr><tr><td>pr_auc</td><td>0.1751</td></tr><tr><td>precision</td><td>0</td></tr><tr><td>recall</td><td>0</td></tr><tr><td>roc_auc</td><td>0.27976</td></tr></table><br/></div></div>"
      ],
      "text/plain": [
       "<IPython.core.display.HTML object>"
      ]
     },
     "metadata": {},
     "output_type": "display_data"
    },
    {
     "data": {
      "text/html": [
       " View run <strong style=\"color:#cdcd00\">ValidProtocol_ESM_fold_2</strong> at: <a href='https://wandb.ai/TFE-proteomics/ESM/runs/fkopb3s9' target=\"_blank\">https://wandb.ai/TFE-proteomics/ESM/runs/fkopb3s9</a><br> View project at: <a href='https://wandb.ai/TFE-proteomics/ESM' target=\"_blank\">https://wandb.ai/TFE-proteomics/ESM</a><br>Synced 5 W&B file(s), 0 media file(s), 0 artifact file(s) and 0 other file(s)"
      ],
      "text/plain": [
       "<IPython.core.display.HTML object>"
      ]
     },
     "metadata": {},
     "output_type": "display_data"
    },
    {
     "data": {
      "text/html": [
       "Find logs at: <code>./wandb/run-20250222_105022-fkopb3s9/logs</code>"
      ],
      "text/plain": [
       "<IPython.core.display.HTML object>"
      ]
     },
     "metadata": {},
     "output_type": "display_data"
    },
    {
     "name": "stdout",
     "output_type": "stream",
     "text": [
      "Fold 3 on 5\n",
      "Testing config 1 on 144\n",
      "Testing config 2 on 144\n",
      "Testing config 3 on 144\n",
      "Testing config 4 on 144\n",
      "Testing config 5 on 144\n",
      "Testing config 6 on 144\n",
      "Testing config 7 on 144\n",
      "Testing config 8 on 144\n",
      "Testing config 9 on 144\n",
      "Testing config 10 on 144\n",
      "Testing config 11 on 144\n",
      "Testing config 12 on 144\n",
      "Testing config 13 on 144\n",
      "Testing config 14 on 144\n",
      "Testing config 15 on 144\n",
      "Testing config 16 on 144\n",
      "Testing config 17 on 144\n",
      "Testing config 18 on 144\n",
      "Testing config 19 on 144\n",
      "Testing config 20 on 144\n",
      "Testing config 21 on 144\n",
      "Testing config 22 on 144\n",
      "Testing config 23 on 144\n",
      "Testing config 24 on 144\n",
      "Testing config 25 on 144\n",
      "Testing config 26 on 144\n",
      "Testing config 27 on 144\n",
      "Testing config 28 on 144\n",
      "Testing config 29 on 144\n",
      "Testing config 30 on 144\n",
      "Testing config 31 on 144\n",
      "Testing config 32 on 144\n",
      "Testing config 33 on 144\n",
      "Testing config 34 on 144\n",
      "Testing config 35 on 144\n",
      "Testing config 36 on 144\n",
      "Testing config 37 on 144\n",
      "Testing config 38 on 144\n",
      "Testing config 39 on 144\n",
      "Testing config 40 on 144\n",
      "Testing config 41 on 144\n",
      "Testing config 42 on 144\n",
      "Testing config 43 on 144\n",
      "Testing config 44 on 144\n",
      "Testing config 45 on 144\n",
      "Testing config 46 on 144\n",
      "Testing config 47 on 144\n",
      "Testing config 48 on 144\n",
      "Testing config 49 on 144\n",
      "Testing config 50 on 144\n",
      "Testing config 51 on 144\n",
      "Testing config 52 on 144\n",
      "Testing config 53 on 144\n",
      "Testing config 54 on 144\n",
      "Testing config 55 on 144\n",
      "Testing config 56 on 144\n",
      "Testing config 57 on 144\n",
      "Testing config 58 on 144\n",
      "Testing config 59 on 144\n",
      "Testing config 60 on 144\n",
      "Testing config 61 on 144\n",
      "Testing config 62 on 144\n",
      "Testing config 63 on 144\n",
      "Testing config 64 on 144\n",
      "Testing config 65 on 144\n",
      "Testing config 66 on 144\n",
      "Testing config 67 on 144\n",
      "Testing config 68 on 144\n",
      "Testing config 69 on 144\n",
      "Testing config 70 on 144\n",
      "Testing config 71 on 144\n",
      "Testing config 72 on 144\n",
      "Testing config 73 on 144\n",
      "Testing config 74 on 144\n",
      "Testing config 75 on 144\n",
      "Testing config 76 on 144\n",
      "Testing config 77 on 144\n",
      "Testing config 78 on 144\n",
      "Testing config 79 on 144\n",
      "Testing config 80 on 144\n",
      "Testing config 81 on 144\n",
      "Testing config 82 on 144\n",
      "Testing config 83 on 144\n",
      "Testing config 84 on 144\n",
      "Testing config 85 on 144\n",
      "Testing config 86 on 144\n",
      "Testing config 87 on 144\n",
      "Testing config 88 on 144\n",
      "Testing config 89 on 144\n",
      "Testing config 90 on 144\n",
      "Testing config 91 on 144\n",
      "Testing config 92 on 144\n",
      "Testing config 93 on 144\n",
      "Testing config 94 on 144\n",
      "Testing config 95 on 144\n",
      "Testing config 96 on 144\n",
      "Testing config 97 on 144\n",
      "Testing config 98 on 144\n",
      "Testing config 99 on 144\n",
      "Testing config 100 on 144\n",
      "Testing config 101 on 144\n",
      "Testing config 102 on 144\n",
      "Testing config 103 on 144\n",
      "Testing config 104 on 144\n",
      "Testing config 105 on 144\n",
      "Testing config 106 on 144\n",
      "Testing config 107 on 144\n",
      "Testing config 108 on 144\n",
      "Testing config 109 on 144\n",
      "Testing config 110 on 144\n",
      "Testing config 111 on 144\n",
      "Testing config 112 on 144\n",
      "Testing config 113 on 144\n",
      "Testing config 114 on 144\n",
      "Testing config 115 on 144\n",
      "Testing config 116 on 144\n",
      "Testing config 117 on 144\n",
      "Testing config 118 on 144\n",
      "Testing config 119 on 144\n",
      "Testing config 120 on 144\n",
      "Testing config 121 on 144\n",
      "Testing config 122 on 144\n",
      "Testing config 123 on 144\n",
      "Testing config 124 on 144\n",
      "Testing config 125 on 144\n",
      "Testing config 126 on 144\n",
      "Testing config 127 on 144\n",
      "Testing config 128 on 144\n",
      "Testing config 129 on 144\n",
      "Testing config 130 on 144\n",
      "Testing config 131 on 144\n",
      "Testing config 132 on 144\n",
      "Testing config 133 on 144\n",
      "Testing config 134 on 144\n",
      "Testing config 135 on 144\n",
      "Testing config 136 on 144\n",
      "Testing config 137 on 144\n",
      "Testing config 138 on 144\n",
      "Testing config 139 on 144\n",
      "Testing config 140 on 144\n",
      "Testing config 141 on 144\n",
      "Testing config 142 on 144\n",
      "Testing config 143 on 144\n",
      "Testing config 144 on 144\n",
      "\n",
      "--------------------------------------Config Done--------------------------------------------\n",
      "\n"
     ]
    },
    {
     "name": "stderr",
     "output_type": "stream",
     "text": [
      "/usr/local/lib/python3.11/dist-packages/sklearn/metrics/_classification.py:1565: UndefinedMetricWarning: Precision is ill-defined and being set to 0.0 due to no predicted samples. Use `zero_division` parameter to control this behavior.\n",
      "  _warn_prf(average, modifier, f\"{metric.capitalize()} is\", len(result))\n"
     ]
    },
    {
     "data": {
      "text/html": [
       "Tracking run with wandb version 0.19.6"
      ],
      "text/plain": [
       "<IPython.core.display.HTML object>"
      ]
     },
     "metadata": {},
     "output_type": "display_data"
    },
    {
     "data": {
      "text/html": [
       "Run data is saved locally in <code>/content/wandb/run-20250222_110035-7nq5t6rs</code>"
      ],
      "text/plain": [
       "<IPython.core.display.HTML object>"
      ]
     },
     "metadata": {},
     "output_type": "display_data"
    },
    {
     "data": {
      "text/html": [
       "Syncing run <strong><a href='https://wandb.ai/TFE-proteomics/ESM/runs/7nq5t6rs' target=\"_blank\">ValidProtocol_ESM_fold_3</a></strong> to <a href='https://wandb.ai/TFE-proteomics/ESM' target=\"_blank\">Weights & Biases</a> (<a href='https://wandb.me/developer-guide' target=\"_blank\">docs</a>)<br>"
      ],
      "text/plain": [
       "<IPython.core.display.HTML object>"
      ]
     },
     "metadata": {},
     "output_type": "display_data"
    },
    {
     "data": {
      "text/html": [
       " View project at <a href='https://wandb.ai/TFE-proteomics/ESM' target=\"_blank\">https://wandb.ai/TFE-proteomics/ESM</a>"
      ],
      "text/plain": [
       "<IPython.core.display.HTML object>"
      ]
     },
     "metadata": {},
     "output_type": "display_data"
    },
    {
     "data": {
      "text/html": [
       " View run at <a href='https://wandb.ai/TFE-proteomics/ESM/runs/7nq5t6rs' target=\"_blank\">https://wandb.ai/TFE-proteomics/ESM/runs/7nq5t6rs</a>"
      ],
      "text/plain": [
       "<IPython.core.display.HTML object>"
      ]
     },
     "metadata": {},
     "output_type": "display_data"
    },
    {
     "data": {
      "text/html": [],
      "text/plain": [
       "<IPython.core.display.HTML object>"
      ]
     },
     "metadata": {},
     "output_type": "display_data"
    },
    {
     "data": {
      "text/html": [
       "<br>    <style><br>        .wandb-row {<br>            display: flex;<br>            flex-direction: row;<br>            flex-wrap: wrap;<br>            justify-content: flex-start;<br>            width: 100%;<br>        }<br>        .wandb-col {<br>            display: flex;<br>            flex-direction: column;<br>            flex-basis: 100%;<br>            flex: 1;<br>            padding: 10px;<br>        }<br>    </style><br><div class=\"wandb-row\"><div class=\"wandb-col\"><h3>Run history:</h3><br/><table class=\"wandb\"><tr><td>accuracy</td><td>▁</td></tr><tr><td>f1</td><td>▁</td></tr><tr><td>pr_auc</td><td>▁</td></tr><tr><td>precision</td><td>▁</td></tr><tr><td>recall</td><td>▁</td></tr><tr><td>roc_auc</td><td>▁</td></tr></table><br/></div><div class=\"wandb-col\"><h3>Run summary:</h3><br/><table class=\"wandb\"><tr><td>accuracy</td><td>0.74194</td></tr><tr><td>f1</td><td>0</td></tr><tr><td>pr_auc</td><td>0.52832</td></tr><tr><td>precision</td><td>0</td></tr><tr><td>recall</td><td>0</td></tr><tr><td>roc_auc</td><td>0.76087</td></tr></table><br/></div></div>"
      ],
      "text/plain": [
       "<IPython.core.display.HTML object>"
      ]
     },
     "metadata": {},
     "output_type": "display_data"
    },
    {
     "data": {
      "text/html": [
       " View run <strong style=\"color:#cdcd00\">ValidProtocol_ESM_fold_3</strong> at: <a href='https://wandb.ai/TFE-proteomics/ESM/runs/7nq5t6rs' target=\"_blank\">https://wandb.ai/TFE-proteomics/ESM/runs/7nq5t6rs</a><br> View project at: <a href='https://wandb.ai/TFE-proteomics/ESM' target=\"_blank\">https://wandb.ai/TFE-proteomics/ESM</a><br>Synced 5 W&B file(s), 0 media file(s), 0 artifact file(s) and 0 other file(s)"
      ],
      "text/plain": [
       "<IPython.core.display.HTML object>"
      ]
     },
     "metadata": {},
     "output_type": "display_data"
    },
    {
     "data": {
      "text/html": [
       "Find logs at: <code>./wandb/run-20250222_110035-7nq5t6rs/logs</code>"
      ],
      "text/plain": [
       "<IPython.core.display.HTML object>"
      ]
     },
     "metadata": {},
     "output_type": "display_data"
    },
    {
     "name": "stdout",
     "output_type": "stream",
     "text": [
      "Fold 4 on 5\n",
      "Testing config 1 on 144\n",
      "Testing config 2 on 144\n",
      "Testing config 3 on 144\n",
      "Testing config 4 on 144\n",
      "Testing config 5 on 144\n",
      "Testing config 6 on 144\n",
      "Testing config 7 on 144\n",
      "Testing config 8 on 144\n",
      "Testing config 9 on 144\n",
      "Testing config 10 on 144\n",
      "Testing config 11 on 144\n",
      "Testing config 12 on 144\n",
      "Testing config 13 on 144\n",
      "Testing config 14 on 144\n",
      "Testing config 15 on 144\n",
      "Testing config 16 on 144\n",
      "Testing config 17 on 144\n",
      "Testing config 18 on 144\n",
      "Testing config 19 on 144\n",
      "Testing config 20 on 144\n",
      "Testing config 21 on 144\n",
      "Testing config 22 on 144\n",
      "Testing config 23 on 144\n",
      "Testing config 24 on 144\n",
      "Testing config 25 on 144\n",
      "Testing config 26 on 144\n",
      "Testing config 27 on 144\n",
      "Testing config 28 on 144\n",
      "Testing config 29 on 144\n",
      "Testing config 30 on 144\n",
      "Testing config 31 on 144\n",
      "Testing config 32 on 144\n",
      "Testing config 33 on 144\n",
      "Testing config 34 on 144\n",
      "Testing config 35 on 144\n",
      "Testing config 36 on 144\n",
      "Testing config 37 on 144\n",
      "Testing config 38 on 144\n",
      "Testing config 39 on 144\n",
      "Testing config 40 on 144\n",
      "Testing config 41 on 144\n",
      "Testing config 42 on 144\n",
      "Testing config 43 on 144\n",
      "Testing config 44 on 144\n",
      "Testing config 45 on 144\n",
      "Testing config 46 on 144\n",
      "Testing config 47 on 144\n",
      "Testing config 48 on 144\n",
      "Testing config 49 on 144\n",
      "Testing config 50 on 144\n",
      "Testing config 51 on 144\n",
      "Testing config 52 on 144\n",
      "Testing config 53 on 144\n",
      "Testing config 54 on 144\n",
      "Testing config 55 on 144\n",
      "Testing config 56 on 144\n",
      "Testing config 57 on 144\n",
      "Testing config 58 on 144\n",
      "Testing config 59 on 144\n",
      "Testing config 60 on 144\n",
      "Testing config 61 on 144\n",
      "Testing config 62 on 144\n",
      "Testing config 63 on 144\n",
      "Testing config 64 on 144\n",
      "Testing config 65 on 144\n",
      "Testing config 66 on 144\n",
      "Testing config 67 on 144\n",
      "Testing config 68 on 144\n",
      "Testing config 69 on 144\n",
      "Testing config 70 on 144\n",
      "Testing config 71 on 144\n",
      "Testing config 72 on 144\n",
      "Testing config 73 on 144\n",
      "Testing config 74 on 144\n",
      "Testing config 75 on 144\n",
      "Testing config 76 on 144\n",
      "Testing config 77 on 144\n",
      "Testing config 78 on 144\n",
      "Testing config 79 on 144\n",
      "Testing config 80 on 144\n",
      "Testing config 81 on 144\n",
      "Testing config 82 on 144\n",
      "Testing config 83 on 144\n",
      "Testing config 84 on 144\n",
      "Testing config 85 on 144\n",
      "Testing config 86 on 144\n",
      "Testing config 87 on 144\n",
      "Testing config 88 on 144\n",
      "Testing config 89 on 144\n",
      "Testing config 90 on 144\n",
      "Testing config 91 on 144\n",
      "Testing config 92 on 144\n",
      "Testing config 93 on 144\n",
      "Testing config 94 on 144\n",
      "Testing config 95 on 144\n",
      "Testing config 96 on 144\n",
      "Testing config 97 on 144\n",
      "Testing config 98 on 144\n",
      "Testing config 99 on 144\n",
      "Testing config 100 on 144\n",
      "Testing config 101 on 144\n",
      "Testing config 102 on 144\n",
      "Testing config 103 on 144\n",
      "Testing config 104 on 144\n",
      "Testing config 105 on 144\n",
      "Testing config 106 on 144\n",
      "Testing config 107 on 144\n",
      "Testing config 108 on 144\n",
      "Testing config 109 on 144\n",
      "Testing config 110 on 144\n",
      "Testing config 111 on 144\n",
      "Testing config 112 on 144\n",
      "Testing config 113 on 144\n",
      "Testing config 114 on 144\n",
      "Testing config 115 on 144\n",
      "Testing config 116 on 144\n",
      "Testing config 117 on 144\n",
      "Testing config 118 on 144\n",
      "Testing config 119 on 144\n",
      "Testing config 120 on 144\n",
      "Testing config 121 on 144\n",
      "Testing config 122 on 144\n",
      "Testing config 123 on 144\n",
      "Testing config 124 on 144\n",
      "Testing config 125 on 144\n",
      "Testing config 126 on 144\n",
      "Testing config 127 on 144\n",
      "Testing config 128 on 144\n",
      "Testing config 129 on 144\n",
      "Testing config 130 on 144\n",
      "Testing config 131 on 144\n",
      "Testing config 132 on 144\n",
      "Testing config 133 on 144\n",
      "Testing config 134 on 144\n",
      "Testing config 135 on 144\n",
      "Testing config 136 on 144\n",
      "Testing config 137 on 144\n",
      "Testing config 138 on 144\n",
      "Testing config 139 on 144\n",
      "Testing config 140 on 144\n",
      "Testing config 141 on 144\n",
      "Testing config 142 on 144\n",
      "Testing config 143 on 144\n",
      "Testing config 144 on 144\n",
      "\n",
      "--------------------------------------Config Done--------------------------------------------\n",
      "\n"
     ]
    },
    {
     "data": {
      "text/html": [
       "Tracking run with wandb version 0.19.6"
      ],
      "text/plain": [
       "<IPython.core.display.HTML object>"
      ]
     },
     "metadata": {},
     "output_type": "display_data"
    },
    {
     "data": {
      "text/html": [
       "Run data is saved locally in <code>/content/wandb/run-20250222_111057-ivapt0gt</code>"
      ],
      "text/plain": [
       "<IPython.core.display.HTML object>"
      ]
     },
     "metadata": {},
     "output_type": "display_data"
    },
    {
     "data": {
      "text/html": [
       "Syncing run <strong><a href='https://wandb.ai/TFE-proteomics/ESM/runs/ivapt0gt' target=\"_blank\">ValidProtocol_ESM_fold_4</a></strong> to <a href='https://wandb.ai/TFE-proteomics/ESM' target=\"_blank\">Weights & Biases</a> (<a href='https://wandb.me/developer-guide' target=\"_blank\">docs</a>)<br>"
      ],
      "text/plain": [
       "<IPython.core.display.HTML object>"
      ]
     },
     "metadata": {},
     "output_type": "display_data"
    },
    {
     "data": {
      "text/html": [
       " View project at <a href='https://wandb.ai/TFE-proteomics/ESM' target=\"_blank\">https://wandb.ai/TFE-proteomics/ESM</a>"
      ],
      "text/plain": [
       "<IPython.core.display.HTML object>"
      ]
     },
     "metadata": {},
     "output_type": "display_data"
    },
    {
     "data": {
      "text/html": [
       " View run at <a href='https://wandb.ai/TFE-proteomics/ESM/runs/ivapt0gt' target=\"_blank\">https://wandb.ai/TFE-proteomics/ESM/runs/ivapt0gt</a>"
      ],
      "text/plain": [
       "<IPython.core.display.HTML object>"
      ]
     },
     "metadata": {},
     "output_type": "display_data"
    },
    {
     "data": {
      "text/html": [],
      "text/plain": [
       "<IPython.core.display.HTML object>"
      ]
     },
     "metadata": {},
     "output_type": "display_data"
    },
    {
     "data": {
      "text/html": [
       "<br>    <style><br>        .wandb-row {<br>            display: flex;<br>            flex-direction: row;<br>            flex-wrap: wrap;<br>            justify-content: flex-start;<br>            width: 100%;<br>        }<br>        .wandb-col {<br>            display: flex;<br>            flex-direction: column;<br>            flex-basis: 100%;<br>            flex: 1;<br>            padding: 10px;<br>        }<br>    </style><br><div class=\"wandb-row\"><div class=\"wandb-col\"><h3>Run history:</h3><br/><table class=\"wandb\"><tr><td>accuracy</td><td>▁</td></tr><tr><td>f1</td><td>▁</td></tr><tr><td>pr_auc</td><td>▁</td></tr><tr><td>precision</td><td>▁</td></tr><tr><td>recall</td><td>▁</td></tr><tr><td>roc_auc</td><td>▁</td></tr></table><br/></div><div class=\"wandb-col\"><h3>Run summary:</h3><br/><table class=\"wandb\"><tr><td>accuracy</td><td>0.25806</td></tr><tr><td>f1</td><td>0.41026</td></tr><tr><td>pr_auc</td><td>0.30234</td></tr><tr><td>precision</td><td>0.25806</td></tr><tr><td>recall</td><td>1</td></tr><tr><td>roc_auc</td><td>0.55435</td></tr></table><br/></div></div>"
      ],
      "text/plain": [
       "<IPython.core.display.HTML object>"
      ]
     },
     "metadata": {},
     "output_type": "display_data"
    },
    {
     "data": {
      "text/html": [
       " View run <strong style=\"color:#cdcd00\">ValidProtocol_ESM_fold_4</strong> at: <a href='https://wandb.ai/TFE-proteomics/ESM/runs/ivapt0gt' target=\"_blank\">https://wandb.ai/TFE-proteomics/ESM/runs/ivapt0gt</a><br> View project at: <a href='https://wandb.ai/TFE-proteomics/ESM' target=\"_blank\">https://wandb.ai/TFE-proteomics/ESM</a><br>Synced 5 W&B file(s), 0 media file(s), 0 artifact file(s) and 0 other file(s)"
      ],
      "text/plain": [
       "<IPython.core.display.HTML object>"
      ]
     },
     "metadata": {},
     "output_type": "display_data"
    },
    {
     "data": {
      "text/html": [
       "Find logs at: <code>./wandb/run-20250222_111057-ivapt0gt/logs</code>"
      ],
      "text/plain": [
       "<IPython.core.display.HTML object>"
      ]
     },
     "metadata": {},
     "output_type": "display_data"
    },
    {
     "name": "stdout",
     "output_type": "stream",
     "text": [
      "Fold 5 on 5\n",
      "Testing config 1 on 144\n",
      "Testing config 2 on 144\n",
      "Testing config 3 on 144\n",
      "Testing config 4 on 144\n",
      "Testing config 5 on 144\n",
      "Testing config 6 on 144\n",
      "Testing config 7 on 144\n",
      "Testing config 8 on 144\n",
      "Testing config 9 on 144\n",
      "Testing config 10 on 144\n",
      "Testing config 11 on 144\n",
      "Testing config 12 on 144\n",
      "Testing config 13 on 144\n",
      "Testing config 14 on 144\n",
      "Testing config 15 on 144\n",
      "Testing config 16 on 144\n",
      "Testing config 17 on 144\n",
      "Testing config 18 on 144\n",
      "Testing config 19 on 144\n",
      "Testing config 20 on 144\n",
      "Testing config 21 on 144\n",
      "Testing config 22 on 144\n",
      "Testing config 23 on 144\n",
      "Testing config 24 on 144\n",
      "Testing config 25 on 144\n",
      "Testing config 26 on 144\n",
      "Testing config 27 on 144\n",
      "Testing config 28 on 144\n",
      "Testing config 29 on 144\n",
      "Testing config 30 on 144\n",
      "Testing config 31 on 144\n",
      "Testing config 32 on 144\n",
      "Testing config 33 on 144\n",
      "Testing config 34 on 144\n",
      "Testing config 35 on 144\n",
      "Testing config 36 on 144\n",
      "Testing config 37 on 144\n",
      "Testing config 38 on 144\n",
      "Testing config 39 on 144\n",
      "Testing config 40 on 144\n",
      "Testing config 41 on 144\n",
      "Testing config 42 on 144\n",
      "Testing config 43 on 144\n",
      "Testing config 44 on 144\n",
      "Testing config 45 on 144\n",
      "Testing config 46 on 144\n",
      "Testing config 47 on 144\n",
      "Testing config 48 on 144\n",
      "Testing config 49 on 144\n",
      "Testing config 50 on 144\n",
      "Testing config 51 on 144\n",
      "Testing config 52 on 144\n",
      "Testing config 53 on 144\n",
      "Testing config 54 on 144\n",
      "Testing config 55 on 144\n",
      "Testing config 56 on 144\n",
      "Testing config 57 on 144\n",
      "Testing config 58 on 144\n",
      "Testing config 59 on 144\n",
      "Testing config 60 on 144\n",
      "Testing config 61 on 144\n",
      "Testing config 62 on 144\n",
      "Testing config 63 on 144\n",
      "Testing config 64 on 144\n",
      "Testing config 65 on 144\n",
      "Testing config 66 on 144\n",
      "Testing config 67 on 144\n",
      "Testing config 68 on 144\n",
      "Testing config 69 on 144\n",
      "Testing config 70 on 144\n",
      "Testing config 71 on 144\n",
      "Testing config 72 on 144\n",
      "Testing config 73 on 144\n",
      "Testing config 74 on 144\n",
      "Testing config 75 on 144\n",
      "Testing config 76 on 144\n",
      "Testing config 77 on 144\n",
      "Testing config 78 on 144\n",
      "Testing config 79 on 144\n",
      "Testing config 80 on 144\n",
      "Testing config 81 on 144\n",
      "Testing config 82 on 144\n",
      "Testing config 83 on 144\n",
      "Testing config 84 on 144\n",
      "Testing config 85 on 144\n",
      "Testing config 86 on 144\n",
      "Testing config 87 on 144\n",
      "Testing config 88 on 144\n",
      "Testing config 89 on 144\n",
      "Testing config 90 on 144\n",
      "Testing config 91 on 144\n",
      "Testing config 92 on 144\n",
      "Testing config 93 on 144\n",
      "Testing config 94 on 144\n",
      "Testing config 95 on 144\n",
      "Testing config 96 on 144\n",
      "Testing config 97 on 144\n",
      "Testing config 98 on 144\n",
      "Testing config 99 on 144\n",
      "Testing config 100 on 144\n",
      "Testing config 101 on 144\n",
      "Testing config 102 on 144\n",
      "Testing config 103 on 144\n",
      "Testing config 104 on 144\n",
      "Testing config 105 on 144\n",
      "Testing config 106 on 144\n",
      "Testing config 107 on 144\n",
      "Testing config 108 on 144\n",
      "Testing config 109 on 144\n",
      "Testing config 110 on 144\n",
      "Testing config 111 on 144\n",
      "Testing config 112 on 144\n",
      "Testing config 113 on 144\n",
      "Testing config 114 on 144\n",
      "Testing config 115 on 144\n",
      "Testing config 116 on 144\n",
      "Testing config 117 on 144\n",
      "Testing config 118 on 144\n",
      "Testing config 119 on 144\n",
      "Testing config 120 on 144\n",
      "Testing config 121 on 144\n",
      "Testing config 122 on 144\n",
      "Testing config 123 on 144\n",
      "Testing config 124 on 144\n",
      "Testing config 125 on 144\n",
      "Testing config 126 on 144\n",
      "Testing config 127 on 144\n",
      "Testing config 128 on 144\n",
      "Testing config 129 on 144\n",
      "Testing config 130 on 144\n",
      "Testing config 131 on 144\n",
      "Testing config 132 on 144\n",
      "Testing config 133 on 144\n",
      "Testing config 134 on 144\n",
      "Testing config 135 on 144\n",
      "Testing config 136 on 144\n",
      "Testing config 137 on 144\n",
      "Testing config 138 on 144\n",
      "Testing config 139 on 144\n",
      "Testing config 140 on 144\n",
      "Testing config 141 on 144\n",
      "Testing config 142 on 144\n",
      "Testing config 143 on 144\n",
      "Testing config 144 on 144\n",
      "\n",
      "--------------------------------------Config Done--------------------------------------------\n",
      "\n"
     ]
    },
    {
     "name": "stderr",
     "output_type": "stream",
     "text": [
      "/usr/local/lib/python3.11/dist-packages/sklearn/metrics/_classification.py:1565: UndefinedMetricWarning: Precision is ill-defined and being set to 0.0 due to no predicted samples. Use `zero_division` parameter to control this behavior.\n",
      "  _warn_prf(average, modifier, f\"{metric.capitalize()} is\", len(result))\n"
     ]
    },
    {
     "data": {
      "text/html": [
       "Tracking run with wandb version 0.19.6"
      ],
      "text/plain": [
       "<IPython.core.display.HTML object>"
      ]
     },
     "metadata": {},
     "output_type": "display_data"
    },
    {
     "data": {
      "text/html": [
       "Run data is saved locally in <code>/content/wandb/run-20250222_112111-8qag8uuq</code>"
      ],
      "text/plain": [
       "<IPython.core.display.HTML object>"
      ]
     },
     "metadata": {},
     "output_type": "display_data"
    },
    {
     "data": {
      "text/html": [
       "Syncing run <strong><a href='https://wandb.ai/TFE-proteomics/ESM/runs/8qag8uuq' target=\"_blank\">ValidProtocol_ESM_fold_5</a></strong> to <a href='https://wandb.ai/TFE-proteomics/ESM' target=\"_blank\">Weights & Biases</a> (<a href='https://wandb.me/developer-guide' target=\"_blank\">docs</a>)<br>"
      ],
      "text/plain": [
       "<IPython.core.display.HTML object>"
      ]
     },
     "metadata": {},
     "output_type": "display_data"
    },
    {
     "data": {
      "text/html": [
       " View project at <a href='https://wandb.ai/TFE-proteomics/ESM' target=\"_blank\">https://wandb.ai/TFE-proteomics/ESM</a>"
      ],
      "text/plain": [
       "<IPython.core.display.HTML object>"
      ]
     },
     "metadata": {},
     "output_type": "display_data"
    },
    {
     "data": {
      "text/html": [
       " View run at <a href='https://wandb.ai/TFE-proteomics/ESM/runs/8qag8uuq' target=\"_blank\">https://wandb.ai/TFE-proteomics/ESM/runs/8qag8uuq</a>"
      ],
      "text/plain": [
       "<IPython.core.display.HTML object>"
      ]
     },
     "metadata": {},
     "output_type": "display_data"
    },
    {
     "data": {
      "text/html": [],
      "text/plain": [
       "<IPython.core.display.HTML object>"
      ]
     },
     "metadata": {},
     "output_type": "display_data"
    },
    {
     "data": {
      "text/html": [
       "<br>    <style><br>        .wandb-row {<br>            display: flex;<br>            flex-direction: row;<br>            flex-wrap: wrap;<br>            justify-content: flex-start;<br>            width: 100%;<br>        }<br>        .wandb-col {<br>            display: flex;<br>            flex-direction: column;<br>            flex-basis: 100%;<br>            flex: 1;<br>            padding: 10px;<br>        }<br>    </style><br><div class=\"wandb-row\"><div class=\"wandb-col\"><h3>Run history:</h3><br/><table class=\"wandb\"><tr><td>accuracy</td><td>▁</td></tr><tr><td>f1</td><td>▁</td></tr><tr><td>pr_auc</td><td>▁</td></tr><tr><td>precision</td><td>▁</td></tr><tr><td>recall</td><td>▁</td></tr><tr><td>roc_auc</td><td>▁</td></tr></table><br/></div><div class=\"wandb-col\"><h3>Run summary:</h3><br/><table class=\"wandb\"><tr><td>accuracy</td><td>0.74194</td></tr><tr><td>f1</td><td>0</td></tr><tr><td>pr_auc</td><td>0.3008</td></tr><tr><td>precision</td><td>0</td></tr><tr><td>recall</td><td>0</td></tr><tr><td>roc_auc</td><td>0.5</td></tr></table><br/></div></div>"
      ],
      "text/plain": [
       "<IPython.core.display.HTML object>"
      ]
     },
     "metadata": {},
     "output_type": "display_data"
    },
    {
     "data": {
      "text/html": [
       " View run <strong style=\"color:#cdcd00\">ValidProtocol_ESM_fold_5</strong> at: <a href='https://wandb.ai/TFE-proteomics/ESM/runs/8qag8uuq' target=\"_blank\">https://wandb.ai/TFE-proteomics/ESM/runs/8qag8uuq</a><br> View project at: <a href='https://wandb.ai/TFE-proteomics/ESM' target=\"_blank\">https://wandb.ai/TFE-proteomics/ESM</a><br>Synced 5 W&B file(s), 0 media file(s), 0 artifact file(s) and 0 other file(s)"
      ],
      "text/plain": [
       "<IPython.core.display.HTML object>"
      ]
     },
     "metadata": {},
     "output_type": "display_data"
    },
    {
     "data": {
      "text/html": [
       "Find logs at: <code>./wandb/run-20250222_112111-8qag8uuq/logs</code>"
      ],
      "text/plain": [
       "<IPython.core.display.HTML object>"
      ]
     },
     "metadata": {},
     "output_type": "display_data"
    },
    {
     "data": {
      "text/html": [
       "Tracking run with wandb version 0.19.6"
      ],
      "text/plain": [
       "<IPython.core.display.HTML object>"
      ]
     },
     "metadata": {},
     "output_type": "display_data"
    },
    {
     "data": {
      "text/html": [
       "Run data is saved locally in <code>/content/wandb/run-20250222_112115-l59dtsom</code>"
      ],
      "text/plain": [
       "<IPython.core.display.HTML object>"
      ]
     },
     "metadata": {},
     "output_type": "display_data"
    },
    {
     "data": {
      "text/html": [
       "Syncing run <strong><a href='https://wandb.ai/TFE-proteomics/ESM/runs/l59dtsom' target=\"_blank\">ValidProtocol_ESM_CrossValidation_Summary</a></strong> to <a href='https://wandb.ai/TFE-proteomics/ESM' target=\"_blank\">Weights & Biases</a> (<a href='https://wandb.me/developer-guide' target=\"_blank\">docs</a>)<br>"
      ],
      "text/plain": [
       "<IPython.core.display.HTML object>"
      ]
     },
     "metadata": {},
     "output_type": "display_data"
    },
    {
     "data": {
      "text/html": [
       " View project at <a href='https://wandb.ai/TFE-proteomics/ESM' target=\"_blank\">https://wandb.ai/TFE-proteomics/ESM</a>"
      ],
      "text/plain": [
       "<IPython.core.display.HTML object>"
      ]
     },
     "metadata": {},
     "output_type": "display_data"
    },
    {
     "data": {
      "text/html": [
       " View run at <a href='https://wandb.ai/TFE-proteomics/ESM/runs/l59dtsom' target=\"_blank\">https://wandb.ai/TFE-proteomics/ESM/runs/l59dtsom</a>"
      ],
      "text/plain": [
       "<IPython.core.display.HTML object>"
      ]
     },
     "metadata": {},
     "output_type": "display_data"
    },
    {
     "data": {
      "text/html": [],
      "text/plain": [
       "<IPython.core.display.HTML object>"
      ]
     },
     "metadata": {},
     "output_type": "display_data"
    },
    {
     "data": {
      "text/html": [
       "<br>    <style><br>        .wandb-row {<br>            display: flex;<br>            flex-direction: row;<br>            flex-wrap: wrap;<br>            justify-content: flex-start;<br>            width: 100%;<br>        }<br>        .wandb-col {<br>            display: flex;<br>            flex-direction: column;<br>            flex-basis: 100%;<br>            flex: 1;<br>            padding: 10px;<br>        }<br>    </style><br><div class=\"wandb-row\"><div class=\"wandb-col\"><h3>Run history:</h3><br/><table class=\"wandb\"><tr><td>accuracy_mean</td><td>▁</td></tr><tr><td>accuracy_std</td><td>▁</td></tr><tr><td>f1_mean</td><td>▁</td></tr><tr><td>f1_std</td><td>▁</td></tr><tr><td>pr_auc_mean</td><td>▁</td></tr><tr><td>pr_auc_std</td><td>▁</td></tr><tr><td>precision_mean</td><td>▁</td></tr><tr><td>precision_std</td><td>▁</td></tr><tr><td>recall_mean</td><td>▁</td></tr><tr><td>recall_std</td><td>▁</td></tr><tr><td>roc_auc_mean</td><td>▁</td></tr><tr><td>roc_auc_std</td><td>▁</td></tr></table><br/></div><div class=\"wandb-col\"><h3>Run summary:</h3><br/><table class=\"wandb\"><tr><td>accuracy_mean</td><td>0.54839</td></tr><tr><td>accuracy_std</td><td>0.2507</td></tr><tr><td>f1_mean</td><td>0.15574</td></tr><tr><td>f1_std</td><td>0.19119</td></tr><tr><td>pr_auc_mean</td><td>0.30062</td></tr><tr><td>pr_auc_std</td><td>0.12525</td></tr><tr><td>precision_mean</td><td>0.09677</td></tr><tr><td>precision_std</td><td>0.11896</td></tr><tr><td>recall_mean</td><td>0.4</td></tr><tr><td>recall_std</td><td>0.4899</td></tr><tr><td>roc_auc_mean</td><td>0.48328</td></tr><tr><td>roc_auc_std</td><td>0.17321</td></tr></table><br/></div></div>"
      ],
      "text/plain": [
       "<IPython.core.display.HTML object>"
      ]
     },
     "metadata": {},
     "output_type": "display_data"
    },
    {
     "data": {
      "text/html": [
       " View run <strong style=\"color:#cdcd00\">ValidProtocol_ESM_CrossValidation_Summary</strong> at: <a href='https://wandb.ai/TFE-proteomics/ESM/runs/l59dtsom' target=\"_blank\">https://wandb.ai/TFE-proteomics/ESM/runs/l59dtsom</a><br> View project at: <a href='https://wandb.ai/TFE-proteomics/ESM' target=\"_blank\">https://wandb.ai/TFE-proteomics/ESM</a><br>Synced 5 W&B file(s), 0 media file(s), 0 artifact file(s) and 0 other file(s)"
      ],
      "text/plain": [
       "<IPython.core.display.HTML object>"
      ]
     },
     "metadata": {},
     "output_type": "display_data"
    },
    {
     "data": {
      "text/html": [
       "Find logs at: <code>./wandb/run-20250222_112115-l59dtsom/logs</code>"
      ],
      "text/plain": [
       "<IPython.core.display.HTML object>"
      ]
     },
     "metadata": {},
     "output_type": "display_data"
    },
    {
     "name": "stdout",
     "output_type": "stream",
     "text": [
      "Fold 1 on 5\n",
      "Testing config 1 on 144\n",
      "Testing config 2 on 144\n",
      "Testing config 3 on 144\n",
      "Testing config 4 on 144\n",
      "Testing config 5 on 144\n",
      "Testing config 6 on 144\n",
      "Testing config 7 on 144\n",
      "Testing config 8 on 144\n",
      "Testing config 9 on 144\n",
      "Testing config 10 on 144\n",
      "Testing config 11 on 144\n",
      "Testing config 12 on 144\n",
      "Testing config 13 on 144\n",
      "Testing config 14 on 144\n",
      "Testing config 15 on 144\n",
      "Testing config 16 on 144\n",
      "Testing config 17 on 144\n",
      "Testing config 18 on 144\n",
      "Testing config 19 on 144\n",
      "Testing config 20 on 144\n",
      "Testing config 21 on 144\n",
      "Testing config 22 on 144\n",
      "Testing config 23 on 144\n",
      "Testing config 24 on 144\n",
      "Testing config 25 on 144\n",
      "Testing config 26 on 144\n",
      "Testing config 27 on 144\n",
      "Testing config 28 on 144\n",
      "Testing config 29 on 144\n",
      "Testing config 30 on 144\n",
      "Testing config 31 on 144\n",
      "Testing config 32 on 144\n",
      "Testing config 33 on 144\n",
      "Testing config 34 on 144\n",
      "Testing config 35 on 144\n",
      "Testing config 36 on 144\n",
      "Testing config 37 on 144\n",
      "Testing config 38 on 144\n",
      "Testing config 39 on 144\n",
      "Testing config 40 on 144\n",
      "Testing config 41 on 144\n",
      "Testing config 42 on 144\n",
      "Testing config 43 on 144\n",
      "Testing config 44 on 144\n",
      "Testing config 45 on 144\n",
      "Testing config 46 on 144\n",
      "Testing config 47 on 144\n",
      "Testing config 48 on 144\n",
      "Testing config 49 on 144\n",
      "Testing config 50 on 144\n",
      "Testing config 51 on 144\n",
      "Testing config 52 on 144\n",
      "Testing config 53 on 144\n",
      "Testing config 54 on 144\n",
      "Testing config 55 on 144\n",
      "Testing config 56 on 144\n",
      "Testing config 57 on 144\n",
      "Testing config 58 on 144\n",
      "Testing config 59 on 144\n",
      "Testing config 60 on 144\n",
      "Testing config 61 on 144\n",
      "Testing config 62 on 144\n",
      "Testing config 63 on 144\n",
      "Testing config 64 on 144\n",
      "Testing config 65 on 144\n",
      "Testing config 66 on 144\n",
      "Testing config 67 on 144\n",
      "Testing config 68 on 144\n",
      "Testing config 69 on 144\n",
      "Testing config 70 on 144\n",
      "Testing config 71 on 144\n",
      "Testing config 72 on 144\n",
      "Testing config 73 on 144\n",
      "Testing config 74 on 144\n",
      "Testing config 75 on 144\n",
      "Testing config 76 on 144\n",
      "Testing config 77 on 144\n",
      "Testing config 78 on 144\n",
      "Testing config 79 on 144\n",
      "Testing config 80 on 144\n",
      "Testing config 81 on 144\n",
      "Testing config 82 on 144\n",
      "Testing config 83 on 144\n",
      "Testing config 84 on 144\n",
      "Testing config 85 on 144\n",
      "Testing config 86 on 144\n",
      "Testing config 87 on 144\n",
      "Testing config 88 on 144\n",
      "Testing config 89 on 144\n",
      "Testing config 90 on 144\n",
      "Testing config 91 on 144\n",
      "Testing config 92 on 144\n",
      "Testing config 93 on 144\n",
      "Testing config 94 on 144\n",
      "Testing config 95 on 144\n",
      "Testing config 96 on 144\n",
      "Testing config 97 on 144\n",
      "Testing config 98 on 144\n",
      "Testing config 99 on 144\n",
      "Testing config 100 on 144\n",
      "Testing config 101 on 144\n",
      "Testing config 102 on 144\n",
      "Testing config 103 on 144\n",
      "Testing config 104 on 144\n",
      "Testing config 105 on 144\n",
      "Testing config 106 on 144\n",
      "Testing config 107 on 144\n",
      "Testing config 108 on 144\n",
      "Testing config 109 on 144\n",
      "Testing config 110 on 144\n",
      "Testing config 111 on 144\n",
      "Testing config 112 on 144\n",
      "Testing config 113 on 144\n",
      "Testing config 114 on 144\n",
      "Testing config 115 on 144\n",
      "Testing config 116 on 144\n",
      "Testing config 117 on 144\n",
      "Testing config 118 on 144\n",
      "Testing config 119 on 144\n",
      "Testing config 120 on 144\n",
      "Testing config 121 on 144\n",
      "Testing config 122 on 144\n",
      "Testing config 123 on 144\n",
      "Testing config 124 on 144\n",
      "Testing config 125 on 144\n",
      "Testing config 126 on 144\n",
      "Testing config 127 on 144\n",
      "Testing config 128 on 144\n",
      "Testing config 129 on 144\n",
      "Testing config 130 on 144\n",
      "Testing config 131 on 144\n",
      "Testing config 132 on 144\n",
      "Testing config 133 on 144\n",
      "Testing config 134 on 144\n",
      "Testing config 135 on 144\n",
      "Testing config 136 on 144\n",
      "Testing config 137 on 144\n",
      "Testing config 138 on 144\n",
      "Testing config 139 on 144\n",
      "Testing config 140 on 144\n",
      "Testing config 141 on 144\n",
      "Testing config 142 on 144\n",
      "Testing config 143 on 144\n",
      "Testing config 144 on 144\n",
      "\n",
      "--------------------------------------Config Done--------------------------------------------\n",
      "\n"
     ]
    },
    {
     "data": {
      "text/html": [
       "Tracking run with wandb version 0.19.6"
      ],
      "text/plain": [
       "<IPython.core.display.HTML object>"
      ]
     },
     "metadata": {},
     "output_type": "display_data"
    },
    {
     "data": {
      "text/html": [
       "Run data is saved locally in <code>/content/wandb/run-20250222_113325-60rfzfkz</code>"
      ],
      "text/plain": [
       "<IPython.core.display.HTML object>"
      ]
     },
     "metadata": {},
     "output_type": "display_data"
    },
    {
     "data": {
      "text/html": [
       "Syncing run <strong><a href='https://wandb.ai/TFE-proteomics/ESM/runs/60rfzfkz' target=\"_blank\">ValidProtocol_ESM_fold_1</a></strong> to <a href='https://wandb.ai/TFE-proteomics/ESM' target=\"_blank\">Weights & Biases</a> (<a href='https://wandb.me/developer-guide' target=\"_blank\">docs</a>)<br>"
      ],
      "text/plain": [
       "<IPython.core.display.HTML object>"
      ]
     },
     "metadata": {},
     "output_type": "display_data"
    },
    {
     "data": {
      "text/html": [
       " View project at <a href='https://wandb.ai/TFE-proteomics/ESM' target=\"_blank\">https://wandb.ai/TFE-proteomics/ESM</a>"
      ],
      "text/plain": [
       "<IPython.core.display.HTML object>"
      ]
     },
     "metadata": {},
     "output_type": "display_data"
    },
    {
     "data": {
      "text/html": [
       " View run at <a href='https://wandb.ai/TFE-proteomics/ESM/runs/60rfzfkz' target=\"_blank\">https://wandb.ai/TFE-proteomics/ESM/runs/60rfzfkz</a>"
      ],
      "text/plain": [
       "<IPython.core.display.HTML object>"
      ]
     },
     "metadata": {},
     "output_type": "display_data"
    },
    {
     "data": {
      "text/html": [],
      "text/plain": [
       "<IPython.core.display.HTML object>"
      ]
     },
     "metadata": {},
     "output_type": "display_data"
    },
    {
     "data": {
      "text/html": [
       "<br>    <style><br>        .wandb-row {<br>            display: flex;<br>            flex-direction: row;<br>            flex-wrap: wrap;<br>            justify-content: flex-start;<br>            width: 100%;<br>        }<br>        .wandb-col {<br>            display: flex;<br>            flex-direction: column;<br>            flex-basis: 100%;<br>            flex: 1;<br>            padding: 10px;<br>        }<br>    </style><br><div class=\"wandb-row\"><div class=\"wandb-col\"><h3>Run history:</h3><br/><table class=\"wandb\"><tr><td>accuracy</td><td>▁</td></tr><tr><td>f1</td><td>▁</td></tr><tr><td>pr_auc</td><td>▁</td></tr><tr><td>precision</td><td>▁</td></tr><tr><td>recall</td><td>▁</td></tr><tr><td>roc_auc</td><td>▁</td></tr></table><br/></div><div class=\"wandb-col\"><h3>Run summary:</h3><br/><table class=\"wandb\"><tr><td>accuracy</td><td>0.22581</td></tr><tr><td>f1</td><td>0.36842</td></tr><tr><td>pr_auc</td><td>0.20369</td></tr><tr><td>precision</td><td>0.22581</td></tr><tr><td>recall</td><td>1</td></tr><tr><td>roc_auc</td><td>0.41071</td></tr></table><br/></div></div>"
      ],
      "text/plain": [
       "<IPython.core.display.HTML object>"
      ]
     },
     "metadata": {},
     "output_type": "display_data"
    },
    {
     "data": {
      "text/html": [
       " View run <strong style=\"color:#cdcd00\">ValidProtocol_ESM_fold_1</strong> at: <a href='https://wandb.ai/TFE-proteomics/ESM/runs/60rfzfkz' target=\"_blank\">https://wandb.ai/TFE-proteomics/ESM/runs/60rfzfkz</a><br> View project at: <a href='https://wandb.ai/TFE-proteomics/ESM' target=\"_blank\">https://wandb.ai/TFE-proteomics/ESM</a><br>Synced 5 W&B file(s), 0 media file(s), 0 artifact file(s) and 0 other file(s)"
      ],
      "text/plain": [
       "<IPython.core.display.HTML object>"
      ]
     },
     "metadata": {},
     "output_type": "display_data"
    },
    {
     "data": {
      "text/html": [
       "Find logs at: <code>./wandb/run-20250222_113325-60rfzfkz/logs</code>"
      ],
      "text/plain": [
       "<IPython.core.display.HTML object>"
      ]
     },
     "metadata": {},
     "output_type": "display_data"
    },
    {
     "name": "stdout",
     "output_type": "stream",
     "text": [
      "Fold 2 on 5\n",
      "Testing config 1 on 144\n",
      "Testing config 2 on 144\n",
      "Testing config 3 on 144\n",
      "Testing config 4 on 144\n",
      "Testing config 5 on 144\n",
      "Testing config 6 on 144\n",
      "Testing config 7 on 144\n",
      "Testing config 8 on 144\n",
      "Testing config 9 on 144\n",
      "Testing config 10 on 144\n",
      "Testing config 11 on 144\n",
      "Testing config 12 on 144\n",
      "Testing config 13 on 144\n",
      "Testing config 14 on 144\n",
      "Testing config 15 on 144\n",
      "Testing config 16 on 144\n",
      "Testing config 17 on 144\n",
      "Testing config 18 on 144\n",
      "Testing config 19 on 144\n",
      "Testing config 20 on 144\n",
      "Testing config 21 on 144\n",
      "Testing config 22 on 144\n",
      "Testing config 23 on 144\n",
      "Testing config 24 on 144\n",
      "Testing config 25 on 144\n",
      "Testing config 26 on 144\n",
      "Testing config 27 on 144\n",
      "Testing config 28 on 144\n",
      "Testing config 29 on 144\n",
      "Testing config 30 on 144\n",
      "Testing config 31 on 144\n",
      "Testing config 32 on 144\n",
      "Testing config 33 on 144\n",
      "Testing config 34 on 144\n",
      "Testing config 35 on 144\n",
      "Testing config 36 on 144\n",
      "Testing config 37 on 144\n",
      "Testing config 38 on 144\n",
      "Testing config 39 on 144\n",
      "Testing config 40 on 144\n",
      "Testing config 41 on 144\n",
      "Testing config 42 on 144\n",
      "Testing config 43 on 144\n",
      "Testing config 44 on 144\n",
      "Testing config 45 on 144\n",
      "Testing config 46 on 144\n",
      "Testing config 47 on 144\n",
      "Testing config 48 on 144\n",
      "Testing config 49 on 144\n",
      "Testing config 50 on 144\n",
      "Testing config 51 on 144\n",
      "Testing config 52 on 144\n",
      "Testing config 53 on 144\n",
      "Testing config 54 on 144\n",
      "Testing config 55 on 144\n",
      "Testing config 56 on 144\n",
      "Testing config 57 on 144\n",
      "Testing config 58 on 144\n",
      "Testing config 59 on 144\n",
      "Testing config 60 on 144\n",
      "Testing config 61 on 144\n",
      "Testing config 62 on 144\n",
      "Testing config 63 on 144\n",
      "Testing config 64 on 144\n",
      "Testing config 65 on 144\n",
      "Testing config 66 on 144\n",
      "Testing config 67 on 144\n",
      "Testing config 68 on 144\n",
      "Testing config 69 on 144\n",
      "Testing config 70 on 144\n",
      "Testing config 71 on 144\n",
      "Testing config 72 on 144\n",
      "Testing config 73 on 144\n",
      "Testing config 74 on 144\n",
      "Testing config 75 on 144\n",
      "Testing config 76 on 144\n",
      "Testing config 77 on 144\n",
      "Testing config 78 on 144\n",
      "Testing config 79 on 144\n",
      "Testing config 80 on 144\n",
      "Testing config 81 on 144\n",
      "Testing config 82 on 144\n",
      "Testing config 83 on 144\n",
      "Testing config 84 on 144\n",
      "Testing config 85 on 144\n",
      "Testing config 86 on 144\n",
      "Testing config 87 on 144\n",
      "Testing config 88 on 144\n",
      "Testing config 89 on 144\n",
      "Testing config 90 on 144\n",
      "Testing config 91 on 144\n",
      "Testing config 92 on 144\n",
      "Testing config 93 on 144\n",
      "Testing config 94 on 144\n",
      "Testing config 95 on 144\n",
      "Testing config 96 on 144\n",
      "Testing config 97 on 144\n",
      "Testing config 98 on 144\n",
      "Testing config 99 on 144\n",
      "Testing config 100 on 144\n",
      "Testing config 101 on 144\n",
      "Testing config 102 on 144\n",
      "Testing config 103 on 144\n",
      "Testing config 104 on 144\n",
      "Testing config 105 on 144\n",
      "Testing config 106 on 144\n",
      "Testing config 107 on 144\n",
      "Testing config 108 on 144\n",
      "Testing config 109 on 144\n",
      "Testing config 110 on 144\n",
      "Testing config 111 on 144\n",
      "Testing config 112 on 144\n",
      "Testing config 113 on 144\n",
      "Testing config 114 on 144\n",
      "Testing config 115 on 144\n",
      "Testing config 116 on 144\n",
      "Testing config 117 on 144\n",
      "Testing config 118 on 144\n",
      "Testing config 119 on 144\n",
      "Testing config 120 on 144\n",
      "Testing config 121 on 144\n",
      "Testing config 122 on 144\n",
      "Testing config 123 on 144\n",
      "Testing config 124 on 144\n",
      "Testing config 125 on 144\n",
      "Testing config 126 on 144\n",
      "Testing config 127 on 144\n",
      "Testing config 128 on 144\n",
      "Testing config 129 on 144\n",
      "Testing config 130 on 144\n",
      "Testing config 131 on 144\n",
      "Testing config 132 on 144\n",
      "Testing config 133 on 144\n",
      "Testing config 134 on 144\n",
      "Testing config 135 on 144\n",
      "Testing config 136 on 144\n",
      "Testing config 137 on 144\n",
      "Testing config 138 on 144\n",
      "Testing config 139 on 144\n",
      "Testing config 140 on 144\n",
      "Testing config 141 on 144\n",
      "Testing config 142 on 144\n",
      "Testing config 143 on 144\n",
      "Testing config 144 on 144\n",
      "\n",
      "--------------------------------------Config Done--------------------------------------------\n",
      "\n"
     ]
    },
    {
     "data": {
      "text/html": [
       "Tracking run with wandb version 0.19.6"
      ],
      "text/plain": [
       "<IPython.core.display.HTML object>"
      ]
     },
     "metadata": {},
     "output_type": "display_data"
    },
    {
     "data": {
      "text/html": [
       "Run data is saved locally in <code>/content/wandb/run-20250222_114541-mn5fqpj7</code>"
      ],
      "text/plain": [
       "<IPython.core.display.HTML object>"
      ]
     },
     "metadata": {},
     "output_type": "display_data"
    },
    {
     "data": {
      "text/html": [
       "Syncing run <strong><a href='https://wandb.ai/TFE-proteomics/ESM/runs/mn5fqpj7' target=\"_blank\">ValidProtocol_ESM_fold_2</a></strong> to <a href='https://wandb.ai/TFE-proteomics/ESM' target=\"_blank\">Weights & Biases</a> (<a href='https://wandb.me/developer-guide' target=\"_blank\">docs</a>)<br>"
      ],
      "text/plain": [
       "<IPython.core.display.HTML object>"
      ]
     },
     "metadata": {},
     "output_type": "display_data"
    },
    {
     "data": {
      "text/html": [
       " View project at <a href='https://wandb.ai/TFE-proteomics/ESM' target=\"_blank\">https://wandb.ai/TFE-proteomics/ESM</a>"
      ],
      "text/plain": [
       "<IPython.core.display.HTML object>"
      ]
     },
     "metadata": {},
     "output_type": "display_data"
    },
    {
     "data": {
      "text/html": [
       " View run at <a href='https://wandb.ai/TFE-proteomics/ESM/runs/mn5fqpj7' target=\"_blank\">https://wandb.ai/TFE-proteomics/ESM/runs/mn5fqpj7</a>"
      ],
      "text/plain": [
       "<IPython.core.display.HTML object>"
      ]
     },
     "metadata": {},
     "output_type": "display_data"
    },
    {
     "data": {
      "text/html": [],
      "text/plain": [
       "<IPython.core.display.HTML object>"
      ]
     },
     "metadata": {},
     "output_type": "display_data"
    },
    {
     "data": {
      "text/html": [
       "<br>    <style><br>        .wandb-row {<br>            display: flex;<br>            flex-direction: row;<br>            flex-wrap: wrap;<br>            justify-content: flex-start;<br>            width: 100%;<br>        }<br>        .wandb-col {<br>            display: flex;<br>            flex-direction: column;<br>            flex-basis: 100%;<br>            flex: 1;<br>            padding: 10px;<br>        }<br>    </style><br><div class=\"wandb-row\"><div class=\"wandb-col\"><h3>Run history:</h3><br/><table class=\"wandb\"><tr><td>accuracy</td><td>▁</td></tr><tr><td>f1</td><td>▁</td></tr><tr><td>pr_auc</td><td>▁</td></tr><tr><td>precision</td><td>▁</td></tr><tr><td>recall</td><td>▁</td></tr><tr><td>roc_auc</td><td>▁</td></tr></table><br/></div><div class=\"wandb-col\"><h3>Run summary:</h3><br/><table class=\"wandb\"><tr><td>accuracy</td><td>0.22581</td></tr><tr><td>f1</td><td>0.36842</td></tr><tr><td>pr_auc</td><td>0.28791</td></tr><tr><td>precision</td><td>0.22581</td></tr><tr><td>recall</td><td>1</td></tr><tr><td>roc_auc</td><td>0.55952</td></tr></table><br/></div></div>"
      ],
      "text/plain": [
       "<IPython.core.display.HTML object>"
      ]
     },
     "metadata": {},
     "output_type": "display_data"
    },
    {
     "data": {
      "text/html": [
       " View run <strong style=\"color:#cdcd00\">ValidProtocol_ESM_fold_2</strong> at: <a href='https://wandb.ai/TFE-proteomics/ESM/runs/mn5fqpj7' target=\"_blank\">https://wandb.ai/TFE-proteomics/ESM/runs/mn5fqpj7</a><br> View project at: <a href='https://wandb.ai/TFE-proteomics/ESM' target=\"_blank\">https://wandb.ai/TFE-proteomics/ESM</a><br>Synced 5 W&B file(s), 0 media file(s), 0 artifact file(s) and 0 other file(s)"
      ],
      "text/plain": [
       "<IPython.core.display.HTML object>"
      ]
     },
     "metadata": {},
     "output_type": "display_data"
    },
    {
     "data": {
      "text/html": [
       "Find logs at: <code>./wandb/run-20250222_114541-mn5fqpj7/logs</code>"
      ],
      "text/plain": [
       "<IPython.core.display.HTML object>"
      ]
     },
     "metadata": {},
     "output_type": "display_data"
    },
    {
     "name": "stdout",
     "output_type": "stream",
     "text": [
      "Fold 3 on 5\n",
      "Testing config 1 on 144\n",
      "Testing config 2 on 144\n",
      "Testing config 3 on 144\n",
      "Testing config 4 on 144\n",
      "Testing config 5 on 144\n",
      "Testing config 6 on 144\n",
      "Testing config 7 on 144\n",
      "Testing config 8 on 144\n",
      "Testing config 9 on 144\n",
      "Testing config 10 on 144\n",
      "Testing config 11 on 144\n",
      "Testing config 12 on 144\n",
      "Testing config 13 on 144\n",
      "Testing config 14 on 144\n",
      "Testing config 15 on 144\n",
      "Testing config 16 on 144\n",
      "Testing config 17 on 144\n",
      "Testing config 18 on 144\n",
      "Testing config 19 on 144\n",
      "Testing config 20 on 144\n",
      "Testing config 21 on 144\n",
      "Testing config 22 on 144\n",
      "Testing config 23 on 144\n",
      "Testing config 24 on 144\n",
      "Testing config 25 on 144\n",
      "Testing config 26 on 144\n",
      "Testing config 27 on 144\n",
      "Testing config 28 on 144\n",
      "Testing config 29 on 144\n",
      "Testing config 30 on 144\n",
      "Testing config 31 on 144\n",
      "Testing config 32 on 144\n",
      "Testing config 33 on 144\n",
      "Testing config 34 on 144\n",
      "Testing config 35 on 144\n",
      "Testing config 36 on 144\n",
      "Testing config 37 on 144\n",
      "Testing config 38 on 144\n",
      "Testing config 39 on 144\n",
      "Testing config 40 on 144\n",
      "Testing config 41 on 144\n",
      "Testing config 42 on 144\n",
      "Testing config 43 on 144\n",
      "Testing config 44 on 144\n",
      "Testing config 45 on 144\n",
      "Testing config 46 on 144\n",
      "Testing config 47 on 144\n",
      "Testing config 48 on 144\n",
      "Testing config 49 on 144\n",
      "Testing config 50 on 144\n",
      "Testing config 51 on 144\n",
      "Testing config 52 on 144\n",
      "Testing config 53 on 144\n",
      "Testing config 54 on 144\n",
      "Testing config 55 on 144\n",
      "Testing config 56 on 144\n",
      "Testing config 57 on 144\n",
      "Testing config 58 on 144\n",
      "Testing config 59 on 144\n",
      "Testing config 60 on 144\n",
      "Testing config 61 on 144\n",
      "Testing config 62 on 144\n",
      "Testing config 63 on 144\n",
      "Testing config 64 on 144\n",
      "Testing config 65 on 144\n",
      "Testing config 66 on 144\n",
      "Testing config 67 on 144\n",
      "Testing config 68 on 144\n",
      "Testing config 69 on 144\n",
      "Testing config 70 on 144\n",
      "Testing config 71 on 144\n",
      "Testing config 72 on 144\n",
      "Testing config 73 on 144\n",
      "Testing config 74 on 144\n",
      "Testing config 75 on 144\n",
      "Testing config 76 on 144\n",
      "Testing config 77 on 144\n",
      "Testing config 78 on 144\n",
      "Testing config 79 on 144\n",
      "Testing config 80 on 144\n",
      "Testing config 81 on 144\n",
      "Testing config 82 on 144\n",
      "Testing config 83 on 144\n",
      "Testing config 84 on 144\n",
      "Testing config 85 on 144\n",
      "Testing config 86 on 144\n",
      "Testing config 87 on 144\n",
      "Testing config 88 on 144\n",
      "Testing config 89 on 144\n",
      "Testing config 90 on 144\n",
      "Testing config 91 on 144\n",
      "Testing config 92 on 144\n",
      "Testing config 93 on 144\n",
      "Testing config 94 on 144\n",
      "Testing config 95 on 144\n",
      "Testing config 96 on 144\n",
      "Testing config 97 on 144\n",
      "Testing config 98 on 144\n",
      "Testing config 99 on 144\n",
      "Testing config 100 on 144\n",
      "Testing config 101 on 144\n",
      "Testing config 102 on 144\n",
      "Testing config 103 on 144\n",
      "Testing config 104 on 144\n",
      "Testing config 105 on 144\n",
      "Testing config 106 on 144\n",
      "Testing config 107 on 144\n",
      "Testing config 108 on 144\n",
      "Testing config 109 on 144\n",
      "Testing config 110 on 144\n",
      "Testing config 111 on 144\n",
      "Testing config 112 on 144\n",
      "Testing config 113 on 144\n",
      "Testing config 114 on 144\n",
      "Testing config 115 on 144\n",
      "Testing config 116 on 144\n",
      "Testing config 117 on 144\n",
      "Testing config 118 on 144\n",
      "Testing config 119 on 144\n",
      "Testing config 120 on 144\n",
      "Testing config 121 on 144\n",
      "Testing config 122 on 144\n",
      "Testing config 123 on 144\n",
      "Testing config 124 on 144\n",
      "Testing config 125 on 144\n",
      "Testing config 126 on 144\n",
      "Testing config 127 on 144\n",
      "Testing config 128 on 144\n",
      "Testing config 129 on 144\n",
      "Testing config 130 on 144\n",
      "Testing config 131 on 144\n",
      "Testing config 132 on 144\n",
      "Testing config 133 on 144\n",
      "Testing config 134 on 144\n",
      "Testing config 135 on 144\n",
      "Testing config 136 on 144\n",
      "Testing config 137 on 144\n",
      "Testing config 138 on 144\n",
      "Testing config 139 on 144\n",
      "Testing config 140 on 144\n",
      "Testing config 141 on 144\n",
      "Testing config 142 on 144\n",
      "Testing config 143 on 144\n",
      "Testing config 144 on 144\n",
      "\n",
      "--------------------------------------Config Done--------------------------------------------\n",
      "\n"
     ]
    },
    {
     "name": "stderr",
     "output_type": "stream",
     "text": [
      "/usr/local/lib/python3.11/dist-packages/sklearn/metrics/_classification.py:1565: UndefinedMetricWarning: Precision is ill-defined and being set to 0.0 due to no predicted samples. Use `zero_division` parameter to control this behavior.\n",
      "  _warn_prf(average, modifier, f\"{metric.capitalize()} is\", len(result))\n"
     ]
    },
    {
     "data": {
      "text/html": [
       "Tracking run with wandb version 0.19.6"
      ],
      "text/plain": [
       "<IPython.core.display.HTML object>"
      ]
     },
     "metadata": {},
     "output_type": "display_data"
    },
    {
     "data": {
      "text/html": [
       "Run data is saved locally in <code>/content/wandb/run-20250222_115808-8miaj2qs</code>"
      ],
      "text/plain": [
       "<IPython.core.display.HTML object>"
      ]
     },
     "metadata": {},
     "output_type": "display_data"
    },
    {
     "data": {
      "text/html": [
       "Syncing run <strong><a href='https://wandb.ai/TFE-proteomics/ESM/runs/8miaj2qs' target=\"_blank\">ValidProtocol_ESM_fold_3</a></strong> to <a href='https://wandb.ai/TFE-proteomics/ESM' target=\"_blank\">Weights & Biases</a> (<a href='https://wandb.me/developer-guide' target=\"_blank\">docs</a>)<br>"
      ],
      "text/plain": [
       "<IPython.core.display.HTML object>"
      ]
     },
     "metadata": {},
     "output_type": "display_data"
    },
    {
     "data": {
      "text/html": [
       " View project at <a href='https://wandb.ai/TFE-proteomics/ESM' target=\"_blank\">https://wandb.ai/TFE-proteomics/ESM</a>"
      ],
      "text/plain": [
       "<IPython.core.display.HTML object>"
      ]
     },
     "metadata": {},
     "output_type": "display_data"
    },
    {
     "data": {
      "text/html": [
       " View run at <a href='https://wandb.ai/TFE-proteomics/ESM/runs/8miaj2qs' target=\"_blank\">https://wandb.ai/TFE-proteomics/ESM/runs/8miaj2qs</a>"
      ],
      "text/plain": [
       "<IPython.core.display.HTML object>"
      ]
     },
     "metadata": {},
     "output_type": "display_data"
    },
    {
     "data": {
      "text/html": [],
      "text/plain": [
       "<IPython.core.display.HTML object>"
      ]
     },
     "metadata": {},
     "output_type": "display_data"
    },
    {
     "data": {
      "text/html": [
       "<br>    <style><br>        .wandb-row {<br>            display: flex;<br>            flex-direction: row;<br>            flex-wrap: wrap;<br>            justify-content: flex-start;<br>            width: 100%;<br>        }<br>        .wandb-col {<br>            display: flex;<br>            flex-direction: column;<br>            flex-basis: 100%;<br>            flex: 1;<br>            padding: 10px;<br>        }<br>    </style><br><div class=\"wandb-row\"><div class=\"wandb-col\"><h3>Run history:</h3><br/><table class=\"wandb\"><tr><td>accuracy</td><td>▁</td></tr><tr><td>f1</td><td>▁</td></tr><tr><td>pr_auc</td><td>▁</td></tr><tr><td>precision</td><td>▁</td></tr><tr><td>recall</td><td>▁</td></tr><tr><td>roc_auc</td><td>▁</td></tr></table><br/></div><div class=\"wandb-col\"><h3>Run summary:</h3><br/><table class=\"wandb\"><tr><td>accuracy</td><td>0.74194</td></tr><tr><td>f1</td><td>0</td></tr><tr><td>pr_auc</td><td>0.19843</td></tr><tr><td>precision</td><td>0</td></tr><tr><td>recall</td><td>0</td></tr><tr><td>roc_auc</td><td>0.28261</td></tr></table><br/></div></div>"
      ],
      "text/plain": [
       "<IPython.core.display.HTML object>"
      ]
     },
     "metadata": {},
     "output_type": "display_data"
    },
    {
     "data": {
      "text/html": [
       " View run <strong style=\"color:#cdcd00\">ValidProtocol_ESM_fold_3</strong> at: <a href='https://wandb.ai/TFE-proteomics/ESM/runs/8miaj2qs' target=\"_blank\">https://wandb.ai/TFE-proteomics/ESM/runs/8miaj2qs</a><br> View project at: <a href='https://wandb.ai/TFE-proteomics/ESM' target=\"_blank\">https://wandb.ai/TFE-proteomics/ESM</a><br>Synced 5 W&B file(s), 0 media file(s), 0 artifact file(s) and 0 other file(s)"
      ],
      "text/plain": [
       "<IPython.core.display.HTML object>"
      ]
     },
     "metadata": {},
     "output_type": "display_data"
    },
    {
     "data": {
      "text/html": [
       "Find logs at: <code>./wandb/run-20250222_115808-8miaj2qs/logs</code>"
      ],
      "text/plain": [
       "<IPython.core.display.HTML object>"
      ]
     },
     "metadata": {},
     "output_type": "display_data"
    },
    {
     "name": "stdout",
     "output_type": "stream",
     "text": [
      "Fold 4 on 5\n",
      "Testing config 1 on 144\n",
      "Testing config 2 on 144\n",
      "Testing config 3 on 144\n",
      "Testing config 4 on 144\n",
      "Testing config 5 on 144\n",
      "Testing config 6 on 144\n",
      "Testing config 7 on 144\n",
      "Testing config 8 on 144\n",
      "Testing config 9 on 144\n",
      "Testing config 10 on 144\n",
      "Testing config 11 on 144\n",
      "Testing config 12 on 144\n",
      "Testing config 13 on 144\n",
      "Testing config 14 on 144\n",
      "Testing config 15 on 144\n",
      "Testing config 16 on 144\n",
      "Testing config 17 on 144\n",
      "Testing config 18 on 144\n",
      "Testing config 19 on 144\n",
      "Testing config 20 on 144\n",
      "Testing config 21 on 144\n",
      "Testing config 22 on 144\n",
      "Testing config 23 on 144\n",
      "Testing config 24 on 144\n",
      "Testing config 25 on 144\n",
      "Testing config 26 on 144\n",
      "Testing config 27 on 144\n",
      "Testing config 28 on 144\n",
      "Testing config 29 on 144\n",
      "Testing config 30 on 144\n",
      "Testing config 31 on 144\n",
      "Testing config 32 on 144\n",
      "Testing config 33 on 144\n",
      "Testing config 34 on 144\n",
      "Testing config 35 on 144\n",
      "Testing config 36 on 144\n",
      "Testing config 37 on 144\n",
      "Testing config 38 on 144\n",
      "Testing config 39 on 144\n",
      "Testing config 40 on 144\n",
      "Testing config 41 on 144\n",
      "Testing config 42 on 144\n",
      "Testing config 43 on 144\n",
      "Testing config 44 on 144\n",
      "Testing config 45 on 144\n",
      "Testing config 46 on 144\n",
      "Testing config 47 on 144\n",
      "Testing config 48 on 144\n",
      "Testing config 49 on 144\n",
      "Testing config 50 on 144\n",
      "Testing config 51 on 144\n",
      "Testing config 52 on 144\n",
      "Testing config 53 on 144\n",
      "Testing config 54 on 144\n",
      "Testing config 55 on 144\n",
      "Testing config 56 on 144\n",
      "Testing config 57 on 144\n",
      "Testing config 58 on 144\n",
      "Testing config 59 on 144\n",
      "Testing config 60 on 144\n",
      "Testing config 61 on 144\n",
      "Testing config 62 on 144\n",
      "Testing config 63 on 144\n",
      "Testing config 64 on 144\n",
      "Testing config 65 on 144\n",
      "Testing config 66 on 144\n",
      "Testing config 67 on 144\n",
      "Testing config 68 on 144\n",
      "Testing config 69 on 144\n",
      "Testing config 70 on 144\n",
      "Testing config 71 on 144\n",
      "Testing config 72 on 144\n",
      "Testing config 73 on 144\n",
      "Testing config 74 on 144\n",
      "Testing config 75 on 144\n",
      "Testing config 76 on 144\n",
      "Testing config 77 on 144\n",
      "Testing config 78 on 144\n",
      "Testing config 79 on 144\n",
      "Testing config 80 on 144\n",
      "Testing config 81 on 144\n",
      "Testing config 82 on 144\n",
      "Testing config 83 on 144\n",
      "Testing config 84 on 144\n",
      "Testing config 85 on 144\n",
      "Testing config 86 on 144\n",
      "Testing config 87 on 144\n",
      "Testing config 88 on 144\n",
      "Testing config 89 on 144\n",
      "Testing config 90 on 144\n",
      "Testing config 91 on 144\n",
      "Testing config 92 on 144\n",
      "Testing config 93 on 144\n",
      "Testing config 94 on 144\n",
      "Testing config 95 on 144\n",
      "Testing config 96 on 144\n",
      "Testing config 97 on 144\n",
      "Testing config 98 on 144\n",
      "Testing config 99 on 144\n",
      "Testing config 100 on 144\n",
      "Testing config 101 on 144\n",
      "Testing config 102 on 144\n",
      "Testing config 103 on 144\n",
      "Testing config 104 on 144\n",
      "Testing config 105 on 144\n",
      "Testing config 106 on 144\n",
      "Testing config 107 on 144\n",
      "Testing config 108 on 144\n",
      "Testing config 109 on 144\n",
      "Testing config 110 on 144\n",
      "Testing config 111 on 144\n",
      "Testing config 112 on 144\n",
      "Testing config 113 on 144\n",
      "Testing config 114 on 144\n",
      "Testing config 115 on 144\n",
      "Testing config 116 on 144\n",
      "Testing config 117 on 144\n",
      "Testing config 118 on 144\n",
      "Testing config 119 on 144\n",
      "Testing config 120 on 144\n",
      "Testing config 121 on 144\n",
      "Testing config 122 on 144\n",
      "Testing config 123 on 144\n",
      "Testing config 124 on 144\n",
      "Testing config 125 on 144\n",
      "Testing config 126 on 144\n",
      "Testing config 127 on 144\n",
      "Testing config 128 on 144\n",
      "Testing config 129 on 144\n",
      "Testing config 130 on 144\n",
      "Testing config 131 on 144\n",
      "Testing config 132 on 144\n",
      "Testing config 133 on 144\n",
      "Testing config 134 on 144\n",
      "Testing config 135 on 144\n",
      "Testing config 136 on 144\n",
      "Testing config 137 on 144\n",
      "Testing config 138 on 144\n",
      "Testing config 139 on 144\n",
      "Testing config 140 on 144\n",
      "Testing config 141 on 144\n",
      "Testing config 142 on 144\n",
      "Testing config 143 on 144\n",
      "Testing config 144 on 144\n",
      "\n",
      "--------------------------------------Config Done--------------------------------------------\n",
      "\n"
     ]
    },
    {
     "data": {
      "text/html": [
       "Tracking run with wandb version 0.19.6"
      ],
      "text/plain": [
       "<IPython.core.display.HTML object>"
      ]
     },
     "metadata": {},
     "output_type": "display_data"
    },
    {
     "data": {
      "text/html": [
       "Run data is saved locally in <code>/content/wandb/run-20250222_121033-26whob6s</code>"
      ],
      "text/plain": [
       "<IPython.core.display.HTML object>"
      ]
     },
     "metadata": {},
     "output_type": "display_data"
    },
    {
     "data": {
      "text/html": [
       "Syncing run <strong><a href='https://wandb.ai/TFE-proteomics/ESM/runs/26whob6s' target=\"_blank\">ValidProtocol_ESM_fold_4</a></strong> to <a href='https://wandb.ai/TFE-proteomics/ESM' target=\"_blank\">Weights & Biases</a> (<a href='https://wandb.me/developer-guide' target=\"_blank\">docs</a>)<br>"
      ],
      "text/plain": [
       "<IPython.core.display.HTML object>"
      ]
     },
     "metadata": {},
     "output_type": "display_data"
    },
    {
     "data": {
      "text/html": [
       " View project at <a href='https://wandb.ai/TFE-proteomics/ESM' target=\"_blank\">https://wandb.ai/TFE-proteomics/ESM</a>"
      ],
      "text/plain": [
       "<IPython.core.display.HTML object>"
      ]
     },
     "metadata": {},
     "output_type": "display_data"
    },
    {
     "data": {
      "text/html": [
       " View run at <a href='https://wandb.ai/TFE-proteomics/ESM/runs/26whob6s' target=\"_blank\">https://wandb.ai/TFE-proteomics/ESM/runs/26whob6s</a>"
      ],
      "text/plain": [
       "<IPython.core.display.HTML object>"
      ]
     },
     "metadata": {},
     "output_type": "display_data"
    },
    {
     "data": {
      "text/html": [],
      "text/plain": [
       "<IPython.core.display.HTML object>"
      ]
     },
     "metadata": {},
     "output_type": "display_data"
    },
    {
     "data": {
      "text/html": [
       "<br>    <style><br>        .wandb-row {<br>            display: flex;<br>            flex-direction: row;<br>            flex-wrap: wrap;<br>            justify-content: flex-start;<br>            width: 100%;<br>        }<br>        .wandb-col {<br>            display: flex;<br>            flex-direction: column;<br>            flex-basis: 100%;<br>            flex: 1;<br>            padding: 10px;<br>        }<br>    </style><br><div class=\"wandb-row\"><div class=\"wandb-col\"><h3>Run history:</h3><br/><table class=\"wandb\"><tr><td>accuracy</td><td>▁</td></tr><tr><td>f1</td><td>▁</td></tr><tr><td>pr_auc</td><td>▁</td></tr><tr><td>precision</td><td>▁</td></tr><tr><td>recall</td><td>▁</td></tr><tr><td>roc_auc</td><td>▁</td></tr></table><br/></div><div class=\"wandb-col\"><h3>Run summary:</h3><br/><table class=\"wandb\"><tr><td>accuracy</td><td>0.25806</td></tr><tr><td>f1</td><td>0.41026</td></tr><tr><td>pr_auc</td><td>0.33981</td></tr><tr><td>precision</td><td>0.25806</td></tr><tr><td>recall</td><td>1</td></tr><tr><td>roc_auc</td><td>0.55978</td></tr></table><br/></div></div>"
      ],
      "text/plain": [
       "<IPython.core.display.HTML object>"
      ]
     },
     "metadata": {},
     "output_type": "display_data"
    },
    {
     "data": {
      "text/html": [
       " View run <strong style=\"color:#cdcd00\">ValidProtocol_ESM_fold_4</strong> at: <a href='https://wandb.ai/TFE-proteomics/ESM/runs/26whob6s' target=\"_blank\">https://wandb.ai/TFE-proteomics/ESM/runs/26whob6s</a><br> View project at: <a href='https://wandb.ai/TFE-proteomics/ESM' target=\"_blank\">https://wandb.ai/TFE-proteomics/ESM</a><br>Synced 5 W&B file(s), 0 media file(s), 0 artifact file(s) and 0 other file(s)"
      ],
      "text/plain": [
       "<IPython.core.display.HTML object>"
      ]
     },
     "metadata": {},
     "output_type": "display_data"
    },
    {
     "data": {
      "text/html": [
       "Find logs at: <code>./wandb/run-20250222_121033-26whob6s/logs</code>"
      ],
      "text/plain": [
       "<IPython.core.display.HTML object>"
      ]
     },
     "metadata": {},
     "output_type": "display_data"
    },
    {
     "name": "stdout",
     "output_type": "stream",
     "text": [
      "Fold 5 on 5\n",
      "Testing config 1 on 144\n",
      "Testing config 2 on 144\n",
      "Testing config 3 on 144\n",
      "Testing config 4 on 144\n",
      "Testing config 5 on 144\n",
      "Testing config 6 on 144\n",
      "Testing config 7 on 144\n",
      "Testing config 8 on 144\n",
      "Testing config 9 on 144\n",
      "Testing config 10 on 144\n",
      "Testing config 11 on 144\n",
      "Testing config 12 on 144\n",
      "Testing config 13 on 144\n",
      "Testing config 14 on 144\n",
      "Testing config 15 on 144\n",
      "Testing config 16 on 144\n",
      "Testing config 17 on 144\n",
      "Testing config 18 on 144\n",
      "Testing config 19 on 144\n",
      "Testing config 20 on 144\n",
      "Testing config 21 on 144\n",
      "Testing config 22 on 144\n",
      "Testing config 23 on 144\n",
      "Testing config 24 on 144\n",
      "Testing config 25 on 144\n",
      "Testing config 26 on 144\n",
      "Testing config 27 on 144\n",
      "Testing config 28 on 144\n",
      "Testing config 29 on 144\n",
      "Testing config 30 on 144\n",
      "Testing config 31 on 144\n",
      "Testing config 32 on 144\n",
      "Testing config 33 on 144\n",
      "Testing config 34 on 144\n",
      "Testing config 35 on 144\n",
      "Testing config 36 on 144\n",
      "Testing config 37 on 144\n",
      "Testing config 38 on 144\n",
      "Testing config 39 on 144\n",
      "Testing config 40 on 144\n",
      "Testing config 41 on 144\n",
      "Testing config 42 on 144\n",
      "Testing config 43 on 144\n",
      "Testing config 44 on 144\n",
      "Testing config 45 on 144\n",
      "Testing config 46 on 144\n",
      "Testing config 47 on 144\n",
      "Testing config 48 on 144\n",
      "Testing config 49 on 144\n",
      "Testing config 50 on 144\n",
      "Testing config 51 on 144\n",
      "Testing config 52 on 144\n",
      "Testing config 53 on 144\n",
      "Testing config 54 on 144\n",
      "Testing config 55 on 144\n",
      "Testing config 56 on 144\n",
      "Testing config 57 on 144\n",
      "Testing config 58 on 144\n",
      "Testing config 59 on 144\n",
      "Testing config 60 on 144\n",
      "Testing config 61 on 144\n",
      "Testing config 62 on 144\n",
      "Testing config 63 on 144\n",
      "Testing config 64 on 144\n",
      "Testing config 65 on 144\n",
      "Testing config 66 on 144\n",
      "Testing config 67 on 144\n",
      "Testing config 68 on 144\n",
      "Testing config 69 on 144\n",
      "Testing config 70 on 144\n",
      "Testing config 71 on 144\n",
      "Testing config 72 on 144\n",
      "Testing config 73 on 144\n",
      "Testing config 74 on 144\n",
      "Testing config 75 on 144\n",
      "Testing config 76 on 144\n",
      "Testing config 77 on 144\n",
      "Testing config 78 on 144\n",
      "Testing config 79 on 144\n",
      "Testing config 80 on 144\n",
      "Testing config 81 on 144\n",
      "Testing config 82 on 144\n",
      "Testing config 83 on 144\n",
      "Testing config 84 on 144\n",
      "Testing config 85 on 144\n",
      "Testing config 86 on 144\n",
      "Testing config 87 on 144\n",
      "Testing config 88 on 144\n",
      "Testing config 89 on 144\n",
      "Testing config 90 on 144\n",
      "Testing config 91 on 144\n",
      "Testing config 92 on 144\n",
      "Testing config 93 on 144\n",
      "Testing config 94 on 144\n",
      "Testing config 95 on 144\n",
      "Testing config 96 on 144\n",
      "Testing config 97 on 144\n",
      "Testing config 98 on 144\n",
      "Testing config 99 on 144\n",
      "Testing config 100 on 144\n",
      "Testing config 101 on 144\n",
      "Testing config 102 on 144\n",
      "Testing config 103 on 144\n",
      "Testing config 104 on 144\n",
      "Testing config 105 on 144\n",
      "Testing config 106 on 144\n",
      "Testing config 107 on 144\n",
      "Testing config 108 on 144\n",
      "Testing config 109 on 144\n",
      "Testing config 110 on 144\n",
      "Testing config 111 on 144\n",
      "Testing config 112 on 144\n",
      "Testing config 113 on 144\n",
      "Testing config 114 on 144\n",
      "Testing config 115 on 144\n",
      "Testing config 116 on 144\n",
      "Testing config 117 on 144\n",
      "Testing config 118 on 144\n",
      "Testing config 119 on 144\n",
      "Testing config 120 on 144\n",
      "Testing config 121 on 144\n",
      "Testing config 122 on 144\n",
      "Testing config 123 on 144\n",
      "Testing config 124 on 144\n",
      "Testing config 125 on 144\n",
      "Testing config 126 on 144\n",
      "Testing config 127 on 144\n",
      "Testing config 128 on 144\n",
      "Testing config 129 on 144\n",
      "Testing config 130 on 144\n",
      "Testing config 131 on 144\n",
      "Testing config 132 on 144\n",
      "Testing config 133 on 144\n",
      "Testing config 134 on 144\n",
      "Testing config 135 on 144\n",
      "Testing config 136 on 144\n",
      "Testing config 137 on 144\n",
      "Testing config 138 on 144\n",
      "Testing config 139 on 144\n",
      "Testing config 140 on 144\n",
      "Testing config 141 on 144\n",
      "Testing config 142 on 144\n",
      "Testing config 143 on 144\n",
      "Testing config 144 on 144\n",
      "\n",
      "--------------------------------------Config Done--------------------------------------------\n",
      "\n"
     ]
    },
    {
     "name": "stderr",
     "output_type": "stream",
     "text": [
      "/usr/local/lib/python3.11/dist-packages/sklearn/metrics/_classification.py:1565: UndefinedMetricWarning: Precision is ill-defined and being set to 0.0 due to no predicted samples. Use `zero_division` parameter to control this behavior.\n",
      "  _warn_prf(average, modifier, f\"{metric.capitalize()} is\", len(result))\n"
     ]
    },
    {
     "data": {
      "text/html": [
       "Tracking run with wandb version 0.19.6"
      ],
      "text/plain": [
       "<IPython.core.display.HTML object>"
      ]
     },
     "metadata": {},
     "output_type": "display_data"
    },
    {
     "data": {
      "text/html": [
       "Run data is saved locally in <code>/content/wandb/run-20250222_122255-f56y2ta8</code>"
      ],
      "text/plain": [
       "<IPython.core.display.HTML object>"
      ]
     },
     "metadata": {},
     "output_type": "display_data"
    },
    {
     "data": {
      "text/html": [
       "Syncing run <strong><a href='https://wandb.ai/TFE-proteomics/ESM/runs/f56y2ta8' target=\"_blank\">ValidProtocol_ESM_fold_5</a></strong> to <a href='https://wandb.ai/TFE-proteomics/ESM' target=\"_blank\">Weights & Biases</a> (<a href='https://wandb.me/developer-guide' target=\"_blank\">docs</a>)<br>"
      ],
      "text/plain": [
       "<IPython.core.display.HTML object>"
      ]
     },
     "metadata": {},
     "output_type": "display_data"
    },
    {
     "data": {
      "text/html": [
       " View project at <a href='https://wandb.ai/TFE-proteomics/ESM' target=\"_blank\">https://wandb.ai/TFE-proteomics/ESM</a>"
      ],
      "text/plain": [
       "<IPython.core.display.HTML object>"
      ]
     },
     "metadata": {},
     "output_type": "display_data"
    },
    {
     "data": {
      "text/html": [
       " View run at <a href='https://wandb.ai/TFE-proteomics/ESM/runs/f56y2ta8' target=\"_blank\">https://wandb.ai/TFE-proteomics/ESM/runs/f56y2ta8</a>"
      ],
      "text/plain": [
       "<IPython.core.display.HTML object>"
      ]
     },
     "metadata": {},
     "output_type": "display_data"
    },
    {
     "data": {
      "text/html": [],
      "text/plain": [
       "<IPython.core.display.HTML object>"
      ]
     },
     "metadata": {},
     "output_type": "display_data"
    },
    {
     "data": {
      "text/html": [
       "<br>    <style><br>        .wandb-row {<br>            display: flex;<br>            flex-direction: row;<br>            flex-wrap: wrap;<br>            justify-content: flex-start;<br>            width: 100%;<br>        }<br>        .wandb-col {<br>            display: flex;<br>            flex-direction: column;<br>            flex-basis: 100%;<br>            flex: 1;<br>            padding: 10px;<br>        }<br>    </style><br><div class=\"wandb-row\"><div class=\"wandb-col\"><h3>Run history:</h3><br/><table class=\"wandb\"><tr><td>accuracy</td><td>▁</td></tr><tr><td>f1</td><td>▁</td></tr><tr><td>pr_auc</td><td>▁</td></tr><tr><td>precision</td><td>▁</td></tr><tr><td>recall</td><td>▁</td></tr><tr><td>roc_auc</td><td>▁</td></tr></table><br/></div><div class=\"wandb-col\"><h3>Run summary:</h3><br/><table class=\"wandb\"><tr><td>accuracy</td><td>0.74194</td></tr><tr><td>f1</td><td>0</td></tr><tr><td>pr_auc</td><td>0.23496</td></tr><tr><td>precision</td><td>0</td></tr><tr><td>recall</td><td>0</td></tr><tr><td>roc_auc</td><td>0.39674</td></tr></table><br/></div></div>"
      ],
      "text/plain": [
       "<IPython.core.display.HTML object>"
      ]
     },
     "metadata": {},
     "output_type": "display_data"
    },
    {
     "data": {
      "text/html": [
       " View run <strong style=\"color:#cdcd00\">ValidProtocol_ESM_fold_5</strong> at: <a href='https://wandb.ai/TFE-proteomics/ESM/runs/f56y2ta8' target=\"_blank\">https://wandb.ai/TFE-proteomics/ESM/runs/f56y2ta8</a><br> View project at: <a href='https://wandb.ai/TFE-proteomics/ESM' target=\"_blank\">https://wandb.ai/TFE-proteomics/ESM</a><br>Synced 5 W&B file(s), 0 media file(s), 0 artifact file(s) and 0 other file(s)"
      ],
      "text/plain": [
       "<IPython.core.display.HTML object>"
      ]
     },
     "metadata": {},
     "output_type": "display_data"
    },
    {
     "data": {
      "text/html": [
       "Find logs at: <code>./wandb/run-20250222_122255-f56y2ta8/logs</code>"
      ],
      "text/plain": [
       "<IPython.core.display.HTML object>"
      ]
     },
     "metadata": {},
     "output_type": "display_data"
    },
    {
     "data": {
      "text/html": [
       "Tracking run with wandb version 0.19.6"
      ],
      "text/plain": [
       "<IPython.core.display.HTML object>"
      ]
     },
     "metadata": {},
     "output_type": "display_data"
    },
    {
     "data": {
      "text/html": [
       "Run data is saved locally in <code>/content/wandb/run-20250222_122259-zthtkke1</code>"
      ],
      "text/plain": [
       "<IPython.core.display.HTML object>"
      ]
     },
     "metadata": {},
     "output_type": "display_data"
    },
    {
     "data": {
      "text/html": [
       "Syncing run <strong><a href='https://wandb.ai/TFE-proteomics/ESM/runs/zthtkke1' target=\"_blank\">ValidProtocol_ESM_CrossValidation_Summary</a></strong> to <a href='https://wandb.ai/TFE-proteomics/ESM' target=\"_blank\">Weights & Biases</a> (<a href='https://wandb.me/developer-guide' target=\"_blank\">docs</a>)<br>"
      ],
      "text/plain": [
       "<IPython.core.display.HTML object>"
      ]
     },
     "metadata": {},
     "output_type": "display_data"
    },
    {
     "data": {
      "text/html": [
       " View project at <a href='https://wandb.ai/TFE-proteomics/ESM' target=\"_blank\">https://wandb.ai/TFE-proteomics/ESM</a>"
      ],
      "text/plain": [
       "<IPython.core.display.HTML object>"
      ]
     },
     "metadata": {},
     "output_type": "display_data"
    },
    {
     "data": {
      "text/html": [
       " View run at <a href='https://wandb.ai/TFE-proteomics/ESM/runs/zthtkke1' target=\"_blank\">https://wandb.ai/TFE-proteomics/ESM/runs/zthtkke1</a>"
      ],
      "text/plain": [
       "<IPython.core.display.HTML object>"
      ]
     },
     "metadata": {},
     "output_type": "display_data"
    },
    {
     "data": {
      "text/html": [],
      "text/plain": [
       "<IPython.core.display.HTML object>"
      ]
     },
     "metadata": {},
     "output_type": "display_data"
    },
    {
     "data": {
      "text/html": [
       "<br>    <style><br>        .wandb-row {<br>            display: flex;<br>            flex-direction: row;<br>            flex-wrap: wrap;<br>            justify-content: flex-start;<br>            width: 100%;<br>        }<br>        .wandb-col {<br>            display: flex;<br>            flex-direction: column;<br>            flex-basis: 100%;<br>            flex: 1;<br>            padding: 10px;<br>        }<br>    </style><br><div class=\"wandb-row\"><div class=\"wandb-col\"><h3>Run history:</h3><br/><table class=\"wandb\"><tr><td>accuracy_mean</td><td>▁</td></tr><tr><td>accuracy_std</td><td>▁</td></tr><tr><td>f1_mean</td><td>▁</td></tr><tr><td>f1_std</td><td>▁</td></tr><tr><td>pr_auc_mean</td><td>▁</td></tr><tr><td>pr_auc_std</td><td>▁</td></tr><tr><td>precision_mean</td><td>▁</td></tr><tr><td>precision_std</td><td>▁</td></tr><tr><td>recall_mean</td><td>▁</td></tr><tr><td>recall_std</td><td>▁</td></tr><tr><td>roc_auc_mean</td><td>▁</td></tr><tr><td>roc_auc_std</td><td>▁</td></tr></table><br/></div><div class=\"wandb-col\"><h3>Run summary:</h3><br/><table class=\"wandb\"><tr><td>accuracy_mean</td><td>0.43871</td></tr><tr><td>accuracy_std</td><td>0.24786</td></tr><tr><td>f1_mean</td><td>0.22942</td></tr><tr><td>f1_std</td><td>0.18794</td></tr><tr><td>pr_auc_mean</td><td>0.25296</td></tr><tr><td>pr_auc_std</td><td>0.05383</td></tr><tr><td>precision_mean</td><td>0.14194</td></tr><tr><td>precision_std</td><td>0.11649</td></tr><tr><td>recall_mean</td><td>0.6</td></tr><tr><td>recall_std</td><td>0.4899</td></tr><tr><td>roc_auc_mean</td><td>0.44187</td></tr><tr><td>roc_auc_std</td><td>0.10594</td></tr></table><br/></div></div>"
      ],
      "text/plain": [
       "<IPython.core.display.HTML object>"
      ]
     },
     "metadata": {},
     "output_type": "display_data"
    },
    {
     "data": {
      "text/html": [
       " View run <strong style=\"color:#cdcd00\">ValidProtocol_ESM_CrossValidation_Summary</strong> at: <a href='https://wandb.ai/TFE-proteomics/ESM/runs/zthtkke1' target=\"_blank\">https://wandb.ai/TFE-proteomics/ESM/runs/zthtkke1</a><br> View project at: <a href='https://wandb.ai/TFE-proteomics/ESM' target=\"_blank\">https://wandb.ai/TFE-proteomics/ESM</a><br>Synced 5 W&B file(s), 0 media file(s), 0 artifact file(s) and 0 other file(s)"
      ],
      "text/plain": [
       "<IPython.core.display.HTML object>"
      ]
     },
     "metadata": {},
     "output_type": "display_data"
    },
    {
     "data": {
      "text/html": [
       "Find logs at: <code>./wandb/run-20250222_122259-zthtkke1/logs</code>"
      ],
      "text/plain": [
       "<IPython.core.display.HTML object>"
      ]
     },
     "metadata": {},
     "output_type": "display_data"
    },
    {
     "name": "stdout",
     "output_type": "stream",
     "text": [
      "Fold 1 on 5\n",
      "Testing config 1 on 144\n",
      "Testing config 2 on 144\n",
      "Testing config 3 on 144\n",
      "Testing config 4 on 144\n",
      "Testing config 5 on 144\n",
      "Testing config 6 on 144\n",
      "Testing config 7 on 144\n",
      "Testing config 8 on 144\n",
      "Testing config 9 on 144\n",
      "Testing config 10 on 144\n",
      "Testing config 11 on 144\n",
      "Testing config 12 on 144\n",
      "Testing config 13 on 144\n",
      "Testing config 14 on 144\n",
      "Testing config 15 on 144\n",
      "Testing config 16 on 144\n",
      "Testing config 17 on 144\n",
      "Testing config 18 on 144\n",
      "Testing config 19 on 144\n",
      "Testing config 20 on 144\n",
      "Testing config 21 on 144\n",
      "Testing config 22 on 144\n",
      "Testing config 23 on 144\n",
      "Testing config 24 on 144\n",
      "Testing config 25 on 144\n",
      "Testing config 26 on 144\n",
      "Testing config 27 on 144\n",
      "Testing config 28 on 144\n",
      "Testing config 29 on 144\n",
      "Testing config 30 on 144\n",
      "Testing config 31 on 144\n",
      "Testing config 32 on 144\n",
      "Testing config 33 on 144\n",
      "Testing config 34 on 144\n",
      "Testing config 35 on 144\n",
      "Testing config 36 on 144\n",
      "Testing config 37 on 144\n",
      "Testing config 38 on 144\n",
      "Testing config 39 on 144\n",
      "Testing config 40 on 144\n",
      "Testing config 41 on 144\n",
      "Testing config 42 on 144\n",
      "Testing config 43 on 144\n",
      "Testing config 44 on 144\n",
      "Testing config 45 on 144\n",
      "Testing config 46 on 144\n",
      "Testing config 47 on 144\n",
      "Testing config 48 on 144\n",
      "Testing config 49 on 144\n",
      "Testing config 50 on 144\n",
      "Testing config 51 on 144\n",
      "Testing config 52 on 144\n",
      "Testing config 53 on 144\n",
      "Testing config 54 on 144\n",
      "Testing config 55 on 144\n",
      "Testing config 56 on 144\n",
      "Testing config 57 on 144\n",
      "Testing config 58 on 144\n",
      "Testing config 59 on 144\n",
      "Testing config 60 on 144\n",
      "Testing config 61 on 144\n",
      "Testing config 62 on 144\n",
      "Testing config 63 on 144\n",
      "Testing config 64 on 144\n",
      "Testing config 65 on 144\n",
      "Testing config 66 on 144\n",
      "Testing config 67 on 144\n",
      "Testing config 68 on 144\n",
      "Testing config 69 on 144\n",
      "Testing config 70 on 144\n",
      "Testing config 71 on 144\n",
      "Testing config 72 on 144\n",
      "Testing config 73 on 144\n",
      "Testing config 74 on 144\n",
      "Testing config 75 on 144\n",
      "Testing config 76 on 144\n",
      "Testing config 77 on 144\n",
      "Testing config 78 on 144\n",
      "Testing config 79 on 144\n",
      "Testing config 80 on 144\n",
      "Testing config 81 on 144\n",
      "Testing config 82 on 144\n",
      "Testing config 83 on 144\n",
      "Testing config 84 on 144\n",
      "Testing config 85 on 144\n",
      "Testing config 86 on 144\n",
      "Testing config 87 on 144\n",
      "Testing config 88 on 144\n",
      "Testing config 89 on 144\n",
      "Testing config 90 on 144\n",
      "Testing config 91 on 144\n",
      "Testing config 92 on 144\n",
      "Testing config 93 on 144\n",
      "Testing config 94 on 144\n",
      "Testing config 95 on 144\n",
      "Testing config 96 on 144\n",
      "Testing config 97 on 144\n",
      "Testing config 98 on 144\n",
      "Testing config 99 on 144\n",
      "Testing config 100 on 144\n",
      "Testing config 101 on 144\n",
      "Testing config 102 on 144\n",
      "Testing config 103 on 144\n",
      "Testing config 104 on 144\n",
      "Testing config 105 on 144\n",
      "Testing config 106 on 144\n",
      "Testing config 107 on 144\n",
      "Testing config 108 on 144\n",
      "Testing config 109 on 144\n",
      "Testing config 110 on 144\n",
      "Testing config 111 on 144\n",
      "Testing config 112 on 144\n",
      "Testing config 113 on 144\n",
      "Testing config 114 on 144\n",
      "Testing config 115 on 144\n",
      "Testing config 116 on 144\n",
      "Testing config 117 on 144\n",
      "Testing config 118 on 144\n",
      "Testing config 119 on 144\n",
      "Testing config 120 on 144\n",
      "Testing config 121 on 144\n",
      "Testing config 122 on 144\n",
      "Testing config 123 on 144\n",
      "Testing config 124 on 144\n",
      "Testing config 125 on 144\n",
      "Testing config 126 on 144\n",
      "Testing config 127 on 144\n",
      "Testing config 128 on 144\n",
      "Testing config 129 on 144\n",
      "Testing config 130 on 144\n",
      "Testing config 131 on 144\n",
      "Testing config 132 on 144\n",
      "Testing config 133 on 144\n",
      "Testing config 134 on 144\n",
      "Testing config 135 on 144\n",
      "Testing config 136 on 144\n",
      "Testing config 137 on 144\n",
      "Testing config 138 on 144\n",
      "Testing config 139 on 144\n",
      "Testing config 140 on 144\n",
      "Testing config 141 on 144\n",
      "Testing config 142 on 144\n",
      "Testing config 143 on 144\n",
      "Testing config 144 on 144\n",
      "\n",
      "--------------------------------------Config Done--------------------------------------------\n",
      "\n"
     ]
    },
    {
     "name": "stderr",
     "output_type": "stream",
     "text": [
      "/usr/local/lib/python3.11/dist-packages/sklearn/metrics/_classification.py:1565: UndefinedMetricWarning: Precision is ill-defined and being set to 0.0 due to no predicted samples. Use `zero_division` parameter to control this behavior.\n",
      "  _warn_prf(average, modifier, f\"{metric.capitalize()} is\", len(result))\n"
     ]
    },
    {
     "data": {
      "text/html": [
       "Tracking run with wandb version 0.19.6"
      ],
      "text/plain": [
       "<IPython.core.display.HTML object>"
      ]
     },
     "metadata": {},
     "output_type": "display_data"
    },
    {
     "data": {
      "text/html": [
       "Run data is saved locally in <code>/content/wandb/run-20250222_124253-n4c7z7tj</code>"
      ],
      "text/plain": [
       "<IPython.core.display.HTML object>"
      ]
     },
     "metadata": {},
     "output_type": "display_data"
    },
    {
     "data": {
      "text/html": [
       "Syncing run <strong><a href='https://wandb.ai/TFE-proteomics/ESM/runs/n4c7z7tj' target=\"_blank\">ValidProtocol_ESM_fold_1</a></strong> to <a href='https://wandb.ai/TFE-proteomics/ESM' target=\"_blank\">Weights & Biases</a> (<a href='https://wandb.me/developer-guide' target=\"_blank\">docs</a>)<br>"
      ],
      "text/plain": [
       "<IPython.core.display.HTML object>"
      ]
     },
     "metadata": {},
     "output_type": "display_data"
    },
    {
     "data": {
      "text/html": [
       " View project at <a href='https://wandb.ai/TFE-proteomics/ESM' target=\"_blank\">https://wandb.ai/TFE-proteomics/ESM</a>"
      ],
      "text/plain": [
       "<IPython.core.display.HTML object>"
      ]
     },
     "metadata": {},
     "output_type": "display_data"
    },
    {
     "data": {
      "text/html": [
       " View run at <a href='https://wandb.ai/TFE-proteomics/ESM/runs/n4c7z7tj' target=\"_blank\">https://wandb.ai/TFE-proteomics/ESM/runs/n4c7z7tj</a>"
      ],
      "text/plain": [
       "<IPython.core.display.HTML object>"
      ]
     },
     "metadata": {},
     "output_type": "display_data"
    },
    {
     "data": {
      "text/html": [],
      "text/plain": [
       "<IPython.core.display.HTML object>"
      ]
     },
     "metadata": {},
     "output_type": "display_data"
    },
    {
     "data": {
      "text/html": [
       "<br>    <style><br>        .wandb-row {<br>            display: flex;<br>            flex-direction: row;<br>            flex-wrap: wrap;<br>            justify-content: flex-start;<br>            width: 100%;<br>        }<br>        .wandb-col {<br>            display: flex;<br>            flex-direction: column;<br>            flex-basis: 100%;<br>            flex: 1;<br>            padding: 10px;<br>        }<br>    </style><br><div class=\"wandb-row\"><div class=\"wandb-col\"><h3>Run history:</h3><br/><table class=\"wandb\"><tr><td>accuracy</td><td>▁</td></tr><tr><td>f1</td><td>▁</td></tr><tr><td>pr_auc</td><td>▁</td></tr><tr><td>precision</td><td>▁</td></tr><tr><td>recall</td><td>▁</td></tr><tr><td>roc_auc</td><td>▁</td></tr></table><br/></div><div class=\"wandb-col\"><h3>Run summary:</h3><br/><table class=\"wandb\"><tr><td>accuracy</td><td>0.77419</td></tr><tr><td>f1</td><td>0</td></tr><tr><td>pr_auc</td><td>0.21352</td></tr><tr><td>precision</td><td>0</td></tr><tr><td>recall</td><td>0</td></tr><tr><td>roc_auc</td><td>0.375</td></tr></table><br/></div></div>"
      ],
      "text/plain": [
       "<IPython.core.display.HTML object>"
      ]
     },
     "metadata": {},
     "output_type": "display_data"
    },
    {
     "data": {
      "text/html": [
       " View run <strong style=\"color:#cdcd00\">ValidProtocol_ESM_fold_1</strong> at: <a href='https://wandb.ai/TFE-proteomics/ESM/runs/n4c7z7tj' target=\"_blank\">https://wandb.ai/TFE-proteomics/ESM/runs/n4c7z7tj</a><br> View project at: <a href='https://wandb.ai/TFE-proteomics/ESM' target=\"_blank\">https://wandb.ai/TFE-proteomics/ESM</a><br>Synced 5 W&B file(s), 0 media file(s), 0 artifact file(s) and 0 other file(s)"
      ],
      "text/plain": [
       "<IPython.core.display.HTML object>"
      ]
     },
     "metadata": {},
     "output_type": "display_data"
    },
    {
     "data": {
      "text/html": [
       "Find logs at: <code>./wandb/run-20250222_124253-n4c7z7tj/logs</code>"
      ],
      "text/plain": [
       "<IPython.core.display.HTML object>"
      ]
     },
     "metadata": {},
     "output_type": "display_data"
    },
    {
     "name": "stdout",
     "output_type": "stream",
     "text": [
      "Fold 2 on 5\n",
      "Testing config 1 on 144\n",
      "Testing config 2 on 144\n",
      "Testing config 3 on 144\n",
      "Testing config 4 on 144\n",
      "Testing config 5 on 144\n",
      "Testing config 6 on 144\n",
      "Testing config 7 on 144\n",
      "Testing config 8 on 144\n",
      "Testing config 9 on 144\n",
      "Testing config 10 on 144\n",
      "Testing config 11 on 144\n",
      "Testing config 12 on 144\n",
      "Testing config 13 on 144\n",
      "Testing config 14 on 144\n",
      "Testing config 15 on 144\n",
      "Testing config 16 on 144\n",
      "Testing config 17 on 144\n",
      "Testing config 18 on 144\n",
      "Testing config 19 on 144\n",
      "Testing config 20 on 144\n",
      "Testing config 21 on 144\n",
      "Testing config 22 on 144\n",
      "Testing config 23 on 144\n",
      "Testing config 24 on 144\n",
      "Testing config 25 on 144\n",
      "Testing config 26 on 144\n",
      "Testing config 27 on 144\n",
      "Testing config 28 on 144\n",
      "Testing config 29 on 144\n",
      "Testing config 30 on 144\n",
      "Testing config 31 on 144\n",
      "Testing config 32 on 144\n",
      "Testing config 33 on 144\n",
      "Testing config 34 on 144\n",
      "Testing config 35 on 144\n",
      "Testing config 36 on 144\n",
      "Testing config 37 on 144\n",
      "Testing config 38 on 144\n",
      "Testing config 39 on 144\n",
      "Testing config 40 on 144\n",
      "Testing config 41 on 144\n",
      "Testing config 42 on 144\n",
      "Testing config 43 on 144\n",
      "Testing config 44 on 144\n",
      "Testing config 45 on 144\n",
      "Testing config 46 on 144\n",
      "Testing config 47 on 144\n",
      "Testing config 48 on 144\n",
      "Testing config 49 on 144\n",
      "Testing config 50 on 144\n",
      "Testing config 51 on 144\n",
      "Testing config 52 on 144\n",
      "Testing config 53 on 144\n",
      "Testing config 54 on 144\n",
      "Testing config 55 on 144\n",
      "Testing config 56 on 144\n",
      "Testing config 57 on 144\n",
      "Testing config 58 on 144\n",
      "Testing config 59 on 144\n",
      "Testing config 60 on 144\n",
      "Testing config 61 on 144\n",
      "Testing config 62 on 144\n",
      "Testing config 63 on 144\n",
      "Testing config 64 on 144\n",
      "Testing config 65 on 144\n",
      "Testing config 66 on 144\n",
      "Testing config 67 on 144\n",
      "Testing config 68 on 144\n",
      "Testing config 69 on 144\n",
      "Testing config 70 on 144\n",
      "Testing config 71 on 144\n",
      "Testing config 72 on 144\n",
      "Testing config 73 on 144\n",
      "Testing config 74 on 144\n",
      "Testing config 75 on 144\n",
      "Testing config 76 on 144\n",
      "Testing config 77 on 144\n",
      "Testing config 78 on 144\n",
      "Testing config 79 on 144\n",
      "Testing config 80 on 144\n",
      "Testing config 81 on 144\n",
      "Testing config 82 on 144\n",
      "Testing config 83 on 144\n",
      "Testing config 84 on 144\n",
      "Testing config 85 on 144\n",
      "Testing config 86 on 144\n",
      "Testing config 87 on 144\n",
      "Testing config 88 on 144\n",
      "Testing config 89 on 144\n",
      "Testing config 90 on 144\n",
      "Testing config 91 on 144\n",
      "Testing config 92 on 144\n",
      "Testing config 93 on 144\n",
      "Testing config 94 on 144\n",
      "Testing config 95 on 144\n",
      "Testing config 96 on 144\n",
      "Testing config 97 on 144\n",
      "Testing config 98 on 144\n",
      "Testing config 99 on 144\n",
      "Testing config 100 on 144\n",
      "Testing config 101 on 144\n",
      "Testing config 102 on 144\n",
      "Testing config 103 on 144\n",
      "Testing config 104 on 144\n",
      "Testing config 105 on 144\n",
      "Testing config 106 on 144\n",
      "Testing config 107 on 144\n",
      "Testing config 108 on 144\n",
      "Testing config 109 on 144\n",
      "Testing config 110 on 144\n",
      "Testing config 111 on 144\n",
      "Testing config 112 on 144\n",
      "Testing config 113 on 144\n",
      "Testing config 114 on 144\n",
      "Testing config 115 on 144\n",
      "Testing config 116 on 144\n",
      "Testing config 117 on 144\n",
      "Testing config 118 on 144\n",
      "Testing config 119 on 144\n",
      "Testing config 120 on 144\n",
      "Testing config 121 on 144\n",
      "Testing config 122 on 144\n",
      "Testing config 123 on 144\n",
      "Testing config 124 on 144\n",
      "Testing config 125 on 144\n",
      "Testing config 126 on 144\n",
      "Testing config 127 on 144\n",
      "Testing config 128 on 144\n",
      "Testing config 129 on 144\n",
      "Testing config 130 on 144\n",
      "Testing config 131 on 144\n",
      "Testing config 132 on 144\n",
      "Testing config 133 on 144\n",
      "Testing config 134 on 144\n",
      "Testing config 135 on 144\n",
      "Testing config 136 on 144\n",
      "Testing config 137 on 144\n",
      "Testing config 138 on 144\n",
      "Testing config 139 on 144\n",
      "Testing config 140 on 144\n",
      "Testing config 141 on 144\n",
      "Testing config 142 on 144\n",
      "Testing config 143 on 144\n",
      "Testing config 144 on 144\n",
      "\n",
      "--------------------------------------Config Done--------------------------------------------\n",
      "\n"
     ]
    },
    {
     "name": "stderr",
     "output_type": "stream",
     "text": [
      "/usr/local/lib/python3.11/dist-packages/sklearn/metrics/_classification.py:1565: UndefinedMetricWarning: Precision is ill-defined and being set to 0.0 due to no predicted samples. Use `zero_division` parameter to control this behavior.\n",
      "  _warn_prf(average, modifier, f\"{metric.capitalize()} is\", len(result))\n"
     ]
    },
    {
     "data": {
      "text/html": [
       "Tracking run with wandb version 0.19.6"
      ],
      "text/plain": [
       "<IPython.core.display.HTML object>"
      ]
     },
     "metadata": {},
     "output_type": "display_data"
    },
    {
     "data": {
      "text/html": [
       "Run data is saved locally in <code>/content/wandb/run-20250222_130306-kxyvul1v</code>"
      ],
      "text/plain": [
       "<IPython.core.display.HTML object>"
      ]
     },
     "metadata": {},
     "output_type": "display_data"
    },
    {
     "data": {
      "text/html": [
       "Syncing run <strong><a href='https://wandb.ai/TFE-proteomics/ESM/runs/kxyvul1v' target=\"_blank\">ValidProtocol_ESM_fold_2</a></strong> to <a href='https://wandb.ai/TFE-proteomics/ESM' target=\"_blank\">Weights & Biases</a> (<a href='https://wandb.me/developer-guide' target=\"_blank\">docs</a>)<br>"
      ],
      "text/plain": [
       "<IPython.core.display.HTML object>"
      ]
     },
     "metadata": {},
     "output_type": "display_data"
    },
    {
     "data": {
      "text/html": [
       " View project at <a href='https://wandb.ai/TFE-proteomics/ESM' target=\"_blank\">https://wandb.ai/TFE-proteomics/ESM</a>"
      ],
      "text/plain": [
       "<IPython.core.display.HTML object>"
      ]
     },
     "metadata": {},
     "output_type": "display_data"
    },
    {
     "data": {
      "text/html": [
       " View run at <a href='https://wandb.ai/TFE-proteomics/ESM/runs/kxyvul1v' target=\"_blank\">https://wandb.ai/TFE-proteomics/ESM/runs/kxyvul1v</a>"
      ],
      "text/plain": [
       "<IPython.core.display.HTML object>"
      ]
     },
     "metadata": {},
     "output_type": "display_data"
    },
    {
     "data": {
      "text/html": [],
      "text/plain": [
       "<IPython.core.display.HTML object>"
      ]
     },
     "metadata": {},
     "output_type": "display_data"
    },
    {
     "data": {
      "text/html": [
       "<br>    <style><br>        .wandb-row {<br>            display: flex;<br>            flex-direction: row;<br>            flex-wrap: wrap;<br>            justify-content: flex-start;<br>            width: 100%;<br>        }<br>        .wandb-col {<br>            display: flex;<br>            flex-direction: column;<br>            flex-basis: 100%;<br>            flex: 1;<br>            padding: 10px;<br>        }<br>    </style><br><div class=\"wandb-row\"><div class=\"wandb-col\"><h3>Run history:</h3><br/><table class=\"wandb\"><tr><td>accuracy</td><td>▁</td></tr><tr><td>f1</td><td>▁</td></tr><tr><td>pr_auc</td><td>▁</td></tr><tr><td>precision</td><td>▁</td></tr><tr><td>recall</td><td>▁</td></tr><tr><td>roc_auc</td><td>▁</td></tr></table><br/></div><div class=\"wandb-col\"><h3>Run summary:</h3><br/><table class=\"wandb\"><tr><td>accuracy</td><td>0.77419</td></tr><tr><td>f1</td><td>0</td></tr><tr><td>pr_auc</td><td>0.23654</td></tr><tr><td>precision</td><td>0</td></tr><tr><td>recall</td><td>0</td></tr><tr><td>roc_auc</td><td>0.5</td></tr></table><br/></div></div>"
      ],
      "text/plain": [
       "<IPython.core.display.HTML object>"
      ]
     },
     "metadata": {},
     "output_type": "display_data"
    },
    {
     "data": {
      "text/html": [
       " View run <strong style=\"color:#cdcd00\">ValidProtocol_ESM_fold_2</strong> at: <a href='https://wandb.ai/TFE-proteomics/ESM/runs/kxyvul1v' target=\"_blank\">https://wandb.ai/TFE-proteomics/ESM/runs/kxyvul1v</a><br> View project at: <a href='https://wandb.ai/TFE-proteomics/ESM' target=\"_blank\">https://wandb.ai/TFE-proteomics/ESM</a><br>Synced 5 W&B file(s), 0 media file(s), 0 artifact file(s) and 0 other file(s)"
      ],
      "text/plain": [
       "<IPython.core.display.HTML object>"
      ]
     },
     "metadata": {},
     "output_type": "display_data"
    },
    {
     "data": {
      "text/html": [
       "Find logs at: <code>./wandb/run-20250222_130306-kxyvul1v/logs</code>"
      ],
      "text/plain": [
       "<IPython.core.display.HTML object>"
      ]
     },
     "metadata": {},
     "output_type": "display_data"
    },
    {
     "name": "stdout",
     "output_type": "stream",
     "text": [
      "Fold 3 on 5\n",
      "Testing config 1 on 144\n",
      "Testing config 2 on 144\n",
      "Testing config 3 on 144\n",
      "Testing config 4 on 144\n",
      "Testing config 5 on 144\n",
      "Testing config 6 on 144\n",
      "Testing config 7 on 144\n",
      "Testing config 8 on 144\n",
      "Testing config 9 on 144\n",
      "Testing config 10 on 144\n",
      "Testing config 11 on 144\n",
      "Testing config 12 on 144\n",
      "Testing config 13 on 144\n",
      "Testing config 14 on 144\n",
      "Testing config 15 on 144\n",
      "Testing config 16 on 144\n",
      "Testing config 17 on 144\n",
      "Testing config 18 on 144\n",
      "Testing config 19 on 144\n",
      "Testing config 20 on 144\n",
      "Testing config 21 on 144\n",
      "Testing config 22 on 144\n",
      "Testing config 23 on 144\n",
      "Testing config 24 on 144\n",
      "Testing config 25 on 144\n",
      "Testing config 26 on 144\n",
      "Testing config 27 on 144\n",
      "Testing config 28 on 144\n",
      "Testing config 29 on 144\n",
      "Testing config 30 on 144\n",
      "Testing config 31 on 144\n",
      "Testing config 32 on 144\n",
      "Testing config 33 on 144\n",
      "Testing config 34 on 144\n",
      "Testing config 35 on 144\n",
      "Testing config 36 on 144\n",
      "Testing config 37 on 144\n",
      "Testing config 38 on 144\n",
      "Testing config 39 on 144\n",
      "Testing config 40 on 144\n",
      "Testing config 41 on 144\n",
      "Testing config 42 on 144\n",
      "Testing config 43 on 144\n",
      "Testing config 44 on 144\n",
      "Testing config 45 on 144\n",
      "Testing config 46 on 144\n",
      "Testing config 47 on 144\n",
      "Testing config 48 on 144\n",
      "Testing config 49 on 144\n",
      "Testing config 50 on 144\n",
      "Testing config 51 on 144\n",
      "Testing config 52 on 144\n",
      "Testing config 53 on 144\n",
      "Testing config 54 on 144\n",
      "Testing config 55 on 144\n",
      "Testing config 56 on 144\n",
      "Testing config 57 on 144\n",
      "Testing config 58 on 144\n",
      "Testing config 59 on 144\n",
      "Testing config 60 on 144\n",
      "Testing config 61 on 144\n",
      "Testing config 62 on 144\n",
      "Testing config 63 on 144\n",
      "Testing config 64 on 144\n",
      "Testing config 65 on 144\n",
      "Testing config 66 on 144\n",
      "Testing config 67 on 144\n",
      "Testing config 68 on 144\n",
      "Testing config 69 on 144\n",
      "Testing config 70 on 144\n",
      "Testing config 71 on 144\n",
      "Testing config 72 on 144\n",
      "Testing config 73 on 144\n",
      "Testing config 74 on 144\n",
      "Testing config 75 on 144\n",
      "Testing config 76 on 144\n",
      "Testing config 77 on 144\n",
      "Testing config 78 on 144\n",
      "Testing config 79 on 144\n",
      "Testing config 80 on 144\n",
      "Testing config 81 on 144\n",
      "Testing config 82 on 144\n",
      "Testing config 83 on 144\n",
      "Testing config 84 on 144\n",
      "Testing config 85 on 144\n",
      "Testing config 86 on 144\n",
      "Testing config 87 on 144\n",
      "Testing config 88 on 144\n",
      "Testing config 89 on 144\n",
      "Testing config 90 on 144\n",
      "Testing config 91 on 144\n",
      "Testing config 92 on 144\n",
      "Testing config 93 on 144\n",
      "Testing config 94 on 144\n",
      "Testing config 95 on 144\n",
      "Testing config 96 on 144\n",
      "Testing config 97 on 144\n",
      "Testing config 98 on 144\n",
      "Testing config 99 on 144\n",
      "Testing config 100 on 144\n",
      "Testing config 101 on 144\n",
      "Testing config 102 on 144\n",
      "Testing config 103 on 144\n",
      "Testing config 104 on 144\n",
      "Testing config 105 on 144\n",
      "Testing config 106 on 144\n",
      "Testing config 107 on 144\n",
      "Testing config 108 on 144\n",
      "Testing config 109 on 144\n",
      "Testing config 110 on 144\n",
      "Testing config 111 on 144\n",
      "Testing config 112 on 144\n",
      "Testing config 113 on 144\n",
      "Testing config 114 on 144\n",
      "Testing config 115 on 144\n",
      "Testing config 116 on 144\n",
      "Testing config 117 on 144\n",
      "Testing config 118 on 144\n",
      "Testing config 119 on 144\n",
      "Testing config 120 on 144\n",
      "Testing config 121 on 144\n",
      "Testing config 122 on 144\n",
      "Testing config 123 on 144\n",
      "Testing config 124 on 144\n",
      "Testing config 125 on 144\n",
      "Testing config 126 on 144\n",
      "Testing config 127 on 144\n",
      "Testing config 128 on 144\n",
      "Testing config 129 on 144\n",
      "Testing config 130 on 144\n",
      "Testing config 131 on 144\n",
      "Testing config 132 on 144\n",
      "Testing config 133 on 144\n",
      "Testing config 134 on 144\n",
      "Testing config 135 on 144\n",
      "Testing config 136 on 144\n",
      "Testing config 137 on 144\n",
      "Testing config 138 on 144\n",
      "Testing config 139 on 144\n",
      "Testing config 140 on 144\n",
      "Testing config 141 on 144\n",
      "Testing config 142 on 144\n",
      "Testing config 143 on 144\n",
      "Testing config 144 on 144\n",
      "\n",
      "--------------------------------------Config Done--------------------------------------------\n",
      "\n"
     ]
    },
    {
     "name": "stderr",
     "output_type": "stream",
     "text": [
      "/usr/local/lib/python3.11/dist-packages/sklearn/metrics/_classification.py:1565: UndefinedMetricWarning: Precision is ill-defined and being set to 0.0 due to no predicted samples. Use `zero_division` parameter to control this behavior.\n",
      "  _warn_prf(average, modifier, f\"{metric.capitalize()} is\", len(result))\n"
     ]
    },
    {
     "data": {
      "text/html": [
       "Tracking run with wandb version 0.19.6"
      ],
      "text/plain": [
       "<IPython.core.display.HTML object>"
      ]
     },
     "metadata": {},
     "output_type": "display_data"
    },
    {
     "data": {
      "text/html": [
       "Run data is saved locally in <code>/content/wandb/run-20250222_132256-3eq51dl9</code>"
      ],
      "text/plain": [
       "<IPython.core.display.HTML object>"
      ]
     },
     "metadata": {},
     "output_type": "display_data"
    },
    {
     "data": {
      "text/html": [
       "Syncing run <strong><a href='https://wandb.ai/TFE-proteomics/ESM/runs/3eq51dl9' target=\"_blank\">ValidProtocol_ESM_fold_3</a></strong> to <a href='https://wandb.ai/TFE-proteomics/ESM' target=\"_blank\">Weights & Biases</a> (<a href='https://wandb.me/developer-guide' target=\"_blank\">docs</a>)<br>"
      ],
      "text/plain": [
       "<IPython.core.display.HTML object>"
      ]
     },
     "metadata": {},
     "output_type": "display_data"
    },
    {
     "data": {
      "text/html": [
       " View project at <a href='https://wandb.ai/TFE-proteomics/ESM' target=\"_blank\">https://wandb.ai/TFE-proteomics/ESM</a>"
      ],
      "text/plain": [
       "<IPython.core.display.HTML object>"
      ]
     },
     "metadata": {},
     "output_type": "display_data"
    },
    {
     "data": {
      "text/html": [
       " View run at <a href='https://wandb.ai/TFE-proteomics/ESM/runs/3eq51dl9' target=\"_blank\">https://wandb.ai/TFE-proteomics/ESM/runs/3eq51dl9</a>"
      ],
      "text/plain": [
       "<IPython.core.display.HTML object>"
      ]
     },
     "metadata": {},
     "output_type": "display_data"
    },
    {
     "data": {
      "text/html": [],
      "text/plain": [
       "<IPython.core.display.HTML object>"
      ]
     },
     "metadata": {},
     "output_type": "display_data"
    },
    {
     "data": {
      "text/html": [
       "<br>    <style><br>        .wandb-row {<br>            display: flex;<br>            flex-direction: row;<br>            flex-wrap: wrap;<br>            justify-content: flex-start;<br>            width: 100%;<br>        }<br>        .wandb-col {<br>            display: flex;<br>            flex-direction: column;<br>            flex-basis: 100%;<br>            flex: 1;<br>            padding: 10px;<br>        }<br>    </style><br><div class=\"wandb-row\"><div class=\"wandb-col\"><h3>Run history:</h3><br/><table class=\"wandb\"><tr><td>accuracy</td><td>▁</td></tr><tr><td>f1</td><td>▁</td></tr><tr><td>pr_auc</td><td>▁</td></tr><tr><td>precision</td><td>▁</td></tr><tr><td>recall</td><td>▁</td></tr><tr><td>roc_auc</td><td>▁</td></tr></table><br/></div><div class=\"wandb-col\"><h3>Run summary:</h3><br/><table class=\"wandb\"><tr><td>accuracy</td><td>0.74194</td></tr><tr><td>f1</td><td>0</td></tr><tr><td>pr_auc</td><td>0.24243</td></tr><tr><td>precision</td><td>0</td></tr><tr><td>recall</td><td>0</td></tr><tr><td>roc_auc</td><td>0.40761</td></tr></table><br/></div></div>"
      ],
      "text/plain": [
       "<IPython.core.display.HTML object>"
      ]
     },
     "metadata": {},
     "output_type": "display_data"
    },
    {
     "data": {
      "text/html": [
       " View run <strong style=\"color:#cdcd00\">ValidProtocol_ESM_fold_3</strong> at: <a href='https://wandb.ai/TFE-proteomics/ESM/runs/3eq51dl9' target=\"_blank\">https://wandb.ai/TFE-proteomics/ESM/runs/3eq51dl9</a><br> View project at: <a href='https://wandb.ai/TFE-proteomics/ESM' target=\"_blank\">https://wandb.ai/TFE-proteomics/ESM</a><br>Synced 5 W&B file(s), 0 media file(s), 0 artifact file(s) and 0 other file(s)"
      ],
      "text/plain": [
       "<IPython.core.display.HTML object>"
      ]
     },
     "metadata": {},
     "output_type": "display_data"
    },
    {
     "data": {
      "text/html": [
       "Find logs at: <code>./wandb/run-20250222_132256-3eq51dl9/logs</code>"
      ],
      "text/plain": [
       "<IPython.core.display.HTML object>"
      ]
     },
     "metadata": {},
     "output_type": "display_data"
    },
    {
     "name": "stdout",
     "output_type": "stream",
     "text": [
      "Fold 4 on 5\n",
      "Testing config 1 on 144\n",
      "Testing config 2 on 144\n",
      "Testing config 3 on 144\n",
      "Testing config 4 on 144\n",
      "Testing config 5 on 144\n",
      "Testing config 6 on 144\n",
      "Testing config 7 on 144\n",
      "Testing config 8 on 144\n",
      "Testing config 9 on 144\n",
      "Testing config 10 on 144\n",
      "Testing config 11 on 144\n",
      "Testing config 12 on 144\n",
      "Testing config 13 on 144\n",
      "Testing config 14 on 144\n",
      "Testing config 15 on 144\n",
      "Testing config 16 on 144\n",
      "Testing config 17 on 144\n",
      "Testing config 18 on 144\n",
      "Testing config 19 on 144\n",
      "Testing config 20 on 144\n",
      "Testing config 21 on 144\n",
      "Testing config 22 on 144\n",
      "Testing config 23 on 144\n",
      "Testing config 24 on 144\n",
      "Testing config 25 on 144\n",
      "Testing config 26 on 144\n",
      "Testing config 27 on 144\n",
      "Testing config 28 on 144\n",
      "Testing config 29 on 144\n",
      "Testing config 30 on 144\n",
      "Testing config 31 on 144\n",
      "Testing config 32 on 144\n",
      "Testing config 33 on 144\n",
      "Testing config 34 on 144\n",
      "Testing config 35 on 144\n",
      "Testing config 36 on 144\n",
      "Testing config 37 on 144\n",
      "Testing config 38 on 144\n",
      "Testing config 39 on 144\n",
      "Testing config 40 on 144\n",
      "Testing config 41 on 144\n",
      "Testing config 42 on 144\n",
      "Testing config 43 on 144\n",
      "Testing config 44 on 144\n",
      "Testing config 45 on 144\n",
      "Testing config 46 on 144\n",
      "Testing config 47 on 144\n",
      "Testing config 48 on 144\n",
      "Testing config 49 on 144\n",
      "Testing config 50 on 144\n",
      "Testing config 51 on 144\n",
      "Testing config 52 on 144\n",
      "Testing config 53 on 144\n",
      "Testing config 54 on 144\n",
      "Testing config 55 on 144\n",
      "Testing config 56 on 144\n",
      "Testing config 57 on 144\n",
      "Testing config 58 on 144\n",
      "Testing config 59 on 144\n",
      "Testing config 60 on 144\n",
      "Testing config 61 on 144\n",
      "Testing config 62 on 144\n",
      "Testing config 63 on 144\n",
      "Testing config 64 on 144\n",
      "Testing config 65 on 144\n",
      "Testing config 66 on 144\n",
      "Testing config 67 on 144\n",
      "Testing config 68 on 144\n",
      "Testing config 69 on 144\n",
      "Testing config 70 on 144\n",
      "Testing config 71 on 144\n",
      "Testing config 72 on 144\n",
      "Testing config 73 on 144\n",
      "Testing config 74 on 144\n",
      "Testing config 75 on 144\n",
      "Testing config 76 on 144\n",
      "Testing config 77 on 144\n",
      "Testing config 78 on 144\n",
      "Testing config 79 on 144\n",
      "Testing config 80 on 144\n",
      "Testing config 81 on 144\n",
      "Testing config 82 on 144\n",
      "Testing config 83 on 144\n",
      "Testing config 84 on 144\n",
      "Testing config 85 on 144\n",
      "Testing config 86 on 144\n",
      "Testing config 87 on 144\n",
      "Testing config 88 on 144\n",
      "Testing config 89 on 144\n",
      "Testing config 90 on 144\n",
      "Testing config 91 on 144\n",
      "Testing config 92 on 144\n",
      "Testing config 93 on 144\n",
      "Testing config 94 on 144\n",
      "Testing config 95 on 144\n",
      "Testing config 96 on 144\n",
      "Testing config 97 on 144\n",
      "Testing config 98 on 144\n",
      "Testing config 99 on 144\n",
      "Testing config 100 on 144\n",
      "Testing config 101 on 144\n",
      "Testing config 102 on 144\n",
      "Testing config 103 on 144\n",
      "Testing config 104 on 144\n",
      "Testing config 105 on 144\n",
      "Testing config 106 on 144\n",
      "Testing config 107 on 144\n",
      "Testing config 108 on 144\n",
      "Testing config 109 on 144\n",
      "Testing config 110 on 144\n",
      "Testing config 111 on 144\n",
      "Testing config 112 on 144\n",
      "Testing config 113 on 144\n",
      "Testing config 114 on 144\n",
      "Testing config 115 on 144\n",
      "Testing config 116 on 144\n",
      "Testing config 117 on 144\n",
      "Testing config 118 on 144\n",
      "Testing config 119 on 144\n",
      "Testing config 120 on 144\n",
      "Testing config 121 on 144\n",
      "Testing config 122 on 144\n",
      "Testing config 123 on 144\n",
      "Testing config 124 on 144\n",
      "Testing config 125 on 144\n",
      "Testing config 126 on 144\n",
      "Testing config 127 on 144\n",
      "Testing config 128 on 144\n",
      "Testing config 129 on 144\n",
      "Testing config 130 on 144\n",
      "Testing config 131 on 144\n",
      "Testing config 132 on 144\n",
      "Testing config 133 on 144\n",
      "Testing config 134 on 144\n",
      "Testing config 135 on 144\n",
      "Testing config 136 on 144\n",
      "Testing config 137 on 144\n",
      "Testing config 138 on 144\n",
      "Testing config 139 on 144\n",
      "Testing config 140 on 144\n",
      "Testing config 141 on 144\n",
      "Testing config 142 on 144\n",
      "Testing config 143 on 144\n",
      "Testing config 144 on 144\n",
      "\n",
      "--------------------------------------Config Done--------------------------------------------\n",
      "\n"
     ]
    },
    {
     "name": "stderr",
     "output_type": "stream",
     "text": [
      "/usr/local/lib/python3.11/dist-packages/sklearn/metrics/_classification.py:1565: UndefinedMetricWarning: Precision is ill-defined and being set to 0.0 due to no predicted samples. Use `zero_division` parameter to control this behavior.\n",
      "  _warn_prf(average, modifier, f\"{metric.capitalize()} is\", len(result))\n"
     ]
    },
    {
     "data": {
      "text/html": [
       "Tracking run with wandb version 0.19.6"
      ],
      "text/plain": [
       "<IPython.core.display.HTML object>"
      ]
     },
     "metadata": {},
     "output_type": "display_data"
    },
    {
     "data": {
      "text/html": [
       "Run data is saved locally in <code>/content/wandb/run-20250222_134249-8wu7yg72</code>"
      ],
      "text/plain": [
       "<IPython.core.display.HTML object>"
      ]
     },
     "metadata": {},
     "output_type": "display_data"
    },
    {
     "data": {
      "text/html": [
       "Syncing run <strong><a href='https://wandb.ai/TFE-proteomics/ESM/runs/8wu7yg72' target=\"_blank\">ValidProtocol_ESM_fold_4</a></strong> to <a href='https://wandb.ai/TFE-proteomics/ESM' target=\"_blank\">Weights & Biases</a> (<a href='https://wandb.me/developer-guide' target=\"_blank\">docs</a>)<br>"
      ],
      "text/plain": [
       "<IPython.core.display.HTML object>"
      ]
     },
     "metadata": {},
     "output_type": "display_data"
    },
    {
     "data": {
      "text/html": [
       " View project at <a href='https://wandb.ai/TFE-proteomics/ESM' target=\"_blank\">https://wandb.ai/TFE-proteomics/ESM</a>"
      ],
      "text/plain": [
       "<IPython.core.display.HTML object>"
      ]
     },
     "metadata": {},
     "output_type": "display_data"
    },
    {
     "data": {
      "text/html": [
       " View run at <a href='https://wandb.ai/TFE-proteomics/ESM/runs/8wu7yg72' target=\"_blank\">https://wandb.ai/TFE-proteomics/ESM/runs/8wu7yg72</a>"
      ],
      "text/plain": [
       "<IPython.core.display.HTML object>"
      ]
     },
     "metadata": {},
     "output_type": "display_data"
    },
    {
     "data": {
      "text/html": [],
      "text/plain": [
       "<IPython.core.display.HTML object>"
      ]
     },
     "metadata": {},
     "output_type": "display_data"
    },
    {
     "data": {
      "text/html": [
       "<br>    <style><br>        .wandb-row {<br>            display: flex;<br>            flex-direction: row;<br>            flex-wrap: wrap;<br>            justify-content: flex-start;<br>            width: 100%;<br>        }<br>        .wandb-col {<br>            display: flex;<br>            flex-direction: column;<br>            flex-basis: 100%;<br>            flex: 1;<br>            padding: 10px;<br>        }<br>    </style><br><div class=\"wandb-row\"><div class=\"wandb-col\"><h3>Run history:</h3><br/><table class=\"wandb\"><tr><td>accuracy</td><td>▁</td></tr><tr><td>f1</td><td>▁</td></tr><tr><td>pr_auc</td><td>▁</td></tr><tr><td>precision</td><td>▁</td></tr><tr><td>recall</td><td>▁</td></tr><tr><td>roc_auc</td><td>▁</td></tr></table><br/></div><div class=\"wandb-col\"><h3>Run summary:</h3><br/><table class=\"wandb\"><tr><td>accuracy</td><td>0.74194</td></tr><tr><td>f1</td><td>0</td></tr><tr><td>pr_auc</td><td>0.27809</td></tr><tr><td>precision</td><td>0</td></tr><tr><td>recall</td><td>0</td></tr><tr><td>roc_auc</td><td>0.45109</td></tr></table><br/></div></div>"
      ],
      "text/plain": [
       "<IPython.core.display.HTML object>"
      ]
     },
     "metadata": {},
     "output_type": "display_data"
    },
    {
     "data": {
      "text/html": [
       " View run <strong style=\"color:#cdcd00\">ValidProtocol_ESM_fold_4</strong> at: <a href='https://wandb.ai/TFE-proteomics/ESM/runs/8wu7yg72' target=\"_blank\">https://wandb.ai/TFE-proteomics/ESM/runs/8wu7yg72</a><br> View project at: <a href='https://wandb.ai/TFE-proteomics/ESM' target=\"_blank\">https://wandb.ai/TFE-proteomics/ESM</a><br>Synced 5 W&B file(s), 0 media file(s), 0 artifact file(s) and 0 other file(s)"
      ],
      "text/plain": [
       "<IPython.core.display.HTML object>"
      ]
     },
     "metadata": {},
     "output_type": "display_data"
    },
    {
     "data": {
      "text/html": [
       "Find logs at: <code>./wandb/run-20250222_134249-8wu7yg72/logs</code>"
      ],
      "text/plain": [
       "<IPython.core.display.HTML object>"
      ]
     },
     "metadata": {},
     "output_type": "display_data"
    },
    {
     "name": "stdout",
     "output_type": "stream",
     "text": [
      "Fold 5 on 5\n",
      "Testing config 1 on 144\n",
      "Testing config 2 on 144\n",
      "Testing config 3 on 144\n",
      "Testing config 4 on 144\n",
      "Testing config 5 on 144\n",
      "Testing config 6 on 144\n",
      "Testing config 7 on 144\n",
      "Testing config 8 on 144\n",
      "Testing config 9 on 144\n",
      "Testing config 10 on 144\n",
      "Testing config 11 on 144\n",
      "Testing config 12 on 144\n",
      "Testing config 13 on 144\n",
      "Testing config 14 on 144\n",
      "Testing config 15 on 144\n",
      "Testing config 16 on 144\n",
      "Testing config 17 on 144\n",
      "Testing config 18 on 144\n",
      "Testing config 19 on 144\n",
      "Testing config 20 on 144\n",
      "Testing config 21 on 144\n",
      "Testing config 22 on 144\n",
      "Testing config 23 on 144\n",
      "Testing config 24 on 144\n",
      "Testing config 25 on 144\n",
      "Testing config 26 on 144\n",
      "Testing config 27 on 144\n",
      "Testing config 28 on 144\n",
      "Testing config 29 on 144\n",
      "Testing config 30 on 144\n",
      "Testing config 31 on 144\n",
      "Testing config 32 on 144\n",
      "Testing config 33 on 144\n",
      "Testing config 34 on 144\n",
      "Testing config 35 on 144\n",
      "Testing config 36 on 144\n",
      "Testing config 37 on 144\n",
      "Testing config 38 on 144\n",
      "Testing config 39 on 144\n",
      "Testing config 40 on 144\n",
      "Testing config 41 on 144\n",
      "Testing config 42 on 144\n",
      "Testing config 43 on 144\n",
      "Testing config 44 on 144\n",
      "Testing config 45 on 144\n",
      "Testing config 46 on 144\n",
      "Testing config 47 on 144\n",
      "Testing config 48 on 144\n",
      "Testing config 49 on 144\n",
      "Testing config 50 on 144\n",
      "Testing config 51 on 144\n",
      "Testing config 52 on 144\n",
      "Testing config 53 on 144\n",
      "Testing config 54 on 144\n",
      "Testing config 55 on 144\n",
      "Testing config 56 on 144\n",
      "Testing config 57 on 144\n",
      "Testing config 58 on 144\n",
      "Testing config 59 on 144\n",
      "Testing config 60 on 144\n",
      "Testing config 61 on 144\n",
      "Testing config 62 on 144\n",
      "Testing config 63 on 144\n",
      "Testing config 64 on 144\n",
      "Testing config 65 on 144\n",
      "Testing config 66 on 144\n",
      "Testing config 67 on 144\n",
      "Testing config 68 on 144\n",
      "Testing config 69 on 144\n",
      "Testing config 70 on 144\n",
      "Testing config 71 on 144\n",
      "Testing config 72 on 144\n",
      "Testing config 73 on 144\n",
      "Testing config 74 on 144\n",
      "Testing config 75 on 144\n",
      "Testing config 76 on 144\n",
      "Testing config 77 on 144\n",
      "Testing config 78 on 144\n",
      "Testing config 79 on 144\n",
      "Testing config 80 on 144\n",
      "Testing config 81 on 144\n",
      "Testing config 82 on 144\n",
      "Testing config 83 on 144\n",
      "Testing config 84 on 144\n",
      "Testing config 85 on 144\n",
      "Testing config 86 on 144\n",
      "Testing config 87 on 144\n",
      "Testing config 88 on 144\n",
      "Testing config 89 on 144\n",
      "Testing config 90 on 144\n",
      "Testing config 91 on 144\n",
      "Testing config 92 on 144\n",
      "Testing config 93 on 144\n",
      "Testing config 94 on 144\n",
      "Testing config 95 on 144\n",
      "Testing config 96 on 144\n",
      "Testing config 97 on 144\n",
      "Testing config 98 on 144\n",
      "Testing config 99 on 144\n",
      "Testing config 100 on 144\n",
      "Testing config 101 on 144\n",
      "Testing config 102 on 144\n",
      "Testing config 103 on 144\n",
      "Testing config 104 on 144\n",
      "Testing config 105 on 144\n",
      "Testing config 106 on 144\n",
      "Testing config 107 on 144\n",
      "Testing config 108 on 144\n",
      "Testing config 109 on 144\n",
      "Testing config 110 on 144\n",
      "Testing config 111 on 144\n",
      "Testing config 112 on 144\n",
      "Testing config 113 on 144\n",
      "Testing config 114 on 144\n",
      "Testing config 115 on 144\n",
      "Testing config 116 on 144\n",
      "Testing config 117 on 144\n",
      "Testing config 118 on 144\n",
      "Testing config 119 on 144\n",
      "Testing config 120 on 144\n",
      "Testing config 121 on 144\n",
      "Testing config 122 on 144\n",
      "Testing config 123 on 144\n",
      "Testing config 124 on 144\n",
      "Testing config 125 on 144\n",
      "Testing config 126 on 144\n",
      "Testing config 127 on 144\n",
      "Testing config 128 on 144\n",
      "Testing config 129 on 144\n",
      "Testing config 130 on 144\n",
      "Testing config 131 on 144\n",
      "Testing config 132 on 144\n",
      "Testing config 133 on 144\n",
      "Testing config 134 on 144\n",
      "Testing config 135 on 144\n",
      "Testing config 136 on 144\n",
      "Testing config 137 on 144\n",
      "Testing config 138 on 144\n",
      "Testing config 139 on 144\n",
      "Testing config 140 on 144\n",
      "Testing config 141 on 144\n",
      "Testing config 142 on 144\n",
      "Testing config 143 on 144\n",
      "Testing config 144 on 144\n",
      "\n",
      "--------------------------------------Config Done--------------------------------------------\n",
      "\n"
     ]
    },
    {
     "name": "stderr",
     "output_type": "stream",
     "text": [
      "/usr/local/lib/python3.11/dist-packages/sklearn/metrics/_classification.py:1565: UndefinedMetricWarning: Precision is ill-defined and being set to 0.0 due to no predicted samples. Use `zero_division` parameter to control this behavior.\n",
      "  _warn_prf(average, modifier, f\"{metric.capitalize()} is\", len(result))\n"
     ]
    },
    {
     "data": {
      "text/html": [
       "Tracking run with wandb version 0.19.6"
      ],
      "text/plain": [
       "<IPython.core.display.HTML object>"
      ]
     },
     "metadata": {},
     "output_type": "display_data"
    },
    {
     "data": {
      "text/html": [
       "Run data is saved locally in <code>/content/wandb/run-20250222_140253-uicm3h96</code>"
      ],
      "text/plain": [
       "<IPython.core.display.HTML object>"
      ]
     },
     "metadata": {},
     "output_type": "display_data"
    },
    {
     "data": {
      "text/html": [
       "Syncing run <strong><a href='https://wandb.ai/TFE-proteomics/ESM/runs/uicm3h96' target=\"_blank\">ValidProtocol_ESM_fold_5</a></strong> to <a href='https://wandb.ai/TFE-proteomics/ESM' target=\"_blank\">Weights & Biases</a> (<a href='https://wandb.me/developer-guide' target=\"_blank\">docs</a>)<br>"
      ],
      "text/plain": [
       "<IPython.core.display.HTML object>"
      ]
     },
     "metadata": {},
     "output_type": "display_data"
    },
    {
     "data": {
      "text/html": [
       " View project at <a href='https://wandb.ai/TFE-proteomics/ESM' target=\"_blank\">https://wandb.ai/TFE-proteomics/ESM</a>"
      ],
      "text/plain": [
       "<IPython.core.display.HTML object>"
      ]
     },
     "metadata": {},
     "output_type": "display_data"
    },
    {
     "data": {
      "text/html": [
       " View run at <a href='https://wandb.ai/TFE-proteomics/ESM/runs/uicm3h96' target=\"_blank\">https://wandb.ai/TFE-proteomics/ESM/runs/uicm3h96</a>"
      ],
      "text/plain": [
       "<IPython.core.display.HTML object>"
      ]
     },
     "metadata": {},
     "output_type": "display_data"
    },
    {
     "data": {
      "text/html": [],
      "text/plain": [
       "<IPython.core.display.HTML object>"
      ]
     },
     "metadata": {},
     "output_type": "display_data"
    },
    {
     "data": {
      "text/html": [
       "<br>    <style><br>        .wandb-row {<br>            display: flex;<br>            flex-direction: row;<br>            flex-wrap: wrap;<br>            justify-content: flex-start;<br>            width: 100%;<br>        }<br>        .wandb-col {<br>            display: flex;<br>            flex-direction: column;<br>            flex-basis: 100%;<br>            flex: 1;<br>            padding: 10px;<br>        }<br>    </style><br><div class=\"wandb-row\"><div class=\"wandb-col\"><h3>Run history:</h3><br/><table class=\"wandb\"><tr><td>accuracy</td><td>▁</td></tr><tr><td>f1</td><td>▁</td></tr><tr><td>pr_auc</td><td>▁</td></tr><tr><td>precision</td><td>▁</td></tr><tr><td>recall</td><td>▁</td></tr><tr><td>roc_auc</td><td>▁</td></tr></table><br/></div><div class=\"wandb-col\"><h3>Run summary:</h3><br/><table class=\"wandb\"><tr><td>accuracy</td><td>0.74194</td></tr><tr><td>f1</td><td>0</td></tr><tr><td>pr_auc</td><td>0.53237</td></tr><tr><td>precision</td><td>0</td></tr><tr><td>recall</td><td>0</td></tr><tr><td>roc_auc</td><td>0.59783</td></tr></table><br/></div></div>"
      ],
      "text/plain": [
       "<IPython.core.display.HTML object>"
      ]
     },
     "metadata": {},
     "output_type": "display_data"
    },
    {
     "data": {
      "text/html": [
       " View run <strong style=\"color:#cdcd00\">ValidProtocol_ESM_fold_5</strong> at: <a href='https://wandb.ai/TFE-proteomics/ESM/runs/uicm3h96' target=\"_blank\">https://wandb.ai/TFE-proteomics/ESM/runs/uicm3h96</a><br> View project at: <a href='https://wandb.ai/TFE-proteomics/ESM' target=\"_blank\">https://wandb.ai/TFE-proteomics/ESM</a><br>Synced 5 W&B file(s), 0 media file(s), 0 artifact file(s) and 0 other file(s)"
      ],
      "text/plain": [
       "<IPython.core.display.HTML object>"
      ]
     },
     "metadata": {},
     "output_type": "display_data"
    },
    {
     "data": {
      "text/html": [
       "Find logs at: <code>./wandb/run-20250222_140253-uicm3h96/logs</code>"
      ],
      "text/plain": [
       "<IPython.core.display.HTML object>"
      ]
     },
     "metadata": {},
     "output_type": "display_data"
    },
    {
     "data": {
      "text/html": [
       "Tracking run with wandb version 0.19.6"
      ],
      "text/plain": [
       "<IPython.core.display.HTML object>"
      ]
     },
     "metadata": {},
     "output_type": "display_data"
    },
    {
     "data": {
      "text/html": [
       "Run data is saved locally in <code>/content/wandb/run-20250222_140256-b2ktw9vh</code>"
      ],
      "text/plain": [
       "<IPython.core.display.HTML object>"
      ]
     },
     "metadata": {},
     "output_type": "display_data"
    },
    {
     "data": {
      "text/html": [
       "Syncing run <strong><a href='https://wandb.ai/TFE-proteomics/ESM/runs/b2ktw9vh' target=\"_blank\">ValidProtocol_ESM_CrossValidation_Summary</a></strong> to <a href='https://wandb.ai/TFE-proteomics/ESM' target=\"_blank\">Weights & Biases</a> (<a href='https://wandb.me/developer-guide' target=\"_blank\">docs</a>)<br>"
      ],
      "text/plain": [
       "<IPython.core.display.HTML object>"
      ]
     },
     "metadata": {},
     "output_type": "display_data"
    },
    {
     "data": {
      "text/html": [
       " View project at <a href='https://wandb.ai/TFE-proteomics/ESM' target=\"_blank\">https://wandb.ai/TFE-proteomics/ESM</a>"
      ],
      "text/plain": [
       "<IPython.core.display.HTML object>"
      ]
     },
     "metadata": {},
     "output_type": "display_data"
    },
    {
     "data": {
      "text/html": [
       " View run at <a href='https://wandb.ai/TFE-proteomics/ESM/runs/b2ktw9vh' target=\"_blank\">https://wandb.ai/TFE-proteomics/ESM/runs/b2ktw9vh</a>"
      ],
      "text/plain": [
       "<IPython.core.display.HTML object>"
      ]
     },
     "metadata": {},
     "output_type": "display_data"
    },
    {
     "data": {
      "text/html": [],
      "text/plain": [
       "<IPython.core.display.HTML object>"
      ]
     },
     "metadata": {},
     "output_type": "display_data"
    },
    {
     "data": {
      "text/html": [
       "<br>    <style><br>        .wandb-row {<br>            display: flex;<br>            flex-direction: row;<br>            flex-wrap: wrap;<br>            justify-content: flex-start;<br>            width: 100%;<br>        }<br>        .wandb-col {<br>            display: flex;<br>            flex-direction: column;<br>            flex-basis: 100%;<br>            flex: 1;<br>            padding: 10px;<br>        }<br>    </style><br><div class=\"wandb-row\"><div class=\"wandb-col\"><h3>Run history:</h3><br/><table class=\"wandb\"><tr><td>accuracy_mean</td><td>▁</td></tr><tr><td>accuracy_std</td><td>▁</td></tr><tr><td>f1_mean</td><td>▁</td></tr><tr><td>f1_std</td><td>▁</td></tr><tr><td>pr_auc_mean</td><td>▁</td></tr><tr><td>pr_auc_std</td><td>▁</td></tr><tr><td>precision_mean</td><td>▁</td></tr><tr><td>precision_std</td><td>▁</td></tr><tr><td>recall_mean</td><td>▁</td></tr><tr><td>recall_std</td><td>▁</td></tr><tr><td>roc_auc_mean</td><td>▁</td></tr><tr><td>roc_auc_std</td><td>▁</td></tr></table><br/></div><div class=\"wandb-col\"><h3>Run summary:</h3><br/><table class=\"wandb\"><tr><td>accuracy_mean</td><td>0.75484</td></tr><tr><td>accuracy_std</td><td>0.0158</td></tr><tr><td>f1_mean</td><td>0</td></tr><tr><td>f1_std</td><td>0</td></tr><tr><td>pr_auc_mean</td><td>0.30059</td></tr><tr><td>pr_auc_std</td><td>0.11772</td></tr><tr><td>precision_mean</td><td>0</td></tr><tr><td>precision_std</td><td>0</td></tr><tr><td>recall_mean</td><td>0</td></tr><tr><td>recall_std</td><td>0</td></tr><tr><td>roc_auc_mean</td><td>0.4663</td></tr><tr><td>roc_auc_std</td><td>0.07803</td></tr></table><br/></div></div>"
      ],
      "text/plain": [
       "<IPython.core.display.HTML object>"
      ]
     },
     "metadata": {},
     "output_type": "display_data"
    },
    {
     "data": {
      "text/html": [
       " View run <strong style=\"color:#cdcd00\">ValidProtocol_ESM_CrossValidation_Summary</strong> at: <a href='https://wandb.ai/TFE-proteomics/ESM/runs/b2ktw9vh' target=\"_blank\">https://wandb.ai/TFE-proteomics/ESM/runs/b2ktw9vh</a><br> View project at: <a href='https://wandb.ai/TFE-proteomics/ESM' target=\"_blank\">https://wandb.ai/TFE-proteomics/ESM</a><br>Synced 5 W&B file(s), 0 media file(s), 0 artifact file(s) and 0 other file(s)"
      ],
      "text/plain": [
       "<IPython.core.display.HTML object>"
      ]
     },
     "metadata": {},
     "output_type": "display_data"
    },
    {
     "data": {
      "text/html": [
       "Find logs at: <code>./wandb/run-20250222_140256-b2ktw9vh/logs</code>"
      ],
      "text/plain": [
       "<IPython.core.display.HTML object>"
      ]
     },
     "metadata": {},
     "output_type": "display_data"
    },
    {
     "name": "stdout",
     "output_type": "stream",
     "text": [
      "Fold 1 on 5\n",
      "Testing config 1 on 144\n",
      "Testing config 2 on 144\n",
      "Testing config 3 on 144\n",
      "Testing config 4 on 144\n",
      "Testing config 5 on 144\n",
      "Testing config 6 on 144\n",
      "Testing config 7 on 144\n",
      "Testing config 8 on 144\n",
      "Testing config 9 on 144\n",
      "Testing config 10 on 144\n",
      "Testing config 11 on 144\n",
      "Testing config 12 on 144\n",
      "Testing config 13 on 144\n",
      "Testing config 14 on 144\n",
      "Testing config 15 on 144\n",
      "Testing config 16 on 144\n",
      "Testing config 17 on 144\n",
      "Testing config 18 on 144\n",
      "Testing config 19 on 144\n",
      "Testing config 20 on 144\n",
      "Testing config 21 on 144\n",
      "Testing config 22 on 144\n",
      "Testing config 23 on 144\n",
      "Testing config 24 on 144\n",
      "Testing config 25 on 144\n",
      "Testing config 26 on 144\n",
      "Testing config 27 on 144\n",
      "Testing config 28 on 144\n",
      "Testing config 29 on 144\n",
      "Testing config 30 on 144\n",
      "Testing config 31 on 144\n",
      "Testing config 32 on 144\n",
      "Testing config 33 on 144\n",
      "Testing config 34 on 144\n",
      "Testing config 35 on 144\n",
      "Testing config 36 on 144\n",
      "Testing config 37 on 144\n",
      "Testing config 38 on 144\n",
      "Testing config 39 on 144\n",
      "Testing config 40 on 144\n",
      "Testing config 41 on 144\n",
      "Testing config 42 on 144\n",
      "Testing config 43 on 144\n",
      "Testing config 44 on 144\n",
      "Testing config 45 on 144\n",
      "Testing config 46 on 144\n",
      "Testing config 47 on 144\n",
      "Testing config 48 on 144\n",
      "Testing config 49 on 144\n",
      "Testing config 50 on 144\n",
      "Testing config 51 on 144\n",
      "Testing config 52 on 144\n",
      "Testing config 53 on 144\n",
      "Testing config 54 on 144\n",
      "Testing config 55 on 144\n",
      "Testing config 56 on 144\n",
      "Testing config 57 on 144\n",
      "Testing config 58 on 144\n",
      "Testing config 59 on 144\n",
      "Testing config 60 on 144\n",
      "Testing config 61 on 144\n",
      "Testing config 62 on 144\n",
      "Testing config 63 on 144\n",
      "Testing config 64 on 144\n",
      "Testing config 65 on 144\n",
      "Testing config 66 on 144\n",
      "Testing config 67 on 144\n",
      "Testing config 68 on 144\n",
      "Testing config 69 on 144\n",
      "Testing config 70 on 144\n",
      "Testing config 71 on 144\n",
      "Testing config 72 on 144\n",
      "Testing config 73 on 144\n",
      "Testing config 74 on 144\n",
      "Testing config 75 on 144\n",
      "Testing config 76 on 144\n",
      "Testing config 77 on 144\n",
      "Testing config 78 on 144\n",
      "Testing config 79 on 144\n",
      "Testing config 80 on 144\n",
      "Testing config 81 on 144\n",
      "Testing config 82 on 144\n",
      "Testing config 83 on 144\n",
      "Testing config 84 on 144\n",
      "Testing config 85 on 144\n",
      "Testing config 86 on 144\n",
      "Testing config 87 on 144\n",
      "Testing config 88 on 144\n",
      "Testing config 89 on 144\n",
      "Testing config 90 on 144\n",
      "Testing config 91 on 144\n",
      "Testing config 92 on 144\n",
      "Testing config 93 on 144\n",
      "Testing config 94 on 144\n",
      "Testing config 95 on 144\n",
      "Testing config 96 on 144\n",
      "Testing config 97 on 144\n",
      "Testing config 98 on 144\n",
      "Testing config 99 on 144\n",
      "Testing config 100 on 144\n",
      "Testing config 101 on 144\n",
      "Testing config 102 on 144\n",
      "Testing config 103 on 144\n",
      "Testing config 104 on 144\n",
      "Testing config 105 on 144\n",
      "Testing config 106 on 144\n",
      "Testing config 107 on 144\n",
      "Testing config 108 on 144\n",
      "Testing config 109 on 144\n",
      "Testing config 110 on 144\n",
      "Testing config 111 on 144\n",
      "Testing config 112 on 144\n",
      "Testing config 113 on 144\n",
      "Testing config 114 on 144\n",
      "Testing config 115 on 144\n",
      "Testing config 116 on 144\n",
      "Testing config 117 on 144\n",
      "Testing config 118 on 144\n",
      "Testing config 119 on 144\n",
      "Testing config 120 on 144\n",
      "Testing config 121 on 144\n",
      "Testing config 122 on 144\n",
      "Testing config 123 on 144\n",
      "Testing config 124 on 144\n",
      "Testing config 125 on 144\n",
      "Testing config 126 on 144\n",
      "Testing config 127 on 144\n",
      "Testing config 128 on 144\n",
      "Testing config 129 on 144\n",
      "Testing config 130 on 144\n",
      "Testing config 131 on 144\n",
      "Testing config 132 on 144\n",
      "Testing config 133 on 144\n",
      "Testing config 134 on 144\n",
      "Testing config 135 on 144\n",
      "Testing config 136 on 144\n",
      "Testing config 137 on 144\n",
      "Testing config 138 on 144\n",
      "Testing config 139 on 144\n",
      "Testing config 140 on 144\n",
      "Testing config 141 on 144\n",
      "Testing config 142 on 144\n",
      "Testing config 143 on 144\n",
      "Testing config 144 on 144\n",
      "\n",
      "--------------------------------------Config Done--------------------------------------------\n",
      "\n"
     ]
    },
    {
     "data": {
      "text/html": [
       "Tracking run with wandb version 0.19.6"
      ],
      "text/plain": [
       "<IPython.core.display.HTML object>"
      ]
     },
     "metadata": {},
     "output_type": "display_data"
    },
    {
     "data": {
      "text/html": [
       "Run data is saved locally in <code>/content/wandb/run-20250222_142239-5i7lt0r2</code>"
      ],
      "text/plain": [
       "<IPython.core.display.HTML object>"
      ]
     },
     "metadata": {},
     "output_type": "display_data"
    },
    {
     "data": {
      "text/html": [
       "Syncing run <strong><a href='https://wandb.ai/TFE-proteomics/ESM/runs/5i7lt0r2' target=\"_blank\">ValidProtocol_ESM_fold_1</a></strong> to <a href='https://wandb.ai/TFE-proteomics/ESM' target=\"_blank\">Weights & Biases</a> (<a href='https://wandb.me/developer-guide' target=\"_blank\">docs</a>)<br>"
      ],
      "text/plain": [
       "<IPython.core.display.HTML object>"
      ]
     },
     "metadata": {},
     "output_type": "display_data"
    },
    {
     "data": {
      "text/html": [
       " View project at <a href='https://wandb.ai/TFE-proteomics/ESM' target=\"_blank\">https://wandb.ai/TFE-proteomics/ESM</a>"
      ],
      "text/plain": [
       "<IPython.core.display.HTML object>"
      ]
     },
     "metadata": {},
     "output_type": "display_data"
    },
    {
     "data": {
      "text/html": [
       " View run at <a href='https://wandb.ai/TFE-proteomics/ESM/runs/5i7lt0r2' target=\"_blank\">https://wandb.ai/TFE-proteomics/ESM/runs/5i7lt0r2</a>"
      ],
      "text/plain": [
       "<IPython.core.display.HTML object>"
      ]
     },
     "metadata": {},
     "output_type": "display_data"
    },
    {
     "data": {
      "text/html": [],
      "text/plain": [
       "<IPython.core.display.HTML object>"
      ]
     },
     "metadata": {},
     "output_type": "display_data"
    },
    {
     "data": {
      "text/html": [
       "<br>    <style><br>        .wandb-row {<br>            display: flex;<br>            flex-direction: row;<br>            flex-wrap: wrap;<br>            justify-content: flex-start;<br>            width: 100%;<br>        }<br>        .wandb-col {<br>            display: flex;<br>            flex-direction: column;<br>            flex-basis: 100%;<br>            flex: 1;<br>            padding: 10px;<br>        }<br>    </style><br><div class=\"wandb-row\"><div class=\"wandb-col\"><h3>Run history:</h3><br/><table class=\"wandb\"><tr><td>accuracy</td><td>▁</td></tr><tr><td>f1</td><td>▁</td></tr><tr><td>pr_auc</td><td>▁</td></tr><tr><td>precision</td><td>▁</td></tr><tr><td>recall</td><td>▁</td></tr><tr><td>roc_auc</td><td>▁</td></tr></table><br/></div><div class=\"wandb-col\"><h3>Run summary:</h3><br/><table class=\"wandb\"><tr><td>accuracy</td><td>0.22581</td></tr><tr><td>f1</td><td>0.36842</td></tr><tr><td>pr_auc</td><td>0.19663</td></tr><tr><td>precision</td><td>0.22581</td></tr><tr><td>recall</td><td>1</td></tr><tr><td>roc_auc</td><td>0.31548</td></tr></table><br/></div></div>"
      ],
      "text/plain": [
       "<IPython.core.display.HTML object>"
      ]
     },
     "metadata": {},
     "output_type": "display_data"
    },
    {
     "data": {
      "text/html": [
       " View run <strong style=\"color:#cdcd00\">ValidProtocol_ESM_fold_1</strong> at: <a href='https://wandb.ai/TFE-proteomics/ESM/runs/5i7lt0r2' target=\"_blank\">https://wandb.ai/TFE-proteomics/ESM/runs/5i7lt0r2</a><br> View project at: <a href='https://wandb.ai/TFE-proteomics/ESM' target=\"_blank\">https://wandb.ai/TFE-proteomics/ESM</a><br>Synced 5 W&B file(s), 0 media file(s), 0 artifact file(s) and 0 other file(s)"
      ],
      "text/plain": [
       "<IPython.core.display.HTML object>"
      ]
     },
     "metadata": {},
     "output_type": "display_data"
    },
    {
     "data": {
      "text/html": [
       "Find logs at: <code>./wandb/run-20250222_142239-5i7lt0r2/logs</code>"
      ],
      "text/plain": [
       "<IPython.core.display.HTML object>"
      ]
     },
     "metadata": {},
     "output_type": "display_data"
    },
    {
     "name": "stdout",
     "output_type": "stream",
     "text": [
      "Fold 2 on 5\n",
      "Testing config 1 on 144\n",
      "Testing config 2 on 144\n",
      "Testing config 3 on 144\n",
      "Testing config 4 on 144\n",
      "Testing config 5 on 144\n",
      "Testing config 6 on 144\n",
      "Testing config 7 on 144\n",
      "Testing config 8 on 144\n",
      "Testing config 9 on 144\n",
      "Testing config 10 on 144\n",
      "Testing config 11 on 144\n",
      "Testing config 12 on 144\n",
      "Testing config 13 on 144\n",
      "Testing config 14 on 144\n",
      "Testing config 15 on 144\n",
      "Testing config 16 on 144\n",
      "Testing config 17 on 144\n",
      "Testing config 18 on 144\n",
      "Testing config 19 on 144\n",
      "Testing config 20 on 144\n",
      "Testing config 21 on 144\n",
      "Testing config 22 on 144\n",
      "Testing config 23 on 144\n",
      "Testing config 24 on 144\n",
      "Testing config 25 on 144\n",
      "Testing config 26 on 144\n",
      "Testing config 27 on 144\n",
      "Testing config 28 on 144\n",
      "Testing config 29 on 144\n",
      "Testing config 30 on 144\n",
      "Testing config 31 on 144\n",
      "Testing config 32 on 144\n",
      "Testing config 33 on 144\n",
      "Testing config 34 on 144\n",
      "Testing config 35 on 144\n",
      "Testing config 36 on 144\n",
      "Testing config 37 on 144\n",
      "Testing config 38 on 144\n",
      "Testing config 39 on 144\n",
      "Testing config 40 on 144\n",
      "Testing config 41 on 144\n",
      "Testing config 42 on 144\n",
      "Testing config 43 on 144\n",
      "Testing config 44 on 144\n",
      "Testing config 45 on 144\n",
      "Testing config 46 on 144\n",
      "Testing config 47 on 144\n",
      "Testing config 48 on 144\n",
      "Testing config 49 on 144\n",
      "Testing config 50 on 144\n",
      "Testing config 51 on 144\n",
      "Testing config 52 on 144\n",
      "Testing config 53 on 144\n",
      "Testing config 54 on 144\n",
      "Testing config 55 on 144\n",
      "Testing config 56 on 144\n",
      "Testing config 57 on 144\n",
      "Testing config 58 on 144\n",
      "Testing config 59 on 144\n",
      "Testing config 60 on 144\n",
      "Testing config 61 on 144\n",
      "Testing config 62 on 144\n",
      "Testing config 63 on 144\n",
      "Testing config 64 on 144\n",
      "Testing config 65 on 144\n",
      "Testing config 66 on 144\n",
      "Testing config 67 on 144\n",
      "Testing config 68 on 144\n",
      "Testing config 69 on 144\n",
      "Testing config 70 on 144\n",
      "Testing config 71 on 144\n",
      "Testing config 72 on 144\n",
      "Testing config 73 on 144\n",
      "Testing config 74 on 144\n",
      "Testing config 75 on 144\n",
      "Testing config 76 on 144\n",
      "Testing config 77 on 144\n",
      "Testing config 78 on 144\n",
      "Testing config 79 on 144\n",
      "Testing config 80 on 144\n",
      "Testing config 81 on 144\n",
      "Testing config 82 on 144\n",
      "Testing config 83 on 144\n",
      "Testing config 84 on 144\n",
      "Testing config 85 on 144\n",
      "Testing config 86 on 144\n",
      "Testing config 87 on 144\n",
      "Testing config 88 on 144\n",
      "Testing config 89 on 144\n",
      "Testing config 90 on 144\n",
      "Testing config 91 on 144\n",
      "Testing config 92 on 144\n",
      "Testing config 93 on 144\n",
      "Testing config 94 on 144\n",
      "Testing config 95 on 144\n",
      "Testing config 96 on 144\n",
      "Testing config 97 on 144\n",
      "Testing config 98 on 144\n",
      "Testing config 99 on 144\n",
      "Testing config 100 on 144\n",
      "Testing config 101 on 144\n",
      "Testing config 102 on 144\n",
      "Testing config 103 on 144\n",
      "Testing config 104 on 144\n",
      "Testing config 105 on 144\n",
      "Testing config 106 on 144\n",
      "Testing config 107 on 144\n",
      "Testing config 108 on 144\n",
      "Testing config 109 on 144\n",
      "Testing config 110 on 144\n",
      "Testing config 111 on 144\n",
      "Testing config 112 on 144\n",
      "Testing config 113 on 144\n",
      "Testing config 114 on 144\n",
      "Testing config 115 on 144\n",
      "Testing config 116 on 144\n",
      "Testing config 117 on 144\n",
      "Testing config 118 on 144\n",
      "Testing config 119 on 144\n",
      "Testing config 120 on 144\n",
      "Testing config 121 on 144\n",
      "Testing config 122 on 144\n",
      "Testing config 123 on 144\n",
      "Testing config 124 on 144\n",
      "Testing config 125 on 144\n",
      "Testing config 126 on 144\n",
      "Testing config 127 on 144\n",
      "Testing config 128 on 144\n",
      "Testing config 129 on 144\n",
      "Testing config 130 on 144\n",
      "Testing config 131 on 144\n",
      "Testing config 132 on 144\n",
      "Testing config 133 on 144\n",
      "Testing config 134 on 144\n",
      "Testing config 135 on 144\n",
      "Testing config 136 on 144\n",
      "Testing config 137 on 144\n",
      "Testing config 138 on 144\n",
      "Testing config 139 on 144\n",
      "Testing config 140 on 144\n",
      "Testing config 141 on 144\n",
      "Testing config 142 on 144\n",
      "Testing config 143 on 144\n",
      "Testing config 144 on 144\n",
      "\n",
      "--------------------------------------Config Done--------------------------------------------\n",
      "\n"
     ]
    },
    {
     "data": {
      "text/html": [
       "Tracking run with wandb version 0.19.6"
      ],
      "text/plain": [
       "<IPython.core.display.HTML object>"
      ]
     },
     "metadata": {},
     "output_type": "display_data"
    },
    {
     "data": {
      "text/html": [
       "Run data is saved locally in <code>/content/wandb/run-20250222_144236-a5zz1dlc</code>"
      ],
      "text/plain": [
       "<IPython.core.display.HTML object>"
      ]
     },
     "metadata": {},
     "output_type": "display_data"
    },
    {
     "data": {
      "text/html": [
       "Syncing run <strong><a href='https://wandb.ai/TFE-proteomics/ESM/runs/a5zz1dlc' target=\"_blank\">ValidProtocol_ESM_fold_2</a></strong> to <a href='https://wandb.ai/TFE-proteomics/ESM' target=\"_blank\">Weights & Biases</a> (<a href='https://wandb.me/developer-guide' target=\"_blank\">docs</a>)<br>"
      ],
      "text/plain": [
       "<IPython.core.display.HTML object>"
      ]
     },
     "metadata": {},
     "output_type": "display_data"
    },
    {
     "data": {
      "text/html": [
       " View project at <a href='https://wandb.ai/TFE-proteomics/ESM' target=\"_blank\">https://wandb.ai/TFE-proteomics/ESM</a>"
      ],
      "text/plain": [
       "<IPython.core.display.HTML object>"
      ]
     },
     "metadata": {},
     "output_type": "display_data"
    },
    {
     "data": {
      "text/html": [
       " View run at <a href='https://wandb.ai/TFE-proteomics/ESM/runs/a5zz1dlc' target=\"_blank\">https://wandb.ai/TFE-proteomics/ESM/runs/a5zz1dlc</a>"
      ],
      "text/plain": [
       "<IPython.core.display.HTML object>"
      ]
     },
     "metadata": {},
     "output_type": "display_data"
    },
    {
     "data": {
      "text/html": [],
      "text/plain": [
       "<IPython.core.display.HTML object>"
      ]
     },
     "metadata": {},
     "output_type": "display_data"
    },
    {
     "data": {
      "text/html": [
       "<br>    <style><br>        .wandb-row {<br>            display: flex;<br>            flex-direction: row;<br>            flex-wrap: wrap;<br>            justify-content: flex-start;<br>            width: 100%;<br>        }<br>        .wandb-col {<br>            display: flex;<br>            flex-direction: column;<br>            flex-basis: 100%;<br>            flex: 1;<br>            padding: 10px;<br>        }<br>    </style><br><div class=\"wandb-row\"><div class=\"wandb-col\"><h3>Run history:</h3><br/><table class=\"wandb\"><tr><td>accuracy</td><td>▁</td></tr><tr><td>f1</td><td>▁</td></tr><tr><td>pr_auc</td><td>▁</td></tr><tr><td>precision</td><td>▁</td></tr><tr><td>recall</td><td>▁</td></tr><tr><td>roc_auc</td><td>▁</td></tr></table><br/></div><div class=\"wandb-col\"><h3>Run summary:</h3><br/><table class=\"wandb\"><tr><td>accuracy</td><td>0.6129</td></tr><tr><td>f1</td><td>0.14286</td></tr><tr><td>pr_auc</td><td>0.21847</td></tr><tr><td>precision</td><td>0.14286</td></tr><tr><td>recall</td><td>0.14286</td></tr><tr><td>roc_auc</td><td>0.38095</td></tr></table><br/></div></div>"
      ],
      "text/plain": [
       "<IPython.core.display.HTML object>"
      ]
     },
     "metadata": {},
     "output_type": "display_data"
    },
    {
     "data": {
      "text/html": [
       " View run <strong style=\"color:#cdcd00\">ValidProtocol_ESM_fold_2</strong> at: <a href='https://wandb.ai/TFE-proteomics/ESM/runs/a5zz1dlc' target=\"_blank\">https://wandb.ai/TFE-proteomics/ESM/runs/a5zz1dlc</a><br> View project at: <a href='https://wandb.ai/TFE-proteomics/ESM' target=\"_blank\">https://wandb.ai/TFE-proteomics/ESM</a><br>Synced 5 W&B file(s), 0 media file(s), 0 artifact file(s) and 0 other file(s)"
      ],
      "text/plain": [
       "<IPython.core.display.HTML object>"
      ]
     },
     "metadata": {},
     "output_type": "display_data"
    },
    {
     "data": {
      "text/html": [
       "Find logs at: <code>./wandb/run-20250222_144236-a5zz1dlc/logs</code>"
      ],
      "text/plain": [
       "<IPython.core.display.HTML object>"
      ]
     },
     "metadata": {},
     "output_type": "display_data"
    },
    {
     "name": "stdout",
     "output_type": "stream",
     "text": [
      "Fold 3 on 5\n",
      "Testing config 1 on 144\n",
      "Testing config 2 on 144\n",
      "Testing config 3 on 144\n",
      "Testing config 4 on 144\n",
      "Testing config 5 on 144\n",
      "Testing config 6 on 144\n",
      "Testing config 7 on 144\n",
      "Testing config 8 on 144\n",
      "Testing config 9 on 144\n",
      "Testing config 10 on 144\n",
      "Testing config 11 on 144\n",
      "Testing config 12 on 144\n",
      "Testing config 13 on 144\n",
      "Testing config 14 on 144\n",
      "Testing config 15 on 144\n",
      "Testing config 16 on 144\n",
      "Testing config 17 on 144\n",
      "Testing config 18 on 144\n",
      "Testing config 19 on 144\n",
      "Testing config 20 on 144\n",
      "Testing config 21 on 144\n",
      "Testing config 22 on 144\n",
      "Testing config 23 on 144\n",
      "Testing config 24 on 144\n",
      "Testing config 25 on 144\n",
      "Testing config 26 on 144\n",
      "Testing config 27 on 144\n",
      "Testing config 28 on 144\n",
      "Testing config 29 on 144\n",
      "Testing config 30 on 144\n",
      "Testing config 31 on 144\n",
      "Testing config 32 on 144\n",
      "Testing config 33 on 144\n",
      "Testing config 34 on 144\n",
      "Testing config 35 on 144\n",
      "Testing config 36 on 144\n",
      "Testing config 37 on 144\n",
      "Testing config 38 on 144\n",
      "Testing config 39 on 144\n",
      "Testing config 40 on 144\n",
      "Testing config 41 on 144\n",
      "Testing config 42 on 144\n",
      "Testing config 43 on 144\n",
      "Testing config 44 on 144\n",
      "Testing config 45 on 144\n",
      "Testing config 46 on 144\n",
      "Testing config 47 on 144\n",
      "Testing config 48 on 144\n",
      "Testing config 49 on 144\n",
      "Testing config 50 on 144\n",
      "Testing config 51 on 144\n",
      "Testing config 52 on 144\n",
      "Testing config 53 on 144\n",
      "Testing config 54 on 144\n",
      "Testing config 55 on 144\n",
      "Testing config 56 on 144\n",
      "Testing config 57 on 144\n",
      "Testing config 58 on 144\n",
      "Testing config 59 on 144\n",
      "Testing config 60 on 144\n",
      "Testing config 61 on 144\n",
      "Testing config 62 on 144\n",
      "Testing config 63 on 144\n",
      "Testing config 64 on 144\n",
      "Testing config 65 on 144\n",
      "Testing config 66 on 144\n",
      "Testing config 67 on 144\n",
      "Testing config 68 on 144\n",
      "Testing config 69 on 144\n",
      "Testing config 70 on 144\n",
      "Testing config 71 on 144\n",
      "Testing config 72 on 144\n",
      "Testing config 73 on 144\n",
      "Testing config 74 on 144\n",
      "Testing config 75 on 144\n",
      "Testing config 76 on 144\n",
      "Testing config 77 on 144\n",
      "Testing config 78 on 144\n",
      "Testing config 79 on 144\n",
      "Testing config 80 on 144\n",
      "Testing config 81 on 144\n",
      "Testing config 82 on 144\n",
      "Testing config 83 on 144\n",
      "Testing config 84 on 144\n",
      "Testing config 85 on 144\n",
      "Testing config 86 on 144\n",
      "Testing config 87 on 144\n",
      "Testing config 88 on 144\n",
      "Testing config 89 on 144\n",
      "Testing config 90 on 144\n",
      "Testing config 91 on 144\n",
      "Testing config 92 on 144\n",
      "Testing config 93 on 144\n",
      "Testing config 94 on 144\n",
      "Testing config 95 on 144\n",
      "Testing config 96 on 144\n",
      "Testing config 97 on 144\n",
      "Testing config 98 on 144\n",
      "Testing config 99 on 144\n",
      "Testing config 100 on 144\n",
      "Testing config 101 on 144\n",
      "Testing config 102 on 144\n",
      "Testing config 103 on 144\n",
      "Testing config 104 on 144\n",
      "Testing config 105 on 144\n",
      "Testing config 106 on 144\n",
      "Testing config 107 on 144\n",
      "Testing config 108 on 144\n",
      "Testing config 109 on 144\n",
      "Testing config 110 on 144\n",
      "Testing config 111 on 144\n",
      "Testing config 112 on 144\n",
      "Testing config 113 on 144\n",
      "Testing config 114 on 144\n",
      "Testing config 115 on 144\n",
      "Testing config 116 on 144\n",
      "Testing config 117 on 144\n",
      "Testing config 118 on 144\n",
      "Testing config 119 on 144\n",
      "Testing config 120 on 144\n",
      "Testing config 121 on 144\n",
      "Testing config 122 on 144\n",
      "Testing config 123 on 144\n",
      "Testing config 124 on 144\n",
      "Testing config 125 on 144\n",
      "Testing config 126 on 144\n",
      "Testing config 127 on 144\n",
      "Testing config 128 on 144\n",
      "Testing config 129 on 144\n",
      "Testing config 130 on 144\n",
      "Testing config 131 on 144\n",
      "Testing config 132 on 144\n",
      "Testing config 133 on 144\n",
      "Testing config 134 on 144\n",
      "Testing config 135 on 144\n",
      "Testing config 136 on 144\n",
      "Testing config 137 on 144\n",
      "Testing config 138 on 144\n",
      "Testing config 139 on 144\n",
      "Testing config 140 on 144\n",
      "Testing config 141 on 144\n",
      "Testing config 142 on 144\n",
      "Testing config 143 on 144\n",
      "Testing config 144 on 144\n",
      "\n",
      "--------------------------------------Config Done--------------------------------------------\n",
      "\n"
     ]
    },
    {
     "data": {
      "text/html": [
       "Tracking run with wandb version 0.19.6"
      ],
      "text/plain": [
       "<IPython.core.display.HTML object>"
      ]
     },
     "metadata": {},
     "output_type": "display_data"
    },
    {
     "data": {
      "text/html": [
       "Run data is saved locally in <code>/content/wandb/run-20250222_150230-gkialztp</code>"
      ],
      "text/plain": [
       "<IPython.core.display.HTML object>"
      ]
     },
     "metadata": {},
     "output_type": "display_data"
    },
    {
     "data": {
      "text/html": [
       "Syncing run <strong><a href='https://wandb.ai/TFE-proteomics/ESM/runs/gkialztp' target=\"_blank\">ValidProtocol_ESM_fold_3</a></strong> to <a href='https://wandb.ai/TFE-proteomics/ESM' target=\"_blank\">Weights & Biases</a> (<a href='https://wandb.me/developer-guide' target=\"_blank\">docs</a>)<br>"
      ],
      "text/plain": [
       "<IPython.core.display.HTML object>"
      ]
     },
     "metadata": {},
     "output_type": "display_data"
    },
    {
     "data": {
      "text/html": [
       " View project at <a href='https://wandb.ai/TFE-proteomics/ESM' target=\"_blank\">https://wandb.ai/TFE-proteomics/ESM</a>"
      ],
      "text/plain": [
       "<IPython.core.display.HTML object>"
      ]
     },
     "metadata": {},
     "output_type": "display_data"
    },
    {
     "data": {
      "text/html": [
       " View run at <a href='https://wandb.ai/TFE-proteomics/ESM/runs/gkialztp' target=\"_blank\">https://wandb.ai/TFE-proteomics/ESM/runs/gkialztp</a>"
      ],
      "text/plain": [
       "<IPython.core.display.HTML object>"
      ]
     },
     "metadata": {},
     "output_type": "display_data"
    },
    {
     "data": {
      "text/html": [],
      "text/plain": [
       "<IPython.core.display.HTML object>"
      ]
     },
     "metadata": {},
     "output_type": "display_data"
    },
    {
     "data": {
      "text/html": [
       "<br>    <style><br>        .wandb-row {<br>            display: flex;<br>            flex-direction: row;<br>            flex-wrap: wrap;<br>            justify-content: flex-start;<br>            width: 100%;<br>        }<br>        .wandb-col {<br>            display: flex;<br>            flex-direction: column;<br>            flex-basis: 100%;<br>            flex: 1;<br>            padding: 10px;<br>        }<br>    </style><br><div class=\"wandb-row\"><div class=\"wandb-col\"><h3>Run history:</h3><br/><table class=\"wandb\"><tr><td>accuracy</td><td>▁</td></tr><tr><td>f1</td><td>▁</td></tr><tr><td>pr_auc</td><td>▁</td></tr><tr><td>precision</td><td>▁</td></tr><tr><td>recall</td><td>▁</td></tr><tr><td>roc_auc</td><td>▁</td></tr></table><br/></div><div class=\"wandb-col\"><h3>Run summary:</h3><br/><table class=\"wandb\"><tr><td>accuracy</td><td>0.25806</td></tr><tr><td>f1</td><td>0.41026</td></tr><tr><td>pr_auc</td><td>0.36393</td></tr><tr><td>precision</td><td>0.25806</td></tr><tr><td>recall</td><td>1</td></tr><tr><td>roc_auc</td><td>0.47826</td></tr></table><br/></div></div>"
      ],
      "text/plain": [
       "<IPython.core.display.HTML object>"
      ]
     },
     "metadata": {},
     "output_type": "display_data"
    },
    {
     "data": {
      "text/html": [
       " View run <strong style=\"color:#cdcd00\">ValidProtocol_ESM_fold_3</strong> at: <a href='https://wandb.ai/TFE-proteomics/ESM/runs/gkialztp' target=\"_blank\">https://wandb.ai/TFE-proteomics/ESM/runs/gkialztp</a><br> View project at: <a href='https://wandb.ai/TFE-proteomics/ESM' target=\"_blank\">https://wandb.ai/TFE-proteomics/ESM</a><br>Synced 5 W&B file(s), 0 media file(s), 0 artifact file(s) and 0 other file(s)"
      ],
      "text/plain": [
       "<IPython.core.display.HTML object>"
      ]
     },
     "metadata": {},
     "output_type": "display_data"
    },
    {
     "data": {
      "text/html": [
       "Find logs at: <code>./wandb/run-20250222_150230-gkialztp/logs</code>"
      ],
      "text/plain": [
       "<IPython.core.display.HTML object>"
      ]
     },
     "metadata": {},
     "output_type": "display_data"
    },
    {
     "name": "stdout",
     "output_type": "stream",
     "text": [
      "Fold 4 on 5\n",
      "Testing config 1 on 144\n",
      "Testing config 2 on 144\n",
      "Testing config 3 on 144\n",
      "Testing config 4 on 144\n",
      "Testing config 5 on 144\n",
      "Testing config 6 on 144\n",
      "Testing config 7 on 144\n",
      "Testing config 8 on 144\n",
      "Testing config 9 on 144\n",
      "Testing config 10 on 144\n",
      "Testing config 11 on 144\n",
      "Testing config 12 on 144\n",
      "Testing config 13 on 144\n",
      "Testing config 14 on 144\n",
      "Testing config 15 on 144\n",
      "Testing config 16 on 144\n",
      "Testing config 17 on 144\n",
      "Testing config 18 on 144\n",
      "Testing config 19 on 144\n",
      "Testing config 20 on 144\n",
      "Testing config 21 on 144\n",
      "Testing config 22 on 144\n",
      "Testing config 23 on 144\n",
      "Testing config 24 on 144\n",
      "Testing config 25 on 144\n",
      "Testing config 26 on 144\n",
      "Testing config 27 on 144\n",
      "Testing config 28 on 144\n",
      "Testing config 29 on 144\n",
      "Testing config 30 on 144\n",
      "Testing config 31 on 144\n",
      "Testing config 32 on 144\n",
      "Testing config 33 on 144\n",
      "Testing config 34 on 144\n",
      "Testing config 35 on 144\n",
      "Testing config 36 on 144\n",
      "Testing config 37 on 144\n",
      "Testing config 38 on 144\n",
      "Testing config 39 on 144\n",
      "Testing config 40 on 144\n",
      "Testing config 41 on 144\n",
      "Testing config 42 on 144\n",
      "Testing config 43 on 144\n",
      "Testing config 44 on 144\n",
      "Testing config 45 on 144\n",
      "Testing config 46 on 144\n",
      "Testing config 47 on 144\n",
      "Testing config 48 on 144\n",
      "Testing config 49 on 144\n",
      "Testing config 50 on 144\n",
      "Testing config 51 on 144\n",
      "Testing config 52 on 144\n",
      "Testing config 53 on 144\n",
      "Testing config 54 on 144\n",
      "Testing config 55 on 144\n",
      "Testing config 56 on 144\n",
      "Testing config 57 on 144\n",
      "Testing config 58 on 144\n",
      "Testing config 59 on 144\n",
      "Testing config 60 on 144\n",
      "Testing config 61 on 144\n",
      "Testing config 62 on 144\n",
      "Testing config 63 on 144\n",
      "Testing config 64 on 144\n",
      "Testing config 65 on 144\n",
      "Testing config 66 on 144\n",
      "Testing config 67 on 144\n",
      "Testing config 68 on 144\n",
      "Testing config 69 on 144\n",
      "Testing config 70 on 144\n",
      "Testing config 71 on 144\n",
      "Testing config 72 on 144\n",
      "Testing config 73 on 144\n",
      "Testing config 74 on 144\n",
      "Testing config 75 on 144\n",
      "Testing config 76 on 144\n",
      "Testing config 77 on 144\n",
      "Testing config 78 on 144\n",
      "Testing config 79 on 144\n",
      "Testing config 80 on 144\n",
      "Testing config 81 on 144\n",
      "Testing config 82 on 144\n",
      "Testing config 83 on 144\n",
      "Testing config 84 on 144\n",
      "Testing config 85 on 144\n",
      "Testing config 86 on 144\n",
      "Testing config 87 on 144\n",
      "Testing config 88 on 144\n",
      "Testing config 89 on 144\n",
      "Testing config 90 on 144\n",
      "Testing config 91 on 144\n",
      "Testing config 92 on 144\n",
      "Testing config 93 on 144\n",
      "Testing config 94 on 144\n",
      "Testing config 95 on 144\n",
      "Testing config 96 on 144\n",
      "Testing config 97 on 144\n",
      "Testing config 98 on 144\n",
      "Testing config 99 on 144\n",
      "Testing config 100 on 144\n",
      "Testing config 101 on 144\n",
      "Testing config 102 on 144\n",
      "Testing config 103 on 144\n",
      "Testing config 104 on 144\n",
      "Testing config 105 on 144\n",
      "Testing config 106 on 144\n",
      "Testing config 107 on 144\n",
      "Testing config 108 on 144\n",
      "Testing config 109 on 144\n",
      "Testing config 110 on 144\n",
      "Testing config 111 on 144\n",
      "Testing config 112 on 144\n",
      "Testing config 113 on 144\n",
      "Testing config 114 on 144\n",
      "Testing config 115 on 144\n",
      "Testing config 116 on 144\n",
      "Testing config 117 on 144\n",
      "Testing config 118 on 144\n",
      "Testing config 119 on 144\n",
      "Testing config 120 on 144\n",
      "Testing config 121 on 144\n",
      "Testing config 122 on 144\n",
      "Testing config 123 on 144\n",
      "Testing config 124 on 144\n",
      "Testing config 125 on 144\n",
      "Testing config 126 on 144\n",
      "Testing config 127 on 144\n",
      "Testing config 128 on 144\n",
      "Testing config 129 on 144\n",
      "Testing config 130 on 144\n",
      "Testing config 131 on 144\n",
      "Testing config 132 on 144\n",
      "Testing config 133 on 144\n",
      "Testing config 134 on 144\n",
      "Testing config 135 on 144\n",
      "Testing config 136 on 144\n",
      "Testing config 137 on 144\n",
      "Testing config 138 on 144\n",
      "Testing config 139 on 144\n",
      "Testing config 140 on 144\n",
      "Testing config 141 on 144\n",
      "Testing config 142 on 144\n",
      "Testing config 143 on 144\n",
      "Testing config 144 on 144\n",
      "\n",
      "--------------------------------------Config Done--------------------------------------------\n",
      "\n"
     ]
    },
    {
     "name": "stderr",
     "output_type": "stream",
     "text": [
      "/usr/local/lib/python3.11/dist-packages/sklearn/metrics/_classification.py:1565: UndefinedMetricWarning: Precision is ill-defined and being set to 0.0 due to no predicted samples. Use `zero_division` parameter to control this behavior.\n",
      "  _warn_prf(average, modifier, f\"{metric.capitalize()} is\", len(result))\n"
     ]
    },
    {
     "data": {
      "text/html": [
       "Tracking run with wandb version 0.19.6"
      ],
      "text/plain": [
       "<IPython.core.display.HTML object>"
      ]
     },
     "metadata": {},
     "output_type": "display_data"
    },
    {
     "data": {
      "text/html": [
       "Run data is saved locally in <code>/content/wandb/run-20250222_152202-uhl7qzr7</code>"
      ],
      "text/plain": [
       "<IPython.core.display.HTML object>"
      ]
     },
     "metadata": {},
     "output_type": "display_data"
    },
    {
     "data": {
      "text/html": [
       "Syncing run <strong><a href='https://wandb.ai/TFE-proteomics/ESM/runs/uhl7qzr7' target=\"_blank\">ValidProtocol_ESM_fold_4</a></strong> to <a href='https://wandb.ai/TFE-proteomics/ESM' target=\"_blank\">Weights & Biases</a> (<a href='https://wandb.me/developer-guide' target=\"_blank\">docs</a>)<br>"
      ],
      "text/plain": [
       "<IPython.core.display.HTML object>"
      ]
     },
     "metadata": {},
     "output_type": "display_data"
    },
    {
     "data": {
      "text/html": [
       " View project at <a href='https://wandb.ai/TFE-proteomics/ESM' target=\"_blank\">https://wandb.ai/TFE-proteomics/ESM</a>"
      ],
      "text/plain": [
       "<IPython.core.display.HTML object>"
      ]
     },
     "metadata": {},
     "output_type": "display_data"
    },
    {
     "data": {
      "text/html": [
       " View run at <a href='https://wandb.ai/TFE-proteomics/ESM/runs/uhl7qzr7' target=\"_blank\">https://wandb.ai/TFE-proteomics/ESM/runs/uhl7qzr7</a>"
      ],
      "text/plain": [
       "<IPython.core.display.HTML object>"
      ]
     },
     "metadata": {},
     "output_type": "display_data"
    },
    {
     "data": {
      "text/html": [],
      "text/plain": [
       "<IPython.core.display.HTML object>"
      ]
     },
     "metadata": {},
     "output_type": "display_data"
    },
    {
     "data": {
      "text/html": [
       "<br>    <style><br>        .wandb-row {<br>            display: flex;<br>            flex-direction: row;<br>            flex-wrap: wrap;<br>            justify-content: flex-start;<br>            width: 100%;<br>        }<br>        .wandb-col {<br>            display: flex;<br>            flex-direction: column;<br>            flex-basis: 100%;<br>            flex: 1;<br>            padding: 10px;<br>        }<br>    </style><br><div class=\"wandb-row\"><div class=\"wandb-col\"><h3>Run history:</h3><br/><table class=\"wandb\"><tr><td>accuracy</td><td>▁</td></tr><tr><td>f1</td><td>▁</td></tr><tr><td>pr_auc</td><td>▁</td></tr><tr><td>precision</td><td>▁</td></tr><tr><td>recall</td><td>▁</td></tr><tr><td>roc_auc</td><td>▁</td></tr></table><br/></div><div class=\"wandb-col\"><h3>Run summary:</h3><br/><table class=\"wandb\"><tr><td>accuracy</td><td>0.74194</td></tr><tr><td>f1</td><td>0</td></tr><tr><td>pr_auc</td><td>0.23744</td></tr><tr><td>precision</td><td>0</td></tr><tr><td>recall</td><td>0</td></tr><tr><td>roc_auc</td><td>0.41304</td></tr></table><br/></div></div>"
      ],
      "text/plain": [
       "<IPython.core.display.HTML object>"
      ]
     },
     "metadata": {},
     "output_type": "display_data"
    },
    {
     "data": {
      "text/html": [
       " View run <strong style=\"color:#cdcd00\">ValidProtocol_ESM_fold_4</strong> at: <a href='https://wandb.ai/TFE-proteomics/ESM/runs/uhl7qzr7' target=\"_blank\">https://wandb.ai/TFE-proteomics/ESM/runs/uhl7qzr7</a><br> View project at: <a href='https://wandb.ai/TFE-proteomics/ESM' target=\"_blank\">https://wandb.ai/TFE-proteomics/ESM</a><br>Synced 5 W&B file(s), 0 media file(s), 0 artifact file(s) and 0 other file(s)"
      ],
      "text/plain": [
       "<IPython.core.display.HTML object>"
      ]
     },
     "metadata": {},
     "output_type": "display_data"
    },
    {
     "data": {
      "text/html": [
       "Find logs at: <code>./wandb/run-20250222_152202-uhl7qzr7/logs</code>"
      ],
      "text/plain": [
       "<IPython.core.display.HTML object>"
      ]
     },
     "metadata": {},
     "output_type": "display_data"
    },
    {
     "name": "stdout",
     "output_type": "stream",
     "text": [
      "Fold 5 on 5\n",
      "Testing config 1 on 144\n",
      "Testing config 2 on 144\n",
      "Testing config 3 on 144\n",
      "Testing config 4 on 144\n",
      "Testing config 5 on 144\n",
      "Testing config 6 on 144\n",
      "Testing config 7 on 144\n",
      "Testing config 8 on 144\n",
      "Testing config 9 on 144\n",
      "Testing config 10 on 144\n",
      "Testing config 11 on 144\n",
      "Testing config 12 on 144\n",
      "Testing config 13 on 144\n",
      "Testing config 14 on 144\n",
      "Testing config 15 on 144\n",
      "Testing config 16 on 144\n",
      "Testing config 17 on 144\n",
      "Testing config 18 on 144\n",
      "Testing config 19 on 144\n",
      "Testing config 20 on 144\n",
      "Testing config 21 on 144\n",
      "Testing config 22 on 144\n",
      "Testing config 23 on 144\n",
      "Testing config 24 on 144\n",
      "Testing config 25 on 144\n",
      "Testing config 26 on 144\n",
      "Testing config 27 on 144\n",
      "Testing config 28 on 144\n",
      "Testing config 29 on 144\n",
      "Testing config 30 on 144\n",
      "Testing config 31 on 144\n",
      "Testing config 32 on 144\n",
      "Testing config 33 on 144\n",
      "Testing config 34 on 144\n",
      "Testing config 35 on 144\n",
      "Testing config 36 on 144\n",
      "Testing config 37 on 144\n",
      "Testing config 38 on 144\n",
      "Testing config 39 on 144\n",
      "Testing config 40 on 144\n",
      "Testing config 41 on 144\n",
      "Testing config 42 on 144\n",
      "Testing config 43 on 144\n",
      "Testing config 44 on 144\n",
      "Testing config 45 on 144\n",
      "Testing config 46 on 144\n",
      "Testing config 47 on 144\n",
      "Testing config 48 on 144\n",
      "Testing config 49 on 144\n",
      "Testing config 50 on 144\n",
      "Testing config 51 on 144\n",
      "Testing config 52 on 144\n",
      "Testing config 53 on 144\n",
      "Testing config 54 on 144\n",
      "Testing config 55 on 144\n",
      "Testing config 56 on 144\n",
      "Testing config 57 on 144\n",
      "Testing config 58 on 144\n",
      "Testing config 59 on 144\n",
      "Testing config 60 on 144\n",
      "Testing config 61 on 144\n",
      "Testing config 62 on 144\n",
      "Testing config 63 on 144\n",
      "Testing config 64 on 144\n",
      "Testing config 65 on 144\n",
      "Testing config 66 on 144\n",
      "Testing config 67 on 144\n",
      "Testing config 68 on 144\n",
      "Testing config 69 on 144\n",
      "Testing config 70 on 144\n",
      "Testing config 71 on 144\n",
      "Testing config 72 on 144\n",
      "Testing config 73 on 144\n",
      "Testing config 74 on 144\n",
      "Testing config 75 on 144\n",
      "Testing config 76 on 144\n",
      "Testing config 77 on 144\n",
      "Testing config 78 on 144\n",
      "Testing config 79 on 144\n",
      "Testing config 80 on 144\n",
      "Testing config 81 on 144\n",
      "Testing config 82 on 144\n",
      "Testing config 83 on 144\n",
      "Testing config 84 on 144\n",
      "Testing config 85 on 144\n",
      "Testing config 86 on 144\n",
      "Testing config 87 on 144\n",
      "Testing config 88 on 144\n",
      "Testing config 89 on 144\n",
      "Testing config 90 on 144\n",
      "Testing config 91 on 144\n",
      "Testing config 92 on 144\n",
      "Testing config 93 on 144\n",
      "Testing config 94 on 144\n",
      "Testing config 95 on 144\n",
      "Testing config 96 on 144\n",
      "Testing config 97 on 144\n",
      "Testing config 98 on 144\n",
      "Testing config 99 on 144\n",
      "Testing config 100 on 144\n",
      "Testing config 101 on 144\n",
      "Testing config 102 on 144\n",
      "Testing config 103 on 144\n",
      "Testing config 104 on 144\n",
      "Testing config 105 on 144\n",
      "Testing config 106 on 144\n",
      "Testing config 107 on 144\n",
      "Testing config 108 on 144\n",
      "Testing config 109 on 144\n",
      "Testing config 110 on 144\n",
      "Testing config 111 on 144\n",
      "Testing config 112 on 144\n",
      "Testing config 113 on 144\n",
      "Testing config 114 on 144\n",
      "Testing config 115 on 144\n",
      "Testing config 116 on 144\n",
      "Testing config 117 on 144\n",
      "Testing config 118 on 144\n",
      "Testing config 119 on 144\n",
      "Testing config 120 on 144\n",
      "Testing config 121 on 144\n",
      "Testing config 122 on 144\n",
      "Testing config 123 on 144\n",
      "Testing config 124 on 144\n",
      "Testing config 125 on 144\n",
      "Testing config 126 on 144\n",
      "Testing config 127 on 144\n",
      "Testing config 128 on 144\n",
      "Testing config 129 on 144\n",
      "Testing config 130 on 144\n",
      "Testing config 131 on 144\n",
      "Testing config 132 on 144\n",
      "Testing config 133 on 144\n",
      "Testing config 134 on 144\n",
      "Testing config 135 on 144\n",
      "Testing config 136 on 144\n",
      "Testing config 137 on 144\n",
      "Testing config 138 on 144\n",
      "Testing config 139 on 144\n",
      "Testing config 140 on 144\n",
      "Testing config 141 on 144\n",
      "Testing config 142 on 144\n",
      "Testing config 143 on 144\n",
      "Testing config 144 on 144\n",
      "\n",
      "--------------------------------------Config Done--------------------------------------------\n",
      "\n"
     ]
    },
    {
     "name": "stderr",
     "output_type": "stream",
     "text": [
      "/usr/local/lib/python3.11/dist-packages/sklearn/metrics/_classification.py:1565: UndefinedMetricWarning: Precision is ill-defined and being set to 0.0 due to no predicted samples. Use `zero_division` parameter to control this behavior.\n",
      "  _warn_prf(average, modifier, f\"{metric.capitalize()} is\", len(result))\n"
     ]
    },
    {
     "data": {
      "text/html": [
       "Tracking run with wandb version 0.19.6"
      ],
      "text/plain": [
       "<IPython.core.display.HTML object>"
      ]
     },
     "metadata": {},
     "output_type": "display_data"
    },
    {
     "data": {
      "text/html": [
       "Run data is saved locally in <code>/content/wandb/run-20250222_154214-m09sstxe</code>"
      ],
      "text/plain": [
       "<IPython.core.display.HTML object>"
      ]
     },
     "metadata": {},
     "output_type": "display_data"
    },
    {
     "data": {
      "text/html": [
       "Syncing run <strong><a href='https://wandb.ai/TFE-proteomics/ESM/runs/m09sstxe' target=\"_blank\">ValidProtocol_ESM_fold_5</a></strong> to <a href='https://wandb.ai/TFE-proteomics/ESM' target=\"_blank\">Weights & Biases</a> (<a href='https://wandb.me/developer-guide' target=\"_blank\">docs</a>)<br>"
      ],
      "text/plain": [
       "<IPython.core.display.HTML object>"
      ]
     },
     "metadata": {},
     "output_type": "display_data"
    },
    {
     "data": {
      "text/html": [
       " View project at <a href='https://wandb.ai/TFE-proteomics/ESM' target=\"_blank\">https://wandb.ai/TFE-proteomics/ESM</a>"
      ],
      "text/plain": [
       "<IPython.core.display.HTML object>"
      ]
     },
     "metadata": {},
     "output_type": "display_data"
    },
    {
     "data": {
      "text/html": [
       " View run at <a href='https://wandb.ai/TFE-proteomics/ESM/runs/m09sstxe' target=\"_blank\">https://wandb.ai/TFE-proteomics/ESM/runs/m09sstxe</a>"
      ],
      "text/plain": [
       "<IPython.core.display.HTML object>"
      ]
     },
     "metadata": {},
     "output_type": "display_data"
    },
    {
     "data": {
      "text/html": [],
      "text/plain": [
       "<IPython.core.display.HTML object>"
      ]
     },
     "metadata": {},
     "output_type": "display_data"
    },
    {
     "data": {
      "text/html": [
       "<br>    <style><br>        .wandb-row {<br>            display: flex;<br>            flex-direction: row;<br>            flex-wrap: wrap;<br>            justify-content: flex-start;<br>            width: 100%;<br>        }<br>        .wandb-col {<br>            display: flex;<br>            flex-direction: column;<br>            flex-basis: 100%;<br>            flex: 1;<br>            padding: 10px;<br>        }<br>    </style><br><div class=\"wandb-row\"><div class=\"wandb-col\"><h3>Run history:</h3><br/><table class=\"wandb\"><tr><td>accuracy</td><td>▁</td></tr><tr><td>f1</td><td>▁</td></tr><tr><td>pr_auc</td><td>▁</td></tr><tr><td>precision</td><td>▁</td></tr><tr><td>recall</td><td>▁</td></tr><tr><td>roc_auc</td><td>▁</td></tr></table><br/></div><div class=\"wandb-col\"><h3>Run summary:</h3><br/><table class=\"wandb\"><tr><td>accuracy</td><td>0.74194</td></tr><tr><td>f1</td><td>0</td></tr><tr><td>pr_auc</td><td>0.34515</td></tr><tr><td>precision</td><td>0</td></tr><tr><td>recall</td><td>0</td></tr><tr><td>roc_auc</td><td>0.43478</td></tr></table><br/></div></div>"
      ],
      "text/plain": [
       "<IPython.core.display.HTML object>"
      ]
     },
     "metadata": {},
     "output_type": "display_data"
    },
    {
     "data": {
      "text/html": [
       " View run <strong style=\"color:#cdcd00\">ValidProtocol_ESM_fold_5</strong> at: <a href='https://wandb.ai/TFE-proteomics/ESM/runs/m09sstxe' target=\"_blank\">https://wandb.ai/TFE-proteomics/ESM/runs/m09sstxe</a><br> View project at: <a href='https://wandb.ai/TFE-proteomics/ESM' target=\"_blank\">https://wandb.ai/TFE-proteomics/ESM</a><br>Synced 5 W&B file(s), 0 media file(s), 0 artifact file(s) and 0 other file(s)"
      ],
      "text/plain": [
       "<IPython.core.display.HTML object>"
      ]
     },
     "metadata": {},
     "output_type": "display_data"
    },
    {
     "data": {
      "text/html": [
       "Find logs at: <code>./wandb/run-20250222_154214-m09sstxe/logs</code>"
      ],
      "text/plain": [
       "<IPython.core.display.HTML object>"
      ]
     },
     "metadata": {},
     "output_type": "display_data"
    },
    {
     "data": {
      "text/html": [
       "Tracking run with wandb version 0.19.6"
      ],
      "text/plain": [
       "<IPython.core.display.HTML object>"
      ]
     },
     "metadata": {},
     "output_type": "display_data"
    },
    {
     "data": {
      "text/html": [
       "Run data is saved locally in <code>/content/wandb/run-20250222_154218-p2k8lffe</code>"
      ],
      "text/plain": [
       "<IPython.core.display.HTML object>"
      ]
     },
     "metadata": {},
     "output_type": "display_data"
    },
    {
     "data": {
      "text/html": [
       "Syncing run <strong><a href='https://wandb.ai/TFE-proteomics/ESM/runs/p2k8lffe' target=\"_blank\">ValidProtocol_ESM_CrossValidation_Summary</a></strong> to <a href='https://wandb.ai/TFE-proteomics/ESM' target=\"_blank\">Weights & Biases</a> (<a href='https://wandb.me/developer-guide' target=\"_blank\">docs</a>)<br>"
      ],
      "text/plain": [
       "<IPython.core.display.HTML object>"
      ]
     },
     "metadata": {},
     "output_type": "display_data"
    },
    {
     "data": {
      "text/html": [
       " View project at <a href='https://wandb.ai/TFE-proteomics/ESM' target=\"_blank\">https://wandb.ai/TFE-proteomics/ESM</a>"
      ],
      "text/plain": [
       "<IPython.core.display.HTML object>"
      ]
     },
     "metadata": {},
     "output_type": "display_data"
    },
    {
     "data": {
      "text/html": [
       " View run at <a href='https://wandb.ai/TFE-proteomics/ESM/runs/p2k8lffe' target=\"_blank\">https://wandb.ai/TFE-proteomics/ESM/runs/p2k8lffe</a>"
      ],
      "text/plain": [
       "<IPython.core.display.HTML object>"
      ]
     },
     "metadata": {},
     "output_type": "display_data"
    },
    {
     "data": {
      "text/html": [],
      "text/plain": [
       "<IPython.core.display.HTML object>"
      ]
     },
     "metadata": {},
     "output_type": "display_data"
    },
    {
     "data": {
      "text/html": [
       "<br>    <style><br>        .wandb-row {<br>            display: flex;<br>            flex-direction: row;<br>            flex-wrap: wrap;<br>            justify-content: flex-start;<br>            width: 100%;<br>        }<br>        .wandb-col {<br>            display: flex;<br>            flex-direction: column;<br>            flex-basis: 100%;<br>            flex: 1;<br>            padding: 10px;<br>        }<br>    </style><br><div class=\"wandb-row\"><div class=\"wandb-col\"><h3>Run history:</h3><br/><table class=\"wandb\"><tr><td>accuracy_mean</td><td>▁</td></tr><tr><td>accuracy_std</td><td>▁</td></tr><tr><td>f1_mean</td><td>▁</td></tr><tr><td>f1_std</td><td>▁</td></tr><tr><td>pr_auc_mean</td><td>▁</td></tr><tr><td>pr_auc_std</td><td>▁</td></tr><tr><td>precision_mean</td><td>▁</td></tr><tr><td>precision_std</td><td>▁</td></tr><tr><td>recall_mean</td><td>▁</td></tr><tr><td>recall_std</td><td>▁</td></tr><tr><td>roc_auc_mean</td><td>▁</td></tr><tr><td>roc_auc_std</td><td>▁</td></tr></table><br/></div><div class=\"wandb-col\"><h3>Run summary:</h3><br/><table class=\"wandb\"><tr><td>accuracy_mean</td><td>0.51613</td></tr><tr><td>accuracy_std</td><td>0.22901</td></tr><tr><td>f1_mean</td><td>0.18431</td></tr><tr><td>f1_std</td><td>0.17585</td></tr><tr><td>pr_auc_mean</td><td>0.27233</td></tr><tr><td>pr_auc_std</td><td>0.06862</td></tr><tr><td>precision_mean</td><td>0.12535</td></tr><tr><td>precision_std</td><td>0.10903</td></tr><tr><td>recall_mean</td><td>0.42857</td></tr><tr><td>recall_std</td><td>0.46948</td></tr><tr><td>roc_auc_mean</td><td>0.4045</td></tr><tr><td>roc_auc_std</td><td>0.05461</td></tr></table><br/></div></div>"
      ],
      "text/plain": [
       "<IPython.core.display.HTML object>"
      ]
     },
     "metadata": {},
     "output_type": "display_data"
    },
    {
     "data": {
      "text/html": [
       " View run <strong style=\"color:#cdcd00\">ValidProtocol_ESM_CrossValidation_Summary</strong> at: <a href='https://wandb.ai/TFE-proteomics/ESM/runs/p2k8lffe' target=\"_blank\">https://wandb.ai/TFE-proteomics/ESM/runs/p2k8lffe</a><br> View project at: <a href='https://wandb.ai/TFE-proteomics/ESM' target=\"_blank\">https://wandb.ai/TFE-proteomics/ESM</a><br>Synced 5 W&B file(s), 0 media file(s), 0 artifact file(s) and 0 other file(s)"
      ],
      "text/plain": [
       "<IPython.core.display.HTML object>"
      ]
     },
     "metadata": {},
     "output_type": "display_data"
    },
    {
     "data": {
      "text/html": [
       "Find logs at: <code>./wandb/run-20250222_154218-p2k8lffe/logs</code>"
      ],
      "text/plain": [
       "<IPython.core.display.HTML object>"
      ]
     },
     "metadata": {},
     "output_type": "display_data"
    },
    {
     "name": "stdout",
     "output_type": "stream",
     "text": [
      "Fold 1 on 5\n",
      "Testing config 1 on 144\n",
      "Testing config 2 on 144\n",
      "Testing config 3 on 144\n",
      "Testing config 4 on 144\n",
      "Testing config 5 on 144\n",
      "Testing config 6 on 144\n",
      "Testing config 7 on 144\n",
      "Testing config 8 on 144\n",
      "Testing config 9 on 144\n",
      "Testing config 10 on 144\n",
      "Testing config 11 on 144\n",
      "Testing config 12 on 144\n",
      "Testing config 13 on 144\n",
      "Testing config 14 on 144\n",
      "Testing config 15 on 144\n",
      "Testing config 16 on 144\n",
      "Testing config 17 on 144\n",
      "Testing config 18 on 144\n",
      "Testing config 19 on 144\n",
      "Testing config 20 on 144\n",
      "Testing config 21 on 144\n",
      "Testing config 22 on 144\n",
      "Testing config 23 on 144\n",
      "Testing config 24 on 144\n",
      "Testing config 25 on 144\n",
      "Testing config 26 on 144\n",
      "Testing config 27 on 144\n",
      "Testing config 28 on 144\n",
      "Testing config 29 on 144\n",
      "Testing config 30 on 144\n",
      "Testing config 31 on 144\n",
      "Testing config 32 on 144\n",
      "Testing config 33 on 144\n",
      "Testing config 34 on 144\n",
      "Testing config 35 on 144\n",
      "Testing config 36 on 144\n",
      "Testing config 37 on 144\n",
      "Testing config 38 on 144\n",
      "Testing config 39 on 144\n",
      "Testing config 40 on 144\n",
      "Testing config 41 on 144\n",
      "Testing config 42 on 144\n",
      "Testing config 43 on 144\n",
      "Testing config 44 on 144\n",
      "Testing config 45 on 144\n",
      "Testing config 46 on 144\n",
      "Testing config 47 on 144\n",
      "Testing config 48 on 144\n",
      "Testing config 49 on 144\n",
      "Testing config 50 on 144\n",
      "Testing config 51 on 144\n",
      "Testing config 52 on 144\n",
      "Testing config 53 on 144\n",
      "Testing config 54 on 144\n",
      "Testing config 55 on 144\n",
      "Testing config 56 on 144\n",
      "Testing config 57 on 144\n",
      "Testing config 58 on 144\n",
      "Testing config 59 on 144\n",
      "Testing config 60 on 144\n",
      "Testing config 61 on 144\n",
      "Testing config 62 on 144\n",
      "Testing config 63 on 144\n",
      "Testing config 64 on 144\n",
      "Testing config 65 on 144\n",
      "Testing config 66 on 144\n",
      "Testing config 67 on 144\n",
      "Testing config 68 on 144\n",
      "Testing config 69 on 144\n",
      "Testing config 70 on 144\n",
      "Testing config 71 on 144\n",
      "Testing config 72 on 144\n",
      "Testing config 73 on 144\n",
      "Testing config 74 on 144\n",
      "Testing config 75 on 144\n",
      "Testing config 76 on 144\n",
      "Testing config 77 on 144\n",
      "Testing config 78 on 144\n",
      "Testing config 79 on 144\n",
      "Testing config 80 on 144\n",
      "Testing config 81 on 144\n",
      "Testing config 82 on 144\n",
      "Testing config 83 on 144\n",
      "Testing config 84 on 144\n",
      "Testing config 85 on 144\n",
      "Testing config 86 on 144\n",
      "Testing config 87 on 144\n",
      "Testing config 88 on 144\n",
      "Testing config 89 on 144\n",
      "Testing config 90 on 144\n",
      "Testing config 91 on 144\n",
      "Testing config 92 on 144\n",
      "Testing config 93 on 144\n",
      "Testing config 94 on 144\n",
      "Testing config 95 on 144\n",
      "Testing config 96 on 144\n",
      "Testing config 97 on 144\n",
      "Testing config 98 on 144\n",
      "Testing config 99 on 144\n",
      "Testing config 100 on 144\n",
      "Testing config 101 on 144\n",
      "Testing config 102 on 144\n",
      "Testing config 103 on 144\n",
      "Testing config 104 on 144\n",
      "Testing config 105 on 144\n",
      "Testing config 106 on 144\n",
      "Testing config 107 on 144\n",
      "Testing config 108 on 144\n",
      "Testing config 109 on 144\n",
      "Testing config 110 on 144\n",
      "Testing config 111 on 144\n",
      "Testing config 112 on 144\n",
      "Testing config 113 on 144\n",
      "Testing config 114 on 144\n",
      "Testing config 115 on 144\n",
      "Testing config 116 on 144\n",
      "Testing config 117 on 144\n",
      "Testing config 118 on 144\n",
      "Testing config 119 on 144\n",
      "Testing config 120 on 144\n",
      "Testing config 121 on 144\n",
      "Testing config 122 on 144\n",
      "Testing config 123 on 144\n",
      "Testing config 124 on 144\n",
      "Testing config 125 on 144\n",
      "Testing config 126 on 144\n",
      "Testing config 127 on 144\n",
      "Testing config 128 on 144\n",
      "Testing config 129 on 144\n",
      "Testing config 130 on 144\n",
      "Testing config 131 on 144\n",
      "Testing config 132 on 144\n",
      "Testing config 133 on 144\n",
      "Testing config 134 on 144\n",
      "Testing config 135 on 144\n",
      "Testing config 136 on 144\n",
      "Testing config 137 on 144\n",
      "Testing config 138 on 144\n",
      "Testing config 139 on 144\n",
      "Testing config 140 on 144\n",
      "Testing config 141 on 144\n",
      "Testing config 142 on 144\n",
      "Testing config 143 on 144\n",
      "Testing config 144 on 144\n",
      "\n",
      "--------------------------------------Config Done--------------------------------------------\n",
      "\n"
     ]
    },
    {
     "data": {
      "text/html": [
       "Tracking run with wandb version 0.19.6"
      ],
      "text/plain": [
       "<IPython.core.display.HTML object>"
      ]
     },
     "metadata": {},
     "output_type": "display_data"
    },
    {
     "data": {
      "text/html": [
       "Run data is saved locally in <code>/content/wandb/run-20250222_160647-jyyssnl9</code>"
      ],
      "text/plain": [
       "<IPython.core.display.HTML object>"
      ]
     },
     "metadata": {},
     "output_type": "display_data"
    },
    {
     "data": {
      "text/html": [
       "Syncing run <strong><a href='https://wandb.ai/TFE-proteomics/ESM/runs/jyyssnl9' target=\"_blank\">ValidProtocol_ESM_fold_1</a></strong> to <a href='https://wandb.ai/TFE-proteomics/ESM' target=\"_blank\">Weights & Biases</a> (<a href='https://wandb.me/developer-guide' target=\"_blank\">docs</a>)<br>"
      ],
      "text/plain": [
       "<IPython.core.display.HTML object>"
      ]
     },
     "metadata": {},
     "output_type": "display_data"
    },
    {
     "data": {
      "text/html": [
       " View project at <a href='https://wandb.ai/TFE-proteomics/ESM' target=\"_blank\">https://wandb.ai/TFE-proteomics/ESM</a>"
      ],
      "text/plain": [
       "<IPython.core.display.HTML object>"
      ]
     },
     "metadata": {},
     "output_type": "display_data"
    },
    {
     "data": {
      "text/html": [
       " View run at <a href='https://wandb.ai/TFE-proteomics/ESM/runs/jyyssnl9' target=\"_blank\">https://wandb.ai/TFE-proteomics/ESM/runs/jyyssnl9</a>"
      ],
      "text/plain": [
       "<IPython.core.display.HTML object>"
      ]
     },
     "metadata": {},
     "output_type": "display_data"
    },
    {
     "data": {
      "text/html": [],
      "text/plain": [
       "<IPython.core.display.HTML object>"
      ]
     },
     "metadata": {},
     "output_type": "display_data"
    },
    {
     "data": {
      "text/html": [
       "<br>    <style><br>        .wandb-row {<br>            display: flex;<br>            flex-direction: row;<br>            flex-wrap: wrap;<br>            justify-content: flex-start;<br>            width: 100%;<br>        }<br>        .wandb-col {<br>            display: flex;<br>            flex-direction: column;<br>            flex-basis: 100%;<br>            flex: 1;<br>            padding: 10px;<br>        }<br>    </style><br><div class=\"wandb-row\"><div class=\"wandb-col\"><h3>Run history:</h3><br/><table class=\"wandb\"><tr><td>accuracy</td><td>▁</td></tr><tr><td>f1</td><td>▁</td></tr><tr><td>pr_auc</td><td>▁</td></tr><tr><td>precision</td><td>▁</td></tr><tr><td>recall</td><td>▁</td></tr><tr><td>roc_auc</td><td>▁</td></tr></table><br/></div><div class=\"wandb-col\"><h3>Run summary:</h3><br/><table class=\"wandb\"><tr><td>accuracy</td><td>0.6129</td></tr><tr><td>f1</td><td>0.25</td></tr><tr><td>pr_auc</td><td>0.43353</td></tr><tr><td>precision</td><td>0.22222</td></tr><tr><td>recall</td><td>0.28571</td></tr><tr><td>roc_auc</td><td>0.66667</td></tr></table><br/></div></div>"
      ],
      "text/plain": [
       "<IPython.core.display.HTML object>"
      ]
     },
     "metadata": {},
     "output_type": "display_data"
    },
    {
     "data": {
      "text/html": [
       " View run <strong style=\"color:#cdcd00\">ValidProtocol_ESM_fold_1</strong> at: <a href='https://wandb.ai/TFE-proteomics/ESM/runs/jyyssnl9' target=\"_blank\">https://wandb.ai/TFE-proteomics/ESM/runs/jyyssnl9</a><br> View project at: <a href='https://wandb.ai/TFE-proteomics/ESM' target=\"_blank\">https://wandb.ai/TFE-proteomics/ESM</a><br>Synced 5 W&B file(s), 0 media file(s), 0 artifact file(s) and 0 other file(s)"
      ],
      "text/plain": [
       "<IPython.core.display.HTML object>"
      ]
     },
     "metadata": {},
     "output_type": "display_data"
    },
    {
     "data": {
      "text/html": [
       "Find logs at: <code>./wandb/run-20250222_160647-jyyssnl9/logs</code>"
      ],
      "text/plain": [
       "<IPython.core.display.HTML object>"
      ]
     },
     "metadata": {},
     "output_type": "display_data"
    },
    {
     "name": "stdout",
     "output_type": "stream",
     "text": [
      "Fold 2 on 5\n",
      "Testing config 1 on 144\n",
      "Testing config 2 on 144\n",
      "Testing config 3 on 144\n",
      "Testing config 4 on 144\n",
      "Testing config 5 on 144\n",
      "Testing config 6 on 144\n",
      "Testing config 7 on 144\n",
      "Testing config 8 on 144\n",
      "Testing config 9 on 144\n",
      "Testing config 10 on 144\n",
      "Testing config 11 on 144\n",
      "Testing config 12 on 144\n",
      "Testing config 13 on 144\n",
      "Testing config 14 on 144\n",
      "Testing config 15 on 144\n",
      "Testing config 16 on 144\n",
      "Testing config 17 on 144\n",
      "Testing config 18 on 144\n",
      "Testing config 19 on 144\n",
      "Testing config 20 on 144\n",
      "Testing config 21 on 144\n",
      "Testing config 22 on 144\n",
      "Testing config 23 on 144\n",
      "Testing config 24 on 144\n",
      "Testing config 25 on 144\n",
      "Testing config 26 on 144\n",
      "Testing config 27 on 144\n",
      "Testing config 28 on 144\n",
      "Testing config 29 on 144\n",
      "Testing config 30 on 144\n",
      "Testing config 31 on 144\n",
      "Testing config 32 on 144\n",
      "Testing config 33 on 144\n",
      "Testing config 34 on 144\n",
      "Testing config 35 on 144\n",
      "Testing config 36 on 144\n",
      "Testing config 37 on 144\n",
      "Testing config 38 on 144\n",
      "Testing config 39 on 144\n",
      "Testing config 40 on 144\n",
      "Testing config 41 on 144\n",
      "Testing config 42 on 144\n",
      "Testing config 43 on 144\n",
      "Testing config 44 on 144\n",
      "Testing config 45 on 144\n",
      "Testing config 46 on 144\n",
      "Testing config 47 on 144\n",
      "Testing config 48 on 144\n",
      "Testing config 49 on 144\n",
      "Testing config 50 on 144\n",
      "Testing config 51 on 144\n",
      "Testing config 52 on 144\n",
      "Testing config 53 on 144\n",
      "Testing config 54 on 144\n",
      "Testing config 55 on 144\n",
      "Testing config 56 on 144\n",
      "Testing config 57 on 144\n",
      "Testing config 58 on 144\n",
      "Testing config 59 on 144\n",
      "Testing config 60 on 144\n",
      "Testing config 61 on 144\n",
      "Testing config 62 on 144\n",
      "Testing config 63 on 144\n",
      "Testing config 64 on 144\n",
      "Testing config 65 on 144\n",
      "Testing config 66 on 144\n",
      "Testing config 67 on 144\n",
      "Testing config 68 on 144\n",
      "Testing config 69 on 144\n",
      "Testing config 70 on 144\n",
      "Testing config 71 on 144\n",
      "Testing config 72 on 144\n",
      "Testing config 73 on 144\n",
      "Testing config 74 on 144\n",
      "Testing config 75 on 144\n",
      "Testing config 76 on 144\n",
      "Testing config 77 on 144\n",
      "Testing config 78 on 144\n",
      "Testing config 79 on 144\n",
      "Testing config 80 on 144\n",
      "Testing config 81 on 144\n",
      "Testing config 82 on 144\n",
      "Testing config 83 on 144\n",
      "Testing config 84 on 144\n",
      "Testing config 85 on 144\n",
      "Testing config 86 on 144\n",
      "Testing config 87 on 144\n",
      "Testing config 88 on 144\n",
      "Testing config 89 on 144\n",
      "Testing config 90 on 144\n",
      "Testing config 91 on 144\n",
      "Testing config 92 on 144\n",
      "Testing config 93 on 144\n",
      "Testing config 94 on 144\n",
      "Testing config 95 on 144\n",
      "Testing config 96 on 144\n",
      "Testing config 97 on 144\n",
      "Testing config 98 on 144\n",
      "Testing config 99 on 144\n",
      "Testing config 100 on 144\n",
      "Testing config 101 on 144\n",
      "Testing config 102 on 144\n",
      "Testing config 103 on 144\n",
      "Testing config 104 on 144\n",
      "Testing config 105 on 144\n",
      "Testing config 106 on 144\n",
      "Testing config 107 on 144\n",
      "Testing config 108 on 144\n",
      "Testing config 109 on 144\n",
      "Testing config 110 on 144\n",
      "Testing config 111 on 144\n",
      "Testing config 112 on 144\n",
      "Testing config 113 on 144\n",
      "Testing config 114 on 144\n",
      "Testing config 115 on 144\n",
      "Testing config 116 on 144\n",
      "Testing config 117 on 144\n",
      "Testing config 118 on 144\n",
      "Testing config 119 on 144\n",
      "Testing config 120 on 144\n",
      "Testing config 121 on 144\n",
      "Testing config 122 on 144\n",
      "Testing config 123 on 144\n",
      "Testing config 124 on 144\n",
      "Testing config 125 on 144\n",
      "Testing config 126 on 144\n",
      "Testing config 127 on 144\n",
      "Testing config 128 on 144\n",
      "Testing config 129 on 144\n",
      "Testing config 130 on 144\n",
      "Testing config 131 on 144\n",
      "Testing config 132 on 144\n",
      "Testing config 133 on 144\n",
      "Testing config 134 on 144\n",
      "Testing config 135 on 144\n",
      "Testing config 136 on 144\n",
      "Testing config 137 on 144\n",
      "Testing config 138 on 144\n",
      "Testing config 139 on 144\n",
      "Testing config 140 on 144\n",
      "Testing config 141 on 144\n",
      "Testing config 142 on 144\n",
      "Testing config 143 on 144\n",
      "Testing config 144 on 144\n",
      "\n",
      "--------------------------------------Config Done--------------------------------------------\n",
      "\n"
     ]
    },
    {
     "data": {
      "text/html": [
       "Tracking run with wandb version 0.19.6"
      ],
      "text/plain": [
       "<IPython.core.display.HTML object>"
      ]
     },
     "metadata": {},
     "output_type": "display_data"
    },
    {
     "data": {
      "text/html": [
       "Run data is saved locally in <code>/content/wandb/run-20250222_163111-v212x032</code>"
      ],
      "text/plain": [
       "<IPython.core.display.HTML object>"
      ]
     },
     "metadata": {},
     "output_type": "display_data"
    },
    {
     "data": {
      "text/html": [
       "Syncing run <strong><a href='https://wandb.ai/TFE-proteomics/ESM/runs/v212x032' target=\"_blank\">ValidProtocol_ESM_fold_2</a></strong> to <a href='https://wandb.ai/TFE-proteomics/ESM' target=\"_blank\">Weights & Biases</a> (<a href='https://wandb.me/developer-guide' target=\"_blank\">docs</a>)<br>"
      ],
      "text/plain": [
       "<IPython.core.display.HTML object>"
      ]
     },
     "metadata": {},
     "output_type": "display_data"
    },
    {
     "data": {
      "text/html": [
       " View project at <a href='https://wandb.ai/TFE-proteomics/ESM' target=\"_blank\">https://wandb.ai/TFE-proteomics/ESM</a>"
      ],
      "text/plain": [
       "<IPython.core.display.HTML object>"
      ]
     },
     "metadata": {},
     "output_type": "display_data"
    },
    {
     "data": {
      "text/html": [
       " View run at <a href='https://wandb.ai/TFE-proteomics/ESM/runs/v212x032' target=\"_blank\">https://wandb.ai/TFE-proteomics/ESM/runs/v212x032</a>"
      ],
      "text/plain": [
       "<IPython.core.display.HTML object>"
      ]
     },
     "metadata": {},
     "output_type": "display_data"
    },
    {
     "data": {
      "text/html": [],
      "text/plain": [
       "<IPython.core.display.HTML object>"
      ]
     },
     "metadata": {},
     "output_type": "display_data"
    },
    {
     "data": {
      "text/html": [
       "<br>    <style><br>        .wandb-row {<br>            display: flex;<br>            flex-direction: row;<br>            flex-wrap: wrap;<br>            justify-content: flex-start;<br>            width: 100%;<br>        }<br>        .wandb-col {<br>            display: flex;<br>            flex-direction: column;<br>            flex-basis: 100%;<br>            flex: 1;<br>            padding: 10px;<br>        }<br>    </style><br><div class=\"wandb-row\"><div class=\"wandb-col\"><h3>Run history:</h3><br/><table class=\"wandb\"><tr><td>accuracy</td><td>▁</td></tr><tr><td>f1</td><td>▁</td></tr><tr><td>pr_auc</td><td>▁</td></tr><tr><td>precision</td><td>▁</td></tr><tr><td>recall</td><td>▁</td></tr><tr><td>roc_auc</td><td>▁</td></tr></table><br/></div><div class=\"wandb-col\"><h3>Run summary:</h3><br/><table class=\"wandb\"><tr><td>accuracy</td><td>0.22581</td></tr><tr><td>f1</td><td>0.36842</td></tr><tr><td>pr_auc</td><td>0.25377</td></tr><tr><td>precision</td><td>0.22581</td></tr><tr><td>recall</td><td>1</td></tr><tr><td>roc_auc</td><td>0.51786</td></tr></table><br/></div></div>"
      ],
      "text/plain": [
       "<IPython.core.display.HTML object>"
      ]
     },
     "metadata": {},
     "output_type": "display_data"
    },
    {
     "data": {
      "text/html": [
       " View run <strong style=\"color:#cdcd00\">ValidProtocol_ESM_fold_2</strong> at: <a href='https://wandb.ai/TFE-proteomics/ESM/runs/v212x032' target=\"_blank\">https://wandb.ai/TFE-proteomics/ESM/runs/v212x032</a><br> View project at: <a href='https://wandb.ai/TFE-proteomics/ESM' target=\"_blank\">https://wandb.ai/TFE-proteomics/ESM</a><br>Synced 5 W&B file(s), 0 media file(s), 0 artifact file(s) and 0 other file(s)"
      ],
      "text/plain": [
       "<IPython.core.display.HTML object>"
      ]
     },
     "metadata": {},
     "output_type": "display_data"
    },
    {
     "data": {
      "text/html": [
       "Find logs at: <code>./wandb/run-20250222_163111-v212x032/logs</code>"
      ],
      "text/plain": [
       "<IPython.core.display.HTML object>"
      ]
     },
     "metadata": {},
     "output_type": "display_data"
    },
    {
     "name": "stdout",
     "output_type": "stream",
     "text": [
      "Fold 3 on 5\n",
      "Testing config 1 on 144\n",
      "Testing config 2 on 144\n",
      "Testing config 3 on 144\n",
      "Testing config 4 on 144\n",
      "Testing config 5 on 144\n",
      "Testing config 6 on 144\n",
      "Testing config 7 on 144\n",
      "Testing config 8 on 144\n",
      "Testing config 9 on 144\n",
      "Testing config 10 on 144\n",
      "Testing config 11 on 144\n",
      "Testing config 12 on 144\n",
      "Testing config 13 on 144\n",
      "Testing config 14 on 144\n",
      "Testing config 15 on 144\n",
      "Testing config 16 on 144\n",
      "Testing config 17 on 144\n",
      "Testing config 18 on 144\n",
      "Testing config 19 on 144\n",
      "Testing config 20 on 144\n",
      "Testing config 21 on 144\n",
      "Testing config 22 on 144\n",
      "Testing config 23 on 144\n",
      "Testing config 24 on 144\n",
      "Testing config 25 on 144\n",
      "Testing config 26 on 144\n",
      "Testing config 27 on 144\n",
      "Testing config 28 on 144\n",
      "Testing config 29 on 144\n",
      "Testing config 30 on 144\n",
      "Testing config 31 on 144\n",
      "Testing config 32 on 144\n",
      "Testing config 33 on 144\n",
      "Testing config 34 on 144\n",
      "Testing config 35 on 144\n",
      "Testing config 36 on 144\n",
      "Testing config 37 on 144\n",
      "Testing config 38 on 144\n",
      "Testing config 39 on 144\n",
      "Testing config 40 on 144\n",
      "Testing config 41 on 144\n",
      "Testing config 42 on 144\n",
      "Testing config 43 on 144\n",
      "Testing config 44 on 144\n",
      "Testing config 45 on 144\n",
      "Testing config 46 on 144\n",
      "Testing config 47 on 144\n",
      "Testing config 48 on 144\n",
      "Testing config 49 on 144\n",
      "Testing config 50 on 144\n",
      "Testing config 51 on 144\n",
      "Testing config 52 on 144\n",
      "Testing config 53 on 144\n",
      "Testing config 54 on 144\n",
      "Testing config 55 on 144\n",
      "Testing config 56 on 144\n",
      "Testing config 57 on 144\n",
      "Testing config 58 on 144\n",
      "Testing config 59 on 144\n",
      "Testing config 60 on 144\n",
      "Testing config 61 on 144\n",
      "Testing config 62 on 144\n",
      "Testing config 63 on 144\n",
      "Testing config 64 on 144\n",
      "Testing config 65 on 144\n",
      "Testing config 66 on 144\n",
      "Testing config 67 on 144\n",
      "Testing config 68 on 144\n",
      "Testing config 69 on 144\n",
      "Testing config 70 on 144\n",
      "Testing config 71 on 144\n",
      "Testing config 72 on 144\n",
      "Testing config 73 on 144\n",
      "Testing config 74 on 144\n",
      "Testing config 75 on 144\n",
      "Testing config 76 on 144\n",
      "Testing config 77 on 144\n",
      "Testing config 78 on 144\n",
      "Testing config 79 on 144\n",
      "Testing config 80 on 144\n",
      "Testing config 81 on 144\n",
      "Testing config 82 on 144\n",
      "Testing config 83 on 144\n",
      "Testing config 84 on 144\n",
      "Testing config 85 on 144\n",
      "Testing config 86 on 144\n",
      "Testing config 87 on 144\n",
      "Testing config 88 on 144\n",
      "Testing config 89 on 144\n",
      "Testing config 90 on 144\n",
      "Testing config 91 on 144\n",
      "Testing config 92 on 144\n",
      "Testing config 93 on 144\n",
      "Testing config 94 on 144\n",
      "Testing config 95 on 144\n",
      "Testing config 96 on 144\n",
      "Testing config 97 on 144\n",
      "Testing config 98 on 144\n",
      "Testing config 99 on 144\n",
      "Testing config 100 on 144\n",
      "Testing config 101 on 144\n",
      "Testing config 102 on 144\n",
      "Testing config 103 on 144\n",
      "Testing config 104 on 144\n",
      "Testing config 105 on 144\n",
      "Testing config 106 on 144\n",
      "Testing config 107 on 144\n",
      "Testing config 108 on 144\n",
      "Testing config 109 on 144\n",
      "Testing config 110 on 144\n",
      "Testing config 111 on 144\n",
      "Testing config 112 on 144\n",
      "Testing config 113 on 144\n",
      "Testing config 114 on 144\n",
      "Testing config 115 on 144\n",
      "Testing config 116 on 144\n",
      "Testing config 117 on 144\n",
      "Testing config 118 on 144\n",
      "Testing config 119 on 144\n",
      "Testing config 120 on 144\n",
      "Testing config 121 on 144\n",
      "Testing config 122 on 144\n",
      "Testing config 123 on 144\n",
      "Testing config 124 on 144\n",
      "Testing config 125 on 144\n",
      "Testing config 126 on 144\n",
      "Testing config 127 on 144\n",
      "Testing config 128 on 144\n",
      "Testing config 129 on 144\n",
      "Testing config 130 on 144\n",
      "Testing config 131 on 144\n",
      "Testing config 132 on 144\n",
      "Testing config 133 on 144\n",
      "Testing config 134 on 144\n",
      "Testing config 135 on 144\n",
      "Testing config 136 on 144\n",
      "Testing config 137 on 144\n",
      "Testing config 138 on 144\n",
      "Testing config 139 on 144\n",
      "Testing config 140 on 144\n",
      "Testing config 141 on 144\n",
      "Testing config 142 on 144\n",
      "Testing config 143 on 144\n",
      "Testing config 144 on 144\n",
      "\n",
      "--------------------------------------Config Done--------------------------------------------\n",
      "\n"
     ]
    },
    {
     "data": {
      "application/vnd.jupyter.widget-view+json": {
       "model_id": "fd59e3d3ddcc4fd0badbf9d3bfa06776",
       "version_major": 2,
       "version_minor": 0
      },
      "text/plain": [
       "VBox(children=(Label(value='Waiting for wandb.init()...\\r'), FloatProgress(value=0.01111257703329708, max=1.0)…"
      ]
     },
     "metadata": {},
     "output_type": "display_data"
    },
    {
     "data": {
      "text/html": [
       "Tracking run with wandb version 0.19.6"
      ],
      "text/plain": [
       "<IPython.core.display.HTML object>"
      ]
     },
     "metadata": {},
     "output_type": "display_data"
    },
    {
     "data": {
      "text/html": [
       "Run data is saved locally in <code>/content/wandb/run-20250222_165531-iogq20rx</code>"
      ],
      "text/plain": [
       "<IPython.core.display.HTML object>"
      ]
     },
     "metadata": {},
     "output_type": "display_data"
    },
    {
     "data": {
      "text/html": [
       "Syncing run <strong><a href='https://wandb.ai/TFE-proteomics/ESM/runs/iogq20rx' target=\"_blank\">ValidProtocol_ESM_fold_3</a></strong> to <a href='https://wandb.ai/TFE-proteomics/ESM' target=\"_blank\">Weights & Biases</a> (<a href='https://wandb.me/developer-guide' target=\"_blank\">docs</a>)<br>"
      ],
      "text/plain": [
       "<IPython.core.display.HTML object>"
      ]
     },
     "metadata": {},
     "output_type": "display_data"
    },
    {
     "data": {
      "text/html": [
       " View project at <a href='https://wandb.ai/TFE-proteomics/ESM' target=\"_blank\">https://wandb.ai/TFE-proteomics/ESM</a>"
      ],
      "text/plain": [
       "<IPython.core.display.HTML object>"
      ]
     },
     "metadata": {},
     "output_type": "display_data"
    },
    {
     "data": {
      "text/html": [
       " View run at <a href='https://wandb.ai/TFE-proteomics/ESM/runs/iogq20rx' target=\"_blank\">https://wandb.ai/TFE-proteomics/ESM/runs/iogq20rx</a>"
      ],
      "text/plain": [
       "<IPython.core.display.HTML object>"
      ]
     },
     "metadata": {},
     "output_type": "display_data"
    },
    {
     "data": {
      "text/html": [],
      "text/plain": [
       "<IPython.core.display.HTML object>"
      ]
     },
     "metadata": {},
     "output_type": "display_data"
    },
    {
     "data": {
      "text/html": [
       "<br>    <style><br>        .wandb-row {<br>            display: flex;<br>            flex-direction: row;<br>            flex-wrap: wrap;<br>            justify-content: flex-start;<br>            width: 100%;<br>        }<br>        .wandb-col {<br>            display: flex;<br>            flex-direction: column;<br>            flex-basis: 100%;<br>            flex: 1;<br>            padding: 10px;<br>        }<br>    </style><br><div class=\"wandb-row\"><div class=\"wandb-col\"><h3>Run history:</h3><br/><table class=\"wandb\"><tr><td>accuracy</td><td>▁</td></tr><tr><td>f1</td><td>▁</td></tr><tr><td>pr_auc</td><td>▁</td></tr><tr><td>precision</td><td>▁</td></tr><tr><td>recall</td><td>▁</td></tr><tr><td>roc_auc</td><td>▁</td></tr></table><br/></div><div class=\"wandb-col\"><h3>Run summary:</h3><br/><table class=\"wandb\"><tr><td>accuracy</td><td>0.67742</td></tr><tr><td>f1</td><td>0.28571</td></tr><tr><td>pr_auc</td><td>0.31754</td></tr><tr><td>precision</td><td>0.33333</td></tr><tr><td>recall</td><td>0.25</td></tr><tr><td>roc_auc</td><td>0.50543</td></tr></table><br/></div></div>"
      ],
      "text/plain": [
       "<IPython.core.display.HTML object>"
      ]
     },
     "metadata": {},
     "output_type": "display_data"
    },
    {
     "data": {
      "text/html": [
       " View run <strong style=\"color:#cdcd00\">ValidProtocol_ESM_fold_3</strong> at: <a href='https://wandb.ai/TFE-proteomics/ESM/runs/iogq20rx' target=\"_blank\">https://wandb.ai/TFE-proteomics/ESM/runs/iogq20rx</a><br> View project at: <a href='https://wandb.ai/TFE-proteomics/ESM' target=\"_blank\">https://wandb.ai/TFE-proteomics/ESM</a><br>Synced 5 W&B file(s), 0 media file(s), 0 artifact file(s) and 0 other file(s)"
      ],
      "text/plain": [
       "<IPython.core.display.HTML object>"
      ]
     },
     "metadata": {},
     "output_type": "display_data"
    },
    {
     "data": {
      "text/html": [
       "Find logs at: <code>./wandb/run-20250222_165531-iogq20rx/logs</code>"
      ],
      "text/plain": [
       "<IPython.core.display.HTML object>"
      ]
     },
     "metadata": {},
     "output_type": "display_data"
    },
    {
     "name": "stdout",
     "output_type": "stream",
     "text": [
      "Fold 4 on 5\n",
      "Testing config 1 on 144\n",
      "Testing config 2 on 144\n",
      "Testing config 3 on 144\n",
      "Testing config 4 on 144\n",
      "Testing config 5 on 144\n",
      "Testing config 6 on 144\n",
      "Testing config 7 on 144\n",
      "Testing config 8 on 144\n",
      "Testing config 9 on 144\n",
      "Testing config 10 on 144\n",
      "Testing config 11 on 144\n",
      "Testing config 12 on 144\n",
      "Testing config 13 on 144\n",
      "Testing config 14 on 144\n",
      "Testing config 15 on 144\n",
      "Testing config 16 on 144\n",
      "Testing config 17 on 144\n",
      "Testing config 18 on 144\n",
      "Testing config 19 on 144\n",
      "Testing config 20 on 144\n",
      "Testing config 21 on 144\n",
      "Testing config 22 on 144\n",
      "Testing config 23 on 144\n",
      "Testing config 24 on 144\n",
      "Testing config 25 on 144\n",
      "Testing config 26 on 144\n",
      "Testing config 27 on 144\n",
      "Testing config 28 on 144\n",
      "Testing config 29 on 144\n",
      "Testing config 30 on 144\n",
      "Testing config 31 on 144\n",
      "Testing config 32 on 144\n",
      "Testing config 33 on 144\n",
      "Testing config 34 on 144\n",
      "Testing config 35 on 144\n",
      "Testing config 36 on 144\n",
      "Testing config 37 on 144\n",
      "Testing config 38 on 144\n",
      "Testing config 39 on 144\n",
      "Testing config 40 on 144\n",
      "Testing config 41 on 144\n",
      "Testing config 42 on 144\n",
      "Testing config 43 on 144\n",
      "Testing config 44 on 144\n",
      "Testing config 45 on 144\n",
      "Testing config 46 on 144\n",
      "Testing config 47 on 144\n",
      "Testing config 48 on 144\n",
      "Testing config 49 on 144\n",
      "Testing config 50 on 144\n",
      "Testing config 51 on 144\n",
      "Testing config 52 on 144\n",
      "Testing config 53 on 144\n",
      "Testing config 54 on 144\n",
      "Testing config 55 on 144\n",
      "Testing config 56 on 144\n",
      "Testing config 57 on 144\n",
      "Testing config 58 on 144\n",
      "Testing config 59 on 144\n",
      "Testing config 60 on 144\n",
      "Testing config 61 on 144\n",
      "Testing config 62 on 144\n",
      "Testing config 63 on 144\n",
      "Testing config 64 on 144\n",
      "Testing config 65 on 144\n",
      "Testing config 66 on 144\n",
      "Testing config 67 on 144\n",
      "Testing config 68 on 144\n",
      "Testing config 69 on 144\n",
      "Testing config 70 on 144\n",
      "Testing config 71 on 144\n",
      "Testing config 72 on 144\n",
      "Testing config 73 on 144\n",
      "Testing config 74 on 144\n",
      "Testing config 75 on 144\n",
      "Testing config 76 on 144\n",
      "Testing config 77 on 144\n",
      "Testing config 78 on 144\n",
      "Testing config 79 on 144\n",
      "Testing config 80 on 144\n",
      "Testing config 81 on 144\n",
      "Testing config 82 on 144\n",
      "Testing config 83 on 144\n",
      "Testing config 84 on 144\n",
      "Testing config 85 on 144\n",
      "Testing config 86 on 144\n",
      "Testing config 87 on 144\n",
      "Testing config 88 on 144\n",
      "Testing config 89 on 144\n",
      "Testing config 90 on 144\n",
      "Testing config 91 on 144\n",
      "Testing config 92 on 144\n",
      "Testing config 93 on 144\n",
      "Testing config 94 on 144\n",
      "Testing config 95 on 144\n",
      "Testing config 96 on 144\n",
      "Testing config 97 on 144\n",
      "Testing config 98 on 144\n",
      "Testing config 99 on 144\n",
      "Testing config 100 on 144\n",
      "Testing config 101 on 144\n",
      "Testing config 102 on 144\n",
      "Testing config 103 on 144\n",
      "Testing config 104 on 144\n",
      "Testing config 105 on 144\n",
      "Testing config 106 on 144\n",
      "Testing config 107 on 144\n",
      "Testing config 108 on 144\n",
      "Testing config 109 on 144\n",
      "Testing config 110 on 144\n",
      "Testing config 111 on 144\n",
      "Testing config 112 on 144\n",
      "Testing config 113 on 144\n",
      "Testing config 114 on 144\n",
      "Testing config 115 on 144\n",
      "Testing config 116 on 144\n",
      "Testing config 117 on 144\n",
      "Testing config 118 on 144\n",
      "Testing config 119 on 144\n",
      "Testing config 120 on 144\n",
      "Testing config 121 on 144\n",
      "Testing config 122 on 144\n",
      "Testing config 123 on 144\n",
      "Testing config 124 on 144\n",
      "Testing config 125 on 144\n",
      "Testing config 126 on 144\n",
      "Testing config 127 on 144\n",
      "Testing config 128 on 144\n",
      "Testing config 129 on 144\n",
      "Testing config 130 on 144\n",
      "Testing config 131 on 144\n",
      "Testing config 132 on 144\n",
      "Testing config 133 on 144\n",
      "Testing config 134 on 144\n",
      "Testing config 135 on 144\n",
      "Testing config 136 on 144\n",
      "Testing config 137 on 144\n",
      "Testing config 138 on 144\n",
      "Testing config 139 on 144\n",
      "Testing config 140 on 144\n",
      "Testing config 141 on 144\n",
      "Testing config 142 on 144\n",
      "Testing config 143 on 144\n",
      "Testing config 144 on 144\n",
      "\n",
      "--------------------------------------Config Done--------------------------------------------\n",
      "\n"
     ]
    },
    {
     "data": {
      "text/html": [
       "Tracking run with wandb version 0.19.6"
      ],
      "text/plain": [
       "<IPython.core.display.HTML object>"
      ]
     },
     "metadata": {},
     "output_type": "display_data"
    },
    {
     "data": {
      "text/html": [
       "Run data is saved locally in <code>/content/wandb/run-20250222_172004-nphod0y6</code>"
      ],
      "text/plain": [
       "<IPython.core.display.HTML object>"
      ]
     },
     "metadata": {},
     "output_type": "display_data"
    },
    {
     "data": {
      "text/html": [
       "Syncing run <strong><a href='https://wandb.ai/TFE-proteomics/ESM/runs/nphod0y6' target=\"_blank\">ValidProtocol_ESM_fold_4</a></strong> to <a href='https://wandb.ai/TFE-proteomics/ESM' target=\"_blank\">Weights & Biases</a> (<a href='https://wandb.me/developer-guide' target=\"_blank\">docs</a>)<br>"
      ],
      "text/plain": [
       "<IPython.core.display.HTML object>"
      ]
     },
     "metadata": {},
     "output_type": "display_data"
    },
    {
     "data": {
      "text/html": [
       " View project at <a href='https://wandb.ai/TFE-proteomics/ESM' target=\"_blank\">https://wandb.ai/TFE-proteomics/ESM</a>"
      ],
      "text/plain": [
       "<IPython.core.display.HTML object>"
      ]
     },
     "metadata": {},
     "output_type": "display_data"
    },
    {
     "data": {
      "text/html": [
       " View run at <a href='https://wandb.ai/TFE-proteomics/ESM/runs/nphod0y6' target=\"_blank\">https://wandb.ai/TFE-proteomics/ESM/runs/nphod0y6</a>"
      ],
      "text/plain": [
       "<IPython.core.display.HTML object>"
      ]
     },
     "metadata": {},
     "output_type": "display_data"
    },
    {
     "data": {
      "text/html": [],
      "text/plain": [
       "<IPython.core.display.HTML object>"
      ]
     },
     "metadata": {},
     "output_type": "display_data"
    },
    {
     "data": {
      "text/html": [
       "<br>    <style><br>        .wandb-row {<br>            display: flex;<br>            flex-direction: row;<br>            flex-wrap: wrap;<br>            justify-content: flex-start;<br>            width: 100%;<br>        }<br>        .wandb-col {<br>            display: flex;<br>            flex-direction: column;<br>            flex-basis: 100%;<br>            flex: 1;<br>            padding: 10px;<br>        }<br>    </style><br><div class=\"wandb-row\"><div class=\"wandb-col\"><h3>Run history:</h3><br/><table class=\"wandb\"><tr><td>accuracy</td><td>▁</td></tr><tr><td>f1</td><td>▁</td></tr><tr><td>pr_auc</td><td>▁</td></tr><tr><td>precision</td><td>▁</td></tr><tr><td>recall</td><td>▁</td></tr><tr><td>roc_auc</td><td>▁</td></tr></table><br/></div><div class=\"wandb-col\"><h3>Run summary:</h3><br/><table class=\"wandb\"><tr><td>accuracy</td><td>0.64516</td></tr><tr><td>f1</td><td>0.15385</td></tr><tr><td>pr_auc</td><td>0.2011</td></tr><tr><td>precision</td><td>0.2</td></tr><tr><td>recall</td><td>0.125</td></tr><tr><td>roc_auc</td><td>0.26087</td></tr></table><br/></div></div>"
      ],
      "text/plain": [
       "<IPython.core.display.HTML object>"
      ]
     },
     "metadata": {},
     "output_type": "display_data"
    },
    {
     "data": {
      "text/html": [
       " View run <strong style=\"color:#cdcd00\">ValidProtocol_ESM_fold_4</strong> at: <a href='https://wandb.ai/TFE-proteomics/ESM/runs/nphod0y6' target=\"_blank\">https://wandb.ai/TFE-proteomics/ESM/runs/nphod0y6</a><br> View project at: <a href='https://wandb.ai/TFE-proteomics/ESM' target=\"_blank\">https://wandb.ai/TFE-proteomics/ESM</a><br>Synced 5 W&B file(s), 0 media file(s), 0 artifact file(s) and 0 other file(s)"
      ],
      "text/plain": [
       "<IPython.core.display.HTML object>"
      ]
     },
     "metadata": {},
     "output_type": "display_data"
    },
    {
     "data": {
      "text/html": [
       "Find logs at: <code>./wandb/run-20250222_172004-nphod0y6/logs</code>"
      ],
      "text/plain": [
       "<IPython.core.display.HTML object>"
      ]
     },
     "metadata": {},
     "output_type": "display_data"
    },
    {
     "name": "stdout",
     "output_type": "stream",
     "text": [
      "Fold 5 on 5\n",
      "Testing config 1 on 144\n",
      "Testing config 2 on 144\n",
      "Testing config 3 on 144\n",
      "Testing config 4 on 144\n",
      "Testing config 5 on 144\n",
      "Testing config 6 on 144\n",
      "Testing config 7 on 144\n",
      "Testing config 8 on 144\n",
      "Testing config 9 on 144\n",
      "Testing config 10 on 144\n",
      "Testing config 11 on 144\n",
      "Testing config 12 on 144\n",
      "Testing config 13 on 144\n",
      "Testing config 14 on 144\n",
      "Testing config 15 on 144\n",
      "Testing config 16 on 144\n",
      "Testing config 17 on 144\n",
      "Testing config 18 on 144\n",
      "Testing config 19 on 144\n",
      "Testing config 20 on 144\n",
      "Testing config 21 on 144\n",
      "Testing config 22 on 144\n",
      "Testing config 23 on 144\n",
      "Testing config 24 on 144\n",
      "Testing config 25 on 144\n",
      "Testing config 26 on 144\n",
      "Testing config 27 on 144\n",
      "Testing config 28 on 144\n",
      "Testing config 29 on 144\n",
      "Testing config 30 on 144\n"
     ]
    }
   ],
   "source": [
    "LEARNING_RATE = 3e-4\n",
    "EMBED_DIM = 128\n",
    "HIDDEN_DIM = 128\n",
    "OUTPUT_DIM = 1\n",
    "N_EPOCHS = 100\n",
    "N_SPLITS = 5\n",
    "DROPOUT = 0.3\n",
    "BATCH_SIZE = 32\n",
    "\n",
    "results_list = []\n",
    "count = 1\n",
    "do_early_stopping = False\n",
    "\n",
    "kf = StratifiedKFold(n_splits=N_SPLITS, shuffle=True)\n",
    "\n",
    "# Loop over all configurations of variant (here different class imbalance technique + Transfer learning) in order to compute all in once\n",
    "for FT in [False, True]:\n",
    "    for weighting, oversampling in [(False, False), (True, False), (False, True)]:\n",
    "        temp_results_list = []\n",
    "        # Loop over the folds\n",
    "        for fold, (train_idx, test_idx) in enumerate(kf.split(df, df['quantotypic'])):\n",
    "            # Split the data and creating dataloaders\n",
    "            print(f\"Fold {fold+1} on 5\")\n",
    "            tmp_train_df = df.iloc[train_idx]\n",
    "            test_df = df.iloc[test_idx]\n",
    "\n",
    "            train_df, val_df = train_test_split(tmp_train_df, test_size=0.2, stratify=tmp_train_df['quantotypic'])\n",
    "\n",
    "            if oversampling:\n",
    "                train_df = utils.balance_classes_with_oversampling(train_df)\n",
    "\n",
    "            pos_weight = compute_pos_weight(train_df, 'quantotypic') if weighting else None\n",
    "\n",
    "            train_sequences = train_df[\"sequence\"].values\n",
    "            train_labels = train_df[\"quantotypic\"].values\n",
    "\n",
    "            val_sequences = val_df[\"sequence\"].values\n",
    "            val_labels = val_df[\"quantotypic\"].values\n",
    "\n",
    "            train_dataset = ESMPeptideDataset(train_sequences, train_labels)\n",
    "            validation_dataset = ESMPeptideDataset(val_sequences, val_labels)\n",
    "\n",
    "            train_loader = DataLoader(train_dataset, batch_size=BATCH_SIZE, shuffle=True)\n",
    "            validation_loader = DataLoader(validation_dataset, batch_size=BATCH_SIZE, shuffle=False)\n",
    "\n",
    "            best_model = None\n",
    "            best_history = None\n",
    "\n",
    "            # GridSearch for hyperparameters\n",
    "            config_count = 1\n",
    "            for LR in [0.0001, 0.001, 0.01, 0.1]:\n",
    "                for n_layers in [1, 2, 3]:\n",
    "                    for dropout in [0.2, 0.3]:\n",
    "                        for hidden_size, embed_size in [(64, 64), (128, 128)]:\n",
    "                            for n_epoch in [25, 50, 100]:\n",
    "                                print(f\"Testing config {config_count} on {4*3*2*2*3}\")\n",
    "                                config_count += 1\n",
    "\n",
    "                                pretrained_model, alphabet = esm.pretrained.esm2_t6_8M_UR50D()\n",
    "                                batch_converter = alphabet.get_batch_converter()\n",
    "\n",
    "                                for param in pretrained_model.parameters():\n",
    "                                    param.requires_grad = FT\n",
    "\n",
    "                                model = ESMClassifier(pretrained_model, hidden_dim=hidden_size, dropout_prob=dropout, output_dim=OUTPUT_DIM, num_layers=n_layers)\n",
    "\n",
    "                                # wandb.init(\n",
    "                                #     project=\"MLP\",\n",
    "                                #     name=f\"MLP_Scratch_config_hyperparameters\",\n",
    "                                #     config={\n",
    "                                #         \"learning_rate\": LR,\n",
    "                                #         \"architecture\": \"MLP\",\n",
    "                                #         \"dataset\": \"SPARE\",\n",
    "                                #         \"epochs\": N_EPOCHS,\n",
    "                                #         \"Batch_size\": batch_size,\n",
    "                                #         \"Dropout\": dropout,\n",
    "                                #         \"Hidden_size\": hidden_size,\n",
    "                                #         \"Embedding_size\": embed_size,\n",
    "                                #         \"Number of layers\": n_layers,\n",
    "                                #         \"Oversampling\": oversampling,\n",
    "                                #         \"Weighting\": weighting,\n",
    "                                #         \"Early stopping\": do_early_stopping\n",
    "                                #     }\n",
    "                                # )\n",
    "\n",
    "                                history = train(model, train_loader, validation_loader, n_epoch, LR, \"test\", do_early_stopping=do_early_stopping,\n",
    "                                                model_name='ESM', weight=pos_weight, batch_converter = batch_converter)\n",
    "\n",
    "                                best_model, best_history = compute_best(history, best_history, model, best_model)\n",
    "\n",
    "                                # wandb.finish()\n",
    "\n",
    "            print(\"\\n--------------------------------------Config Done--------------------------------------------\\n\")\n",
    "            results = evaluate_esm_model(best_model, test_df, batch_converter)\n",
    "\n",
    "            temp_results_list.append({\n",
    "                'accuracy': results['accuracy'],\n",
    "                'precision': results['precision'],\n",
    "                'recall': results['recall'],\n",
    "                'f1': results['f1'],\n",
    "                'roc_auc': results['roc_auc'],\n",
    "                'pr_auc': results['pr_auc']\n",
    "            })\n",
    "\n",
    "            wandb.init(project=\"ESM\", name=f\"ValidProtocol_ESM_fold_{fold+1}\",\n",
    "                    config={\n",
    "                            \"weighting\": weighting,\n",
    "                            \"oversampling\": oversampling,\n",
    "                            \"early_stopping\": do_early_stopping,\n",
    "                            \"Fine tuning\": FT\n",
    "                    })\n",
    "\n",
    "            wandb.log(results)\n",
    "            wandb.finish()\n",
    "\n",
    "\n",
    "\n",
    "        accuracy_list = [res['accuracy'] for res in temp_results_list]\n",
    "        precision_list = [res['precision'] for res in temp_results_list]\n",
    "        recall_list = [res['recall'] for res in temp_results_list]\n",
    "        f1_list = [res['f1'] for res in temp_results_list]\n",
    "        roc_auc_list = [res['roc_auc'] for res in temp_results_list]\n",
    "        pr_auc_list = [res['pr_auc'] for res in temp_results_list]\n",
    "\n",
    "        metrics_summary = {\n",
    "            'accuracy_mean': np.mean(accuracy_list),\n",
    "            'accuracy_std': np.std(accuracy_list),\n",
    "            'precision_mean': np.mean(precision_list),\n",
    "            'precision_std': np.std(precision_list),\n",
    "            'recall_mean': np.mean(recall_list),\n",
    "            'recall_std': np.std(recall_list),\n",
    "            'f1_mean': np.mean(f1_list),\n",
    "            'f1_std': np.std(f1_list),\n",
    "            'roc_auc_mean': np.mean(roc_auc_list),\n",
    "            'roc_auc_std': np.std(roc_auc_list),\n",
    "            'pr_auc_mean': np.mean(pr_auc_list),\n",
    "            'pr_auc_std': np.std(pr_auc_list),\n",
    "        }\n",
    "\n",
    "        wandb.init(project=\"ESM\", name=f\"ValidProtocol_ESM_CrossValidation_Summary\",\n",
    "                config={\n",
    "                        \"weighting\": weighting,\n",
    "                        \"oversampling\": oversampling,\n",
    "                        \"early_stopping\": do_early_stopping,\n",
    "                        \"Fine tuning\": FT\n",
    "                })\n",
    "        wandb.log(metrics_summary)\n",
    "        wandb.finish()\n",
    "\n",
    "        dict_save = {\n",
    "            'weighting': weighting,\n",
    "            'oversampling': oversampling,\n",
    "            'early_stopping': do_early_stopping,\n",
    "            \"Fine tuning\": FT,\n",
    "            'metrics': metrics_summary\n",
    "        }\n",
    "\n",
    "        path = \"/content/drive/MyDrive/TFE/Results/\"\n",
    "        write_into_json(dict_save, f\"{path}ValidProtocol_ESM_Experiment_{count}.json\")\n",
    "        count += 1"
   ]
  }
 ],
 "metadata": {
  "accelerator": "GPU",
  "colab": {
   "gpuType": "T4",
   "provenance": []
  },
  "kernelspec": {
   "display_name": "Python 3",
   "name": "python3"
  },
  "language_info": {
   "codemirror_mode": {
    "name": "ipython",
    "version": 3
   },
   "file_extension": ".py",
   "mimetype": "text/x-python",
   "name": "python",
   "nbconvert_exporter": "python",
   "pygments_lexer": "ipython3",
   "version": "3.10.6"
  },
  "widgets": {
   "application/vnd.jupyter.widget-state+json": {
    "097dc40e2d964bef8e258004c0ad9f13": {
     "model_module": "@jupyter-widgets/base",
     "model_module_version": "1.2.0",
     "model_name": "LayoutModel",
     "state": {
      "_model_module": "@jupyter-widgets/base",
      "_model_module_version": "1.2.0",
      "_model_name": "LayoutModel",
      "_view_count": null,
      "_view_module": "@jupyter-widgets/base",
      "_view_module_version": "1.2.0",
      "_view_name": "LayoutView",
      "align_content": null,
      "align_items": null,
      "align_self": null,
      "border": null,
      "bottom": null,
      "display": null,
      "flex": null,
      "flex_flow": null,
      "grid_area": null,
      "grid_auto_columns": null,
      "grid_auto_flow": null,
      "grid_auto_rows": null,
      "grid_column": null,
      "grid_gap": null,
      "grid_row": null,
      "grid_template_areas": null,
      "grid_template_columns": null,
      "grid_template_rows": null,
      "height": null,
      "justify_content": null,
      "justify_items": null,
      "left": null,
      "margin": null,
      "max_height": null,
      "max_width": null,
      "min_height": null,
      "min_width": null,
      "object_fit": null,
      "object_position": null,
      "order": null,
      "overflow": null,
      "overflow_x": null,
      "overflow_y": null,
      "padding": null,
      "right": null,
      "top": null,
      "visibility": null,
      "width": null
     }
    },
    "1fc0a8d6a7a545989549847f285bf6c3": {
     "model_module": "@jupyter-widgets/base",
     "model_module_version": "1.2.0",
     "model_name": "LayoutModel",
     "state": {
      "_model_module": "@jupyter-widgets/base",
      "_model_module_version": "1.2.0",
      "_model_name": "LayoutModel",
      "_view_count": null,
      "_view_module": "@jupyter-widgets/base",
      "_view_module_version": "1.2.0",
      "_view_name": "LayoutView",
      "align_content": null,
      "align_items": null,
      "align_self": null,
      "border": null,
      "bottom": null,
      "display": null,
      "flex": null,
      "flex_flow": null,
      "grid_area": null,
      "grid_auto_columns": null,
      "grid_auto_flow": null,
      "grid_auto_rows": null,
      "grid_column": null,
      "grid_gap": null,
      "grid_row": null,
      "grid_template_areas": null,
      "grid_template_columns": null,
      "grid_template_rows": null,
      "height": null,
      "justify_content": null,
      "justify_items": null,
      "left": null,
      "margin": null,
      "max_height": null,
      "max_width": null,
      "min_height": null,
      "min_width": null,
      "object_fit": null,
      "object_position": null,
      "order": null,
      "overflow": null,
      "overflow_x": null,
      "overflow_y": null,
      "padding": null,
      "right": null,
      "top": null,
      "visibility": null,
      "width": null
     }
    },
    "276e0eb5546c422fb267f42be20bded7": {
     "model_module": "@jupyter-widgets/controls",
     "model_module_version": "1.5.0",
     "model_name": "DescriptionStyleModel",
     "state": {
      "_model_module": "@jupyter-widgets/controls",
      "_model_module_version": "1.5.0",
      "_model_name": "DescriptionStyleModel",
      "_view_count": null,
      "_view_module": "@jupyter-widgets/base",
      "_view_module_version": "1.2.0",
      "_view_name": "StyleView",
      "description_width": ""
     }
    },
    "38beda4976514fc699811e13043ca778": {
     "model_module": "@jupyter-widgets/controls",
     "model_module_version": "1.5.0",
     "model_name": "FloatProgressModel",
     "state": {
      "_dom_classes": [],
      "_model_module": "@jupyter-widgets/controls",
      "_model_module_version": "1.5.0",
      "_model_name": "FloatProgressModel",
      "_view_count": null,
      "_view_module": "@jupyter-widgets/controls",
      "_view_module_version": "1.5.0",
      "_view_name": "ProgressView",
      "bar_style": "",
      "description": "",
      "description_tooltip": null,
      "layout": "IPY_MODEL_097dc40e2d964bef8e258004c0ad9f13",
      "max": 1,
      "min": 0,
      "orientation": "horizontal",
      "style": "IPY_MODEL_a8998c3587034fc9b2c34c066a024624",
      "value": 1
     }
    },
    "a8998c3587034fc9b2c34c066a024624": {
     "model_module": "@jupyter-widgets/controls",
     "model_module_version": "1.5.0",
     "model_name": "ProgressStyleModel",
     "state": {
      "_model_module": "@jupyter-widgets/controls",
      "_model_module_version": "1.5.0",
      "_model_name": "ProgressStyleModel",
      "_view_count": null,
      "_view_module": "@jupyter-widgets/base",
      "_view_module_version": "1.2.0",
      "_view_name": "StyleView",
      "bar_color": null,
      "description_width": ""
     }
    },
    "e695209cb3a14fa7af50d8d47dcdf1c8": {
     "model_module": "@jupyter-widgets/controls",
     "model_module_version": "1.5.0",
     "model_name": "LabelModel",
     "state": {
      "_dom_classes": [],
      "_model_module": "@jupyter-widgets/controls",
      "_model_module_version": "1.5.0",
      "_model_name": "LabelModel",
      "_view_count": null,
      "_view_module": "@jupyter-widgets/controls",
      "_view_module_version": "1.5.0",
      "_view_name": "LabelView",
      "description": "",
      "description_tooltip": null,
      "layout": "IPY_MODEL_f3f950dddee54c93aaf1157931d7fbc4",
      "placeholder": "​",
      "style": "IPY_MODEL_276e0eb5546c422fb267f42be20bded7",
      "value": "Waiting for wandb.init()...\r"
     }
    },
    "f3f950dddee54c93aaf1157931d7fbc4": {
     "model_module": "@jupyter-widgets/base",
     "model_module_version": "1.2.0",
     "model_name": "LayoutModel",
     "state": {
      "_model_module": "@jupyter-widgets/base",
      "_model_module_version": "1.2.0",
      "_model_name": "LayoutModel",
      "_view_count": null,
      "_view_module": "@jupyter-widgets/base",
      "_view_module_version": "1.2.0",
      "_view_name": "LayoutView",
      "align_content": null,
      "align_items": null,
      "align_self": null,
      "border": null,
      "bottom": null,
      "display": null,
      "flex": null,
      "flex_flow": null,
      "grid_area": null,
      "grid_auto_columns": null,
      "grid_auto_flow": null,
      "grid_auto_rows": null,
      "grid_column": null,
      "grid_gap": null,
      "grid_row": null,
      "grid_template_areas": null,
      "grid_template_columns": null,
      "grid_template_rows": null,
      "height": null,
      "justify_content": null,
      "justify_items": null,
      "left": null,
      "margin": null,
      "max_height": null,
      "max_width": null,
      "min_height": null,
      "min_width": null,
      "object_fit": null,
      "object_position": null,
      "order": null,
      "overflow": null,
      "overflow_x": null,
      "overflow_y": null,
      "padding": null,
      "right": null,
      "top": null,
      "visibility": null,
      "width": null
     }
    },
    "fd59e3d3ddcc4fd0badbf9d3bfa06776": {
     "model_module": "@jupyter-widgets/controls",
     "model_module_version": "1.5.0",
     "model_name": "VBoxModel",
     "state": {
      "_dom_classes": [],
      "_model_module": "@jupyter-widgets/controls",
      "_model_module_version": "1.5.0",
      "_model_name": "VBoxModel",
      "_view_count": null,
      "_view_module": "@jupyter-widgets/controls",
      "_view_module_version": "1.5.0",
      "_view_name": "VBoxView",
      "box_style": "",
      "children": [
       "IPY_MODEL_e695209cb3a14fa7af50d8d47dcdf1c8",
       "IPY_MODEL_38beda4976514fc699811e13043ca778"
      ],
      "layout": "IPY_MODEL_1fc0a8d6a7a545989549847f285bf6c3"
     }
    }
   }
  }
 },
 "nbformat": 4,
 "nbformat_minor": 0
}
