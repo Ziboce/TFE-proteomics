{
 "cells": [
  {
   "cell_type": "markdown",
   "metadata": {},
   "source": [
    "# Library import"
   ]
  },
  {
   "cell_type": "code",
   "execution_count": null,
   "metadata": {
    "colab": {
     "base_uri": "https://localhost:8080/"
    },
    "executionInfo": {
     "elapsed": 19472,
     "status": "ok",
     "timestamp": 1739988624357,
     "user": {
      "displayName": "Jimmy Walraff",
      "userId": "17365452855707799727"
     },
     "user_tz": -60
    },
    "id": "ILuRLHcMLz4L",
    "outputId": "ec3ac3f3-74cd-4f6b-b7b5-b3b5f49aa854"
   },
   "outputs": [],
   "source": [
    "import pandas as pd\n",
    "import torch\n",
    "import torch.nn as nn\n",
    "import torch.nn.functional as F\n",
    "from torch.utils.data import Dataset, DataLoader\n",
    "import numpy as np\n",
    "from sklearn.model_selection import StratifiedKFold, train_test_split\n",
    "from torch.utils.data import DataLoader\n",
    "from sklearn.metrics import precision_score, recall_score, f1_score, roc_auc_score, average_precision_score, accuracy_score\n",
    "\n",
    "import sys\n",
    "\n",
    "# from google.colab import drive # delete this line if not used on colab\n",
    "# drive.mount(\"/content/drive\", force_remount = True) # delete this line if not used on colab\n",
    "\n",
    "# sys.path.append(\"C:/Users/Walraff/OneDrive - Universite de Liege/Documents/Ulg/Master2/TFE/\")\n",
    "# sys.path.append(\"/content/drive/MyDrive/TFE/\")\n",
    "import utils\n",
    "\n",
    "import wandb"
   ]
  },
  {
   "cell_type": "code",
   "execution_count": 3,
   "metadata": {
    "colab": {
     "base_uri": "https://localhost:8080/",
     "height": 424
    },
    "executionInfo": {
     "elapsed": 45,
     "status": "ok",
     "timestamp": 1739988667057,
     "user": {
      "displayName": "Jimmy Walraff",
      "userId": "17365452855707799727"
     },
     "user_tz": -60
    },
    "id": "e4ssIbG_Lz4a",
    "outputId": "ea5e5b1b-6d8b-404b-f4a9-b57726fa38b2"
   },
   "outputs": [
    {
     "data": {
      "text/html": [
       "<div>\n",
       "<style scoped>\n",
       "    .dataframe tbody tr th:only-of-type {\n",
       "        vertical-align: middle;\n",
       "    }\n",
       "\n",
       "    .dataframe tbody tr th {\n",
       "        vertical-align: top;\n",
       "    }\n",
       "\n",
       "    .dataframe thead th {\n",
       "        text-align: right;\n",
       "    }\n",
       "</style>\n",
       "<table border=\"1\" class=\"dataframe\">\n",
       "  <thead>\n",
       "    <tr style=\"text-align: right;\">\n",
       "      <th></th>\n",
       "      <th>ProteinName_SPARE</th>\n",
       "      <th>Peptide_SPARE</th>\n",
       "      <th>Status_SPARE</th>\n",
       "    </tr>\n",
       "  </thead>\n",
       "  <tbody>\n",
       "    <tr>\n",
       "      <th>0</th>\n",
       "      <td>sp|P02751|FINC_HUMAN</td>\n",
       "      <td>VDVIPVNLPGEHGQR</td>\n",
       "      <td>bon</td>\n",
       "    </tr>\n",
       "    <tr>\n",
       "      <th>1</th>\n",
       "      <td>sp|P02751|FINC_HUMAN</td>\n",
       "      <td>STTPDITGYR</td>\n",
       "      <td>bon</td>\n",
       "    </tr>\n",
       "    <tr>\n",
       "      <th>2</th>\n",
       "      <td>sp|P02751|FINC_HUMAN</td>\n",
       "      <td>SYTITGLQPGTDYK</td>\n",
       "      <td>bon</td>\n",
       "    </tr>\n",
       "    <tr>\n",
       "      <th>3</th>\n",
       "      <td>sp|P02751|FINC_HUMAN</td>\n",
       "      <td>IYLYTLNDNAR</td>\n",
       "      <td>bon</td>\n",
       "    </tr>\n",
       "    <tr>\n",
       "      <th>4</th>\n",
       "      <td>sp|P04114|APOB_HUMAN</td>\n",
       "      <td>TGISPLALIK</td>\n",
       "      <td>bon</td>\n",
       "    </tr>\n",
       "    <tr>\n",
       "      <th>...</th>\n",
       "      <td>...</td>\n",
       "      <td>...</td>\n",
       "      <td>...</td>\n",
       "    </tr>\n",
       "    <tr>\n",
       "      <th>150</th>\n",
       "      <td>sp|P02743|SAMP_HUMAN</td>\n",
       "      <td>VGEYSLYIGR</td>\n",
       "      <td>bon</td>\n",
       "    </tr>\n",
       "    <tr>\n",
       "      <th>151</th>\n",
       "      <td>sp|P04004|VTNC_HUMAN</td>\n",
       "      <td>GQYCYELDEK</td>\n",
       "      <td>mauvais</td>\n",
       "    </tr>\n",
       "    <tr>\n",
       "      <th>152</th>\n",
       "      <td>sp|P04004|VTNC_HUMAN</td>\n",
       "      <td>FEDGVLDPDYPR</td>\n",
       "      <td>bon</td>\n",
       "    </tr>\n",
       "    <tr>\n",
       "      <th>153</th>\n",
       "      <td>sp|P04004|VTNC_HUMAN</td>\n",
       "      <td>DWHGVPGQVDAAMAGR</td>\n",
       "      <td>bon</td>\n",
       "    </tr>\n",
       "    <tr>\n",
       "      <th>154</th>\n",
       "      <td>sp|P04004|VTNC_HUMAN</td>\n",
       "      <td>SIAQYWLGCPAPGHL</td>\n",
       "      <td>bon</td>\n",
       "    </tr>\n",
       "  </tbody>\n",
       "</table>\n",
       "<p>155 rows × 3 columns</p>\n",
       "</div>"
      ],
      "text/plain": [
       "        ProteinName_SPARE     Peptide_SPARE Status_SPARE\n",
       "0    sp|P02751|FINC_HUMAN   VDVIPVNLPGEHGQR          bon\n",
       "1    sp|P02751|FINC_HUMAN        STTPDITGYR          bon\n",
       "2    sp|P02751|FINC_HUMAN    SYTITGLQPGTDYK          bon\n",
       "3    sp|P02751|FINC_HUMAN       IYLYTLNDNAR          bon\n",
       "4    sp|P04114|APOB_HUMAN        TGISPLALIK          bon\n",
       "..                    ...               ...          ...\n",
       "150  sp|P02743|SAMP_HUMAN        VGEYSLYIGR          bon\n",
       "151  sp|P04004|VTNC_HUMAN        GQYCYELDEK      mauvais\n",
       "152  sp|P04004|VTNC_HUMAN      FEDGVLDPDYPR          bon\n",
       "153  sp|P04004|VTNC_HUMAN  DWHGVPGQVDAAMAGR          bon\n",
       "154  sp|P04004|VTNC_HUMAN   SIAQYWLGCPAPGHL          bon\n",
       "\n",
       "[155 rows x 3 columns]"
      ]
     },
     "execution_count": 3,
     "metadata": {},
     "output_type": "execute_result"
    }
   ],
   "source": [
    "# data_path = \"C:/Users/Walraff/OneDrive - Universite de Liege/Documents/Ulg/Master2/TFE/data\"\n",
    "# data_path = \"/content/drive/MyDrive/TFE\"\n",
    "data_path = \"/home/jwalraff/TFE/data\"\n",
    "original_df = pd.read_csv(f'{data_path}/final_status_SPARE.csv')\n",
    "original_df"
   ]
  },
  {
   "cell_type": "markdown",
   "metadata": {},
   "source": [
    "# Dataset, Model and loading data"
   ]
  },
  {
   "cell_type": "code",
   "execution_count": null,
   "metadata": {
    "id": "RgpIkr1BLz4f"
   },
   "outputs": [],
   "source": [
    "# Define the vocabulary\n",
    "amino_acid_vocab = {aa: idx+1 for idx, aa in enumerate(\"ACDEFGHIKLMNPQRSTVWY\")}\n",
    "\n",
    "class PeptideDataset(Dataset):\n",
    "    def __init__(self, sequences, labels, vocab, max_len):\n",
    "        \"\"\"\n",
    "        Dataset for peptide sequences.\n",
    "\n",
    "        Args:\n",
    "            sequences (list of str): List of amino acid sequences.\n",
    "            labels (list of int): List of labels associated with the sequences.\n",
    "            vocab (dict): Mapping dictionary {amino acid: index}.\n",
    "            max_len (int): Maximum sequence length (applies padding).\n",
    "        \"\"\"\n",
    "        self.sequences = sequences\n",
    "        self.labels = labels\n",
    "        self.vocab = vocab\n",
    "        self.max_len = max_len\n",
    "\n",
    "    def encode_sequence(self, sequence):\n",
    "        \"\"\"Encodes a sequence into integer indices with padding.\"\"\"\n",
    "        encoded = [self.vocab.get(aa, 0) for aa in sequence]  # Encoding\n",
    "        encoded += [0] * (self.max_len - len(encoded))  # Padding\n",
    "        return torch.tensor(encoded, dtype=torch.long)\n",
    "\n",
    "    def __len__(self):\n",
    "        return len(self.sequences)\n",
    "\n",
    "    def __getitem__(self, idx):\n",
    "        \"\"\"Returns an encoded sequence and its label.\"\"\"\n",
    "        sequence = self.sequences[idx]\n",
    "        label = self.labels[idx]\n",
    "        encoded_sequence = self.encode_sequence(sequence)\n",
    "        return encoded_sequence, torch.tensor(label, dtype=torch.float32)\n"
   ]
  },
  {
   "cell_type": "code",
   "execution_count": null,
   "metadata": {
    "colab": {
     "base_uri": "https://localhost:8080/"
    },
    "executionInfo": {
     "elapsed": 10,
     "status": "ok",
     "timestamp": 1739988630046,
     "user": {
      "displayName": "Jimmy Walraff",
      "userId": "17365452855707799727"
     },
     "user_tz": -60
    },
    "id": "EL4z6y7sLz4l",
    "outputId": "d3c8ba61-dd0e-4203-b583-3d7834f95dad"
   },
   "outputs": [
    {
     "name": "stdout",
     "output_type": "stream",
     "text": [
      "quantotypic\n",
      "0    117\n",
      "1     38\n",
      "Name: count, dtype: int64\n"
     ]
    }
   ],
   "source": [
    "# Creating a dataframe with the sequences and labels\n",
    "df = pd.DataFrame()\n",
    "df[\"sequence\"] = original_df[\"Peptide_SPARE\"]\n",
    "df[\"quantotypic\"] = original_df.apply(lambda row: 0 if row['Status_SPARE'] == 'bon' else 1, axis=1)\n",
    "\n",
    "positive_df = df[df['quantotypic'] == 0]\n",
    "negative_df = df[df['quantotypic'] == 1]\n",
    "\n",
    "class_counts = df['quantotypic'].value_counts()\n",
    "max_len = df['sequence'].str.len().max()\n",
    "print(class_counts)"
   ]
  },
  {
   "cell_type": "code",
   "execution_count": null,
   "metadata": {
    "id": "Q96pEDC7Lz4p"
   },
   "outputs": [],
   "source": [
    "class PeptideMLPClassifier(nn.Module):\n",
    "    def __init__(self, vocab_size, embed_dim, hidden_dim, output_dim, dropout_prob, max_seq_len, num_layers):\n",
    "        \"\"\"\n",
    "        Multilayer Perceptron (MLP) classifier for peptide sequences.\n",
    "\n",
    "        Args:\n",
    "            vocab_size (int): Number of unique amino acids in the vocabulary.\n",
    "            embed_dim (int): Dimension of the embedding vectors.\n",
    "            hidden_dim (int): Dimension of the first hidden layer.\n",
    "            output_dim (int): Number of output classes (e.g., 1 for binary classification).\n",
    "            dropout_prob (float): Dropout probability applied after each layer.\n",
    "            max_seq_len (int): Maximum length of input sequences (used for flattening embeddings).\n",
    "            num_layers (int): Total number of hidden layers in the MLP.\n",
    "        \"\"\"\n",
    "        super(PeptideMLPClassifier, self).__init__()\n",
    "        self.embedding = nn.Embedding(vocab_size, embed_dim)\n",
    "        self.dropout = nn.Dropout(dropout_prob)\n",
    "\n",
    "        # Input layer\n",
    "        self.layers = nn.ModuleList()\n",
    "        self.layers.append(nn.Linear(embed_dim * max_seq_len, hidden_dim))\n",
    "\n",
    "        # Hidden layers with decreasing dimensions\n",
    "        for _ in range(num_layers - 1):\n",
    "            next_hidden_dim = max(hidden_dim // 2, output_dim)  # Prevent shrinking below output_dim\n",
    "            self.layers.append(nn.Linear(hidden_dim, next_hidden_dim))\n",
    "            hidden_dim = next_hidden_dim\n",
    "\n",
    "        # Output layer\n",
    "        self.final_layer = nn.Linear(hidden_dim, output_dim)\n",
    "\n",
    "    def forward(self, x):\n",
    "        # Embed sequences\n",
    "        embedded = self.embedding(x)  # (batch_size, max_seq_len, embed_dim)\n",
    "\n",
    "        # Flatten embeddings\n",
    "        flattened = embedded.view(embedded.size(0), -1)  # (batch_size, embed_dim * max_seq_len)\n",
    "\n",
    "        # MLP forward pass\n",
    "        hidden = F.relu(self.layers[0](flattened))\n",
    "        hidden = self.dropout(hidden)\n",
    "\n",
    "        for layer in self.layers[1:]:\n",
    "            hidden = F.relu(layer(hidden))\n",
    "            hidden = self.dropout(hidden)\n",
    "\n",
    "        output = self.final_layer(hidden)  # (batch_size, output_dim)\n",
    "        return output\n"
   ]
  },
  {
   "cell_type": "code",
   "execution_count": null,
   "metadata": {
    "id": "1oWoDn0jLz4s"
   },
   "outputs": [],
   "source": [
    "def early_stopping(val_losses, patience):\n",
    "    \"\"\"\n",
    "    Checks if the last 'patience' validation losses have increased or remained the same.\n",
    "\n",
    "    Args:\n",
    "        val_losses (list): List of validation losses.\n",
    "        patience (int): Number of consecutive epochs to check for lack of improvement.\n",
    "\n",
    "    Returns:\n",
    "        bool: True if the last 'patience' losses show no improvement, otherwise False.\n",
    "    \"\"\"\n",
    "    # Not enough values to apply the early stopping criterion\n",
    "    if len(val_losses) < patience + 1:\n",
    "        return False\n",
    "\n",
    "    # Check if each of the last 'patience' losses is greater than or equal to the previous one\n",
    "    for i in range(-patience, -1):\n",
    "        if val_losses[i] < val_losses[i + 1]:\n",
    "            continue\n",
    "        else:\n",
    "            return False\n",
    "\n",
    "    return True"
   ]
  },
  {
   "cell_type": "markdown",
   "metadata": {},
   "source": [
    "# Functions"
   ]
  },
  {
   "cell_type": "code",
   "execution_count": null,
   "metadata": {
    "id": "jo6UFZ7rLz4v"
   },
   "outputs": [],
   "source": [
    "def reordering(data, labels, batch_converter, device):\n",
    "    \"\"\"\n",
    "    Prepares and converts a batch of sequence data and labels for ESM-2 model input.\n",
    "\n",
    "    Args:\n",
    "        data (tuple): Tuple containing two lists (e.g., sequence names and sequences).\n",
    "        labels (torch.Tensor): Tensor of labels associated with each sequence.\n",
    "        batch_converter (callable): Function to convert (name, sequence) pairs into tokenized format.\n",
    "        device (torch.device): Device to move the tensors to (e.g., 'cuda' or 'cpu').\n",
    "\n",
    "    Returns:\n",
    "        tuple:\n",
    "            - batch_tokens (torch.Tensor): Tensor of tokenized sequences.\n",
    "            - batch_labels (torch.Tensor): Tensor of corresponding labels (shape: [batch_size]).\n",
    "    \"\"\"\n",
    "    # Reformat data into a list of (name, sequence) tuples\n",
    "    ReArrangeData = []\n",
    "    for i in range(len(data[0])):\n",
    "        ReArrangeData.append((data[0][i], data[1][i]))\n",
    "\n",
    "    # Move labels to device and ensure float format\n",
    "    labels = labels.float()\n",
    "    batch_labels = labels.to(device).unsqueeze(1)\n",
    "\n",
    "    # Convert sequences to tokens using the batch converter\n",
    "    batch_tokens = batch_converter(ReArrangeData)[2].to(device)\n",
    "\n",
    "    return batch_tokens, batch_labels.squeeze(1)\n",
    "\n",
    "def train_epoch(model, dataloader, optimizer, criterion, device, model_name='Scratch', batch_converter=None):\n",
    "    \"\"\"\n",
    "    Trains the model for a single epoch.\n",
    "\n",
    "    Args:\n",
    "        model (nn.Module): The model to train.\n",
    "        dataloader (DataLoader): DataLoader providing training data batches.\n",
    "        optimizer (torch.optim.Optimizer): Optimizer used for updating model weights.\n",
    "        criterion (nn.Module): Loss function to compute the training loss.\n",
    "        device (str or torch.device): Device on which computations are performed ('cuda' or 'cpu').\n",
    "        model_name (str): Specifies the model type (e.g., 'Scratch', 'ESM', 'RT', 'CCS').\n",
    "        batch_converter (callable, optional): Function used to convert ESM data batches.\n",
    "\n",
    "    Returns:\n",
    "        float: Mean training loss over the entire epoch.\n",
    "    \"\"\"\n",
    "    model.train()\n",
    "    train_losses = []\n",
    "\n",
    "    for batch in dataloader:\n",
    "        # Prepare inputs and targets based on the model type\n",
    "        if model_name == 'ESM':\n",
    "            X, y = batch\n",
    "            X, y = reordering(X, y, batch_converter, device)\n",
    "        elif model_name in ['RT', 'CCS']:\n",
    "            aa_idx, mod_x, y = batch\n",
    "            aa_idx, mod_x, y = aa_idx.to(device), mod_x.to(device), y.to(device)\n",
    "        else:\n",
    "            X, y = batch\n",
    "            X, y = X.to(device), y.to(device)\n",
    "\n",
    "        # Reset gradients\n",
    "        optimizer.zero_grad()\n",
    "\n",
    "        # Forward pass\n",
    "        if model_name in ['RT', 'CCS']:\n",
    "            output = model(aa_idx, mod_x).squeeze(1)\n",
    "        else:\n",
    "            output = model(X).squeeze(1)\n",
    "\n",
    "        # Compute loss\n",
    "        loss = criterion(output, y)\n",
    "\n",
    "        # Backward pass and optimizer step\n",
    "        loss.backward()\n",
    "        optimizer.step()\n",
    "\n",
    "        # Record the loss\n",
    "        train_losses.append(loss.item())\n",
    "    \n",
    "    # wandb.log({\"training_loss\": np.array(train_losses).mean()})\n",
    "\n",
    "    return np.mean(train_losses)\n",
    "\n",
    "def val_epoch(model, dataloader, criterion, device, threshold=0.5, model_name='Scratch', batch_converter=None):\n",
    "    \"\"\"\n",
    "    Validates the model for one epoch and computes evaluation metrics.\n",
    "\n",
    "    Args:\n",
    "        model (nn.Module): The model to evaluate.\n",
    "        dataloader (DataLoader): DataLoader providing validation data.\n",
    "        criterion (nn.Module): Loss function used for evaluation.\n",
    "        device (str or torch.device): Device on which computations are performed ('cuda' or 'cpu').\n",
    "        threshold (float, optional): Threshold for binary classification (applied to predicted probabilities). Defaults to 0.5.\n",
    "        model_name (str): Model type identifier (e.g., 'Scratch', 'ESM', 'RT', 'CCS').\n",
    "        batch_converter (callable, optional): Function for converting ESM batches into tokenized format.\n",
    "\n",
    "    Returns:\n",
    "        dict: Dictionary containing the following metrics:\n",
    "              - \"loss\": Mean validation loss.\n",
    "              - \"accuracy\": Classification accuracy.\n",
    "              - \"roc_auc\": Area under the ROC curve.\n",
    "              - \"pr_auc\": Area under the precision-recall curve.\n",
    "    \"\"\"\n",
    "    model.eval()\n",
    "    val_losses = []\n",
    "    all_targets = []\n",
    "    all_predictions = []\n",
    "    all_probabilities = []\n",
    "\n",
    "    with torch.no_grad():\n",
    "        for batch in dataloader:\n",
    "            # Prepare inputs and targets based on model type\n",
    "            if model_name == 'ESM':\n",
    "                X, y = batch\n",
    "                X, y = reordering(X, y, batch_converter, device)\n",
    "            elif model_name in ['RT', 'CCS']:\n",
    "                aa_idx, mod_x, y = batch\n",
    "                aa_idx, mod_x, y = aa_idx.to(device), mod_x.to(device), y.to(device)\n",
    "            else:\n",
    "                X, y = batch\n",
    "                X, y = X.to(device), y.to(device)\n",
    "\n",
    "            # Forward pass\n",
    "            if model_name in ['RT', 'CCS']:\n",
    "                output = model(aa_idx, mod_x).squeeze(1)\n",
    "            else:\n",
    "                output = model(X).squeeze(1)\n",
    "\n",
    "            probabilities = torch.sigmoid(output)  # Convert logits to probabilities\n",
    "            loss = criterion(output, y)\n",
    "            val_losses.append(loss.item())\n",
    "\n",
    "            # Threshold probabilities to get binary predictions\n",
    "            binary_output = (probabilities >= threshold).float()\n",
    "\n",
    "            # Store results\n",
    "            all_targets.extend(y.cpu().numpy())\n",
    "            all_predictions.extend(binary_output.cpu().numpy())\n",
    "            all_probabilities.extend(probabilities.cpu().numpy())\n",
    "\n",
    "    # Compute average loss and metrics\n",
    "    mean_loss = np.mean(val_losses)\n",
    "    accuracy = (np.array(all_predictions) == np.array(all_targets)).mean()\n",
    "    roc_auc = roc_auc_score(all_targets, all_probabilities) if len(np.unique(all_targets)) > 1 else 0.0\n",
    "    pr_auc = average_precision_score(all_targets, all_probabilities) if len(np.unique(all_targets)) > 1 else 0.0\n",
    "\n",
    "    # Log metrics with wandb\n",
    "    # wandb.log({\n",
    "    #     \"validation_loss\": mean_loss,\n",
    "    #     \"validation_accuracy\": accuracy,\n",
    "    #     \"validation_roc_auc\": roc_auc,\n",
    "    #     \"validation_pr_auc\": pr_auc,\n",
    "    # })\n",
    "\n",
    "    return {\n",
    "        \"loss\": mean_loss,\n",
    "        \"accuracy\": accuracy,\n",
    "        \"roc_auc\": roc_auc,\n",
    "        \"pr_auc\": pr_auc\n",
    "    }"
   ]
  },
  {
   "cell_type": "code",
   "execution_count": null,
   "metadata": {
    "id": "8uCjiRwKLz4y"
   },
   "outputs": [],
   "source": [
    "def train(model, train_loader, val_loader, n_epochs, lr, filename, threshold=0.5,\n",
    "          do_early_stopping=True, model_name='Scratch', batch_converter=None, weight=None):\n",
    "    \"\"\"\n",
    "    Trains the model over multiple epochs with validation after each epoch.\n",
    "\n",
    "    Args:\n",
    "        model (nn.Module): The model instance to train.\n",
    "        train_loader (DataLoader): DataLoader providing training data.\n",
    "        val_loader (DataLoader): DataLoader providing validation data.\n",
    "        n_epochs (int): Number of training epochs.\n",
    "        lr (float): Learning rate for the optimizer.\n",
    "        filename (str): File name to save the final model.\n",
    "        threshold (float, optional): Threshold for binary classification. Defaults to 0.5.\n",
    "        do_early_stopping (bool, optional): Whether to apply early stopping. Defaults to True.\n",
    "        model_name (str, optional): Identifier for model type (e.g., 'Scratch', 'ESM', 'RT', 'CCS').\n",
    "        batch_converter (callable, optional): Function to convert ESM batches into token format.\n",
    "        weight (torch.Tensor, optional): Weight for positive class in BCEWithLogitsLoss.\n",
    "\n",
    "    Returns:\n",
    "        dict: Training history containing:\n",
    "            - \"train_loss\": List of training losses per epoch.\n",
    "            - \"val_loss\": List of validation losses per epoch.\n",
    "            - \"val_accuracy\": List of validation accuracies.\n",
    "            - \"val_roc_auc\": List of ROC-AUC scores.\n",
    "            - \"val_pr_auc\": List of PR-AUC scores.\n",
    "    \"\"\"\n",
    "    device = \"cuda\" if torch.cuda.is_available() else \"cpu\"\n",
    "    torch.cuda.empty_cache()\n",
    "    model.to(device)\n",
    "\n",
    "    optimizer = torch.optim.Adam(model.parameters(), lr=lr)\n",
    "\n",
    "    if weight is not None:\n",
    "        criterion = nn.BCEWithLogitsLoss(pos_weight=weight)\n",
    "    else:\n",
    "        criterion = nn.BCEWithLogitsLoss()\n",
    "\n",
    "    history = {\n",
    "        \"train_loss\": [],\n",
    "        \"val_loss\": [],\n",
    "        \"val_accuracy\": [],\n",
    "        \"val_roc_auc\": [],\n",
    "        \"val_pr_auc\": [],\n",
    "    }\n",
    "\n",
    "    for epoch in range(n_epochs):\n",
    "        # Train for one epoch\n",
    "        train_loss = train_epoch(\n",
    "            model, train_loader, optimizer, criterion, device,\n",
    "            model_name=model_name, batch_converter=batch_converter\n",
    "        )\n",
    "\n",
    "        # Validate after each epoch\n",
    "        val_metrics = val_epoch(\n",
    "            model, val_loader, criterion, device, threshold,\n",
    "            model_name=model_name, batch_converter=batch_converter\n",
    "        )\n",
    "\n",
    "        # Record metrics\n",
    "        history[\"train_loss\"].append(train_loss)\n",
    "        history[\"val_loss\"].append(val_metrics[\"loss\"])\n",
    "        history[\"val_accuracy\"].append(val_metrics[\"accuracy\"])\n",
    "        history[\"val_roc_auc\"].append(val_metrics[\"roc_auc\"])\n",
    "        history[\"val_pr_auc\"].append(val_metrics[\"pr_auc\"])\n",
    "\n",
    "        # Early stopping\n",
    "        if early_stopping(history[\"val_loss\"], patience=5) and do_early_stopping:\n",
    "            print(f\"Early stopping triggered at epoch {epoch}.\")\n",
    "            break\n",
    "\n",
    "    # wandb.log({\"Early_stopping\": epoch})\n",
    "\n",
    "    return history"
   ]
  },
  {
   "cell_type": "code",
   "execution_count": null,
   "metadata": {
    "colab": {
     "base_uri": "https://localhost:8080/"
    },
    "executionInfo": {
     "elapsed": 41,
     "status": "ok",
     "timestamp": 1739988630191,
     "user": {
      "displayName": "Jimmy Walraff",
      "userId": "17365452855707799727"
     },
     "user_tz": -60
    },
    "id": "FWBpyTB3Lz40",
    "outputId": "d8d5633a-333c-4168-cdab-660cf562ac7b"
   },
   "outputs": [
    {
     "data": {
      "text/plain": [
       "tensor(3.0789, dtype=torch.float64)"
      ]
     },
     "execution_count": 11,
     "metadata": {},
     "output_type": "execute_result"
    }
   ],
   "source": [
    "def compute_pos_weight(df, target_column):\n",
    "    \"\"\"\n",
    "    Computes the pos_weight value for BCEWithLogitsLoss based on class imbalance.\n",
    "\n",
    "    Args:\n",
    "        df (pd.DataFrame): DataFrame containing the target labels.\n",
    "        target_column (str): Name of the column with binary class labels.\n",
    "\n",
    "    Returns:\n",
    "        torch.Tensor: A tensor representing the positive class weight for use in BCEWithLogitsLoss.\n",
    "                      If no positive samples are found, defaults to a weight of 1.0.\n",
    "    \"\"\"\n",
    "    class_counts = df[target_column].value_counts()\n",
    "\n",
    "    num_pos = class_counts.get(1, 0)  # Number of positive samples\n",
    "    num_neg = class_counts.get(0, 0)  # Number of negative samples\n",
    "\n",
    "    if num_pos == 0:\n",
    "        pos_weight = torch.tensor(1.0, dtype=torch.float64)\n",
    "    else:\n",
    "        pos_weight = torch.tensor(num_neg / num_pos, dtype=torch.float64)\n",
    "\n",
    "    return pos_weight\n",
    "\n",
    "compute_pos_weight(df, 'quantotypic')"
   ]
  },
  {
   "cell_type": "code",
   "execution_count": null,
   "metadata": {
    "id": "Z4P9e89EYtlm"
   },
   "outputs": [],
   "source": [
    "def compute_best(history, best_history, model, best_model):\n",
    "    \"\"\"\n",
    "    Compares the current model to the best model so far based on validation PR AUC,\n",
    "    and updates the best model and history if the current model performs better.\n",
    "\n",
    "    Args:\n",
    "        history (dict): Dictionary containing the current training and validation metrics.\n",
    "        best_history (dict): Dictionary containing the best validation metrics so far.\n",
    "        model (nn.Module): Current model instance.\n",
    "        best_model (nn.Module): Best model instance so far.\n",
    "\n",
    "    Returns:\n",
    "        tuple: Updated best model and its corresponding history.\n",
    "    \"\"\"\n",
    "    if best_history is None or (history[\"val_pr_auc\"][-1] > best_history[\"val_pr_auc\"][-1]):\n",
    "        best_model = model\n",
    "        best_history = history\n",
    "\n",
    "    return best_model, best_history\n",
    "\n",
    "def evaluate_mlp_model(model, test_df, amino_acid_vocab, max_len):\n",
    "    \"\"\"\n",
    "    Evaluates a trained MLP model on the test dataset and returns performance metrics.\n",
    "\n",
    "    Args:\n",
    "        model (nn.Module): The trained model to evaluate.\n",
    "        test_df (pd.DataFrame): DataFrame containing test sequences and labels.\n",
    "        amino_acid_vocab (dict): Mapping from amino acids to integer indices.\n",
    "        max_len (int): Maximum sequence length (used for padding/truncation).\n",
    "\n",
    "    Returns:\n",
    "        dict: Dictionary containing the following evaluation metrics:\n",
    "              - 'accuracy': Classification accuracy.\n",
    "              - 'precision': Precision score.\n",
    "              - 'recall': Recall score.\n",
    "              - 'f1': F1 score.\n",
    "              - 'roc_auc': ROC AUC score.\n",
    "              - 'pr_auc': Precision-Recall AUC score.\n",
    "    \"\"\"\n",
    "    device = \"cuda\" if torch.cuda.is_available() else \"cpu\" # Get the device\n",
    "    model.eval()\n",
    "    model.to(device) # Move the model to the device\n",
    "    test_dataset = PeptideDataset(test_df['sequence'].values, test_df['quantotypic'].values, amino_acid_vocab, max_len)\n",
    "    test_loader = DataLoader(test_dataset, batch_size=64, shuffle=False)\n",
    "\n",
    "    all_preds = []\n",
    "    all_targets = []\n",
    "\n",
    "    with torch.no_grad():\n",
    "        for sequences, labels in test_loader:\n",
    "            sequences = sequences.to(device) # Move the sequences to the device\n",
    "            labels = labels.to(device) # Move the labels to the device\n",
    "            outputs = model(sequences)\n",
    "            preds = torch.sigmoid(outputs).cpu().numpy()\n",
    "            all_preds.extend(preds)\n",
    "            all_targets.extend(labels.cpu().numpy())\n",
    "\n",
    "    all_preds = np.array(all_preds).flatten()\n",
    "    all_targets = np.array(all_targets)\n",
    "\n",
    "    predicted_classes = (all_preds >= 0.5).astype(int)\n",
    "\n",
    "    accuracy = accuracy_score(all_targets, predicted_classes)\n",
    "    precision = precision_score(all_targets, predicted_classes)\n",
    "    recall = recall_score(all_targets, predicted_classes)\n",
    "    f1 = f1_score(all_targets, predicted_classes)\n",
    "    roc_auc = roc_auc_score(all_targets, all_preds)\n",
    "    pr_auc = average_precision_score(all_targets, all_preds)\n",
    "\n",
    "    return {\n",
    "        'accuracy': accuracy,\n",
    "        'precision': precision,\n",
    "        'recall': recall,\n",
    "        'f1': f1,\n",
    "        'roc_auc': roc_auc,\n",
    "        'pr_auc': pr_auc\n",
    "    }\n",
    "\n",
    "def write_into_json(dict, filename):\n",
    "    import json\n",
    "    with open(filename, 'w') as f:\n",
    "        json.dump(dict, f)"
   ]
  },
  {
   "cell_type": "markdown",
   "metadata": {},
   "source": [
    "# Training"
   ]
  },
  {
   "cell_type": "code",
   "execution_count": null,
   "metadata": {
    "colab": {
     "base_uri": "https://localhost:8080/",
     "height": 1000
    },
    "executionInfo": {
     "elapsed": 2390490,
     "status": "ok",
     "timestamp": 1739991062043,
     "user": {
      "displayName": "Jimmy Walraff",
      "userId": "17365452855707799727"
     },
     "user_tz": -60
    },
    "id": "VjE1Qf_rLz41",
    "outputId": "682e0c3f-5062-4062-89fd-d903b7ae2341"
   },
   "outputs": [
    {
     "name": "stdout",
     "output_type": "stream",
     "text": [
      "Fold 1 on 5\n",
      "Testing config 1 on 48\n",
      "Testing config 2 on 48\n",
      "Testing config 3 on 48\n",
      "Testing config 4 on 48\n",
      "Testing config 5 on 48\n",
      "Testing config 6 on 48\n",
      "Testing config 7 on 48\n",
      "Testing config 8 on 48\n",
      "Testing config 9 on 48\n",
      "Testing config 10 on 48\n",
      "Testing config 11 on 48\n",
      "Testing config 12 on 48\n",
      "Testing config 13 on 48\n",
      "Testing config 14 on 48\n",
      "Testing config 15 on 48\n",
      "Testing config 16 on 48\n",
      "Testing config 17 on 48\n",
      "Testing config 18 on 48\n",
      "Testing config 19 on 48\n",
      "Testing config 20 on 48\n",
      "Testing config 21 on 48\n",
      "Testing config 22 on 48\n",
      "Testing config 23 on 48\n",
      "Testing config 24 on 48\n",
      "Testing config 25 on 48\n",
      "Testing config 26 on 48\n",
      "Testing config 27 on 48\n",
      "Testing config 28 on 48\n",
      "Testing config 29 on 48\n",
      "Testing config 30 on 48\n",
      "Testing config 31 on 48\n",
      "Testing config 32 on 48\n",
      "Testing config 33 on 48\n",
      "Testing config 34 on 48\n",
      "Testing config 35 on 48\n",
      "Testing config 36 on 48\n",
      "Testing config 37 on 48\n",
      "Testing config 38 on 48\n",
      "Testing config 39 on 48\n",
      "Testing config 40 on 48\n",
      "Testing config 41 on 48\n",
      "Testing config 42 on 48\n",
      "Testing config 43 on 48\n",
      "Testing config 44 on 48\n",
      "Testing config 45 on 48\n",
      "Testing config 46 on 48\n",
      "Testing config 47 on 48\n",
      "Testing config 48 on 48\n",
      "\n",
      "--------------------------------------Config Done--------------------------------------------\n",
      "\n"
     ]
    },
    {
     "name": "stderr",
     "output_type": "stream",
     "text": [
      "Failed to detect the name of this notebook, you can set it manually with the WANDB_NOTEBOOK_NAME environment variable to enable code saving.\n",
      "\u001b[34m\u001b[1mwandb\u001b[0m: Currently logged in as: \u001b[33mjimmy-walraff02\u001b[0m (\u001b[33mTFE-proteomics\u001b[0m). Use \u001b[1m`wandb login --relogin`\u001b[0m to force relogin\n"
     ]
    },
    {
     "data": {
      "text/html": [
       "wandb version 0.19.8 is available!  To upgrade, please run:\n",
       " $ pip install wandb --upgrade"
      ],
      "text/plain": [
       "<IPython.core.display.HTML object>"
      ]
     },
     "metadata": {},
     "output_type": "display_data"
    },
    {
     "data": {
      "text/html": [
       "Tracking run with wandb version 0.16.4"
      ],
      "text/plain": [
       "<IPython.core.display.HTML object>"
      ]
     },
     "metadata": {},
     "output_type": "display_data"
    },
    {
     "data": {
      "text/html": [
       "Run data is saved locally in <code>/home/jwalraff/TFE/wandb/run-20250314_193236-91zlbwm3</code>"
      ],
      "text/plain": [
       "<IPython.core.display.HTML object>"
      ]
     },
     "metadata": {},
     "output_type": "display_data"
    },
    {
     "data": {
      "text/html": [
       "Syncing run <strong><a href='https://wandb.ai/TFE-proteomics/MLP/runs/91zlbwm3' target=\"_blank\">Test_MLP_Scratch_fold_1</a></strong> to <a href='https://wandb.ai/TFE-proteomics/MLP' target=\"_blank\">Weights & Biases</a> (<a href='https://wandb.me/run' target=\"_blank\">docs</a>)<br/>"
      ],
      "text/plain": [
       "<IPython.core.display.HTML object>"
      ]
     },
     "metadata": {},
     "output_type": "display_data"
    },
    {
     "data": {
      "text/html": [
       " View project at <a href='https://wandb.ai/TFE-proteomics/MLP' target=\"_blank\">https://wandb.ai/TFE-proteomics/MLP</a>"
      ],
      "text/plain": [
       "<IPython.core.display.HTML object>"
      ]
     },
     "metadata": {},
     "output_type": "display_data"
    },
    {
     "data": {
      "text/html": [
       " View run at <a href='https://wandb.ai/TFE-proteomics/MLP/runs/91zlbwm3' target=\"_blank\">https://wandb.ai/TFE-proteomics/MLP/runs/91zlbwm3</a>"
      ],
      "text/plain": [
       "<IPython.core.display.HTML object>"
      ]
     },
     "metadata": {},
     "output_type": "display_data"
    },
    {
     "data": {
      "application/vnd.jupyter.widget-view+json": {
       "model_id": "ff070450675a497ea5d22e07696da303",
       "version_major": 2,
       "version_minor": 0
      },
      "text/plain": [
       "VBox(children=(Label(value='0.015 MB of 0.018 MB uploaded\\r'), FloatProgress(value=0.7964720445636476, max=1.0…"
      ]
     },
     "metadata": {},
     "output_type": "display_data"
    },
    {
     "data": {
      "text/html": [
       "<style>\n",
       "    table.wandb td:nth-child(1) { padding: 0 10px; text-align: left ; width: auto;} td:nth-child(2) {text-align: left ; width: 100%}\n",
       "    .wandb-row { display: flex; flex-direction: row; flex-wrap: wrap; justify-content: flex-start; width: 100% }\n",
       "    .wandb-col { display: flex; flex-direction: column; flex-basis: 100%; flex: 1; padding: 10px; }\n",
       "    </style>\n",
       "<div class=\"wandb-row\"><div class=\"wandb-col\"><h3>Run history:</h3><br/><table class=\"wandb\"><tr><td>accuracy</td><td>▁</td></tr><tr><td>f1</td><td>▁</td></tr><tr><td>pr_auc</td><td>▁</td></tr><tr><td>precision</td><td>▁</td></tr><tr><td>recall</td><td>▁</td></tr><tr><td>roc_auc</td><td>▁</td></tr></table><br/></div><div class=\"wandb-col\"><h3>Run summary:</h3><br/><table class=\"wandb\"><tr><td>accuracy</td><td>0.70968</td></tr><tr><td>f1</td><td>0.18182</td></tr><tr><td>pr_auc</td><td>0.29071</td></tr><tr><td>precision</td><td>0.25</td></tr><tr><td>recall</td><td>0.14286</td></tr><tr><td>roc_auc</td><td>0.58631</td></tr></table><br/></div></div>"
      ],
      "text/plain": [
       "<IPython.core.display.HTML object>"
      ]
     },
     "metadata": {},
     "output_type": "display_data"
    },
    {
     "data": {
      "text/html": [
       " View run <strong style=\"color:#cdcd00\">Test_MLP_Scratch_fold_1</strong> at: <a href='https://wandb.ai/TFE-proteomics/MLP/runs/91zlbwm3' target=\"_blank\">https://wandb.ai/TFE-proteomics/MLP/runs/91zlbwm3</a><br/>Synced 5 W&B file(s), 0 media file(s), 0 artifact file(s) and 0 other file(s)"
      ],
      "text/plain": [
       "<IPython.core.display.HTML object>"
      ]
     },
     "metadata": {},
     "output_type": "display_data"
    },
    {
     "data": {
      "text/html": [
       "Find logs at: <code>./wandb/run-20250314_193236-91zlbwm3/logs</code>"
      ],
      "text/plain": [
       "<IPython.core.display.HTML object>"
      ]
     },
     "metadata": {},
     "output_type": "display_data"
    },
    {
     "name": "stdout",
     "output_type": "stream",
     "text": [
      "Fold 2 on 5\n",
      "Testing config 1 on 48\n",
      "Testing config 2 on 48\n",
      "Testing config 3 on 48\n",
      "Testing config 4 on 48\n",
      "Testing config 5 on 48\n",
      "Testing config 6 on 48\n",
      "Testing config 7 on 48\n",
      "Testing config 8 on 48\n",
      "Testing config 9 on 48\n",
      "Testing config 10 on 48\n",
      "Testing config 11 on 48\n",
      "Testing config 12 on 48\n",
      "Testing config 13 on 48\n",
      "Testing config 14 on 48\n",
      "Testing config 15 on 48\n",
      "Testing config 16 on 48\n",
      "Testing config 17 on 48\n",
      "Testing config 18 on 48\n",
      "Testing config 19 on 48\n",
      "Testing config 20 on 48\n",
      "Testing config 21 on 48\n",
      "Testing config 22 on 48\n",
      "Testing config 23 on 48\n",
      "Testing config 24 on 48\n",
      "Testing config 25 on 48\n",
      "Testing config 26 on 48\n",
      "Testing config 27 on 48\n",
      "Testing config 28 on 48\n",
      "Testing config 29 on 48\n",
      "Testing config 30 on 48\n",
      "Testing config 31 on 48\n",
      "Testing config 32 on 48\n",
      "Testing config 33 on 48\n",
      "Testing config 34 on 48\n",
      "Testing config 35 on 48\n",
      "Testing config 36 on 48\n",
      "Testing config 37 on 48\n",
      "Testing config 38 on 48\n",
      "Testing config 39 on 48\n",
      "Testing config 40 on 48\n",
      "Testing config 41 on 48\n",
      "Testing config 42 on 48\n",
      "Testing config 43 on 48\n",
      "Testing config 44 on 48\n",
      "Testing config 45 on 48\n",
      "Testing config 46 on 48\n",
      "Testing config 47 on 48\n",
      "Testing config 48 on 48\n",
      "\n",
      "--------------------------------------Config Done--------------------------------------------\n",
      "\n"
     ]
    },
    {
     "data": {
      "text/html": [
       "wandb version 0.19.8 is available!  To upgrade, please run:\n",
       " $ pip install wandb --upgrade"
      ],
      "text/plain": [
       "<IPython.core.display.HTML object>"
      ]
     },
     "metadata": {},
     "output_type": "display_data"
    },
    {
     "data": {
      "text/html": [
       "Tracking run with wandb version 0.16.4"
      ],
      "text/plain": [
       "<IPython.core.display.HTML object>"
      ]
     },
     "metadata": {},
     "output_type": "display_data"
    },
    {
     "data": {
      "text/html": [
       "Run data is saved locally in <code>/home/jwalraff/TFE/wandb/run-20250314_193344-0m6t9qjr</code>"
      ],
      "text/plain": [
       "<IPython.core.display.HTML object>"
      ]
     },
     "metadata": {},
     "output_type": "display_data"
    },
    {
     "data": {
      "text/html": [
       "Syncing run <strong><a href='https://wandb.ai/TFE-proteomics/MLP/runs/0m6t9qjr' target=\"_blank\">Test_MLP_Scratch_fold_2</a></strong> to <a href='https://wandb.ai/TFE-proteomics/MLP' target=\"_blank\">Weights & Biases</a> (<a href='https://wandb.me/run' target=\"_blank\">docs</a>)<br/>"
      ],
      "text/plain": [
       "<IPython.core.display.HTML object>"
      ]
     },
     "metadata": {},
     "output_type": "display_data"
    },
    {
     "data": {
      "text/html": [
       " View project at <a href='https://wandb.ai/TFE-proteomics/MLP' target=\"_blank\">https://wandb.ai/TFE-proteomics/MLP</a>"
      ],
      "text/plain": [
       "<IPython.core.display.HTML object>"
      ]
     },
     "metadata": {},
     "output_type": "display_data"
    },
    {
     "data": {
      "text/html": [
       " View run at <a href='https://wandb.ai/TFE-proteomics/MLP/runs/0m6t9qjr' target=\"_blank\">https://wandb.ai/TFE-proteomics/MLP/runs/0m6t9qjr</a>"
      ],
      "text/plain": [
       "<IPython.core.display.HTML object>"
      ]
     },
     "metadata": {},
     "output_type": "display_data"
    },
    {
     "data": {
      "application/vnd.jupyter.widget-view+json": {
       "model_id": "25a682327589483d94f2c2a56307bc0f",
       "version_major": 2,
       "version_minor": 0
      },
      "text/plain": [
       "VBox(children=(Label(value='0.004 MB of 0.019 MB uploaded\\r'), FloatProgress(value=0.2244372327821563, max=1.0…"
      ]
     },
     "metadata": {},
     "output_type": "display_data"
    },
    {
     "data": {
      "text/html": [
       "<style>\n",
       "    table.wandb td:nth-child(1) { padding: 0 10px; text-align: left ; width: auto;} td:nth-child(2) {text-align: left ; width: 100%}\n",
       "    .wandb-row { display: flex; flex-direction: row; flex-wrap: wrap; justify-content: flex-start; width: 100% }\n",
       "    .wandb-col { display: flex; flex-direction: column; flex-basis: 100%; flex: 1; padding: 10px; }\n",
       "    </style>\n",
       "<div class=\"wandb-row\"><div class=\"wandb-col\"><h3>Run history:</h3><br/><table class=\"wandb\"><tr><td>accuracy</td><td>▁</td></tr><tr><td>f1</td><td>▁</td></tr><tr><td>pr_auc</td><td>▁</td></tr><tr><td>precision</td><td>▁</td></tr><tr><td>recall</td><td>▁</td></tr><tr><td>roc_auc</td><td>▁</td></tr></table><br/></div><div class=\"wandb-col\"><h3>Run summary:</h3><br/><table class=\"wandb\"><tr><td>accuracy</td><td>0.6129</td></tr><tr><td>f1</td><td>0.14286</td></tr><tr><td>pr_auc</td><td>0.40379</td></tr><tr><td>precision</td><td>0.14286</td></tr><tr><td>recall</td><td>0.14286</td></tr><tr><td>roc_auc</td><td>0.6369</td></tr></table><br/></div></div>"
      ],
      "text/plain": [
       "<IPython.core.display.HTML object>"
      ]
     },
     "metadata": {},
     "output_type": "display_data"
    },
    {
     "data": {
      "text/html": [
       " View run <strong style=\"color:#cdcd00\">Test_MLP_Scratch_fold_2</strong> at: <a href='https://wandb.ai/TFE-proteomics/MLP/runs/0m6t9qjr' target=\"_blank\">https://wandb.ai/TFE-proteomics/MLP/runs/0m6t9qjr</a><br/>Synced 5 W&B file(s), 0 media file(s), 0 artifact file(s) and 0 other file(s)"
      ],
      "text/plain": [
       "<IPython.core.display.HTML object>"
      ]
     },
     "metadata": {},
     "output_type": "display_data"
    },
    {
     "data": {
      "text/html": [
       "Find logs at: <code>./wandb/run-20250314_193344-0m6t9qjr/logs</code>"
      ],
      "text/plain": [
       "<IPython.core.display.HTML object>"
      ]
     },
     "metadata": {},
     "output_type": "display_data"
    },
    {
     "name": "stdout",
     "output_type": "stream",
     "text": [
      "Fold 3 on 5\n",
      "Testing config 1 on 48\n",
      "Testing config 2 on 48\n",
      "Testing config 3 on 48\n",
      "Testing config 4 on 48\n",
      "Testing config 5 on 48\n",
      "Testing config 6 on 48\n",
      "Testing config 7 on 48\n",
      "Testing config 8 on 48\n",
      "Testing config 9 on 48\n",
      "Testing config 10 on 48\n",
      "Testing config 11 on 48\n",
      "Testing config 12 on 48\n",
      "Testing config 13 on 48\n",
      "Testing config 14 on 48\n",
      "Testing config 15 on 48\n",
      "Testing config 16 on 48\n",
      "Testing config 17 on 48\n",
      "Testing config 18 on 48\n",
      "Testing config 19 on 48\n",
      "Testing config 20 on 48\n",
      "Testing config 21 on 48\n",
      "Testing config 22 on 48\n",
      "Testing config 23 on 48\n",
      "Testing config 24 on 48\n",
      "Testing config 25 on 48\n",
      "Testing config 26 on 48\n",
      "Testing config 27 on 48\n",
      "Testing config 28 on 48\n",
      "Testing config 29 on 48\n",
      "Testing config 30 on 48\n",
      "Testing config 31 on 48\n",
      "Testing config 32 on 48\n",
      "Testing config 33 on 48\n",
      "Testing config 34 on 48\n",
      "Testing config 35 on 48\n",
      "Testing config 36 on 48\n",
      "Testing config 37 on 48\n",
      "Testing config 38 on 48\n",
      "Testing config 39 on 48\n",
      "Testing config 40 on 48\n",
      "Testing config 41 on 48\n",
      "Testing config 42 on 48\n",
      "Testing config 43 on 48\n",
      "Testing config 44 on 48\n",
      "Testing config 45 on 48\n",
      "Testing config 46 on 48\n",
      "Testing config 47 on 48\n",
      "Testing config 48 on 48\n",
      "\n",
      "--------------------------------------Config Done--------------------------------------------\n",
      "\n"
     ]
    },
    {
     "data": {
      "text/html": [
       "wandb version 0.19.8 is available!  To upgrade, please run:\n",
       " $ pip install wandb --upgrade"
      ],
      "text/plain": [
       "<IPython.core.display.HTML object>"
      ]
     },
     "metadata": {},
     "output_type": "display_data"
    },
    {
     "data": {
      "text/html": [
       "Tracking run with wandb version 0.16.4"
      ],
      "text/plain": [
       "<IPython.core.display.HTML object>"
      ]
     },
     "metadata": {},
     "output_type": "display_data"
    },
    {
     "data": {
      "text/html": [
       "Run data is saved locally in <code>/home/jwalraff/TFE/wandb/run-20250314_193452-3gxjzbvp</code>"
      ],
      "text/plain": [
       "<IPython.core.display.HTML object>"
      ]
     },
     "metadata": {},
     "output_type": "display_data"
    },
    {
     "data": {
      "text/html": [
       "Syncing run <strong><a href='https://wandb.ai/TFE-proteomics/MLP/runs/3gxjzbvp' target=\"_blank\">Test_MLP_Scratch_fold_3</a></strong> to <a href='https://wandb.ai/TFE-proteomics/MLP' target=\"_blank\">Weights & Biases</a> (<a href='https://wandb.me/run' target=\"_blank\">docs</a>)<br/>"
      ],
      "text/plain": [
       "<IPython.core.display.HTML object>"
      ]
     },
     "metadata": {},
     "output_type": "display_data"
    },
    {
     "data": {
      "text/html": [
       " View project at <a href='https://wandb.ai/TFE-proteomics/MLP' target=\"_blank\">https://wandb.ai/TFE-proteomics/MLP</a>"
      ],
      "text/plain": [
       "<IPython.core.display.HTML object>"
      ]
     },
     "metadata": {},
     "output_type": "display_data"
    },
    {
     "data": {
      "text/html": [
       " View run at <a href='https://wandb.ai/TFE-proteomics/MLP/runs/3gxjzbvp' target=\"_blank\">https://wandb.ai/TFE-proteomics/MLP/runs/3gxjzbvp</a>"
      ],
      "text/plain": [
       "<IPython.core.display.HTML object>"
      ]
     },
     "metadata": {},
     "output_type": "display_data"
    },
    {
     "data": {
      "application/vnd.jupyter.widget-view+json": {
       "model_id": "f1d41138dec94e1daa4fa75870f45ea6",
       "version_major": 2,
       "version_minor": 0
      },
      "text/plain": [
       "VBox(children=(Label(value='0.004 MB of 0.018 MB uploaded\\r'), FloatProgress(value=0.22741302641904262, max=1.…"
      ]
     },
     "metadata": {},
     "output_type": "display_data"
    },
    {
     "data": {
      "text/html": [
       "<style>\n",
       "    table.wandb td:nth-child(1) { padding: 0 10px; text-align: left ; width: auto;} td:nth-child(2) {text-align: left ; width: 100%}\n",
       "    .wandb-row { display: flex; flex-direction: row; flex-wrap: wrap; justify-content: flex-start; width: 100% }\n",
       "    .wandb-col { display: flex; flex-direction: column; flex-basis: 100%; flex: 1; padding: 10px; }\n",
       "    </style>\n",
       "<div class=\"wandb-row\"><div class=\"wandb-col\"><h3>Run history:</h3><br/><table class=\"wandb\"><tr><td>accuracy</td><td>▁</td></tr><tr><td>f1</td><td>▁</td></tr><tr><td>pr_auc</td><td>▁</td></tr><tr><td>precision</td><td>▁</td></tr><tr><td>recall</td><td>▁</td></tr><tr><td>roc_auc</td><td>▁</td></tr></table><br/></div><div class=\"wandb-col\"><h3>Run summary:</h3><br/><table class=\"wandb\"><tr><td>accuracy</td><td>0.67742</td></tr><tr><td>f1</td><td>0.16667</td></tr><tr><td>pr_auc</td><td>0.23164</td></tr><tr><td>precision</td><td>0.25</td></tr><tr><td>recall</td><td>0.125</td></tr><tr><td>roc_auc</td><td>0.36957</td></tr></table><br/></div></div>"
      ],
      "text/plain": [
       "<IPython.core.display.HTML object>"
      ]
     },
     "metadata": {},
     "output_type": "display_data"
    },
    {
     "data": {
      "text/html": [
       " View run <strong style=\"color:#cdcd00\">Test_MLP_Scratch_fold_3</strong> at: <a href='https://wandb.ai/TFE-proteomics/MLP/runs/3gxjzbvp' target=\"_blank\">https://wandb.ai/TFE-proteomics/MLP/runs/3gxjzbvp</a><br/>Synced 5 W&B file(s), 0 media file(s), 0 artifact file(s) and 0 other file(s)"
      ],
      "text/plain": [
       "<IPython.core.display.HTML object>"
      ]
     },
     "metadata": {},
     "output_type": "display_data"
    },
    {
     "data": {
      "text/html": [
       "Find logs at: <code>./wandb/run-20250314_193452-3gxjzbvp/logs</code>"
      ],
      "text/plain": [
       "<IPython.core.display.HTML object>"
      ]
     },
     "metadata": {},
     "output_type": "display_data"
    },
    {
     "name": "stdout",
     "output_type": "stream",
     "text": [
      "Fold 4 on 5\n",
      "Testing config 1 on 48\n",
      "Testing config 2 on 48\n",
      "Testing config 3 on 48\n",
      "Testing config 4 on 48\n",
      "Testing config 5 on 48\n",
      "Testing config 6 on 48\n",
      "Testing config 7 on 48\n",
      "Testing config 8 on 48\n",
      "Testing config 9 on 48\n",
      "Testing config 10 on 48\n",
      "Testing config 11 on 48\n",
      "Testing config 12 on 48\n",
      "Testing config 13 on 48\n",
      "Testing config 14 on 48\n",
      "Testing config 15 on 48\n",
      "Testing config 16 on 48\n",
      "Testing config 17 on 48\n",
      "Testing config 18 on 48\n",
      "Testing config 19 on 48\n",
      "Testing config 20 on 48\n",
      "Testing config 21 on 48\n",
      "Testing config 22 on 48\n",
      "Testing config 23 on 48\n",
      "Testing config 24 on 48\n",
      "Testing config 25 on 48\n",
      "Testing config 26 on 48\n",
      "Testing config 27 on 48\n",
      "Testing config 28 on 48\n",
      "Testing config 29 on 48\n",
      "Testing config 30 on 48\n",
      "Testing config 31 on 48\n",
      "Testing config 32 on 48\n",
      "Testing config 33 on 48\n",
      "Testing config 34 on 48\n",
      "Testing config 35 on 48\n",
      "Testing config 36 on 48\n",
      "Testing config 37 on 48\n",
      "Testing config 38 on 48\n",
      "Testing config 39 on 48\n",
      "Testing config 40 on 48\n",
      "Testing config 41 on 48\n",
      "Testing config 42 on 48\n",
      "Testing config 43 on 48\n",
      "Testing config 44 on 48\n",
      "Testing config 45 on 48\n",
      "Testing config 46 on 48\n",
      "Testing config 47 on 48\n",
      "Testing config 48 on 48\n",
      "\n",
      "--------------------------------------Config Done--------------------------------------------\n",
      "\n"
     ]
    },
    {
     "data": {
      "text/html": [
       "wandb version 0.19.8 is available!  To upgrade, please run:\n",
       " $ pip install wandb --upgrade"
      ],
      "text/plain": [
       "<IPython.core.display.HTML object>"
      ]
     },
     "metadata": {},
     "output_type": "display_data"
    },
    {
     "data": {
      "text/html": [
       "Tracking run with wandb version 0.16.4"
      ],
      "text/plain": [
       "<IPython.core.display.HTML object>"
      ]
     },
     "metadata": {},
     "output_type": "display_data"
    },
    {
     "data": {
      "text/html": [
       "Run data is saved locally in <code>/home/jwalraff/TFE/wandb/run-20250314_193601-ye54vthl</code>"
      ],
      "text/plain": [
       "<IPython.core.display.HTML object>"
      ]
     },
     "metadata": {},
     "output_type": "display_data"
    },
    {
     "data": {
      "text/html": [
       "Syncing run <strong><a href='https://wandb.ai/TFE-proteomics/MLP/runs/ye54vthl' target=\"_blank\">Test_MLP_Scratch_fold_4</a></strong> to <a href='https://wandb.ai/TFE-proteomics/MLP' target=\"_blank\">Weights & Biases</a> (<a href='https://wandb.me/run' target=\"_blank\">docs</a>)<br/>"
      ],
      "text/plain": [
       "<IPython.core.display.HTML object>"
      ]
     },
     "metadata": {},
     "output_type": "display_data"
    },
    {
     "data": {
      "text/html": [
       " View project at <a href='https://wandb.ai/TFE-proteomics/MLP' target=\"_blank\">https://wandb.ai/TFE-proteomics/MLP</a>"
      ],
      "text/plain": [
       "<IPython.core.display.HTML object>"
      ]
     },
     "metadata": {},
     "output_type": "display_data"
    },
    {
     "data": {
      "text/html": [
       " View run at <a href='https://wandb.ai/TFE-proteomics/MLP/runs/ye54vthl' target=\"_blank\">https://wandb.ai/TFE-proteomics/MLP/runs/ye54vthl</a>"
      ],
      "text/plain": [
       "<IPython.core.display.HTML object>"
      ]
     },
     "metadata": {},
     "output_type": "display_data"
    },
    {
     "data": {
      "application/vnd.jupyter.widget-view+json": {
       "model_id": "7a8f16630a6e457da8c9bff239e32824",
       "version_major": 2,
       "version_minor": 0
      },
      "text/plain": [
       "VBox(children=(Label(value='0.004 MB of 0.018 MB uploaded\\r'), FloatProgress(value=0.2251019670607672, max=1.0…"
      ]
     },
     "metadata": {},
     "output_type": "display_data"
    },
    {
     "data": {
      "text/html": [
       "<style>\n",
       "    table.wandb td:nth-child(1) { padding: 0 10px; text-align: left ; width: auto;} td:nth-child(2) {text-align: left ; width: 100%}\n",
       "    .wandb-row { display: flex; flex-direction: row; flex-wrap: wrap; justify-content: flex-start; width: 100% }\n",
       "    .wandb-col { display: flex; flex-direction: column; flex-basis: 100%; flex: 1; padding: 10px; }\n",
       "    </style>\n",
       "<div class=\"wandb-row\"><div class=\"wandb-col\"><h3>Run history:</h3><br/><table class=\"wandb\"><tr><td>accuracy</td><td>▁</td></tr><tr><td>f1</td><td>▁</td></tr><tr><td>pr_auc</td><td>▁</td></tr><tr><td>precision</td><td>▁</td></tr><tr><td>recall</td><td>▁</td></tr><tr><td>roc_auc</td><td>▁</td></tr></table><br/></div><div class=\"wandb-col\"><h3>Run summary:</h3><br/><table class=\"wandb\"><tr><td>accuracy</td><td>0.80645</td></tr><tr><td>f1</td><td>0.4</td></tr><tr><td>pr_auc</td><td>0.61603</td></tr><tr><td>precision</td><td>1.0</td></tr><tr><td>recall</td><td>0.25</td></tr><tr><td>roc_auc</td><td>0.78261</td></tr></table><br/></div></div>"
      ],
      "text/plain": [
       "<IPython.core.display.HTML object>"
      ]
     },
     "metadata": {},
     "output_type": "display_data"
    },
    {
     "data": {
      "text/html": [
       " View run <strong style=\"color:#cdcd00\">Test_MLP_Scratch_fold_4</strong> at: <a href='https://wandb.ai/TFE-proteomics/MLP/runs/ye54vthl' target=\"_blank\">https://wandb.ai/TFE-proteomics/MLP/runs/ye54vthl</a><br/>Synced 5 W&B file(s), 0 media file(s), 0 artifact file(s) and 0 other file(s)"
      ],
      "text/plain": [
       "<IPython.core.display.HTML object>"
      ]
     },
     "metadata": {},
     "output_type": "display_data"
    },
    {
     "data": {
      "text/html": [
       "Find logs at: <code>./wandb/run-20250314_193601-ye54vthl/logs</code>"
      ],
      "text/plain": [
       "<IPython.core.display.HTML object>"
      ]
     },
     "metadata": {},
     "output_type": "display_data"
    },
    {
     "name": "stdout",
     "output_type": "stream",
     "text": [
      "Fold 5 on 5\n",
      "Testing config 1 on 48\n",
      "Testing config 2 on 48\n",
      "Testing config 3 on 48\n",
      "Testing config 4 on 48\n",
      "Testing config 5 on 48\n",
      "Testing config 6 on 48\n",
      "Testing config 7 on 48\n",
      "Testing config 8 on 48\n",
      "Testing config 9 on 48\n",
      "Testing config 10 on 48\n",
      "Testing config 11 on 48\n",
      "Testing config 12 on 48\n",
      "Testing config 13 on 48\n",
      "Testing config 14 on 48\n",
      "Testing config 15 on 48\n",
      "Testing config 16 on 48\n",
      "Testing config 17 on 48\n",
      "Testing config 18 on 48\n",
      "Testing config 19 on 48\n",
      "Testing config 20 on 48\n",
      "Testing config 21 on 48\n",
      "Testing config 22 on 48\n",
      "Testing config 23 on 48\n",
      "Testing config 24 on 48\n",
      "Testing config 25 on 48\n",
      "Testing config 26 on 48\n",
      "Testing config 27 on 48\n",
      "Testing config 28 on 48\n",
      "Testing config 29 on 48\n",
      "Testing config 30 on 48\n",
      "Testing config 31 on 48\n",
      "Testing config 32 on 48\n",
      "Testing config 33 on 48\n",
      "Testing config 34 on 48\n",
      "Testing config 35 on 48\n",
      "Testing config 36 on 48\n",
      "Testing config 37 on 48\n",
      "Testing config 38 on 48\n",
      "Testing config 39 on 48\n",
      "Testing config 40 on 48\n",
      "Testing config 41 on 48\n",
      "Testing config 42 on 48\n",
      "Testing config 43 on 48\n",
      "Testing config 44 on 48\n",
      "Testing config 45 on 48\n",
      "Testing config 46 on 48\n",
      "Testing config 47 on 48\n",
      "Testing config 48 on 48\n",
      "\n",
      "--------------------------------------Config Done--------------------------------------------\n",
      "\n"
     ]
    },
    {
     "data": {
      "text/html": [
       "wandb version 0.19.8 is available!  To upgrade, please run:\n",
       " $ pip install wandb --upgrade"
      ],
      "text/plain": [
       "<IPython.core.display.HTML object>"
      ]
     },
     "metadata": {},
     "output_type": "display_data"
    },
    {
     "data": {
      "text/html": [
       "Tracking run with wandb version 0.16.4"
      ],
      "text/plain": [
       "<IPython.core.display.HTML object>"
      ]
     },
     "metadata": {},
     "output_type": "display_data"
    },
    {
     "data": {
      "text/html": [
       "Run data is saved locally in <code>/home/jwalraff/TFE/wandb/run-20250314_193709-44lbs5gl</code>"
      ],
      "text/plain": [
       "<IPython.core.display.HTML object>"
      ]
     },
     "metadata": {},
     "output_type": "display_data"
    },
    {
     "data": {
      "text/html": [
       "Syncing run <strong><a href='https://wandb.ai/TFE-proteomics/MLP/runs/44lbs5gl' target=\"_blank\">Test_MLP_Scratch_fold_5</a></strong> to <a href='https://wandb.ai/TFE-proteomics/MLP' target=\"_blank\">Weights & Biases</a> (<a href='https://wandb.me/run' target=\"_blank\">docs</a>)<br/>"
      ],
      "text/plain": [
       "<IPython.core.display.HTML object>"
      ]
     },
     "metadata": {},
     "output_type": "display_data"
    },
    {
     "data": {
      "text/html": [
       " View project at <a href='https://wandb.ai/TFE-proteomics/MLP' target=\"_blank\">https://wandb.ai/TFE-proteomics/MLP</a>"
      ],
      "text/plain": [
       "<IPython.core.display.HTML object>"
      ]
     },
     "metadata": {},
     "output_type": "display_data"
    },
    {
     "data": {
      "text/html": [
       " View run at <a href='https://wandb.ai/TFE-proteomics/MLP/runs/44lbs5gl' target=\"_blank\">https://wandb.ai/TFE-proteomics/MLP/runs/44lbs5gl</a>"
      ],
      "text/plain": [
       "<IPython.core.display.HTML object>"
      ]
     },
     "metadata": {},
     "output_type": "display_data"
    },
    {
     "data": {
      "application/vnd.jupyter.widget-view+json": {
       "model_id": "f03976c108c34e9bb1a85090f1a68666",
       "version_major": 2,
       "version_minor": 0
      },
      "text/plain": [
       "VBox(children=(Label(value='0.004 MB of 0.015 MB uploaded\\r'), FloatProgress(value=0.281644545160246, max=1.0)…"
      ]
     },
     "metadata": {},
     "output_type": "display_data"
    },
    {
     "data": {
      "text/html": [
       "<style>\n",
       "    table.wandb td:nth-child(1) { padding: 0 10px; text-align: left ; width: auto;} td:nth-child(2) {text-align: left ; width: 100%}\n",
       "    .wandb-row { display: flex; flex-direction: row; flex-wrap: wrap; justify-content: flex-start; width: 100% }\n",
       "    .wandb-col { display: flex; flex-direction: column; flex-basis: 100%; flex: 1; padding: 10px; }\n",
       "    </style>\n",
       "<div class=\"wandb-row\"><div class=\"wandb-col\"><h3>Run history:</h3><br/><table class=\"wandb\"><tr><td>accuracy</td><td>▁</td></tr><tr><td>f1</td><td>▁</td></tr><tr><td>pr_auc</td><td>▁</td></tr><tr><td>precision</td><td>▁</td></tr><tr><td>recall</td><td>▁</td></tr><tr><td>roc_auc</td><td>▁</td></tr></table><br/></div><div class=\"wandb-col\"><h3>Run summary:</h3><br/><table class=\"wandb\"><tr><td>accuracy</td><td>0.64516</td></tr><tr><td>f1</td><td>0.0</td></tr><tr><td>pr_auc</td><td>0.34439</td></tr><tr><td>precision</td><td>0.0</td></tr><tr><td>recall</td><td>0.0</td></tr><tr><td>roc_auc</td><td>0.61413</td></tr></table><br/></div></div>"
      ],
      "text/plain": [
       "<IPython.core.display.HTML object>"
      ]
     },
     "metadata": {},
     "output_type": "display_data"
    },
    {
     "data": {
      "text/html": [
       " View run <strong style=\"color:#cdcd00\">Test_MLP_Scratch_fold_5</strong> at: <a href='https://wandb.ai/TFE-proteomics/MLP/runs/44lbs5gl' target=\"_blank\">https://wandb.ai/TFE-proteomics/MLP/runs/44lbs5gl</a><br/>Synced 5 W&B file(s), 0 media file(s), 0 artifact file(s) and 0 other file(s)"
      ],
      "text/plain": [
       "<IPython.core.display.HTML object>"
      ]
     },
     "metadata": {},
     "output_type": "display_data"
    },
    {
     "data": {
      "text/html": [
       "Find logs at: <code>./wandb/run-20250314_193709-44lbs5gl/logs</code>"
      ],
      "text/plain": [
       "<IPython.core.display.HTML object>"
      ]
     },
     "metadata": {},
     "output_type": "display_data"
    },
    {
     "data": {
      "application/vnd.jupyter.widget-view+json": {
       "model_id": "dbdfa8c11e8a4011a84bb628c9f93c15",
       "version_major": 2,
       "version_minor": 0
      },
      "text/plain": [
       "VBox(children=(Label(value='Waiting for wandb.init()...\\r'), FloatProgress(value=0.011112161353230477, max=1.0…"
      ]
     },
     "metadata": {},
     "output_type": "display_data"
    },
    {
     "data": {
      "text/html": [
       "wandb version 0.19.8 is available!  To upgrade, please run:\n",
       " $ pip install wandb --upgrade"
      ],
      "text/plain": [
       "<IPython.core.display.HTML object>"
      ]
     },
     "metadata": {},
     "output_type": "display_data"
    },
    {
     "data": {
      "text/html": [
       "Tracking run with wandb version 0.16.4"
      ],
      "text/plain": [
       "<IPython.core.display.HTML object>"
      ]
     },
     "metadata": {},
     "output_type": "display_data"
    },
    {
     "data": {
      "text/html": [
       "Run data is saved locally in <code>/home/jwalraff/TFE/wandb/run-20250314_193718-c0v4540u</code>"
      ],
      "text/plain": [
       "<IPython.core.display.HTML object>"
      ]
     },
     "metadata": {},
     "output_type": "display_data"
    },
    {
     "data": {
      "text/html": [
       "Syncing run <strong><a href='https://wandb.ai/TFE-proteomics/MLP/runs/c0v4540u' target=\"_blank\">Test_MLP_Scratch_CrossValidation_Summary</a></strong> to <a href='https://wandb.ai/TFE-proteomics/MLP' target=\"_blank\">Weights & Biases</a> (<a href='https://wandb.me/run' target=\"_blank\">docs</a>)<br/>"
      ],
      "text/plain": [
       "<IPython.core.display.HTML object>"
      ]
     },
     "metadata": {},
     "output_type": "display_data"
    },
    {
     "data": {
      "text/html": [
       " View project at <a href='https://wandb.ai/TFE-proteomics/MLP' target=\"_blank\">https://wandb.ai/TFE-proteomics/MLP</a>"
      ],
      "text/plain": [
       "<IPython.core.display.HTML object>"
      ]
     },
     "metadata": {},
     "output_type": "display_data"
    },
    {
     "data": {
      "text/html": [
       " View run at <a href='https://wandb.ai/TFE-proteomics/MLP/runs/c0v4540u' target=\"_blank\">https://wandb.ai/TFE-proteomics/MLP/runs/c0v4540u</a>"
      ],
      "text/plain": [
       "<IPython.core.display.HTML object>"
      ]
     },
     "metadata": {},
     "output_type": "display_data"
    },
    {
     "data": {
      "application/vnd.jupyter.widget-view+json": {
       "model_id": "00f00ac6c3fd4abd881ea61b2a42bf8e",
       "version_major": 2,
       "version_minor": 0
      },
      "text/plain": [
       "VBox(children=(Label(value='0.004 MB of 0.019 MB uploaded\\r'), FloatProgress(value=0.22162299669295343, max=1.…"
      ]
     },
     "metadata": {},
     "output_type": "display_data"
    },
    {
     "data": {
      "text/html": [
       "<style>\n",
       "    table.wandb td:nth-child(1) { padding: 0 10px; text-align: left ; width: auto;} td:nth-child(2) {text-align: left ; width: 100%}\n",
       "    .wandb-row { display: flex; flex-direction: row; flex-wrap: wrap; justify-content: flex-start; width: 100% }\n",
       "    .wandb-col { display: flex; flex-direction: column; flex-basis: 100%; flex: 1; padding: 10px; }\n",
       "    </style>\n",
       "<div class=\"wandb-row\"><div class=\"wandb-col\"><h3>Run history:</h3><br/><table class=\"wandb\"><tr><td>accuracy_mean</td><td>▁</td></tr><tr><td>accuracy_std</td><td>▁</td></tr><tr><td>f1_mean</td><td>▁</td></tr><tr><td>f1_std</td><td>▁</td></tr><tr><td>pr_auc_mean</td><td>▁</td></tr><tr><td>pr_auc_std</td><td>▁</td></tr><tr><td>precision_mean</td><td>▁</td></tr><tr><td>precision_std</td><td>▁</td></tr><tr><td>recall_mean</td><td>▁</td></tr><tr><td>recall_std</td><td>▁</td></tr><tr><td>roc_auc_mean</td><td>▁</td></tr><tr><td>roc_auc_std</td><td>▁</td></tr></table><br/></div><div class=\"wandb-col\"><h3>Run summary:</h3><br/><table class=\"wandb\"><tr><td>accuracy_mean</td><td>0.69032</td></tr><tr><td>accuracy_std</td><td>0.06642</td></tr><tr><td>f1_mean</td><td>0.17827</td></tr><tr><td>f1_std</td><td>0.12833</td></tr><tr><td>pr_auc_mean</td><td>0.37731</td></tr><tr><td>pr_auc_std</td><td>0.13228</td></tr><tr><td>precision_mean</td><td>0.32857</td></tr><tr><td>precision_std</td><td>0.34803</td></tr><tr><td>recall_mean</td><td>0.13214</td></tr><tr><td>recall_std</td><td>0.07954</td></tr><tr><td>roc_auc_mean</td><td>0.5979</td></tr><tr><td>roc_auc_std</td><td>0.1328</td></tr></table><br/></div></div>"
      ],
      "text/plain": [
       "<IPython.core.display.HTML object>"
      ]
     },
     "metadata": {},
     "output_type": "display_data"
    },
    {
     "data": {
      "text/html": [
       " View run <strong style=\"color:#cdcd00\">Test_MLP_Scratch_CrossValidation_Summary</strong> at: <a href='https://wandb.ai/TFE-proteomics/MLP/runs/c0v4540u' target=\"_blank\">https://wandb.ai/TFE-proteomics/MLP/runs/c0v4540u</a><br/>Synced 5 W&B file(s), 0 media file(s), 0 artifact file(s) and 0 other file(s)"
      ],
      "text/plain": [
       "<IPython.core.display.HTML object>"
      ]
     },
     "metadata": {},
     "output_type": "display_data"
    },
    {
     "data": {
      "text/html": [
       "Find logs at: <code>./wandb/run-20250314_193718-c0v4540u/logs</code>"
      ],
      "text/plain": [
       "<IPython.core.display.HTML object>"
      ]
     },
     "metadata": {},
     "output_type": "display_data"
    },
    {
     "name": "stdout",
     "output_type": "stream",
     "text": [
      "Fold 1 on 5\n",
      "Testing config 1 on 48\n",
      "Early stopping triggered at 23 epoch.\n",
      "Testing config 2 on 48\n",
      "Early stopping triggered at 8 epoch.\n",
      "Testing config 3 on 48\n",
      "Early stopping triggered at 7 epoch.\n",
      "Testing config 4 on 48\n",
      "Early stopping triggered at 7 epoch.\n",
      "Testing config 5 on 48\n",
      "Early stopping triggered at 20 epoch.\n",
      "Testing config 6 on 48\n",
      "Early stopping triggered at 9 epoch.\n",
      "Testing config 7 on 48\n",
      "Early stopping triggered at 30 epoch.\n",
      "Testing config 8 on 48\n",
      "Early stopping triggered at 12 epoch.\n",
      "Testing config 9 on 48\n",
      "Early stopping triggered at 39 epoch.\n",
      "Testing config 10 on 48\n",
      "Early stopping triggered at 25 epoch.\n",
      "Testing config 11 on 48\n",
      "Early stopping triggered at 60 epoch.\n",
      "Testing config 12 on 48\n",
      "Early stopping triggered at 33 epoch.\n",
      "Testing config 13 on 48\n",
      "Early stopping triggered at 13 epoch.\n",
      "Testing config 14 on 48\n",
      "Early stopping triggered at 8 epoch.\n",
      "Testing config 15 on 48\n",
      "Early stopping triggered at 9 epoch.\n",
      "Testing config 16 on 48\n",
      "Early stopping triggered at 5 epoch.\n",
      "Testing config 17 on 48\n",
      "Early stopping triggered at 6 epoch.\n",
      "Testing config 18 on 48\n",
      "Early stopping triggered at 13 epoch.\n",
      "Testing config 19 on 48\n",
      "Early stopping triggered at 13 epoch.\n",
      "Testing config 20 on 48\n",
      "Early stopping triggered at 5 epoch.\n",
      "Testing config 21 on 48\n",
      "Early stopping triggered at 11 epoch.\n",
      "Testing config 22 on 48\n",
      "Early stopping triggered at 17 epoch.\n",
      "Testing config 23 on 48\n",
      "Early stopping triggered at 10 epoch.\n",
      "Testing config 24 on 48\n",
      "Early stopping triggered at 6 epoch.\n",
      "Testing config 25 on 48\n",
      "Early stopping triggered at 8 epoch.\n",
      "Testing config 26 on 48\n",
      "Early stopping triggered at 8 epoch.\n",
      "Testing config 27 on 48\n",
      "Early stopping triggered at 12 epoch.\n",
      "Testing config 28 on 48\n",
      "Early stopping triggered at 9 epoch.\n",
      "Testing config 29 on 48\n",
      "Early stopping triggered at 7 epoch.\n",
      "Testing config 30 on 48\n",
      "Early stopping triggered at 6 epoch.\n",
      "Testing config 31 on 48\n",
      "Early stopping triggered at 13 epoch.\n",
      "Testing config 32 on 48\n",
      "Early stopping triggered at 6 epoch.\n",
      "Testing config 33 on 48\n",
      "Early stopping triggered at 5 epoch.\n",
      "Testing config 34 on 48\n",
      "Early stopping triggered at 9 epoch.\n",
      "Testing config 35 on 48\n",
      "Early stopping triggered at 8 epoch.\n",
      "Testing config 36 on 48\n",
      "Early stopping triggered at 9 epoch.\n",
      "Testing config 37 on 48\n",
      "Early stopping triggered at 8 epoch.\n",
      "Testing config 38 on 48\n",
      "Early stopping triggered at 8 epoch.\n",
      "Testing config 39 on 48\n",
      "Early stopping triggered at 5 epoch.\n",
      "Testing config 40 on 48\n",
      "Early stopping triggered at 19 epoch.\n",
      "Testing config 41 on 48\n",
      "Early stopping triggered at 41 epoch.\n",
      "Testing config 42 on 48\n",
      "Early stopping triggered at 23 epoch.\n",
      "Testing config 43 on 48\n",
      "Early stopping triggered at 20 epoch.\n",
      "Testing config 44 on 48\n",
      "Early stopping triggered at 18 epoch.\n",
      "Testing config 45 on 48\n",
      "Early stopping triggered at 12 epoch.\n",
      "Testing config 46 on 48\n",
      "Early stopping triggered at 20 epoch.\n",
      "Testing config 47 on 48\n",
      "Early stopping triggered at 12 epoch.\n",
      "Testing config 48 on 48\n",
      "Early stopping triggered at 12 epoch.\n",
      "\n",
      "--------------------------------------Config Done--------------------------------------------\n",
      "\n"
     ]
    },
    {
     "name": "stderr",
     "output_type": "stream",
     "text": [
      "/home/jwalraff/anaconda3/envs/deep/lib/python3.11/site-packages/sklearn/metrics/_classification.py:1565: UndefinedMetricWarning: Precision is ill-defined and being set to 0.0 due to no predicted samples. Use `zero_division` parameter to control this behavior.\n",
      "  _warn_prf(average, modifier, f\"{metric.capitalize()} is\", len(result))\n"
     ]
    },
    {
     "data": {
      "text/html": [
       "wandb version 0.19.8 is available!  To upgrade, please run:\n",
       " $ pip install wandb --upgrade"
      ],
      "text/plain": [
       "<IPython.core.display.HTML object>"
      ]
     },
     "metadata": {},
     "output_type": "display_data"
    },
    {
     "data": {
      "text/html": [
       "Tracking run with wandb version 0.16.4"
      ],
      "text/plain": [
       "<IPython.core.display.HTML object>"
      ]
     },
     "metadata": {},
     "output_type": "display_data"
    },
    {
     "data": {
      "text/html": [
       "Run data is saved locally in <code>/home/jwalraff/TFE/wandb/run-20250314_193737-coen9jcd</code>"
      ],
      "text/plain": [
       "<IPython.core.display.HTML object>"
      ]
     },
     "metadata": {},
     "output_type": "display_data"
    },
    {
     "data": {
      "text/html": [
       "Syncing run <strong><a href='https://wandb.ai/TFE-proteomics/MLP/runs/coen9jcd' target=\"_blank\">Test_MLP_Scratch_fold_1</a></strong> to <a href='https://wandb.ai/TFE-proteomics/MLP' target=\"_blank\">Weights & Biases</a> (<a href='https://wandb.me/run' target=\"_blank\">docs</a>)<br/>"
      ],
      "text/plain": [
       "<IPython.core.display.HTML object>"
      ]
     },
     "metadata": {},
     "output_type": "display_data"
    },
    {
     "data": {
      "text/html": [
       " View project at <a href='https://wandb.ai/TFE-proteomics/MLP' target=\"_blank\">https://wandb.ai/TFE-proteomics/MLP</a>"
      ],
      "text/plain": [
       "<IPython.core.display.HTML object>"
      ]
     },
     "metadata": {},
     "output_type": "display_data"
    },
    {
     "data": {
      "text/html": [
       " View run at <a href='https://wandb.ai/TFE-proteomics/MLP/runs/coen9jcd' target=\"_blank\">https://wandb.ai/TFE-proteomics/MLP/runs/coen9jcd</a>"
      ],
      "text/plain": [
       "<IPython.core.display.HTML object>"
      ]
     },
     "metadata": {},
     "output_type": "display_data"
    },
    {
     "data": {
      "application/vnd.jupyter.widget-view+json": {
       "model_id": "3f09c1bd7b1c41c88abb4ac477aacb26",
       "version_major": 2,
       "version_minor": 0
      },
      "text/plain": [
       "VBox(children=(Label(value='0.004 MB of 0.018 MB uploaded\\r'), FloatProgress(value=0.22499354505551253, max=1.…"
      ]
     },
     "metadata": {},
     "output_type": "display_data"
    },
    {
     "data": {
      "text/html": [
       "<style>\n",
       "    table.wandb td:nth-child(1) { padding: 0 10px; text-align: left ; width: auto;} td:nth-child(2) {text-align: left ; width: 100%}\n",
       "    .wandb-row { display: flex; flex-direction: row; flex-wrap: wrap; justify-content: flex-start; width: 100% }\n",
       "    .wandb-col { display: flex; flex-direction: column; flex-basis: 100%; flex: 1; padding: 10px; }\n",
       "    </style>\n",
       "<div class=\"wandb-row\"><div class=\"wandb-col\"><h3>Run history:</h3><br/><table class=\"wandb\"><tr><td>accuracy</td><td>▁</td></tr><tr><td>f1</td><td>▁</td></tr><tr><td>pr_auc</td><td>▁</td></tr><tr><td>precision</td><td>▁</td></tr><tr><td>recall</td><td>▁</td></tr><tr><td>roc_auc</td><td>▁</td></tr></table><br/></div><div class=\"wandb-col\"><h3>Run summary:</h3><br/><table class=\"wandb\"><tr><td>accuracy</td><td>0.77419</td></tr><tr><td>f1</td><td>0.0</td></tr><tr><td>pr_auc</td><td>0.32232</td></tr><tr><td>precision</td><td>0.0</td></tr><tr><td>recall</td><td>0.0</td></tr><tr><td>roc_auc</td><td>0.57143</td></tr></table><br/></div></div>"
      ],
      "text/plain": [
       "<IPython.core.display.HTML object>"
      ]
     },
     "metadata": {},
     "output_type": "display_data"
    },
    {
     "data": {
      "text/html": [
       " View run <strong style=\"color:#cdcd00\">Test_MLP_Scratch_fold_1</strong> at: <a href='https://wandb.ai/TFE-proteomics/MLP/runs/coen9jcd' target=\"_blank\">https://wandb.ai/TFE-proteomics/MLP/runs/coen9jcd</a><br/>Synced 5 W&B file(s), 0 media file(s), 0 artifact file(s) and 0 other file(s)"
      ],
      "text/plain": [
       "<IPython.core.display.HTML object>"
      ]
     },
     "metadata": {},
     "output_type": "display_data"
    },
    {
     "data": {
      "text/html": [
       "Find logs at: <code>./wandb/run-20250314_193737-coen9jcd/logs</code>"
      ],
      "text/plain": [
       "<IPython.core.display.HTML object>"
      ]
     },
     "metadata": {},
     "output_type": "display_data"
    },
    {
     "name": "stdout",
     "output_type": "stream",
     "text": [
      "Fold 2 on 5\n",
      "Testing config 1 on 48\n",
      "Early stopping triggered at 11 epoch.\n",
      "Testing config 2 on 48\n",
      "Early stopping triggered at 12 epoch.\n",
      "Testing config 3 on 48\n",
      "Early stopping triggered at 11 epoch.\n",
      "Testing config 4 on 48\n",
      "Early stopping triggered at 8 epoch.\n",
      "Testing config 5 on 48\n",
      "Early stopping triggered at 18 epoch.\n",
      "Testing config 6 on 48\n",
      "Early stopping triggered at 13 epoch.\n",
      "Testing config 7 on 48\n",
      "Early stopping triggered at 31 epoch.\n",
      "Testing config 8 on 48\n",
      "Early stopping triggered at 12 epoch.\n",
      "Testing config 9 on 48\n",
      "Early stopping triggered at 16 epoch.\n",
      "Testing config 10 on 48\n",
      "Early stopping triggered at 25 epoch.\n",
      "Testing config 11 on 48\n",
      "Early stopping triggered at 52 epoch.\n",
      "Testing config 12 on 48\n",
      "Early stopping triggered at 17 epoch.\n",
      "Testing config 13 on 48\n",
      "Early stopping triggered at 20 epoch.\n",
      "Testing config 14 on 48\n",
      "Early stopping triggered at 10 epoch.\n",
      "Testing config 15 on 48\n",
      "Early stopping triggered at 5 epoch.\n",
      "Testing config 16 on 48\n",
      "Early stopping triggered at 7 epoch.\n",
      "Testing config 17 on 48\n",
      "Early stopping triggered at 5 epoch.\n",
      "Testing config 18 on 48\n",
      "Early stopping triggered at 5 epoch.\n",
      "Testing config 19 on 48\n",
      "Early stopping triggered at 8 epoch.\n",
      "Testing config 20 on 48\n",
      "Early stopping triggered at 22 epoch.\n",
      "Testing config 21 on 48\n",
      "Early stopping triggered at 14 epoch.\n",
      "Testing config 22 on 48\n",
      "Early stopping triggered at 11 epoch.\n",
      "Testing config 23 on 48\n",
      "Early stopping triggered at 11 epoch.\n",
      "Testing config 24 on 48\n",
      "Early stopping triggered at 7 epoch.\n",
      "Testing config 25 on 48\n",
      "Early stopping triggered at 6 epoch.\n",
      "Testing config 26 on 48\n",
      "Early stopping triggered at 11 epoch.\n",
      "Testing config 27 on 48\n",
      "Early stopping triggered at 9 epoch.\n",
      "Testing config 28 on 48\n",
      "Early stopping triggered at 13 epoch.\n",
      "Testing config 29 on 48\n",
      "Early stopping triggered at 11 epoch.\n",
      "Testing config 30 on 48\n",
      "Early stopping triggered at 7 epoch.\n",
      "Testing config 31 on 48\n",
      "Early stopping triggered at 9 epoch.\n",
      "Testing config 32 on 48\n",
      "Early stopping triggered at 7 epoch.\n",
      "Testing config 33 on 48\n",
      "Early stopping triggered at 5 epoch.\n",
      "Testing config 34 on 48\n",
      "Early stopping triggered at 9 epoch.\n",
      "Testing config 35 on 48\n",
      "Early stopping triggered at 7 epoch.\n",
      "Testing config 36 on 48\n",
      "Early stopping triggered at 8 epoch.\n",
      "Testing config 37 on 48\n",
      "Early stopping triggered at 9 epoch.\n",
      "Testing config 38 on 48\n",
      "Early stopping triggered at 17 epoch.\n",
      "Testing config 39 on 48\n",
      "Early stopping triggered at 81 epoch.\n",
      "Testing config 40 on 48\n",
      "Early stopping triggered at 6 epoch.\n",
      "Testing config 41 on 48\n",
      "Early stopping triggered at 24 epoch.\n",
      "Testing config 42 on 48\n",
      "Early stopping triggered at 16 epoch.\n",
      "Testing config 43 on 48\n",
      "Early stopping triggered at 9 epoch.\n",
      "Testing config 44 on 48\n",
      "Early stopping triggered at 10 epoch.\n",
      "Testing config 45 on 48\n",
      "Early stopping triggered at 29 epoch.\n",
      "Testing config 46 on 48\n",
      "Early stopping triggered at 26 epoch.\n",
      "Testing config 47 on 48\n",
      "Early stopping triggered at 25 epoch.\n",
      "Testing config 48 on 48\n",
      "Early stopping triggered at 17 epoch.\n",
      "\n",
      "--------------------------------------Config Done--------------------------------------------\n",
      "\n"
     ]
    },
    {
     "data": {
      "text/html": [
       "wandb version 0.19.8 is available!  To upgrade, please run:\n",
       " $ pip install wandb --upgrade"
      ],
      "text/plain": [
       "<IPython.core.display.HTML object>"
      ]
     },
     "metadata": {},
     "output_type": "display_data"
    },
    {
     "data": {
      "text/html": [
       "Tracking run with wandb version 0.16.4"
      ],
      "text/plain": [
       "<IPython.core.display.HTML object>"
      ]
     },
     "metadata": {},
     "output_type": "display_data"
    },
    {
     "data": {
      "text/html": [
       "Run data is saved locally in <code>/home/jwalraff/TFE/wandb/run-20250314_193755-v5wm5h01</code>"
      ],
      "text/plain": [
       "<IPython.core.display.HTML object>"
      ]
     },
     "metadata": {},
     "output_type": "display_data"
    },
    {
     "data": {
      "text/html": [
       "Syncing run <strong><a href='https://wandb.ai/TFE-proteomics/MLP/runs/v5wm5h01' target=\"_blank\">Test_MLP_Scratch_fold_2</a></strong> to <a href='https://wandb.ai/TFE-proteomics/MLP' target=\"_blank\">Weights & Biases</a> (<a href='https://wandb.me/run' target=\"_blank\">docs</a>)<br/>"
      ],
      "text/plain": [
       "<IPython.core.display.HTML object>"
      ]
     },
     "metadata": {},
     "output_type": "display_data"
    },
    {
     "data": {
      "text/html": [
       " View project at <a href='https://wandb.ai/TFE-proteomics/MLP' target=\"_blank\">https://wandb.ai/TFE-proteomics/MLP</a>"
      ],
      "text/plain": [
       "<IPython.core.display.HTML object>"
      ]
     },
     "metadata": {},
     "output_type": "display_data"
    },
    {
     "data": {
      "text/html": [
       " View run at <a href='https://wandb.ai/TFE-proteomics/MLP/runs/v5wm5h01' target=\"_blank\">https://wandb.ai/TFE-proteomics/MLP/runs/v5wm5h01</a>"
      ],
      "text/plain": [
       "<IPython.core.display.HTML object>"
      ]
     },
     "metadata": {},
     "output_type": "display_data"
    },
    {
     "data": {
      "application/vnd.jupyter.widget-view+json": {
       "model_id": "65b9f7f1953242b18c5aab37e9521320",
       "version_major": 2,
       "version_minor": 0
      },
      "text/plain": [
       "VBox(children=(Label(value='0.004 MB of 0.018 MB uploaded\\r'), FloatProgress(value=0.22754616310090495, max=1.…"
      ]
     },
     "metadata": {},
     "output_type": "display_data"
    },
    {
     "data": {
      "text/html": [
       "<style>\n",
       "    table.wandb td:nth-child(1) { padding: 0 10px; text-align: left ; width: auto;} td:nth-child(2) {text-align: left ; width: 100%}\n",
       "    .wandb-row { display: flex; flex-direction: row; flex-wrap: wrap; justify-content: flex-start; width: 100% }\n",
       "    .wandb-col { display: flex; flex-direction: column; flex-basis: 100%; flex: 1; padding: 10px; }\n",
       "    </style>\n",
       "<div class=\"wandb-row\"><div class=\"wandb-col\"><h3>Run history:</h3><br/><table class=\"wandb\"><tr><td>accuracy</td><td>▁</td></tr><tr><td>f1</td><td>▁</td></tr><tr><td>pr_auc</td><td>▁</td></tr><tr><td>precision</td><td>▁</td></tr><tr><td>recall</td><td>▁</td></tr><tr><td>roc_auc</td><td>▁</td></tr></table><br/></div><div class=\"wandb-col\"><h3>Run summary:</h3><br/><table class=\"wandb\"><tr><td>accuracy</td><td>0.67742</td></tr><tr><td>f1</td><td>0.0</td></tr><tr><td>pr_auc</td><td>0.30957</td></tr><tr><td>precision</td><td>0.0</td></tr><tr><td>recall</td><td>0.0</td></tr><tr><td>roc_auc</td><td>0.6369</td></tr></table><br/></div></div>"
      ],
      "text/plain": [
       "<IPython.core.display.HTML object>"
      ]
     },
     "metadata": {},
     "output_type": "display_data"
    },
    {
     "data": {
      "text/html": [
       " View run <strong style=\"color:#cdcd00\">Test_MLP_Scratch_fold_2</strong> at: <a href='https://wandb.ai/TFE-proteomics/MLP/runs/v5wm5h01' target=\"_blank\">https://wandb.ai/TFE-proteomics/MLP/runs/v5wm5h01</a><br/>Synced 5 W&B file(s), 0 media file(s), 0 artifact file(s) and 0 other file(s)"
      ],
      "text/plain": [
       "<IPython.core.display.HTML object>"
      ]
     },
     "metadata": {},
     "output_type": "display_data"
    },
    {
     "data": {
      "text/html": [
       "Find logs at: <code>./wandb/run-20250314_193755-v5wm5h01/logs</code>"
      ],
      "text/plain": [
       "<IPython.core.display.HTML object>"
      ]
     },
     "metadata": {},
     "output_type": "display_data"
    },
    {
     "name": "stdout",
     "output_type": "stream",
     "text": [
      "Fold 3 on 5\n",
      "Testing config 1 on 48\n",
      "Early stopping triggered at 34 epoch.\n",
      "Testing config 2 on 48\n",
      "Early stopping triggered at 29 epoch.\n",
      "Testing config 3 on 48\n",
      "Early stopping triggered at 20 epoch.\n",
      "Testing config 4 on 48\n",
      "Early stopping triggered at 12 epoch.\n",
      "Testing config 5 on 48\n",
      "Early stopping triggered at 71 epoch.\n",
      "Testing config 6 on 48\n",
      "Early stopping triggered at 34 epoch.\n",
      "Testing config 7 on 48\n",
      "Early stopping triggered at 44 epoch.\n",
      "Testing config 8 on 48\n",
      "Early stopping triggered at 9 epoch.\n",
      "Testing config 9 on 48\n",
      "Early stopping triggered at 75 epoch.\n",
      "Testing config 10 on 48\n",
      "Early stopping triggered at 27 epoch.\n",
      "Testing config 11 on 48\n",
      "Early stopping triggered at 47 epoch.\n",
      "Testing config 12 on 48\n",
      "Early stopping triggered at 15 epoch.\n",
      "Testing config 13 on 48\n",
      "Early stopping triggered at 6 epoch.\n",
      "Testing config 14 on 48\n",
      "Early stopping triggered at 16 epoch.\n",
      "Testing config 15 on 48\n",
      "Early stopping triggered at 37 epoch.\n",
      "Testing config 16 on 48\n",
      "Early stopping triggered at 12 epoch.\n",
      "Testing config 17 on 48\n",
      "Early stopping triggered at 11 epoch.\n",
      "Testing config 18 on 48\n",
      "Early stopping triggered at 13 epoch.\n",
      "Testing config 19 on 48\n",
      "Early stopping triggered at 20 epoch.\n",
      "Testing config 20 on 48\n",
      "Early stopping triggered at 32 epoch.\n",
      "Testing config 21 on 48\n",
      "Early stopping triggered at 24 epoch.\n",
      "Testing config 22 on 48\n",
      "Early stopping triggered at 48 epoch.\n",
      "Testing config 23 on 48\n",
      "Early stopping triggered at 30 epoch.\n",
      "Testing config 24 on 48\n",
      "Early stopping triggered at 42 epoch.\n",
      "Testing config 25 on 48\n",
      "Early stopping triggered at 13 epoch.\n",
      "Testing config 26 on 48\n",
      "Early stopping triggered at 12 epoch.\n",
      "Testing config 27 on 48\n",
      "Early stopping triggered at 26 epoch.\n",
      "Testing config 28 on 48\n",
      "Early stopping triggered at 18 epoch.\n",
      "Testing config 29 on 48\n",
      "Early stopping triggered at 8 epoch.\n",
      "Testing config 30 on 48\n",
      "Early stopping triggered at 13 epoch.\n",
      "Testing config 31 on 48\n",
      "Early stopping triggered at 18 epoch.\n",
      "Testing config 32 on 48\n",
      "Early stopping triggered at 13 epoch.\n",
      "Testing config 33 on 48\n",
      "Early stopping triggered at 10 epoch.\n",
      "Testing config 34 on 48\n",
      "Early stopping triggered at 8 epoch.\n",
      "Testing config 35 on 48\n",
      "Early stopping triggered at 14 epoch.\n",
      "Testing config 36 on 48\n",
      "Early stopping triggered at 29 epoch.\n",
      "Testing config 37 on 48\n",
      "Early stopping triggered at 10 epoch.\n",
      "Testing config 38 on 48\n",
      "Early stopping triggered at 29 epoch.\n",
      "Testing config 39 on 48\n",
      "Early stopping triggered at 11 epoch.\n",
      "Testing config 40 on 48\n",
      "Early stopping triggered at 36 epoch.\n",
      "Testing config 41 on 48\n",
      "Early stopping triggered at 46 epoch.\n",
      "Testing config 42 on 48\n",
      "Early stopping triggered at 27 epoch.\n",
      "Testing config 43 on 48\n",
      "Early stopping triggered at 20 epoch.\n",
      "Testing config 44 on 48\n",
      "Early stopping triggered at 17 epoch.\n",
      "Testing config 45 on 48\n",
      "Early stopping triggered at 34 epoch.\n",
      "Testing config 46 on 48\n",
      "Early stopping triggered at 23 epoch.\n",
      "Testing config 47 on 48\n",
      "Early stopping triggered at 11 epoch.\n",
      "Testing config 48 on 48\n",
      "Early stopping triggered at 9 epoch.\n",
      "\n",
      "--------------------------------------Config Done--------------------------------------------\n",
      "\n"
     ]
    },
    {
     "data": {
      "text/html": [
       "wandb version 0.19.8 is available!  To upgrade, please run:\n",
       " $ pip install wandb --upgrade"
      ],
      "text/plain": [
       "<IPython.core.display.HTML object>"
      ]
     },
     "metadata": {},
     "output_type": "display_data"
    },
    {
     "data": {
      "text/html": [
       "Tracking run with wandb version 0.16.4"
      ],
      "text/plain": [
       "<IPython.core.display.HTML object>"
      ]
     },
     "metadata": {},
     "output_type": "display_data"
    },
    {
     "data": {
      "text/html": [
       "Run data is saved locally in <code>/home/jwalraff/TFE/wandb/run-20250314_193820-juqnr8ye</code>"
      ],
      "text/plain": [
       "<IPython.core.display.HTML object>"
      ]
     },
     "metadata": {},
     "output_type": "display_data"
    },
    {
     "data": {
      "text/html": [
       "Syncing run <strong><a href='https://wandb.ai/TFE-proteomics/MLP/runs/juqnr8ye' target=\"_blank\">Test_MLP_Scratch_fold_3</a></strong> to <a href='https://wandb.ai/TFE-proteomics/MLP' target=\"_blank\">Weights & Biases</a> (<a href='https://wandb.me/run' target=\"_blank\">docs</a>)<br/>"
      ],
      "text/plain": [
       "<IPython.core.display.HTML object>"
      ]
     },
     "metadata": {},
     "output_type": "display_data"
    },
    {
     "data": {
      "text/html": [
       " View project at <a href='https://wandb.ai/TFE-proteomics/MLP' target=\"_blank\">https://wandb.ai/TFE-proteomics/MLP</a>"
      ],
      "text/plain": [
       "<IPython.core.display.HTML object>"
      ]
     },
     "metadata": {},
     "output_type": "display_data"
    },
    {
     "data": {
      "text/html": [
       " View run at <a href='https://wandb.ai/TFE-proteomics/MLP/runs/juqnr8ye' target=\"_blank\">https://wandb.ai/TFE-proteomics/MLP/runs/juqnr8ye</a>"
      ],
      "text/plain": [
       "<IPython.core.display.HTML object>"
      ]
     },
     "metadata": {},
     "output_type": "display_data"
    },
    {
     "data": {
      "application/vnd.jupyter.widget-view+json": {
       "model_id": "61a48e615956404b942d8b723b482e6d",
       "version_major": 2,
       "version_minor": 0
      },
      "text/plain": [
       "VBox(children=(Label(value='0.004 MB of 0.018 MB uploaded\\r'), FloatProgress(value=0.2248529866914268, max=1.0…"
      ]
     },
     "metadata": {},
     "output_type": "display_data"
    },
    {
     "data": {
      "text/html": [
       "<style>\n",
       "    table.wandb td:nth-child(1) { padding: 0 10px; text-align: left ; width: auto;} td:nth-child(2) {text-align: left ; width: 100%}\n",
       "    .wandb-row { display: flex; flex-direction: row; flex-wrap: wrap; justify-content: flex-start; width: 100% }\n",
       "    .wandb-col { display: flex; flex-direction: column; flex-basis: 100%; flex: 1; padding: 10px; }\n",
       "    </style>\n",
       "<div class=\"wandb-row\"><div class=\"wandb-col\"><h3>Run history:</h3><br/><table class=\"wandb\"><tr><td>accuracy</td><td>▁</td></tr><tr><td>f1</td><td>▁</td></tr><tr><td>pr_auc</td><td>▁</td></tr><tr><td>precision</td><td>▁</td></tr><tr><td>recall</td><td>▁</td></tr><tr><td>roc_auc</td><td>▁</td></tr></table><br/></div><div class=\"wandb-col\"><h3>Run summary:</h3><br/><table class=\"wandb\"><tr><td>accuracy</td><td>0.64516</td></tr><tr><td>f1</td><td>0.15385</td></tr><tr><td>pr_auc</td><td>0.35761</td></tr><tr><td>precision</td><td>0.2</td></tr><tr><td>recall</td><td>0.125</td></tr><tr><td>roc_auc</td><td>0.47826</td></tr></table><br/></div></div>"
      ],
      "text/plain": [
       "<IPython.core.display.HTML object>"
      ]
     },
     "metadata": {},
     "output_type": "display_data"
    },
    {
     "data": {
      "text/html": [
       " View run <strong style=\"color:#cdcd00\">Test_MLP_Scratch_fold_3</strong> at: <a href='https://wandb.ai/TFE-proteomics/MLP/runs/juqnr8ye' target=\"_blank\">https://wandb.ai/TFE-proteomics/MLP/runs/juqnr8ye</a><br/>Synced 5 W&B file(s), 0 media file(s), 0 artifact file(s) and 0 other file(s)"
      ],
      "text/plain": [
       "<IPython.core.display.HTML object>"
      ]
     },
     "metadata": {},
     "output_type": "display_data"
    },
    {
     "data": {
      "text/html": [
       "Find logs at: <code>./wandb/run-20250314_193820-juqnr8ye/logs</code>"
      ],
      "text/plain": [
       "<IPython.core.display.HTML object>"
      ]
     },
     "metadata": {},
     "output_type": "display_data"
    },
    {
     "name": "stdout",
     "output_type": "stream",
     "text": [
      "Fold 4 on 5\n",
      "Testing config 1 on 48\n",
      "Early stopping triggered at 6 epoch.\n",
      "Testing config 2 on 48\n",
      "Early stopping triggered at 11 epoch.\n",
      "Testing config 3 on 48\n",
      "Early stopping triggered at 41 epoch.\n",
      "Testing config 4 on 48\n",
      "Early stopping triggered at 15 epoch.\n",
      "Testing config 5 on 48\n",
      "Early stopping triggered at 49 epoch.\n",
      "Testing config 6 on 48\n",
      "Early stopping triggered at 71 epoch.\n",
      "Testing config 7 on 48\n",
      "Early stopping triggered at 55 epoch.\n",
      "Testing config 8 on 48\n",
      "Early stopping triggered at 11 epoch.\n",
      "Testing config 9 on 48\n",
      "Early stopping triggered at 75 epoch.\n",
      "Testing config 10 on 48\n",
      "Early stopping triggered at 18 epoch.\n",
      "Testing config 11 on 48\n",
      "Early stopping triggered at 34 epoch.\n",
      "Testing config 12 on 48\n",
      "Early stopping triggered at 27 epoch.\n",
      "Testing config 13 on 48\n",
      "Early stopping triggered at 14 epoch.\n",
      "Testing config 14 on 48\n",
      "Early stopping triggered at 9 epoch.\n",
      "Testing config 15 on 48\n",
      "Early stopping triggered at 5 epoch.\n",
      "Testing config 16 on 48\n",
      "Early stopping triggered at 38 epoch.\n",
      "Testing config 17 on 48\n",
      "Early stopping triggered at 20 epoch.\n",
      "Testing config 18 on 48\n",
      "Early stopping triggered at 37 epoch.\n",
      "Testing config 19 on 48\n",
      "Early stopping triggered at 14 epoch.\n",
      "Testing config 20 on 48\n",
      "Early stopping triggered at 28 epoch.\n",
      "Testing config 21 on 48\n",
      "Early stopping triggered at 11 epoch.\n",
      "Testing config 22 on 48\n",
      "Early stopping triggered at 14 epoch.\n",
      "Testing config 23 on 48\n",
      "Early stopping triggered at 19 epoch.\n",
      "Testing config 24 on 48\n",
      "Early stopping triggered at 16 epoch.\n",
      "Testing config 25 on 48\n",
      "Early stopping triggered at 7 epoch.\n",
      "Testing config 26 on 48\n",
      "Early stopping triggered at 11 epoch.\n",
      "Testing config 27 on 48\n",
      "Early stopping triggered at 14 epoch.\n",
      "Testing config 28 on 48\n",
      "Early stopping triggered at 18 epoch.\n",
      "Testing config 29 on 48\n",
      "Early stopping triggered at 8 epoch.\n",
      "Testing config 30 on 48\n",
      "Early stopping triggered at 20 epoch.\n",
      "Testing config 31 on 48\n",
      "Early stopping triggered at 9 epoch.\n",
      "Testing config 32 on 48\n",
      "Early stopping triggered at 13 epoch.\n",
      "Testing config 33 on 48\n",
      "Early stopping triggered at 18 epoch.\n",
      "Testing config 34 on 48\n",
      "Early stopping triggered at 10 epoch.\n",
      "Testing config 35 on 48\n",
      "Early stopping triggered at 20 epoch.\n",
      "Testing config 36 on 48\n",
      "Early stopping triggered at 9 epoch.\n",
      "Testing config 37 on 48\n",
      "Early stopping triggered at 20 epoch.\n",
      "Testing config 38 on 48\n",
      "Early stopping triggered at 10 epoch.\n",
      "Testing config 39 on 48\n",
      "Early stopping triggered at 11 epoch.\n",
      "Testing config 40 on 48\n",
      "Early stopping triggered at 23 epoch.\n",
      "Testing config 41 on 48\n",
      "Early stopping triggered at 24 epoch.\n",
      "Testing config 42 on 48\n",
      "Early stopping triggered at 18 epoch.\n",
      "Testing config 43 on 48\n",
      "Early stopping triggered at 17 epoch.\n",
      "Testing config 44 on 48\n",
      "Early stopping triggered at 20 epoch.\n",
      "Testing config 45 on 48\n",
      "Early stopping triggered at 24 epoch.\n",
      "Testing config 46 on 48\n",
      "Early stopping triggered at 10 epoch.\n",
      "Testing config 47 on 48\n",
      "Early stopping triggered at 25 epoch.\n",
      "Testing config 48 on 48\n",
      "Early stopping triggered at 36 epoch.\n",
      "\n",
      "--------------------------------------Config Done--------------------------------------------\n",
      "\n"
     ]
    },
    {
     "data": {
      "text/html": [
       "wandb version 0.19.8 is available!  To upgrade, please run:\n",
       " $ pip install wandb --upgrade"
      ],
      "text/plain": [
       "<IPython.core.display.HTML object>"
      ]
     },
     "metadata": {},
     "output_type": "display_data"
    },
    {
     "data": {
      "text/html": [
       "Tracking run with wandb version 0.16.4"
      ],
      "text/plain": [
       "<IPython.core.display.HTML object>"
      ]
     },
     "metadata": {},
     "output_type": "display_data"
    },
    {
     "data": {
      "text/html": [
       "Run data is saved locally in <code>/home/jwalraff/TFE/wandb/run-20250314_193842-qp451ts3</code>"
      ],
      "text/plain": [
       "<IPython.core.display.HTML object>"
      ]
     },
     "metadata": {},
     "output_type": "display_data"
    },
    {
     "data": {
      "text/html": [
       "Syncing run <strong><a href='https://wandb.ai/TFE-proteomics/MLP/runs/qp451ts3' target=\"_blank\">Test_MLP_Scratch_fold_4</a></strong> to <a href='https://wandb.ai/TFE-proteomics/MLP' target=\"_blank\">Weights & Biases</a> (<a href='https://wandb.me/run' target=\"_blank\">docs</a>)<br/>"
      ],
      "text/plain": [
       "<IPython.core.display.HTML object>"
      ]
     },
     "metadata": {},
     "output_type": "display_data"
    },
    {
     "data": {
      "text/html": [
       " View project at <a href='https://wandb.ai/TFE-proteomics/MLP' target=\"_blank\">https://wandb.ai/TFE-proteomics/MLP</a>"
      ],
      "text/plain": [
       "<IPython.core.display.HTML object>"
      ]
     },
     "metadata": {},
     "output_type": "display_data"
    },
    {
     "data": {
      "text/html": [
       " View run at <a href='https://wandb.ai/TFE-proteomics/MLP/runs/qp451ts3' target=\"_blank\">https://wandb.ai/TFE-proteomics/MLP/runs/qp451ts3</a>"
      ],
      "text/plain": [
       "<IPython.core.display.HTML object>"
      ]
     },
     "metadata": {},
     "output_type": "display_data"
    },
    {
     "data": {
      "application/vnd.jupyter.widget-view+json": {
       "model_id": "6603ee63732b4aa1abbb2c26b8a5f2a7",
       "version_major": 2,
       "version_minor": 0
      },
      "text/plain": [
       "VBox(children=(Label(value='0.004 MB of 0.018 MB uploaded\\r'), FloatProgress(value=0.2273440770196735, max=1.0…"
      ]
     },
     "metadata": {},
     "output_type": "display_data"
    },
    {
     "data": {
      "text/html": [
       "<style>\n",
       "    table.wandb td:nth-child(1) { padding: 0 10px; text-align: left ; width: auto;} td:nth-child(2) {text-align: left ; width: 100%}\n",
       "    .wandb-row { display: flex; flex-direction: row; flex-wrap: wrap; justify-content: flex-start; width: 100% }\n",
       "    .wandb-col { display: flex; flex-direction: column; flex-basis: 100%; flex: 1; padding: 10px; }\n",
       "    </style>\n",
       "<div class=\"wandb-row\"><div class=\"wandb-col\"><h3>Run history:</h3><br/><table class=\"wandb\"><tr><td>accuracy</td><td>▁</td></tr><tr><td>f1</td><td>▁</td></tr><tr><td>pr_auc</td><td>▁</td></tr><tr><td>precision</td><td>▁</td></tr><tr><td>recall</td><td>▁</td></tr><tr><td>roc_auc</td><td>▁</td></tr></table><br/></div><div class=\"wandb-col\"><h3>Run summary:</h3><br/><table class=\"wandb\"><tr><td>accuracy</td><td>0.77419</td></tr><tr><td>f1</td><td>0.46154</td></tr><tr><td>pr_auc</td><td>0.60906</td></tr><tr><td>precision</td><td>0.6</td></tr><tr><td>recall</td><td>0.375</td></tr><tr><td>roc_auc</td><td>0.77174</td></tr></table><br/></div></div>"
      ],
      "text/plain": [
       "<IPython.core.display.HTML object>"
      ]
     },
     "metadata": {},
     "output_type": "display_data"
    },
    {
     "data": {
      "text/html": [
       " View run <strong style=\"color:#cdcd00\">Test_MLP_Scratch_fold_4</strong> at: <a href='https://wandb.ai/TFE-proteomics/MLP/runs/qp451ts3' target=\"_blank\">https://wandb.ai/TFE-proteomics/MLP/runs/qp451ts3</a><br/>Synced 5 W&B file(s), 0 media file(s), 0 artifact file(s) and 0 other file(s)"
      ],
      "text/plain": [
       "<IPython.core.display.HTML object>"
      ]
     },
     "metadata": {},
     "output_type": "display_data"
    },
    {
     "data": {
      "text/html": [
       "Find logs at: <code>./wandb/run-20250314_193842-qp451ts3/logs</code>"
      ],
      "text/plain": [
       "<IPython.core.display.HTML object>"
      ]
     },
     "metadata": {},
     "output_type": "display_data"
    },
    {
     "name": "stdout",
     "output_type": "stream",
     "text": [
      "Fold 5 on 5\n",
      "Testing config 1 on 48\n",
      "Early stopping triggered at 42 epoch.\n",
      "Testing config 2 on 48\n",
      "Early stopping triggered at 21 epoch.\n",
      "Testing config 3 on 48\n",
      "Early stopping triggered at 6 epoch.\n",
      "Testing config 4 on 48\n",
      "Early stopping triggered at 26 epoch.\n",
      "Testing config 5 on 48\n",
      "Early stopping triggered at 14 epoch.\n",
      "Testing config 6 on 48\n",
      "Early stopping triggered at 25 epoch.\n",
      "Testing config 7 on 48\n",
      "Early stopping triggered at 73 epoch.\n",
      "Testing config 8 on 48\n",
      "Early stopping triggered at 31 epoch.\n",
      "Testing config 9 on 48\n",
      "Early stopping triggered at 87 epoch.\n",
      "Testing config 10 on 48\n",
      "Early stopping triggered at 30 epoch.\n",
      "Testing config 11 on 48\n",
      "Early stopping triggered at 47 epoch.\n",
      "Testing config 12 on 48\n",
      "Early stopping triggered at 27 epoch.\n",
      "Testing config 13 on 48\n",
      "Early stopping triggered at 34 epoch.\n",
      "Testing config 14 on 48\n",
      "Early stopping triggered at 9 epoch.\n",
      "Testing config 15 on 48\n",
      "Early stopping triggered at 10 epoch.\n",
      "Testing config 16 on 48\n",
      "Early stopping triggered at 8 epoch.\n",
      "Testing config 17 on 48\n",
      "Early stopping triggered at 12 epoch.\n",
      "Testing config 18 on 48\n",
      "Early stopping triggered at 20 epoch.\n",
      "Testing config 19 on 48\n",
      "Early stopping triggered at 14 epoch.\n",
      "Testing config 20 on 48\n",
      "Early stopping triggered at 31 epoch.\n",
      "Testing config 21 on 48\n",
      "Early stopping triggered at 26 epoch.\n",
      "Testing config 22 on 48\n",
      "Early stopping triggered at 9 epoch.\n",
      "Testing config 23 on 48\n",
      "Early stopping triggered at 18 epoch.\n",
      "Testing config 24 on 48\n",
      "Early stopping triggered at 5 epoch.\n",
      "Testing config 25 on 48\n",
      "Early stopping triggered at 7 epoch.\n",
      "Testing config 26 on 48\n",
      "Early stopping triggered at 11 epoch.\n",
      "Testing config 27 on 48\n",
      "Early stopping triggered at 11 epoch.\n",
      "Testing config 28 on 48\n",
      "Early stopping triggered at 14 epoch.\n",
      "Testing config 29 on 48\n",
      "Early stopping triggered at 8 epoch.\n",
      "Testing config 30 on 48\n",
      "Early stopping triggered at 7 epoch.\n",
      "Testing config 31 on 48\n",
      "Early stopping triggered at 5 epoch.\n",
      "Testing config 32 on 48\n",
      "Early stopping triggered at 7 epoch.\n",
      "Testing config 33 on 48\n",
      "Early stopping triggered at 8 epoch.\n",
      "Testing config 34 on 48\n",
      "Early stopping triggered at 9 epoch.\n",
      "Testing config 35 on 48\n",
      "Early stopping triggered at 10 epoch.\n",
      "Testing config 36 on 48\n",
      "Early stopping triggered at 28 epoch.\n",
      "Testing config 37 on 48\n",
      "Early stopping triggered at 22 epoch.\n",
      "Testing config 38 on 48\n",
      "Early stopping triggered at 36 epoch.\n",
      "Testing config 39 on 48\n",
      "Early stopping triggered at 20 epoch.\n",
      "Testing config 40 on 48\n",
      "Early stopping triggered at 26 epoch.\n",
      "Testing config 41 on 48\n",
      "Early stopping triggered at 48 epoch.\n",
      "Testing config 42 on 48\n",
      "Early stopping triggered at 22 epoch.\n",
      "Testing config 43 on 48\n",
      "Early stopping triggered at 25 epoch.\n",
      "Testing config 44 on 48\n",
      "Early stopping triggered at 33 epoch.\n",
      "Testing config 45 on 48\n",
      "Early stopping triggered at 23 epoch.\n",
      "Testing config 46 on 48\n",
      "Early stopping triggered at 12 epoch.\n",
      "Testing config 47 on 48\n",
      "Early stopping triggered at 20 epoch.\n",
      "Testing config 48 on 48\n",
      "Early stopping triggered at 26 epoch.\n",
      "\n",
      "--------------------------------------Config Done--------------------------------------------\n",
      "\n"
     ]
    },
    {
     "data": {
      "text/html": [
       "wandb version 0.19.8 is available!  To upgrade, please run:\n",
       " $ pip install wandb --upgrade"
      ],
      "text/plain": [
       "<IPython.core.display.HTML object>"
      ]
     },
     "metadata": {},
     "output_type": "display_data"
    },
    {
     "data": {
      "text/html": [
       "Tracking run with wandb version 0.16.4"
      ],
      "text/plain": [
       "<IPython.core.display.HTML object>"
      ]
     },
     "metadata": {},
     "output_type": "display_data"
    },
    {
     "data": {
      "text/html": [
       "Run data is saved locally in <code>/home/jwalraff/TFE/wandb/run-20250314_193905-u0v59x05</code>"
      ],
      "text/plain": [
       "<IPython.core.display.HTML object>"
      ]
     },
     "metadata": {},
     "output_type": "display_data"
    },
    {
     "data": {
      "text/html": [
       "Syncing run <strong><a href='https://wandb.ai/TFE-proteomics/MLP/runs/u0v59x05' target=\"_blank\">Test_MLP_Scratch_fold_5</a></strong> to <a href='https://wandb.ai/TFE-proteomics/MLP' target=\"_blank\">Weights & Biases</a> (<a href='https://wandb.me/run' target=\"_blank\">docs</a>)<br/>"
      ],
      "text/plain": [
       "<IPython.core.display.HTML object>"
      ]
     },
     "metadata": {},
     "output_type": "display_data"
    },
    {
     "data": {
      "text/html": [
       " View project at <a href='https://wandb.ai/TFE-proteomics/MLP' target=\"_blank\">https://wandb.ai/TFE-proteomics/MLP</a>"
      ],
      "text/plain": [
       "<IPython.core.display.HTML object>"
      ]
     },
     "metadata": {},
     "output_type": "display_data"
    },
    {
     "data": {
      "text/html": [
       " View run at <a href='https://wandb.ai/TFE-proteomics/MLP/runs/u0v59x05' target=\"_blank\">https://wandb.ai/TFE-proteomics/MLP/runs/u0v59x05</a>"
      ],
      "text/plain": [
       "<IPython.core.display.HTML object>"
      ]
     },
     "metadata": {},
     "output_type": "display_data"
    },
    {
     "data": {
      "application/vnd.jupyter.widget-view+json": {
       "model_id": "5215c01a89dc43919e41c5f5c694e4b0",
       "version_major": 2,
       "version_minor": 0
      },
      "text/plain": [
       "VBox(children=(Label(value='0.004 MB of 0.018 MB uploaded\\r'), FloatProgress(value=0.2241023524556335, max=1.0…"
      ]
     },
     "metadata": {},
     "output_type": "display_data"
    },
    {
     "data": {
      "text/html": [
       "<style>\n",
       "    table.wandb td:nth-child(1) { padding: 0 10px; text-align: left ; width: auto;} td:nth-child(2) {text-align: left ; width: 100%}\n",
       "    .wandb-row { display: flex; flex-direction: row; flex-wrap: wrap; justify-content: flex-start; width: 100% }\n",
       "    .wandb-col { display: flex; flex-direction: column; flex-basis: 100%; flex: 1; padding: 10px; }\n",
       "    </style>\n",
       "<div class=\"wandb-row\"><div class=\"wandb-col\"><h3>Run history:</h3><br/><table class=\"wandb\"><tr><td>accuracy</td><td>▁</td></tr><tr><td>f1</td><td>▁</td></tr><tr><td>pr_auc</td><td>▁</td></tr><tr><td>precision</td><td>▁</td></tr><tr><td>recall</td><td>▁</td></tr><tr><td>roc_auc</td><td>▁</td></tr></table><br/></div><div class=\"wandb-col\"><h3>Run summary:</h3><br/><table class=\"wandb\"><tr><td>accuracy</td><td>0.70968</td></tr><tr><td>f1</td><td>0.18182</td></tr><tr><td>pr_auc</td><td>0.34141</td></tr><tr><td>precision</td><td>0.33333</td></tr><tr><td>recall</td><td>0.125</td></tr><tr><td>roc_auc</td><td>0.58152</td></tr></table><br/></div></div>"
      ],
      "text/plain": [
       "<IPython.core.display.HTML object>"
      ]
     },
     "metadata": {},
     "output_type": "display_data"
    },
    {
     "data": {
      "text/html": [
       " View run <strong style=\"color:#cdcd00\">Test_MLP_Scratch_fold_5</strong> at: <a href='https://wandb.ai/TFE-proteomics/MLP/runs/u0v59x05' target=\"_blank\">https://wandb.ai/TFE-proteomics/MLP/runs/u0v59x05</a><br/>Synced 5 W&B file(s), 0 media file(s), 0 artifact file(s) and 0 other file(s)"
      ],
      "text/plain": [
       "<IPython.core.display.HTML object>"
      ]
     },
     "metadata": {},
     "output_type": "display_data"
    },
    {
     "data": {
      "text/html": [
       "Find logs at: <code>./wandb/run-20250314_193905-u0v59x05/logs</code>"
      ],
      "text/plain": [
       "<IPython.core.display.HTML object>"
      ]
     },
     "metadata": {},
     "output_type": "display_data"
    },
    {
     "data": {
      "application/vnd.jupyter.widget-view+json": {
       "model_id": "e6ea12459dbe433891839b0b1e157b72",
       "version_major": 2,
       "version_minor": 0
      },
      "text/plain": [
       "VBox(children=(Label(value='Waiting for wandb.init()...\\r'), FloatProgress(value=0.011112215576900376, max=1.0…"
      ]
     },
     "metadata": {},
     "output_type": "display_data"
    },
    {
     "data": {
      "text/html": [
       "wandb version 0.19.8 is available!  To upgrade, please run:\n",
       " $ pip install wandb --upgrade"
      ],
      "text/plain": [
       "<IPython.core.display.HTML object>"
      ]
     },
     "metadata": {},
     "output_type": "display_data"
    },
    {
     "data": {
      "text/html": [
       "Tracking run with wandb version 0.16.4"
      ],
      "text/plain": [
       "<IPython.core.display.HTML object>"
      ]
     },
     "metadata": {},
     "output_type": "display_data"
    },
    {
     "data": {
      "text/html": [
       "Run data is saved locally in <code>/home/jwalraff/TFE/wandb/run-20250314_193914-65wt0zst</code>"
      ],
      "text/plain": [
       "<IPython.core.display.HTML object>"
      ]
     },
     "metadata": {},
     "output_type": "display_data"
    },
    {
     "data": {
      "text/html": [
       "Syncing run <strong><a href='https://wandb.ai/TFE-proteomics/MLP/runs/65wt0zst' target=\"_blank\">Test_MLP_Scratch_CrossValidation_Summary</a></strong> to <a href='https://wandb.ai/TFE-proteomics/MLP' target=\"_blank\">Weights & Biases</a> (<a href='https://wandb.me/run' target=\"_blank\">docs</a>)<br/>"
      ],
      "text/plain": [
       "<IPython.core.display.HTML object>"
      ]
     },
     "metadata": {},
     "output_type": "display_data"
    },
    {
     "data": {
      "text/html": [
       " View project at <a href='https://wandb.ai/TFE-proteomics/MLP' target=\"_blank\">https://wandb.ai/TFE-proteomics/MLP</a>"
      ],
      "text/plain": [
       "<IPython.core.display.HTML object>"
      ]
     },
     "metadata": {},
     "output_type": "display_data"
    },
    {
     "data": {
      "text/html": [
       " View run at <a href='https://wandb.ai/TFE-proteomics/MLP/runs/65wt0zst' target=\"_blank\">https://wandb.ai/TFE-proteomics/MLP/runs/65wt0zst</a>"
      ],
      "text/plain": [
       "<IPython.core.display.HTML object>"
      ]
     },
     "metadata": {},
     "output_type": "display_data"
    },
    {
     "data": {
      "application/vnd.jupyter.widget-view+json": {
       "model_id": "d5fdab2334a548b5a43af329e928fd45",
       "version_major": 2,
       "version_minor": 0
      },
      "text/plain": [
       "VBox(children=(Label(value='0.004 MB of 0.019 MB uploaded\\r'), FloatProgress(value=0.22198462400081462, max=1.…"
      ]
     },
     "metadata": {},
     "output_type": "display_data"
    },
    {
     "data": {
      "text/html": [
       "<style>\n",
       "    table.wandb td:nth-child(1) { padding: 0 10px; text-align: left ; width: auto;} td:nth-child(2) {text-align: left ; width: 100%}\n",
       "    .wandb-row { display: flex; flex-direction: row; flex-wrap: wrap; justify-content: flex-start; width: 100% }\n",
       "    .wandb-col { display: flex; flex-direction: column; flex-basis: 100%; flex: 1; padding: 10px; }\n",
       "    </style>\n",
       "<div class=\"wandb-row\"><div class=\"wandb-col\"><h3>Run history:</h3><br/><table class=\"wandb\"><tr><td>accuracy_mean</td><td>▁</td></tr><tr><td>accuracy_std</td><td>▁</td></tr><tr><td>f1_mean</td><td>▁</td></tr><tr><td>f1_std</td><td>▁</td></tr><tr><td>pr_auc_mean</td><td>▁</td></tr><tr><td>pr_auc_std</td><td>▁</td></tr><tr><td>precision_mean</td><td>▁</td></tr><tr><td>precision_std</td><td>▁</td></tr><tr><td>recall_mean</td><td>▁</td></tr><tr><td>recall_std</td><td>▁</td></tr><tr><td>roc_auc_mean</td><td>▁</td></tr><tr><td>roc_auc_std</td><td>▁</td></tr></table><br/></div><div class=\"wandb-col\"><h3>Run summary:</h3><br/><table class=\"wandb\"><tr><td>accuracy_mean</td><td>0.71613</td></tr><tr><td>accuracy_std</td><td>0.05161</td></tr><tr><td>f1_mean</td><td>0.15944</td></tr><tr><td>f1_std</td><td>0.1689</td></tr><tr><td>pr_auc_mean</td><td>0.38799</td></tr><tr><td>pr_auc_std</td><td>0.11174</td></tr><tr><td>precision_mean</td><td>0.22667</td></tr><tr><td>precision_std</td><td>0.22549</td></tr><tr><td>recall_mean</td><td>0.125</td></tr><tr><td>recall_std</td><td>0.13693</td></tr><tr><td>roc_auc_mean</td><td>0.60797</td></tr><tr><td>roc_auc_std</td><td>0.09645</td></tr></table><br/></div></div>"
      ],
      "text/plain": [
       "<IPython.core.display.HTML object>"
      ]
     },
     "metadata": {},
     "output_type": "display_data"
    },
    {
     "data": {
      "text/html": [
       " View run <strong style=\"color:#cdcd00\">Test_MLP_Scratch_CrossValidation_Summary</strong> at: <a href='https://wandb.ai/TFE-proteomics/MLP/runs/65wt0zst' target=\"_blank\">https://wandb.ai/TFE-proteomics/MLP/runs/65wt0zst</a><br/>Synced 5 W&B file(s), 0 media file(s), 0 artifact file(s) and 0 other file(s)"
      ],
      "text/plain": [
       "<IPython.core.display.HTML object>"
      ]
     },
     "metadata": {},
     "output_type": "display_data"
    },
    {
     "data": {
      "text/html": [
       "Find logs at: <code>./wandb/run-20250314_193914-65wt0zst/logs</code>"
      ],
      "text/plain": [
       "<IPython.core.display.HTML object>"
      ]
     },
     "metadata": {},
     "output_type": "display_data"
    },
    {
     "name": "stdout",
     "output_type": "stream",
     "text": [
      "Fold 1 on 5\n",
      "Testing config 1 on 48\n",
      "Testing config 2 on 48\n",
      "Testing config 3 on 48\n",
      "Testing config 4 on 48\n",
      "Testing config 5 on 48\n",
      "Testing config 6 on 48\n",
      "Testing config 7 on 48\n",
      "Testing config 8 on 48\n",
      "Testing config 9 on 48\n",
      "Testing config 10 on 48\n",
      "Testing config 11 on 48\n",
      "Testing config 12 on 48\n",
      "Testing config 13 on 48\n",
      "Testing config 14 on 48\n",
      "Testing config 15 on 48\n",
      "Testing config 16 on 48\n",
      "Testing config 17 on 48\n",
      "Testing config 18 on 48\n",
      "Testing config 19 on 48\n",
      "Testing config 20 on 48\n",
      "Testing config 21 on 48\n",
      "Testing config 22 on 48\n",
      "Testing config 23 on 48\n",
      "Testing config 24 on 48\n",
      "Testing config 25 on 48\n",
      "Testing config 26 on 48\n",
      "Testing config 27 on 48\n",
      "Testing config 28 on 48\n",
      "Testing config 29 on 48\n",
      "Testing config 30 on 48\n",
      "Testing config 31 on 48\n",
      "Testing config 32 on 48\n",
      "Testing config 33 on 48\n",
      "Testing config 34 on 48\n",
      "Testing config 35 on 48\n",
      "Testing config 36 on 48\n",
      "Testing config 37 on 48\n",
      "Testing config 38 on 48\n",
      "Testing config 39 on 48\n",
      "Testing config 40 on 48\n",
      "Testing config 41 on 48\n",
      "Testing config 42 on 48\n",
      "Testing config 43 on 48\n",
      "Testing config 44 on 48\n",
      "Testing config 45 on 48\n",
      "Testing config 46 on 48\n",
      "Testing config 47 on 48\n",
      "Testing config 48 on 48\n",
      "\n",
      "--------------------------------------Config Done--------------------------------------------\n",
      "\n"
     ]
    },
    {
     "data": {
      "text/html": [
       "wandb version 0.19.8 is available!  To upgrade, please run:\n",
       " $ pip install wandb --upgrade"
      ],
      "text/plain": [
       "<IPython.core.display.HTML object>"
      ]
     },
     "metadata": {},
     "output_type": "display_data"
    },
    {
     "data": {
      "text/html": [
       "Tracking run with wandb version 0.16.4"
      ],
      "text/plain": [
       "<IPython.core.display.HTML object>"
      ]
     },
     "metadata": {},
     "output_type": "display_data"
    },
    {
     "data": {
      "text/html": [
       "Run data is saved locally in <code>/home/jwalraff/TFE/wandb/run-20250314_194025-3dod82s7</code>"
      ],
      "text/plain": [
       "<IPython.core.display.HTML object>"
      ]
     },
     "metadata": {},
     "output_type": "display_data"
    },
    {
     "data": {
      "text/html": [
       "Syncing run <strong><a href='https://wandb.ai/TFE-proteomics/MLP/runs/3dod82s7' target=\"_blank\">Test_MLP_Scratch_fold_1</a></strong> to <a href='https://wandb.ai/TFE-proteomics/MLP' target=\"_blank\">Weights & Biases</a> (<a href='https://wandb.me/run' target=\"_blank\">docs</a>)<br/>"
      ],
      "text/plain": [
       "<IPython.core.display.HTML object>"
      ]
     },
     "metadata": {},
     "output_type": "display_data"
    },
    {
     "data": {
      "text/html": [
       " View project at <a href='https://wandb.ai/TFE-proteomics/MLP' target=\"_blank\">https://wandb.ai/TFE-proteomics/MLP</a>"
      ],
      "text/plain": [
       "<IPython.core.display.HTML object>"
      ]
     },
     "metadata": {},
     "output_type": "display_data"
    },
    {
     "data": {
      "text/html": [
       " View run at <a href='https://wandb.ai/TFE-proteomics/MLP/runs/3dod82s7' target=\"_blank\">https://wandb.ai/TFE-proteomics/MLP/runs/3dod82s7</a>"
      ],
      "text/plain": [
       "<IPython.core.display.HTML object>"
      ]
     },
     "metadata": {},
     "output_type": "display_data"
    },
    {
     "data": {
      "application/vnd.jupyter.widget-view+json": {
       "model_id": "497e09601ff44666a7810ae444ab6320",
       "version_major": 2,
       "version_minor": 0
      },
      "text/plain": [
       "VBox(children=(Label(value='0.004 MB of 0.018 MB uploaded\\r'), FloatProgress(value=0.22429713696156822, max=1.…"
      ]
     },
     "metadata": {},
     "output_type": "display_data"
    },
    {
     "data": {
      "text/html": [
       "<style>\n",
       "    table.wandb td:nth-child(1) { padding: 0 10px; text-align: left ; width: auto;} td:nth-child(2) {text-align: left ; width: 100%}\n",
       "    .wandb-row { display: flex; flex-direction: row; flex-wrap: wrap; justify-content: flex-start; width: 100% }\n",
       "    .wandb-col { display: flex; flex-direction: column; flex-basis: 100%; flex: 1; padding: 10px; }\n",
       "    </style>\n",
       "<div class=\"wandb-row\"><div class=\"wandb-col\"><h3>Run history:</h3><br/><table class=\"wandb\"><tr><td>accuracy</td><td>▁</td></tr><tr><td>f1</td><td>▁</td></tr><tr><td>pr_auc</td><td>▁</td></tr><tr><td>precision</td><td>▁</td></tr><tr><td>recall</td><td>▁</td></tr><tr><td>roc_auc</td><td>▁</td></tr></table><br/></div><div class=\"wandb-col\"><h3>Run summary:</h3><br/><table class=\"wandb\"><tr><td>accuracy</td><td>0.77419</td></tr><tr><td>f1</td><td>0.36364</td></tr><tr><td>pr_auc</td><td>0.47892</td></tr><tr><td>precision</td><td>0.5</td></tr><tr><td>recall</td><td>0.28571</td></tr><tr><td>roc_auc</td><td>0.57143</td></tr></table><br/></div></div>"
      ],
      "text/plain": [
       "<IPython.core.display.HTML object>"
      ]
     },
     "metadata": {},
     "output_type": "display_data"
    },
    {
     "data": {
      "text/html": [
       " View run <strong style=\"color:#cdcd00\">Test_MLP_Scratch_fold_1</strong> at: <a href='https://wandb.ai/TFE-proteomics/MLP/runs/3dod82s7' target=\"_blank\">https://wandb.ai/TFE-proteomics/MLP/runs/3dod82s7</a><br/>Synced 5 W&B file(s), 0 media file(s), 0 artifact file(s) and 0 other file(s)"
      ],
      "text/plain": [
       "<IPython.core.display.HTML object>"
      ]
     },
     "metadata": {},
     "output_type": "display_data"
    },
    {
     "data": {
      "text/html": [
       "Find logs at: <code>./wandb/run-20250314_194025-3dod82s7/logs</code>"
      ],
      "text/plain": [
       "<IPython.core.display.HTML object>"
      ]
     },
     "metadata": {},
     "output_type": "display_data"
    },
    {
     "name": "stdout",
     "output_type": "stream",
     "text": [
      "Fold 2 on 5\n",
      "Testing config 1 on 48\n",
      "Testing config 2 on 48\n",
      "Testing config 3 on 48\n",
      "Testing config 4 on 48\n",
      "Testing config 5 on 48\n",
      "Testing config 6 on 48\n",
      "Testing config 7 on 48\n",
      "Testing config 8 on 48\n",
      "Testing config 9 on 48\n",
      "Testing config 10 on 48\n",
      "Testing config 11 on 48\n",
      "Testing config 12 on 48\n",
      "Testing config 13 on 48\n",
      "Testing config 14 on 48\n",
      "Testing config 15 on 48\n",
      "Testing config 16 on 48\n",
      "Testing config 17 on 48\n",
      "Testing config 18 on 48\n",
      "Testing config 19 on 48\n",
      "Testing config 20 on 48\n",
      "Testing config 21 on 48\n",
      "Testing config 22 on 48\n",
      "Testing config 23 on 48\n",
      "Testing config 24 on 48\n",
      "Testing config 25 on 48\n",
      "Testing config 26 on 48\n",
      "Testing config 27 on 48\n",
      "Testing config 28 on 48\n",
      "Testing config 29 on 48\n",
      "Testing config 30 on 48\n",
      "Testing config 31 on 48\n",
      "Testing config 32 on 48\n",
      "Testing config 33 on 48\n",
      "Testing config 34 on 48\n",
      "Testing config 35 on 48\n",
      "Testing config 36 on 48\n",
      "Testing config 37 on 48\n",
      "Testing config 38 on 48\n",
      "Testing config 39 on 48\n",
      "Testing config 40 on 48\n",
      "Testing config 41 on 48\n",
      "Testing config 42 on 48\n",
      "Testing config 43 on 48\n",
      "Testing config 44 on 48\n",
      "Testing config 45 on 48\n",
      "Testing config 46 on 48\n",
      "Testing config 47 on 48\n",
      "Testing config 48 on 48\n",
      "\n",
      "--------------------------------------Config Done--------------------------------------------\n",
      "\n"
     ]
    },
    {
     "data": {
      "text/html": [
       "wandb version 0.19.8 is available!  To upgrade, please run:\n",
       " $ pip install wandb --upgrade"
      ],
      "text/plain": [
       "<IPython.core.display.HTML object>"
      ]
     },
     "metadata": {},
     "output_type": "display_data"
    },
    {
     "data": {
      "text/html": [
       "Tracking run with wandb version 0.16.4"
      ],
      "text/plain": [
       "<IPython.core.display.HTML object>"
      ]
     },
     "metadata": {},
     "output_type": "display_data"
    },
    {
     "data": {
      "text/html": [
       "Run data is saved locally in <code>/home/jwalraff/TFE/wandb/run-20250314_194135-3atvm6qd</code>"
      ],
      "text/plain": [
       "<IPython.core.display.HTML object>"
      ]
     },
     "metadata": {},
     "output_type": "display_data"
    },
    {
     "data": {
      "text/html": [
       "Syncing run <strong><a href='https://wandb.ai/TFE-proteomics/MLP/runs/3atvm6qd' target=\"_blank\">Test_MLP_Scratch_fold_2</a></strong> to <a href='https://wandb.ai/TFE-proteomics/MLP' target=\"_blank\">Weights & Biases</a> (<a href='https://wandb.me/run' target=\"_blank\">docs</a>)<br/>"
      ],
      "text/plain": [
       "<IPython.core.display.HTML object>"
      ]
     },
     "metadata": {},
     "output_type": "display_data"
    },
    {
     "data": {
      "text/html": [
       " View project at <a href='https://wandb.ai/TFE-proteomics/MLP' target=\"_blank\">https://wandb.ai/TFE-proteomics/MLP</a>"
      ],
      "text/plain": [
       "<IPython.core.display.HTML object>"
      ]
     },
     "metadata": {},
     "output_type": "display_data"
    },
    {
     "data": {
      "text/html": [
       " View run at <a href='https://wandb.ai/TFE-proteomics/MLP/runs/3atvm6qd' target=\"_blank\">https://wandb.ai/TFE-proteomics/MLP/runs/3atvm6qd</a>"
      ],
      "text/plain": [
       "<IPython.core.display.HTML object>"
      ]
     },
     "metadata": {},
     "output_type": "display_data"
    },
    {
     "data": {
      "application/vnd.jupyter.widget-view+json": {
       "model_id": "ec05a2509c3e412c9ff97f4ee5b646eb",
       "version_major": 2,
       "version_minor": 0
      },
      "text/plain": [
       "VBox(children=(Label(value='0.004 MB of 0.018 MB uploaded\\r'), FloatProgress(value=0.2274249241393743, max=1.0…"
      ]
     },
     "metadata": {},
     "output_type": "display_data"
    },
    {
     "data": {
      "text/html": [
       "<style>\n",
       "    table.wandb td:nth-child(1) { padding: 0 10px; text-align: left ; width: auto;} td:nth-child(2) {text-align: left ; width: 100%}\n",
       "    .wandb-row { display: flex; flex-direction: row; flex-wrap: wrap; justify-content: flex-start; width: 100% }\n",
       "    .wandb-col { display: flex; flex-direction: column; flex-basis: 100%; flex: 1; padding: 10px; }\n",
       "    </style>\n",
       "<div class=\"wandb-row\"><div class=\"wandb-col\"><h3>Run history:</h3><br/><table class=\"wandb\"><tr><td>accuracy</td><td>▁</td></tr><tr><td>f1</td><td>▁</td></tr><tr><td>pr_auc</td><td>▁</td></tr><tr><td>precision</td><td>▁</td></tr><tr><td>recall</td><td>▁</td></tr><tr><td>roc_auc</td><td>▁</td></tr></table><br/></div><div class=\"wandb-col\"><h3>Run summary:</h3><br/><table class=\"wandb\"><tr><td>accuracy</td><td>0.74194</td></tr><tr><td>f1</td><td>0.2</td></tr><tr><td>pr_auc</td><td>0.40784</td></tr><tr><td>precision</td><td>0.33333</td></tr><tr><td>recall</td><td>0.14286</td></tr><tr><td>roc_auc</td><td>0.64881</td></tr></table><br/></div></div>"
      ],
      "text/plain": [
       "<IPython.core.display.HTML object>"
      ]
     },
     "metadata": {},
     "output_type": "display_data"
    },
    {
     "data": {
      "text/html": [
       " View run <strong style=\"color:#cdcd00\">Test_MLP_Scratch_fold_2</strong> at: <a href='https://wandb.ai/TFE-proteomics/MLP/runs/3atvm6qd' target=\"_blank\">https://wandb.ai/TFE-proteomics/MLP/runs/3atvm6qd</a><br/>Synced 5 W&B file(s), 0 media file(s), 0 artifact file(s) and 0 other file(s)"
      ],
      "text/plain": [
       "<IPython.core.display.HTML object>"
      ]
     },
     "metadata": {},
     "output_type": "display_data"
    },
    {
     "data": {
      "text/html": [
       "Find logs at: <code>./wandb/run-20250314_194135-3atvm6qd/logs</code>"
      ],
      "text/plain": [
       "<IPython.core.display.HTML object>"
      ]
     },
     "metadata": {},
     "output_type": "display_data"
    },
    {
     "name": "stdout",
     "output_type": "stream",
     "text": [
      "Fold 3 on 5\n",
      "Testing config 1 on 48\n",
      "Testing config 2 on 48\n",
      "Testing config 3 on 48\n",
      "Testing config 4 on 48\n",
      "Testing config 5 on 48\n",
      "Testing config 6 on 48\n",
      "Testing config 7 on 48\n",
      "Testing config 8 on 48\n",
      "Testing config 9 on 48\n",
      "Testing config 10 on 48\n",
      "Testing config 11 on 48\n",
      "Testing config 12 on 48\n",
      "Testing config 13 on 48\n",
      "Testing config 14 on 48\n",
      "Testing config 15 on 48\n",
      "Testing config 16 on 48\n",
      "Testing config 17 on 48\n",
      "Testing config 18 on 48\n",
      "Testing config 19 on 48\n",
      "Testing config 20 on 48\n",
      "Testing config 21 on 48\n",
      "Testing config 22 on 48\n",
      "Testing config 23 on 48\n",
      "Testing config 24 on 48\n",
      "Testing config 25 on 48\n",
      "Testing config 26 on 48\n",
      "Testing config 27 on 48\n",
      "Testing config 28 on 48\n",
      "Testing config 29 on 48\n",
      "Testing config 30 on 48\n",
      "Testing config 31 on 48\n",
      "Testing config 32 on 48\n",
      "Testing config 33 on 48\n",
      "Testing config 34 on 48\n",
      "Testing config 35 on 48\n",
      "Testing config 36 on 48\n",
      "Testing config 37 on 48\n",
      "Testing config 38 on 48\n",
      "Testing config 39 on 48\n",
      "Testing config 40 on 48\n",
      "Testing config 41 on 48\n",
      "Testing config 42 on 48\n",
      "Testing config 43 on 48\n",
      "Testing config 44 on 48\n",
      "Testing config 45 on 48\n",
      "Testing config 46 on 48\n",
      "Testing config 47 on 48\n",
      "Testing config 48 on 48\n",
      "\n",
      "--------------------------------------Config Done--------------------------------------------\n",
      "\n"
     ]
    },
    {
     "data": {
      "text/html": [
       "wandb version 0.19.8 is available!  To upgrade, please run:\n",
       " $ pip install wandb --upgrade"
      ],
      "text/plain": [
       "<IPython.core.display.HTML object>"
      ]
     },
     "metadata": {},
     "output_type": "display_data"
    },
    {
     "data": {
      "text/html": [
       "Tracking run with wandb version 0.16.4"
      ],
      "text/plain": [
       "<IPython.core.display.HTML object>"
      ]
     },
     "metadata": {},
     "output_type": "display_data"
    },
    {
     "data": {
      "text/html": [
       "Run data is saved locally in <code>/home/jwalraff/TFE/wandb/run-20250314_194245-bpcub950</code>"
      ],
      "text/plain": [
       "<IPython.core.display.HTML object>"
      ]
     },
     "metadata": {},
     "output_type": "display_data"
    },
    {
     "data": {
      "text/html": [
       "Syncing run <strong><a href='https://wandb.ai/TFE-proteomics/MLP/runs/bpcub950' target=\"_blank\">Test_MLP_Scratch_fold_3</a></strong> to <a href='https://wandb.ai/TFE-proteomics/MLP' target=\"_blank\">Weights & Biases</a> (<a href='https://wandb.me/run' target=\"_blank\">docs</a>)<br/>"
      ],
      "text/plain": [
       "<IPython.core.display.HTML object>"
      ]
     },
     "metadata": {},
     "output_type": "display_data"
    },
    {
     "data": {
      "text/html": [
       " View project at <a href='https://wandb.ai/TFE-proteomics/MLP' target=\"_blank\">https://wandb.ai/TFE-proteomics/MLP</a>"
      ],
      "text/plain": [
       "<IPython.core.display.HTML object>"
      ]
     },
     "metadata": {},
     "output_type": "display_data"
    },
    {
     "data": {
      "text/html": [
       " View run at <a href='https://wandb.ai/TFE-proteomics/MLP/runs/bpcub950' target=\"_blank\">https://wandb.ai/TFE-proteomics/MLP/runs/bpcub950</a>"
      ],
      "text/plain": [
       "<IPython.core.display.HTML object>"
      ]
     },
     "metadata": {},
     "output_type": "display_data"
    },
    {
     "data": {
      "application/vnd.jupyter.widget-view+json": {
       "model_id": "c60e82f568be4cbf872f484ac6d8880a",
       "version_major": 2,
       "version_minor": 0
      },
      "text/plain": [
       "VBox(children=(Label(value='0.004 MB of 0.018 MB uploaded\\r'), FloatProgress(value=0.2245129954012298, max=1.0…"
      ]
     },
     "metadata": {},
     "output_type": "display_data"
    },
    {
     "data": {
      "text/html": [
       "<style>\n",
       "    table.wandb td:nth-child(1) { padding: 0 10px; text-align: left ; width: auto;} td:nth-child(2) {text-align: left ; width: 100%}\n",
       "    .wandb-row { display: flex; flex-direction: row; flex-wrap: wrap; justify-content: flex-start; width: 100% }\n",
       "    .wandb-col { display: flex; flex-direction: column; flex-basis: 100%; flex: 1; padding: 10px; }\n",
       "    </style>\n",
       "<div class=\"wandb-row\"><div class=\"wandb-col\"><h3>Run history:</h3><br/><table class=\"wandb\"><tr><td>accuracy</td><td>▁</td></tr><tr><td>f1</td><td>▁</td></tr><tr><td>pr_auc</td><td>▁</td></tr><tr><td>precision</td><td>▁</td></tr><tr><td>recall</td><td>▁</td></tr><tr><td>roc_auc</td><td>▁</td></tr></table><br/></div><div class=\"wandb-col\"><h3>Run summary:</h3><br/><table class=\"wandb\"><tr><td>accuracy</td><td>0.6129</td></tr><tr><td>f1</td><td>0.25</td></tr><tr><td>pr_auc</td><td>0.36525</td></tr><tr><td>precision</td><td>0.25</td></tr><tr><td>recall</td><td>0.25</td></tr><tr><td>roc_auc</td><td>0.48913</td></tr></table><br/></div></div>"
      ],
      "text/plain": [
       "<IPython.core.display.HTML object>"
      ]
     },
     "metadata": {},
     "output_type": "display_data"
    },
    {
     "data": {
      "text/html": [
       " View run <strong style=\"color:#cdcd00\">Test_MLP_Scratch_fold_3</strong> at: <a href='https://wandb.ai/TFE-proteomics/MLP/runs/bpcub950' target=\"_blank\">https://wandb.ai/TFE-proteomics/MLP/runs/bpcub950</a><br/>Synced 5 W&B file(s), 0 media file(s), 0 artifact file(s) and 0 other file(s)"
      ],
      "text/plain": [
       "<IPython.core.display.HTML object>"
      ]
     },
     "metadata": {},
     "output_type": "display_data"
    },
    {
     "data": {
      "text/html": [
       "Find logs at: <code>./wandb/run-20250314_194245-bpcub950/logs</code>"
      ],
      "text/plain": [
       "<IPython.core.display.HTML object>"
      ]
     },
     "metadata": {},
     "output_type": "display_data"
    },
    {
     "name": "stdout",
     "output_type": "stream",
     "text": [
      "Fold 4 on 5\n",
      "Testing config 1 on 48\n",
      "Testing config 2 on 48\n",
      "Testing config 3 on 48\n",
      "Testing config 4 on 48\n",
      "Testing config 5 on 48\n",
      "Testing config 6 on 48\n",
      "Testing config 7 on 48\n",
      "Testing config 8 on 48\n",
      "Testing config 9 on 48\n",
      "Testing config 10 on 48\n",
      "Testing config 11 on 48\n",
      "Testing config 12 on 48\n",
      "Testing config 13 on 48\n",
      "Testing config 14 on 48\n",
      "Testing config 15 on 48\n",
      "Testing config 16 on 48\n",
      "Testing config 17 on 48\n",
      "Testing config 18 on 48\n",
      "Testing config 19 on 48\n",
      "Testing config 20 on 48\n",
      "Testing config 21 on 48\n",
      "Testing config 22 on 48\n",
      "Testing config 23 on 48\n",
      "Testing config 24 on 48\n",
      "Testing config 25 on 48\n",
      "Testing config 26 on 48\n",
      "Testing config 27 on 48\n",
      "Testing config 28 on 48\n",
      "Testing config 29 on 48\n",
      "Testing config 30 on 48\n",
      "Testing config 31 on 48\n",
      "Testing config 32 on 48\n",
      "Testing config 33 on 48\n",
      "Testing config 34 on 48\n",
      "Testing config 35 on 48\n",
      "Testing config 36 on 48\n",
      "Testing config 37 on 48\n",
      "Testing config 38 on 48\n",
      "Testing config 39 on 48\n",
      "Testing config 40 on 48\n",
      "Testing config 41 on 48\n",
      "Testing config 42 on 48\n",
      "Testing config 43 on 48\n",
      "Testing config 44 on 48\n",
      "Testing config 45 on 48\n",
      "Testing config 46 on 48\n",
      "Testing config 47 on 48\n",
      "Testing config 48 on 48\n",
      "\n",
      "--------------------------------------Config Done--------------------------------------------\n",
      "\n"
     ]
    },
    {
     "data": {
      "text/html": [
       "wandb version 0.19.8 is available!  To upgrade, please run:\n",
       " $ pip install wandb --upgrade"
      ],
      "text/plain": [
       "<IPython.core.display.HTML object>"
      ]
     },
     "metadata": {},
     "output_type": "display_data"
    },
    {
     "data": {
      "text/html": [
       "Tracking run with wandb version 0.16.4"
      ],
      "text/plain": [
       "<IPython.core.display.HTML object>"
      ]
     },
     "metadata": {},
     "output_type": "display_data"
    },
    {
     "data": {
      "text/html": [
       "Run data is saved locally in <code>/home/jwalraff/TFE/wandb/run-20250314_194353-vpm8cuor</code>"
      ],
      "text/plain": [
       "<IPython.core.display.HTML object>"
      ]
     },
     "metadata": {},
     "output_type": "display_data"
    },
    {
     "data": {
      "text/html": [
       "Syncing run <strong><a href='https://wandb.ai/TFE-proteomics/MLP/runs/vpm8cuor' target=\"_blank\">Test_MLP_Scratch_fold_4</a></strong> to <a href='https://wandb.ai/TFE-proteomics/MLP' target=\"_blank\">Weights & Biases</a> (<a href='https://wandb.me/run' target=\"_blank\">docs</a>)<br/>"
      ],
      "text/plain": [
       "<IPython.core.display.HTML object>"
      ]
     },
     "metadata": {},
     "output_type": "display_data"
    },
    {
     "data": {
      "text/html": [
       " View project at <a href='https://wandb.ai/TFE-proteomics/MLP' target=\"_blank\">https://wandb.ai/TFE-proteomics/MLP</a>"
      ],
      "text/plain": [
       "<IPython.core.display.HTML object>"
      ]
     },
     "metadata": {},
     "output_type": "display_data"
    },
    {
     "data": {
      "text/html": [
       " View run at <a href='https://wandb.ai/TFE-proteomics/MLP/runs/vpm8cuor' target=\"_blank\">https://wandb.ai/TFE-proteomics/MLP/runs/vpm8cuor</a>"
      ],
      "text/plain": [
       "<IPython.core.display.HTML object>"
      ]
     },
     "metadata": {},
     "output_type": "display_data"
    },
    {
     "data": {
      "application/vnd.jupyter.widget-view+json": {
       "model_id": "63b2c184d6904ae0ab012e4726132b7e",
       "version_major": 2,
       "version_minor": 0
      },
      "text/plain": [
       "VBox(children=(Label(value='0.004 MB of 0.018 MB uploaded\\r'), FloatProgress(value=0.22484779692498194, max=1.…"
      ]
     },
     "metadata": {},
     "output_type": "display_data"
    },
    {
     "data": {
      "text/html": [
       "<style>\n",
       "    table.wandb td:nth-child(1) { padding: 0 10px; text-align: left ; width: auto;} td:nth-child(2) {text-align: left ; width: 100%}\n",
       "    .wandb-row { display: flex; flex-direction: row; flex-wrap: wrap; justify-content: flex-start; width: 100% }\n",
       "    .wandb-col { display: flex; flex-direction: column; flex-basis: 100%; flex: 1; padding: 10px; }\n",
       "    </style>\n",
       "<div class=\"wandb-row\"><div class=\"wandb-col\"><h3>Run history:</h3><br/><table class=\"wandb\"><tr><td>accuracy</td><td>▁</td></tr><tr><td>f1</td><td>▁</td></tr><tr><td>pr_auc</td><td>▁</td></tr><tr><td>precision</td><td>▁</td></tr><tr><td>recall</td><td>▁</td></tr><tr><td>roc_auc</td><td>▁</td></tr></table><br/></div><div class=\"wandb-col\"><h3>Run summary:</h3><br/><table class=\"wandb\"><tr><td>accuracy</td><td>0.74194</td></tr><tr><td>f1</td><td>0.33333</td></tr><tr><td>pr_auc</td><td>0.40372</td></tr><tr><td>precision</td><td>0.5</td></tr><tr><td>recall</td><td>0.25</td></tr><tr><td>roc_auc</td><td>0.69565</td></tr></table><br/></div></div>"
      ],
      "text/plain": [
       "<IPython.core.display.HTML object>"
      ]
     },
     "metadata": {},
     "output_type": "display_data"
    },
    {
     "data": {
      "text/html": [
       " View run <strong style=\"color:#cdcd00\">Test_MLP_Scratch_fold_4</strong> at: <a href='https://wandb.ai/TFE-proteomics/MLP/runs/vpm8cuor' target=\"_blank\">https://wandb.ai/TFE-proteomics/MLP/runs/vpm8cuor</a><br/>Synced 5 W&B file(s), 0 media file(s), 0 artifact file(s) and 0 other file(s)"
      ],
      "text/plain": [
       "<IPython.core.display.HTML object>"
      ]
     },
     "metadata": {},
     "output_type": "display_data"
    },
    {
     "data": {
      "text/html": [
       "Find logs at: <code>./wandb/run-20250314_194353-vpm8cuor/logs</code>"
      ],
      "text/plain": [
       "<IPython.core.display.HTML object>"
      ]
     },
     "metadata": {},
     "output_type": "display_data"
    },
    {
     "name": "stdout",
     "output_type": "stream",
     "text": [
      "Fold 5 on 5\n",
      "Testing config 1 on 48\n",
      "Testing config 2 on 48\n",
      "Testing config 3 on 48\n",
      "Testing config 4 on 48\n",
      "Testing config 5 on 48\n",
      "Testing config 6 on 48\n",
      "Testing config 7 on 48\n",
      "Testing config 8 on 48\n",
      "Testing config 9 on 48\n",
      "Testing config 10 on 48\n",
      "Testing config 11 on 48\n",
      "Testing config 12 on 48\n",
      "Testing config 13 on 48\n",
      "Testing config 14 on 48\n",
      "Testing config 15 on 48\n",
      "Testing config 16 on 48\n",
      "Testing config 17 on 48\n",
      "Testing config 18 on 48\n",
      "Testing config 19 on 48\n",
      "Testing config 20 on 48\n",
      "Testing config 21 on 48\n",
      "Testing config 22 on 48\n",
      "Testing config 23 on 48\n",
      "Testing config 24 on 48\n",
      "Testing config 25 on 48\n",
      "Testing config 26 on 48\n",
      "Testing config 27 on 48\n",
      "Testing config 28 on 48\n",
      "Testing config 29 on 48\n",
      "Testing config 30 on 48\n",
      "Testing config 31 on 48\n",
      "Testing config 32 on 48\n",
      "Testing config 33 on 48\n",
      "Testing config 34 on 48\n",
      "Testing config 35 on 48\n",
      "Testing config 36 on 48\n",
      "Testing config 37 on 48\n",
      "Testing config 38 on 48\n",
      "Testing config 39 on 48\n",
      "Testing config 40 on 48\n",
      "Testing config 41 on 48\n",
      "Testing config 42 on 48\n",
      "Testing config 43 on 48\n",
      "Testing config 44 on 48\n",
      "Testing config 45 on 48\n",
      "Testing config 46 on 48\n",
      "Testing config 47 on 48\n",
      "Testing config 48 on 48\n",
      "\n",
      "--------------------------------------Config Done--------------------------------------------\n",
      "\n"
     ]
    },
    {
     "data": {
      "text/html": [
       "wandb version 0.19.8 is available!  To upgrade, please run:\n",
       " $ pip install wandb --upgrade"
      ],
      "text/plain": [
       "<IPython.core.display.HTML object>"
      ]
     },
     "metadata": {},
     "output_type": "display_data"
    },
    {
     "data": {
      "text/html": [
       "Tracking run with wandb version 0.16.4"
      ],
      "text/plain": [
       "<IPython.core.display.HTML object>"
      ]
     },
     "metadata": {},
     "output_type": "display_data"
    },
    {
     "data": {
      "text/html": [
       "Run data is saved locally in <code>/home/jwalraff/TFE/wandb/run-20250314_194502-un3pfcym</code>"
      ],
      "text/plain": [
       "<IPython.core.display.HTML object>"
      ]
     },
     "metadata": {},
     "output_type": "display_data"
    },
    {
     "data": {
      "text/html": [
       "Syncing run <strong><a href='https://wandb.ai/TFE-proteomics/MLP/runs/un3pfcym' target=\"_blank\">Test_MLP_Scratch_fold_5</a></strong> to <a href='https://wandb.ai/TFE-proteomics/MLP' target=\"_blank\">Weights & Biases</a> (<a href='https://wandb.me/run' target=\"_blank\">docs</a>)<br/>"
      ],
      "text/plain": [
       "<IPython.core.display.HTML object>"
      ]
     },
     "metadata": {},
     "output_type": "display_data"
    },
    {
     "data": {
      "text/html": [
       " View project at <a href='https://wandb.ai/TFE-proteomics/MLP' target=\"_blank\">https://wandb.ai/TFE-proteomics/MLP</a>"
      ],
      "text/plain": [
       "<IPython.core.display.HTML object>"
      ]
     },
     "metadata": {},
     "output_type": "display_data"
    },
    {
     "data": {
      "text/html": [
       " View run at <a href='https://wandb.ai/TFE-proteomics/MLP/runs/un3pfcym' target=\"_blank\">https://wandb.ai/TFE-proteomics/MLP/runs/un3pfcym</a>"
      ],
      "text/plain": [
       "<IPython.core.display.HTML object>"
      ]
     },
     "metadata": {},
     "output_type": "display_data"
    },
    {
     "data": {
      "application/vnd.jupyter.widget-view+json": {
       "model_id": "7fc4cabc4b6148cfabe4b9bad71a22ac",
       "version_major": 2,
       "version_minor": 0
      },
      "text/plain": [
       "VBox(children=(Label(value='0.004 MB of 0.004 MB uploaded\\r'), FloatProgress(value=1.0, max=1.0)))"
      ]
     },
     "metadata": {},
     "output_type": "display_data"
    },
    {
     "data": {
      "text/html": [
       "<style>\n",
       "    table.wandb td:nth-child(1) { padding: 0 10px; text-align: left ; width: auto;} td:nth-child(2) {text-align: left ; width: 100%}\n",
       "    .wandb-row { display: flex; flex-direction: row; flex-wrap: wrap; justify-content: flex-start; width: 100% }\n",
       "    .wandb-col { display: flex; flex-direction: column; flex-basis: 100%; flex: 1; padding: 10px; }\n",
       "    </style>\n",
       "<div class=\"wandb-row\"><div class=\"wandb-col\"><h3>Run history:</h3><br/><table class=\"wandb\"><tr><td>accuracy</td><td>▁</td></tr><tr><td>f1</td><td>▁</td></tr><tr><td>pr_auc</td><td>▁</td></tr><tr><td>precision</td><td>▁</td></tr><tr><td>recall</td><td>▁</td></tr><tr><td>roc_auc</td><td>▁</td></tr></table><br/></div><div class=\"wandb-col\"><h3>Run summary:</h3><br/><table class=\"wandb\"><tr><td>accuracy</td><td>0.77419</td></tr><tr><td>f1</td><td>0.36364</td></tr><tr><td>pr_auc</td><td>0.43817</td></tr><tr><td>precision</td><td>0.66667</td></tr><tr><td>recall</td><td>0.25</td></tr><tr><td>roc_auc</td><td>0.57609</td></tr></table><br/></div></div>"
      ],
      "text/plain": [
       "<IPython.core.display.HTML object>"
      ]
     },
     "metadata": {},
     "output_type": "display_data"
    },
    {
     "data": {
      "text/html": [
       " View run <strong style=\"color:#cdcd00\">Test_MLP_Scratch_fold_5</strong> at: <a href='https://wandb.ai/TFE-proteomics/MLP/runs/un3pfcym' target=\"_blank\">https://wandb.ai/TFE-proteomics/MLP/runs/un3pfcym</a><br/>Synced 5 W&B file(s), 0 media file(s), 0 artifact file(s) and 0 other file(s)"
      ],
      "text/plain": [
       "<IPython.core.display.HTML object>"
      ]
     },
     "metadata": {},
     "output_type": "display_data"
    },
    {
     "data": {
      "text/html": [
       "Find logs at: <code>./wandb/run-20250314_194502-un3pfcym/logs</code>"
      ],
      "text/plain": [
       "<IPython.core.display.HTML object>"
      ]
     },
     "metadata": {},
     "output_type": "display_data"
    },
    {
     "data": {
      "application/vnd.jupyter.widget-view+json": {
       "model_id": "8f4069dd23f94bc88861eed533b8396e",
       "version_major": 2,
       "version_minor": 0
      },
      "text/plain": [
       "VBox(children=(Label(value='Waiting for wandb.init()...\\r'), FloatProgress(value=0.011112118222647243, max=1.0…"
      ]
     },
     "metadata": {},
     "output_type": "display_data"
    },
    {
     "data": {
      "text/html": [
       "wandb version 0.19.8 is available!  To upgrade, please run:\n",
       " $ pip install wandb --upgrade"
      ],
      "text/plain": [
       "<IPython.core.display.HTML object>"
      ]
     },
     "metadata": {},
     "output_type": "display_data"
    },
    {
     "data": {
      "text/html": [
       "Tracking run with wandb version 0.16.4"
      ],
      "text/plain": [
       "<IPython.core.display.HTML object>"
      ]
     },
     "metadata": {},
     "output_type": "display_data"
    },
    {
     "data": {
      "text/html": [
       "Run data is saved locally in <code>/home/jwalraff/TFE/wandb/run-20250314_194511-y6glwcf2</code>"
      ],
      "text/plain": [
       "<IPython.core.display.HTML object>"
      ]
     },
     "metadata": {},
     "output_type": "display_data"
    },
    {
     "data": {
      "text/html": [
       "Syncing run <strong><a href='https://wandb.ai/TFE-proteomics/MLP/runs/y6glwcf2' target=\"_blank\">Test_MLP_Scratch_CrossValidation_Summary</a></strong> to <a href='https://wandb.ai/TFE-proteomics/MLP' target=\"_blank\">Weights & Biases</a> (<a href='https://wandb.me/run' target=\"_blank\">docs</a>)<br/>"
      ],
      "text/plain": [
       "<IPython.core.display.HTML object>"
      ]
     },
     "metadata": {},
     "output_type": "display_data"
    },
    {
     "data": {
      "text/html": [
       " View project at <a href='https://wandb.ai/TFE-proteomics/MLP' target=\"_blank\">https://wandb.ai/TFE-proteomics/MLP</a>"
      ],
      "text/plain": [
       "<IPython.core.display.HTML object>"
      ]
     },
     "metadata": {},
     "output_type": "display_data"
    },
    {
     "data": {
      "text/html": [
       " View run at <a href='https://wandb.ai/TFE-proteomics/MLP/runs/y6glwcf2' target=\"_blank\">https://wandb.ai/TFE-proteomics/MLP/runs/y6glwcf2</a>"
      ],
      "text/plain": [
       "<IPython.core.display.HTML object>"
      ]
     },
     "metadata": {},
     "output_type": "display_data"
    },
    {
     "data": {
      "application/vnd.jupyter.widget-view+json": {
       "model_id": "62bb7f73644b46778cf7a0677890b3db",
       "version_major": 2,
       "version_minor": 0
      },
      "text/plain": [
       "VBox(children=(Label(value='0.004 MB of 0.015 MB uploaded\\r'), FloatProgress(value=0.2818952683021555, max=1.0…"
      ]
     },
     "metadata": {},
     "output_type": "display_data"
    },
    {
     "data": {
      "text/html": [
       "<style>\n",
       "    table.wandb td:nth-child(1) { padding: 0 10px; text-align: left ; width: auto;} td:nth-child(2) {text-align: left ; width: 100%}\n",
       "    .wandb-row { display: flex; flex-direction: row; flex-wrap: wrap; justify-content: flex-start; width: 100% }\n",
       "    .wandb-col { display: flex; flex-direction: column; flex-basis: 100%; flex: 1; padding: 10px; }\n",
       "    </style>\n",
       "<div class=\"wandb-row\"><div class=\"wandb-col\"><h3>Run history:</h3><br/><table class=\"wandb\"><tr><td>accuracy_mean</td><td>▁</td></tr><tr><td>accuracy_std</td><td>▁</td></tr><tr><td>f1_mean</td><td>▁</td></tr><tr><td>f1_std</td><td>▁</td></tr><tr><td>pr_auc_mean</td><td>▁</td></tr><tr><td>pr_auc_std</td><td>▁</td></tr><tr><td>precision_mean</td><td>▁</td></tr><tr><td>precision_std</td><td>▁</td></tr><tr><td>recall_mean</td><td>▁</td></tr><tr><td>recall_std</td><td>▁</td></tr><tr><td>roc_auc_mean</td><td>▁</td></tr><tr><td>roc_auc_std</td><td>▁</td></tr></table><br/></div><div class=\"wandb-col\"><h3>Run summary:</h3><br/><table class=\"wandb\"><tr><td>accuracy_mean</td><td>0.72903</td></tr><tr><td>accuracy_std</td><td>0.05983</td></tr><tr><td>f1_mean</td><td>0.30212</td></tr><tr><td>f1_std</td><td>0.06586</td></tr><tr><td>pr_auc_mean</td><td>0.41878</td></tr><tr><td>pr_auc_std</td><td>0.03796</td></tr><tr><td>precision_mean</td><td>0.45</td></tr><tr><td>precision_std</td><td>0.1453</td></tr><tr><td>recall_mean</td><td>0.23571</td></tr><tr><td>recall_std</td><td>0.04845</td></tr><tr><td>roc_auc_mean</td><td>0.59622</td></tr><tr><td>roc_auc_std</td><td>0.07091</td></tr></table><br/></div></div>"
      ],
      "text/plain": [
       "<IPython.core.display.HTML object>"
      ]
     },
     "metadata": {},
     "output_type": "display_data"
    },
    {
     "data": {
      "text/html": [
       " View run <strong style=\"color:#cdcd00\">Test_MLP_Scratch_CrossValidation_Summary</strong> at: <a href='https://wandb.ai/TFE-proteomics/MLP/runs/y6glwcf2' target=\"_blank\">https://wandb.ai/TFE-proteomics/MLP/runs/y6glwcf2</a><br/>Synced 5 W&B file(s), 0 media file(s), 0 artifact file(s) and 0 other file(s)"
      ],
      "text/plain": [
       "<IPython.core.display.HTML object>"
      ]
     },
     "metadata": {},
     "output_type": "display_data"
    },
    {
     "data": {
      "text/html": [
       "Find logs at: <code>./wandb/run-20250314_194511-y6glwcf2/logs</code>"
      ],
      "text/plain": [
       "<IPython.core.display.HTML object>"
      ]
     },
     "metadata": {},
     "output_type": "display_data"
    },
    {
     "name": "stdout",
     "output_type": "stream",
     "text": [
      "Fold 1 on 5\n",
      "Testing config 1 on 48\n",
      "Early stopping triggered at 5 epoch.\n",
      "Testing config 2 on 48\n",
      "Early stopping triggered at 15 epoch.\n",
      "Testing config 3 on 48\n",
      "Early stopping triggered at 9 epoch.\n",
      "Testing config 4 on 48\n",
      "Early stopping triggered at 5 epoch.\n",
      "Testing config 5 on 48\n",
      "Early stopping triggered at 11 epoch.\n",
      "Testing config 6 on 48\n",
      "Early stopping triggered at 11 epoch.\n",
      "Testing config 7 on 48\n",
      "Early stopping triggered at 10 epoch.\n",
      "Testing config 8 on 48\n",
      "Early stopping triggered at 9 epoch.\n",
      "Testing config 9 on 48\n",
      "Early stopping triggered at 6 epoch.\n",
      "Testing config 10 on 48\n",
      "Early stopping triggered at 5 epoch.\n",
      "Testing config 11 on 48\n",
      "Early stopping triggered at 23 epoch.\n",
      "Testing config 12 on 48\n",
      "Early stopping triggered at 16 epoch.\n",
      "Testing config 13 on 48\n",
      "Early stopping triggered at 5 epoch.\n",
      "Testing config 14 on 48\n",
      "Early stopping triggered at 12 epoch.\n",
      "Testing config 15 on 48\n",
      "Early stopping triggered at 8 epoch.\n",
      "Testing config 16 on 48\n",
      "Early stopping triggered at 23 epoch.\n",
      "Testing config 17 on 48\n",
      "Early stopping triggered at 5 epoch.\n",
      "Testing config 18 on 48\n",
      "Early stopping triggered at 8 epoch.\n",
      "Testing config 19 on 48\n",
      "Early stopping triggered at 8 epoch.\n",
      "Testing config 20 on 48\n",
      "Early stopping triggered at 32 epoch.\n",
      "Testing config 21 on 48\n",
      "Early stopping triggered at 8 epoch.\n",
      "Testing config 22 on 48\n",
      "Early stopping triggered at 7 epoch.\n",
      "Testing config 23 on 48\n",
      "Early stopping triggered at 24 epoch.\n",
      "Testing config 24 on 48\n",
      "Early stopping triggered at 9 epoch.\n",
      "Testing config 25 on 48\n",
      "Early stopping triggered at 14 epoch.\n",
      "Testing config 26 on 48\n",
      "Early stopping triggered at 8 epoch.\n",
      "Testing config 27 on 48\n",
      "Early stopping triggered at 9 epoch.\n",
      "Testing config 28 on 48\n",
      "Early stopping triggered at 20 epoch.\n",
      "Testing config 29 on 48\n",
      "Early stopping triggered at 11 epoch.\n",
      "Testing config 30 on 48\n",
      "Early stopping triggered at 33 epoch.\n",
      "Testing config 31 on 48\n",
      "Early stopping triggered at 10 epoch.\n",
      "Testing config 32 on 48\n",
      "Early stopping triggered at 9 epoch.\n",
      "Testing config 33 on 48\n",
      "Early stopping triggered at 9 epoch.\n",
      "Testing config 34 on 48\n",
      "Early stopping triggered at 12 epoch.\n",
      "Testing config 35 on 48\n",
      "Early stopping triggered at 10 epoch.\n",
      "Testing config 36 on 48\n",
      "Early stopping triggered at 8 epoch.\n",
      "Testing config 37 on 48\n",
      "Early stopping triggered at 11 epoch.\n",
      "Testing config 38 on 48\n",
      "Early stopping triggered at 32 epoch.\n",
      "Testing config 39 on 48\n",
      "Early stopping triggered at 19 epoch.\n",
      "Testing config 40 on 48\n",
      "Early stopping triggered at 25 epoch.\n",
      "Testing config 41 on 48\n",
      "Early stopping triggered at 15 epoch.\n",
      "Testing config 42 on 48\n",
      "Early stopping triggered at 11 epoch.\n",
      "Testing config 43 on 48\n",
      "Early stopping triggered at 39 epoch.\n",
      "Testing config 44 on 48\n",
      "Early stopping triggered at 47 epoch.\n",
      "Testing config 45 on 48\n",
      "Early stopping triggered at 17 epoch.\n",
      "Testing config 46 on 48\n",
      "Early stopping triggered at 24 epoch.\n",
      "Testing config 47 on 48\n",
      "Early stopping triggered at 27 epoch.\n",
      "Testing config 48 on 48\n",
      "Early stopping triggered at 13 epoch.\n",
      "\n",
      "--------------------------------------Config Done--------------------------------------------\n",
      "\n"
     ]
    },
    {
     "data": {
      "text/html": [
       "wandb version 0.19.8 is available!  To upgrade, please run:\n",
       " $ pip install wandb --upgrade"
      ],
      "text/plain": [
       "<IPython.core.display.HTML object>"
      ]
     },
     "metadata": {},
     "output_type": "display_data"
    },
    {
     "data": {
      "text/html": [
       "Tracking run with wandb version 0.16.4"
      ],
      "text/plain": [
       "<IPython.core.display.HTML object>"
      ]
     },
     "metadata": {},
     "output_type": "display_data"
    },
    {
     "data": {
      "text/html": [
       "Run data is saved locally in <code>/home/jwalraff/TFE/wandb/run-20250314_194531-6i73pcae</code>"
      ],
      "text/plain": [
       "<IPython.core.display.HTML object>"
      ]
     },
     "metadata": {},
     "output_type": "display_data"
    },
    {
     "data": {
      "text/html": [
       "Syncing run <strong><a href='https://wandb.ai/TFE-proteomics/MLP/runs/6i73pcae' target=\"_blank\">Test_MLP_Scratch_fold_1</a></strong> to <a href='https://wandb.ai/TFE-proteomics/MLP' target=\"_blank\">Weights & Biases</a> (<a href='https://wandb.me/run' target=\"_blank\">docs</a>)<br/>"
      ],
      "text/plain": [
       "<IPython.core.display.HTML object>"
      ]
     },
     "metadata": {},
     "output_type": "display_data"
    },
    {
     "data": {
      "text/html": [
       " View project at <a href='https://wandb.ai/TFE-proteomics/MLP' target=\"_blank\">https://wandb.ai/TFE-proteomics/MLP</a>"
      ],
      "text/plain": [
       "<IPython.core.display.HTML object>"
      ]
     },
     "metadata": {},
     "output_type": "display_data"
    },
    {
     "data": {
      "text/html": [
       " View run at <a href='https://wandb.ai/TFE-proteomics/MLP/runs/6i73pcae' target=\"_blank\">https://wandb.ai/TFE-proteomics/MLP/runs/6i73pcae</a>"
      ],
      "text/plain": [
       "<IPython.core.display.HTML object>"
      ]
     },
     "metadata": {},
     "output_type": "display_data"
    },
    {
     "data": {
      "application/vnd.jupyter.widget-view+json": {
       "model_id": "15494582e55748278681a9fa96255dcc",
       "version_major": 2,
       "version_minor": 0
      },
      "text/plain": [
       "VBox(children=(Label(value='0.004 MB of 0.018 MB uploaded\\r'), FloatProgress(value=0.22453930728333246, max=1.…"
      ]
     },
     "metadata": {},
     "output_type": "display_data"
    },
    {
     "data": {
      "text/html": [
       "<style>\n",
       "    table.wandb td:nth-child(1) { padding: 0 10px; text-align: left ; width: auto;} td:nth-child(2) {text-align: left ; width: 100%}\n",
       "    .wandb-row { display: flex; flex-direction: row; flex-wrap: wrap; justify-content: flex-start; width: 100% }\n",
       "    .wandb-col { display: flex; flex-direction: column; flex-basis: 100%; flex: 1; padding: 10px; }\n",
       "    </style>\n",
       "<div class=\"wandb-row\"><div class=\"wandb-col\"><h3>Run history:</h3><br/><table class=\"wandb\"><tr><td>accuracy</td><td>▁</td></tr><tr><td>f1</td><td>▁</td></tr><tr><td>pr_auc</td><td>▁</td></tr><tr><td>precision</td><td>▁</td></tr><tr><td>recall</td><td>▁</td></tr><tr><td>roc_auc</td><td>▁</td></tr></table><br/></div><div class=\"wandb-col\"><h3>Run summary:</h3><br/><table class=\"wandb\"><tr><td>accuracy</td><td>0.80645</td></tr><tr><td>f1</td><td>0.25</td></tr><tr><td>pr_auc</td><td>0.46412</td></tr><tr><td>precision</td><td>1.0</td></tr><tr><td>recall</td><td>0.14286</td></tr><tr><td>roc_auc</td><td>0.67262</td></tr></table><br/></div></div>"
      ],
      "text/plain": [
       "<IPython.core.display.HTML object>"
      ]
     },
     "metadata": {},
     "output_type": "display_data"
    },
    {
     "data": {
      "text/html": [
       " View run <strong style=\"color:#cdcd00\">Test_MLP_Scratch_fold_1</strong> at: <a href='https://wandb.ai/TFE-proteomics/MLP/runs/6i73pcae' target=\"_blank\">https://wandb.ai/TFE-proteomics/MLP/runs/6i73pcae</a><br/>Synced 5 W&B file(s), 0 media file(s), 0 artifact file(s) and 0 other file(s)"
      ],
      "text/plain": [
       "<IPython.core.display.HTML object>"
      ]
     },
     "metadata": {},
     "output_type": "display_data"
    },
    {
     "data": {
      "text/html": [
       "Find logs at: <code>./wandb/run-20250314_194531-6i73pcae/logs</code>"
      ],
      "text/plain": [
       "<IPython.core.display.HTML object>"
      ]
     },
     "metadata": {},
     "output_type": "display_data"
    },
    {
     "name": "stdout",
     "output_type": "stream",
     "text": [
      "Fold 2 on 5\n",
      "Testing config 1 on 48\n",
      "Early stopping triggered at 6 epoch.\n",
      "Testing config 2 on 48\n",
      "Early stopping triggered at 7 epoch.\n",
      "Testing config 3 on 48\n",
      "Early stopping triggered at 8 epoch.\n",
      "Testing config 4 on 48\n",
      "Early stopping triggered at 10 epoch.\n",
      "Testing config 5 on 48\n",
      "Early stopping triggered at 6 epoch.\n",
      "Testing config 6 on 48\n",
      "Early stopping triggered at 8 epoch.\n",
      "Testing config 7 on 48\n",
      "Early stopping triggered at 19 epoch.\n",
      "Testing config 8 on 48\n",
      "Early stopping triggered at 5 epoch.\n",
      "Testing config 9 on 48\n",
      "Early stopping triggered at 5 epoch.\n",
      "Testing config 10 on 48\n",
      "Early stopping triggered at 6 epoch.\n",
      "Testing config 11 on 48\n",
      "Early stopping triggered at 22 epoch.\n",
      "Testing config 12 on 48\n",
      "Early stopping triggered at 19 epoch.\n",
      "Testing config 13 on 48\n",
      "Early stopping triggered at 5 epoch.\n",
      "Testing config 14 on 48\n",
      "Early stopping triggered at 14 epoch.\n",
      "Testing config 15 on 48\n",
      "Early stopping triggered at 33 epoch.\n",
      "Testing config 16 on 48\n",
      "Early stopping triggered at 28 epoch.\n",
      "Testing config 17 on 48\n",
      "Early stopping triggered at 5 epoch.\n",
      "Testing config 18 on 48\n",
      "Early stopping triggered at 29 epoch.\n",
      "Testing config 19 on 48\n",
      "Early stopping triggered at 9 epoch.\n",
      "Testing config 20 on 48\n",
      "Early stopping triggered at 6 epoch.\n",
      "Testing config 21 on 48\n",
      "Early stopping triggered at 11 epoch.\n",
      "Testing config 22 on 48\n",
      "Early stopping triggered at 6 epoch.\n",
      "Testing config 23 on 48\n",
      "Early stopping triggered at 9 epoch.\n",
      "Testing config 24 on 48\n",
      "Early stopping triggered at 13 epoch.\n",
      "Testing config 25 on 48\n",
      "Early stopping triggered at 5 epoch.\n",
      "Testing config 26 on 48\n",
      "Early stopping triggered at 14 epoch.\n",
      "Testing config 27 on 48\n",
      "Early stopping triggered at 15 epoch.\n",
      "Testing config 28 on 48\n",
      "Early stopping triggered at 16 epoch.\n",
      "Testing config 29 on 48\n",
      "Early stopping triggered at 6 epoch.\n",
      "Testing config 30 on 48\n",
      "Early stopping triggered at 24 epoch.\n",
      "Testing config 31 on 48\n",
      "Early stopping triggered at 10 epoch.\n",
      "Testing config 32 on 48\n",
      "Early stopping triggered at 8 epoch.\n",
      "Testing config 33 on 48\n",
      "Early stopping triggered at 8 epoch.\n",
      "Testing config 34 on 48\n",
      "Early stopping triggered at 6 epoch.\n",
      "Testing config 35 on 48\n",
      "Early stopping triggered at 11 epoch.\n",
      "Testing config 36 on 48\n",
      "Early stopping triggered at 6 epoch.\n",
      "Testing config 37 on 48\n",
      "Early stopping triggered at 11 epoch.\n",
      "Testing config 38 on 48\n",
      "Early stopping triggered at 21 epoch.\n",
      "Testing config 39 on 48\n",
      "Early stopping triggered at 8 epoch.\n",
      "Testing config 40 on 48\n",
      "Early stopping triggered at 11 epoch.\n",
      "Testing config 41 on 48\n",
      "Early stopping triggered at 18 epoch.\n",
      "Testing config 42 on 48\n",
      "Early stopping triggered at 7 epoch.\n",
      "Testing config 43 on 48\n",
      "Early stopping triggered at 31 epoch.\n",
      "Testing config 44 on 48\n",
      "Early stopping triggered at 23 epoch.\n",
      "Testing config 45 on 48\n",
      "Early stopping triggered at 18 epoch.\n",
      "Testing config 46 on 48\n",
      "Early stopping triggered at 60 epoch.\n",
      "Testing config 47 on 48\n",
      "Early stopping triggered at 32 epoch.\n",
      "Testing config 48 on 48\n",
      "Early stopping triggered at 28 epoch.\n",
      "\n",
      "--------------------------------------Config Done--------------------------------------------\n",
      "\n"
     ]
    },
    {
     "data": {
      "text/html": [
       "wandb version 0.19.8 is available!  To upgrade, please run:\n",
       " $ pip install wandb --upgrade"
      ],
      "text/plain": [
       "<IPython.core.display.HTML object>"
      ]
     },
     "metadata": {},
     "output_type": "display_data"
    },
    {
     "data": {
      "text/html": [
       "Tracking run with wandb version 0.16.4"
      ],
      "text/plain": [
       "<IPython.core.display.HTML object>"
      ]
     },
     "metadata": {},
     "output_type": "display_data"
    },
    {
     "data": {
      "text/html": [
       "Run data is saved locally in <code>/home/jwalraff/TFE/wandb/run-20250314_194549-gcup8shb</code>"
      ],
      "text/plain": [
       "<IPython.core.display.HTML object>"
      ]
     },
     "metadata": {},
     "output_type": "display_data"
    },
    {
     "data": {
      "text/html": [
       "Syncing run <strong><a href='https://wandb.ai/TFE-proteomics/MLP/runs/gcup8shb' target=\"_blank\">Test_MLP_Scratch_fold_2</a></strong> to <a href='https://wandb.ai/TFE-proteomics/MLP' target=\"_blank\">Weights & Biases</a> (<a href='https://wandb.me/run' target=\"_blank\">docs</a>)<br/>"
      ],
      "text/plain": [
       "<IPython.core.display.HTML object>"
      ]
     },
     "metadata": {},
     "output_type": "display_data"
    },
    {
     "data": {
      "text/html": [
       " View project at <a href='https://wandb.ai/TFE-proteomics/MLP' target=\"_blank\">https://wandb.ai/TFE-proteomics/MLP</a>"
      ],
      "text/plain": [
       "<IPython.core.display.HTML object>"
      ]
     },
     "metadata": {},
     "output_type": "display_data"
    },
    {
     "data": {
      "text/html": [
       " View run at <a href='https://wandb.ai/TFE-proteomics/MLP/runs/gcup8shb' target=\"_blank\">https://wandb.ai/TFE-proteomics/MLP/runs/gcup8shb</a>"
      ],
      "text/plain": [
       "<IPython.core.display.HTML object>"
      ]
     },
     "metadata": {},
     "output_type": "display_data"
    },
    {
     "data": {
      "application/vnd.jupyter.widget-view+json": {
       "model_id": "901a528baea248b0b4fc42c50b639611",
       "version_major": 2,
       "version_minor": 0
      },
      "text/plain": [
       "VBox(children=(Label(value='0.004 MB of 0.018 MB uploaded\\r'), FloatProgress(value=0.22747724181228418, max=1.…"
      ]
     },
     "metadata": {},
     "output_type": "display_data"
    },
    {
     "data": {
      "text/html": [
       "<style>\n",
       "    table.wandb td:nth-child(1) { padding: 0 10px; text-align: left ; width: auto;} td:nth-child(2) {text-align: left ; width: 100%}\n",
       "    .wandb-row { display: flex; flex-direction: row; flex-wrap: wrap; justify-content: flex-start; width: 100% }\n",
       "    .wandb-col { display: flex; flex-direction: column; flex-basis: 100%; flex: 1; padding: 10px; }\n",
       "    </style>\n",
       "<div class=\"wandb-row\"><div class=\"wandb-col\"><h3>Run history:</h3><br/><table class=\"wandb\"><tr><td>accuracy</td><td>▁</td></tr><tr><td>f1</td><td>▁</td></tr><tr><td>pr_auc</td><td>▁</td></tr><tr><td>precision</td><td>▁</td></tr><tr><td>recall</td><td>▁</td></tr><tr><td>roc_auc</td><td>▁</td></tr></table><br/></div><div class=\"wandb-col\"><h3>Run summary:</h3><br/><table class=\"wandb\"><tr><td>accuracy</td><td>0.54839</td></tr><tr><td>f1</td><td>0.36364</td></tr><tr><td>pr_auc</td><td>0.31645</td></tr><tr><td>precision</td><td>0.26667</td></tr><tr><td>recall</td><td>0.57143</td></tr><tr><td>roc_auc</td><td>0.58929</td></tr></table><br/></div></div>"
      ],
      "text/plain": [
       "<IPython.core.display.HTML object>"
      ]
     },
     "metadata": {},
     "output_type": "display_data"
    },
    {
     "data": {
      "text/html": [
       " View run <strong style=\"color:#cdcd00\">Test_MLP_Scratch_fold_2</strong> at: <a href='https://wandb.ai/TFE-proteomics/MLP/runs/gcup8shb' target=\"_blank\">https://wandb.ai/TFE-proteomics/MLP/runs/gcup8shb</a><br/>Synced 5 W&B file(s), 0 media file(s), 0 artifact file(s) and 0 other file(s)"
      ],
      "text/plain": [
       "<IPython.core.display.HTML object>"
      ]
     },
     "metadata": {},
     "output_type": "display_data"
    },
    {
     "data": {
      "text/html": [
       "Find logs at: <code>./wandb/run-20250314_194549-gcup8shb/logs</code>"
      ],
      "text/plain": [
       "<IPython.core.display.HTML object>"
      ]
     },
     "metadata": {},
     "output_type": "display_data"
    },
    {
     "name": "stdout",
     "output_type": "stream",
     "text": [
      "Fold 3 on 5\n",
      "Testing config 1 on 48\n",
      "Early stopping triggered at 37 epoch.\n",
      "Testing config 2 on 48\n",
      "Early stopping triggered at 24 epoch.\n",
      "Testing config 3 on 48\n",
      "Early stopping triggered at 16 epoch.\n",
      "Testing config 4 on 48\n",
      "Early stopping triggered at 15 epoch.\n",
      "Testing config 5 on 48\n",
      "Early stopping triggered at 9 epoch.\n",
      "Testing config 6 on 48\n",
      "Early stopping triggered at 12 epoch.\n",
      "Testing config 7 on 48\n",
      "Early stopping triggered at 19 epoch.\n",
      "Testing config 8 on 48\n",
      "Early stopping triggered at 14 epoch.\n",
      "Testing config 9 on 48\n",
      "Early stopping triggered at 41 epoch.\n",
      "Testing config 10 on 48\n",
      "Early stopping triggered at 5 epoch.\n",
      "Testing config 11 on 48\n",
      "Early stopping triggered at 30 epoch.\n",
      "Testing config 12 on 48\n",
      "Early stopping triggered at 24 epoch.\n",
      "Testing config 13 on 48\n",
      "Early stopping triggered at 26 epoch.\n",
      "Testing config 14 on 48\n",
      "Early stopping triggered at 20 epoch.\n",
      "Testing config 15 on 48\n",
      "Early stopping triggered at 22 epoch.\n",
      "Testing config 16 on 48\n",
      "Early stopping triggered at 17 epoch.\n",
      "Testing config 17 on 48\n",
      "Early stopping triggered at 16 epoch.\n",
      "Testing config 18 on 48\n",
      "Early stopping triggered at 25 epoch.\n",
      "Testing config 19 on 48\n",
      "Early stopping triggered at 18 epoch.\n",
      "Testing config 20 on 48\n",
      "Early stopping triggered at 21 epoch.\n",
      "Testing config 21 on 48\n",
      "Early stopping triggered at 9 epoch.\n",
      "Testing config 22 on 48\n",
      "Early stopping triggered at 28 epoch.\n",
      "Testing config 23 on 48\n",
      "Early stopping triggered at 10 epoch.\n",
      "Testing config 24 on 48\n",
      "Early stopping triggered at 9 epoch.\n",
      "Testing config 25 on 48\n",
      "Early stopping triggered at 15 epoch.\n",
      "Testing config 26 on 48\n",
      "Early stopping triggered at 12 epoch.\n",
      "Testing config 27 on 48\n",
      "Early stopping triggered at 12 epoch.\n",
      "Testing config 28 on 48\n",
      "Early stopping triggered at 17 epoch.\n",
      "Testing config 29 on 48\n",
      "Early stopping triggered at 12 epoch.\n",
      "Testing config 30 on 48\n",
      "Early stopping triggered at 17 epoch.\n",
      "Testing config 31 on 48\n",
      "Early stopping triggered at 12 epoch.\n",
      "Testing config 32 on 48\n",
      "Early stopping triggered at 8 epoch.\n",
      "Testing config 33 on 48\n",
      "Early stopping triggered at 12 epoch.\n",
      "Testing config 34 on 48\n",
      "Early stopping triggered at 20 epoch.\n",
      "Testing config 35 on 48\n",
      "Early stopping triggered at 14 epoch.\n",
      "Testing config 36 on 48\n",
      "Early stopping triggered at 18 epoch.\n",
      "Testing config 37 on 48\n",
      "Early stopping triggered at 10 epoch.\n",
      "Testing config 38 on 48\n",
      "Early stopping triggered at 5 epoch.\n",
      "Testing config 39 on 48\n",
      "Early stopping triggered at 12 epoch.\n",
      "Testing config 40 on 48\n",
      "Early stopping triggered at 10 epoch.\n",
      "Testing config 41 on 48\n",
      "Early stopping triggered at 21 epoch.\n",
      "Testing config 42 on 48\n",
      "Early stopping triggered at 20 epoch.\n",
      "Testing config 43 on 48\n",
      "Early stopping triggered at 31 epoch.\n",
      "Testing config 44 on 48\n",
      "Early stopping triggered at 19 epoch.\n",
      "Testing config 45 on 48\n",
      "Early stopping triggered at 33 epoch.\n",
      "Testing config 46 on 48\n",
      "Early stopping triggered at 25 epoch.\n",
      "Testing config 47 on 48\n",
      "Early stopping triggered at 18 epoch.\n",
      "Testing config 48 on 48\n",
      "Early stopping triggered at 10 epoch.\n",
      "\n",
      "--------------------------------------Config Done--------------------------------------------\n",
      "\n"
     ]
    },
    {
     "data": {
      "text/html": [
       "wandb version 0.19.8 is available!  To upgrade, please run:\n",
       " $ pip install wandb --upgrade"
      ],
      "text/plain": [
       "<IPython.core.display.HTML object>"
      ]
     },
     "metadata": {},
     "output_type": "display_data"
    },
    {
     "data": {
      "text/html": [
       "Tracking run with wandb version 0.16.4"
      ],
      "text/plain": [
       "<IPython.core.display.HTML object>"
      ]
     },
     "metadata": {},
     "output_type": "display_data"
    },
    {
     "data": {
      "text/html": [
       "Run data is saved locally in <code>/home/jwalraff/TFE/wandb/run-20250314_194610-r0jl3ova</code>"
      ],
      "text/plain": [
       "<IPython.core.display.HTML object>"
      ]
     },
     "metadata": {},
     "output_type": "display_data"
    },
    {
     "data": {
      "text/html": [
       "Syncing run <strong><a href='https://wandb.ai/TFE-proteomics/MLP/runs/r0jl3ova' target=\"_blank\">Test_MLP_Scratch_fold_3</a></strong> to <a href='https://wandb.ai/TFE-proteomics/MLP' target=\"_blank\">Weights & Biases</a> (<a href='https://wandb.me/run' target=\"_blank\">docs</a>)<br/>"
      ],
      "text/plain": [
       "<IPython.core.display.HTML object>"
      ]
     },
     "metadata": {},
     "output_type": "display_data"
    },
    {
     "data": {
      "text/html": [
       " View project at <a href='https://wandb.ai/TFE-proteomics/MLP' target=\"_blank\">https://wandb.ai/TFE-proteomics/MLP</a>"
      ],
      "text/plain": [
       "<IPython.core.display.HTML object>"
      ]
     },
     "metadata": {},
     "output_type": "display_data"
    },
    {
     "data": {
      "text/html": [
       " View run at <a href='https://wandb.ai/TFE-proteomics/MLP/runs/r0jl3ova' target=\"_blank\">https://wandb.ai/TFE-proteomics/MLP/runs/r0jl3ova</a>"
      ],
      "text/plain": [
       "<IPython.core.display.HTML object>"
      ]
     },
     "metadata": {},
     "output_type": "display_data"
    },
    {
     "data": {
      "application/vnd.jupyter.widget-view+json": {
       "model_id": "3e8d9a7a4f1c481fbdb915b7df0c797e",
       "version_major": 2,
       "version_minor": 0
      },
      "text/plain": [
       "VBox(children=(Label(value='0.004 MB of 0.018 MB uploaded\\r'), FloatProgress(value=0.22483862638781307, max=1.…"
      ]
     },
     "metadata": {},
     "output_type": "display_data"
    },
    {
     "data": {
      "text/html": [
       "<style>\n",
       "    table.wandb td:nth-child(1) { padding: 0 10px; text-align: left ; width: auto;} td:nth-child(2) {text-align: left ; width: 100%}\n",
       "    .wandb-row { display: flex; flex-direction: row; flex-wrap: wrap; justify-content: flex-start; width: 100% }\n",
       "    .wandb-col { display: flex; flex-direction: column; flex-basis: 100%; flex: 1; padding: 10px; }\n",
       "    </style>\n",
       "<div class=\"wandb-row\"><div class=\"wandb-col\"><h3>Run history:</h3><br/><table class=\"wandb\"><tr><td>accuracy</td><td>▁</td></tr><tr><td>f1</td><td>▁</td></tr><tr><td>pr_auc</td><td>▁</td></tr><tr><td>precision</td><td>▁</td></tr><tr><td>recall</td><td>▁</td></tr><tr><td>roc_auc</td><td>▁</td></tr></table><br/></div><div class=\"wandb-col\"><h3>Run summary:</h3><br/><table class=\"wandb\"><tr><td>accuracy</td><td>0.6129</td></tr><tr><td>f1</td><td>0.25</td></tr><tr><td>pr_auc</td><td>0.3645</td></tr><tr><td>precision</td><td>0.25</td></tr><tr><td>recall</td><td>0.25</td></tr><tr><td>roc_auc</td><td>0.41848</td></tr></table><br/></div></div>"
      ],
      "text/plain": [
       "<IPython.core.display.HTML object>"
      ]
     },
     "metadata": {},
     "output_type": "display_data"
    },
    {
     "data": {
      "text/html": [
       " View run <strong style=\"color:#cdcd00\">Test_MLP_Scratch_fold_3</strong> at: <a href='https://wandb.ai/TFE-proteomics/MLP/runs/r0jl3ova' target=\"_blank\">https://wandb.ai/TFE-proteomics/MLP/runs/r0jl3ova</a><br/>Synced 5 W&B file(s), 0 media file(s), 0 artifact file(s) and 0 other file(s)"
      ],
      "text/plain": [
       "<IPython.core.display.HTML object>"
      ]
     },
     "metadata": {},
     "output_type": "display_data"
    },
    {
     "data": {
      "text/html": [
       "Find logs at: <code>./wandb/run-20250314_194610-r0jl3ova/logs</code>"
      ],
      "text/plain": [
       "<IPython.core.display.HTML object>"
      ]
     },
     "metadata": {},
     "output_type": "display_data"
    },
    {
     "name": "stdout",
     "output_type": "stream",
     "text": [
      "Fold 4 on 5\n",
      "Testing config 1 on 48\n",
      "Early stopping triggered at 12 epoch.\n",
      "Testing config 2 on 48\n",
      "Early stopping triggered at 12 epoch.\n",
      "Testing config 3 on 48\n",
      "Early stopping triggered at 23 epoch.\n",
      "Testing config 4 on 48\n",
      "Early stopping triggered at 9 epoch.\n",
      "Testing config 5 on 48\n",
      "Early stopping triggered at 52 epoch.\n",
      "Testing config 6 on 48\n",
      "Early stopping triggered at 21 epoch.\n",
      "Testing config 7 on 48\n",
      "Early stopping triggered at 14 epoch.\n",
      "Testing config 8 on 48\n",
      "Early stopping triggered at 19 epoch.\n",
      "Testing config 9 on 48\n",
      "Early stopping triggered at 31 epoch.\n",
      "Testing config 10 on 48\n",
      "Early stopping triggered at 10 epoch.\n",
      "Testing config 11 on 48\n",
      "Early stopping triggered at 31 epoch.\n",
      "Testing config 12 on 48\n",
      "Early stopping triggered at 18 epoch.\n",
      "Testing config 13 on 48\n",
      "Early stopping triggered at 38 epoch.\n",
      "Testing config 14 on 48\n",
      "Early stopping triggered at 9 epoch.\n",
      "Testing config 15 on 48\n",
      "Early stopping triggered at 5 epoch.\n",
      "Testing config 16 on 48\n",
      "Early stopping triggered at 10 epoch.\n",
      "Testing config 17 on 48\n",
      "Early stopping triggered at 30 epoch.\n",
      "Testing config 18 on 48\n",
      "Early stopping triggered at 27 epoch.\n",
      "Testing config 19 on 48\n",
      "Early stopping triggered at 21 epoch.\n",
      "Testing config 20 on 48\n",
      "Early stopping triggered at 21 epoch.\n",
      "Testing config 21 on 48\n",
      "Early stopping triggered at 16 epoch.\n",
      "Testing config 22 on 48\n",
      "Early stopping triggered at 29 epoch.\n",
      "Testing config 23 on 48\n",
      "Early stopping triggered at 8 epoch.\n",
      "Testing config 24 on 48\n",
      "Early stopping triggered at 43 epoch.\n",
      "Testing config 25 on 48\n",
      "Early stopping triggered at 12 epoch.\n",
      "Testing config 26 on 48\n",
      "Early stopping triggered at 20 epoch.\n",
      "Testing config 27 on 48\n",
      "Early stopping triggered at 12 epoch.\n",
      "Testing config 28 on 48\n",
      "Early stopping triggered at 12 epoch.\n",
      "Testing config 29 on 48\n",
      "Early stopping triggered at 19 epoch.\n",
      "Testing config 30 on 48\n",
      "Early stopping triggered at 18 epoch.\n",
      "Testing config 31 on 48\n",
      "Early stopping triggered at 27 epoch.\n",
      "Testing config 32 on 48\n",
      "Early stopping triggered at 14 epoch.\n",
      "Testing config 33 on 48\n",
      "Early stopping triggered at 29 epoch.\n",
      "Testing config 34 on 48\n",
      "Early stopping triggered at 11 epoch.\n",
      "Testing config 35 on 48\n",
      "Early stopping triggered at 7 epoch.\n",
      "Testing config 36 on 48\n",
      "Early stopping triggered at 9 epoch.\n",
      "Testing config 37 on 48\n",
      "Early stopping triggered at 12 epoch.\n",
      "Testing config 38 on 48\n",
      "Early stopping triggered at 16 epoch.\n",
      "Testing config 39 on 48\n",
      "Early stopping triggered at 38 epoch.\n",
      "Testing config 40 on 48\n",
      "Early stopping triggered at 14 epoch.\n",
      "Testing config 41 on 48\n",
      "Early stopping triggered at 15 epoch.\n",
      "Testing config 42 on 48\n",
      "Early stopping triggered at 25 epoch.\n",
      "Testing config 43 on 48\n",
      "Early stopping triggered at 13 epoch.\n",
      "Testing config 44 on 48\n",
      "Early stopping triggered at 12 epoch.\n",
      "Testing config 45 on 48\n",
      "Early stopping triggered at 11 epoch.\n",
      "Testing config 46 on 48\n",
      "Early stopping triggered at 8 epoch.\n",
      "Testing config 47 on 48\n",
      "Early stopping triggered at 11 epoch.\n",
      "Testing config 48 on 48\n",
      "Early stopping triggered at 21 epoch.\n",
      "\n",
      "--------------------------------------Config Done--------------------------------------------\n",
      "\n"
     ]
    },
    {
     "data": {
      "text/html": [
       "wandb version 0.19.8 is available!  To upgrade, please run:\n",
       " $ pip install wandb --upgrade"
      ],
      "text/plain": [
       "<IPython.core.display.HTML object>"
      ]
     },
     "metadata": {},
     "output_type": "display_data"
    },
    {
     "data": {
      "text/html": [
       "Tracking run with wandb version 0.16.4"
      ],
      "text/plain": [
       "<IPython.core.display.HTML object>"
      ]
     },
     "metadata": {},
     "output_type": "display_data"
    },
    {
     "data": {
      "text/html": [
       "Run data is saved locally in <code>/home/jwalraff/TFE/wandb/run-20250314_194631-xi98qx9q</code>"
      ],
      "text/plain": [
       "<IPython.core.display.HTML object>"
      ]
     },
     "metadata": {},
     "output_type": "display_data"
    },
    {
     "data": {
      "text/html": [
       "Syncing run <strong><a href='https://wandb.ai/TFE-proteomics/MLP/runs/xi98qx9q' target=\"_blank\">Test_MLP_Scratch_fold_4</a></strong> to <a href='https://wandb.ai/TFE-proteomics/MLP' target=\"_blank\">Weights & Biases</a> (<a href='https://wandb.me/run' target=\"_blank\">docs</a>)<br/>"
      ],
      "text/plain": [
       "<IPython.core.display.HTML object>"
      ]
     },
     "metadata": {},
     "output_type": "display_data"
    },
    {
     "data": {
      "text/html": [
       " View project at <a href='https://wandb.ai/TFE-proteomics/MLP' target=\"_blank\">https://wandb.ai/TFE-proteomics/MLP</a>"
      ],
      "text/plain": [
       "<IPython.core.display.HTML object>"
      ]
     },
     "metadata": {},
     "output_type": "display_data"
    },
    {
     "data": {
      "text/html": [
       " View run at <a href='https://wandb.ai/TFE-proteomics/MLP/runs/xi98qx9q' target=\"_blank\">https://wandb.ai/TFE-proteomics/MLP/runs/xi98qx9q</a>"
      ],
      "text/plain": [
       "<IPython.core.display.HTML object>"
      ]
     },
     "metadata": {},
     "output_type": "display_data"
    },
    {
     "data": {
      "application/vnd.jupyter.widget-view+json": {
       "model_id": "ed8dae30592746c8a1551ef3b7dc2abb",
       "version_major": 2,
       "version_minor": 0
      },
      "text/plain": [
       "VBox(children=(Label(value='0.004 MB of 0.018 MB uploaded\\r'), FloatProgress(value=0.2249251110422477, max=1.0…"
      ]
     },
     "metadata": {},
     "output_type": "display_data"
    },
    {
     "data": {
      "text/html": [
       "<style>\n",
       "    table.wandb td:nth-child(1) { padding: 0 10px; text-align: left ; width: auto;} td:nth-child(2) {text-align: left ; width: 100%}\n",
       "    .wandb-row { display: flex; flex-direction: row; flex-wrap: wrap; justify-content: flex-start; width: 100% }\n",
       "    .wandb-col { display: flex; flex-direction: column; flex-basis: 100%; flex: 1; padding: 10px; }\n",
       "    </style>\n",
       "<div class=\"wandb-row\"><div class=\"wandb-col\"><h3>Run history:</h3><br/><table class=\"wandb\"><tr><td>accuracy</td><td>▁</td></tr><tr><td>f1</td><td>▁</td></tr><tr><td>pr_auc</td><td>▁</td></tr><tr><td>precision</td><td>▁</td></tr><tr><td>recall</td><td>▁</td></tr><tr><td>roc_auc</td><td>▁</td></tr></table><br/></div><div class=\"wandb-col\"><h3>Run summary:</h3><br/><table class=\"wandb\"><tr><td>accuracy</td><td>0.74194</td></tr><tr><td>f1</td><td>0.5</td></tr><tr><td>pr_auc</td><td>0.61898</td></tr><tr><td>precision</td><td>0.5</td></tr><tr><td>recall</td><td>0.5</td></tr><tr><td>roc_auc</td><td>0.77717</td></tr></table><br/></div></div>"
      ],
      "text/plain": [
       "<IPython.core.display.HTML object>"
      ]
     },
     "metadata": {},
     "output_type": "display_data"
    },
    {
     "data": {
      "text/html": [
       " View run <strong style=\"color:#cdcd00\">Test_MLP_Scratch_fold_4</strong> at: <a href='https://wandb.ai/TFE-proteomics/MLP/runs/xi98qx9q' target=\"_blank\">https://wandb.ai/TFE-proteomics/MLP/runs/xi98qx9q</a><br/>Synced 5 W&B file(s), 0 media file(s), 0 artifact file(s) and 0 other file(s)"
      ],
      "text/plain": [
       "<IPython.core.display.HTML object>"
      ]
     },
     "metadata": {},
     "output_type": "display_data"
    },
    {
     "data": {
      "text/html": [
       "Find logs at: <code>./wandb/run-20250314_194631-xi98qx9q/logs</code>"
      ],
      "text/plain": [
       "<IPython.core.display.HTML object>"
      ]
     },
     "metadata": {},
     "output_type": "display_data"
    },
    {
     "name": "stdout",
     "output_type": "stream",
     "text": [
      "Fold 5 on 5\n",
      "Testing config 1 on 48\n",
      "Early stopping triggered at 24 epoch.\n",
      "Testing config 2 on 48\n",
      "Early stopping triggered at 8 epoch.\n",
      "Testing config 3 on 48\n",
      "Early stopping triggered at 11 epoch.\n",
      "Testing config 4 on 48\n",
      "Early stopping triggered at 14 epoch.\n",
      "Testing config 5 on 48\n",
      "Early stopping triggered at 47 epoch.\n",
      "Testing config 6 on 48\n",
      "Early stopping triggered at 41 epoch.\n",
      "Testing config 7 on 48\n",
      "Early stopping triggered at 52 epoch.\n",
      "Testing config 8 on 48\n",
      "Early stopping triggered at 24 epoch.\n",
      "Testing config 9 on 48\n",
      "Early stopping triggered at 59 epoch.\n",
      "Testing config 10 on 48\n",
      "Early stopping triggered at 29 epoch.\n",
      "Testing config 11 on 48\n",
      "Early stopping triggered at 53 epoch.\n",
      "Testing config 12 on 48\n",
      "Early stopping triggered at 45 epoch.\n",
      "Testing config 13 on 48\n",
      "Early stopping triggered at 47 epoch.\n",
      "Testing config 14 on 48\n",
      "Early stopping triggered at 22 epoch.\n",
      "Testing config 15 on 48\n",
      "Early stopping triggered at 21 epoch.\n",
      "Testing config 16 on 48\n",
      "Early stopping triggered at 37 epoch.\n",
      "Testing config 17 on 48\n",
      "Early stopping triggered at 34 epoch.\n",
      "Testing config 18 on 48\n",
      "Early stopping triggered at 27 epoch.\n",
      "Testing config 19 on 48\n",
      "Early stopping triggered at 12 epoch.\n",
      "Testing config 20 on 48\n",
      "Early stopping triggered at 14 epoch.\n",
      "Testing config 21 on 48\n",
      "Early stopping triggered at 7 epoch.\n",
      "Testing config 22 on 48\n",
      "Early stopping triggered at 13 epoch.\n",
      "Testing config 23 on 48\n",
      "Early stopping triggered at 12 epoch.\n",
      "Testing config 24 on 48\n",
      "Early stopping triggered at 16 epoch.\n",
      "Testing config 25 on 48\n",
      "Early stopping triggered at 10 epoch.\n",
      "Testing config 26 on 48\n",
      "Early stopping triggered at 10 epoch.\n",
      "Testing config 27 on 48\n",
      "Early stopping triggered at 6 epoch.\n",
      "Testing config 28 on 48\n",
      "Early stopping triggered at 9 epoch.\n",
      "Testing config 29 on 48\n",
      "Early stopping triggered at 13 epoch.\n",
      "Testing config 30 on 48\n",
      "Early stopping triggered at 12 epoch.\n",
      "Testing config 31 on 48\n",
      "Early stopping triggered at 20 epoch.\n",
      "Testing config 32 on 48\n",
      "Early stopping triggered at 28 epoch.\n",
      "Testing config 33 on 48\n",
      "Early stopping triggered at 22 epoch.\n",
      "Testing config 34 on 48\n",
      "Early stopping triggered at 10 epoch.\n",
      "Testing config 35 on 48\n",
      "Early stopping triggered at 12 epoch.\n",
      "Testing config 36 on 48\n",
      "Early stopping triggered at 17 epoch.\n",
      "Testing config 37 on 48\n",
      "Early stopping triggered at 25 epoch.\n",
      "Testing config 38 on 48\n",
      "Early stopping triggered at 16 epoch.\n",
      "Testing config 39 on 48\n",
      "Early stopping triggered at 13 epoch.\n",
      "Testing config 40 on 48\n",
      "Early stopping triggered at 9 epoch.\n",
      "Testing config 41 on 48\n",
      "Early stopping triggered at 41 epoch.\n",
      "Testing config 42 on 48\n",
      "Early stopping triggered at 9 epoch.\n",
      "Testing config 43 on 48\n",
      "Early stopping triggered at 13 epoch.\n",
      "Testing config 44 on 48\n",
      "Early stopping triggered at 17 epoch.\n",
      "Testing config 45 on 48\n",
      "Early stopping triggered at 20 epoch.\n",
      "Testing config 46 on 48\n",
      "Early stopping triggered at 12 epoch.\n",
      "Testing config 47 on 48\n",
      "Early stopping triggered at 29 epoch.\n",
      "Testing config 48 on 48\n",
      "Early stopping triggered at 45 epoch.\n",
      "\n",
      "--------------------------------------Config Done--------------------------------------------\n",
      "\n"
     ]
    },
    {
     "data": {
      "text/html": [
       "wandb version 0.19.8 is available!  To upgrade, please run:\n",
       " $ pip install wandb --upgrade"
      ],
      "text/plain": [
       "<IPython.core.display.HTML object>"
      ]
     },
     "metadata": {},
     "output_type": "display_data"
    },
    {
     "data": {
      "text/html": [
       "Tracking run with wandb version 0.16.4"
      ],
      "text/plain": [
       "<IPython.core.display.HTML object>"
      ]
     },
     "metadata": {},
     "output_type": "display_data"
    },
    {
     "data": {
      "text/html": [
       "Run data is saved locally in <code>/home/jwalraff/TFE/wandb/run-20250314_194655-0ijmfqhe</code>"
      ],
      "text/plain": [
       "<IPython.core.display.HTML object>"
      ]
     },
     "metadata": {},
     "output_type": "display_data"
    },
    {
     "data": {
      "text/html": [
       "Syncing run <strong><a href='https://wandb.ai/TFE-proteomics/MLP/runs/0ijmfqhe' target=\"_blank\">Test_MLP_Scratch_fold_5</a></strong> to <a href='https://wandb.ai/TFE-proteomics/MLP' target=\"_blank\">Weights & Biases</a> (<a href='https://wandb.me/run' target=\"_blank\">docs</a>)<br/>"
      ],
      "text/plain": [
       "<IPython.core.display.HTML object>"
      ]
     },
     "metadata": {},
     "output_type": "display_data"
    },
    {
     "data": {
      "text/html": [
       " View project at <a href='https://wandb.ai/TFE-proteomics/MLP' target=\"_blank\">https://wandb.ai/TFE-proteomics/MLP</a>"
      ],
      "text/plain": [
       "<IPython.core.display.HTML object>"
      ]
     },
     "metadata": {},
     "output_type": "display_data"
    },
    {
     "data": {
      "text/html": [
       " View run at <a href='https://wandb.ai/TFE-proteomics/MLP/runs/0ijmfqhe' target=\"_blank\">https://wandb.ai/TFE-proteomics/MLP/runs/0ijmfqhe</a>"
      ],
      "text/plain": [
       "<IPython.core.display.HTML object>"
      ]
     },
     "metadata": {},
     "output_type": "display_data"
    },
    {
     "data": {
      "application/vnd.jupyter.widget-view+json": {
       "model_id": "d4dc28640cfd47048978b9e983657134",
       "version_major": 2,
       "version_minor": 0
      },
      "text/plain": [
       "VBox(children=(Label(value='0.004 MB of 0.018 MB uploaded\\r'), FloatProgress(value=0.22448768905177308, max=1.…"
      ]
     },
     "metadata": {},
     "output_type": "display_data"
    },
    {
     "data": {
      "text/html": [
       "<style>\n",
       "    table.wandb td:nth-child(1) { padding: 0 10px; text-align: left ; width: auto;} td:nth-child(2) {text-align: left ; width: 100%}\n",
       "    .wandb-row { display: flex; flex-direction: row; flex-wrap: wrap; justify-content: flex-start; width: 100% }\n",
       "    .wandb-col { display: flex; flex-direction: column; flex-basis: 100%; flex: 1; padding: 10px; }\n",
       "    </style>\n",
       "<div class=\"wandb-row\"><div class=\"wandb-col\"><h3>Run history:</h3><br/><table class=\"wandb\"><tr><td>accuracy</td><td>▁</td></tr><tr><td>f1</td><td>▁</td></tr><tr><td>pr_auc</td><td>▁</td></tr><tr><td>precision</td><td>▁</td></tr><tr><td>recall</td><td>▁</td></tr><tr><td>roc_auc</td><td>▁</td></tr></table><br/></div><div class=\"wandb-col\"><h3>Run summary:</h3><br/><table class=\"wandb\"><tr><td>accuracy</td><td>0.64516</td></tr><tr><td>f1</td><td>0.15385</td></tr><tr><td>pr_auc</td><td>0.40876</td></tr><tr><td>precision</td><td>0.2</td></tr><tr><td>recall</td><td>0.125</td></tr><tr><td>roc_auc</td><td>0.61413</td></tr></table><br/></div></div>"
      ],
      "text/plain": [
       "<IPython.core.display.HTML object>"
      ]
     },
     "metadata": {},
     "output_type": "display_data"
    },
    {
     "data": {
      "text/html": [
       " View run <strong style=\"color:#cdcd00\">Test_MLP_Scratch_fold_5</strong> at: <a href='https://wandb.ai/TFE-proteomics/MLP/runs/0ijmfqhe' target=\"_blank\">https://wandb.ai/TFE-proteomics/MLP/runs/0ijmfqhe</a><br/>Synced 5 W&B file(s), 0 media file(s), 0 artifact file(s) and 0 other file(s)"
      ],
      "text/plain": [
       "<IPython.core.display.HTML object>"
      ]
     },
     "metadata": {},
     "output_type": "display_data"
    },
    {
     "data": {
      "text/html": [
       "Find logs at: <code>./wandb/run-20250314_194655-0ijmfqhe/logs</code>"
      ],
      "text/plain": [
       "<IPython.core.display.HTML object>"
      ]
     },
     "metadata": {},
     "output_type": "display_data"
    },
    {
     "data": {
      "application/vnd.jupyter.widget-view+json": {
       "model_id": "d6effd590f114913a90b49ec90e39069",
       "version_major": 2,
       "version_minor": 0
      },
      "text/plain": [
       "VBox(children=(Label(value='Waiting for wandb.init()...\\r'), FloatProgress(value=0.011112079893549284, max=1.0…"
      ]
     },
     "metadata": {},
     "output_type": "display_data"
    },
    {
     "data": {
      "text/html": [
       "wandb version 0.19.8 is available!  To upgrade, please run:\n",
       " $ pip install wandb --upgrade"
      ],
      "text/plain": [
       "<IPython.core.display.HTML object>"
      ]
     },
     "metadata": {},
     "output_type": "display_data"
    },
    {
     "data": {
      "text/html": [
       "Tracking run with wandb version 0.16.4"
      ],
      "text/plain": [
       "<IPython.core.display.HTML object>"
      ]
     },
     "metadata": {},
     "output_type": "display_data"
    },
    {
     "data": {
      "text/html": [
       "Run data is saved locally in <code>/home/jwalraff/TFE/wandb/run-20250314_194703-q6odnzgc</code>"
      ],
      "text/plain": [
       "<IPython.core.display.HTML object>"
      ]
     },
     "metadata": {},
     "output_type": "display_data"
    },
    {
     "data": {
      "text/html": [
       "Syncing run <strong><a href='https://wandb.ai/TFE-proteomics/MLP/runs/q6odnzgc' target=\"_blank\">Test_MLP_Scratch_CrossValidation_Summary</a></strong> to <a href='https://wandb.ai/TFE-proteomics/MLP' target=\"_blank\">Weights & Biases</a> (<a href='https://wandb.me/run' target=\"_blank\">docs</a>)<br/>"
      ],
      "text/plain": [
       "<IPython.core.display.HTML object>"
      ]
     },
     "metadata": {},
     "output_type": "display_data"
    },
    {
     "data": {
      "text/html": [
       " View project at <a href='https://wandb.ai/TFE-proteomics/MLP' target=\"_blank\">https://wandb.ai/TFE-proteomics/MLP</a>"
      ],
      "text/plain": [
       "<IPython.core.display.HTML object>"
      ]
     },
     "metadata": {},
     "output_type": "display_data"
    },
    {
     "data": {
      "text/html": [
       " View run at <a href='https://wandb.ai/TFE-proteomics/MLP/runs/q6odnzgc' target=\"_blank\">https://wandb.ai/TFE-proteomics/MLP/runs/q6odnzgc</a>"
      ],
      "text/plain": [
       "<IPython.core.display.HTML object>"
      ]
     },
     "metadata": {},
     "output_type": "display_data"
    },
    {
     "data": {
      "application/vnd.jupyter.widget-view+json": {
       "model_id": "de98fe78dc014a998fdf42f9a69cacc4",
       "version_major": 2,
       "version_minor": 0
      },
      "text/plain": [
       "VBox(children=(Label(value='0.004 MB of 0.019 MB uploaded\\r'), FloatProgress(value=0.2213736571457665, max=1.0…"
      ]
     },
     "metadata": {},
     "output_type": "display_data"
    },
    {
     "data": {
      "text/html": [
       "<style>\n",
       "    table.wandb td:nth-child(1) { padding: 0 10px; text-align: left ; width: auto;} td:nth-child(2) {text-align: left ; width: 100%}\n",
       "    .wandb-row { display: flex; flex-direction: row; flex-wrap: wrap; justify-content: flex-start; width: 100% }\n",
       "    .wandb-col { display: flex; flex-direction: column; flex-basis: 100%; flex: 1; padding: 10px; }\n",
       "    </style>\n",
       "<div class=\"wandb-row\"><div class=\"wandb-col\"><h3>Run history:</h3><br/><table class=\"wandb\"><tr><td>accuracy_mean</td><td>▁</td></tr><tr><td>accuracy_std</td><td>▁</td></tr><tr><td>f1_mean</td><td>▁</td></tr><tr><td>f1_std</td><td>▁</td></tr><tr><td>pr_auc_mean</td><td>▁</td></tr><tr><td>pr_auc_std</td><td>▁</td></tr><tr><td>precision_mean</td><td>▁</td></tr><tr><td>precision_std</td><td>▁</td></tr><tr><td>recall_mean</td><td>▁</td></tr><tr><td>recall_std</td><td>▁</td></tr><tr><td>roc_auc_mean</td><td>▁</td></tr><tr><td>roc_auc_std</td><td>▁</td></tr></table><br/></div><div class=\"wandb-col\"><h3>Run summary:</h3><br/><table class=\"wandb\"><tr><td>accuracy_mean</td><td>0.67097</td></tr><tr><td>accuracy_std</td><td>0.09215</td></tr><tr><td>f1_mean</td><td>0.3035</td></tr><tr><td>f1_std</td><td>0.11862</td></tr><tr><td>pr_auc_mean</td><td>0.43456</td></tr><tr><td>pr_auc_std</td><td>0.10432</td></tr><tr><td>precision_mean</td><td>0.44333</td></tr><tr><td>precision_std</td><td>0.29695</td></tr><tr><td>recall_mean</td><td>0.31786</td></tr><tr><td>recall_std</td><td>0.18434</td></tr><tr><td>roc_auc_mean</td><td>0.61434</td></tr><tr><td>roc_auc_std</td><td>0.11739</td></tr></table><br/></div></div>"
      ],
      "text/plain": [
       "<IPython.core.display.HTML object>"
      ]
     },
     "metadata": {},
     "output_type": "display_data"
    },
    {
     "data": {
      "text/html": [
       " View run <strong style=\"color:#cdcd00\">Test_MLP_Scratch_CrossValidation_Summary</strong> at: <a href='https://wandb.ai/TFE-proteomics/MLP/runs/q6odnzgc' target=\"_blank\">https://wandb.ai/TFE-proteomics/MLP/runs/q6odnzgc</a><br/>Synced 5 W&B file(s), 0 media file(s), 0 artifact file(s) and 0 other file(s)"
      ],
      "text/plain": [
       "<IPython.core.display.HTML object>"
      ]
     },
     "metadata": {},
     "output_type": "display_data"
    },
    {
     "data": {
      "text/html": [
       "Find logs at: <code>./wandb/run-20250314_194703-q6odnzgc/logs</code>"
      ],
      "text/plain": [
       "<IPython.core.display.HTML object>"
      ]
     },
     "metadata": {},
     "output_type": "display_data"
    },
    {
     "name": "stdout",
     "output_type": "stream",
     "text": [
      "Fold 1 on 5\n",
      "Testing config 1 on 48\n",
      "Testing config 2 on 48\n",
      "Testing config 3 on 48\n",
      "Testing config 4 on 48\n",
      "Testing config 5 on 48\n",
      "Testing config 6 on 48\n",
      "Testing config 7 on 48\n",
      "Testing config 8 on 48\n",
      "Testing config 9 on 48\n",
      "Testing config 10 on 48\n",
      "Testing config 11 on 48\n",
      "Testing config 12 on 48\n",
      "Testing config 13 on 48\n",
      "Testing config 14 on 48\n",
      "Testing config 15 on 48\n",
      "Testing config 16 on 48\n",
      "Testing config 17 on 48\n",
      "Testing config 18 on 48\n",
      "Testing config 19 on 48\n",
      "Testing config 20 on 48\n",
      "Testing config 21 on 48\n",
      "Testing config 22 on 48\n",
      "Testing config 23 on 48\n",
      "Testing config 24 on 48\n",
      "Testing config 25 on 48\n",
      "Testing config 26 on 48\n",
      "Testing config 27 on 48\n",
      "Testing config 28 on 48\n",
      "Testing config 29 on 48\n",
      "Testing config 30 on 48\n",
      "Testing config 31 on 48\n",
      "Testing config 32 on 48\n",
      "Testing config 33 on 48\n",
      "Testing config 34 on 48\n",
      "Testing config 35 on 48\n",
      "Testing config 36 on 48\n",
      "Testing config 37 on 48\n",
      "Testing config 38 on 48\n",
      "Testing config 39 on 48\n",
      "Testing config 40 on 48\n",
      "Testing config 41 on 48\n",
      "Testing config 42 on 48\n",
      "Testing config 43 on 48\n",
      "Testing config 44 on 48\n",
      "Testing config 45 on 48\n",
      "Testing config 46 on 48\n",
      "Testing config 47 on 48\n",
      "Testing config 48 on 48\n",
      "\n",
      "--------------------------------------Config Done--------------------------------------------\n",
      "\n"
     ]
    },
    {
     "data": {
      "text/html": [
       "wandb version 0.19.8 is available!  To upgrade, please run:\n",
       " $ pip install wandb --upgrade"
      ],
      "text/plain": [
       "<IPython.core.display.HTML object>"
      ]
     },
     "metadata": {},
     "output_type": "display_data"
    },
    {
     "data": {
      "text/html": [
       "Tracking run with wandb version 0.16.4"
      ],
      "text/plain": [
       "<IPython.core.display.HTML object>"
      ]
     },
     "metadata": {},
     "output_type": "display_data"
    },
    {
     "data": {
      "text/html": [
       "Run data is saved locally in <code>/home/jwalraff/TFE/wandb/run-20250314_194823-moe57j7k</code>"
      ],
      "text/plain": [
       "<IPython.core.display.HTML object>"
      ]
     },
     "metadata": {},
     "output_type": "display_data"
    },
    {
     "data": {
      "text/html": [
       "Syncing run <strong><a href='https://wandb.ai/TFE-proteomics/MLP/runs/moe57j7k' target=\"_blank\">Test_MLP_Scratch_fold_1</a></strong> to <a href='https://wandb.ai/TFE-proteomics/MLP' target=\"_blank\">Weights & Biases</a> (<a href='https://wandb.me/run' target=\"_blank\">docs</a>)<br/>"
      ],
      "text/plain": [
       "<IPython.core.display.HTML object>"
      ]
     },
     "metadata": {},
     "output_type": "display_data"
    },
    {
     "data": {
      "text/html": [
       " View project at <a href='https://wandb.ai/TFE-proteomics/MLP' target=\"_blank\">https://wandb.ai/TFE-proteomics/MLP</a>"
      ],
      "text/plain": [
       "<IPython.core.display.HTML object>"
      ]
     },
     "metadata": {},
     "output_type": "display_data"
    },
    {
     "data": {
      "text/html": [
       " View run at <a href='https://wandb.ai/TFE-proteomics/MLP/runs/moe57j7k' target=\"_blank\">https://wandb.ai/TFE-proteomics/MLP/runs/moe57j7k</a>"
      ],
      "text/plain": [
       "<IPython.core.display.HTML object>"
      ]
     },
     "metadata": {},
     "output_type": "display_data"
    },
    {
     "data": {
      "application/vnd.jupyter.widget-view+json": {
       "model_id": "1d1cd72823424e58acfe3cc247a4e17a",
       "version_major": 2,
       "version_minor": 0
      },
      "text/plain": [
       "VBox(children=(Label(value='0.004 MB of 0.019 MB uploaded\\r'), FloatProgress(value=0.2245003090871626, max=1.0…"
      ]
     },
     "metadata": {},
     "output_type": "display_data"
    },
    {
     "data": {
      "text/html": [
       "<style>\n",
       "    table.wandb td:nth-child(1) { padding: 0 10px; text-align: left ; width: auto;} td:nth-child(2) {text-align: left ; width: 100%}\n",
       "    .wandb-row { display: flex; flex-direction: row; flex-wrap: wrap; justify-content: flex-start; width: 100% }\n",
       "    .wandb-col { display: flex; flex-direction: column; flex-basis: 100%; flex: 1; padding: 10px; }\n",
       "    </style>\n",
       "<div class=\"wandb-row\"><div class=\"wandb-col\"><h3>Run history:</h3><br/><table class=\"wandb\"><tr><td>accuracy</td><td>▁</td></tr><tr><td>f1</td><td>▁</td></tr><tr><td>pr_auc</td><td>▁</td></tr><tr><td>precision</td><td>▁</td></tr><tr><td>recall</td><td>▁</td></tr><tr><td>roc_auc</td><td>▁</td></tr></table><br/></div><div class=\"wandb-col\"><h3>Run summary:</h3><br/><table class=\"wandb\"><tr><td>accuracy</td><td>0.6129</td></tr><tr><td>f1</td><td>0.14286</td></tr><tr><td>pr_auc</td><td>0.24983</td></tr><tr><td>precision</td><td>0.14286</td></tr><tr><td>recall</td><td>0.14286</td></tr><tr><td>roc_auc</td><td>0.49702</td></tr></table><br/></div></div>"
      ],
      "text/plain": [
       "<IPython.core.display.HTML object>"
      ]
     },
     "metadata": {},
     "output_type": "display_data"
    },
    {
     "data": {
      "text/html": [
       " View run <strong style=\"color:#cdcd00\">Test_MLP_Scratch_fold_1</strong> at: <a href='https://wandb.ai/TFE-proteomics/MLP/runs/moe57j7k' target=\"_blank\">https://wandb.ai/TFE-proteomics/MLP/runs/moe57j7k</a><br/>Synced 5 W&B file(s), 0 media file(s), 0 artifact file(s) and 0 other file(s)"
      ],
      "text/plain": [
       "<IPython.core.display.HTML object>"
      ]
     },
     "metadata": {},
     "output_type": "display_data"
    },
    {
     "data": {
      "text/html": [
       "Find logs at: <code>./wandb/run-20250314_194823-moe57j7k/logs</code>"
      ],
      "text/plain": [
       "<IPython.core.display.HTML object>"
      ]
     },
     "metadata": {},
     "output_type": "display_data"
    },
    {
     "name": "stdout",
     "output_type": "stream",
     "text": [
      "Fold 2 on 5\n",
      "Testing config 1 on 48\n",
      "Testing config 2 on 48\n",
      "Testing config 3 on 48\n",
      "Testing config 4 on 48\n",
      "Testing config 5 on 48\n",
      "Testing config 6 on 48\n",
      "Testing config 7 on 48\n",
      "Testing config 8 on 48\n",
      "Testing config 9 on 48\n",
      "Testing config 10 on 48\n",
      "Testing config 11 on 48\n",
      "Testing config 12 on 48\n",
      "Testing config 13 on 48\n",
      "Testing config 14 on 48\n",
      "Testing config 15 on 48\n",
      "Testing config 16 on 48\n",
      "Testing config 17 on 48\n",
      "Testing config 18 on 48\n",
      "Testing config 19 on 48\n",
      "Testing config 20 on 48\n",
      "Testing config 21 on 48\n",
      "Testing config 22 on 48\n",
      "Testing config 23 on 48\n",
      "Testing config 24 on 48\n",
      "Testing config 25 on 48\n",
      "Testing config 26 on 48\n",
      "Testing config 27 on 48\n",
      "Testing config 28 on 48\n",
      "Testing config 29 on 48\n",
      "Testing config 30 on 48\n",
      "Testing config 31 on 48\n",
      "Testing config 32 on 48\n",
      "Testing config 33 on 48\n",
      "Testing config 34 on 48\n",
      "Testing config 35 on 48\n",
      "Testing config 36 on 48\n",
      "Testing config 37 on 48\n",
      "Testing config 38 on 48\n",
      "Testing config 39 on 48\n",
      "Testing config 40 on 48\n",
      "Testing config 41 on 48\n",
      "Testing config 42 on 48\n",
      "Testing config 43 on 48\n",
      "Testing config 44 on 48\n",
      "Testing config 45 on 48\n",
      "Testing config 46 on 48\n",
      "Testing config 47 on 48\n",
      "Testing config 48 on 48\n",
      "\n",
      "--------------------------------------Config Done--------------------------------------------\n",
      "\n"
     ]
    },
    {
     "data": {
      "text/html": [
       "wandb version 0.19.8 is available!  To upgrade, please run:\n",
       " $ pip install wandb --upgrade"
      ],
      "text/plain": [
       "<IPython.core.display.HTML object>"
      ]
     },
     "metadata": {},
     "output_type": "display_data"
    },
    {
     "data": {
      "text/html": [
       "Tracking run with wandb version 0.16.4"
      ],
      "text/plain": [
       "<IPython.core.display.HTML object>"
      ]
     },
     "metadata": {},
     "output_type": "display_data"
    },
    {
     "data": {
      "text/html": [
       "Run data is saved locally in <code>/home/jwalraff/TFE/wandb/run-20250314_194942-alp3losi</code>"
      ],
      "text/plain": [
       "<IPython.core.display.HTML object>"
      ]
     },
     "metadata": {},
     "output_type": "display_data"
    },
    {
     "data": {
      "text/html": [
       "Syncing run <strong><a href='https://wandb.ai/TFE-proteomics/MLP/runs/alp3losi' target=\"_blank\">Test_MLP_Scratch_fold_2</a></strong> to <a href='https://wandb.ai/TFE-proteomics/MLP' target=\"_blank\">Weights & Biases</a> (<a href='https://wandb.me/run' target=\"_blank\">docs</a>)<br/>"
      ],
      "text/plain": [
       "<IPython.core.display.HTML object>"
      ]
     },
     "metadata": {},
     "output_type": "display_data"
    },
    {
     "data": {
      "text/html": [
       " View project at <a href='https://wandb.ai/TFE-proteomics/MLP' target=\"_blank\">https://wandb.ai/TFE-proteomics/MLP</a>"
      ],
      "text/plain": [
       "<IPython.core.display.HTML object>"
      ]
     },
     "metadata": {},
     "output_type": "display_data"
    },
    {
     "data": {
      "text/html": [
       " View run at <a href='https://wandb.ai/TFE-proteomics/MLP/runs/alp3losi' target=\"_blank\">https://wandb.ai/TFE-proteomics/MLP/runs/alp3losi</a>"
      ],
      "text/plain": [
       "<IPython.core.display.HTML object>"
      ]
     },
     "metadata": {},
     "output_type": "display_data"
    },
    {
     "data": {
      "application/vnd.jupyter.widget-view+json": {
       "model_id": "7824b101155f495db1e33178486f5a36",
       "version_major": 2,
       "version_minor": 0
      },
      "text/plain": [
       "VBox(children=(Label(value='0.004 MB of 0.019 MB uploaded\\r'), FloatProgress(value=0.2244887446556431, max=1.0…"
      ]
     },
     "metadata": {},
     "output_type": "display_data"
    },
    {
     "data": {
      "text/html": [
       "<style>\n",
       "    table.wandb td:nth-child(1) { padding: 0 10px; text-align: left ; width: auto;} td:nth-child(2) {text-align: left ; width: 100%}\n",
       "    .wandb-row { display: flex; flex-direction: row; flex-wrap: wrap; justify-content: flex-start; width: 100% }\n",
       "    .wandb-col { display: flex; flex-direction: column; flex-basis: 100%; flex: 1; padding: 10px; }\n",
       "    </style>\n",
       "<div class=\"wandb-row\"><div class=\"wandb-col\"><h3>Run history:</h3><br/><table class=\"wandb\"><tr><td>accuracy</td><td>▁</td></tr><tr><td>f1</td><td>▁</td></tr><tr><td>pr_auc</td><td>▁</td></tr><tr><td>precision</td><td>▁</td></tr><tr><td>recall</td><td>▁</td></tr><tr><td>roc_auc</td><td>▁</td></tr></table><br/></div><div class=\"wandb-col\"><h3>Run summary:</h3><br/><table class=\"wandb\"><tr><td>accuracy</td><td>0.64516</td></tr><tr><td>f1</td><td>0.15385</td></tr><tr><td>pr_auc</td><td>0.40035</td></tr><tr><td>precision</td><td>0.16667</td></tr><tr><td>recall</td><td>0.14286</td></tr><tr><td>roc_auc</td><td>0.60714</td></tr></table><br/></div></div>"
      ],
      "text/plain": [
       "<IPython.core.display.HTML object>"
      ]
     },
     "metadata": {},
     "output_type": "display_data"
    },
    {
     "data": {
      "text/html": [
       " View run <strong style=\"color:#cdcd00\">Test_MLP_Scratch_fold_2</strong> at: <a href='https://wandb.ai/TFE-proteomics/MLP/runs/alp3losi' target=\"_blank\">https://wandb.ai/TFE-proteomics/MLP/runs/alp3losi</a><br/>Synced 5 W&B file(s), 0 media file(s), 0 artifact file(s) and 0 other file(s)"
      ],
      "text/plain": [
       "<IPython.core.display.HTML object>"
      ]
     },
     "metadata": {},
     "output_type": "display_data"
    },
    {
     "data": {
      "text/html": [
       "Find logs at: <code>./wandb/run-20250314_194942-alp3losi/logs</code>"
      ],
      "text/plain": [
       "<IPython.core.display.HTML object>"
      ]
     },
     "metadata": {},
     "output_type": "display_data"
    },
    {
     "name": "stdout",
     "output_type": "stream",
     "text": [
      "Fold 3 on 5\n",
      "Testing config 1 on 48\n",
      "Testing config 2 on 48\n",
      "Testing config 3 on 48\n",
      "Testing config 4 on 48\n",
      "Testing config 5 on 48\n",
      "Testing config 6 on 48\n",
      "Testing config 7 on 48\n",
      "Testing config 8 on 48\n",
      "Testing config 9 on 48\n",
      "Testing config 10 on 48\n",
      "Testing config 11 on 48\n",
      "Testing config 12 on 48\n",
      "Testing config 13 on 48\n",
      "Testing config 14 on 48\n",
      "Testing config 15 on 48\n",
      "Testing config 16 on 48\n",
      "Testing config 17 on 48\n",
      "Testing config 18 on 48\n",
      "Testing config 19 on 48\n",
      "Testing config 20 on 48\n",
      "Testing config 21 on 48\n",
      "Testing config 22 on 48\n",
      "Testing config 23 on 48\n",
      "Testing config 24 on 48\n",
      "Testing config 25 on 48\n",
      "Testing config 26 on 48\n",
      "Testing config 27 on 48\n",
      "Testing config 28 on 48\n",
      "Testing config 29 on 48\n",
      "Testing config 30 on 48\n",
      "Testing config 31 on 48\n",
      "Testing config 32 on 48\n",
      "Testing config 33 on 48\n",
      "Testing config 34 on 48\n",
      "Testing config 35 on 48\n",
      "Testing config 36 on 48\n",
      "Testing config 37 on 48\n",
      "Testing config 38 on 48\n",
      "Testing config 39 on 48\n",
      "Testing config 40 on 48\n",
      "Testing config 41 on 48\n",
      "Testing config 42 on 48\n",
      "Testing config 43 on 48\n",
      "Testing config 44 on 48\n",
      "Testing config 45 on 48\n",
      "Testing config 46 on 48\n",
      "Testing config 47 on 48\n",
      "Testing config 48 on 48\n",
      "\n",
      "--------------------------------------Config Done--------------------------------------------\n",
      "\n"
     ]
    },
    {
     "data": {
      "text/html": [
       "wandb version 0.19.8 is available!  To upgrade, please run:\n",
       " $ pip install wandb --upgrade"
      ],
      "text/plain": [
       "<IPython.core.display.HTML object>"
      ]
     },
     "metadata": {},
     "output_type": "display_data"
    },
    {
     "data": {
      "text/html": [
       "Tracking run with wandb version 0.16.4"
      ],
      "text/plain": [
       "<IPython.core.display.HTML object>"
      ]
     },
     "metadata": {},
     "output_type": "display_data"
    },
    {
     "data": {
      "text/html": [
       "Run data is saved locally in <code>/home/jwalraff/TFE/wandb/run-20250314_195101-xszqyr1m</code>"
      ],
      "text/plain": [
       "<IPython.core.display.HTML object>"
      ]
     },
     "metadata": {},
     "output_type": "display_data"
    },
    {
     "data": {
      "text/html": [
       "Syncing run <strong><a href='https://wandb.ai/TFE-proteomics/MLP/runs/xszqyr1m' target=\"_blank\">Test_MLP_Scratch_fold_3</a></strong> to <a href='https://wandb.ai/TFE-proteomics/MLP' target=\"_blank\">Weights & Biases</a> (<a href='https://wandb.me/run' target=\"_blank\">docs</a>)<br/>"
      ],
      "text/plain": [
       "<IPython.core.display.HTML object>"
      ]
     },
     "metadata": {},
     "output_type": "display_data"
    },
    {
     "data": {
      "text/html": [
       " View project at <a href='https://wandb.ai/TFE-proteomics/MLP' target=\"_blank\">https://wandb.ai/TFE-proteomics/MLP</a>"
      ],
      "text/plain": [
       "<IPython.core.display.HTML object>"
      ]
     },
     "metadata": {},
     "output_type": "display_data"
    },
    {
     "data": {
      "text/html": [
       " View run at <a href='https://wandb.ai/TFE-proteomics/MLP/runs/xszqyr1m' target=\"_blank\">https://wandb.ai/TFE-proteomics/MLP/runs/xszqyr1m</a>"
      ],
      "text/plain": [
       "<IPython.core.display.HTML object>"
      ]
     },
     "metadata": {},
     "output_type": "display_data"
    },
    {
     "data": {
      "application/vnd.jupyter.widget-view+json": {
       "model_id": "0e43fe43ec304ca3a9190dd2707ef951",
       "version_major": 2,
       "version_minor": 0
      },
      "text/plain": [
       "VBox(children=(Label(value='0.004 MB of 0.018 MB uploaded\\r'), FloatProgress(value=0.22758656763259755, max=1.…"
      ]
     },
     "metadata": {},
     "output_type": "display_data"
    },
    {
     "data": {
      "text/html": [
       "<style>\n",
       "    table.wandb td:nth-child(1) { padding: 0 10px; text-align: left ; width: auto;} td:nth-child(2) {text-align: left ; width: 100%}\n",
       "    .wandb-row { display: flex; flex-direction: row; flex-wrap: wrap; justify-content: flex-start; width: 100% }\n",
       "    .wandb-col { display: flex; flex-direction: column; flex-basis: 100%; flex: 1; padding: 10px; }\n",
       "    </style>\n",
       "<div class=\"wandb-row\"><div class=\"wandb-col\"><h3>Run history:</h3><br/><table class=\"wandb\"><tr><td>accuracy</td><td>▁</td></tr><tr><td>f1</td><td>▁</td></tr><tr><td>pr_auc</td><td>▁</td></tr><tr><td>precision</td><td>▁</td></tr><tr><td>recall</td><td>▁</td></tr><tr><td>roc_auc</td><td>▁</td></tr></table><br/></div><div class=\"wandb-col\"><h3>Run summary:</h3><br/><table class=\"wandb\"><tr><td>accuracy</td><td>0.58065</td></tr><tr><td>f1</td><td>0.23529</td></tr><tr><td>pr_auc</td><td>0.25016</td></tr><tr><td>precision</td><td>0.22222</td></tr><tr><td>recall</td><td>0.25</td></tr><tr><td>roc_auc</td><td>0.31522</td></tr></table><br/></div></div>"
      ],
      "text/plain": [
       "<IPython.core.display.HTML object>"
      ]
     },
     "metadata": {},
     "output_type": "display_data"
    },
    {
     "data": {
      "text/html": [
       " View run <strong style=\"color:#cdcd00\">Test_MLP_Scratch_fold_3</strong> at: <a href='https://wandb.ai/TFE-proteomics/MLP/runs/xszqyr1m' target=\"_blank\">https://wandb.ai/TFE-proteomics/MLP/runs/xszqyr1m</a><br/>Synced 5 W&B file(s), 0 media file(s), 0 artifact file(s) and 0 other file(s)"
      ],
      "text/plain": [
       "<IPython.core.display.HTML object>"
      ]
     },
     "metadata": {},
     "output_type": "display_data"
    },
    {
     "data": {
      "text/html": [
       "Find logs at: <code>./wandb/run-20250314_195101-xszqyr1m/logs</code>"
      ],
      "text/plain": [
       "<IPython.core.display.HTML object>"
      ]
     },
     "metadata": {},
     "output_type": "display_data"
    },
    {
     "name": "stdout",
     "output_type": "stream",
     "text": [
      "Fold 4 on 5\n",
      "Testing config 1 on 48\n",
      "Testing config 2 on 48\n",
      "Testing config 3 on 48\n",
      "Testing config 4 on 48\n",
      "Testing config 5 on 48\n",
      "Testing config 6 on 48\n",
      "Testing config 7 on 48\n",
      "Testing config 8 on 48\n",
      "Testing config 9 on 48\n",
      "Testing config 10 on 48\n",
      "Testing config 11 on 48\n",
      "Testing config 12 on 48\n",
      "Testing config 13 on 48\n",
      "Testing config 14 on 48\n",
      "Testing config 15 on 48\n",
      "Testing config 16 on 48\n",
      "Testing config 17 on 48\n",
      "Testing config 18 on 48\n",
      "Testing config 19 on 48\n",
      "Testing config 20 on 48\n",
      "Testing config 21 on 48\n",
      "Testing config 22 on 48\n",
      "Testing config 23 on 48\n",
      "Testing config 24 on 48\n",
      "Testing config 25 on 48\n",
      "Testing config 26 on 48\n",
      "Testing config 27 on 48\n",
      "Testing config 28 on 48\n",
      "Testing config 29 on 48\n",
      "Testing config 30 on 48\n",
      "Testing config 31 on 48\n",
      "Testing config 32 on 48\n",
      "Testing config 33 on 48\n",
      "Testing config 34 on 48\n",
      "Testing config 35 on 48\n",
      "Testing config 36 on 48\n",
      "Testing config 37 on 48\n",
      "Testing config 38 on 48\n",
      "Testing config 39 on 48\n",
      "Testing config 40 on 48\n",
      "Testing config 41 on 48\n",
      "Testing config 42 on 48\n",
      "Testing config 43 on 48\n",
      "Testing config 44 on 48\n",
      "Testing config 45 on 48\n",
      "Testing config 46 on 48\n",
      "Testing config 47 on 48\n",
      "Testing config 48 on 48\n",
      "\n",
      "--------------------------------------Config Done--------------------------------------------\n",
      "\n"
     ]
    },
    {
     "data": {
      "text/html": [
       "wandb version 0.19.8 is available!  To upgrade, please run:\n",
       " $ pip install wandb --upgrade"
      ],
      "text/plain": [
       "<IPython.core.display.HTML object>"
      ]
     },
     "metadata": {},
     "output_type": "display_data"
    },
    {
     "data": {
      "text/html": [
       "Tracking run with wandb version 0.16.4"
      ],
      "text/plain": [
       "<IPython.core.display.HTML object>"
      ]
     },
     "metadata": {},
     "output_type": "display_data"
    },
    {
     "data": {
      "text/html": [
       "Run data is saved locally in <code>/home/jwalraff/TFE/wandb/run-20250314_195220-wcrd75nh</code>"
      ],
      "text/plain": [
       "<IPython.core.display.HTML object>"
      ]
     },
     "metadata": {},
     "output_type": "display_data"
    },
    {
     "data": {
      "text/html": [
       "Syncing run <strong><a href='https://wandb.ai/TFE-proteomics/MLP/runs/wcrd75nh' target=\"_blank\">Test_MLP_Scratch_fold_4</a></strong> to <a href='https://wandb.ai/TFE-proteomics/MLP' target=\"_blank\">Weights & Biases</a> (<a href='https://wandb.me/run' target=\"_blank\">docs</a>)<br/>"
      ],
      "text/plain": [
       "<IPython.core.display.HTML object>"
      ]
     },
     "metadata": {},
     "output_type": "display_data"
    },
    {
     "data": {
      "text/html": [
       " View project at <a href='https://wandb.ai/TFE-proteomics/MLP' target=\"_blank\">https://wandb.ai/TFE-proteomics/MLP</a>"
      ],
      "text/plain": [
       "<IPython.core.display.HTML object>"
      ]
     },
     "metadata": {},
     "output_type": "display_data"
    },
    {
     "data": {
      "text/html": [
       " View run at <a href='https://wandb.ai/TFE-proteomics/MLP/runs/wcrd75nh' target=\"_blank\">https://wandb.ai/TFE-proteomics/MLP/runs/wcrd75nh</a>"
      ],
      "text/plain": [
       "<IPython.core.display.HTML object>"
      ]
     },
     "metadata": {},
     "output_type": "display_data"
    },
    {
     "data": {
      "application/vnd.jupyter.widget-view+json": {
       "model_id": "782bc875d18d4cdfb60987c879953bb1",
       "version_major": 2,
       "version_minor": 0
      },
      "text/plain": [
       "VBox(children=(Label(value='0.004 MB of 0.015 MB uploaded\\r'), FloatProgress(value=0.28212760450368835, max=1.…"
      ]
     },
     "metadata": {},
     "output_type": "display_data"
    },
    {
     "data": {
      "text/html": [
       "<style>\n",
       "    table.wandb td:nth-child(1) { padding: 0 10px; text-align: left ; width: auto;} td:nth-child(2) {text-align: left ; width: 100%}\n",
       "    .wandb-row { display: flex; flex-direction: row; flex-wrap: wrap; justify-content: flex-start; width: 100% }\n",
       "    .wandb-col { display: flex; flex-direction: column; flex-basis: 100%; flex: 1; padding: 10px; }\n",
       "    </style>\n",
       "<div class=\"wandb-row\"><div class=\"wandb-col\"><h3>Run history:</h3><br/><table class=\"wandb\"><tr><td>accuracy</td><td>▁</td></tr><tr><td>f1</td><td>▁</td></tr><tr><td>pr_auc</td><td>▁</td></tr><tr><td>precision</td><td>▁</td></tr><tr><td>recall</td><td>▁</td></tr><tr><td>roc_auc</td><td>▁</td></tr></table><br/></div><div class=\"wandb-col\"><h3>Run summary:</h3><br/><table class=\"wandb\"><tr><td>accuracy</td><td>0.70968</td></tr><tr><td>f1</td><td>0.18182</td></tr><tr><td>pr_auc</td><td>0.4671</td></tr><tr><td>precision</td><td>0.33333</td></tr><tr><td>recall</td><td>0.125</td></tr><tr><td>roc_auc</td><td>0.68478</td></tr></table><br/></div></div>"
      ],
      "text/plain": [
       "<IPython.core.display.HTML object>"
      ]
     },
     "metadata": {},
     "output_type": "display_data"
    },
    {
     "data": {
      "text/html": [
       " View run <strong style=\"color:#cdcd00\">Test_MLP_Scratch_fold_4</strong> at: <a href='https://wandb.ai/TFE-proteomics/MLP/runs/wcrd75nh' target=\"_blank\">https://wandb.ai/TFE-proteomics/MLP/runs/wcrd75nh</a><br/>Synced 5 W&B file(s), 0 media file(s), 0 artifact file(s) and 0 other file(s)"
      ],
      "text/plain": [
       "<IPython.core.display.HTML object>"
      ]
     },
     "metadata": {},
     "output_type": "display_data"
    },
    {
     "data": {
      "text/html": [
       "Find logs at: <code>./wandb/run-20250314_195220-wcrd75nh/logs</code>"
      ],
      "text/plain": [
       "<IPython.core.display.HTML object>"
      ]
     },
     "metadata": {},
     "output_type": "display_data"
    },
    {
     "name": "stdout",
     "output_type": "stream",
     "text": [
      "Fold 5 on 5\n",
      "Testing config 1 on 48\n",
      "Testing config 2 on 48\n",
      "Testing config 3 on 48\n",
      "Testing config 4 on 48\n",
      "Testing config 5 on 48\n",
      "Testing config 6 on 48\n",
      "Testing config 7 on 48\n",
      "Testing config 8 on 48\n",
      "Testing config 9 on 48\n",
      "Testing config 10 on 48\n",
      "Testing config 11 on 48\n",
      "Testing config 12 on 48\n",
      "Testing config 13 on 48\n",
      "Testing config 14 on 48\n",
      "Testing config 15 on 48\n",
      "Testing config 16 on 48\n",
      "Testing config 17 on 48\n",
      "Testing config 18 on 48\n",
      "Testing config 19 on 48\n",
      "Testing config 20 on 48\n",
      "Testing config 21 on 48\n",
      "Testing config 22 on 48\n",
      "Testing config 23 on 48\n",
      "Testing config 24 on 48\n",
      "Testing config 25 on 48\n",
      "Testing config 26 on 48\n",
      "Testing config 27 on 48\n",
      "Testing config 28 on 48\n",
      "Testing config 29 on 48\n",
      "Testing config 30 on 48\n",
      "Testing config 31 on 48\n",
      "Testing config 32 on 48\n",
      "Testing config 33 on 48\n",
      "Testing config 34 on 48\n",
      "Testing config 35 on 48\n",
      "Testing config 36 on 48\n",
      "Testing config 37 on 48\n",
      "Testing config 38 on 48\n",
      "Testing config 39 on 48\n",
      "Testing config 40 on 48\n",
      "Testing config 41 on 48\n",
      "Testing config 42 on 48\n",
      "Testing config 43 on 48\n",
      "Testing config 44 on 48\n",
      "Testing config 45 on 48\n",
      "Testing config 46 on 48\n",
      "Testing config 47 on 48\n",
      "Testing config 48 on 48\n",
      "\n",
      "--------------------------------------Config Done--------------------------------------------\n",
      "\n"
     ]
    },
    {
     "data": {
      "text/html": [
       "wandb version 0.19.8 is available!  To upgrade, please run:\n",
       " $ pip install wandb --upgrade"
      ],
      "text/plain": [
       "<IPython.core.display.HTML object>"
      ]
     },
     "metadata": {},
     "output_type": "display_data"
    },
    {
     "data": {
      "text/html": [
       "Tracking run with wandb version 0.16.4"
      ],
      "text/plain": [
       "<IPython.core.display.HTML object>"
      ]
     },
     "metadata": {},
     "output_type": "display_data"
    },
    {
     "data": {
      "text/html": [
       "Run data is saved locally in <code>/home/jwalraff/TFE/wandb/run-20250314_195339-8wpgnla1</code>"
      ],
      "text/plain": [
       "<IPython.core.display.HTML object>"
      ]
     },
     "metadata": {},
     "output_type": "display_data"
    },
    {
     "data": {
      "text/html": [
       "Syncing run <strong><a href='https://wandb.ai/TFE-proteomics/MLP/runs/8wpgnla1' target=\"_blank\">Test_MLP_Scratch_fold_5</a></strong> to <a href='https://wandb.ai/TFE-proteomics/MLP' target=\"_blank\">Weights & Biases</a> (<a href='https://wandb.me/run' target=\"_blank\">docs</a>)<br/>"
      ],
      "text/plain": [
       "<IPython.core.display.HTML object>"
      ]
     },
     "metadata": {},
     "output_type": "display_data"
    },
    {
     "data": {
      "text/html": [
       " View project at <a href='https://wandb.ai/TFE-proteomics/MLP' target=\"_blank\">https://wandb.ai/TFE-proteomics/MLP</a>"
      ],
      "text/plain": [
       "<IPython.core.display.HTML object>"
      ]
     },
     "metadata": {},
     "output_type": "display_data"
    },
    {
     "data": {
      "text/html": [
       " View run at <a href='https://wandb.ai/TFE-proteomics/MLP/runs/8wpgnla1' target=\"_blank\">https://wandb.ai/TFE-proteomics/MLP/runs/8wpgnla1</a>"
      ],
      "text/plain": [
       "<IPython.core.display.HTML object>"
      ]
     },
     "metadata": {},
     "output_type": "display_data"
    },
    {
     "data": {
      "application/vnd.jupyter.widget-view+json": {
       "model_id": "d2393d1710834becb337cb04398819e4",
       "version_major": 2,
       "version_minor": 0
      },
      "text/plain": [
       "VBox(children=(Label(value='0.004 MB of 0.018 MB uploaded\\r'), FloatProgress(value=0.22464552719773137, max=1.…"
      ]
     },
     "metadata": {},
     "output_type": "display_data"
    },
    {
     "data": {
      "text/html": [
       "<style>\n",
       "    table.wandb td:nth-child(1) { padding: 0 10px; text-align: left ; width: auto;} td:nth-child(2) {text-align: left ; width: 100%}\n",
       "    .wandb-row { display: flex; flex-direction: row; flex-wrap: wrap; justify-content: flex-start; width: 100% }\n",
       "    .wandb-col { display: flex; flex-direction: column; flex-basis: 100%; flex: 1; padding: 10px; }\n",
       "    </style>\n",
       "<div class=\"wandb-row\"><div class=\"wandb-col\"><h3>Run history:</h3><br/><table class=\"wandb\"><tr><td>accuracy</td><td>▁</td></tr><tr><td>f1</td><td>▁</td></tr><tr><td>pr_auc</td><td>▁</td></tr><tr><td>precision</td><td>▁</td></tr><tr><td>recall</td><td>▁</td></tr><tr><td>roc_auc</td><td>▁</td></tr></table><br/></div><div class=\"wandb-col\"><h3>Run summary:</h3><br/><table class=\"wandb\"><tr><td>accuracy</td><td>0.67742</td></tr><tr><td>f1</td><td>0.28571</td></tr><tr><td>pr_auc</td><td>0.3537</td></tr><tr><td>precision</td><td>0.33333</td></tr><tr><td>recall</td><td>0.25</td></tr><tr><td>roc_auc</td><td>0.63043</td></tr></table><br/></div></div>"
      ],
      "text/plain": [
       "<IPython.core.display.HTML object>"
      ]
     },
     "metadata": {},
     "output_type": "display_data"
    },
    {
     "data": {
      "text/html": [
       " View run <strong style=\"color:#cdcd00\">Test_MLP_Scratch_fold_5</strong> at: <a href='https://wandb.ai/TFE-proteomics/MLP/runs/8wpgnla1' target=\"_blank\">https://wandb.ai/TFE-proteomics/MLP/runs/8wpgnla1</a><br/>Synced 5 W&B file(s), 0 media file(s), 0 artifact file(s) and 0 other file(s)"
      ],
      "text/plain": [
       "<IPython.core.display.HTML object>"
      ]
     },
     "metadata": {},
     "output_type": "display_data"
    },
    {
     "data": {
      "text/html": [
       "Find logs at: <code>./wandb/run-20250314_195339-8wpgnla1/logs</code>"
      ],
      "text/plain": [
       "<IPython.core.display.HTML object>"
      ]
     },
     "metadata": {},
     "output_type": "display_data"
    },
    {
     "data": {
      "application/vnd.jupyter.widget-view+json": {
       "model_id": "1bac76ca2c23498884bb65ea377848ed",
       "version_major": 2,
       "version_minor": 0
      },
      "text/plain": [
       "VBox(children=(Label(value='Waiting for wandb.init()...\\r'), FloatProgress(value=0.011112521837155024, max=1.0…"
      ]
     },
     "metadata": {},
     "output_type": "display_data"
    },
    {
     "data": {
      "text/html": [
       "wandb version 0.19.8 is available!  To upgrade, please run:\n",
       " $ pip install wandb --upgrade"
      ],
      "text/plain": [
       "<IPython.core.display.HTML object>"
      ]
     },
     "metadata": {},
     "output_type": "display_data"
    },
    {
     "data": {
      "text/html": [
       "Tracking run with wandb version 0.16.4"
      ],
      "text/plain": [
       "<IPython.core.display.HTML object>"
      ]
     },
     "metadata": {},
     "output_type": "display_data"
    },
    {
     "data": {
      "text/html": [
       "Run data is saved locally in <code>/home/jwalraff/TFE/wandb/run-20250314_195348-wnlpb49h</code>"
      ],
      "text/plain": [
       "<IPython.core.display.HTML object>"
      ]
     },
     "metadata": {},
     "output_type": "display_data"
    },
    {
     "data": {
      "text/html": [
       "Syncing run <strong><a href='https://wandb.ai/TFE-proteomics/MLP/runs/wnlpb49h' target=\"_blank\">Test_MLP_Scratch_CrossValidation_Summary</a></strong> to <a href='https://wandb.ai/TFE-proteomics/MLP' target=\"_blank\">Weights & Biases</a> (<a href='https://wandb.me/run' target=\"_blank\">docs</a>)<br/>"
      ],
      "text/plain": [
       "<IPython.core.display.HTML object>"
      ]
     },
     "metadata": {},
     "output_type": "display_data"
    },
    {
     "data": {
      "text/html": [
       " View project at <a href='https://wandb.ai/TFE-proteomics/MLP' target=\"_blank\">https://wandb.ai/TFE-proteomics/MLP</a>"
      ],
      "text/plain": [
       "<IPython.core.display.HTML object>"
      ]
     },
     "metadata": {},
     "output_type": "display_data"
    },
    {
     "data": {
      "text/html": [
       " View run at <a href='https://wandb.ai/TFE-proteomics/MLP/runs/wnlpb49h' target=\"_blank\">https://wandb.ai/TFE-proteomics/MLP/runs/wnlpb49h</a>"
      ],
      "text/plain": [
       "<IPython.core.display.HTML object>"
      ]
     },
     "metadata": {},
     "output_type": "display_data"
    },
    {
     "data": {
      "application/vnd.jupyter.widget-view+json": {
       "model_id": "2976948e5d71453fbfd41a8f89349255",
       "version_major": 2,
       "version_minor": 0
      },
      "text/plain": [
       "VBox(children=(Label(value='0.004 MB of 0.015 MB uploaded\\r'), FloatProgress(value=0.28156974485170316, max=1.…"
      ]
     },
     "metadata": {},
     "output_type": "display_data"
    },
    {
     "data": {
      "text/html": [
       "<style>\n",
       "    table.wandb td:nth-child(1) { padding: 0 10px; text-align: left ; width: auto;} td:nth-child(2) {text-align: left ; width: 100%}\n",
       "    .wandb-row { display: flex; flex-direction: row; flex-wrap: wrap; justify-content: flex-start; width: 100% }\n",
       "    .wandb-col { display: flex; flex-direction: column; flex-basis: 100%; flex: 1; padding: 10px; }\n",
       "    </style>\n",
       "<div class=\"wandb-row\"><div class=\"wandb-col\"><h3>Run history:</h3><br/><table class=\"wandb\"><tr><td>accuracy_mean</td><td>▁</td></tr><tr><td>accuracy_std</td><td>▁</td></tr><tr><td>f1_mean</td><td>▁</td></tr><tr><td>f1_std</td><td>▁</td></tr><tr><td>pr_auc_mean</td><td>▁</td></tr><tr><td>pr_auc_std</td><td>▁</td></tr><tr><td>precision_mean</td><td>▁</td></tr><tr><td>precision_std</td><td>▁</td></tr><tr><td>recall_mean</td><td>▁</td></tr><tr><td>recall_std</td><td>▁</td></tr><tr><td>roc_auc_mean</td><td>▁</td></tr><tr><td>roc_auc_std</td><td>▁</td></tr></table><br/></div><div class=\"wandb-col\"><h3>Run summary:</h3><br/><table class=\"wandb\"><tr><td>accuracy_mean</td><td>0.64516</td></tr><tr><td>accuracy_std</td><td>0.04562</td></tr><tr><td>f1_mean</td><td>0.19991</td></tr><tr><td>f1_std</td><td>0.05351</td></tr><tr><td>pr_auc_mean</td><td>0.34423</td></tr><tr><td>pr_auc_std</td><td>0.08497</td></tr><tr><td>precision_mean</td><td>0.23968</td></tr><tr><td>precision_std</td><td>0.08069</td></tr><tr><td>recall_mean</td><td>0.18214</td></tr><tr><td>recall_std</td><td>0.05579</td></tr><tr><td>roc_auc_mean</td><td>0.54692</td></tr><tr><td>roc_auc_std</td><td>0.13098</td></tr></table><br/></div></div>"
      ],
      "text/plain": [
       "<IPython.core.display.HTML object>"
      ]
     },
     "metadata": {},
     "output_type": "display_data"
    },
    {
     "data": {
      "text/html": [
       " View run <strong style=\"color:#cdcd00\">Test_MLP_Scratch_CrossValidation_Summary</strong> at: <a href='https://wandb.ai/TFE-proteomics/MLP/runs/wnlpb49h' target=\"_blank\">https://wandb.ai/TFE-proteomics/MLP/runs/wnlpb49h</a><br/>Synced 5 W&B file(s), 0 media file(s), 0 artifact file(s) and 0 other file(s)"
      ],
      "text/plain": [
       "<IPython.core.display.HTML object>"
      ]
     },
     "metadata": {},
     "output_type": "display_data"
    },
    {
     "data": {
      "text/html": [
       "Find logs at: <code>./wandb/run-20250314_195348-wnlpb49h/logs</code>"
      ],
      "text/plain": [
       "<IPython.core.display.HTML object>"
      ]
     },
     "metadata": {},
     "output_type": "display_data"
    },
    {
     "name": "stdout",
     "output_type": "stream",
     "text": [
      "Fold 1 on 5\n",
      "Testing config 1 on 48\n",
      "Early stopping triggered at 19 epoch.\n",
      "Testing config 2 on 48\n",
      "Early stopping triggered at 20 epoch.\n",
      "Testing config 3 on 48\n",
      "Early stopping triggered at 35 epoch.\n",
      "Testing config 4 on 48\n",
      "Early stopping triggered at 9 epoch.\n",
      "Testing config 5 on 48\n",
      "Early stopping triggered at 43 epoch.\n",
      "Testing config 6 on 48\n",
      "Early stopping triggered at 18 epoch.\n",
      "Testing config 7 on 48\n",
      "Early stopping triggered at 29 epoch.\n",
      "Testing config 8 on 48\n",
      "Early stopping triggered at 22 epoch.\n",
      "Testing config 9 on 48\n",
      "Early stopping triggered at 41 epoch.\n",
      "Testing config 10 on 48\n",
      "Early stopping triggered at 27 epoch.\n",
      "Testing config 11 on 48\n",
      "Early stopping triggered at 20 epoch.\n",
      "Testing config 12 on 48\n",
      "Early stopping triggered at 18 epoch.\n",
      "Testing config 13 on 48\n",
      "Early stopping triggered at 6 epoch.\n",
      "Testing config 14 on 48\n",
      "Early stopping triggered at 6 epoch.\n",
      "Testing config 15 on 48\n",
      "Early stopping triggered at 7 epoch.\n",
      "Testing config 16 on 48\n",
      "Early stopping triggered at 5 epoch.\n",
      "Testing config 17 on 48\n",
      "Early stopping triggered at 6 epoch.\n",
      "Testing config 18 on 48\n",
      "Early stopping triggered at 6 epoch.\n",
      "Testing config 19 on 48\n",
      "Early stopping triggered at 8 epoch.\n",
      "Testing config 20 on 48\n",
      "Early stopping triggered at 5 epoch.\n",
      "Testing config 21 on 48\n",
      "Early stopping triggered at 10 epoch.\n",
      "Testing config 22 on 48\n",
      "Early stopping triggered at 5 epoch.\n",
      "Testing config 23 on 48\n",
      "Early stopping triggered at 39 epoch.\n",
      "Testing config 24 on 48\n",
      "Early stopping triggered at 8 epoch.\n",
      "Testing config 25 on 48\n",
      "Early stopping triggered at 7 epoch.\n",
      "Testing config 26 on 48\n",
      "Early stopping triggered at 11 epoch.\n",
      "Testing config 27 on 48\n",
      "Early stopping triggered at 7 epoch.\n",
      "Testing config 28 on 48\n",
      "Early stopping triggered at 6 epoch.\n",
      "Testing config 29 on 48\n",
      "Early stopping triggered at 7 epoch.\n",
      "Testing config 30 on 48\n",
      "Early stopping triggered at 6 epoch.\n",
      "Testing config 31 on 48\n",
      "Early stopping triggered at 5 epoch.\n",
      "Testing config 32 on 48\n",
      "Early stopping triggered at 6 epoch.\n",
      "Testing config 33 on 48\n",
      "Early stopping triggered at 5 epoch.\n",
      "Testing config 34 on 48\n",
      "Early stopping triggered at 6 epoch.\n",
      "Testing config 35 on 48\n",
      "Early stopping triggered at 9 epoch.\n",
      "Testing config 36 on 48\n",
      "Early stopping triggered at 6 epoch.\n",
      "Testing config 37 on 48\n",
      "Early stopping triggered at 8 epoch.\n",
      "Testing config 38 on 48\n",
      "Early stopping triggered at 12 epoch.\n",
      "Testing config 39 on 48\n",
      "Early stopping triggered at 9 epoch.\n",
      "Testing config 40 on 48\n",
      "Early stopping triggered at 18 epoch.\n",
      "Testing config 41 on 48\n",
      "Early stopping triggered at 15 epoch.\n",
      "Testing config 42 on 48\n",
      "Early stopping triggered at 12 epoch.\n",
      "Testing config 43 on 48\n",
      "Early stopping triggered at 9 epoch.\n",
      "Testing config 44 on 48\n",
      "Early stopping triggered at 12 epoch.\n",
      "Testing config 45 on 48\n",
      "Early stopping triggered at 9 epoch.\n",
      "Testing config 46 on 48\n",
      "Early stopping triggered at 47 epoch.\n",
      "Testing config 47 on 48\n",
      "Early stopping triggered at 6 epoch.\n",
      "Testing config 48 on 48\n",
      "Early stopping triggered at 14 epoch.\n",
      "\n",
      "--------------------------------------Config Done--------------------------------------------\n",
      "\n"
     ]
    },
    {
     "data": {
      "text/html": [
       "wandb version 0.19.8 is available!  To upgrade, please run:\n",
       " $ pip install wandb --upgrade"
      ],
      "text/plain": [
       "<IPython.core.display.HTML object>"
      ]
     },
     "metadata": {},
     "output_type": "display_data"
    },
    {
     "data": {
      "text/html": [
       "Tracking run with wandb version 0.16.4"
      ],
      "text/plain": [
       "<IPython.core.display.HTML object>"
      ]
     },
     "metadata": {},
     "output_type": "display_data"
    },
    {
     "data": {
      "text/html": [
       "Run data is saved locally in <code>/home/jwalraff/TFE/wandb/run-20250314_195409-fripsv83</code>"
      ],
      "text/plain": [
       "<IPython.core.display.HTML object>"
      ]
     },
     "metadata": {},
     "output_type": "display_data"
    },
    {
     "data": {
      "text/html": [
       "Syncing run <strong><a href='https://wandb.ai/TFE-proteomics/MLP/runs/fripsv83' target=\"_blank\">Test_MLP_Scratch_fold_1</a></strong> to <a href='https://wandb.ai/TFE-proteomics/MLP' target=\"_blank\">Weights & Biases</a> (<a href='https://wandb.me/run' target=\"_blank\">docs</a>)<br/>"
      ],
      "text/plain": [
       "<IPython.core.display.HTML object>"
      ]
     },
     "metadata": {},
     "output_type": "display_data"
    },
    {
     "data": {
      "text/html": [
       " View project at <a href='https://wandb.ai/TFE-proteomics/MLP' target=\"_blank\">https://wandb.ai/TFE-proteomics/MLP</a>"
      ],
      "text/plain": [
       "<IPython.core.display.HTML object>"
      ]
     },
     "metadata": {},
     "output_type": "display_data"
    },
    {
     "data": {
      "text/html": [
       " View run at <a href='https://wandb.ai/TFE-proteomics/MLP/runs/fripsv83' target=\"_blank\">https://wandb.ai/TFE-proteomics/MLP/runs/fripsv83</a>"
      ],
      "text/plain": [
       "<IPython.core.display.HTML object>"
      ]
     },
     "metadata": {},
     "output_type": "display_data"
    },
    {
     "data": {
      "application/vnd.jupyter.widget-view+json": {
       "model_id": "fc089488879f4e62bd81308f36fb26de",
       "version_major": 2,
       "version_minor": 0
      },
      "text/plain": [
       "VBox(children=(Label(value='0.004 MB of 0.018 MB uploaded\\r'), FloatProgress(value=0.22455398576879448, max=1.…"
      ]
     },
     "metadata": {},
     "output_type": "display_data"
    },
    {
     "data": {
      "text/html": [
       "<style>\n",
       "    table.wandb td:nth-child(1) { padding: 0 10px; text-align: left ; width: auto;} td:nth-child(2) {text-align: left ; width: 100%}\n",
       "    .wandb-row { display: flex; flex-direction: row; flex-wrap: wrap; justify-content: flex-start; width: 100% }\n",
       "    .wandb-col { display: flex; flex-direction: column; flex-basis: 100%; flex: 1; padding: 10px; }\n",
       "    </style>\n",
       "<div class=\"wandb-row\"><div class=\"wandb-col\"><h3>Run history:</h3><br/><table class=\"wandb\"><tr><td>accuracy</td><td>▁</td></tr><tr><td>f1</td><td>▁</td></tr><tr><td>pr_auc</td><td>▁</td></tr><tr><td>precision</td><td>▁</td></tr><tr><td>recall</td><td>▁</td></tr><tr><td>roc_auc</td><td>▁</td></tr></table><br/></div><div class=\"wandb-col\"><h3>Run summary:</h3><br/><table class=\"wandb\"><tr><td>accuracy</td><td>0.70968</td></tr><tr><td>f1</td><td>0.18182</td></tr><tr><td>pr_auc</td><td>0.27348</td></tr><tr><td>precision</td><td>0.25</td></tr><tr><td>recall</td><td>0.14286</td></tr><tr><td>roc_auc</td><td>0.47321</td></tr></table><br/></div></div>"
      ],
      "text/plain": [
       "<IPython.core.display.HTML object>"
      ]
     },
     "metadata": {},
     "output_type": "display_data"
    },
    {
     "data": {
      "text/html": [
       " View run <strong style=\"color:#cdcd00\">Test_MLP_Scratch_fold_1</strong> at: <a href='https://wandb.ai/TFE-proteomics/MLP/runs/fripsv83' target=\"_blank\">https://wandb.ai/TFE-proteomics/MLP/runs/fripsv83</a><br/>Synced 5 W&B file(s), 0 media file(s), 0 artifact file(s) and 0 other file(s)"
      ],
      "text/plain": [
       "<IPython.core.display.HTML object>"
      ]
     },
     "metadata": {},
     "output_type": "display_data"
    },
    {
     "data": {
      "text/html": [
       "Find logs at: <code>./wandb/run-20250314_195409-fripsv83/logs</code>"
      ],
      "text/plain": [
       "<IPython.core.display.HTML object>"
      ]
     },
     "metadata": {},
     "output_type": "display_data"
    },
    {
     "name": "stdout",
     "output_type": "stream",
     "text": [
      "Fold 2 on 5\n",
      "Testing config 1 on 48\n",
      "Early stopping triggered at 25 epoch.\n",
      "Testing config 2 on 48\n",
      "Early stopping triggered at 16 epoch.\n",
      "Testing config 3 on 48\n",
      "Early stopping triggered at 18 epoch.\n",
      "Testing config 4 on 48\n",
      "Early stopping triggered at 17 epoch.\n",
      "Testing config 5 on 48\n",
      "Early stopping triggered at 25 epoch.\n",
      "Testing config 6 on 48\n",
      "Early stopping triggered at 18 epoch.\n",
      "Testing config 7 on 48\n",
      "Early stopping triggered at 11 epoch.\n",
      "Testing config 8 on 48\n",
      "Early stopping triggered at 17 epoch.\n",
      "Testing config 9 on 48\n",
      "Early stopping triggered at 41 epoch.\n",
      "Testing config 10 on 48\n",
      "Early stopping triggered at 46 epoch.\n",
      "Testing config 11 on 48\n",
      "Early stopping triggered at 43 epoch.\n",
      "Testing config 12 on 48\n",
      "Early stopping triggered at 24 epoch.\n",
      "Testing config 13 on 48\n",
      "Early stopping triggered at 6 epoch.\n",
      "Testing config 14 on 48\n",
      "Early stopping triggered at 5 epoch.\n",
      "Testing config 15 on 48\n",
      "Early stopping triggered at 5 epoch.\n",
      "Testing config 16 on 48\n",
      "Early stopping triggered at 9 epoch.\n",
      "Testing config 17 on 48\n",
      "Early stopping triggered at 6 epoch.\n",
      "Testing config 18 on 48\n",
      "Early stopping triggered at 5 epoch.\n",
      "Testing config 19 on 48\n",
      "Early stopping triggered at 7 epoch.\n",
      "Testing config 20 on 48\n",
      "Early stopping triggered at 6 epoch.\n",
      "Testing config 21 on 48\n",
      "Early stopping triggered at 11 epoch.\n",
      "Testing config 22 on 48\n",
      "Early stopping triggered at 8 epoch.\n",
      "Testing config 23 on 48\n",
      "Early stopping triggered at 15 epoch.\n",
      "Testing config 24 on 48\n",
      "Early stopping triggered at 8 epoch.\n",
      "Testing config 25 on 48\n",
      "Early stopping triggered at 7 epoch.\n",
      "Testing config 26 on 48\n",
      "Early stopping triggered at 6 epoch.\n",
      "Testing config 27 on 48\n",
      "Early stopping triggered at 6 epoch.\n",
      "Testing config 28 on 48\n",
      "Early stopping triggered at 9 epoch.\n",
      "Testing config 29 on 48\n",
      "Early stopping triggered at 5 epoch.\n",
      "Testing config 30 on 48\n",
      "Early stopping triggered at 5 epoch.\n",
      "Testing config 31 on 48\n",
      "Early stopping triggered at 6 epoch.\n",
      "Testing config 32 on 48\n",
      "Early stopping triggered at 6 epoch.\n",
      "Testing config 33 on 48\n",
      "Early stopping triggered at 6 epoch.\n",
      "Testing config 34 on 48\n",
      "Early stopping triggered at 7 epoch.\n",
      "Testing config 35 on 48\n",
      "Early stopping triggered at 6 epoch.\n",
      "Testing config 36 on 48\n",
      "Early stopping triggered at 8 epoch.\n",
      "Testing config 37 on 48\n",
      "Early stopping triggered at 15 epoch.\n",
      "Testing config 38 on 48\n",
      "Early stopping triggered at 23 epoch.\n",
      "Testing config 39 on 48\n",
      "Early stopping triggered at 8 epoch.\n",
      "Testing config 40 on 48\n",
      "Early stopping triggered at 27 epoch.\n",
      "Testing config 41 on 48\n",
      "Early stopping triggered at 7 epoch.\n",
      "Testing config 42 on 48\n",
      "Early stopping triggered at 22 epoch.\n",
      "Testing config 43 on 48\n",
      "Early stopping triggered at 10 epoch.\n",
      "Testing config 44 on 48\n",
      "Early stopping triggered at 16 epoch.\n",
      "Testing config 45 on 48\n",
      "Early stopping triggered at 8 epoch.\n",
      "Testing config 46 on 48\n",
      "Early stopping triggered at 10 epoch.\n",
      "Testing config 47 on 48\n",
      "Early stopping triggered at 62 epoch.\n",
      "Testing config 48 on 48\n",
      "Early stopping triggered at 10 epoch.\n",
      "\n",
      "--------------------------------------Config Done--------------------------------------------\n",
      "\n"
     ]
    },
    {
     "data": {
      "text/html": [
       "wandb version 0.19.8 is available!  To upgrade, please run:\n",
       " $ pip install wandb --upgrade"
      ],
      "text/plain": [
       "<IPython.core.display.HTML object>"
      ]
     },
     "metadata": {},
     "output_type": "display_data"
    },
    {
     "data": {
      "text/html": [
       "Tracking run with wandb version 0.16.4"
      ],
      "text/plain": [
       "<IPython.core.display.HTML object>"
      ]
     },
     "metadata": {},
     "output_type": "display_data"
    },
    {
     "data": {
      "text/html": [
       "Run data is saved locally in <code>/home/jwalraff/TFE/wandb/run-20250314_195429-wgeo2xc0</code>"
      ],
      "text/plain": [
       "<IPython.core.display.HTML object>"
      ]
     },
     "metadata": {},
     "output_type": "display_data"
    },
    {
     "data": {
      "text/html": [
       "Syncing run <strong><a href='https://wandb.ai/TFE-proteomics/MLP/runs/wgeo2xc0' target=\"_blank\">Test_MLP_Scratch_fold_2</a></strong> to <a href='https://wandb.ai/TFE-proteomics/MLP' target=\"_blank\">Weights & Biases</a> (<a href='https://wandb.me/run' target=\"_blank\">docs</a>)<br/>"
      ],
      "text/plain": [
       "<IPython.core.display.HTML object>"
      ]
     },
     "metadata": {},
     "output_type": "display_data"
    },
    {
     "data": {
      "text/html": [
       " View project at <a href='https://wandb.ai/TFE-proteomics/MLP' target=\"_blank\">https://wandb.ai/TFE-proteomics/MLP</a>"
      ],
      "text/plain": [
       "<IPython.core.display.HTML object>"
      ]
     },
     "metadata": {},
     "output_type": "display_data"
    },
    {
     "data": {
      "text/html": [
       " View run at <a href='https://wandb.ai/TFE-proteomics/MLP/runs/wgeo2xc0' target=\"_blank\">https://wandb.ai/TFE-proteomics/MLP/runs/wgeo2xc0</a>"
      ],
      "text/plain": [
       "<IPython.core.display.HTML object>"
      ]
     },
     "metadata": {},
     "output_type": "display_data"
    },
    {
     "data": {
      "application/vnd.jupyter.widget-view+json": {
       "model_id": "f186e81c69134828b2e9ab6cc6a0849e",
       "version_major": 2,
       "version_minor": 0
      },
      "text/plain": [
       "VBox(children=(Label(value='0.004 MB of 0.018 MB uploaded\\r'), FloatProgress(value=0.22467391864721348, max=1.…"
      ]
     },
     "metadata": {},
     "output_type": "display_data"
    },
    {
     "data": {
      "text/html": [
       "<style>\n",
       "    table.wandb td:nth-child(1) { padding: 0 10px; text-align: left ; width: auto;} td:nth-child(2) {text-align: left ; width: 100%}\n",
       "    .wandb-row { display: flex; flex-direction: row; flex-wrap: wrap; justify-content: flex-start; width: 100% }\n",
       "    .wandb-col { display: flex; flex-direction: column; flex-basis: 100%; flex: 1; padding: 10px; }\n",
       "    </style>\n",
       "<div class=\"wandb-row\"><div class=\"wandb-col\"><h3>Run history:</h3><br/><table class=\"wandb\"><tr><td>accuracy</td><td>▁</td></tr><tr><td>f1</td><td>▁</td></tr><tr><td>pr_auc</td><td>▁</td></tr><tr><td>precision</td><td>▁</td></tr><tr><td>recall</td><td>▁</td></tr><tr><td>roc_auc</td><td>▁</td></tr></table><br/></div><div class=\"wandb-col\"><h3>Run summary:</h3><br/><table class=\"wandb\"><tr><td>accuracy</td><td>0.64516</td></tr><tr><td>f1</td><td>0.35294</td></tr><tr><td>pr_auc</td><td>0.33601</td></tr><tr><td>precision</td><td>0.3</td></tr><tr><td>recall</td><td>0.42857</td></tr><tr><td>roc_auc</td><td>0.67262</td></tr></table><br/></div></div>"
      ],
      "text/plain": [
       "<IPython.core.display.HTML object>"
      ]
     },
     "metadata": {},
     "output_type": "display_data"
    },
    {
     "data": {
      "text/html": [
       " View run <strong style=\"color:#cdcd00\">Test_MLP_Scratch_fold_2</strong> at: <a href='https://wandb.ai/TFE-proteomics/MLP/runs/wgeo2xc0' target=\"_blank\">https://wandb.ai/TFE-proteomics/MLP/runs/wgeo2xc0</a><br/>Synced 5 W&B file(s), 0 media file(s), 0 artifact file(s) and 0 other file(s)"
      ],
      "text/plain": [
       "<IPython.core.display.HTML object>"
      ]
     },
     "metadata": {},
     "output_type": "display_data"
    },
    {
     "data": {
      "text/html": [
       "Find logs at: <code>./wandb/run-20250314_195429-wgeo2xc0/logs</code>"
      ],
      "text/plain": [
       "<IPython.core.display.HTML object>"
      ]
     },
     "metadata": {},
     "output_type": "display_data"
    },
    {
     "name": "stdout",
     "output_type": "stream",
     "text": [
      "Fold 3 on 5\n",
      "Testing config 1 on 48\n",
      "Early stopping triggered at 26 epoch.\n",
      "Testing config 2 on 48\n",
      "Early stopping triggered at 18 epoch.\n",
      "Testing config 3 on 48\n",
      "Early stopping triggered at 35 epoch.\n",
      "Testing config 4 on 48\n",
      "Early stopping triggered at 15 epoch.\n",
      "Testing config 5 on 48\n",
      "Early stopping triggered at 36 epoch.\n",
      "Testing config 6 on 48\n",
      "Early stopping triggered at 18 epoch.\n",
      "Testing config 7 on 48\n",
      "Early stopping triggered at 40 epoch.\n",
      "Testing config 8 on 48\n",
      "Early stopping triggered at 19 epoch.\n",
      "Testing config 9 on 48\n",
      "Early stopping triggered at 50 epoch.\n",
      "Testing config 10 on 48\n",
      "Early stopping triggered at 25 epoch.\n",
      "Testing config 11 on 48\n",
      "Early stopping triggered at 83 epoch.\n",
      "Testing config 12 on 48\n",
      "Early stopping triggered at 27 epoch.\n",
      "Testing config 13 on 48\n",
      "Early stopping triggered at 17 epoch.\n",
      "Testing config 14 on 48\n",
      "Early stopping triggered at 13 epoch.\n",
      "Testing config 15 on 48\n",
      "Early stopping triggered at 24 epoch.\n",
      "Testing config 16 on 48\n",
      "Early stopping triggered at 15 epoch.\n",
      "Testing config 17 on 48\n",
      "Early stopping triggered at 9 epoch.\n",
      "Testing config 18 on 48\n",
      "Early stopping triggered at 6 epoch.\n",
      "Testing config 19 on 48\n",
      "Early stopping triggered at 9 epoch.\n",
      "Testing config 20 on 48\n",
      "Early stopping triggered at 9 epoch.\n",
      "Testing config 21 on 48\n",
      "Early stopping triggered at 11 epoch.\n",
      "Testing config 22 on 48\n",
      "Early stopping triggered at 8 epoch.\n",
      "Testing config 23 on 48\n",
      "Early stopping triggered at 11 epoch.\n",
      "Testing config 24 on 48\n",
      "Early stopping triggered at 9 epoch.\n",
      "Testing config 25 on 48\n",
      "Early stopping triggered at 6 epoch.\n",
      "Testing config 26 on 48\n",
      "Early stopping triggered at 6 epoch.\n",
      "Testing config 27 on 48\n",
      "Early stopping triggered at 7 epoch.\n",
      "Testing config 28 on 48\n",
      "Early stopping triggered at 7 epoch.\n",
      "Testing config 29 on 48\n",
      "Early stopping triggered at 5 epoch.\n",
      "Testing config 30 on 48\n",
      "Early stopping triggered at 6 epoch.\n",
      "Testing config 31 on 48\n",
      "Early stopping triggered at 7 epoch.\n",
      "Testing config 32 on 48\n",
      "Early stopping triggered at 7 epoch.\n",
      "Testing config 33 on 48\n",
      "Early stopping triggered at 7 epoch.\n",
      "Testing config 34 on 48\n",
      "Early stopping triggered at 6 epoch.\n",
      "Testing config 35 on 48\n",
      "Early stopping triggered at 10 epoch.\n",
      "Testing config 36 on 48\n",
      "Early stopping triggered at 7 epoch.\n",
      "Testing config 37 on 48\n",
      "Early stopping triggered at 9 epoch.\n",
      "Testing config 38 on 48\n",
      "Early stopping triggered at 14 epoch.\n",
      "Testing config 39 on 48\n",
      "Early stopping triggered at 25 epoch.\n",
      "Testing config 40 on 48\n",
      "Early stopping triggered at 18 epoch.\n",
      "Testing config 41 on 48\n",
      "Early stopping triggered at 10 epoch.\n",
      "Testing config 42 on 48\n",
      "Early stopping triggered at 15 epoch.\n",
      "Testing config 43 on 48\n",
      "Early stopping triggered at 17 epoch.\n",
      "Testing config 44 on 48\n",
      "Early stopping triggered at 35 epoch.\n",
      "Testing config 45 on 48\n",
      "Early stopping triggered at 10 epoch.\n",
      "Testing config 46 on 48\n",
      "Early stopping triggered at 50 epoch.\n",
      "Testing config 47 on 48\n",
      "Early stopping triggered at 20 epoch.\n",
      "Testing config 48 on 48\n",
      "Early stopping triggered at 19 epoch.\n",
      "\n",
      "--------------------------------------Config Done--------------------------------------------\n",
      "\n"
     ]
    },
    {
     "data": {
      "text/html": [
       "wandb version 0.19.8 is available!  To upgrade, please run:\n",
       " $ pip install wandb --upgrade"
      ],
      "text/plain": [
       "<IPython.core.display.HTML object>"
      ]
     },
     "metadata": {},
     "output_type": "display_data"
    },
    {
     "data": {
      "text/html": [
       "Tracking run with wandb version 0.16.4"
      ],
      "text/plain": [
       "<IPython.core.display.HTML object>"
      ]
     },
     "metadata": {},
     "output_type": "display_data"
    },
    {
     "data": {
      "text/html": [
       "Run data is saved locally in <code>/home/jwalraff/TFE/wandb/run-20250314_195451-2ddzg49w</code>"
      ],
      "text/plain": [
       "<IPython.core.display.HTML object>"
      ]
     },
     "metadata": {},
     "output_type": "display_data"
    },
    {
     "data": {
      "text/html": [
       "Syncing run <strong><a href='https://wandb.ai/TFE-proteomics/MLP/runs/2ddzg49w' target=\"_blank\">Test_MLP_Scratch_fold_3</a></strong> to <a href='https://wandb.ai/TFE-proteomics/MLP' target=\"_blank\">Weights & Biases</a> (<a href='https://wandb.me/run' target=\"_blank\">docs</a>)<br/>"
      ],
      "text/plain": [
       "<IPython.core.display.HTML object>"
      ]
     },
     "metadata": {},
     "output_type": "display_data"
    },
    {
     "data": {
      "text/html": [
       " View project at <a href='https://wandb.ai/TFE-proteomics/MLP' target=\"_blank\">https://wandb.ai/TFE-proteomics/MLP</a>"
      ],
      "text/plain": [
       "<IPython.core.display.HTML object>"
      ]
     },
     "metadata": {},
     "output_type": "display_data"
    },
    {
     "data": {
      "text/html": [
       " View run at <a href='https://wandb.ai/TFE-proteomics/MLP/runs/2ddzg49w' target=\"_blank\">https://wandb.ai/TFE-proteomics/MLP/runs/2ddzg49w</a>"
      ],
      "text/plain": [
       "<IPython.core.display.HTML object>"
      ]
     },
     "metadata": {},
     "output_type": "display_data"
    },
    {
     "data": {
      "application/vnd.jupyter.widget-view+json": {
       "model_id": "57327f75c6c44e32a744f1354af3b1fa",
       "version_major": 2,
       "version_minor": 0
      },
      "text/plain": [
       "VBox(children=(Label(value='0.004 MB of 0.018 MB uploaded\\r'), FloatProgress(value=0.22424555068351817, max=1.…"
      ]
     },
     "metadata": {},
     "output_type": "display_data"
    },
    {
     "data": {
      "text/html": [
       "<style>\n",
       "    table.wandb td:nth-child(1) { padding: 0 10px; text-align: left ; width: auto;} td:nth-child(2) {text-align: left ; width: 100%}\n",
       "    .wandb-row { display: flex; flex-direction: row; flex-wrap: wrap; justify-content: flex-start; width: 100% }\n",
       "    .wandb-col { display: flex; flex-direction: column; flex-basis: 100%; flex: 1; padding: 10px; }\n",
       "    </style>\n",
       "<div class=\"wandb-row\"><div class=\"wandb-col\"><h3>Run history:</h3><br/><table class=\"wandb\"><tr><td>accuracy</td><td>▁</td></tr><tr><td>f1</td><td>▁</td></tr><tr><td>pr_auc</td><td>▁</td></tr><tr><td>precision</td><td>▁</td></tr><tr><td>recall</td><td>▁</td></tr><tr><td>roc_auc</td><td>▁</td></tr></table><br/></div><div class=\"wandb-col\"><h3>Run summary:</h3><br/><table class=\"wandb\"><tr><td>accuracy</td><td>0.29032</td></tr><tr><td>f1</td><td>0.15385</td></tr><tr><td>pr_auc</td><td>0.34774</td></tr><tr><td>precision</td><td>0.11111</td></tr><tr><td>recall</td><td>0.25</td></tr><tr><td>roc_auc</td><td>0.40217</td></tr></table><br/></div></div>"
      ],
      "text/plain": [
       "<IPython.core.display.HTML object>"
      ]
     },
     "metadata": {},
     "output_type": "display_data"
    },
    {
     "data": {
      "text/html": [
       " View run <strong style=\"color:#cdcd00\">Test_MLP_Scratch_fold_3</strong> at: <a href='https://wandb.ai/TFE-proteomics/MLP/runs/2ddzg49w' target=\"_blank\">https://wandb.ai/TFE-proteomics/MLP/runs/2ddzg49w</a><br/>Synced 5 W&B file(s), 0 media file(s), 0 artifact file(s) and 0 other file(s)"
      ],
      "text/plain": [
       "<IPython.core.display.HTML object>"
      ]
     },
     "metadata": {},
     "output_type": "display_data"
    },
    {
     "data": {
      "text/html": [
       "Find logs at: <code>./wandb/run-20250314_195451-2ddzg49w/logs</code>"
      ],
      "text/plain": [
       "<IPython.core.display.HTML object>"
      ]
     },
     "metadata": {},
     "output_type": "display_data"
    },
    {
     "name": "stdout",
     "output_type": "stream",
     "text": [
      "Fold 4 on 5\n",
      "Testing config 1 on 48\n",
      "Early stopping triggered at 28 epoch.\n",
      "Testing config 2 on 48\n",
      "Early stopping triggered at 21 epoch.\n",
      "Testing config 3 on 48\n",
      "Early stopping triggered at 24 epoch.\n",
      "Testing config 4 on 48\n",
      "Early stopping triggered at 18 epoch.\n",
      "Testing config 5 on 48\n",
      "Early stopping triggered at 36 epoch.\n",
      "Testing config 6 on 48\n",
      "Early stopping triggered at 18 epoch.\n",
      "Testing config 7 on 48\n",
      "Early stopping triggered at 46 epoch.\n",
      "Testing config 8 on 48\n",
      "Early stopping triggered at 19 epoch.\n",
      "Testing config 9 on 48\n",
      "Early stopping triggered at 52 epoch.\n",
      "Testing config 10 on 48\n",
      "Early stopping triggered at 29 epoch.\n",
      "Testing config 11 on 48\n",
      "Early stopping triggered at 57 epoch.\n",
      "Testing config 12 on 48\n",
      "Early stopping triggered at 29 epoch.\n",
      "Testing config 13 on 48\n",
      "Early stopping triggered at 7 epoch.\n",
      "Testing config 14 on 48\n",
      "Early stopping triggered at 6 epoch.\n",
      "Testing config 15 on 48\n",
      "Early stopping triggered at 7 epoch.\n",
      "Testing config 16 on 48\n",
      "Early stopping triggered at 25 epoch.\n",
      "Testing config 17 on 48\n",
      "Early stopping triggered at 11 epoch.\n",
      "Testing config 18 on 48\n",
      "Early stopping triggered at 5 epoch.\n",
      "Testing config 19 on 48\n",
      "Early stopping triggered at 9 epoch.\n",
      "Testing config 20 on 48\n",
      "Early stopping triggered at 24 epoch.\n",
      "Testing config 21 on 48\n",
      "Early stopping triggered at 10 epoch.\n",
      "Testing config 22 on 48\n",
      "Early stopping triggered at 7 epoch.\n",
      "Testing config 23 on 48\n",
      "Early stopping triggered at 16 epoch.\n",
      "Testing config 24 on 48\n",
      "Early stopping triggered at 9 epoch.\n",
      "Testing config 25 on 48\n",
      "Early stopping triggered at 8 epoch.\n",
      "Testing config 26 on 48\n",
      "Early stopping triggered at 8 epoch.\n",
      "Testing config 27 on 48\n",
      "Early stopping triggered at 11 epoch.\n",
      "Testing config 28 on 48\n",
      "Early stopping triggered at 6 epoch.\n",
      "Testing config 29 on 48\n",
      "Early stopping triggered at 9 epoch.\n",
      "Testing config 30 on 48\n",
      "Early stopping triggered at 9 epoch.\n",
      "Testing config 31 on 48\n",
      "Early stopping triggered at 45 epoch.\n",
      "Testing config 32 on 48\n",
      "Early stopping triggered at 16 epoch.\n",
      "Testing config 33 on 48\n",
      "Early stopping triggered at 5 epoch.\n",
      "Testing config 34 on 48\n",
      "Early stopping triggered at 13 epoch.\n",
      "Testing config 35 on 48\n",
      "Early stopping triggered at 24 epoch.\n",
      "Testing config 36 on 48\n",
      "Early stopping triggered at 9 epoch.\n",
      "Testing config 37 on 48\n",
      "Early stopping triggered at 11 epoch.\n",
      "Testing config 38 on 48\n",
      "Early stopping triggered at 27 epoch.\n",
      "Testing config 39 on 48\n",
      "Early stopping triggered at 16 epoch.\n",
      "Testing config 40 on 48\n",
      "Early stopping triggered at 12 epoch.\n",
      "Testing config 41 on 48\n",
      "Early stopping triggered at 16 epoch.\n",
      "Testing config 42 on 48\n",
      "Early stopping triggered at 17 epoch.\n",
      "Testing config 43 on 48\n",
      "Early stopping triggered at 9 epoch.\n",
      "Testing config 44 on 48\n",
      "Early stopping triggered at 15 epoch.\n",
      "Testing config 45 on 48\n",
      "Early stopping triggered at 8 epoch.\n",
      "Testing config 46 on 48\n",
      "Early stopping triggered at 10 epoch.\n",
      "Testing config 47 on 48\n",
      "Early stopping triggered at 5 epoch.\n",
      "Testing config 48 on 48\n",
      "Early stopping triggered at 13 epoch.\n",
      "\n",
      "--------------------------------------Config Done--------------------------------------------\n",
      "\n"
     ]
    },
    {
     "data": {
      "text/html": [
       "wandb version 0.19.8 is available!  To upgrade, please run:\n",
       " $ pip install wandb --upgrade"
      ],
      "text/plain": [
       "<IPython.core.display.HTML object>"
      ]
     },
     "metadata": {},
     "output_type": "display_data"
    },
    {
     "data": {
      "text/html": [
       "Tracking run with wandb version 0.16.4"
      ],
      "text/plain": [
       "<IPython.core.display.HTML object>"
      ]
     },
     "metadata": {},
     "output_type": "display_data"
    },
    {
     "data": {
      "text/html": [
       "Run data is saved locally in <code>/home/jwalraff/TFE/wandb/run-20250314_195513-445q5a50</code>"
      ],
      "text/plain": [
       "<IPython.core.display.HTML object>"
      ]
     },
     "metadata": {},
     "output_type": "display_data"
    },
    {
     "data": {
      "text/html": [
       "Syncing run <strong><a href='https://wandb.ai/TFE-proteomics/MLP/runs/445q5a50' target=\"_blank\">Test_MLP_Scratch_fold_4</a></strong> to <a href='https://wandb.ai/TFE-proteomics/MLP' target=\"_blank\">Weights & Biases</a> (<a href='https://wandb.me/run' target=\"_blank\">docs</a>)<br/>"
      ],
      "text/plain": [
       "<IPython.core.display.HTML object>"
      ]
     },
     "metadata": {},
     "output_type": "display_data"
    },
    {
     "data": {
      "text/html": [
       " View project at <a href='https://wandb.ai/TFE-proteomics/MLP' target=\"_blank\">https://wandb.ai/TFE-proteomics/MLP</a>"
      ],
      "text/plain": [
       "<IPython.core.display.HTML object>"
      ]
     },
     "metadata": {},
     "output_type": "display_data"
    },
    {
     "data": {
      "text/html": [
       " View run at <a href='https://wandb.ai/TFE-proteomics/MLP/runs/445q5a50' target=\"_blank\">https://wandb.ai/TFE-proteomics/MLP/runs/445q5a50</a>"
      ],
      "text/plain": [
       "<IPython.core.display.HTML object>"
      ]
     },
     "metadata": {},
     "output_type": "display_data"
    },
    {
     "data": {
      "application/vnd.jupyter.widget-view+json": {
       "model_id": "fe313610aef74f3da48c41a91366155f",
       "version_major": 2,
       "version_minor": 0
      },
      "text/plain": [
       "VBox(children=(Label(value='0.004 MB of 0.018 MB uploaded\\r'), FloatProgress(value=0.22475099344583785, max=1.…"
      ]
     },
     "metadata": {},
     "output_type": "display_data"
    },
    {
     "data": {
      "text/html": [
       "<style>\n",
       "    table.wandb td:nth-child(1) { padding: 0 10px; text-align: left ; width: auto;} td:nth-child(2) {text-align: left ; width: 100%}\n",
       "    .wandb-row { display: flex; flex-direction: row; flex-wrap: wrap; justify-content: flex-start; width: 100% }\n",
       "    .wandb-col { display: flex; flex-direction: column; flex-basis: 100%; flex: 1; padding: 10px; }\n",
       "    </style>\n",
       "<div class=\"wandb-row\"><div class=\"wandb-col\"><h3>Run history:</h3><br/><table class=\"wandb\"><tr><td>accuracy</td><td>▁</td></tr><tr><td>f1</td><td>▁</td></tr><tr><td>pr_auc</td><td>▁</td></tr><tr><td>precision</td><td>▁</td></tr><tr><td>recall</td><td>▁</td></tr><tr><td>roc_auc</td><td>▁</td></tr></table><br/></div><div class=\"wandb-col\"><h3>Run summary:</h3><br/><table class=\"wandb\"><tr><td>accuracy</td><td>0.70968</td></tr><tr><td>f1</td><td>0.30769</td></tr><tr><td>pr_auc</td><td>0.42988</td></tr><tr><td>precision</td><td>0.4</td></tr><tr><td>recall</td><td>0.25</td></tr><tr><td>roc_auc</td><td>0.67391</td></tr></table><br/></div></div>"
      ],
      "text/plain": [
       "<IPython.core.display.HTML object>"
      ]
     },
     "metadata": {},
     "output_type": "display_data"
    },
    {
     "data": {
      "text/html": [
       " View run <strong style=\"color:#cdcd00\">Test_MLP_Scratch_fold_4</strong> at: <a href='https://wandb.ai/TFE-proteomics/MLP/runs/445q5a50' target=\"_blank\">https://wandb.ai/TFE-proteomics/MLP/runs/445q5a50</a><br/>Synced 5 W&B file(s), 0 media file(s), 0 artifact file(s) and 0 other file(s)"
      ],
      "text/plain": [
       "<IPython.core.display.HTML object>"
      ]
     },
     "metadata": {},
     "output_type": "display_data"
    },
    {
     "data": {
      "text/html": [
       "Find logs at: <code>./wandb/run-20250314_195513-445q5a50/logs</code>"
      ],
      "text/plain": [
       "<IPython.core.display.HTML object>"
      ]
     },
     "metadata": {},
     "output_type": "display_data"
    },
    {
     "name": "stdout",
     "output_type": "stream",
     "text": [
      "Fold 5 on 5\n",
      "Testing config 1 on 48\n",
      "Early stopping triggered at 42 epoch.\n",
      "Testing config 2 on 48\n",
      "Early stopping triggered at 18 epoch.\n",
      "Testing config 3 on 48\n",
      "Early stopping triggered at 36 epoch.\n",
      "Testing config 4 on 48\n",
      "Early stopping triggered at 22 epoch.\n",
      "Testing config 5 on 48\n",
      "Early stopping triggered at 51 epoch.\n",
      "Testing config 6 on 48\n",
      "Early stopping triggered at 18 epoch.\n",
      "Testing config 7 on 48\n",
      "Early stopping triggered at 45 epoch.\n",
      "Testing config 8 on 48\n",
      "Early stopping triggered at 23 epoch.\n",
      "Testing config 9 on 48\n",
      "Early stopping triggered at 44 epoch.\n",
      "Testing config 10 on 48\n",
      "Early stopping triggered at 24 epoch.\n",
      "Testing config 11 on 48\n",
      "Early stopping triggered at 54 epoch.\n",
      "Testing config 12 on 48\n",
      "Early stopping triggered at 28 epoch.\n",
      "Testing config 13 on 48\n",
      "Early stopping triggered at 6 epoch.\n",
      "Testing config 14 on 48\n",
      "Early stopping triggered at 6 epoch.\n",
      "Testing config 15 on 48\n",
      "Early stopping triggered at 26 epoch.\n",
      "Testing config 16 on 48\n",
      "Early stopping triggered at 5 epoch.\n",
      "Testing config 17 on 48\n",
      "Early stopping triggered at 15 epoch.\n",
      "Testing config 18 on 48\n",
      "Early stopping triggered at 8 epoch.\n",
      "Testing config 19 on 48\n",
      "Early stopping triggered at 8 epoch.\n",
      "Testing config 20 on 48\n",
      "Early stopping triggered at 5 epoch.\n",
      "Testing config 21 on 48\n",
      "Early stopping triggered at 24 epoch.\n",
      "Testing config 22 on 48\n",
      "Early stopping triggered at 7 epoch.\n",
      "Testing config 23 on 48\n",
      "Early stopping triggered at 16 epoch.\n",
      "Testing config 24 on 48\n",
      "Early stopping triggered at 7 epoch.\n",
      "Testing config 25 on 48\n",
      "Early stopping triggered at 6 epoch.\n",
      "Testing config 26 on 48\n",
      "Early stopping triggered at 12 epoch.\n",
      "Testing config 27 on 48\n",
      "Early stopping triggered at 8 epoch.\n",
      "Testing config 28 on 48\n",
      "Early stopping triggered at 6 epoch.\n",
      "Testing config 29 on 48\n",
      "Early stopping triggered at 6 epoch.\n",
      "Testing config 30 on 48\n",
      "Early stopping triggered at 18 epoch.\n",
      "Testing config 31 on 48\n",
      "Early stopping triggered at 9 epoch.\n",
      "Testing config 32 on 48\n",
      "Early stopping triggered at 6 epoch.\n",
      "Testing config 33 on 48\n",
      "Early stopping triggered at 6 epoch.\n",
      "Testing config 34 on 48\n",
      "Early stopping triggered at 7 epoch.\n",
      "Testing config 35 on 48\n",
      "Early stopping triggered at 7 epoch.\n",
      "Testing config 36 on 48\n",
      "Early stopping triggered at 15 epoch.\n",
      "Testing config 37 on 48\n",
      "Early stopping triggered at 8 epoch.\n",
      "Testing config 38 on 48\n",
      "Early stopping triggered at 8 epoch.\n",
      "Testing config 39 on 48\n",
      "Early stopping triggered at 12 epoch.\n",
      "Testing config 40 on 48\n",
      "Early stopping triggered at 20 epoch.\n",
      "Testing config 41 on 48\n",
      "Early stopping triggered at 18 epoch.\n",
      "Testing config 42 on 48\n",
      "Early stopping triggered at 26 epoch.\n",
      "Testing config 43 on 48\n",
      "Early stopping triggered at 13 epoch.\n",
      "Testing config 44 on 48\n",
      "Early stopping triggered at 71 epoch.\n",
      "Testing config 45 on 48\n",
      "Early stopping triggered at 88 epoch.\n",
      "Testing config 46 on 48\n",
      "Early stopping triggered at 17 epoch.\n",
      "Testing config 47 on 48\n",
      "Early stopping triggered at 14 epoch.\n",
      "Testing config 48 on 48\n",
      "Early stopping triggered at 13 epoch.\n",
      "\n",
      "--------------------------------------Config Done--------------------------------------------\n",
      "\n"
     ]
    },
    {
     "data": {
      "text/html": [
       "wandb version 0.19.8 is available!  To upgrade, please run:\n",
       " $ pip install wandb --upgrade"
      ],
      "text/plain": [
       "<IPython.core.display.HTML object>"
      ]
     },
     "metadata": {},
     "output_type": "display_data"
    },
    {
     "data": {
      "text/html": [
       "Tracking run with wandb version 0.16.4"
      ],
      "text/plain": [
       "<IPython.core.display.HTML object>"
      ]
     },
     "metadata": {},
     "output_type": "display_data"
    },
    {
     "data": {
      "text/html": [
       "Run data is saved locally in <code>/home/jwalraff/TFE/wandb/run-20250314_195537-4jem506g</code>"
      ],
      "text/plain": [
       "<IPython.core.display.HTML object>"
      ]
     },
     "metadata": {},
     "output_type": "display_data"
    },
    {
     "data": {
      "text/html": [
       "Syncing run <strong><a href='https://wandb.ai/TFE-proteomics/MLP/runs/4jem506g' target=\"_blank\">Test_MLP_Scratch_fold_5</a></strong> to <a href='https://wandb.ai/TFE-proteomics/MLP' target=\"_blank\">Weights & Biases</a> (<a href='https://wandb.me/run' target=\"_blank\">docs</a>)<br/>"
      ],
      "text/plain": [
       "<IPython.core.display.HTML object>"
      ]
     },
     "metadata": {},
     "output_type": "display_data"
    },
    {
     "data": {
      "text/html": [
       " View project at <a href='https://wandb.ai/TFE-proteomics/MLP' target=\"_blank\">https://wandb.ai/TFE-proteomics/MLP</a>"
      ],
      "text/plain": [
       "<IPython.core.display.HTML object>"
      ]
     },
     "metadata": {},
     "output_type": "display_data"
    },
    {
     "data": {
      "text/html": [
       " View run at <a href='https://wandb.ai/TFE-proteomics/MLP/runs/4jem506g' target=\"_blank\">https://wandb.ai/TFE-proteomics/MLP/runs/4jem506g</a>"
      ],
      "text/plain": [
       "<IPython.core.display.HTML object>"
      ]
     },
     "metadata": {},
     "output_type": "display_data"
    },
    {
     "data": {
      "application/vnd.jupyter.widget-view+json": {
       "model_id": "a5653750f69f4385ab2615cce2407b35",
       "version_major": 2,
       "version_minor": 0
      },
      "text/plain": [
       "VBox(children=(Label(value='0.004 MB of 0.018 MB uploaded\\r'), FloatProgress(value=0.2249251110422477, max=1.0…"
      ]
     },
     "metadata": {},
     "output_type": "display_data"
    },
    {
     "data": {
      "text/html": [
       "<style>\n",
       "    table.wandb td:nth-child(1) { padding: 0 10px; text-align: left ; width: auto;} td:nth-child(2) {text-align: left ; width: 100%}\n",
       "    .wandb-row { display: flex; flex-direction: row; flex-wrap: wrap; justify-content: flex-start; width: 100% }\n",
       "    .wandb-col { display: flex; flex-direction: column; flex-basis: 100%; flex: 1; padding: 10px; }\n",
       "    </style>\n",
       "<div class=\"wandb-row\"><div class=\"wandb-col\"><h3>Run history:</h3><br/><table class=\"wandb\"><tr><td>accuracy</td><td>▁</td></tr><tr><td>f1</td><td>▁</td></tr><tr><td>pr_auc</td><td>▁</td></tr><tr><td>precision</td><td>▁</td></tr><tr><td>recall</td><td>▁</td></tr><tr><td>roc_auc</td><td>▁</td></tr></table><br/></div><div class=\"wandb-col\"><h3>Run summary:</h3><br/><table class=\"wandb\"><tr><td>accuracy</td><td>0.70968</td></tr><tr><td>f1</td><td>0.0</td></tr><tr><td>pr_auc</td><td>0.38967</td></tr><tr><td>precision</td><td>0.0</td></tr><tr><td>recall</td><td>0.0</td></tr><tr><td>roc_auc</td><td>0.59239</td></tr></table><br/></div></div>"
      ],
      "text/plain": [
       "<IPython.core.display.HTML object>"
      ]
     },
     "metadata": {},
     "output_type": "display_data"
    },
    {
     "data": {
      "text/html": [
       " View run <strong style=\"color:#cdcd00\">Test_MLP_Scratch_fold_5</strong> at: <a href='https://wandb.ai/TFE-proteomics/MLP/runs/4jem506g' target=\"_blank\">https://wandb.ai/TFE-proteomics/MLP/runs/4jem506g</a><br/>Synced 5 W&B file(s), 0 media file(s), 0 artifact file(s) and 0 other file(s)"
      ],
      "text/plain": [
       "<IPython.core.display.HTML object>"
      ]
     },
     "metadata": {},
     "output_type": "display_data"
    },
    {
     "data": {
      "text/html": [
       "Find logs at: <code>./wandb/run-20250314_195537-4jem506g/logs</code>"
      ],
      "text/plain": [
       "<IPython.core.display.HTML object>"
      ]
     },
     "metadata": {},
     "output_type": "display_data"
    },
    {
     "data": {
      "application/vnd.jupyter.widget-view+json": {
       "model_id": "a33d0a1b93a74964bfdc12c24e124e5e",
       "version_major": 2,
       "version_minor": 0
      },
      "text/plain": [
       "VBox(children=(Label(value='Waiting for wandb.init()...\\r'), FloatProgress(value=0.01111235473718908, max=1.0)…"
      ]
     },
     "metadata": {},
     "output_type": "display_data"
    },
    {
     "data": {
      "text/html": [
       "wandb version 0.19.8 is available!  To upgrade, please run:\n",
       " $ pip install wandb --upgrade"
      ],
      "text/plain": [
       "<IPython.core.display.HTML object>"
      ]
     },
     "metadata": {},
     "output_type": "display_data"
    },
    {
     "data": {
      "text/html": [
       "Tracking run with wandb version 0.16.4"
      ],
      "text/plain": [
       "<IPython.core.display.HTML object>"
      ]
     },
     "metadata": {},
     "output_type": "display_data"
    },
    {
     "data": {
      "text/html": [
       "Run data is saved locally in <code>/home/jwalraff/TFE/wandb/run-20250314_195546-f68cqsom</code>"
      ],
      "text/plain": [
       "<IPython.core.display.HTML object>"
      ]
     },
     "metadata": {},
     "output_type": "display_data"
    },
    {
     "data": {
      "text/html": [
       "Syncing run <strong><a href='https://wandb.ai/TFE-proteomics/MLP/runs/f68cqsom' target=\"_blank\">Test_MLP_Scratch_CrossValidation_Summary</a></strong> to <a href='https://wandb.ai/TFE-proteomics/MLP' target=\"_blank\">Weights & Biases</a> (<a href='https://wandb.me/run' target=\"_blank\">docs</a>)<br/>"
      ],
      "text/plain": [
       "<IPython.core.display.HTML object>"
      ]
     },
     "metadata": {},
     "output_type": "display_data"
    },
    {
     "data": {
      "text/html": [
       " View project at <a href='https://wandb.ai/TFE-proteomics/MLP' target=\"_blank\">https://wandb.ai/TFE-proteomics/MLP</a>"
      ],
      "text/plain": [
       "<IPython.core.display.HTML object>"
      ]
     },
     "metadata": {},
     "output_type": "display_data"
    },
    {
     "data": {
      "text/html": [
       " View run at <a href='https://wandb.ai/TFE-proteomics/MLP/runs/f68cqsom' target=\"_blank\">https://wandb.ai/TFE-proteomics/MLP/runs/f68cqsom</a>"
      ],
      "text/plain": [
       "<IPython.core.display.HTML object>"
      ]
     },
     "metadata": {},
     "output_type": "display_data"
    },
    {
     "data": {
      "application/vnd.jupyter.widget-view+json": {
       "model_id": "52e23f775ba4412a9346af3de0870671",
       "version_major": 2,
       "version_minor": 0
      },
      "text/plain": [
       "VBox(children=(Label(value='0.004 MB of 0.019 MB uploaded\\r'), FloatProgress(value=0.22123217922606925, max=1.…"
      ]
     },
     "metadata": {},
     "output_type": "display_data"
    },
    {
     "data": {
      "text/html": [
       "<style>\n",
       "    table.wandb td:nth-child(1) { padding: 0 10px; text-align: left ; width: auto;} td:nth-child(2) {text-align: left ; width: 100%}\n",
       "    .wandb-row { display: flex; flex-direction: row; flex-wrap: wrap; justify-content: flex-start; width: 100% }\n",
       "    .wandb-col { display: flex; flex-direction: column; flex-basis: 100%; flex: 1; padding: 10px; }\n",
       "    </style>\n",
       "<div class=\"wandb-row\"><div class=\"wandb-col\"><h3>Run history:</h3><br/><table class=\"wandb\"><tr><td>accuracy_mean</td><td>▁</td></tr><tr><td>accuracy_std</td><td>▁</td></tr><tr><td>f1_mean</td><td>▁</td></tr><tr><td>f1_std</td><td>▁</td></tr><tr><td>pr_auc_mean</td><td>▁</td></tr><tr><td>pr_auc_std</td><td>▁</td></tr><tr><td>precision_mean</td><td>▁</td></tr><tr><td>precision_std</td><td>▁</td></tr><tr><td>recall_mean</td><td>▁</td></tr><tr><td>recall_std</td><td>▁</td></tr><tr><td>roc_auc_mean</td><td>▁</td></tr><tr><td>roc_auc_std</td><td>▁</td></tr></table><br/></div><div class=\"wandb-col\"><h3>Run summary:</h3><br/><table class=\"wandb\"><tr><td>accuracy_mean</td><td>0.6129</td></tr><tr><td>accuracy_std</td><td>0.16321</td></tr><tr><td>f1_mean</td><td>0.19926</td></tr><tr><td>f1_std</td><td>0.12446</td></tr><tr><td>pr_auc_mean</td><td>0.35535</td></tr><tr><td>pr_auc_std</td><td>0.05267</td></tr><tr><td>precision_mean</td><td>0.21222</td></tr><tr><td>precision_std</td><td>0.14118</td></tr><tr><td>recall_mean</td><td>0.21429</td></tr><tr><td>recall_std</td><td>0.14106</td></tr><tr><td>roc_auc_mean</td><td>0.56286</td></tr><tr><td>roc_auc_std</td><td>0.10873</td></tr></table><br/></div></div>"
      ],
      "text/plain": [
       "<IPython.core.display.HTML object>"
      ]
     },
     "metadata": {},
     "output_type": "display_data"
    },
    {
     "data": {
      "text/html": [
       " View run <strong style=\"color:#cdcd00\">Test_MLP_Scratch_CrossValidation_Summary</strong> at: <a href='https://wandb.ai/TFE-proteomics/MLP/runs/f68cqsom' target=\"_blank\">https://wandb.ai/TFE-proteomics/MLP/runs/f68cqsom</a><br/>Synced 5 W&B file(s), 0 media file(s), 0 artifact file(s) and 0 other file(s)"
      ],
      "text/plain": [
       "<IPython.core.display.HTML object>"
      ]
     },
     "metadata": {},
     "output_type": "display_data"
    },
    {
     "data": {
      "text/html": [
       "Find logs at: <code>./wandb/run-20250314_195546-f68cqsom/logs</code>"
      ],
      "text/plain": [
       "<IPython.core.display.HTML object>"
      ]
     },
     "metadata": {},
     "output_type": "display_data"
    }
   ],
   "source": [
    "LEARNING_RATE = 3e-4\n",
    "VOCAB_SIZE = len(amino_acid_vocab) + 1  # +1 for padding\n",
    "EMBED_DIM = 128\n",
    "HIDDEN_DIM = 128\n",
    "OUTPUT_DIM = 1\n",
    "N_EPOCHS = 100\n",
    "BATCH_SIZE = 32\n",
    "N_SPLITS = 5\n",
    "DROPOUT = 0.3\n",
    "\n",
    "# Define paths and useful variables\n",
    "count = 1\n",
    "models_path = \"/home/jwalraff/TFE/Models\"\n",
    "results_path = \"/home/jwalraff/TFE/Results\"\n",
    "images_path = \"/home/jwalraff/TFE/Images\"\n",
    "\n",
    "imbalanced_name_dict = {\n",
    "    \"Imbalance\": {\n",
    "        (False, False): \"N\",\n",
    "        (True, False): \"W\",\n",
    "        (False, True): \"O\"\n",
    "    },\n",
    "    \"Early Stopping\": {\n",
    "        True: \"ES\",\n",
    "        False: \"NES\"\n",
    "    },\n",
    "    \"Transfer Learning\": {\n",
    "        True: \"FT\",\n",
    "        False: \"FE\",\n",
    "        None: \"N\"\n",
    "    }\n",
    "}\n",
    "\n",
    "kf = StratifiedKFold(n_splits=N_SPLITS, shuffle=True, random_state = 42)\n",
    "\n",
    "# Loop over all configurations of variant (here different class imbalance technique + Early stopping) in order to compute all in once\n",
    "for weighting, oversampling in [(False, False), (True, False), (False, True)]:\n",
    "    for do_early_stopping in [False, True]:\n",
    "        temp_results_list = []\n",
    "        # Loop over the folds\n",
    "        for fold, (train_idx, test_idx) in enumerate(kf.split(df, df['quantotypic'])):\n",
    "            # Split the data and creating dataloaders\n",
    "            print(f\"Fold {fold+1} on 5\")\n",
    "            tmp_train_df = df.iloc[train_idx]\n",
    "            test_df = df.iloc[test_idx]\n",
    "\n",
    "            train_df, val_df = train_test_split(tmp_train_df, test_size=0.2, stratify=tmp_train_df['quantotypic'], random_state = 42)\n",
    "\n",
    "            if oversampling:\n",
    "                train_df = utils.balance_classes_with_oversampling(train_df)\n",
    "\n",
    "            train_dataset = PeptideDataset(train_df['sequence'].values, train_df['quantotypic'].values, amino_acid_vocab, max_len)\n",
    "            val_dataset = PeptideDataset(val_df['sequence'].values, val_df['quantotypic'].values, amino_acid_vocab, max_len)\n",
    "\n",
    "            train_loader = DataLoader(train_dataset, batch_size=BATCH_SIZE, shuffle=True)\n",
    "            validation_loader = DataLoader(val_dataset, batch_size=BATCH_SIZE)\n",
    "\n",
    "            pos_weight = compute_pos_weight(train_df, 'quantotypic') if weighting else None\n",
    "\n",
    "            best_model = None\n",
    "            best_history = None\n",
    "\n",
    "            # GridSearch for hyperparameters\n",
    "            config_count = 1\n",
    "            for LR in [0.0001, 0.001, 0.01, 0.1]:\n",
    "                for n_layers in [1, 2, 3]:\n",
    "                    for dropout in [0.2, 0.3]:\n",
    "                        for hidden_size, embed_size in [(64, 64), (128, 128)]:\n",
    "                            print(f\"Testing config {config_count} on {4*3*2*2}\")\n",
    "                            config_count += 1\n",
    "                            model = PeptideMLPClassifier(VOCAB_SIZE, embed_size, hidden_size, OUTPUT_DIM, dropout, max_len, num_layers=n_layers)\n",
    "\n",
    "                            # wandb.init(\n",
    "                            #     project=\"MLP\",\n",
    "                            #     name=f\"MLP_Scratch_config_hyperparameters\",\n",
    "                            #     config={\n",
    "                            #         \"learning_rate\": LR,\n",
    "                            #         \"architecture\": \"MLP\",\n",
    "                            #         \"dataset\": \"SPARE\",\n",
    "                            #         \"epochs\": N_EPOCHS,\n",
    "                            #         \"Batch_size\": batch_size,\n",
    "                            #         \"Dropout\": dropout,\n",
    "                            #         \"Hidden_size\": hidden_size,\n",
    "                            #         \"Embedding_size\": embed_size,\n",
    "                            #         \"Number of layers\": n_layers,\n",
    "                            #         \"Oversampling\": oversampling,\n",
    "                            #         \"Weighting\": weighting,\n",
    "                            #         \"Early stopping\": do_early_stopping\n",
    "                            #     }\n",
    "                            # )\n",
    "\n",
    "                            history = train(model, train_loader, validation_loader, N_EPOCHS, LR, \"test\", do_early_stopping=do_early_stopping,\n",
    "                                            model_name='Scratch', weight=pos_weight)\n",
    "\n",
    "                            best_model, best_history = compute_best(history, best_history, model, best_model)\n",
    "\n",
    "                            # wandb.finish()\n",
    "\n",
    "            print(\"\\n--------------------------------------Config Done--------------------------------------------\\n\")\n",
    "            results = evaluate_mlp_model(best_model, test_df, amino_acid_vocab, max_len)\n",
    "\n",
    "            temp_results_list.append({\n",
    "                'accuracy': results['accuracy'],\n",
    "                'precision': results['precision'],\n",
    "                'recall': results['recall'],\n",
    "                'f1': results['f1'],\n",
    "                'roc_auc': results['roc_auc'],\n",
    "                'pr_auc': results['pr_auc']\n",
    "            })\n",
    "\n",
    "            wandb.init(project=\"MLP\", name=f\"Test_MLP_Scratch_fold_{fold+1}\",\n",
    "                       config={\n",
    "                            \"weighting\": weighting,\n",
    "                            \"oversampling\": oversampling,\n",
    "                            \"early_stopping\": do_early_stopping\n",
    "                       })\n",
    "\n",
    "            wandb.log(results)\n",
    "            wandb.finish()\n",
    "            \n",
    "            # Save the best model\n",
    "            text = f\"{imbalanced_name_dict['Early Stopping'][do_early_stopping]}_{imbalanced_name_dict['Transfer Learning'][None]}_{imbalanced_name_dict['Imbalance'][(weighting, oversampling)]}\"\n",
    "            filename = f\"Best_MLP_{text}_cvfold{fold+1}\"\n",
    "            torch.save(best_model.state_dict(), f\"{models_path}/{filename}.pth\")\n",
    "\n",
    "\n",
    "        accuracy_list = [res['accuracy'] for res in temp_results_list]\n",
    "        precision_list = [res['precision'] for res in temp_results_list]\n",
    "        recall_list = [res['recall'] for res in temp_results_list]\n",
    "        f1_list = [res['f1'] for res in temp_results_list]\n",
    "        roc_auc_list = [res['roc_auc'] for res in temp_results_list]\n",
    "        pr_auc_list = [res['pr_auc'] for res in temp_results_list]\n",
    "\n",
    "        metrics_summary = {\n",
    "            'accuracy_mean': np.mean(accuracy_list),\n",
    "            'accuracy_std': np.std(accuracy_list),\n",
    "            'precision_mean': np.mean(precision_list),\n",
    "            'precision_std': np.std(precision_list),\n",
    "            'recall_mean': np.mean(recall_list),\n",
    "            'recall_std': np.std(recall_list),\n",
    "            'f1_mean': np.mean(f1_list),\n",
    "            'f1_std': np.std(f1_list),\n",
    "            'roc_auc_mean': np.mean(roc_auc_list),\n",
    "            'roc_auc_std': np.std(roc_auc_list),\n",
    "            'pr_auc_mean': np.mean(pr_auc_list),\n",
    "            'pr_auc_std': np.std(pr_auc_list),\n",
    "        }\n",
    "\n",
    "        wandb.init(project=\"MLP\", name=f\"Test_MLP_Scratch_CrossValidation_Summary\",\n",
    "                   config={\n",
    "                        \"weighting\": weighting,\n",
    "                        \"oversampling\": oversampling,\n",
    "                        \"early_stopping\": do_early_stopping\n",
    "                   })\n",
    "        wandb.log(metrics_summary)\n",
    "        wandb.finish()\n",
    "\n",
    "        dict_save = {\n",
    "            'weighting': weighting,\n",
    "            'oversampling': oversampling,\n",
    "            'early_stopping': do_early_stopping,\n",
    "            'metrics': metrics_summary\n",
    "        }\n",
    "\n",
    "        write_into_json(dict_save, f\"{results_path}/ValidProtocol_MLP_Experiment_{count}.json\")\n",
    "        count += 1"
   ]
  }
 ],
 "metadata": {
  "colab": {
   "provenance": []
  },
  "kernelspec": {
   "display_name": "Python 3",
   "language": "python",
   "name": "python3"
  },
  "language_info": {
   "codemirror_mode": {
    "name": "ipython",
    "version": 3
   },
   "file_extension": ".py",
   "mimetype": "text/x-python",
   "name": "python",
   "nbconvert_exporter": "python",
   "pygments_lexer": "ipython3",
   "version": "3.10.6"
  }
 },
 "nbformat": 4,
 "nbformat_minor": 1
}
