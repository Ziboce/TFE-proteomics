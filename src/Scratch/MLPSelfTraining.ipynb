{
 "cells": [
  {
   "cell_type": "markdown",
   "metadata": {},
   "source": [
    "# Library import"
   ]
  },
  {
   "cell_type": "code",
   "execution_count": 1,
   "metadata": {
    "colab": {
     "base_uri": "https://localhost:8080/"
    },
    "executionInfo": {
     "elapsed": 38772,
     "status": "ok",
     "timestamp": 1741856023305,
     "user": {
      "displayName": "Jimmy Walraff",
      "userId": "17365452855707799727"
     },
     "user_tz": -60
    },
    "id": "iwsD32he_Kdi",
    "outputId": "cdadd583-8310-4393-99f2-3a50debdfaf0"
   },
   "outputs": [],
   "source": [
    "import pandas as pd\n",
    "import torch\n",
    "import torch.nn as nn\n",
    "import torch.nn.functional as F\n",
    "from torch.utils.data import Dataset, DataLoader\n",
    "import numpy as np\n",
    "import matplotlib.pyplot as plt\n",
    "from sklearn.model_selection import StratifiedKFold, KFold, train_test_split\n",
    "from torch.utils.data import DataLoader\n",
    "from sklearn.metrics import precision_score, recall_score, f1_score, roc_auc_score, average_precision_score, accuracy_score\n",
    "\n",
    "import sys\n",
    "\n",
    "# from google.colab import drive # delete this line if not used on colab\n",
    "# drive.mount(\"/content/drive\", force_remount = True) # delete this line if not used on colab\n",
    "\n",
    "# sys.path.append(\"C:/Users/Walraff/OneDrive - Universite de Liege/Documents/Ulg/Master2/TFE/\")\n",
    "# sys.path.append(\"/content/drive/MyDrive/TFE/\")\n",
    "import utils\n",
    "\n",
    "import wandb"
   ]
  },
  {
   "cell_type": "code",
   "execution_count": 3,
   "metadata": {
    "colab": {
     "base_uri": "https://localhost:8080/",
     "height": 423
    },
    "executionInfo": {
     "elapsed": 1182,
     "status": "ok",
     "timestamp": 1741856028156,
     "user": {
      "displayName": "Jimmy Walraff",
      "userId": "17365452855707799727"
     },
     "user_tz": -60
    },
    "id": "Z0vzFJG__Kdm",
    "outputId": "ccd10dfc-68f2-43a0-8fc1-8522c494c808"
   },
   "outputs": [
    {
     "data": {
      "text/html": [
       "<div>\n",
       "<style scoped>\n",
       "    .dataframe tbody tr th:only-of-type {\n",
       "        vertical-align: middle;\n",
       "    }\n",
       "\n",
       "    .dataframe tbody tr th {\n",
       "        vertical-align: top;\n",
       "    }\n",
       "\n",
       "    .dataframe thead th {\n",
       "        text-align: right;\n",
       "    }\n",
       "</style>\n",
       "<table border=\"1\" class=\"dataframe\">\n",
       "  <thead>\n",
       "    <tr style=\"text-align: right;\">\n",
       "      <th></th>\n",
       "      <th>ProteinName_SPARE</th>\n",
       "      <th>Peptide_SPARE</th>\n",
       "      <th>Status_SPARE</th>\n",
       "    </tr>\n",
       "  </thead>\n",
       "  <tbody>\n",
       "    <tr>\n",
       "      <th>0</th>\n",
       "      <td>sp|P02751|FINC_HUMAN</td>\n",
       "      <td>VDVIPVNLPGEHGQR</td>\n",
       "      <td>bon</td>\n",
       "    </tr>\n",
       "    <tr>\n",
       "      <th>1</th>\n",
       "      <td>sp|P02751|FINC_HUMAN</td>\n",
       "      <td>STTPDITGYR</td>\n",
       "      <td>bon</td>\n",
       "    </tr>\n",
       "    <tr>\n",
       "      <th>2</th>\n",
       "      <td>sp|P02751|FINC_HUMAN</td>\n",
       "      <td>SYTITGLQPGTDYK</td>\n",
       "      <td>bon</td>\n",
       "    </tr>\n",
       "    <tr>\n",
       "      <th>3</th>\n",
       "      <td>sp|P02751|FINC_HUMAN</td>\n",
       "      <td>IYLYTLNDNAR</td>\n",
       "      <td>bon</td>\n",
       "    </tr>\n",
       "    <tr>\n",
       "      <th>4</th>\n",
       "      <td>sp|P04114|APOB_HUMAN</td>\n",
       "      <td>TGISPLALIK</td>\n",
       "      <td>bon</td>\n",
       "    </tr>\n",
       "    <tr>\n",
       "      <th>...</th>\n",
       "      <td>...</td>\n",
       "      <td>...</td>\n",
       "      <td>...</td>\n",
       "    </tr>\n",
       "    <tr>\n",
       "      <th>150</th>\n",
       "      <td>sp|P02743|SAMP_HUMAN</td>\n",
       "      <td>VGEYSLYIGR</td>\n",
       "      <td>bon</td>\n",
       "    </tr>\n",
       "    <tr>\n",
       "      <th>151</th>\n",
       "      <td>sp|P04004|VTNC_HUMAN</td>\n",
       "      <td>GQYCYELDEK</td>\n",
       "      <td>mauvais</td>\n",
       "    </tr>\n",
       "    <tr>\n",
       "      <th>152</th>\n",
       "      <td>sp|P04004|VTNC_HUMAN</td>\n",
       "      <td>FEDGVLDPDYPR</td>\n",
       "      <td>bon</td>\n",
       "    </tr>\n",
       "    <tr>\n",
       "      <th>153</th>\n",
       "      <td>sp|P04004|VTNC_HUMAN</td>\n",
       "      <td>DWHGVPGQVDAAMAGR</td>\n",
       "      <td>bon</td>\n",
       "    </tr>\n",
       "    <tr>\n",
       "      <th>154</th>\n",
       "      <td>sp|P04004|VTNC_HUMAN</td>\n",
       "      <td>SIAQYWLGCPAPGHL</td>\n",
       "      <td>bon</td>\n",
       "    </tr>\n",
       "  </tbody>\n",
       "</table>\n",
       "<p>155 rows × 3 columns</p>\n",
       "</div>"
      ],
      "text/plain": [
       "        ProteinName_SPARE     Peptide_SPARE Status_SPARE\n",
       "0    sp|P02751|FINC_HUMAN   VDVIPVNLPGEHGQR          bon\n",
       "1    sp|P02751|FINC_HUMAN        STTPDITGYR          bon\n",
       "2    sp|P02751|FINC_HUMAN    SYTITGLQPGTDYK          bon\n",
       "3    sp|P02751|FINC_HUMAN       IYLYTLNDNAR          bon\n",
       "4    sp|P04114|APOB_HUMAN        TGISPLALIK          bon\n",
       "..                    ...               ...          ...\n",
       "150  sp|P02743|SAMP_HUMAN        VGEYSLYIGR          bon\n",
       "151  sp|P04004|VTNC_HUMAN        GQYCYELDEK      mauvais\n",
       "152  sp|P04004|VTNC_HUMAN      FEDGVLDPDYPR          bon\n",
       "153  sp|P04004|VTNC_HUMAN  DWHGVPGQVDAAMAGR          bon\n",
       "154  sp|P04004|VTNC_HUMAN   SIAQYWLGCPAPGHL          bon\n",
       "\n",
       "[155 rows x 3 columns]"
      ]
     },
     "execution_count": 3,
     "metadata": {},
     "output_type": "execute_result"
    }
   ],
   "source": [
    "# data_path = \"C:/Users/Walraff/OneDrive - Universite de Liege/Documents/Ulg/Master2/TFE/data\"\n",
    "# data_path = \"/content/drive/MyDrive/TFE\"\n",
    "data_path = \"/home/jwalraff/TFE/data\"\n",
    "original_df = pd.read_csv(f'{data_path}/final_status_SPARE.csv')\n",
    "original_df"
   ]
  },
  {
   "cell_type": "code",
   "execution_count": 4,
   "metadata": {
    "colab": {
     "base_uri": "https://localhost:8080/",
     "height": 475
    },
    "executionInfo": {
     "elapsed": 2391,
     "status": "ok",
     "timestamp": 1741856030557,
     "user": {
      "displayName": "Jimmy Walraff",
      "userId": "17365452855707799727"
     },
     "user_tz": -60
    },
    "id": "Ws0jdTj_2m7A",
    "outputId": "b479070a-24e3-491d-a537-bbb8312bf910"
   },
   "outputs": [
    {
     "data": {
      "text/html": [
       "<div>\n",
       "<style scoped>\n",
       "    .dataframe tbody tr th:only-of-type {\n",
       "        vertical-align: middle;\n",
       "    }\n",
       "\n",
       "    .dataframe tbody tr th {\n",
       "        vertical-align: top;\n",
       "    }\n",
       "\n",
       "    .dataframe thead th {\n",
       "        text-align: right;\n",
       "    }\n",
       "</style>\n",
       "<table border=\"1\" class=\"dataframe\">\n",
       "  <thead>\n",
       "    <tr style=\"text-align: right;\">\n",
       "      <th></th>\n",
       "      <th>Peptide</th>\n",
       "      <th>Protein</th>\n",
       "      <th>Peptide Modified Sequence</th>\n",
       "      <th>Standard Type</th>\n",
       "      <th>First Position</th>\n",
       "      <th>Last Position</th>\n",
       "      <th>Missed Cleavages</th>\n",
       "      <th>Predicted Retention Time</th>\n",
       "      <th>Average Measured Retention Time</th>\n",
       "      <th>Peptide Note</th>\n",
       "    </tr>\n",
       "  </thead>\n",
       "  <tbody>\n",
       "    <tr>\n",
       "      <th>0</th>\n",
       "      <td>MQLVQESEEK</td>\n",
       "      <td>sp|A0A0B4J2F0|PIOS1_HUMAN</td>\n",
       "      <td>MQLVQESEEK</td>\n",
       "      <td>NaN</td>\n",
       "      <td>43</td>\n",
       "      <td>52</td>\n",
       "      <td>0</td>\n",
       "      <td>NaN</td>\n",
       "      <td>NaN</td>\n",
       "      <td>NaN</td>\n",
       "    </tr>\n",
       "    <tr>\n",
       "      <th>1</th>\n",
       "      <td>QPCLPIWHEMVETGGSEGVVR</td>\n",
       "      <td>sp|A0A0K2S4Q6|CD3CH_HUMAN</td>\n",
       "      <td>QPC[+57]LPIWHEMVETGGSEGVVR</td>\n",
       "      <td>NaN</td>\n",
       "      <td>59</td>\n",
       "      <td>79</td>\n",
       "      <td>0</td>\n",
       "      <td>NaN</td>\n",
       "      <td>NaN</td>\n",
       "      <td>NaN</td>\n",
       "    </tr>\n",
       "    <tr>\n",
       "      <th>2</th>\n",
       "      <td>VPLLLSILGAILWVNRPWR</td>\n",
       "      <td>sp|A0A0K2S4Q6|CD3CH_HUMAN</td>\n",
       "      <td>VPLLLSILGAILWVNRPWR</td>\n",
       "      <td>NaN</td>\n",
       "      <td>177</td>\n",
       "      <td>195</td>\n",
       "      <td>0</td>\n",
       "      <td>NaN</td>\n",
       "      <td>NaN</td>\n",
       "      <td>NaN</td>\n",
       "    </tr>\n",
       "    <tr>\n",
       "      <th>3</th>\n",
       "      <td>SHPPPPEK</td>\n",
       "      <td>sp|A0A0U1RRE5|NBDY_HUMAN</td>\n",
       "      <td>SHPPPPEK</td>\n",
       "      <td>NaN</td>\n",
       "      <td>61</td>\n",
       "      <td>68</td>\n",
       "      <td>0</td>\n",
       "      <td>NaN</td>\n",
       "      <td>NaN</td>\n",
       "      <td>NaN</td>\n",
       "    </tr>\n",
       "    <tr>\n",
       "      <th>4</th>\n",
       "      <td>SVSLLRPPFSQLPSK</td>\n",
       "      <td>sp|A0A1B0GTW7|CIROP_HUMAN</td>\n",
       "      <td>SVSLLRPPFSQLPSK</td>\n",
       "      <td>NaN</td>\n",
       "      <td>31</td>\n",
       "      <td>45</td>\n",
       "      <td>0</td>\n",
       "      <td>NaN</td>\n",
       "      <td>NaN</td>\n",
       "      <td>NaN</td>\n",
       "    </tr>\n",
       "    <tr>\n",
       "      <th>...</th>\n",
       "      <td>...</td>\n",
       "      <td>...</td>\n",
       "      <td>...</td>\n",
       "      <td>...</td>\n",
       "      <td>...</td>\n",
       "      <td>...</td>\n",
       "      <td>...</td>\n",
       "      <td>...</td>\n",
       "      <td>...</td>\n",
       "      <td>...</td>\n",
       "    </tr>\n",
       "    <tr>\n",
       "      <th>365085</th>\n",
       "      <td>ELNQYFELAK</td>\n",
       "      <td>sp|Q9Y3F1|TA6P_HUMAN</td>\n",
       "      <td>ELNQYFELAK</td>\n",
       "      <td>NaN</td>\n",
       "      <td>44</td>\n",
       "      <td>53</td>\n",
       "      <td>0</td>\n",
       "      <td>NaN</td>\n",
       "      <td>NaN</td>\n",
       "      <td>NaN</td>\n",
       "    </tr>\n",
       "    <tr>\n",
       "      <th>365086</th>\n",
       "      <td>GSFLIWLLLCWNSWYHLR</td>\n",
       "      <td>sp|Q9Y6C7|L3R2A_HUMAN</td>\n",
       "      <td>GSFLIWLLLC[+57]WNSWYHLR</td>\n",
       "      <td>NaN</td>\n",
       "      <td>36</td>\n",
       "      <td>53</td>\n",
       "      <td>0</td>\n",
       "      <td>NaN</td>\n",
       "      <td>NaN</td>\n",
       "      <td>NaN</td>\n",
       "    </tr>\n",
       "    <tr>\n",
       "      <th>365087</th>\n",
       "      <td>LCHGDSELTSGLLAT</td>\n",
       "      <td>sp|Q9Y6C7|L3R2A_HUMAN</td>\n",
       "      <td>LC[+57]HGDSELTSGLLAT</td>\n",
       "      <td>NaN</td>\n",
       "      <td>80</td>\n",
       "      <td>94</td>\n",
       "      <td>0</td>\n",
       "      <td>NaN</td>\n",
       "      <td>NaN</td>\n",
       "      <td>NaN</td>\n",
       "    </tr>\n",
       "    <tr>\n",
       "      <th>365088</th>\n",
       "      <td>SCQIEQVK</td>\n",
       "      <td>sp|Q9Y6Z2|CF123_HUMAN</td>\n",
       "      <td>SC[+57]QIEQVK</td>\n",
       "      <td>NaN</td>\n",
       "      <td>32</td>\n",
       "      <td>39</td>\n",
       "      <td>0</td>\n",
       "      <td>NaN</td>\n",
       "      <td>NaN</td>\n",
       "      <td>NaN</td>\n",
       "    </tr>\n",
       "    <tr>\n",
       "      <th>365089</th>\n",
       "      <td>YSVPDTGLFQHWEGSIPT</td>\n",
       "      <td>sp|Q9Y6Z2|CF123_HUMAN</td>\n",
       "      <td>YSVPDTGLFQHWEGSIPT</td>\n",
       "      <td>NaN</td>\n",
       "      <td>40</td>\n",
       "      <td>57</td>\n",
       "      <td>0</td>\n",
       "      <td>NaN</td>\n",
       "      <td>NaN</td>\n",
       "      <td>NaN</td>\n",
       "    </tr>\n",
       "  </tbody>\n",
       "</table>\n",
       "<p>365090 rows × 10 columns</p>\n",
       "</div>"
      ],
      "text/plain": [
       "                      Peptide                    Protein  \\\n",
       "0                  MQLVQESEEK  sp|A0A0B4J2F0|PIOS1_HUMAN   \n",
       "1       QPCLPIWHEMVETGGSEGVVR  sp|A0A0K2S4Q6|CD3CH_HUMAN   \n",
       "2         VPLLLSILGAILWVNRPWR  sp|A0A0K2S4Q6|CD3CH_HUMAN   \n",
       "3                    SHPPPPEK   sp|A0A0U1RRE5|NBDY_HUMAN   \n",
       "4             SVSLLRPPFSQLPSK  sp|A0A1B0GTW7|CIROP_HUMAN   \n",
       "...                       ...                        ...   \n",
       "365085             ELNQYFELAK       sp|Q9Y3F1|TA6P_HUMAN   \n",
       "365086     GSFLIWLLLCWNSWYHLR      sp|Q9Y6C7|L3R2A_HUMAN   \n",
       "365087        LCHGDSELTSGLLAT      sp|Q9Y6C7|L3R2A_HUMAN   \n",
       "365088               SCQIEQVK      sp|Q9Y6Z2|CF123_HUMAN   \n",
       "365089     YSVPDTGLFQHWEGSIPT      sp|Q9Y6Z2|CF123_HUMAN   \n",
       "\n",
       "         Peptide Modified Sequence  Standard Type  First Position  \\\n",
       "0                       MQLVQESEEK            NaN              43   \n",
       "1       QPC[+57]LPIWHEMVETGGSEGVVR            NaN              59   \n",
       "2              VPLLLSILGAILWVNRPWR            NaN             177   \n",
       "3                         SHPPPPEK            NaN              61   \n",
       "4                  SVSLLRPPFSQLPSK            NaN              31   \n",
       "...                            ...            ...             ...   \n",
       "365085                  ELNQYFELAK            NaN              44   \n",
       "365086     GSFLIWLLLC[+57]WNSWYHLR            NaN              36   \n",
       "365087        LC[+57]HGDSELTSGLLAT            NaN              80   \n",
       "365088               SC[+57]QIEQVK            NaN              32   \n",
       "365089          YSVPDTGLFQHWEGSIPT            NaN              40   \n",
       "\n",
       "        Last Position  Missed Cleavages  Predicted Retention Time  \\\n",
       "0                  52                 0                       NaN   \n",
       "1                  79                 0                       NaN   \n",
       "2                 195                 0                       NaN   \n",
       "3                  68                 0                       NaN   \n",
       "4                  45                 0                       NaN   \n",
       "...               ...               ...                       ...   \n",
       "365085             53                 0                       NaN   \n",
       "365086             53                 0                       NaN   \n",
       "365087             94                 0                       NaN   \n",
       "365088             39                 0                       NaN   \n",
       "365089             57                 0                       NaN   \n",
       "\n",
       "        Average Measured Retention Time  Peptide Note  \n",
       "0                                   NaN           NaN  \n",
       "1                                   NaN           NaN  \n",
       "2                                   NaN           NaN  \n",
       "3                                   NaN           NaN  \n",
       "4                                   NaN           NaN  \n",
       "...                                 ...           ...  \n",
       "365085                              NaN           NaN  \n",
       "365086                              NaN           NaN  \n",
       "365087                              NaN           NaN  \n",
       "365088                              NaN           NaN  \n",
       "365089                              NaN           NaN  \n",
       "\n",
       "[365090 rows x 10 columns]"
      ]
     },
     "execution_count": 4,
     "metadata": {},
     "output_type": "execute_result"
    }
   ],
   "source": [
    "data_human_unique_peptide_path = f'{data_path}/Tryptic unique peptide of the human proteome.csv'\n",
    "data_human_unique_peptide = pd.read_csv(data_human_unique_peptide_path, delimiter = \";\")\n",
    "data_human_unique_peptide"
   ]
  },
  {
   "cell_type": "markdown",
   "metadata": {},
   "source": [
    "# Dataset, model and loading data"
   ]
  },
  {
   "cell_type": "code",
   "execution_count": null,
   "metadata": {
    "id": "3IIYbTRs_Kdn"
   },
   "outputs": [],
   "source": [
    "# Define the vocabulary\n",
    "amino_acid_vocab = {aa: idx+1 for idx, aa in enumerate(\"ACDEFGHIKLMNPQRSTVWY\")}\n",
    "\n",
    "class PeptideDataset(Dataset):\n",
    "    def __init__(self, sequences, labels, pseudo_labels, vocab, max_len):\n",
    "        \"\"\"\n",
    "        Dataset for peptide sequences.\n",
    "\n",
    "        Args:\n",
    "            sequences (list of str): List of amino acid sequences.\n",
    "            labels (list of int): List of labels associated with the sequences.\n",
    "            pseudo_labels (list of int): List of pseudo labels associated with the sequences.\n",
    "            vocab (dict): Mapping dictionary {amino acid: index}.\n",
    "            max_len (int): Maximum sequence length (applies padding).\n",
    "        \"\"\"\n",
    "        self.sequences = sequences\n",
    "        self.labels = labels\n",
    "        self.vocab = vocab\n",
    "        self.max_len = max_len\n",
    "        self.pseudo_labels = pseudo_labels\n",
    "\n",
    "    def encode_sequence(self, sequence):\n",
    "        \"\"\"Encodes a sequence into integer indices with padding.\"\"\"\n",
    "        encoded = [self.vocab.get(aa, 0) for aa in sequence]  # Encodage\n",
    "        encoded += [0] * (self.max_len - len(encoded))  # Padding\n",
    "        return torch.tensor(encoded, dtype=torch.long)\n",
    "\n",
    "    def __len__(self):\n",
    "        return len(self.sequences)\n",
    "\n",
    "    def __getitem__(self, idx):\n",
    "        \"\"\"Returns an encoded sequence, its label and the pseudo label.\"\"\"\n",
    "        sequence = self.sequences[idx]\n",
    "        label = self.labels[idx]\n",
    "        pseudo_label = self.pseudo_labels[idx]\n",
    "        encoded_sequence = self.encode_sequence(sequence)\n",
    "        return encoded_sequence, torch.tensor(label, dtype=torch.float32), pseudo_label\n"
   ]
  },
  {
   "cell_type": "code",
   "execution_count": null,
   "metadata": {
    "colab": {
     "base_uri": "https://localhost:8080/"
    },
    "executionInfo": {
     "elapsed": 44,
     "status": "ok",
     "timestamp": 1741856030608,
     "user": {
      "displayName": "Jimmy Walraff",
      "userId": "17365452855707799727"
     },
     "user_tz": -60
    },
    "id": "dfQHY6v-_Kdn",
    "outputId": "fa4a1b6f-7fb5-4386-8332-e5c660d9212b"
   },
   "outputs": [
    {
     "name": "stdout",
     "output_type": "stream",
     "text": [
      "quantotypic\n",
      "0    117\n",
      "1     38\n",
      "Name: count, dtype: int64\n"
     ]
    }
   ],
   "source": [
    "# Creating a dataframe with the sequences and labels\n",
    "df = pd.DataFrame()\n",
    "df[\"sequence\"] = original_df[\"Peptide_SPARE\"]\n",
    "df[\"quantotypic\"] = original_df.apply(lambda row: 0 if row['Status_SPARE'] == 'bon' else 1, axis=1)\n",
    "df[\"pseudo_label\"] = False\n",
    "\n",
    "positive_df = df[df['quantotypic'] == 0]\n",
    "negative_df = df[df['quantotypic'] == 1]\n",
    "\n",
    "class_counts = df['quantotypic'].value_counts()\n",
    "max_len = df['sequence'].str.len().max()\n",
    "print(class_counts)"
   ]
  },
  {
   "cell_type": "code",
   "execution_count": 7,
   "metadata": {
    "colab": {
     "base_uri": "https://localhost:8080/",
     "height": 564
    },
    "executionInfo": {
     "elapsed": 648,
     "status": "ok",
     "timestamp": 1741856031258,
     "user": {
      "displayName": "Jimmy Walraff",
      "userId": "17365452855707799727"
     },
     "user_tz": -60
    },
    "id": "-T4jtKYC9ZMH",
    "outputId": "3485a119-0c92-487c-c18d-abab08e0318e"
   },
   "outputs": [
    {
     "data": {
      "image/png": "[encoded data removed]",
      "text/plain": [
       "<Figure size 800x600 with 1 Axes>"
      ]
     },
     "metadata": {},
     "output_type": "display_data"
    }
   ],
   "source": [
    "peptide_lengths = data_human_unique_peptide[\"Peptide\"].apply(len)\n",
    "\n",
    "# Création de l'histogramme avec des bins de taille 1\n",
    "plt.figure(figsize=(8, 6))\n",
    "plt.hist(peptide_lengths, bins=np.arange(peptide_lengths.min(), peptide_lengths.max() + 2, 1), edgecolor='black', alpha=0.7)\n",
    "plt.xlabel(\"Longueur des peptides\")\n",
    "plt.ylabel(\"Fréquence\")\n",
    "plt.title(\"Histogramme des longueurs de peptides\")\n",
    "plt.show()\n",
    "plt.close()"
   ]
  },
  {
   "cell_type": "code",
   "execution_count": 8,
   "metadata": {
    "colab": {
     "base_uri": "https://localhost:8080/",
     "height": 458
    },
    "executionInfo": {
     "elapsed": 62,
     "status": "ok",
     "timestamp": 1741856031326,
     "user": {
      "displayName": "Jimmy Walraff",
      "userId": "17365452855707799727"
     },
     "user_tz": -60
    },
    "id": "oXriVg7j65Pp",
    "outputId": "91db4b6f-a41d-4ec1-ad06-aed737d7f316"
   },
   "outputs": [
    {
     "data": {
      "text/plain": [
       "0                    MQLVQESEEK\n",
       "1         QPCLPIWHEMVETGGSEGVVR\n",
       "2           VPLLLSILGAILWVNRPWR\n",
       "3                      SHPPPPEK\n",
       "4               SVSLLRPPFSQLPSK\n",
       "                  ...          \n",
       "331077               ELNQYFELAK\n",
       "331078       GSFLIWLLLCWNSWYHLR\n",
       "331079          LCHGDSELTSGLLAT\n",
       "331080                 SCQIEQVK\n",
       "331081       YSVPDTGLFQHWEGSIPT\n",
       "Name: Peptide, Length: 331082, dtype: object"
      ]
     },
     "execution_count": 8,
     "metadata": {},
     "output_type": "execute_result"
    }
   ],
   "source": [
    "unique_peptide = data_human_unique_peptide[\"Peptide\"]\n",
    "filtering_self_training = unique_peptide.apply(len) <= max_len\n",
    "unique_peptide = unique_peptide[filtering_self_training].reset_index(drop=True)\n",
    "unique_peptide = unique_peptide.drop_duplicates(ignore_index = True)\n",
    "unique_peptide"
   ]
  },
  {
   "cell_type": "code",
   "execution_count": null,
   "metadata": {
    "id": "BTebE4Kb_Kdo"
   },
   "outputs": [],
   "source": [
    "class PeptideMLPClassifier(nn.Module):\n",
    "    def __init__(self, vocab_size, embed_dim, hidden_dim, output_dim, dropout_prob, max_seq_len, num_layers):\n",
    "        \"\"\"\n",
    "        Multilayer Perceptron (MLP) classifier for peptide sequences.\n",
    "\n",
    "        Args:\n",
    "            vocab_size (int): Number of unique amino acids in the vocabulary.\n",
    "            embed_dim (int): Dimension of the embedding vectors.\n",
    "            hidden_dim (int): Dimension of the first hidden layer.\n",
    "            output_dim (int): Number of output classes (e.g., 1 for binary classification).\n",
    "            dropout_prob (float): Dropout probability applied after each layer.\n",
    "            max_seq_len (int): Maximum length of input sequences (used for flattening embeddings).\n",
    "            num_layers (int): Total number of hidden layers in the MLP.\n",
    "        \"\"\"\n",
    "        super(PeptideMLPClassifier, self).__init__()\n",
    "        self.embedding = nn.Embedding(vocab_size, embed_dim)\n",
    "        self.dropout = nn.Dropout(dropout_prob)\n",
    "\n",
    "        # Input layer\n",
    "        self.layers = nn.ModuleList()\n",
    "        self.layers.append(nn.Linear(embed_dim * max_seq_len, hidden_dim))\n",
    "\n",
    "        # Hidden layers with decreasing dimensions\n",
    "        for _ in range(num_layers - 1):\n",
    "            next_hidden_dim = max(hidden_dim // 2, output_dim)  # Prevent shrinking below output_dim\n",
    "            self.layers.append(nn.Linear(hidden_dim, next_hidden_dim))\n",
    "            hidden_dim = next_hidden_dim\n",
    "\n",
    "        # Output layer\n",
    "        self.final_layer = nn.Linear(hidden_dim, output_dim)\n",
    "\n",
    "    def forward(self, x):\n",
    "        # Embed sequences\n",
    "        embedded = self.embedding(x)  # (batch_size, max_seq_len, embed_dim)\n",
    "\n",
    "        # Flatten embeddings\n",
    "        flattened = embedded.view(embedded.size(0), -1)  # (batch_size, embed_dim * max_seq_len)\n",
    "\n",
    "        # MLP forward pass\n",
    "        hidden = F.relu(self.layers[0](flattened))\n",
    "        hidden = self.dropout(hidden)\n",
    "\n",
    "        for layer in self.layers[1:]:\n",
    "            hidden = F.relu(layer(hidden))\n",
    "            hidden = self.dropout(hidden)\n",
    "\n",
    "        output = self.final_layer(hidden)  # (batch_size, output_dim)\n",
    "        return output"
   ]
  },
  {
   "cell_type": "markdown",
   "metadata": {},
   "source": [
    "# Functions"
   ]
  },
  {
   "cell_type": "code",
   "execution_count": null,
   "metadata": {
    "id": "ye5XNP6m_Kdo"
   },
   "outputs": [],
   "source": [
    "def early_stopping(val_losses, patience):\n",
    "    \"\"\"\n",
    "    Checks if the last 'patience' validation losses have increased or remained the same.\n",
    "\n",
    "    Args:\n",
    "        val_losses (list): List of validation losses.\n",
    "        patience (int): Number of consecutive epochs to check for lack of improvement.\n",
    "\n",
    "    Returns:\n",
    "        bool: True if the last 'patience' losses show no improvement, otherwise False.\n",
    "    \"\"\"\n",
    "    # Not enough values to apply the early stopping criterion\n",
    "    if len(val_losses) < patience + 1:\n",
    "        return False\n",
    "\n",
    "    # Check if each of the last 'patience' losses is greater than or equal to the previous one\n",
    "    for i in range(-patience, -1):\n",
    "        if val_losses[i] < val_losses[i + 1]:\n",
    "            continue\n",
    "        else:\n",
    "            return False\n",
    "\n",
    "    return True"
   ]
  },
  {
   "cell_type": "code",
   "execution_count": null,
   "metadata": {
    "id": "FC9sI4YR_Kdp"
   },
   "outputs": [],
   "source": [
    "def reordering(data, labels, batch_converter, device):\n",
    "    \"\"\"\n",
    "    Prepares and converts a batch of sequence data and labels for ESM-2 model input.\n",
    "\n",
    "    Args:\n",
    "        data (tuple): Tuple containing two lists (e.g., sequence names and sequences).\n",
    "        labels (torch.Tensor): Tensor of labels associated with each sequence.\n",
    "        batch_converter (callable): Function to convert (name, sequence) pairs into tokenized format.\n",
    "        device (torch.device): Device to move the tensors to (e.g., 'cuda' or 'cpu').\n",
    "\n",
    "    Returns:\n",
    "        tuple:\n",
    "            - batch_tokens (torch.Tensor): Tensor of tokenized sequences.\n",
    "            - batch_labels (torch.Tensor): Tensor of corresponding labels (shape: [batch_size]).\n",
    "    \"\"\"\n",
    "    # Reformat data into a list of (name, sequence) tuples\n",
    "    ReArrangeData = []\n",
    "    for i in range(len(data[0])):\n",
    "        ReArrangeData.append((data[0][i], data[1][i]))\n",
    "\n",
    "    # Move labels to device and ensure float format\n",
    "    labels = labels.float()\n",
    "    batch_labels = labels.to(device).unsqueeze(1)\n",
    "\n",
    "    # Convert sequences to tokens using the batch converter\n",
    "    batch_tokens = batch_converter(ReArrangeData)[2].to(device)\n",
    "\n",
    "    return batch_tokens, batch_labels.squeeze(1)\n",
    "\n",
    "def train_epoch(model, dataloader, optimizer, criterion, device,\n",
    "                model_name='Scratch', batch_converter=None,\n",
    "                use_double_loss=False, alpha=1.0):\n",
    "    \"\"\"\n",
    "    Trains the model for one epoch.\n",
    "\n",
    "    Args:\n",
    "        model (nn.Module): Model to train.\n",
    "        dataloader (DataLoader): DataLoader providing the training data.\n",
    "        optimizer (torch.optim.Optimizer): Optimizer for model updates.\n",
    "        criterion (nn.Module): Loss function.\n",
    "        device (str): Device to use ('cuda' or 'cpu').\n",
    "        model_name (str, optional): Model type ('Scratch', 'ESM', 'RT', 'CCS'). Defaults to 'Scratch'.\n",
    "        batch_converter (callable, optional): Batch converter function for 'ESM'. Defaults to None.\n",
    "        use_double_loss (bool, optional): If True, computes separate losses for real and pseudo-labeled samples. Defaults to False.\n",
    "        alpha (float, optional): Weighting factor for pseudo-label loss if use_double_loss is enabled. Defaults to 1.0.\n",
    "\n",
    "    Returns:\n",
    "        float: Mean loss for the epoch.\n",
    "    \"\"\"\n",
    "    model.train()\n",
    "    train_losses = []\n",
    "\n",
    "    for batch in dataloader:\n",
    "        if model_name == 'ESM':\n",
    "            X, y = batch\n",
    "            X, y = reordering(X, y, batch_converter, device)\n",
    "        elif model_name in ['RT', 'CCS']:\n",
    "            aa_idx, mod_x, y = batch\n",
    "            aa_idx, mod_x, y = aa_idx.to(device), mod_x.to(device), y.to(device)\n",
    "        else:\n",
    "            # For 'Scratch' model: batch contains X, y, and ps (pseudo-label indicator)\n",
    "            X, y, ps = batch\n",
    "            X, y, ps = X.to(device), y.to(device), ps.to(device)\n",
    "\n",
    "        optimizer.zero_grad()\n",
    "\n",
    "        # Forward pass\n",
    "        if model_name in ['RT', 'CCS']:\n",
    "            output = model(aa_idx, mod_x).squeeze(1)\n",
    "        else:\n",
    "            output = model(X).squeeze(1)\n",
    "\n",
    "        # Compute loss\n",
    "        if use_double_loss and model_name not in ['ESM', 'RT', 'CCS']:\n",
    "            real_mask = ~ps  # Real labels\n",
    "            pseudo_mask = ps  # Pseudo-labels\n",
    "\n",
    "            loss_real = criterion(output[real_mask], y[real_mask]) if real_mask.sum() > 0 else 0.0\n",
    "            loss_pseudo = criterion(output[pseudo_mask], y[pseudo_mask]) if pseudo_mask.sum() > 0 else 0.0\n",
    "            loss = loss_real + alpha * loss_pseudo\n",
    "        else:\n",
    "            loss = criterion(output, y)\n",
    "\n",
    "        # Backward pass and weight update\n",
    "        loss.backward()\n",
    "        optimizer.step()\n",
    "\n",
    "        train_losses.append(loss.item())\n",
    "\n",
    "    return np.array(train_losses).mean()\n",
    "\n",
    "def val_epoch(model, dataloader, criterion, device, threshold=0.5,\n",
    "              model_name='Scratch', batch_converter=None,\n",
    "              use_double_loss=False, alpha=1.0):\n",
    "    \"\"\"\n",
    "    Evaluates the model on the validation set for one epoch and computes additional metrics.\n",
    "\n",
    "    Args:\n",
    "        model (nn.Module): Model to evaluate.\n",
    "        dataloader (DataLoader): DataLoader providing validation data.\n",
    "        criterion (nn.Module): Loss function.\n",
    "        device (str): Device to use ('cuda' or 'cpu').\n",
    "        threshold (float, optional): Threshold for binary classification. Defaults to 0.5.\n",
    "        model_name (str, optional): Type of model ('Scratch', 'ESM', 'RT', 'CCS'). Defaults to 'Scratch'.\n",
    "        batch_converter (callable, optional): Batch converter function for 'ESM'. Defaults to None.\n",
    "        use_double_loss (bool, optional): If True, computes separate losses for real labels and pseudo-labels. Defaults to False.\n",
    "        alpha (float, optional): Weighting factor for pseudo-label loss if use_double_loss is enabled. Defaults to 1.0.\n",
    "\n",
    "    Returns:\n",
    "        dict: Dictionary containing:\n",
    "              - \"loss\": Mean validation loss.\n",
    "              - \"accuracy\": Accuracy score.\n",
    "              - \"roc_auc\": ROC AUC score.\n",
    "              - \"pr_auc\": Precision-Recall AUC score.\n",
    "    \"\"\"\n",
    "    model.eval()\n",
    "    val_losses = []\n",
    "    all_targets = []\n",
    "    all_predictions = []\n",
    "    all_probabilities = []\n",
    "\n",
    "    with torch.no_grad():\n",
    "        for batch in dataloader:\n",
    "            if model_name == 'ESM':\n",
    "                X, y = batch\n",
    "                X, y = reordering(X, y, batch_converter, device)\n",
    "            elif model_name in ['RT', 'CCS']:\n",
    "                aa_idx, mod_x, y = batch\n",
    "                aa_idx, mod_x, y = aa_idx.to(device), mod_x.to(device), y.to(device)\n",
    "            else:\n",
    "                # For 'Scratch' model, batch may include pseudo-labels\n",
    "                if use_double_loss:\n",
    "                    X, y, ps = batch\n",
    "                    X, y, ps = X.to(device), y.to(device), ps.to(device)\n",
    "                else:\n",
    "                    X, y, _ = batch\n",
    "                    X, y = X.to(device), y.to(device)\n",
    "\n",
    "            # Forward pass\n",
    "            if model_name in ['RT', 'CCS']:\n",
    "                output = model(aa_idx, mod_x).squeeze(1)\n",
    "            else:\n",
    "                output = model(X).squeeze(1)\n",
    "\n",
    "            probabilities = torch.sigmoid(output)\n",
    "\n",
    "            # Loss calculation\n",
    "            if use_double_loss and model_name not in ['ESM', 'RT', 'CCS']:\n",
    "                real_mask = ~ps\n",
    "                pseudo_mask = ps\n",
    "\n",
    "                loss_real = criterion(output[real_mask], y[real_mask]) if real_mask.sum() > 0 else 0.0\n",
    "                loss_pseudo = criterion(output[pseudo_mask], y[pseudo_mask]) if pseudo_mask.sum() > 0 else 0.0\n",
    "                loss = loss_real + alpha * loss_pseudo\n",
    "            else:\n",
    "                loss = criterion(output, y)\n",
    "\n",
    "            val_losses.append(loss.item())\n",
    "\n",
    "            # Convert probabilities to binary predictions\n",
    "            binary_output = (probabilities >= threshold).float()\n",
    "\n",
    "            all_targets.extend(y.cpu().numpy())\n",
    "            all_predictions.extend(binary_output.cpu().numpy())\n",
    "            all_probabilities.extend(probabilities.cpu().numpy())\n",
    "\n",
    "    mean_loss = np.array(val_losses).mean()\n",
    "    accuracy = (np.array(all_predictions) == np.array(all_targets)).mean()\n",
    "    roc_auc = roc_auc_score(all_targets, all_probabilities) if len(np.unique(all_targets)) > 1 else 0.0\n",
    "    pr_auc = average_precision_score(all_targets, all_probabilities) if len(np.unique(all_targets)) > 1 else 0.0\n",
    "\n",
    "    return {\n",
    "        \"loss\": mean_loss,\n",
    "        \"accuracy\": accuracy,\n",
    "        \"roc_auc\": roc_auc,\n",
    "        \"pr_auc\": pr_auc\n",
    "    }"
   ]
  },
  {
   "cell_type": "code",
   "execution_count": null,
   "metadata": {
    "id": "sbPbQ2T3_Kdp"
   },
   "outputs": [],
   "source": [
    "def train(model, train_loader, val_loader, n_epochs, lr, threshold=0.5, do_early_stopping=True, model_name='Scratch', batch_converter=None, weight=None, verbose=False, use_double_loss=False, alpha=1.0):\n",
    "    \"\"\"\n",
    "    Train the model and validate at each epoch.\n",
    "\n",
    "    Args:\n",
    "        model (nn.Module): The instance of the model to train.\n",
    "        train_loader (Dataloader): Dataloader providing the training data.\n",
    "        val_loader (Dataloader): Dataloader providing the validation data.\n",
    "        n_epochs (int): The number of epochs to train.\n",
    "        lr (float): Learning rate for the optimizer.\n",
    "        filename (str): Name of the file to save the final model.\n",
    "        threshold (float, optional): Threshold for binary classification. Defaults to 0.5.\n",
    "        do_early_stopping (bool, optional): Whether to apply early stopping. Defaults to True.\n",
    "        model_name (str, optional): Identifier for model type (e.g., 'Scratch', 'ESM', 'RT', 'CCS').\n",
    "        batch_converter (callable, optional): Function to convert ESM batches into token format.\n",
    "        weight (torch.Tensor, optional): Weight for positive class in BCEWithLogitsLoss.\n",
    "        verbose (bool, optional): If True, prints training progress. Defaults to False.\n",
    "        use_double_loss (bool, optional): If True, computes separate losses for real and pseudo-labeled samples. Defaults to False.\n",
    "        alpha (float, optional): Weighting factor for pseudo-label loss if use_double_loss is enabled. Defaults to 1.0.\n",
    "\n",
    "    Returns:\n",
    "        dict: Training history containing:\n",
    "            - \"train_loss\": List of training losses per epoch.\n",
    "            - \"val_loss\": List of validation losses per epoch.\n",
    "            - \"val_accuracy\": List of validation accuracies.\n",
    "            - \"val_roc_auc\": List of ROC-AUC scores.\n",
    "            - \"val_pr_auc\": List of PR-AUC scores.\n",
    "    \"\"\"\n",
    "    device = \"cuda\" if torch.cuda.is_available() else \"cpu\"\n",
    "    # print(f\"device = {device}\")\n",
    "    torch.cuda.empty_cache()\n",
    "    model.to(device)\n",
    "\n",
    "    optimizer = torch.optim.Adam(model.parameters(), lr=lr)\n",
    "\n",
    "    if weight is not None:\n",
    "        criterion = nn.BCEWithLogitsLoss(pos_weight=weight)\n",
    "    else:\n",
    "        criterion = nn.BCEWithLogitsLoss()\n",
    "\n",
    "    history = {\n",
    "        \"train_loss\": [],\n",
    "        \"val_loss\": [],\n",
    "        \"val_accuracy\": [],\n",
    "        \"val_roc_auc\": [],\n",
    "        \"val_pr_auc\": [],\n",
    "    }\n",
    "\n",
    "    for epoch in range(n_epochs):\n",
    "        if verbose:\n",
    "            print(f\"\\n--- Epoch {epoch + 1}/{n_epochs} ---\")\n",
    "\n",
    "        # Training epoch\n",
    "        train_loss = train_epoch(model, train_loader, optimizer, criterion, device, model_name=model_name, batch_converter=batch_converter,\n",
    "                                use_double_loss=use_double_loss, alpha=alpha)\n",
    "\n",
    "        # Validation epoch\n",
    "        val_metrics = val_epoch(model, val_loader, criterion, device, threshold, model_name=model_name, batch_converter=batch_converter,\n",
    "                               use_double_loss=use_double_loss, alpha=alpha)\n",
    "\n",
    "        # Save metrics to history\n",
    "        history[\"train_loss\"].append(train_loss)\n",
    "        history[\"val_loss\"].append(val_metrics[\"loss\"])\n",
    "        history[\"val_accuracy\"].append(val_metrics[\"accuracy\"])\n",
    "        history[\"val_roc_auc\"].append(val_metrics[\"roc_auc\"])\n",
    "        history[\"val_pr_auc\"].append(val_metrics[\"pr_auc\"])\n",
    "\n",
    "        # Early stopping\n",
    "        if early_stopping(history[\"val_loss\"], patience=5) and do_early_stopping:\n",
    "            print(f\"Early stopping triggered at {epoch} epoch.\")\n",
    "            break\n",
    "\n",
    "    # wandb.log({\"Early_stopping\": epoch})\n",
    "\n",
    "    return history"
   ]
  },
  {
   "cell_type": "code",
   "execution_count": null,
   "metadata": {
    "colab": {
     "base_uri": "https://localhost:8080/"
    },
    "executionInfo": {
     "elapsed": 39,
     "status": "ok",
     "timestamp": 1741856031524,
     "user": {
      "displayName": "Jimmy Walraff",
      "userId": "17365452855707799727"
     },
     "user_tz": -60
    },
    "id": "IWwZqNmP_Kdq",
    "outputId": "5392dbec-e74a-4e44-c2fe-e0964cb6c0f5"
   },
   "outputs": [
    {
     "data": {
      "text/plain": [
       "tensor(3.0789, dtype=torch.float64)"
      ]
     },
     "execution_count": 13,
     "metadata": {},
     "output_type": "execute_result"
    }
   ],
   "source": [
    "def compute_pos_weight(df, target_column):\n",
    "    \"\"\"\n",
    "    Computes the pos_weight value for BCEWithLogitsLoss based on class imbalance.\n",
    "\n",
    "    Args:\n",
    "        df (pd.DataFrame): DataFrame containing the target labels.\n",
    "        target_column (str): Name of the column with binary class labels.\n",
    "\n",
    "    Returns:\n",
    "        torch.Tensor: A tensor representing the positive class weight for use in BCEWithLogitsLoss.\n",
    "                      If no positive samples are found, defaults to a weight of 1.0.\n",
    "    \"\"\"\n",
    "    class_counts = df[target_column].value_counts()\n",
    "\n",
    "    num_pos = class_counts.get(1, 0)  # Number of positive samples\n",
    "    num_neg = class_counts.get(0, 0)  # Number of negative samples\n",
    "\n",
    "    if num_pos == 0:\n",
    "        pos_weight = torch.tensor(1.0, dtype=torch.float64)\n",
    "    else:\n",
    "        pos_weight = torch.tensor(num_neg / num_pos, dtype=torch.float64)\n",
    "\n",
    "    return pos_weight\n",
    "\n",
    "compute_pos_weight(df, 'quantotypic')"
   ]
  },
  {
   "cell_type": "code",
   "execution_count": null,
   "metadata": {
    "id": "cUSKIsvu_Kdq"
   },
   "outputs": [],
   "source": [
    "def compute_best(history, best_history, model, best_model):\n",
    "    \"\"\"\n",
    "    Compares the current model with the best model based on the 'pr_auc' or 'val_pr_auc' metric.\n",
    "\n",
    "    Args:\n",
    "        history (dict): Dictionary containing training and validation metrics of the current model.\n",
    "        best_history (dict): Dictionary containing the best model's validation metrics so far.\n",
    "        model (nn.Module): Current model.\n",
    "        best_model (nn.Module): Previously saved best model.\n",
    "\n",
    "    Returns:\n",
    "        tuple:\n",
    "            - best_model (nn.Module): Updated best model if the current model is better.\n",
    "            - best_history (dict): Updated best history if the current model is better.\n",
    "            - Better (bool): True if the current model outperformed the previous best.\n",
    "    \"\"\"\n",
    "    \n",
    "    def extract_metric_value(metric_data):\n",
    "        \"\"\"\n",
    "        Extracts the relevant metric value from a scalar or sequence.\n",
    "        Returns the last value if it is a sequence, otherwise returns the scalar value.\n",
    "        \"\"\"\n",
    "        if isinstance(metric_data, (list, tuple)):\n",
    "            return metric_data[-1]\n",
    "        if hasattr(metric_data, 'ndim'):\n",
    "            if metric_data.ndim == 0:\n",
    "                return metric_data.item()\n",
    "            return metric_data[-1]\n",
    "        return metric_data\n",
    "\n",
    "    # Select which metric to use\n",
    "    if 'pr_auc' in history:\n",
    "        metric = 'pr_auc'\n",
    "    elif 'val_pr_auc' in history:\n",
    "        metric = 'val_pr_auc'\n",
    "\n",
    "    current_metric = extract_metric_value(history[metric])\n",
    "\n",
    "    # Extract the metric from best_history if it exists\n",
    "    best_metric_value = None\n",
    "    if best_history is not None:\n",
    "        if 'pr_auc' in best_history:\n",
    "            best_metric_value = extract_metric_value(best_history['pr_auc'])\n",
    "        elif 'val_pr_auc' in best_history:\n",
    "            best_metric_value = extract_metric_value(best_history['val_pr_auc'])\n",
    "\n",
    "    Better = False\n",
    "    print(current_metric, best_metric_value)\n",
    "\n",
    "    # Update best model if current model is better\n",
    "    if best_history is None or current_metric > best_metric_value:\n",
    "        best_model = model\n",
    "        best_history = history\n",
    "        Better = True\n",
    "\n",
    "    return best_model, best_history, Better\n",
    "\n",
    "def evaluate_mlp_model(model, loader, histogram_path, plot=False):\n",
    "    \"\"\"\n",
    "    Evaluates a trained MLP model on a dataset and optionally plots a histogram of predicted probabilities.\n",
    "\n",
    "    Args:\n",
    "        model (nn.Module): Trained BiLSTM model.\n",
    "        loader (DataLoader): DataLoader providing the test data (sequence, label, pseudo-label flag).\n",
    "        histogram_path (str): Path to save the probability histogram (PNG file).\n",
    "        plot (bool, optional): If True, generates and saves a histogram of predicted probabilities. Defaults to False.\n",
    "\n",
    "    Returns:\n",
    "        dict: Dictionary containing evaluation metrics:\n",
    "              - 'accuracy': Classification accuracy.\n",
    "              - 'precision': Precision score.\n",
    "              - 'recall': Recall score.\n",
    "              - 'f1': F1 score.\n",
    "              - 'roc_auc': ROC AUC score.\n",
    "              - 'pr_auc': Precision-Recall AUC score.\n",
    "    \"\"\"\n",
    "    device = \"cuda\" if torch.cuda.is_available() else \"cpu\"\n",
    "    model.eval()\n",
    "    model.to(device)\n",
    "\n",
    "    all_preds = []\n",
    "    all_targets = []\n",
    "\n",
    "    with torch.no_grad():\n",
    "        for sequences, labels, _ in loader:\n",
    "            sequences = sequences.to(device)\n",
    "            labels = labels.to(device)\n",
    "            outputs = model(sequences)\n",
    "            preds = torch.sigmoid(outputs).cpu().numpy()\n",
    "            all_preds.extend(preds)\n",
    "            all_targets.extend(labels.cpu().numpy())\n",
    "\n",
    "    all_preds = np.array(all_preds).flatten()\n",
    "    all_targets = np.array(all_targets)\n",
    "\n",
    "    # Convertir les probabilités en classes pour l'accuracy\n",
    "    predicted_classes = (all_preds >= 0.5).astype(int)\n",
    "\n",
    "    accuracy = accuracy_score(all_targets, predicted_classes)\n",
    "    precision = precision_score(all_targets, predicted_classes)\n",
    "    recall = recall_score(all_targets, predicted_classes)\n",
    "    f1 = f1_score(all_targets, predicted_classes)\n",
    "    roc_auc = roc_auc_score(all_targets, all_preds)\n",
    "    pr_auc = average_precision_score(all_targets, all_preds)\n",
    "\n",
    "    # Génération de l'histogramme\n",
    "    if plot:\n",
    "      plt.figure(figsize=(8, 6))\n",
    "      plt.hist(all_preds, bins=np.arange(0, 1.1, 0.1), edgecolor='black', alpha=0.7)\n",
    "      plt.xlabel(\"Predicted probabilities\")\n",
    "      plt.ylabel(\"Frequency\")\n",
    "      plt.title(\"Histogram of predicted probabilities\")\n",
    "      plt.savefig(histogram_path, bbox_inches='tight')\n",
    "      plt.close()\n",
    "\n",
    "    return {\n",
    "        'accuracy': accuracy,\n",
    "        'precision': precision,\n",
    "        'recall': recall,\n",
    "        'f1': f1,\n",
    "        'roc_auc': roc_auc,\n",
    "        'pr_auc': pr_auc\n",
    "    }\n",
    "\n",
    "def write_into_json(dict, filename):\n",
    "    import json\n",
    "    with open(filename, 'w') as f:\n",
    "        json.dump(dict, f)"
   ]
  },
  {
   "cell_type": "code",
   "execution_count": null,
   "metadata": {},
   "outputs": [],
   "source": [
    "def normalized_entropy(p, batch=True):\n",
    "    \"\"\"\n",
    "    Computes the normalized entropy of binary probabilities.\n",
    "\n",
    "    Args:\n",
    "        p (array-like or torch.Tensor): Probabilities (between 0 and 1). Can be a single value, \n",
    "                                        a numpy array, or a PyTorch tensor.\n",
    "        batch (bool, optional): If True, treats p as a batch of PyTorch tensors and returns\n",
    "                                entropy for each element. If False, treats p as a numpy array\n",
    "                                or scalar. Defaults to True.\n",
    "\n",
    "    Returns:\n",
    "        np.ndarray or torch.Tensor: Normalized entropy values.\n",
    "    \"\"\"\n",
    "    eps = 1e-8\n",
    "    if batch:\n",
    "        # Convert to tensor if not already\n",
    "        if not isinstance(p, torch.Tensor):\n",
    "            p = torch.tensor(p)\n",
    "        p = torch.clamp(p, eps, 1 - eps)\n",
    "        # Ensure shape [B, 1] for batch processing\n",
    "        if p.dim() == 1:\n",
    "            p = p.unsqueeze(1)\n",
    "\n",
    "        # Create two class distributions\n",
    "        dist = torch.cat([p, 1-p], dim=1)  # forme [B, 2]\n",
    "        entropy = -(dist * torch.log(dist)).sum(dim=1)\n",
    "        norm_entropy = entropy / torch.log(torch.tensor(2.0))\n",
    "    else:\n",
    "        # numpy-based computation for single values or arrays\n",
    "        p = np.array(p, dtype=float)\n",
    "        p = np.clip(p, eps, 1 - eps)\n",
    "        entropy = -(p * np.log(p) + (1-p) * np.log(1-p))\n",
    "        norm_entropy = entropy / np.log(2)\n",
    "\n",
    "    return norm_entropy\n",
    "\n",
    "\n",
    "def find_optimal_probability_threshold(model, val_loader, device='cpu', method='roc'):\n",
    "    \"\"\"\n",
    "    Finds the optimal decision threshold for classification based on ROC or PR curve distance.\n",
    "\n",
    "    The function evaluates model predictions on the validation set and searches for the threshold\n",
    "    that minimizes the distance to the ideal point of the ROC curve (FPR=0, TPR=1) or PR curve (precision=1, recall=1).\n",
    "\n",
    "    Args:\n",
    "        model (nn.Module): Trained model to evaluate.\n",
    "        val_loader (DataLoader): DataLoader for the validation dataset.\n",
    "        device (str or torch.device, optional): Device to run computations ('cpu' or 'cuda'). Defaults to 'cpu'.\n",
    "        method (str, optional): Criterion for threshold selection ('roc' or 'pr'). Defaults to 'roc'.\n",
    "\n",
    "    Returns:\n",
    "        float: The optimal threshold value between 0.5 and 1.0.\n",
    "    \"\"\"\n",
    "    print(method)\n",
    "    model.eval()\n",
    "    \n",
    "    all_confidences = []\n",
    "    all_preds = []\n",
    "    all_labels = []\n",
    "    \n",
    "    with torch.no_grad():\n",
    "        for X_val, y_val, _ in val_loader:\n",
    "            X_val = X_val.to(device)\n",
    "            y_val = y_val.to(device)\n",
    "            \n",
    "            logits = model(X_val)\n",
    "            probabilities = torch.sigmoid(logits)\n",
    "            preds = (probabilities > 0.5).long().squeeze(1)\n",
    "            confidence = torch.where(preds == 1, probabilities, 1 - probabilities).squeeze(1)\n",
    "            \n",
    "            all_confidences.append(confidence.cpu())\n",
    "            all_preds.append(preds.cpu())\n",
    "            all_labels.append(y_val.cpu())\n",
    "    \n",
    "    all_confidences = torch.cat(all_confidences, dim=0)\n",
    "    all_preds = torch.cat(all_preds, dim=0)              \n",
    "    all_labels = torch.cat(all_labels, dim=0)            \n",
    "    \n",
    "    confidences_np = all_confidences.numpy()\n",
    "    preds_np = all_preds.numpy()\n",
    "    labels_np = all_labels.numpy()\n",
    "    \n",
    "    actually_positive = (preds_np == labels_np)\n",
    "    \n",
    "    thresholds = np.linspace(0.5, 1, 500)\n",
    "    best_thr = 0.0\n",
    "    best_dist = float('inf')\n",
    "    \n",
    "    for thr in thresholds:\n",
    "        accepted_mask = (confidences_np > thr)\n",
    "        \n",
    "        TP = np.logical_and(accepted_mask, actually_positive).sum()\n",
    "        FP = np.logical_and(accepted_mask, np.logical_not(actually_positive)).sum()\n",
    "        FN = np.logical_and(np.logical_not(accepted_mask), actually_positive).sum()\n",
    "        \n",
    "        P = actually_positive.sum()\n",
    "        N = len(actually_positive) - P\n",
    "        \n",
    "        TPR = TP / (P + 1e-8)\n",
    "        FPR = FP / (N + 1e-8)\n",
    "        \n",
    "        precision = TP / (TP + FP + 1e-8)\n",
    "        recall    = TP / (TP + FN + 1e-8)\n",
    "        \n",
    "        if method == 'pr':\n",
    "            dist = np.sqrt((1 - precision)**2 + (1 - recall)**2)\n",
    "        else:\n",
    "            dist = np.sqrt((FPR - 0)**2 + (TPR - 1)**2)\n",
    "        \n",
    "        if dist < best_dist:\n",
    "            best_dist = dist\n",
    "            best_thr = thr\n",
    "    \n",
    "    return best_thr"
   ]
  },
  {
   "cell_type": "code",
   "execution_count": null,
   "metadata": {
    "executionInfo": {
     "elapsed": 16,
     "status": "ok",
     "timestamp": 1742220683808,
     "user": {
      "displayName": "Jimmy Walraff",
      "userId": "17365452855707799727"
     },
     "user_tz": -60
    },
    "id": "7u_nGRVkNE_X"
   },
   "outputs": [],
   "source": [
    "def generate_pseudo_labels(probabilities, method, value=0.5):\n",
    "    \"\"\"\n",
    "    Generates pseudo-labels for self-training based on model probabilities.\n",
    "\n",
    "    Args:\n",
    "        probabilities (array-like): Array of predicted probabilities for the positive class.\n",
    "        method (str): Pseudo-labeling method to use (\"fixed\", \"optimal\", or \"TopK\").\n",
    "        value (float, optional): Threshold value for \"fixed\"/\"optimal\" or proportion for \"TopK\". Defaults to 0.5.\n",
    "\n",
    "    Returns:\n",
    "        tuple:\n",
    "            - class1 (np.ndarray of bool): Mask for examples labeled as class 1.\n",
    "            - class0 (np.ndarray of bool): Mask for examples labeled as class 0.\n",
    "    \"\"\"\n",
    "    probabilities = np.array(probabilities)\n",
    "\n",
    "    if method == \"fixed\" or \"optimal\" in method:\n",
    "        other_threshold = 1 - value\n",
    "        class1 = probabilities > value\n",
    "        class0 = probabilities < other_threshold\n",
    "    elif \"TopK\" in method:\n",
    "        K = int(value * len(probabilities))\n",
    "\n",
    "        indices_sorted = np.argsort(probabilities)\n",
    "\n",
    "        class1 = np.zeros_like(probabilities, dtype=bool)\n",
    "        class0 = np.zeros_like(probabilities, dtype=bool)\n",
    "\n",
    "        # Assign bottom K to class 0\n",
    "        class0[indices_sorted[:K]] = True\n",
    "\n",
    "        # Assign top K to class 1\n",
    "        class1[indices_sorted[-K:]] = True\n",
    "\n",
    "    return class1, class0\n",
    "\n",
    "def plot_probabilities(output_proba, path, zoomin=False):\n",
    "    \"\"\"\n",
    "    Plots a histogram of model output probabilities and optionally zooms in on specific ranges.\n",
    "\n",
    "    Args:\n",
    "        output_proba (array-like): Array of output probabilities (between 0 and 1).\n",
    "        path (str): File path to save the main histogram plot (PNG format).\n",
    "        zoomin (bool, optional): If True, also generate and save zoomed-in histograms.\n",
    "                                 Defaults to False.\n",
    "\n",
    "    Returns:\n",
    "        None: Plots are saved as image files and displayed.\n",
    "    \"\"\"\n",
    "    plt.figure(figsize=(8, 6))\n",
    "    plt.hist(output_proba, bins=np.arange(0, 1.1, 0.1), edgecolor='black', alpha=0.7)\n",
    "    plt.xlabel(\"Output probabilities\")\n",
    "    plt.ylabel(\"Frequency\")\n",
    "    plt.title(\"Histogram of output probabilities\")\n",
    "    plt.savefig(path)\n",
    "    plt.show()\n",
    "    plt.close()\n",
    "\n",
    "    if zoomin:\n",
    "        # Zoom on [0, 0.1]\n",
    "        plt.figure(figsize=(8, 6))\n",
    "        plt.hist(output_proba, bins=np.linspace(0, 0.1, 21), edgecolor='black', alpha=0.7)\n",
    "        plt.xlabel(\"Output probabilities (zoom [0, 0.1])\")\n",
    "        plt.ylabel(\"Frequency\")\n",
    "        plt.title(\"Zoomed histogram [0, 0.1]\")\n",
    "\n",
    "        zoom_path_1 = path.replace(\".png\", \"_zoomin01.png\")\n",
    "\n",
    "        plt.savefig(zoom_path_1)\n",
    "        plt.show()\n",
    "        plt.close()\n",
    "\n",
    "        # Zoom on [0.9, 1.0]\n",
    "        plt.figure(figsize=(8, 6))\n",
    "        plt.hist(output_proba, bins=np.linspace(0.9, 1.0, 21), edgecolor='black', alpha=0.7)\n",
    "        plt.xlabel(\"Output probabilities (zoom [0.9, 1.0])\")\n",
    "        plt.ylabel(\"Frequency\")\n",
    "        plt.title(\"Zoomed histogram [0.9, 1.0]\")\n",
    "\n",
    "        zoom_path_2 = path.replace(\".png\", \"_zoomin09.png\")\n",
    "\n",
    "        plt.savefig(zoom_path_2)\n",
    "        plt.show()\n",
    "        plt.close()\n",
    "\n",
    "def plot_pl_instances(pseudo_label_instance_list, path):\n",
    "    \"\"\"\n",
    "    Plots the number of new pseudo-labeled instances per iteration during pseudo-labeling.\n",
    "\n",
    "    Args:\n",
    "        pseudo_label_instance_list (list of tuples): List where each element is a tuple (class0_count, class1_count)\n",
    "                                                     representing the number of new pseudo-labeled samples for each class.\n",
    "        path (str): Path (without extension) to save the plot as a PNG file.\n",
    "\n",
    "    Returns:\n",
    "        None: The plot is saved to the specified path and closed.\n",
    "    \"\"\"\n",
    "    plt.figure(figsize=(8, 6))\n",
    "\n",
    "    iterations = range(len(pseudo_label_instance_list))\n",
    "    class0 = [pl[0] for pl in pseudo_label_instance_list]\n",
    "    class1 = [pl[1] for pl in pseudo_label_instance_list]\n",
    "\n",
    "    plt.bar(iterations, class0, color='blue', label='Quantotypic')\n",
    "    plt.bar(iterations, class1, bottom=class1, color='orange', label='Non-Quantotypic')\n",
    "\n",
    "    plt.xlabel(\"Iteration\")\n",
    "    plt.ylabel(\"Number of new pseudo-labeled instances\")\n",
    "    plt.title(\"Number of new pseudo-labeled instances per iteration\")\n",
    "    plt.legend()\n",
    "    plt.savefig(f\"{path}.png\")\n",
    "    plt.close()\n",
    "\n",
    "def plot_metric_evolutions(evolutions):\n",
    "    \"\"\"\n",
    "    Plots the evolution of various metrics over iterations.\n",
    "\n",
    "    Args:\n",
    "        evolutions (dict): Dictionary where keys are metric names and values are lists of metric values over iterations.\n",
    "\n",
    "    Returns:\n",
    "        None: The plot is displayed.\n",
    "    \"\"\"\n",
    "    plt.figure()\n",
    "\n",
    "    for metric, evo_list in evolutions.items():\n",
    "        plt.plot(evo_list, label=metric)\n",
    "\n",
    "    plt.xlabel(\"Iteration\")\n",
    "    plt.ylabel(\"Value\")\n",
    "    plt.legend()\n",
    "    plt.show()"
   ]
  },
  {
   "cell_type": "code",
   "execution_count": null,
   "metadata": {},
   "outputs": [],
   "source": [
    "VOCAB_SIZE = len(amino_acid_vocab) + 1\n",
    "OUTPUT_DIM = 1\n",
    "def find_MLP_param(models_path=\"/content/drive/MyDrive/TFE/Models\"):\n",
    "    \"\"\"\n",
    "    Tries different hyperparameter combinations to load a MLP model from a saved state dictionary.\n",
    "\n",
    "    Args:\n",
    "        models_path (str, optional): Path to the saved model state_dict file. \n",
    "                                     Defaults to \"/content/drive/MyDrive/TFE/Models\".\n",
    "\n",
    "    Returns:\n",
    "        tuple or None: Tuple (dropout, n_layers, hidden_size, embedding_size) if a model is successfully loaded,\n",
    "                       otherwise None if no configuration works.\n",
    "    \"\"\"\n",
    "    for dropout in [0.2, 0.3]:\n",
    "        for n_layers in [1, 2, 3]:\n",
    "            for hidden_size, embedding_size in [(64, 64), (128, 128)]:\n",
    "                try:\n",
    "                    model = PeptideMLPClassifier(VOCAB_SIZE, embedding_size, \n",
    "                                            hidden_size, OUTPUT_DIM, \n",
    "                                                 dropout, max_len, n_layers)\n",
    "                    # Attempt to load model weights\n",
    "                    model.load_state_dict(torch.load(models_path))\n",
    "                    # If successful, return configuration\n",
    "                    return dropout, n_layers, hidden_size, embedding_size\n",
    "                except Exception as e:\n",
    "                    print(\n",
    "                        f\"Erreur pour la config dropout={dropout}, \"\n",
    "                        f\"n_layers={n_layers}, hidden_size={hidden_size}, \"\n",
    "                        f\"embedding_size={embedding_size}.\"\n",
    "                    )\n",
    "    return None"
   ]
  },
  {
   "cell_type": "markdown",
   "metadata": {},
   "source": [
    "# Training"
   ]
  },
  {
   "cell_type": "code",
   "execution_count": null,
   "metadata": {
    "colab": {
     "base_uri": "https://localhost:8080/",
     "height": 1000
    },
    "executionInfo": {
     "elapsed": 1944083,
     "status": "ok",
     "timestamp": 1741857989334,
     "user": {
      "displayName": "Jimmy Walraff",
      "userId": "17365452855707799727"
     },
     "user_tz": -60
    },
    "id": "cLuoVxWE_Kdq",
    "outputId": "7cb96431-507c-49c6-b8d1-a2854c88d858",
    "scrolled": true
   },
   "outputs": [
    {
     "name": "stdout",
     "output_type": "stream",
     "text": [
      "Fold 1 on 5\n",
      "model filename: Best_MLP_ES_N_W_cvfold1\n",
      "Erreur pour la config dropout=0.2, n_layers=1, hidden_size=64, embedding_size=64.\n",
      "Erreur pour la config dropout=0.2, n_layers=1, hidden_size=128, embedding_size=128.\n",
      "Erreur pour la config dropout=0.2, n_layers=2, hidden_size=64, embedding_size=64.\n"
     ]
    },
    {
     "data": {
      "text/html": [
       "wandb version 0.19.11 is available!  To upgrade, please run:\n",
       " $ pip install wandb --upgrade"
      ],
      "text/plain": [
       "<IPython.core.display.HTML object>"
      ]
     },
     "metadata": {},
     "output_type": "display_data"
    },
    {
     "data": {
      "text/html": [
       "Tracking run with wandb version 0.16.4"
      ],
      "text/plain": [
       "<IPython.core.display.HTML object>"
      ]
     },
     "metadata": {},
     "output_type": "display_data"
    },
    {
     "data": {
      "text/html": [
       "Run data is saved locally in <code>/home/jwalraff/TFE/wandb/run-20250512_133057-m4i4u1ln</code>"
      ],
      "text/plain": [
       "<IPython.core.display.HTML object>"
      ]
     },
     "metadata": {},
     "output_type": "display_data"
    },
    {
     "data": {
      "text/html": [
       "Syncing run <strong><a href='https://wandb.ai/TFE-proteomics/MLP/runs/m4i4u1ln' target=\"_blank\">SelfTraining_MLP_Scratch_cvfold1_iter0</a></strong> to <a href='https://wandb.ai/TFE-proteomics/MLP' target=\"_blank\">Weights & Biases</a> (<a href='https://wandb.me/run' target=\"_blank\">docs</a>)<br/>"
      ],
      "text/plain": [
       "<IPython.core.display.HTML object>"
      ]
     },
     "metadata": {},
     "output_type": "display_data"
    },
    {
     "data": {
      "text/html": [
       " View project at <a href='https://wandb.ai/TFE-proteomics/MLP' target=\"_blank\">https://wandb.ai/TFE-proteomics/MLP</a>"
      ],
      "text/plain": [
       "<IPython.core.display.HTML object>"
      ]
     },
     "metadata": {},
     "output_type": "display_data"
    },
    {
     "data": {
      "text/html": [
       " View run at <a href='https://wandb.ai/TFE-proteomics/MLP/runs/m4i4u1ln' target=\"_blank\">https://wandb.ai/TFE-proteomics/MLP/runs/m4i4u1ln</a>"
      ],
      "text/plain": [
       "<IPython.core.display.HTML object>"
      ]
     },
     "metadata": {},
     "output_type": "display_data"
    },
    {
     "data": {
      "application/vnd.jupyter.widget-view+json": {
       "model_id": "296533d3fde54358867801097a6882a0",
       "version_major": 2,
       "version_minor": 0
      },
      "text/plain": [
       "VBox(children=(Label(value='0.005 MB of 0.020 MB uploaded\\r'), FloatProgress(value=0.25418756506103907, max=1.…"
      ]
     },
     "metadata": {},
     "output_type": "display_data"
    },
    {
     "data": {
      "text/html": [
       "<style>\n",
       "    table.wandb td:nth-child(1) { padding: 0 10px; text-align: left ; width: auto;} td:nth-child(2) {text-align: left ; width: 100%}\n",
       "    .wandb-row { display: flex; flex-direction: row; flex-wrap: wrap; justify-content: flex-start; width: 100% }\n",
       "    .wandb-col { display: flex; flex-direction: column; flex-basis: 100%; flex: 1; padding: 10px; }\n",
       "    </style>\n",
       "<div class=\"wandb-row\"><div class=\"wandb-col\"><h3>Run history:</h3><br/><table class=\"wandb\"><tr><td>accuracy</td><td>▁</td></tr><tr><td>f1</td><td>▁</td></tr><tr><td>pr_auc</td><td>▁</td></tr><tr><td>precision</td><td>▁</td></tr><tr><td>recall</td><td>▁</td></tr><tr><td>roc_auc</td><td>▁</td></tr></table><br/></div><div class=\"wandb-col\"><h3>Run summary:</h3><br/><table class=\"wandb\"><tr><td>accuracy</td><td>0.80645</td></tr><tr><td>f1</td><td>0.25</td></tr><tr><td>pr_auc</td><td>0.46412</td></tr><tr><td>precision</td><td>1.0</td></tr><tr><td>recall</td><td>0.14286</td></tr><tr><td>roc_auc</td><td>0.67262</td></tr></table><br/></div></div>"
      ],
      "text/plain": [
       "<IPython.core.display.HTML object>"
      ]
     },
     "metadata": {},
     "output_type": "display_data"
    },
    {
     "data": {
      "text/html": [
       " View run <strong style=\"color:#cdcd00\">SelfTraining_MLP_Scratch_cvfold1_iter0</strong> at: <a href='https://wandb.ai/TFE-proteomics/MLP/runs/m4i4u1ln' target=\"_blank\">https://wandb.ai/TFE-proteomics/MLP/runs/m4i4u1ln</a><br/>Synced 5 W&B file(s), 0 media file(s), 0 artifact file(s) and 0 other file(s)"
      ],
      "text/plain": [
       "<IPython.core.display.HTML object>"
      ]
     },
     "metadata": {},
     "output_type": "display_data"
    },
    {
     "data": {
      "text/html": [
       "Find logs at: <code>./wandb/run-20250512_133057-m4i4u1ln/logs</code>"
      ],
      "text/plain": [
       "<IPython.core.display.HTML object>"
      ]
     },
     "metadata": {},
     "output_type": "display_data"
    },
    {
     "name": "stdout",
     "output_type": "stream",
     "text": [
      "{'accuracy': 0.8, 'precision': 0.6666666666666666, 'recall': 0.3333333333333333, 'f1': 0.4444444444444444, 'roc_auc': 0.5087719298245614, 'pr_auc': 0.49400380321432946}\n",
      "331082\n",
      "330929\n",
      "cvfold1_TopK_evo_hard_loss_praucstop__01\n"
     ]
    },
    {
     "data": {
      "image/png": "[encoded data removed]",
      "text/plain": [
       "<Figure size 800x600 with 1 Axes>"
      ]
     },
     "metadata": {},
     "output_type": "display_data"
    },
    {
     "name": "stdout",
     "output_type": "stream",
     "text": [
      "class1 = 3309 ; class0 = 3309 ; len(train_df) = 99\n",
      "new non quanto 3309\n",
      "new quanto 3309\n",
      "324311 unlabeled peptides remaining\n",
      "After concat: 6717\n",
      "Retraining the model....\n",
      "\n",
      "--- Epoch 1/20 ---\n",
      "\n",
      "--- Epoch 2/20 ---\n",
      "\n",
      "--- Epoch 3/20 ---\n",
      "\n",
      "--- Epoch 4/20 ---\n",
      "\n",
      "--- Epoch 5/20 ---\n",
      "\n",
      "--- Epoch 6/20 ---\n",
      "Early stopping triggered at 5 epoch.\n"
     ]
    },
    {
     "data": {
      "text/html": [
       "wandb version 0.19.11 is available!  To upgrade, please run:\n",
       " $ pip install wandb --upgrade"
      ],
      "text/plain": [
       "<IPython.core.display.HTML object>"
      ]
     },
     "metadata": {},
     "output_type": "display_data"
    },
    {
     "data": {
      "text/html": [
       "Tracking run with wandb version 0.16.4"
      ],
      "text/plain": [
       "<IPython.core.display.HTML object>"
      ]
     },
     "metadata": {},
     "output_type": "display_data"
    },
    {
     "data": {
      "text/html": [
       "Run data is saved locally in <code>/home/jwalraff/TFE/wandb/run-20250512_133124-0j9fi99z</code>"
      ],
      "text/plain": [
       "<IPython.core.display.HTML object>"
      ]
     },
     "metadata": {},
     "output_type": "display_data"
    },
    {
     "data": {
      "text/html": [
       "Syncing run <strong><a href='https://wandb.ai/TFE-proteomics/MLP/runs/0j9fi99z' target=\"_blank\">SelfTraining_MLP_Scratch_cvfold1_iter1</a></strong> to <a href='https://wandb.ai/TFE-proteomics/MLP' target=\"_blank\">Weights & Biases</a> (<a href='https://wandb.me/run' target=\"_blank\">docs</a>)<br/>"
      ],
      "text/plain": [
       "<IPython.core.display.HTML object>"
      ]
     },
     "metadata": {},
     "output_type": "display_data"
    },
    {
     "data": {
      "text/html": [
       " View project at <a href='https://wandb.ai/TFE-proteomics/MLP' target=\"_blank\">https://wandb.ai/TFE-proteomics/MLP</a>"
      ],
      "text/plain": [
       "<IPython.core.display.HTML object>"
      ]
     },
     "metadata": {},
     "output_type": "display_data"
    },
    {
     "data": {
      "text/html": [
       " View run at <a href='https://wandb.ai/TFE-proteomics/MLP/runs/0j9fi99z' target=\"_blank\">https://wandb.ai/TFE-proteomics/MLP/runs/0j9fi99z</a>"
      ],
      "text/plain": [
       "<IPython.core.display.HTML object>"
      ]
     },
     "metadata": {},
     "output_type": "display_data"
    },
    {
     "data": {
      "application/vnd.jupyter.widget-view+json": {
       "model_id": "9c0e52fc5a074ed7a7b8ed4c749e2db8",
       "version_major": 2,
       "version_minor": 0
      },
      "text/plain": [
       "VBox(children=(Label(value='0.004 MB of 0.020 MB uploaded\\r'), FloatProgress(value=0.20604369620732052, max=1.…"
      ]
     },
     "metadata": {},
     "output_type": "display_data"
    },
    {
     "data": {
      "text/html": [
       "<style>\n",
       "    table.wandb td:nth-child(1) { padding: 0 10px; text-align: left ; width: auto;} td:nth-child(2) {text-align: left ; width: 100%}\n",
       "    .wandb-row { display: flex; flex-direction: row; flex-wrap: wrap; justify-content: flex-start; width: 100% }\n",
       "    .wandb-col { display: flex; flex-direction: column; flex-basis: 100%; flex: 1; padding: 10px; }\n",
       "    </style>\n",
       "<div class=\"wandb-row\"><div class=\"wandb-col\"><h3>Run history:</h3><br/><table class=\"wandb\"><tr><td>accuracy</td><td>▁</td></tr><tr><td>f1</td><td>▁</td></tr><tr><td>pr_auc</td><td>▁</td></tr><tr><td>precision</td><td>▁</td></tr><tr><td>recall</td><td>▁</td></tr><tr><td>roc_auc</td><td>▁</td></tr></table><br/></div><div class=\"wandb-col\"><h3>Run summary:</h3><br/><table class=\"wandb\"><tr><td>accuracy</td><td>0.67742</td></tr><tr><td>f1</td><td>0.16667</td></tr><tr><td>pr_auc</td><td>0.43617</td></tr><tr><td>precision</td><td>0.2</td></tr><tr><td>recall</td><td>0.14286</td></tr><tr><td>roc_auc</td><td>0.64881</td></tr></table><br/></div></div>"
      ],
      "text/plain": [
       "<IPython.core.display.HTML object>"
      ]
     },
     "metadata": {},
     "output_type": "display_data"
    },
    {
     "data": {
      "text/html": [
       " View run <strong style=\"color:#cdcd00\">SelfTraining_MLP_Scratch_cvfold1_iter1</strong> at: <a href='https://wandb.ai/TFE-proteomics/MLP/runs/0j9fi99z' target=\"_blank\">https://wandb.ai/TFE-proteomics/MLP/runs/0j9fi99z</a><br/>Synced 5 W&B file(s), 0 media file(s), 0 artifact file(s) and 0 other file(s)"
      ],
      "text/plain": [
       "<IPython.core.display.HTML object>"
      ]
     },
     "metadata": {},
     "output_type": "display_data"
    },
    {
     "data": {
      "text/html": [
       "Find logs at: <code>./wandb/run-20250512_133124-0j9fi99z/logs</code>"
      ],
      "text/plain": [
       "<IPython.core.display.HTML object>"
      ]
     },
     "metadata": {},
     "output_type": "display_data"
    },
    {
     "name": "stdout",
     "output_type": "stream",
     "text": [
      "0.4577485380116959 0.49400380321432946\n",
      "New trained model is not better\n",
      "Fold 2 on 5\n",
      "model filename: Best_MLP_ES_N_W_cvfold2\n",
      "Erreur pour la config dropout=0.2, n_layers=1, hidden_size=64, embedding_size=64.\n",
      "Erreur pour la config dropout=0.2, n_layers=1, hidden_size=128, embedding_size=128.\n"
     ]
    },
    {
     "data": {
      "application/vnd.jupyter.widget-view+json": {
       "model_id": "22edd1f74d0d4d1e88a55d1c6fff2b19",
       "version_major": 2,
       "version_minor": 0
      },
      "text/plain": [
       "VBox(children=(Label(value='Waiting for wandb.init()...\\r'), FloatProgress(value=0.011112263715929455, max=1.0…"
      ]
     },
     "metadata": {},
     "output_type": "display_data"
    },
    {
     "data": {
      "text/html": [
       "wandb version 0.19.11 is available!  To upgrade, please run:\n",
       " $ pip install wandb --upgrade"
      ],
      "text/plain": [
       "<IPython.core.display.HTML object>"
      ]
     },
     "metadata": {},
     "output_type": "display_data"
    },
    {
     "data": {
      "text/html": [
       "Tracking run with wandb version 0.16.4"
      ],
      "text/plain": [
       "<IPython.core.display.HTML object>"
      ]
     },
     "metadata": {},
     "output_type": "display_data"
    },
    {
     "data": {
      "text/html": [
       "Run data is saved locally in <code>/home/jwalraff/TFE/wandb/run-20250512_133136-azmvtu5s</code>"
      ],
      "text/plain": [
       "<IPython.core.display.HTML object>"
      ]
     },
     "metadata": {},
     "output_type": "display_data"
    },
    {
     "data": {
      "text/html": [
       "Syncing run <strong><a href='https://wandb.ai/TFE-proteomics/MLP/runs/azmvtu5s' target=\"_blank\">SelfTraining_MLP_Scratch_cvfold2_iter0</a></strong> to <a href='https://wandb.ai/TFE-proteomics/MLP' target=\"_blank\">Weights & Biases</a> (<a href='https://wandb.me/run' target=\"_blank\">docs</a>)<br/>"
      ],
      "text/plain": [
       "<IPython.core.display.HTML object>"
      ]
     },
     "metadata": {},
     "output_type": "display_data"
    },
    {
     "data": {
      "text/html": [
       " View project at <a href='https://wandb.ai/TFE-proteomics/MLP' target=\"_blank\">https://wandb.ai/TFE-proteomics/MLP</a>"
      ],
      "text/plain": [
       "<IPython.core.display.HTML object>"
      ]
     },
     "metadata": {},
     "output_type": "display_data"
    },
    {
     "data": {
      "text/html": [
       " View run at <a href='https://wandb.ai/TFE-proteomics/MLP/runs/azmvtu5s' target=\"_blank\">https://wandb.ai/TFE-proteomics/MLP/runs/azmvtu5s</a>"
      ],
      "text/plain": [
       "<IPython.core.display.HTML object>"
      ]
     },
     "metadata": {},
     "output_type": "display_data"
    },
    {
     "data": {
      "application/vnd.jupyter.widget-view+json": {
       "model_id": "735d0a98228e4ad0ae81b62a9a2b999a",
       "version_major": 2,
       "version_minor": 0
      },
      "text/plain": [
       "VBox(children=(Label(value='0.020 MB of 0.020 MB uploaded\\r'), FloatProgress(value=1.0, max=1.0)))"
      ]
     },
     "metadata": {},
     "output_type": "display_data"
    },
    {
     "data": {
      "text/html": [
       "<style>\n",
       "    table.wandb td:nth-child(1) { padding: 0 10px; text-align: left ; width: auto;} td:nth-child(2) {text-align: left ; width: 100%}\n",
       "    .wandb-row { display: flex; flex-direction: row; flex-wrap: wrap; justify-content: flex-start; width: 100% }\n",
       "    .wandb-col { display: flex; flex-direction: column; flex-basis: 100%; flex: 1; padding: 10px; }\n",
       "    </style>\n",
       "<div class=\"wandb-row\"><div class=\"wandb-col\"><h3>Run history:</h3><br/><table class=\"wandb\"><tr><td>accuracy</td><td>▁</td></tr><tr><td>f1</td><td>▁</td></tr><tr><td>pr_auc</td><td>▁</td></tr><tr><td>precision</td><td>▁</td></tr><tr><td>recall</td><td>▁</td></tr><tr><td>roc_auc</td><td>▁</td></tr></table><br/></div><div class=\"wandb-col\"><h3>Run summary:</h3><br/><table class=\"wandb\"><tr><td>accuracy</td><td>0.54839</td></tr><tr><td>f1</td><td>0.36364</td></tr><tr><td>pr_auc</td><td>0.31645</td></tr><tr><td>precision</td><td>0.26667</td></tr><tr><td>recall</td><td>0.57143</td></tr><tr><td>roc_auc</td><td>0.58929</td></tr></table><br/></div></div>"
      ],
      "text/plain": [
       "<IPython.core.display.HTML object>"
      ]
     },
     "metadata": {},
     "output_type": "display_data"
    },
    {
     "data": {
      "text/html": [
       " View run <strong style=\"color:#cdcd00\">SelfTraining_MLP_Scratch_cvfold2_iter0</strong> at: <a href='https://wandb.ai/TFE-proteomics/MLP/runs/azmvtu5s' target=\"_blank\">https://wandb.ai/TFE-proteomics/MLP/runs/azmvtu5s</a><br/>Synced 5 W&B file(s), 0 media file(s), 0 artifact file(s) and 0 other file(s)"
      ],
      "text/plain": [
       "<IPython.core.display.HTML object>"
      ]
     },
     "metadata": {},
     "output_type": "display_data"
    },
    {
     "data": {
      "text/html": [
       "Find logs at: <code>./wandb/run-20250512_133136-azmvtu5s/logs</code>"
      ],
      "text/plain": [
       "<IPython.core.display.HTML object>"
      ]
     },
     "metadata": {},
     "output_type": "display_data"
    },
    {
     "name": "stdout",
     "output_type": "stream",
     "text": [
      "{'accuracy': 0.44, 'precision': 0.21428571428571427, 'recall': 0.5, 'f1': 0.3, 'roc_auc': 0.5350877192982457, 'pr_auc': 0.4269438693351737}\n",
      "331082\n",
      "330929\n",
      "cvfold2_TopK_evo_hard_loss_praucstop__01\n"
     ]
    },
    {
     "data": {
      "image/png": "[encoded data removed]",
      "text/plain": [
       "<Figure size 800x600 with 1 Axes>"
      ]
     },
     "metadata": {},
     "output_type": "display_data"
    },
    {
     "name": "stdout",
     "output_type": "stream",
     "text": [
      "class1 = 3309 ; class0 = 3309 ; len(train_df) = 99\n",
      "new non quanto 3309\n",
      "new quanto 3309\n",
      "324311 unlabeled peptides remaining\n",
      "After concat: 6717\n",
      "Retraining the model....\n",
      "\n",
      "--- Epoch 1/20 ---\n",
      "\n",
      "--- Epoch 2/20 ---\n",
      "\n",
      "--- Epoch 3/20 ---\n",
      "\n",
      "--- Epoch 4/20 ---\n",
      "\n",
      "--- Epoch 5/20 ---\n",
      "\n",
      "--- Epoch 6/20 ---\n",
      "Early stopping triggered at 5 epoch.\n"
     ]
    },
    {
     "data": {
      "text/html": [
       "wandb version 0.19.11 is available!  To upgrade, please run:\n",
       " $ pip install wandb --upgrade"
      ],
      "text/plain": [
       "<IPython.core.display.HTML object>"
      ]
     },
     "metadata": {},
     "output_type": "display_data"
    },
    {
     "data": {
      "text/html": [
       "Tracking run with wandb version 0.16.4"
      ],
      "text/plain": [
       "<IPython.core.display.HTML object>"
      ]
     },
     "metadata": {},
     "output_type": "display_data"
    },
    {
     "data": {
      "text/html": [
       "Run data is saved locally in <code>/home/jwalraff/TFE/wandb/run-20250512_133157-m4pubxvq</code>"
      ],
      "text/plain": [
       "<IPython.core.display.HTML object>"
      ]
     },
     "metadata": {},
     "output_type": "display_data"
    },
    {
     "data": {
      "text/html": [
       "Syncing run <strong><a href='https://wandb.ai/TFE-proteomics/MLP/runs/m4pubxvq' target=\"_blank\">SelfTraining_MLP_Scratch_cvfold2_iter1</a></strong> to <a href='https://wandb.ai/TFE-proteomics/MLP' target=\"_blank\">Weights & Biases</a> (<a href='https://wandb.me/run' target=\"_blank\">docs</a>)<br/>"
      ],
      "text/plain": [
       "<IPython.core.display.HTML object>"
      ]
     },
     "metadata": {},
     "output_type": "display_data"
    },
    {
     "data": {
      "text/html": [
       " View project at <a href='https://wandb.ai/TFE-proteomics/MLP' target=\"_blank\">https://wandb.ai/TFE-proteomics/MLP</a>"
      ],
      "text/plain": [
       "<IPython.core.display.HTML object>"
      ]
     },
     "metadata": {},
     "output_type": "display_data"
    },
    {
     "data": {
      "text/html": [
       " View run at <a href='https://wandb.ai/TFE-proteomics/MLP/runs/m4pubxvq' target=\"_blank\">https://wandb.ai/TFE-proteomics/MLP/runs/m4pubxvq</a>"
      ],
      "text/plain": [
       "<IPython.core.display.HTML object>"
      ]
     },
     "metadata": {},
     "output_type": "display_data"
    },
    {
     "data": {
      "application/vnd.jupyter.widget-view+json": {
       "model_id": "d34fe8c67aff4ede8a7a8d995da4a7f2",
       "version_major": 2,
       "version_minor": 0
      },
      "text/plain": [
       "VBox(children=(Label(value='0.004 MB of 0.020 MB uploaded\\r'), FloatProgress(value=0.20587956826358644, max=1.…"
      ]
     },
     "metadata": {},
     "output_type": "display_data"
    },
    {
     "data": {
      "text/html": [
       "<style>\n",
       "    table.wandb td:nth-child(1) { padding: 0 10px; text-align: left ; width: auto;} td:nth-child(2) {text-align: left ; width: 100%}\n",
       "    .wandb-row { display: flex; flex-direction: row; flex-wrap: wrap; justify-content: flex-start; width: 100% }\n",
       "    .wandb-col { display: flex; flex-direction: column; flex-basis: 100%; flex: 1; padding: 10px; }\n",
       "    </style>\n",
       "<div class=\"wandb-row\"><div class=\"wandb-col\"><h3>Run history:</h3><br/><table class=\"wandb\"><tr><td>accuracy</td><td>▁</td></tr><tr><td>f1</td><td>▁</td></tr><tr><td>pr_auc</td><td>▁</td></tr><tr><td>precision</td><td>▁</td></tr><tr><td>recall</td><td>▁</td></tr><tr><td>roc_auc</td><td>▁</td></tr></table><br/></div><div class=\"wandb-col\"><h3>Run summary:</h3><br/><table class=\"wandb\"><tr><td>accuracy</td><td>0.64516</td></tr><tr><td>f1</td><td>0.35294</td></tr><tr><td>pr_auc</td><td>0.29824</td></tr><tr><td>precision</td><td>0.3</td></tr><tr><td>recall</td><td>0.42857</td></tr><tr><td>roc_auc</td><td>0.625</td></tr></table><br/></div></div>"
      ],
      "text/plain": [
       "<IPython.core.display.HTML object>"
      ]
     },
     "metadata": {},
     "output_type": "display_data"
    },
    {
     "data": {
      "text/html": [
       " View run <strong style=\"color:#cdcd00\">SelfTraining_MLP_Scratch_cvfold2_iter1</strong> at: <a href='https://wandb.ai/TFE-proteomics/MLP/runs/m4pubxvq' target=\"_blank\">https://wandb.ai/TFE-proteomics/MLP/runs/m4pubxvq</a><br/>Synced 5 W&B file(s), 0 media file(s), 0 artifact file(s) and 0 other file(s)"
      ],
      "text/plain": [
       "<IPython.core.display.HTML object>"
      ]
     },
     "metadata": {},
     "output_type": "display_data"
    },
    {
     "data": {
      "text/html": [
       "Find logs at: <code>./wandb/run-20250512_133157-m4pubxvq/logs</code>"
      ],
      "text/plain": [
       "<IPython.core.display.HTML object>"
      ]
     },
     "metadata": {},
     "output_type": "display_data"
    },
    {
     "name": "stdout",
     "output_type": "stream",
     "text": [
      "0.44061426326872555 0.4269438693351737\n",
      "New trained model is BETTER\n",
      "1 iteration done with self training.\n",
      "\n",
      "cvfold2_TopK_evo_hard_loss_praucstop__05\n"
     ]
    },
    {
     "data": {
      "image/png": "[encoded data removed]",
      "text/plain": [
       "<Figure size 800x600 with 1 Axes>"
      ]
     },
     "metadata": {},
     "output_type": "display_data"
    },
    {
     "name": "stdout",
     "output_type": "stream",
     "text": [
      "class1 = 16215 ; class0 = 16215 ; len(train_df) = 6717\n",
      "new non quanto 16215\n",
      "new quanto 16215\n",
      "291881 unlabeled peptides remaining\n",
      "After concat: 39147\n",
      "Retraining the model....\n",
      "\n",
      "--- Epoch 1/20 ---\n",
      "\n",
      "--- Epoch 2/20 ---\n",
      "\n",
      "--- Epoch 3/20 ---\n",
      "\n",
      "--- Epoch 4/20 ---\n",
      "\n",
      "--- Epoch 5/20 ---\n",
      "\n",
      "--- Epoch 6/20 ---\n",
      "\n",
      "--- Epoch 7/20 ---\n",
      "\n",
      "--- Epoch 8/20 ---\n",
      "\n",
      "--- Epoch 9/20 ---\n",
      "\n",
      "--- Epoch 10/20 ---\n",
      "\n",
      "--- Epoch 11/20 ---\n",
      "\n",
      "--- Epoch 12/20 ---\n",
      "\n",
      "--- Epoch 13/20 ---\n",
      "\n",
      "--- Epoch 14/20 ---\n",
      "\n",
      "--- Epoch 15/20 ---\n",
      "\n",
      "--- Epoch 16/20 ---\n",
      "\n",
      "--- Epoch 17/20 ---\n",
      "\n",
      "--- Epoch 18/20 ---\n",
      "\n",
      "--- Epoch 19/20 ---\n",
      "\n",
      "--- Epoch 20/20 ---\n"
     ]
    },
    {
     "data": {
      "text/html": [
       "wandb version 0.19.11 is available!  To upgrade, please run:\n",
       " $ pip install wandb --upgrade"
      ],
      "text/plain": [
       "<IPython.core.display.HTML object>"
      ]
     },
     "metadata": {},
     "output_type": "display_data"
    },
    {
     "data": {
      "text/html": [
       "Tracking run with wandb version 0.16.4"
      ],
      "text/plain": [
       "<IPython.core.display.HTML object>"
      ]
     },
     "metadata": {},
     "output_type": "display_data"
    },
    {
     "data": {
      "text/html": [
       "Run data is saved locally in <code>/home/jwalraff/TFE/wandb/run-20250512_133246-zw7q6xe9</code>"
      ],
      "text/plain": [
       "<IPython.core.display.HTML object>"
      ]
     },
     "metadata": {},
     "output_type": "display_data"
    },
    {
     "data": {
      "text/html": [
       "Syncing run <strong><a href='https://wandb.ai/TFE-proteomics/MLP/runs/zw7q6xe9' target=\"_blank\">SelfTraining_MLP_Scratch_cvfold2_iter2</a></strong> to <a href='https://wandb.ai/TFE-proteomics/MLP' target=\"_blank\">Weights & Biases</a> (<a href='https://wandb.me/run' target=\"_blank\">docs</a>)<br/>"
      ],
      "text/plain": [
       "<IPython.core.display.HTML object>"
      ]
     },
     "metadata": {},
     "output_type": "display_data"
    },
    {
     "data": {
      "text/html": [
       " View project at <a href='https://wandb.ai/TFE-proteomics/MLP' target=\"_blank\">https://wandb.ai/TFE-proteomics/MLP</a>"
      ],
      "text/plain": [
       "<IPython.core.display.HTML object>"
      ]
     },
     "metadata": {},
     "output_type": "display_data"
    },
    {
     "data": {
      "text/html": [
       " View run at <a href='https://wandb.ai/TFE-proteomics/MLP/runs/zw7q6xe9' target=\"_blank\">https://wandb.ai/TFE-proteomics/MLP/runs/zw7q6xe9</a>"
      ],
      "text/plain": [
       "<IPython.core.display.HTML object>"
      ]
     },
     "metadata": {},
     "output_type": "display_data"
    },
    {
     "data": {
      "application/vnd.jupyter.widget-view+json": {
       "model_id": "67d843093cc34cdab671443d77bca572",
       "version_major": 2,
       "version_minor": 0
      },
      "text/plain": [
       "VBox(children=(Label(value='0.020 MB of 0.020 MB uploaded\\r'), FloatProgress(value=1.0, max=1.0)))"
      ]
     },
     "metadata": {},
     "output_type": "display_data"
    },
    {
     "data": {
      "text/html": [
       "<style>\n",
       "    table.wandb td:nth-child(1) { padding: 0 10px; text-align: left ; width: auto;} td:nth-child(2) {text-align: left ; width: 100%}\n",
       "    .wandb-row { display: flex; flex-direction: row; flex-wrap: wrap; justify-content: flex-start; width: 100% }\n",
       "    .wandb-col { display: flex; flex-direction: column; flex-basis: 100%; flex: 1; padding: 10px; }\n",
       "    </style>\n",
       "<div class=\"wandb-row\"><div class=\"wandb-col\"><h3>Run history:</h3><br/><table class=\"wandb\"><tr><td>accuracy</td><td>▁</td></tr><tr><td>f1</td><td>▁</td></tr><tr><td>pr_auc</td><td>▁</td></tr><tr><td>precision</td><td>▁</td></tr><tr><td>recall</td><td>▁</td></tr><tr><td>roc_auc</td><td>▁</td></tr></table><br/></div><div class=\"wandb-col\"><h3>Run summary:</h3><br/><table class=\"wandb\"><tr><td>accuracy</td><td>0.54839</td></tr><tr><td>f1</td><td>0.22222</td></tr><tr><td>pr_auc</td><td>0.28267</td></tr><tr><td>precision</td><td>0.18182</td></tr><tr><td>recall</td><td>0.28571</td></tr><tr><td>roc_auc</td><td>0.60714</td></tr></table><br/></div></div>"
      ],
      "text/plain": [
       "<IPython.core.display.HTML object>"
      ]
     },
     "metadata": {},
     "output_type": "display_data"
    },
    {
     "data": {
      "text/html": [
       " View run <strong style=\"color:#cdcd00\">SelfTraining_MLP_Scratch_cvfold2_iter2</strong> at: <a href='https://wandb.ai/TFE-proteomics/MLP/runs/zw7q6xe9' target=\"_blank\">https://wandb.ai/TFE-proteomics/MLP/runs/zw7q6xe9</a><br/>Synced 5 W&B file(s), 0 media file(s), 0 artifact file(s) and 0 other file(s)"
      ],
      "text/plain": [
       "<IPython.core.display.HTML object>"
      ]
     },
     "metadata": {},
     "output_type": "display_data"
    },
    {
     "data": {
      "text/html": [
       "Find logs at: <code>./wandb/run-20250512_133246-zw7q6xe9/logs</code>"
      ],
      "text/plain": [
       "<IPython.core.display.HTML object>"
      ]
     },
     "metadata": {},
     "output_type": "display_data"
    },
    {
     "name": "stdout",
     "output_type": "stream",
     "text": [
      "0.28874483639929865 0.44061426326872555\n",
      "New trained model is not better\n",
      "Fold 3 on 5\n",
      "model filename: Best_MLP_ES_N_W_cvfold3\n"
     ]
    },
    {
     "data": {
      "application/vnd.jupyter.widget-view+json": {
       "model_id": "5fde1ba18e394740b3798e25d11a5f59",
       "version_major": 2,
       "version_minor": 0
      },
      "text/plain": [
       "VBox(children=(Label(value='Waiting for wandb.init()...\\r'), FloatProgress(value=0.011112525728013781, max=1.0…"
      ]
     },
     "metadata": {},
     "output_type": "display_data"
    },
    {
     "data": {
      "text/html": [
       "wandb version 0.19.11 is available!  To upgrade, please run:\n",
       " $ pip install wandb --upgrade"
      ],
      "text/plain": [
       "<IPython.core.display.HTML object>"
      ]
     },
     "metadata": {},
     "output_type": "display_data"
    },
    {
     "data": {
      "text/html": [
       "Tracking run with wandb version 0.16.4"
      ],
      "text/plain": [
       "<IPython.core.display.HTML object>"
      ]
     },
     "metadata": {},
     "output_type": "display_data"
    },
    {
     "data": {
      "text/html": [
       "Run data is saved locally in <code>/home/jwalraff/TFE/wandb/run-20250512_133257-6k0of7jd</code>"
      ],
      "text/plain": [
       "<IPython.core.display.HTML object>"
      ]
     },
     "metadata": {},
     "output_type": "display_data"
    },
    {
     "data": {
      "text/html": [
       "Syncing run <strong><a href='https://wandb.ai/TFE-proteomics/MLP/runs/6k0of7jd' target=\"_blank\">SelfTraining_MLP_Scratch_cvfold3_iter0</a></strong> to <a href='https://wandb.ai/TFE-proteomics/MLP' target=\"_blank\">Weights & Biases</a> (<a href='https://wandb.me/run' target=\"_blank\">docs</a>)<br/>"
      ],
      "text/plain": [
       "<IPython.core.display.HTML object>"
      ]
     },
     "metadata": {},
     "output_type": "display_data"
    },
    {
     "data": {
      "text/html": [
       " View project at <a href='https://wandb.ai/TFE-proteomics/MLP' target=\"_blank\">https://wandb.ai/TFE-proteomics/MLP</a>"
      ],
      "text/plain": [
       "<IPython.core.display.HTML object>"
      ]
     },
     "metadata": {},
     "output_type": "display_data"
    },
    {
     "data": {
      "text/html": [
       " View run at <a href='https://wandb.ai/TFE-proteomics/MLP/runs/6k0of7jd' target=\"_blank\">https://wandb.ai/TFE-proteomics/MLP/runs/6k0of7jd</a>"
      ],
      "text/plain": [
       "<IPython.core.display.HTML object>"
      ]
     },
     "metadata": {},
     "output_type": "display_data"
    },
    {
     "data": {
      "application/vnd.jupyter.widget-view+json": {
       "model_id": "351cc4b2520b4215b1a9f5b646b9eadc",
       "version_major": 2,
       "version_minor": 0
      },
      "text/plain": [
       "VBox(children=(Label(value='0.004 MB of 0.020 MB uploaded\\r'), FloatProgress(value=0.20866273777011163, max=1.…"
      ]
     },
     "metadata": {},
     "output_type": "display_data"
    },
    {
     "data": {
      "text/html": [
       "<style>\n",
       "    table.wandb td:nth-child(1) { padding: 0 10px; text-align: left ; width: auto;} td:nth-child(2) {text-align: left ; width: 100%}\n",
       "    .wandb-row { display: flex; flex-direction: row; flex-wrap: wrap; justify-content: flex-start; width: 100% }\n",
       "    .wandb-col { display: flex; flex-direction: column; flex-basis: 100%; flex: 1; padding: 10px; }\n",
       "    </style>\n",
       "<div class=\"wandb-row\"><div class=\"wandb-col\"><h3>Run history:</h3><br/><table class=\"wandb\"><tr><td>accuracy</td><td>▁</td></tr><tr><td>f1</td><td>▁</td></tr><tr><td>pr_auc</td><td>▁</td></tr><tr><td>precision</td><td>▁</td></tr><tr><td>recall</td><td>▁</td></tr><tr><td>roc_auc</td><td>▁</td></tr></table><br/></div><div class=\"wandb-col\"><h3>Run summary:</h3><br/><table class=\"wandb\"><tr><td>accuracy</td><td>0.6129</td></tr><tr><td>f1</td><td>0.25</td></tr><tr><td>pr_auc</td><td>0.3645</td></tr><tr><td>precision</td><td>0.25</td></tr><tr><td>recall</td><td>0.25</td></tr><tr><td>roc_auc</td><td>0.41848</td></tr></table><br/></div></div>"
      ],
      "text/plain": [
       "<IPython.core.display.HTML object>"
      ]
     },
     "metadata": {},
     "output_type": "display_data"
    },
    {
     "data": {
      "text/html": [
       " View run <strong style=\"color:#cdcd00\">SelfTraining_MLP_Scratch_cvfold3_iter0</strong> at: <a href='https://wandb.ai/TFE-proteomics/MLP/runs/6k0of7jd' target=\"_blank\">https://wandb.ai/TFE-proteomics/MLP/runs/6k0of7jd</a><br/>Synced 5 W&B file(s), 0 media file(s), 0 artifact file(s) and 0 other file(s)"
      ],
      "text/plain": [
       "<IPython.core.display.HTML object>"
      ]
     },
     "metadata": {},
     "output_type": "display_data"
    },
    {
     "data": {
      "text/html": [
       "Find logs at: <code>./wandb/run-20250512_133257-6k0of7jd/logs</code>"
      ],
      "text/plain": [
       "<IPython.core.display.HTML object>"
      ]
     },
     "metadata": {},
     "output_type": "display_data"
    },
    {
     "name": "stdout",
     "output_type": "stream",
     "text": [
      "{'accuracy': 0.8, 'precision': 1.0, 'recall': 0.16666666666666666, 'f1': 0.2857142857142857, 'roc_auc': 0.7368421052631579, 'pr_auc': 0.6872282608695651}\n",
      "331082\n",
      "330929\n",
      "cvfold3_TopK_evo_hard_loss_praucstop__01\n"
     ]
    },
    {
     "data": {
      "image/png": "[encoded data removed]",
      "text/plain": [
       "<Figure size 800x600 with 1 Axes>"
      ]
     },
     "metadata": {},
     "output_type": "display_data"
    },
    {
     "name": "stdout",
     "output_type": "stream",
     "text": [
      "class1 = 3309 ; class0 = 3309 ; len(train_df) = 99\n",
      "new non quanto 3309\n",
      "new quanto 3309\n",
      "324311 unlabeled peptides remaining\n",
      "After concat: 6717\n",
      "Retraining the model....\n",
      "\n",
      "--- Epoch 1/20 ---\n",
      "\n",
      "--- Epoch 2/20 ---\n",
      "\n",
      "--- Epoch 3/20 ---\n",
      "\n",
      "--- Epoch 4/20 ---\n",
      "\n",
      "--- Epoch 5/20 ---\n",
      "\n",
      "--- Epoch 6/20 ---\n",
      "\n",
      "--- Epoch 7/20 ---\n",
      "\n",
      "--- Epoch 8/20 ---\n",
      "\n",
      "--- Epoch 9/20 ---\n",
      "\n",
      "--- Epoch 10/20 ---\n",
      "\n",
      "--- Epoch 11/20 ---\n",
      "\n",
      "--- Epoch 12/20 ---\n",
      "\n",
      "--- Epoch 13/20 ---\n",
      "\n",
      "--- Epoch 14/20 ---\n",
      "\n",
      "--- Epoch 15/20 ---\n",
      "\n",
      "--- Epoch 16/20 ---\n",
      "\n",
      "--- Epoch 17/20 ---\n",
      "Early stopping triggered at 16 epoch.\n"
     ]
    },
    {
     "data": {
      "text/html": [
       "wandb version 0.19.11 is available!  To upgrade, please run:\n",
       " $ pip install wandb --upgrade"
      ],
      "text/plain": [
       "<IPython.core.display.HTML object>"
      ]
     },
     "metadata": {},
     "output_type": "display_data"
    },
    {
     "data": {
      "text/html": [
       "Tracking run with wandb version 0.16.4"
      ],
      "text/plain": [
       "<IPython.core.display.HTML object>"
      ]
     },
     "metadata": {},
     "output_type": "display_data"
    },
    {
     "data": {
      "text/html": [
       "Run data is saved locally in <code>/home/jwalraff/TFE/wandb/run-20250512_133321-ov5ngcyl</code>"
      ],
      "text/plain": [
       "<IPython.core.display.HTML object>"
      ]
     },
     "metadata": {},
     "output_type": "display_data"
    },
    {
     "data": {
      "text/html": [
       "Syncing run <strong><a href='https://wandb.ai/TFE-proteomics/MLP/runs/ov5ngcyl' target=\"_blank\">SelfTraining_MLP_Scratch_cvfold3_iter1</a></strong> to <a href='https://wandb.ai/TFE-proteomics/MLP' target=\"_blank\">Weights & Biases</a> (<a href='https://wandb.me/run' target=\"_blank\">docs</a>)<br/>"
      ],
      "text/plain": [
       "<IPython.core.display.HTML object>"
      ]
     },
     "metadata": {},
     "output_type": "display_data"
    },
    {
     "data": {
      "text/html": [
       " View project at <a href='https://wandb.ai/TFE-proteomics/MLP' target=\"_blank\">https://wandb.ai/TFE-proteomics/MLP</a>"
      ],
      "text/plain": [
       "<IPython.core.display.HTML object>"
      ]
     },
     "metadata": {},
     "output_type": "display_data"
    },
    {
     "data": {
      "text/html": [
       " View run at <a href='https://wandb.ai/TFE-proteomics/MLP/runs/ov5ngcyl' target=\"_blank\">https://wandb.ai/TFE-proteomics/MLP/runs/ov5ngcyl</a>"
      ],
      "text/plain": [
       "<IPython.core.display.HTML object>"
      ]
     },
     "metadata": {},
     "output_type": "display_data"
    },
    {
     "data": {
      "application/vnd.jupyter.widget-view+json": {
       "model_id": "52811dec487e4576a4c8c6e5a8bcfbd8",
       "version_major": 2,
       "version_minor": 0
      },
      "text/plain": [
       "VBox(children=(Label(value='0.004 MB of 0.020 MB uploaded\\r'), FloatProgress(value=0.20615631944772803, max=1.…"
      ]
     },
     "metadata": {},
     "output_type": "display_data"
    },
    {
     "data": {
      "text/html": [
       "<style>\n",
       "    table.wandb td:nth-child(1) { padding: 0 10px; text-align: left ; width: auto;} td:nth-child(2) {text-align: left ; width: 100%}\n",
       "    .wandb-row { display: flex; flex-direction: row; flex-wrap: wrap; justify-content: flex-start; width: 100% }\n",
       "    .wandb-col { display: flex; flex-direction: column; flex-basis: 100%; flex: 1; padding: 10px; }\n",
       "    </style>\n",
       "<div class=\"wandb-row\"><div class=\"wandb-col\"><h3>Run history:</h3><br/><table class=\"wandb\"><tr><td>accuracy</td><td>▁</td></tr><tr><td>f1</td><td>▁</td></tr><tr><td>pr_auc</td><td>▁</td></tr><tr><td>precision</td><td>▁</td></tr><tr><td>recall</td><td>▁</td></tr><tr><td>roc_auc</td><td>▁</td></tr></table><br/></div><div class=\"wandb-col\"><h3>Run summary:</h3><br/><table class=\"wandb\"><tr><td>accuracy</td><td>0.51613</td></tr><tr><td>f1</td><td>0.21053</td></tr><tr><td>pr_auc</td><td>0.33099</td></tr><tr><td>precision</td><td>0.18182</td></tr><tr><td>recall</td><td>0.25</td></tr><tr><td>roc_auc</td><td>0.38043</td></tr></table><br/></div></div>"
      ],
      "text/plain": [
       "<IPython.core.display.HTML object>"
      ]
     },
     "metadata": {},
     "output_type": "display_data"
    },
    {
     "data": {
      "text/html": [
       " View run <strong style=\"color:#cdcd00\">SelfTraining_MLP_Scratch_cvfold3_iter1</strong> at: <a href='https://wandb.ai/TFE-proteomics/MLP/runs/ov5ngcyl' target=\"_blank\">https://wandb.ai/TFE-proteomics/MLP/runs/ov5ngcyl</a><br/>Synced 5 W&B file(s), 0 media file(s), 0 artifact file(s) and 0 other file(s)"
      ],
      "text/plain": [
       "<IPython.core.display.HTML object>"
      ]
     },
     "metadata": {},
     "output_type": "display_data"
    },
    {
     "data": {
      "text/html": [
       "Find logs at: <code>./wandb/run-20250512_133321-ov5ngcyl/logs</code>"
      ],
      "text/plain": [
       "<IPython.core.display.HTML object>"
      ]
     },
     "metadata": {},
     "output_type": "display_data"
    },
    {
     "name": "stdout",
     "output_type": "stream",
     "text": [
      "0.4955701218859113 0.6872282608695651\n",
      "New trained model is not better\n",
      "Fold 4 on 5\n",
      "model filename: Best_MLP_ES_N_W_cvfold4\n",
      "Erreur pour la config dropout=0.2, n_layers=1, hidden_size=64, embedding_size=64.\n"
     ]
    },
    {
     "data": {
      "application/vnd.jupyter.widget-view+json": {
       "model_id": "db5e6c5d1b9441c5b4220bf9eb2a9cc9",
       "version_major": 2,
       "version_minor": 0
      },
      "text/plain": [
       "VBox(children=(Label(value='Waiting for wandb.init()...\\r'), FloatProgress(value=0.011112494270006816, max=1.0…"
      ]
     },
     "metadata": {},
     "output_type": "display_data"
    },
    {
     "data": {
      "text/html": [
       "wandb version 0.19.11 is available!  To upgrade, please run:\n",
       " $ pip install wandb --upgrade"
      ],
      "text/plain": [
       "<IPython.core.display.HTML object>"
      ]
     },
     "metadata": {},
     "output_type": "display_data"
    },
    {
     "data": {
      "text/html": [
       "Tracking run with wandb version 0.16.4"
      ],
      "text/plain": [
       "<IPython.core.display.HTML object>"
      ]
     },
     "metadata": {},
     "output_type": "display_data"
    },
    {
     "data": {
      "text/html": [
       "Run data is saved locally in <code>/home/jwalraff/TFE/wandb/run-20250512_133333-kpfnfaqe</code>"
      ],
      "text/plain": [
       "<IPython.core.display.HTML object>"
      ]
     },
     "metadata": {},
     "output_type": "display_data"
    },
    {
     "data": {
      "text/html": [
       "Syncing run <strong><a href='https://wandb.ai/TFE-proteomics/MLP/runs/kpfnfaqe' target=\"_blank\">SelfTraining_MLP_Scratch_cvfold4_iter0</a></strong> to <a href='https://wandb.ai/TFE-proteomics/MLP' target=\"_blank\">Weights & Biases</a> (<a href='https://wandb.me/run' target=\"_blank\">docs</a>)<br/>"
      ],
      "text/plain": [
       "<IPython.core.display.HTML object>"
      ]
     },
     "metadata": {},
     "output_type": "display_data"
    },
    {
     "data": {
      "text/html": [
       " View project at <a href='https://wandb.ai/TFE-proteomics/MLP' target=\"_blank\">https://wandb.ai/TFE-proteomics/MLP</a>"
      ],
      "text/plain": [
       "<IPython.core.display.HTML object>"
      ]
     },
     "metadata": {},
     "output_type": "display_data"
    },
    {
     "data": {
      "text/html": [
       " View run at <a href='https://wandb.ai/TFE-proteomics/MLP/runs/kpfnfaqe' target=\"_blank\">https://wandb.ai/TFE-proteomics/MLP/runs/kpfnfaqe</a>"
      ],
      "text/plain": [
       "<IPython.core.display.HTML object>"
      ]
     },
     "metadata": {},
     "output_type": "display_data"
    },
    {
     "data": {
      "application/vnd.jupyter.widget-view+json": {
       "model_id": "8b68b3d5842a4d8cb5d020a31238978c",
       "version_major": 2,
       "version_minor": 0
      },
      "text/plain": [
       "VBox(children=(Label(value='0.004 MB of 0.020 MB uploaded\\r'), FloatProgress(value=0.20611229566453448, max=1.…"
      ]
     },
     "metadata": {},
     "output_type": "display_data"
    },
    {
     "data": {
      "text/html": [
       "<style>\n",
       "    table.wandb td:nth-child(1) { padding: 0 10px; text-align: left ; width: auto;} td:nth-child(2) {text-align: left ; width: 100%}\n",
       "    .wandb-row { display: flex; flex-direction: row; flex-wrap: wrap; justify-content: flex-start; width: 100% }\n",
       "    .wandb-col { display: flex; flex-direction: column; flex-basis: 100%; flex: 1; padding: 10px; }\n",
       "    </style>\n",
       "<div class=\"wandb-row\"><div class=\"wandb-col\"><h3>Run history:</h3><br/><table class=\"wandb\"><tr><td>accuracy</td><td>▁</td></tr><tr><td>f1</td><td>▁</td></tr><tr><td>pr_auc</td><td>▁</td></tr><tr><td>precision</td><td>▁</td></tr><tr><td>recall</td><td>▁</td></tr><tr><td>roc_auc</td><td>▁</td></tr></table><br/></div><div class=\"wandb-col\"><h3>Run summary:</h3><br/><table class=\"wandb\"><tr><td>accuracy</td><td>0.74194</td></tr><tr><td>f1</td><td>0.5</td></tr><tr><td>pr_auc</td><td>0.61898</td></tr><tr><td>precision</td><td>0.5</td></tr><tr><td>recall</td><td>0.5</td></tr><tr><td>roc_auc</td><td>0.77717</td></tr></table><br/></div></div>"
      ],
      "text/plain": [
       "<IPython.core.display.HTML object>"
      ]
     },
     "metadata": {},
     "output_type": "display_data"
    },
    {
     "data": {
      "text/html": [
       " View run <strong style=\"color:#cdcd00\">SelfTraining_MLP_Scratch_cvfold4_iter0</strong> at: <a href='https://wandb.ai/TFE-proteomics/MLP/runs/kpfnfaqe' target=\"_blank\">https://wandb.ai/TFE-proteomics/MLP/runs/kpfnfaqe</a><br/>Synced 5 W&B file(s), 0 media file(s), 0 artifact file(s) and 0 other file(s)"
      ],
      "text/plain": [
       "<IPython.core.display.HTML object>"
      ]
     },
     "metadata": {},
     "output_type": "display_data"
    },
    {
     "data": {
      "text/html": [
       "Find logs at: <code>./wandb/run-20250512_133333-kpfnfaqe/logs</code>"
      ],
      "text/plain": [
       "<IPython.core.display.HTML object>"
      ]
     },
     "metadata": {},
     "output_type": "display_data"
    },
    {
     "name": "stdout",
     "output_type": "stream",
     "text": [
      "{'accuracy': 0.8, 'precision': 0.6, 'recall': 0.5, 'f1': 0.5454545454545454, 'roc_auc': 0.7192982456140351, 'pr_auc': 0.6626984126984127}\n",
      "331082\n",
      "330929\n",
      "cvfold4_TopK_evo_hard_loss_praucstop__01\n"
     ]
    },
    {
     "data": {
      "image/png": "[encoded data removed]",
      "text/plain": [
       "<Figure size 800x600 with 1 Axes>"
      ]
     },
     "metadata": {},
     "output_type": "display_data"
    },
    {
     "name": "stdout",
     "output_type": "stream",
     "text": [
      "class1 = 3309 ; class0 = 3309 ; len(train_df) = 99\n",
      "new non quanto 3309\n",
      "new quanto 3309\n",
      "324311 unlabeled peptides remaining\n",
      "After concat: 6717\n",
      "Retraining the model....\n",
      "\n",
      "--- Epoch 1/20 ---\n",
      "\n",
      "--- Epoch 2/20 ---\n",
      "\n",
      "--- Epoch 3/20 ---\n",
      "\n",
      "--- Epoch 4/20 ---\n",
      "\n",
      "--- Epoch 5/20 ---\n",
      "\n",
      "--- Epoch 6/20 ---\n",
      "Early stopping triggered at 5 epoch.\n"
     ]
    },
    {
     "data": {
      "text/html": [
       "wandb version 0.19.11 is available!  To upgrade, please run:\n",
       " $ pip install wandb --upgrade"
      ],
      "text/plain": [
       "<IPython.core.display.HTML object>"
      ]
     },
     "metadata": {},
     "output_type": "display_data"
    },
    {
     "data": {
      "text/html": [
       "Tracking run with wandb version 0.16.4"
      ],
      "text/plain": [
       "<IPython.core.display.HTML object>"
      ]
     },
     "metadata": {},
     "output_type": "display_data"
    },
    {
     "data": {
      "text/html": [
       "Run data is saved locally in <code>/home/jwalraff/TFE/wandb/run-20250512_133355-6hzxhw9b</code>"
      ],
      "text/plain": [
       "<IPython.core.display.HTML object>"
      ]
     },
     "metadata": {},
     "output_type": "display_data"
    },
    {
     "data": {
      "text/html": [
       "Syncing run <strong><a href='https://wandb.ai/TFE-proteomics/MLP/runs/6hzxhw9b' target=\"_blank\">SelfTraining_MLP_Scratch_cvfold4_iter1</a></strong> to <a href='https://wandb.ai/TFE-proteomics/MLP' target=\"_blank\">Weights & Biases</a> (<a href='https://wandb.me/run' target=\"_blank\">docs</a>)<br/>"
      ],
      "text/plain": [
       "<IPython.core.display.HTML object>"
      ]
     },
     "metadata": {},
     "output_type": "display_data"
    },
    {
     "data": {
      "text/html": [
       " View project at <a href='https://wandb.ai/TFE-proteomics/MLP' target=\"_blank\">https://wandb.ai/TFE-proteomics/MLP</a>"
      ],
      "text/plain": [
       "<IPython.core.display.HTML object>"
      ]
     },
     "metadata": {},
     "output_type": "display_data"
    },
    {
     "data": {
      "text/html": [
       " View run at <a href='https://wandb.ai/TFE-proteomics/MLP/runs/6hzxhw9b' target=\"_blank\">https://wandb.ai/TFE-proteomics/MLP/runs/6hzxhw9b</a>"
      ],
      "text/plain": [
       "<IPython.core.display.HTML object>"
      ]
     },
     "metadata": {},
     "output_type": "display_data"
    },
    {
     "data": {
      "application/vnd.jupyter.widget-view+json": {
       "model_id": "3d8832384c53418e9539923df352eb13",
       "version_major": 2,
       "version_minor": 0
      },
      "text/plain": [
       "VBox(children=(Label(value='0.004 MB of 0.020 MB uploaded\\r'), FloatProgress(value=0.2061148184959061, max=1.0…"
      ]
     },
     "metadata": {},
     "output_type": "display_data"
    },
    {
     "data": {
      "text/html": [
       "<style>\n",
       "    table.wandb td:nth-child(1) { padding: 0 10px; text-align: left ; width: auto;} td:nth-child(2) {text-align: left ; width: 100%}\n",
       "    .wandb-row { display: flex; flex-direction: row; flex-wrap: wrap; justify-content: flex-start; width: 100% }\n",
       "    .wandb-col { display: flex; flex-direction: column; flex-basis: 100%; flex: 1; padding: 10px; }\n",
       "    </style>\n",
       "<div class=\"wandb-row\"><div class=\"wandb-col\"><h3>Run history:</h3><br/><table class=\"wandb\"><tr><td>accuracy</td><td>▁</td></tr><tr><td>f1</td><td>▁</td></tr><tr><td>pr_auc</td><td>▁</td></tr><tr><td>precision</td><td>▁</td></tr><tr><td>recall</td><td>▁</td></tr><tr><td>roc_auc</td><td>▁</td></tr></table><br/></div><div class=\"wandb-col\"><h3>Run summary:</h3><br/><table class=\"wandb\"><tr><td>accuracy</td><td>0.70968</td></tr><tr><td>f1</td><td>0.4</td></tr><tr><td>pr_auc</td><td>0.65041</td></tr><tr><td>precision</td><td>0.42857</td></tr><tr><td>recall</td><td>0.375</td></tr><tr><td>roc_auc</td><td>0.75543</td></tr></table><br/></div></div>"
      ],
      "text/plain": [
       "<IPython.core.display.HTML object>"
      ]
     },
     "metadata": {},
     "output_type": "display_data"
    },
    {
     "data": {
      "text/html": [
       " View run <strong style=\"color:#cdcd00\">SelfTraining_MLP_Scratch_cvfold4_iter1</strong> at: <a href='https://wandb.ai/TFE-proteomics/MLP/runs/6hzxhw9b' target=\"_blank\">https://wandb.ai/TFE-proteomics/MLP/runs/6hzxhw9b</a><br/>Synced 5 W&B file(s), 0 media file(s), 0 artifact file(s) and 0 other file(s)"
      ],
      "text/plain": [
       "<IPython.core.display.HTML object>"
      ]
     },
     "metadata": {},
     "output_type": "display_data"
    },
    {
     "data": {
      "text/html": [
       "Find logs at: <code>./wandb/run-20250512_133355-6hzxhw9b/logs</code>"
      ],
      "text/plain": [
       "<IPython.core.display.HTML object>"
      ]
     },
     "metadata": {},
     "output_type": "display_data"
    },
    {
     "name": "stdout",
     "output_type": "stream",
     "text": [
      "0.6655844155844156 0.6626984126984127\n",
      "New trained model is BETTER\n",
      "1 iteration done with self training.\n",
      "\n",
      "cvfold4_TopK_evo_hard_loss_praucstop__05\n"
     ]
    },
    {
     "data": {
      "image/png": "[encoded data removed]",
      "text/plain": [
       "<Figure size 800x600 with 1 Axes>"
      ]
     },
     "metadata": {},
     "output_type": "display_data"
    },
    {
     "name": "stdout",
     "output_type": "stream",
     "text": [
      "class1 = 16215 ; class0 = 16215 ; len(train_df) = 6717\n",
      "new non quanto 16215\n",
      "new quanto 16215\n",
      "291881 unlabeled peptides remaining\n",
      "After concat: 39147\n",
      "Retraining the model....\n",
      "\n",
      "--- Epoch 1/20 ---\n",
      "\n",
      "--- Epoch 2/20 ---\n",
      "\n",
      "--- Epoch 3/20 ---\n",
      "\n",
      "--- Epoch 4/20 ---\n",
      "\n",
      "--- Epoch 5/20 ---\n",
      "\n",
      "--- Epoch 6/20 ---\n",
      "Early stopping triggered at 5 epoch.\n"
     ]
    },
    {
     "data": {
      "text/html": [
       "wandb version 0.19.11 is available!  To upgrade, please run:\n",
       " $ pip install wandb --upgrade"
      ],
      "text/plain": [
       "<IPython.core.display.HTML object>"
      ]
     },
     "metadata": {},
     "output_type": "display_data"
    },
    {
     "data": {
      "text/html": [
       "Tracking run with wandb version 0.16.4"
      ],
      "text/plain": [
       "<IPython.core.display.HTML object>"
      ]
     },
     "metadata": {},
     "output_type": "display_data"
    },
    {
     "data": {
      "text/html": [
       "Run data is saved locally in <code>/home/jwalraff/TFE/wandb/run-20250512_133423-i4gzrjoa</code>"
      ],
      "text/plain": [
       "<IPython.core.display.HTML object>"
      ]
     },
     "metadata": {},
     "output_type": "display_data"
    },
    {
     "data": {
      "text/html": [
       "Syncing run <strong><a href='https://wandb.ai/TFE-proteomics/MLP/runs/i4gzrjoa' target=\"_blank\">SelfTraining_MLP_Scratch_cvfold4_iter2</a></strong> to <a href='https://wandb.ai/TFE-proteomics/MLP' target=\"_blank\">Weights & Biases</a> (<a href='https://wandb.me/run' target=\"_blank\">docs</a>)<br/>"
      ],
      "text/plain": [
       "<IPython.core.display.HTML object>"
      ]
     },
     "metadata": {},
     "output_type": "display_data"
    },
    {
     "data": {
      "text/html": [
       " View project at <a href='https://wandb.ai/TFE-proteomics/MLP' target=\"_blank\">https://wandb.ai/TFE-proteomics/MLP</a>"
      ],
      "text/plain": [
       "<IPython.core.display.HTML object>"
      ]
     },
     "metadata": {},
     "output_type": "display_data"
    },
    {
     "data": {
      "text/html": [
       " View run at <a href='https://wandb.ai/TFE-proteomics/MLP/runs/i4gzrjoa' target=\"_blank\">https://wandb.ai/TFE-proteomics/MLP/runs/i4gzrjoa</a>"
      ],
      "text/plain": [
       "<IPython.core.display.HTML object>"
      ]
     },
     "metadata": {},
     "output_type": "display_data"
    },
    {
     "data": {
      "application/vnd.jupyter.widget-view+json": {
       "model_id": "aea14c495475459ca4c3004e838fe2eb",
       "version_major": 2,
       "version_minor": 0
      },
      "text/plain": [
       "VBox(children=(Label(value='0.020 MB of 0.020 MB uploaded\\r'), FloatProgress(value=1.0, max=1.0)))"
      ]
     },
     "metadata": {},
     "output_type": "display_data"
    },
    {
     "data": {
      "text/html": [
       "<style>\n",
       "    table.wandb td:nth-child(1) { padding: 0 10px; text-align: left ; width: auto;} td:nth-child(2) {text-align: left ; width: 100%}\n",
       "    .wandb-row { display: flex; flex-direction: row; flex-wrap: wrap; justify-content: flex-start; width: 100% }\n",
       "    .wandb-col { display: flex; flex-direction: column; flex-basis: 100%; flex: 1; padding: 10px; }\n",
       "    </style>\n",
       "<div class=\"wandb-row\"><div class=\"wandb-col\"><h3>Run history:</h3><br/><table class=\"wandb\"><tr><td>accuracy</td><td>▁</td></tr><tr><td>f1</td><td>▁</td></tr><tr><td>pr_auc</td><td>▁</td></tr><tr><td>precision</td><td>▁</td></tr><tr><td>recall</td><td>▁</td></tr><tr><td>roc_auc</td><td>▁</td></tr></table><br/></div><div class=\"wandb-col\"><h3>Run summary:</h3><br/><table class=\"wandb\"><tr><td>accuracy</td><td>0.67742</td></tr><tr><td>f1</td><td>0.44444</td></tr><tr><td>pr_auc</td><td>0.56823</td></tr><tr><td>precision</td><td>0.4</td></tr><tr><td>recall</td><td>0.5</td></tr><tr><td>roc_auc</td><td>0.72283</td></tr></table><br/></div></div>"
      ],
      "text/plain": [
       "<IPython.core.display.HTML object>"
      ]
     },
     "metadata": {},
     "output_type": "display_data"
    },
    {
     "data": {
      "text/html": [
       " View run <strong style=\"color:#cdcd00\">SelfTraining_MLP_Scratch_cvfold4_iter2</strong> at: <a href='https://wandb.ai/TFE-proteomics/MLP/runs/i4gzrjoa' target=\"_blank\">https://wandb.ai/TFE-proteomics/MLP/runs/i4gzrjoa</a><br/>Synced 5 W&B file(s), 0 media file(s), 0 artifact file(s) and 0 other file(s)"
      ],
      "text/plain": [
       "<IPython.core.display.HTML object>"
      ]
     },
     "metadata": {},
     "output_type": "display_data"
    },
    {
     "data": {
      "text/html": [
       "Find logs at: <code>./wandb/run-20250512_133423-i4gzrjoa/logs</code>"
      ],
      "text/plain": [
       "<IPython.core.display.HTML object>"
      ]
     },
     "metadata": {},
     "output_type": "display_data"
    },
    {
     "name": "stdout",
     "output_type": "stream",
     "text": [
      "0.6631363805276849 0.6655844155844156\n",
      "New trained model is not better\n",
      "Fold 5 on 5\n",
      "model filename: Best_MLP_ES_N_W_cvfold5\n"
     ]
    },
    {
     "data": {
      "application/vnd.jupyter.widget-view+json": {
       "model_id": "aec2319ffa424dd1a6fbdf305ef126e5",
       "version_major": 2,
       "version_minor": 0
      },
      "text/plain": [
       "VBox(children=(Label(value='Waiting for wandb.init()...\\r'), FloatProgress(value=0.011112614845236143, max=1.0…"
      ]
     },
     "metadata": {},
     "output_type": "display_data"
    },
    {
     "data": {
      "text/html": [
       "wandb version 0.19.11 is available!  To upgrade, please run:\n",
       " $ pip install wandb --upgrade"
      ],
      "text/plain": [
       "<IPython.core.display.HTML object>"
      ]
     },
     "metadata": {},
     "output_type": "display_data"
    },
    {
     "data": {
      "text/html": [
       "Tracking run with wandb version 0.16.4"
      ],
      "text/plain": [
       "<IPython.core.display.HTML object>"
      ]
     },
     "metadata": {},
     "output_type": "display_data"
    },
    {
     "data": {
      "text/html": [
       "Run data is saved locally in <code>/home/jwalraff/TFE/wandb/run-20250512_133433-ld844x80</code>"
      ],
      "text/plain": [
       "<IPython.core.display.HTML object>"
      ]
     },
     "metadata": {},
     "output_type": "display_data"
    },
    {
     "data": {
      "text/html": [
       "Syncing run <strong><a href='https://wandb.ai/TFE-proteomics/MLP/runs/ld844x80' target=\"_blank\">SelfTraining_MLP_Scratch_cvfold5_iter0</a></strong> to <a href='https://wandb.ai/TFE-proteomics/MLP' target=\"_blank\">Weights & Biases</a> (<a href='https://wandb.me/run' target=\"_blank\">docs</a>)<br/>"
      ],
      "text/plain": [
       "<IPython.core.display.HTML object>"
      ]
     },
     "metadata": {},
     "output_type": "display_data"
    },
    {
     "data": {
      "text/html": [
       " View project at <a href='https://wandb.ai/TFE-proteomics/MLP' target=\"_blank\">https://wandb.ai/TFE-proteomics/MLP</a>"
      ],
      "text/plain": [
       "<IPython.core.display.HTML object>"
      ]
     },
     "metadata": {},
     "output_type": "display_data"
    },
    {
     "data": {
      "text/html": [
       " View run at <a href='https://wandb.ai/TFE-proteomics/MLP/runs/ld844x80' target=\"_blank\">https://wandb.ai/TFE-proteomics/MLP/runs/ld844x80</a>"
      ],
      "text/plain": [
       "<IPython.core.display.HTML object>"
      ]
     },
     "metadata": {},
     "output_type": "display_data"
    },
    {
     "data": {
      "application/vnd.jupyter.widget-view+json": {
       "model_id": "b667cc42feef45619d564574c8b94afd",
       "version_major": 2,
       "version_minor": 0
      },
      "text/plain": [
       "VBox(children=(Label(value='0.004 MB of 0.016 MB uploaded\\r'), FloatProgress(value=0.2621844689439123, max=1.0…"
      ]
     },
     "metadata": {},
     "output_type": "display_data"
    },
    {
     "data": {
      "text/html": [
       "<style>\n",
       "    table.wandb td:nth-child(1) { padding: 0 10px; text-align: left ; width: auto;} td:nth-child(2) {text-align: left ; width: 100%}\n",
       "    .wandb-row { display: flex; flex-direction: row; flex-wrap: wrap; justify-content: flex-start; width: 100% }\n",
       "    .wandb-col { display: flex; flex-direction: column; flex-basis: 100%; flex: 1; padding: 10px; }\n",
       "    </style>\n",
       "<div class=\"wandb-row\"><div class=\"wandb-col\"><h3>Run history:</h3><br/><table class=\"wandb\"><tr><td>accuracy</td><td>▁</td></tr><tr><td>f1</td><td>▁</td></tr><tr><td>pr_auc</td><td>▁</td></tr><tr><td>precision</td><td>▁</td></tr><tr><td>recall</td><td>▁</td></tr><tr><td>roc_auc</td><td>▁</td></tr></table><br/></div><div class=\"wandb-col\"><h3>Run summary:</h3><br/><table class=\"wandb\"><tr><td>accuracy</td><td>0.64516</td></tr><tr><td>f1</td><td>0.15385</td></tr><tr><td>pr_auc</td><td>0.40876</td></tr><tr><td>precision</td><td>0.2</td></tr><tr><td>recall</td><td>0.125</td></tr><tr><td>roc_auc</td><td>0.61413</td></tr></table><br/></div></div>"
      ],
      "text/plain": [
       "<IPython.core.display.HTML object>"
      ]
     },
     "metadata": {},
     "output_type": "display_data"
    },
    {
     "data": {
      "text/html": [
       " View run <strong style=\"color:#cdcd00\">SelfTraining_MLP_Scratch_cvfold5_iter0</strong> at: <a href='https://wandb.ai/TFE-proteomics/MLP/runs/ld844x80' target=\"_blank\">https://wandb.ai/TFE-proteomics/MLP/runs/ld844x80</a><br/>Synced 5 W&B file(s), 0 media file(s), 0 artifact file(s) and 0 other file(s)"
      ],
      "text/plain": [
       "<IPython.core.display.HTML object>"
      ]
     },
     "metadata": {},
     "output_type": "display_data"
    },
    {
     "data": {
      "text/html": [
       "Find logs at: <code>./wandb/run-20250512_133433-ld844x80/logs</code>"
      ],
      "text/plain": [
       "<IPython.core.display.HTML object>"
      ]
     },
     "metadata": {},
     "output_type": "display_data"
    },
    {
     "name": "stderr",
     "output_type": "stream",
     "text": [
      "/home/jwalraff/anaconda3/envs/deep/lib/python3.11/site-packages/sklearn/metrics/_classification.py:1565: UndefinedMetricWarning: Precision is ill-defined and being set to 0.0 due to no predicted samples. Use `zero_division` parameter to control this behavior.\n",
      "  _warn_prf(average, modifier, f\"{metric.capitalize()} is\", len(result))\n"
     ]
    },
    {
     "name": "stdout",
     "output_type": "stream",
     "text": [
      "{'accuracy': 0.76, 'precision': 0.0, 'recall': 0.0, 'f1': 0.0, 'roc_auc': 0.7894736842105263, 'pr_auc': 0.692550505050505}\n",
      "331082\n",
      "330929\n",
      "cvfold5_TopK_evo_hard_loss_praucstop__01\n"
     ]
    },
    {
     "data": {
      "image/png": "[encoded data removed]",
      "text/plain": [
       "<Figure size 800x600 with 1 Axes>"
      ]
     },
     "metadata": {},
     "output_type": "display_data"
    },
    {
     "name": "stdout",
     "output_type": "stream",
     "text": [
      "class1 = 3309 ; class0 = 3309 ; len(train_df) = 99\n",
      "new non quanto 3309\n",
      "new quanto 3309\n",
      "324311 unlabeled peptides remaining\n",
      "After concat: 6717\n",
      "Retraining the model....\n",
      "\n",
      "--- Epoch 1/20 ---\n",
      "\n",
      "--- Epoch 2/20 ---\n",
      "\n",
      "--- Epoch 3/20 ---\n",
      "\n",
      "--- Epoch 4/20 ---\n",
      "\n",
      "--- Epoch 5/20 ---\n",
      "\n",
      "--- Epoch 6/20 ---\n",
      "\n",
      "--- Epoch 7/20 ---\n",
      "\n",
      "--- Epoch 8/20 ---\n",
      "\n",
      "--- Epoch 9/20 ---\n",
      "\n",
      "--- Epoch 10/20 ---\n",
      "\n",
      "--- Epoch 11/20 ---\n",
      "\n",
      "--- Epoch 12/20 ---\n",
      "\n",
      "--- Epoch 13/20 ---\n",
      "\n",
      "--- Epoch 14/20 ---\n",
      "\n",
      "--- Epoch 15/20 ---\n",
      "\n",
      "--- Epoch 16/20 ---\n",
      "\n",
      "--- Epoch 17/20 ---\n",
      "\n",
      "--- Epoch 18/20 ---\n",
      "\n",
      "--- Epoch 19/20 ---\n",
      "\n",
      "--- Epoch 20/20 ---\n"
     ]
    },
    {
     "data": {
      "text/html": [
       "wandb version 0.19.11 is available!  To upgrade, please run:\n",
       " $ pip install wandb --upgrade"
      ],
      "text/plain": [
       "<IPython.core.display.HTML object>"
      ]
     },
     "metadata": {},
     "output_type": "display_data"
    },
    {
     "data": {
      "text/html": [
       "Tracking run with wandb version 0.16.4"
      ],
      "text/plain": [
       "<IPython.core.display.HTML object>"
      ]
     },
     "metadata": {},
     "output_type": "display_data"
    },
    {
     "data": {
      "text/html": [
       "Run data is saved locally in <code>/home/jwalraff/TFE/wandb/run-20250512_133459-0p9ruo8f</code>"
      ],
      "text/plain": [
       "<IPython.core.display.HTML object>"
      ]
     },
     "metadata": {},
     "output_type": "display_data"
    },
    {
     "data": {
      "text/html": [
       "Syncing run <strong><a href='https://wandb.ai/TFE-proteomics/MLP/runs/0p9ruo8f' target=\"_blank\">SelfTraining_MLP_Scratch_cvfold5_iter1</a></strong> to <a href='https://wandb.ai/TFE-proteomics/MLP' target=\"_blank\">Weights & Biases</a> (<a href='https://wandb.me/run' target=\"_blank\">docs</a>)<br/>"
      ],
      "text/plain": [
       "<IPython.core.display.HTML object>"
      ]
     },
     "metadata": {},
     "output_type": "display_data"
    },
    {
     "data": {
      "text/html": [
       " View project at <a href='https://wandb.ai/TFE-proteomics/MLP' target=\"_blank\">https://wandb.ai/TFE-proteomics/MLP</a>"
      ],
      "text/plain": [
       "<IPython.core.display.HTML object>"
      ]
     },
     "metadata": {},
     "output_type": "display_data"
    },
    {
     "data": {
      "text/html": [
       " View run at <a href='https://wandb.ai/TFE-proteomics/MLP/runs/0p9ruo8f' target=\"_blank\">https://wandb.ai/TFE-proteomics/MLP/runs/0p9ruo8f</a>"
      ],
      "text/plain": [
       "<IPython.core.display.HTML object>"
      ]
     },
     "metadata": {},
     "output_type": "display_data"
    },
    {
     "data": {
      "application/vnd.jupyter.widget-view+json": {
       "model_id": "4bbcc924701349cb89a4b7189a497bf9",
       "version_major": 2,
       "version_minor": 0
      },
      "text/plain": [
       "VBox(children=(Label(value='0.004 MB of 0.020 MB uploaded\\r'), FloatProgress(value=0.20577651515151515, max=1.…"
      ]
     },
     "metadata": {},
     "output_type": "display_data"
    },
    {
     "data": {
      "text/html": [
       "<style>\n",
       "    table.wandb td:nth-child(1) { padding: 0 10px; text-align: left ; width: auto;} td:nth-child(2) {text-align: left ; width: 100%}\n",
       "    .wandb-row { display: flex; flex-direction: row; flex-wrap: wrap; justify-content: flex-start; width: 100% }\n",
       "    .wandb-col { display: flex; flex-direction: column; flex-basis: 100%; flex: 1; padding: 10px; }\n",
       "    </style>\n",
       "<div class=\"wandb-row\"><div class=\"wandb-col\"><h3>Run history:</h3><br/><table class=\"wandb\"><tr><td>accuracy</td><td>▁</td></tr><tr><td>f1</td><td>▁</td></tr><tr><td>pr_auc</td><td>▁</td></tr><tr><td>precision</td><td>▁</td></tr><tr><td>recall</td><td>▁</td></tr><tr><td>roc_auc</td><td>▁</td></tr></table><br/></div><div class=\"wandb-col\"><h3>Run summary:</h3><br/><table class=\"wandb\"><tr><td>accuracy</td><td>0.6129</td></tr><tr><td>f1</td><td>0.33333</td></tr><tr><td>pr_auc</td><td>0.4205</td></tr><tr><td>precision</td><td>0.3</td></tr><tr><td>recall</td><td>0.375</td></tr><tr><td>roc_auc</td><td>0.63587</td></tr></table><br/></div></div>"
      ],
      "text/plain": [
       "<IPython.core.display.HTML object>"
      ]
     },
     "metadata": {},
     "output_type": "display_data"
    },
    {
     "data": {
      "text/html": [
       " View run <strong style=\"color:#cdcd00\">SelfTraining_MLP_Scratch_cvfold5_iter1</strong> at: <a href='https://wandb.ai/TFE-proteomics/MLP/runs/0p9ruo8f' target=\"_blank\">https://wandb.ai/TFE-proteomics/MLP/runs/0p9ruo8f</a><br/>Synced 5 W&B file(s), 0 media file(s), 0 artifact file(s) and 0 other file(s)"
      ],
      "text/plain": [
       "<IPython.core.display.HTML object>"
      ]
     },
     "metadata": {},
     "output_type": "display_data"
    },
    {
     "data": {
      "text/html": [
       "Find logs at: <code>./wandb/run-20250512_133459-0p9ruo8f/logs</code>"
      ],
      "text/plain": [
       "<IPython.core.display.HTML object>"
      ]
     },
     "metadata": {},
     "output_type": "display_data"
    },
    {
     "name": "stdout",
     "output_type": "stream",
     "text": [
      "0.6154914529914529 0.692550505050505\n",
      "New trained model is not better\n"
     ]
    },
    {
     "data": {
      "application/vnd.jupyter.widget-view+json": {
       "model_id": "785834f00da04b60a22969c883793416",
       "version_major": 2,
       "version_minor": 0
      },
      "text/plain": [
       "VBox(children=(Label(value='Waiting for wandb.init()...\\r'), FloatProgress(value=0.01111253516541587, max=1.0)…"
      ]
     },
     "metadata": {},
     "output_type": "display_data"
    },
    {
     "data": {
      "text/html": [
       "wandb version 0.19.11 is available!  To upgrade, please run:\n",
       " $ pip install wandb --upgrade"
      ],
      "text/plain": [
       "<IPython.core.display.HTML object>"
      ]
     },
     "metadata": {},
     "output_type": "display_data"
    },
    {
     "data": {
      "text/html": [
       "Tracking run with wandb version 0.16.4"
      ],
      "text/plain": [
       "<IPython.core.display.HTML object>"
      ]
     },
     "metadata": {},
     "output_type": "display_data"
    },
    {
     "data": {
      "text/html": [
       "Run data is saved locally in <code>/home/jwalraff/TFE/wandb/run-20250512_133510-90yhl4wq</code>"
      ],
      "text/plain": [
       "<IPython.core.display.HTML object>"
      ]
     },
     "metadata": {},
     "output_type": "display_data"
    },
    {
     "data": {
      "text/html": [
       "Syncing run <strong><a href='https://wandb.ai/TFE-proteomics/MLP/runs/90yhl4wq' target=\"_blank\">SelfTraining_MLP_Scratch_Summary</a></strong> to <a href='https://wandb.ai/TFE-proteomics/MLP' target=\"_blank\">Weights & Biases</a> (<a href='https://wandb.me/run' target=\"_blank\">docs</a>)<br/>"
      ],
      "text/plain": [
       "<IPython.core.display.HTML object>"
      ]
     },
     "metadata": {},
     "output_type": "display_data"
    },
    {
     "data": {
      "text/html": [
       " View project at <a href='https://wandb.ai/TFE-proteomics/MLP' target=\"_blank\">https://wandb.ai/TFE-proteomics/MLP</a>"
      ],
      "text/plain": [
       "<IPython.core.display.HTML object>"
      ]
     },
     "metadata": {},
     "output_type": "display_data"
    },
    {
     "data": {
      "text/html": [
       " View run at <a href='https://wandb.ai/TFE-proteomics/MLP/runs/90yhl4wq' target=\"_blank\">https://wandb.ai/TFE-proteomics/MLP/runs/90yhl4wq</a>"
      ],
      "text/plain": [
       "<IPython.core.display.HTML object>"
      ]
     },
     "metadata": {},
     "output_type": "display_data"
    },
    {
     "data": {
      "application/vnd.jupyter.widget-view+json": {
       "model_id": "bb672805998a4bff8f9724ed170b810e",
       "version_major": 2,
       "version_minor": 0
      },
      "text/plain": [
       "VBox(children=(Label(value='0.004 MB of 0.020 MB uploaded\\r'), FloatProgress(value=0.2033375403169261, max=1.0…"
      ]
     },
     "metadata": {},
     "output_type": "display_data"
    },
    {
     "data": {
      "text/html": [
       "<style>\n",
       "    table.wandb td:nth-child(1) { padding: 0 10px; text-align: left ; width: auto;} td:nth-child(2) {text-align: left ; width: 100%}\n",
       "    .wandb-row { display: flex; flex-direction: row; flex-wrap: wrap; justify-content: flex-start; width: 100% }\n",
       "    .wandb-col { display: flex; flex-direction: column; flex-basis: 100%; flex: 1; padding: 10px; }\n",
       "    </style>\n",
       "<div class=\"wandb-row\"><div class=\"wandb-col\"><h3>Run history:</h3><br/><table class=\"wandb\"><tr><td>accuracy_mean</td><td>▁</td></tr><tr><td>accuracy_std</td><td>▁</td></tr><tr><td>f1_mean</td><td>▁</td></tr><tr><td>f1_std</td><td>▁</td></tr><tr><td>pr_auc_mean</td><td>▁</td></tr><tr><td>pr_auc_std</td><td>▁</td></tr><tr><td>precision_mean</td><td>▁</td></tr><tr><td>precision_std</td><td>▁</td></tr><tr><td>recall_mean</td><td>▁</td></tr><tr><td>recall_std</td><td>▁</td></tr><tr><td>roc_auc_mean</td><td>▁</td></tr><tr><td>roc_auc_std</td><td>▁</td></tr></table><br/></div><div class=\"wandb-col\"><h3>Run summary:</h3><br/><table class=\"wandb\"><tr><td>accuracy_mean</td><td>0.60645</td></tr><tr><td>accuracy_std</td><td>0.06579</td></tr><tr><td>f1_mean</td><td>0.27544</td></tr><tr><td>f1_std</td><td>0.10079</td></tr><tr><td>pr_auc_mean</td><td>0.40771</td></tr><tr><td>pr_auc_std</td><td>0.09825</td></tr><tr><td>precision_mean</td><td>0.25273</td></tr><tr><td>precision_std</td><td>0.08574</td></tr><tr><td>recall_mean</td><td>0.31071</td></tr><tr><td>recall_std</td><td>0.12037</td></tr><tr><td>roc_auc_mean</td><td>0.59902</td></tr><tr><td>roc_auc_std</td><td>0.11577</td></tr></table><br/></div></div>"
      ],
      "text/plain": [
       "<IPython.core.display.HTML object>"
      ]
     },
     "metadata": {},
     "output_type": "display_data"
    },
    {
     "data": {
      "text/html": [
       " View run <strong style=\"color:#cdcd00\">SelfTraining_MLP_Scratch_Summary</strong> at: <a href='https://wandb.ai/TFE-proteomics/MLP/runs/90yhl4wq' target=\"_blank\">https://wandb.ai/TFE-proteomics/MLP/runs/90yhl4wq</a><br/>Synced 5 W&B file(s), 0 media file(s), 0 artifact file(s) and 0 other file(s)"
      ],
      "text/plain": [
       "<IPython.core.display.HTML object>"
      ]
     },
     "metadata": {},
     "output_type": "display_data"
    },
    {
     "data": {
      "text/html": [
       "Find logs at: <code>./wandb/run-20250512_133510-90yhl4wq/logs</code>"
      ],
      "text/plain": [
       "<IPython.core.display.HTML object>"
      ]
     },
     "metadata": {},
     "output_type": "display_data"
    }
   ],
   "source": [
    "LEARNING_RATE = 3e-4\n",
    "VOCAB_SIZE = len(amino_acid_vocab) + 1  # +1 for padding\n",
    "EMBED_DIM = 128\n",
    "HIDDEN_DIM = 128\n",
    "OUTPUT_DIM = 1\n",
    "BATCH_SIZE = 32\n",
    "LSTM_LAYERS = 2\n",
    "LSTM_HIDDEN_DIM = 32\n",
    "N_EPOCHS = 100\n",
    "N_SPLITS = 5\n",
    "DROPOUT = 0.3\n",
    "\n",
    "# DEfine paths and useful variables\n",
    "count = 1\n",
    "do_early_stopping = True\n",
    "weighting = True\n",
    "oversampling = False\n",
    "FT = None\n",
    "device = \"cuda\" if torch.cuda.is_available() else \"cpu\"\n",
    "models_path = \"/home/jwalraff/TFE/Models\"\n",
    "results_path = \"/home/jwalraff/TFE/Results\"\n",
    "images_path = \"/home/jwalraff/TFE/Images\"\n",
    "\n",
    "imbalanced_name_dict = {\n",
    "    \"Imbalance\": {\n",
    "        (False, False): \"N\",\n",
    "        (True, False): \"W\",\n",
    "        (False, True): \"O\"\n",
    "    },\n",
    "    \"Early Stopping\": {\n",
    "        True: \"ES\",\n",
    "        False: \"NES\"\n",
    "    },\n",
    "    \"Transfer Learning\": {\n",
    "        True: \"FT\",\n",
    "        False: \"FE\",\n",
    "        None: \"N\"\n",
    "    }\n",
    "}\n",
    "\n",
    "kf = StratifiedKFold(n_splits=N_SPLITS, shuffle=True, random_state=42)\n",
    "\n",
    "# Configuration of the self-training\n",
    "temp_results_list = []\n",
    "threshold = 0.7 # 0.5 ; 0.7 ; 0.9 ; 0.95 ; 0.99\n",
    "pl_method = \"TopK evo\" # fixed ; TopK fixed ; TopK evo ; optimal roc ; optimal pr\n",
    "percentage_evo = [0.01, 0.05, 0.1, 0.2, 0.3, 0.4, 0.5, 0.6]\n",
    "fixed_percentage = 0.05 # 0.05 ; 0.01 ; 0.001\n",
    "max_number_of_iterations = 5\n",
    "best_thr = 0.0\n",
    "hard_or_soft = \"hard_loss\" # hard_loss ; soft_loss\n",
    "use_double_loss = False\n",
    "alpha = 0.5\n",
    "pr_auc_stopping_criterion = True\n",
    "\n",
    "# Loop over the folds\n",
    "for fold, (train_idx, test_idx) in enumerate(kf.split(df, df['quantotypic'])):\n",
    "    # if fold < 2:\n",
    "    #   print(f\"Skipping fold {fold}\")\n",
    "    #   continue\n",
    "\n",
    "    print(f\"Fold {fold+1} on 5\")\n",
    "    evolution_list = {\n",
    "        'accuracy': [],\n",
    "        'precision': [],\n",
    "        'recall': [],\n",
    "        'f1': [],\n",
    "        'roc_auc': [],\n",
    "        'pr_auc': []\n",
    "    }\n",
    "    pseudo_label_instance_list = []\n",
    "\n",
    "    # Recreate the model name and extract the hyperparameters\n",
    "    model_fname = f\"Best_MLP_{imbalanced_name_dict['Early Stopping'][do_early_stopping]}_{imbalanced_name_dict['Transfer Learning'][FT]}_{imbalanced_name_dict['Imbalance'][(weighting, oversampling)]}_cvfold{fold+1}\"\n",
    "    print(f\"model filename: {model_fname}\")\n",
    "    dropout, n_layers, hidden_size, embedding_size = find_MLP_param(f\"{models_path}/{model_fname}.pth\")\n",
    "\n",
    "    # Load the model with the found parameters\n",
    "    model = PeptideMLPClassifier(VOCAB_SIZE, embedding_size, hidden_size, OUTPUT_DIM, dropout, max_len, n_layers)\n",
    "    model.load_state_dict(torch.load(f\"{models_path}/{model_fname}.pth\"))\n",
    "\n",
    "    # Split the data and create dataloaders\n",
    "    tmp_train_df = df.iloc[train_idx]\n",
    "    test_df = df.iloc[test_idx]\n",
    "\n",
    "    train_df, val_df = train_test_split(tmp_train_df, test_size=0.2, stratify=tmp_train_df['quantotypic'], random_state=42)\n",
    "\n",
    "    if oversampling:\n",
    "        train_df = utils.balance_classes_with_oversampling(train_df)\n",
    "\n",
    "    train_dataset = PeptideDataset(train_df['sequence'].values, train_df['quantotypic'].values, train_df[\"pseudo_label\"].values, amino_acid_vocab, max_len)\n",
    "    val_dataset = PeptideDataset(val_df['sequence'].values, val_df['quantotypic'].values, train_df[\"pseudo_label\"].values, amino_acid_vocab, max_len)\n",
    "\n",
    "    train_loader = DataLoader(train_dataset, batch_size=BATCH_SIZE, shuffle=True)\n",
    "    validation_loader = DataLoader(val_dataset, batch_size=BATCH_SIZE)\n",
    "\n",
    "    pos_weight = compute_pos_weight(train_df, 'quantotypic') if weighting else None\n",
    "    \n",
    "    test_dataset = PeptideDataset(test_df['sequence'].values, test_df['quantotypic'].values, test_df[\"pseudo_label\"].values, amino_acid_vocab, max_len)\n",
    "    test_loader = DataLoader(test_dataset, batch_size=64, shuffle=False)\n",
    "\n",
    "    # Evaluate the model on the test set\n",
    "    results = evaluate_mlp_model(model, test_loader, f\"{images_path}/SelfTraining/BiLSTM/BiLSTMOutputProbabilities_fold{fold+1}\", plot=False)\n",
    "    \n",
    "    wandb.init(project=\"MLP\", name=f\"SelfTraining_MLP_Scratch_cvfold{fold+1}_iter0\",\n",
    "                config={\n",
    "                    \"weighting\": weighting,\n",
    "                    \"oversampling\": oversampling,\n",
    "                    \"early_stopping\": do_early_stopping,\n",
    "                    \"method\" : pl_method,\n",
    "                    \"Threshold\": threshold if 'fixed' in pl_method else best_thr,\n",
    "                    \"Percentage\": None,\n",
    "                    \"n_epoch\": None,\n",
    "                    \"LR\": None,\n",
    "                    \"Max iter\": max_number_of_iterations,\n",
    "                    \"Hard or soft\": hard_or_soft,\n",
    "                    \"Double loss\": use_double_loss,\n",
    "                    \"Alpha\": alpha\n",
    "                })\n",
    "\n",
    "    wandb.log(results)\n",
    "    wandb.finish()\n",
    "\n",
    "    evolution_list['accuracy'].append(results['accuracy'])\n",
    "    evolution_list['precision'].append(results['precision'])\n",
    "    evolution_list['recall'].append(results['recall'])\n",
    "    evolution_list['f1'].append(results['f1'])\n",
    "    evolution_list['roc_auc'].append(results['roc_auc'])\n",
    "    evolution_list['pr_auc'].append(results['pr_auc'])\n",
    "    \n",
    "    best_model = model\n",
    "    best_history = evaluate_mlp_model(model, validation_loader, f\"{images_path}/SelfTraining/BiLSTM/BiLSTMOutputProbabilities_fold{fold+1}\", plot=False)\n",
    "    print(best_history)\n",
    "\n",
    "    n_epoch = 20\n",
    "    LR = 3e-4\n",
    "    BATCH_SIZE = 256\n",
    "\n",
    "    # Process the unlabeled data => remove the sequences that are already in the train, test, and val datasets\n",
    "    unlabeled_peptide = unique_peptide\n",
    "\n",
    "    print(len(unlabeled_peptide))\n",
    "    sequences_to_remove = set(train_df[\"sequence\"]).union(set(test_df[\"sequence\"])).union(set(val_df[\"sequence\"]))\n",
    "    unlabeled_peptide = unlabeled_peptide[~unlabeled_peptide.isin(sequences_to_remove)]\n",
    "    print(len(unlabeled_peptide))\n",
    "\n",
    "    iter = 1\n",
    "\n",
    "    # Start of the self-training loop\n",
    "    while True:\n",
    "        # If there are no unlabeled peptides left, break the loop\n",
    "        if len(unlabeled_peptide) == 0:\n",
    "            print(\"All unlabeled peptide have been used\")\n",
    "            break\n",
    "        \n",
    "        # Update the percentage for the TopK evo method\n",
    "        if pl_method == \"TopK evo\":\n",
    "            percentage = percentage_evo[iter-1]\n",
    "            if percentage > 0.5:\n",
    "                print(\"Percentage value exceed 0.5\")\n",
    "                break\n",
    "\n",
    "        # Break the loop if the maximum number of iterations is reached\n",
    "        if pl_method == \"TopK fixed\":\n",
    "            percentage = fixed_percentage\n",
    "            if iter > max_number_of_iterations:\n",
    "                print(\"Max number of iterations reached\")\n",
    "                break\n",
    "                \n",
    "        # Find the optimal threshold for the pseudo-labeling generation\n",
    "        if 'optimal' in pl_method:\n",
    "            best_thr = find_optimal_probability_threshold(model, validation_loader, device, 'roc' if 'roc' in pl_method else 'pr')\n",
    "            best_thr = round(best_thr, 3)\n",
    "            print(\"Best threshold\", best_thr)\n",
    "\n",
    "        tmp_pl_method = pl_method.replace(\" \", \"_\")\n",
    "\n",
    "        # Create the filename for saving the results\n",
    "        if pl_method == \"fixed\":\n",
    "            partof_filename = f\"cvfold{fold+1}_{tmp_pl_method}_{hard_or_soft}{f'_praucstop_' if pr_auc_stopping_criterion else ''}{f'_double_loss_{alpha * 100:02.0f}' if use_double_loss else ''}_{threshold * 100:02.0f}\"\n",
    "            v = threshold\n",
    "        elif pl_method == \"TopK evo\":\n",
    "            partof_filename = f\"cvfold{fold+1}_{tmp_pl_method}_{hard_or_soft}{f'_praucstop_' if pr_auc_stopping_criterion else ''}{f'_double_loss_{alpha * 100:02.0f}' if use_double_loss else ''}_{percentage * 100:02.0f}\"\n",
    "            v = percentage\n",
    "        elif pl_method == \"TopK fixed\":\n",
    "            partof_filename = f\"cvfold{fold+1}_{tmp_pl_method}_{hard_or_soft}{f'_praucstop_' if pr_auc_stopping_criterion else ''}{f'_double_loss_{alpha * 100:02.0f}' if use_double_loss else ''}_{percentage * 100:02.0f}_Maxiter{max_number_of_iterations}\"\n",
    "            v = percentage\n",
    "        elif 'optimal' in pl_method:\n",
    "            partof_filename = f\"cvfold{fold+1}_{tmp_pl_method}_{hard_or_soft}{f'_praucstop_' if pr_auc_stopping_criterion else ''}{f'_double_loss_{alpha * 100:02.0f}' if use_double_loss else ''}\"\n",
    "            v = best_thr\n",
    "        print(partof_filename)\n",
    "\n",
    "        # Create the unlabeled dataset and dataloader\n",
    "        tmp_label = np.zeros(len(unlabeled_peptide))\n",
    "        tmp_ps = np.full(len(unlabeled_peptide), True, dtype=bool)\n",
    "\n",
    "        unlabeled_dataset = PeptideDataset(unlabeled_peptide.values, tmp_label, tmp_ps, amino_acid_vocab, max_len)\n",
    "        unlabeled_dataloader = DataLoader(unlabeled_dataset, batch_size=256, shuffle=False)\n",
    "\n",
    "        # Generate probabilities on unlabeled data\n",
    "        outputs_probabilities = []\n",
    "        for x, y, _ in unlabeled_dataloader:\n",
    "          x, y = x.to(device), y.to(device)\n",
    "          output = model(x)\n",
    "          outputs_probabilities.append(torch.sigmoid(output).cpu().detach().numpy())\n",
    "\n",
    "        outputs_probabilities = np.concatenate(outputs_probabilities).flatten()\n",
    "        plot_probabilities(outputs_probabilities, f\"{images_path}/SelfTraining/MLP/MLPOutputProbabilities_iter{iter}_{partof_filename}.png\")\n",
    "\n",
    "        # Generate pseudo-labels based on the probabilities\n",
    "        class1, class0 = generate_pseudo_labels(outputs_probabilities, method=pl_method, value=v)\n",
    "        train_df = train_df.drop_duplicates(subset=\"sequence\", keep=\"first\")\n",
    "        class1_sum, class0_sum = class1.sum(), class0.sum()\n",
    "\n",
    "        print(f\"class1 = {class1_sum} ; class0 = {class0_sum} ; len(train_df) = {len(train_df)}\")\n",
    "\n",
    "        pseudo_label_instance_list.append((class0_sum, class1_sum))\n",
    "\n",
    "        # If too few new pseudo-labels are generated, break the loop\n",
    "        if (pl_method == \"fixed\" or 'optimal' in pl_method) and class1_sum + class0_sum < 0.01 * len(train_df):\n",
    "          print(\"No new pseudo label can be generated\")\n",
    "          break\n",
    "\n",
    "        # Delete the pseudo-labeled peptides from the unlabeled dataset\n",
    "        new_nonquanto = unlabeled_peptide[class1]\n",
    "        new_quanto = unlabeled_peptide[class0]\n",
    "        print(f\"new non quanto {len(new_nonquanto)}\")\n",
    "        print(f\"new quanto {len(new_quanto)}\")\n",
    "\n",
    "        delete_pseudo_labeled_peptide = class1 | class0\n",
    "\n",
    "        unlabeled_peptide = unlabeled_peptide[~delete_pseudo_labeled_peptide]\n",
    "        print(f\"{len(unlabeled_peptide)} unlabeled peptides remaining\")\n",
    "        \n",
    "        # Create a new dataframe with the pseudo-labeled peptides\n",
    "        if hard_or_soft == \"hard_loss\":\n",
    "            new_nonquanto = pd.DataFrame({\"sequence\": new_nonquanto, \"quantotypic\": 1, \"pseudo_label\": True})\n",
    "            new_quanto = pd.DataFrame({\"sequence\": new_quanto, \"quantotypic\": 0, \"pseudo_label\": True})\n",
    "        else:\n",
    "            print(\"soft_loss\")\n",
    "            new_nonquanto = pd.DataFrame({\"sequence\": new_nonquanto, \"quantotypic\": outputs_probabilities[class1], \"pseudo_label\": True})\n",
    "            new_quanto = pd.DataFrame({\"sequence\": new_quanto, \"quantotypic\": outputs_probabilities[class0], \"pseudo_label\": True})\n",
    "\n",
    "        # Update the training set\n",
    "        train_df = pd.concat([train_df, new_nonquanto, new_quanto], ignore_index=True)\n",
    "\n",
    "        print(f\"After concat: {len(train_df)}\")\n",
    "\n",
    "        if oversampling:\n",
    "            train_df = utils.balance_classes_with_oversampling(train_df, loss_type = \"hard\" if hard_or_soft == \"hard_loss\" else \"soft\")\n",
    "\n",
    "        pos_weight = compute_pos_weight(train_df, 'quantotypic') if weighting else None\n",
    "\n",
    "        # Recreate the dataloader with the new training set\n",
    "        train_dataset = PeptideDataset(train_df['sequence'].values, train_df['quantotypic'].values, train_df[\"pseudo_label\"], amino_acid_vocab, max_len)\n",
    "        train_loader = DataLoader(train_dataset, batch_size=BATCH_SIZE, shuffle=True)\n",
    "\n",
    "        # Retrain the model with the new training set\n",
    "        print(f\"Retraining the model....\")\n",
    "        history = train(model, train_loader, validation_loader, n_epoch, LR, do_early_stopping=do_early_stopping,\n",
    "                                            model_name='Scratch', weight=pos_weight, verbose=True, use_double_loss=use_double_loss, alpha=alpha)\n",
    "\n",
    "        # Evaluate the model on the test set\n",
    "        results = evaluate_mlp_model(model, test_loader, f\"{images_path}/SelfTraining/BiLSTM/BiLSTMOutputProbabilities_fold{fold+1}\", plot=False)\n",
    "    \n",
    "        evolution_list['accuracy'].append(results['accuracy'])\n",
    "        evolution_list['precision'].append(results['precision'])\n",
    "        evolution_list['recall'].append(results['recall'])\n",
    "        evolution_list['f1'].append(results['f1'])\n",
    "        evolution_list['roc_auc'].append(results['roc_auc'])\n",
    "        evolution_list['pr_auc'].append(results['pr_auc'])\n",
    "\n",
    "        wandb.init(project=\"MLP\", name=f\"SelfTraining_MLP_Scratch_cvfold{fold+1}_iter{iter}\",\n",
    "                    config={\n",
    "                        \"weighting\": weighting,\n",
    "                        \"oversampling\": oversampling,\n",
    "                        \"early_stopping\": do_early_stopping,\n",
    "                        \"method\" : pl_method,\n",
    "                        \"Threshold\": threshold if 'fixed' in pl_method else best_thr,\n",
    "                        \"Percentage\": percentage if pl_method == \"TopK fixed\" else None,\n",
    "                        \"n_epoch\": n_epoch,\n",
    "                        \"LR\": LR,\n",
    "                        \"Max iter\": max_number_of_iterations,\n",
    "                        \"Hard or soft\": hard_or_soft,\n",
    "                        \"Double loss\": use_double_loss,\n",
    "                        \"Alpha\": alpha\n",
    "                    })\n",
    "\n",
    "        wandb.log(results)\n",
    "        wandb.finish()\n",
    "        \n",
    "        if pr_auc_stopping_criterion:\n",
    "            best_model, best_history, better_bool = compute_best(history, best_history, model, best_model)\n",
    "\n",
    "            if not better_bool:\n",
    "                print(\"New trained model is not better\")\n",
    "                break\n",
    "            else:\n",
    "                print(\"New trained model is BETTER\")\n",
    "                best_model = model\n",
    "                best_history = history\n",
    "        else:\n",
    "            best_model = model\n",
    "            best_history = history\n",
    "\n",
    "        print(f\"{iter} iteration done with self training.\\n\")\n",
    "        iter = iter + 1\n",
    "\n",
    "    torch.save(model.state_dict(), f\"{models_path}/SelfTraining/MLP/BestST_MLP_Scratch_{partof_filename}.pth\")\n",
    "\n",
    "    self_training_results = {\n",
    "        'accuracy': results['accuracy'],\n",
    "        'precision': results['precision'],\n",
    "        'recall': results['recall'],\n",
    "        'f1': results['f1'],\n",
    "        'roc_auc': results['roc_auc'],\n",
    "        'pr_auc': results['pr_auc']\n",
    "    }\n",
    "\n",
    "    temp_results_list.append(self_training_results)\n",
    "\n",
    "    write_into_json(evolution_list, f\"{results_path}/SelfTraining/MLP/SelfTraining_MLP_Evolution_{partof_filename}.json\")\n",
    "    write_into_json(self_training_results, f\"{results_path}/SelfTraining/MLP/SelfTraining_MLP_Results_{partof_filename}.json\")\n",
    "\n",
    "    plot_pl_instances(pseudo_label_instance_list, f\"{images_path}/SelfTraining/MLP/PseudoLabelInstances_{partof_filename}\")\n",
    "\n",
    "accuracy_list = [res['accuracy'] for res in temp_results_list]\n",
    "precision_list = [res['precision'] for res in temp_results_list]\n",
    "recall_list = [res['recall'] for res in temp_results_list]\n",
    "f1_list = [res['f1'] for res in temp_results_list]\n",
    "roc_auc_list = [res['roc_auc'] for res in temp_results_list]\n",
    "pr_auc_list = [res['pr_auc'] for res in temp_results_list]\n",
    "\n",
    "# Calcul des moyennes et écarts-types\n",
    "metrics_summary = {\n",
    "    'accuracy_mean': np.mean(accuracy_list),\n",
    "    'accuracy_std': np.std(accuracy_list),\n",
    "    'precision_mean': np.mean(precision_list),\n",
    "    'precision_std': np.std(precision_list),\n",
    "    'recall_mean': np.mean(recall_list),\n",
    "    'recall_std': np.std(recall_list),\n",
    "    'f1_mean': np.mean(f1_list),\n",
    "    'f1_std': np.std(f1_list),\n",
    "    'roc_auc_mean': np.mean(roc_auc_list),\n",
    "    'roc_auc_std': np.std(roc_auc_list),\n",
    "    'pr_auc_mean': np.mean(pr_auc_list),\n",
    "    'pr_auc_std': np.std(pr_auc_list),\n",
    "}\n",
    "\n",
    "wandb.init(project=\"MLP\", name=f\"SelfTraining_MLP_Scratch_Summary\",\n",
    "            config={\n",
    "                \"weighting\": weighting,\n",
    "                \"oversampling\": oversampling,\n",
    "                \"early_stopping\": do_early_stopping,\n",
    "                \"method\" : pl_method,\n",
    "                \"Threshold\": threshold if 'fixed' in pl_method else best_thr,\n",
    "                \"Percentage\": percentage if pl_method == \"TopK fixed\" else None,\n",
    "                \"n_epoch\": n_epoch,\n",
    "                \"LR\": LR,\n",
    "                \"Max iter\": max_number_of_iterations,\n",
    "                \"Hard or soft\": hard_or_soft,\n",
    "                \"Double loss\": use_double_loss,\n",
    "                \"Alpha\": alpha\n",
    "            })\n",
    "\n",
    "wandb.log(metrics_summary)\n",
    "wandb.finish()\n",
    "\n",
    "dict_save = {\n",
    "    'weighting': weighting,\n",
    "    'oversampling': oversampling,\n",
    "    'early_stopping': do_early_stopping,\n",
    "    'method': pl_method,\n",
    "    \"Threshold\": threshold if 'fixed' in pl_method else best_thr,\n",
    "    \"Hard or soft\": hard_or_soft,\n",
    "    \"Double loss\": use_double_loss,\n",
    "    \"Alpha\": alpha,\n",
    "    'metrics': metrics_summary\n",
    "}\n",
    "\n",
    "if pl_method == \"fixed\":\n",
    "    final_filename = f\"{tmp_pl_method}_{hard_or_soft}{f'_praucstop_' if pr_auc_stopping_criterion else ''}{f'_double_loss_{alpha * 100:02.0f}' if use_double_loss else ''}_{threshold * 100:02.0f}\"\n",
    "elif \"TopK\" in pl_method:\n",
    "    final_filename = f\"{tmp_pl_method}_{hard_or_soft}{f'_praucstop_' if pr_auc_stopping_criterion else ''}{f'_double_loss_{alpha * 100:02.0f}' if use_double_loss else ''}_{percentage * 100:02.0f}\"\n",
    "else:\n",
    "    final_filename = f\"{tmp_pl_method}_{hard_or_soft}{f'_praucstop_' if pr_auc_stopping_criterion else ''}{f'_double_loss_{alpha * 100:02.0f}' if use_double_loss else ''}\"\n",
    "\n",
    "write_into_json(dict_save, f\"{results_path}/SelfTraining/MLP/SelfTraining_MLP_CVSummary_{final_filename}.json\")\n",
    "count += 1"
   ]
  }
 ],
 "metadata": {
  "accelerator": "GPU",
  "colab": {
   "gpuType": "T4",
   "provenance": []
  },
  "kernelspec": {
   "display_name": "Python [conda env:deep]",
   "language": "python",
   "name": "conda-env-deep-py"
  },
  "language_info": {
   "codemirror_mode": {
    "name": "ipython",
    "version": 3
   },
   "file_extension": ".py",
   "mimetype": "text/x-python",
   "name": "python",
   "nbconvert_exporter": "python",
   "pygments_lexer": "ipython3",
   "version": "3.11.7"
  }
 },
 "nbformat": 4,
 "nbformat_minor": 4
}
