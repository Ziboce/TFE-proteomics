{
 "cells": [
  {
   "cell_type": "markdown",
   "metadata": {},
   "source": [
    "# Library import"
   ]
  },
  {
   "cell_type": "code",
   "execution_count": 37,
   "metadata": {
    "colab": {
     "base_uri": "https://localhost:8080/"
    },
    "executionInfo": {
     "elapsed": 4568,
     "status": "ok",
     "timestamp": 1740067045555,
     "user": {
      "displayName": "Jimmy Walraff",
      "userId": "17365452855707799727"
     },
     "user_tz": -60
    },
    "id": "iwsD32he_Kdi",
    "outputId": "de0f3d08-39b7-4d3c-9928-05ec6cf32b6d"
   },
   "outputs": [],
   "source": [
    "import pandas as pd\n",
    "import torch\n",
    "import torch.nn as nn\n",
    "import torch.nn.functional as F\n",
    "from torch.utils.data import Dataset, DataLoader\n",
    "import numpy as np\n",
    "import matplotlib.pyplot as plt\n",
    "from sklearn.model_selection import StratifiedKFold, KFold, train_test_split\n",
    "from torch.utils.data import DataLoader\n",
    "from sklearn.metrics import precision_score, recall_score, f1_score, roc_auc_score, average_precision_score, accuracy_score\n",
    "\n",
    "import sys\n",
    "import os\n",
    "\n",
    "# from google.colab import drive # delete this line if not used on colab\n",
    "# drive.mount(\"/content/drive\", force_remount = True) # delete this line if not used on colab\n",
    "\n",
    "# sys.path.append(\"C:/Users/Walraff/OneDrive - Universite de Liege/Documents/Ulg/Master2/TFE/\")\n",
    "# sys.path.append(\"/content/drive/MyDrive/TFE/\")\n",
    "import utils\n",
    "\n",
    "import wandb"
   ]
  },
  {
   "cell_type": "code",
   "execution_count": 39,
   "metadata": {
    "colab": {
     "base_uri": "https://localhost:8080/",
     "height": 424
    },
    "executionInfo": {
     "elapsed": 63,
     "status": "ok",
     "timestamp": 1740067046822,
     "user": {
      "displayName": "Jimmy Walraff",
      "userId": "17365452855707799727"
     },
     "user_tz": -60
    },
    "id": "Z0vzFJG__Kdm",
    "outputId": "58ef6eef-d3c0-4bcb-f6bb-048c5273677f"
   },
   "outputs": [
    {
     "data": {
      "text/html": [
       "<div>\n",
       "<style scoped>\n",
       "    .dataframe tbody tr th:only-of-type {\n",
       "        vertical-align: middle;\n",
       "    }\n",
       "\n",
       "    .dataframe tbody tr th {\n",
       "        vertical-align: top;\n",
       "    }\n",
       "\n",
       "    .dataframe thead th {\n",
       "        text-align: right;\n",
       "    }\n",
       "</style>\n",
       "<table border=\"1\" class=\"dataframe\">\n",
       "  <thead>\n",
       "    <tr style=\"text-align: right;\">\n",
       "      <th></th>\n",
       "      <th>ProteinName_SPARE</th>\n",
       "      <th>Peptide_SPARE</th>\n",
       "      <th>Status_SPARE</th>\n",
       "    </tr>\n",
       "  </thead>\n",
       "  <tbody>\n",
       "    <tr>\n",
       "      <th>0</th>\n",
       "      <td>sp|P02751|FINC_HUMAN</td>\n",
       "      <td>VDVIPVNLPGEHGQR</td>\n",
       "      <td>bon</td>\n",
       "    </tr>\n",
       "    <tr>\n",
       "      <th>1</th>\n",
       "      <td>sp|P02751|FINC_HUMAN</td>\n",
       "      <td>STTPDITGYR</td>\n",
       "      <td>bon</td>\n",
       "    </tr>\n",
       "    <tr>\n",
       "      <th>2</th>\n",
       "      <td>sp|P02751|FINC_HUMAN</td>\n",
       "      <td>SYTITGLQPGTDYK</td>\n",
       "      <td>bon</td>\n",
       "    </tr>\n",
       "    <tr>\n",
       "      <th>3</th>\n",
       "      <td>sp|P02751|FINC_HUMAN</td>\n",
       "      <td>IYLYTLNDNAR</td>\n",
       "      <td>bon</td>\n",
       "    </tr>\n",
       "    <tr>\n",
       "      <th>4</th>\n",
       "      <td>sp|P04114|APOB_HUMAN</td>\n",
       "      <td>TGISPLALIK</td>\n",
       "      <td>bon</td>\n",
       "    </tr>\n",
       "    <tr>\n",
       "      <th>...</th>\n",
       "      <td>...</td>\n",
       "      <td>...</td>\n",
       "      <td>...</td>\n",
       "    </tr>\n",
       "    <tr>\n",
       "      <th>150</th>\n",
       "      <td>sp|P02743|SAMP_HUMAN</td>\n",
       "      <td>VGEYSLYIGR</td>\n",
       "      <td>bon</td>\n",
       "    </tr>\n",
       "    <tr>\n",
       "      <th>151</th>\n",
       "      <td>sp|P04004|VTNC_HUMAN</td>\n",
       "      <td>GQYCYELDEK</td>\n",
       "      <td>mauvais</td>\n",
       "    </tr>\n",
       "    <tr>\n",
       "      <th>152</th>\n",
       "      <td>sp|P04004|VTNC_HUMAN</td>\n",
       "      <td>FEDGVLDPDYPR</td>\n",
       "      <td>bon</td>\n",
       "    </tr>\n",
       "    <tr>\n",
       "      <th>153</th>\n",
       "      <td>sp|P04004|VTNC_HUMAN</td>\n",
       "      <td>DWHGVPGQVDAAMAGR</td>\n",
       "      <td>bon</td>\n",
       "    </tr>\n",
       "    <tr>\n",
       "      <th>154</th>\n",
       "      <td>sp|P04004|VTNC_HUMAN</td>\n",
       "      <td>SIAQYWLGCPAPGHL</td>\n",
       "      <td>bon</td>\n",
       "    </tr>\n",
       "  </tbody>\n",
       "</table>\n",
       "<p>155 rows × 3 columns</p>\n",
       "</div>"
      ],
      "text/plain": [
       "        ProteinName_SPARE     Peptide_SPARE Status_SPARE\n",
       "0    sp|P02751|FINC_HUMAN   VDVIPVNLPGEHGQR          bon\n",
       "1    sp|P02751|FINC_HUMAN        STTPDITGYR          bon\n",
       "2    sp|P02751|FINC_HUMAN    SYTITGLQPGTDYK          bon\n",
       "3    sp|P02751|FINC_HUMAN       IYLYTLNDNAR          bon\n",
       "4    sp|P04114|APOB_HUMAN        TGISPLALIK          bon\n",
       "..                    ...               ...          ...\n",
       "150  sp|P02743|SAMP_HUMAN        VGEYSLYIGR          bon\n",
       "151  sp|P04004|VTNC_HUMAN        GQYCYELDEK      mauvais\n",
       "152  sp|P04004|VTNC_HUMAN      FEDGVLDPDYPR          bon\n",
       "153  sp|P04004|VTNC_HUMAN  DWHGVPGQVDAAMAGR          bon\n",
       "154  sp|P04004|VTNC_HUMAN   SIAQYWLGCPAPGHL          bon\n",
       "\n",
       "[155 rows x 3 columns]"
      ]
     },
     "execution_count": 39,
     "metadata": {},
     "output_type": "execute_result"
    }
   ],
   "source": [
    "# data_path = \"C:/Users/Walraff/OneDrive - Universite de Liege/Documents/Ulg/Master2/TFE/data\"\n",
    "# data_path = \"/content/drive/MyDrive/TFE\"\n",
    "data_path = \"/home/jwalraff/TFE/data\"\n",
    "original_df = pd.read_csv(f'{data_path}/final_status_SPARE.csv')\n",
    "original_df"
   ]
  },
  {
   "cell_type": "markdown",
   "metadata": {},
   "source": [
    "# Dataset, Model and loading data"
   ]
  },
  {
   "cell_type": "code",
   "execution_count": null,
   "metadata": {
    "executionInfo": {
     "elapsed": 4,
     "status": "ok",
     "timestamp": 1740067046824,
     "user": {
      "displayName": "Jimmy Walraff",
      "userId": "17365452855707799727"
     },
     "user_tz": -60
    },
    "id": "3IIYbTRs_Kdn"
   },
   "outputs": [],
   "source": [
    "# Define the vocabulary\n",
    "amino_acid_vocab = {aa: idx+1 for idx, aa in enumerate(\"ACDEFGHIKLMNPQRSTVWY\")}\n",
    "\n",
    "class PeptideDataset(Dataset):\n",
    "    def __init__(self, sequences, labels, vocab, max_len):\n",
    "        \"\"\"\n",
    "        Dataset for peptide sequences.\n",
    "\n",
    "        Args:\n",
    "            sequences (list of str): List of amino acid sequences.\n",
    "            labels (list of int): List of labels associated with the sequences.\n",
    "            vocab (dict): Mapping dictionary {amino acid: index}.\n",
    "            max_len (int): Maximum sequence length (applies padding).\n",
    "        \"\"\"\n",
    "        self.sequences = sequences\n",
    "        self.labels = labels\n",
    "        self.vocab = vocab\n",
    "        self.max_len = max_len\n",
    "\n",
    "    def encode_sequence(self, sequence):\n",
    "        \"\"\"Encodes a sequence into integer indices with padding.\"\"\"\n",
    "        encoded = [self.vocab.get(aa, 0) for aa in sequence]  # Encoding\n",
    "        encoded += [0] * (self.max_len - len(encoded))  # Padding\n",
    "        return torch.tensor(encoded, dtype=torch.long)\n",
    "\n",
    "    def __len__(self):\n",
    "        return len(self.sequences)\n",
    "\n",
    "    def __getitem__(self, idx):\n",
    "        \"\"\"Returns an encoded sequence and its label.\"\"\"\n",
    "        sequence = self.sequences[idx]\n",
    "        label = self.labels[idx]\n",
    "        encoded_sequence = self.encode_sequence(sequence)\n",
    "        return encoded_sequence, torch.tensor(label, dtype=torch.float32)\n"
   ]
  },
  {
   "cell_type": "code",
   "execution_count": 41,
   "metadata": {
    "executionInfo": {
     "elapsed": 49,
     "status": "ok",
     "timestamp": 1740067046874,
     "user": {
      "displayName": "Jimmy Walraff",
      "userId": "17365452855707799727"
     },
     "user_tz": -60
    },
    "id": "BP--sbBA_Kdn"
   },
   "outputs": [],
   "source": [
    "LEARNING_RATE = 0.001\n",
    "VOCAB_SIZE = len(amino_acid_vocab) + 1  # +1 for padding\n",
    "EMBED_DIM = 64\n",
    "HIDDEN_DIM = 16\n",
    "OUTPUT_DIM = 1\n",
    "N_EPOCHS = 100\n",
    "BATCH_SIZE = 32\n",
    "LSTM_LAYERS = 2\n",
    "LSTM_HIDDEN_DIM = 32\n",
    "N_SPLITS = 5\n",
    "DROPOUT = 0.3"
   ]
  },
  {
   "cell_type": "code",
   "execution_count": null,
   "metadata": {
    "colab": {
     "base_uri": "https://localhost:8080/"
    },
    "executionInfo": {
     "elapsed": 29,
     "status": "ok",
     "timestamp": 1740067046875,
     "user": {
      "displayName": "Jimmy Walraff",
      "userId": "17365452855707799727"
     },
     "user_tz": -60
    },
    "id": "dfQHY6v-_Kdn",
    "outputId": "1c6bc89d-90e5-4dab-f8e5-59a31485c051"
   },
   "outputs": [
    {
     "name": "stdout",
     "output_type": "stream",
     "text": [
      "quantotypic\n",
      "0    117\n",
      "1     38\n",
      "Name: count, dtype: int64\n"
     ]
    }
   ],
   "source": [
    "# Creating a dataframe with the sequences and labels\n",
    "df = pd.DataFrame()\n",
    "df[\"sequence\"] = original_df[\"Peptide_SPARE\"]\n",
    "df[\"quantotypic\"] = original_df.apply(lambda row: 0 if row['Status_SPARE'] == 'bon' else 1, axis=1)\n",
    "\n",
    "positive_df = df[df['quantotypic'] == 0]\n",
    "negative_df = df[df['quantotypic'] == 1]\n",
    "\n",
    "class_counts = df['quantotypic'].value_counts()\n",
    "max_len = df['sequence'].str.len().max()\n",
    "print(class_counts)"
   ]
  },
  {
   "cell_type": "code",
   "execution_count": null,
   "metadata": {
    "executionInfo": {
     "elapsed": 28,
     "status": "ok",
     "timestamp": 1740067046876,
     "user": {
      "displayName": "Jimmy Walraff",
      "userId": "17365452855707799727"
     },
     "user_tz": -60
    },
    "id": "BTebE4Kb_Kdo"
   },
   "outputs": [],
   "source": [
    "class PeptideBiLSTMClassifier(nn.Module):\n",
    "    def __init__(self, vocab_size, embed_dim, hidden_dim, lstm_hidden_dim, output_dim, dropout_prob, num_layers):\n",
    "        \"\"\"\n",
    "        Bidirectional LSTM-based classifier for peptide sequences.\n",
    "\n",
    "        Args:\n",
    "            vocab_size (int): Size of the vocabulary (number of amino acid + padding).\n",
    "            embed_dim (int): Size of the embedding vectors.\n",
    "            hidden_dim (int): Number of units in the fully connected hidden layer.\n",
    "            lstm_hidden_dim (int): Number of hidden units in the BiLSTM.\n",
    "            output_dim (int): Number of output classes (1 here).\n",
    "            dropout_prob (float): Dropout rate applied after the first fully connected layer.\n",
    "            num_layers (int): Number of LSTM layers.\n",
    "        \"\"\"\n",
    "        super(PeptideBiLSTMClassifier, self).__init__()\n",
    "        self.embedding = nn.Embedding(vocab_size, embed_dim)\n",
    "        self.bilstm = nn.LSTM(embed_dim, lstm_hidden_dim, num_layers=num_layers,\n",
    "                              bidirectional=True, batch_first=True, dropout=dropout_prob)\n",
    "        self.fc1 = nn.Linear(2 * lstm_hidden_dim, hidden_dim)\n",
    "        self.fc2 = nn.Linear(hidden_dim, output_dim)\n",
    "        self.dropout = nn.Dropout(dropout_prob)\n",
    "\n",
    "    def forward(self, x):\n",
    "        \"\"\"\n",
    "        Forward pass of the model.\n",
    "\n",
    "        Args:\n",
    "            x (torch.Tensor): Input tensor of shape (batch_size, max_seq_len),\n",
    "                              containing integer-encoded peptide sequences.\n",
    "\n",
    "        Returns:\n",
    "            torch.Tensor: Output logits of shape (batch_size, output_dim).\n",
    "        \"\"\"\n",
    "        # Embed input sequences\n",
    "        embedded = self.embedding(x)  # (batch_size, max_seq_len, embed_dim)\n",
    "\n",
    "        # BiLSTM encoding\n",
    "        lstm_out, _ = self.bilstm(embedded)  # (batch_size, max_seq_len, 2 * lstm_hidden_dim)\n",
    "\n",
    "        # Use the output of the last time step\n",
    "        lstm_out_last = lstm_out[:, -1, :]  # (batch_size, 2 * lstm_hidden_dim)\n",
    "\n",
    "        # Fully connected layers with dropout\n",
    "        hidden = F.relu(self.fc1(lstm_out_last))\n",
    "        hidden = self.dropout(hidden)\n",
    "        output = self.fc2(hidden)  # (batch_size, output_dim)\n",
    "\n",
    "        return output\n"
   ]
  },
  {
   "cell_type": "markdown",
   "metadata": {},
   "source": [
    "# Functions"
   ]
  },
  {
   "cell_type": "code",
   "execution_count": null,
   "metadata": {
    "executionInfo": {
     "elapsed": 21,
     "status": "ok",
     "timestamp": 1740067046877,
     "user": {
      "displayName": "Jimmy Walraff",
      "userId": "17365452855707799727"
     },
     "user_tz": -60
    },
    "id": "ye5XNP6m_Kdo"
   },
   "outputs": [],
   "source": [
    "def early_stopping(val_losses, patience):\n",
    "    \"\"\"\n",
    "    Checks if the last 'patience' validation losses have increased or remained the same.\n",
    "\n",
    "    Args:\n",
    "        val_losses (list): List of validation losses.\n",
    "        patience (int): Number of consecutive epochs to check for lack of improvement.\n",
    "\n",
    "    Returns:\n",
    "        bool: True if the last 'patience' losses show no improvement, otherwise False.\n",
    "    \"\"\"\n",
    "    # Not enough values to apply the early stopping criterion\n",
    "    if len(val_losses) < patience + 1:\n",
    "        return False\n",
    "\n",
    "    # Check if each of the last 'patience' losses is greater than or equal to the previous one\n",
    "    for i in range(-patience, -1):\n",
    "        if val_losses[i] < val_losses[i + 1]:\n",
    "            continue\n",
    "        else:\n",
    "            return False\n",
    "\n",
    "    return True"
   ]
  },
  {
   "cell_type": "code",
   "execution_count": null,
   "metadata": {
    "executionInfo": {
     "elapsed": 11,
     "status": "ok",
     "timestamp": 1740067046878,
     "user": {
      "displayName": "Jimmy Walraff",
      "userId": "17365452855707799727"
     },
     "user_tz": -60
    },
    "id": "FC9sI4YR_Kdp"
   },
   "outputs": [],
   "source": [
    "def reordering(data, labels, batch_converter, device):\n",
    "    \"\"\"\n",
    "    Prepares and converts a batch of sequence data and labels for ESM-2 model input.\n",
    "\n",
    "    Args:\n",
    "        data (tuple): Tuple containing two lists (e.g., sequence names and sequences).\n",
    "        labels (torch.Tensor): Tensor of labels associated with each sequence.\n",
    "        batch_converter (callable): Function to convert (name, sequence) pairs into tokenized format.\n",
    "        device (torch.device): Device to move the tensors to (e.g., 'cuda' or 'cpu').\n",
    "\n",
    "    Returns:\n",
    "        tuple:\n",
    "            - batch_tokens (torch.Tensor): Tensor of tokenized sequences.\n",
    "            - batch_labels (torch.Tensor): Tensor of corresponding labels (shape: [batch_size]).\n",
    "    \"\"\"\n",
    "    # Reformat data into a list of (name, sequence) tuples\n",
    "    ReArrangeData = []\n",
    "    for i in range(len(data[0])):\n",
    "        ReArrangeData.append((data[0][i], data[1][i]))\n",
    "\n",
    "    # Move labels to device and ensure float format\n",
    "    labels = labels.float()\n",
    "    batch_labels = labels.to(device).unsqueeze(1)\n",
    "\n",
    "    # Convert sequences to tokens using the batch converter\n",
    "    batch_tokens = batch_converter(ReArrangeData)[2].to(device)\n",
    "\n",
    "    return batch_tokens, batch_labels.squeeze(1)\n",
    "\n",
    "def train_epoch(model, dataloader, optimizer, criterion, device, model_name='Scratch', batch_converter=None):\n",
    "    \"\"\"\n",
    "    Trains the model for a single epoch.\n",
    "\n",
    "    Args:\n",
    "        model (nn.Module): The model to train.\n",
    "        dataloader (DataLoader): DataLoader providing training data batches.\n",
    "        optimizer (torch.optim.Optimizer): Optimizer used for updating model weights.\n",
    "        criterion (nn.Module): Loss function to compute the training loss.\n",
    "        device (str or torch.device): Device on which computations are performed ('cuda' or 'cpu').\n",
    "        model_name (str): Specifies the model type (e.g., 'Scratch', 'ESM', 'RT', 'CCS').\n",
    "        batch_converter (callable, optional): Function used to convert ESM data batches.\n",
    "\n",
    "    Returns:\n",
    "        float: Mean training loss over the entire epoch.\n",
    "    \"\"\"\n",
    "    model.train()\n",
    "    train_losses = []\n",
    "\n",
    "    for batch in dataloader:\n",
    "        # Prepare inputs and targets based on the model type\n",
    "        if model_name == 'ESM':\n",
    "            X, y = batch\n",
    "            X, y = reordering(X, y, batch_converter, device)\n",
    "        elif model_name in ['RT', 'CCS']:\n",
    "            aa_idx, mod_x, y = batch\n",
    "            aa_idx, mod_x, y = aa_idx.to(device), mod_x.to(device), y.to(device)\n",
    "        else:\n",
    "            X, y = batch\n",
    "            X, y = X.to(device), y.to(device)\n",
    "\n",
    "        # Reset gradients\n",
    "        optimizer.zero_grad()\n",
    "\n",
    "        # Forward pass\n",
    "        if model_name in ['RT', 'CCS']:\n",
    "            output = model(aa_idx, mod_x).squeeze(1)\n",
    "        else:\n",
    "            output = model(X).squeeze(1)\n",
    "\n",
    "        # Compute loss\n",
    "        loss = criterion(output, y)\n",
    "\n",
    "        # Backward pass and optimizer step\n",
    "        loss.backward()\n",
    "        optimizer.step()\n",
    "\n",
    "        # Record the loss\n",
    "        train_losses.append(loss.item())\n",
    "    \n",
    "    # wandb.log({\"training_loss\": np.array(train_losses).mean()})\n",
    "\n",
    "    return np.mean(train_losses)\n",
    "\n",
    "\n",
    "def val_epoch(model, dataloader, criterion, device, threshold=0.5, model_name='Scratch', batch_converter=None):\n",
    "    \"\"\"\n",
    "    Validate the model for a single epoch and compute additional metrics.\n",
    "\n",
    "    Args:\n",
    "        model (nn.Module): The model to validate.\n",
    "        dataloader (Dataloader): Dataloader providing validation data.\n",
    "        criterion (nn.Module): Loss function.\n",
    "        device (str): Device to use ('cuda' or 'cpu').\n",
    "        threshold (float, optional): Threshold for binary classification. Defaults to 0.5.\n",
    "\n",
    "    Returns:\n",
    "        dict: Dictionary with mean loss, accuracy, precision, recall, F1, and AUC-ROC.\n",
    "    \"\"\"\n",
    "    model.eval()  # Set the model to evaluation mode\n",
    "    val_losses = []\n",
    "    all_targets = []\n",
    "    all_predictions = []\n",
    "    all_probabilities = []\n",
    "\n",
    "    with torch.no_grad():  # Disable gradient computation\n",
    "        for batch in dataloader:\n",
    "            if model_name == 'ESM':\n",
    "                X, y = batch\n",
    "                X, y = reordering(X, y, batch_converter, device)\n",
    "            elif model_name == 'RT' or model_name == 'CCS':\n",
    "                aa_idx, mod_x, y = batch\n",
    "                aa_idx, mod_x, y = aa_idx.to(device), mod_x.to(device), y.to(device)\n",
    "            else:\n",
    "                X, y = batch\n",
    "                X, y = X.to(device), y.to(device)\n",
    "\n",
    "            # Forward pass\n",
    "            if model_name == 'RT' or model_name == 'CCS':\n",
    "                output = model(aa_idx, mod_x).squeeze(1)\n",
    "            else:\n",
    "                output = model(X).squeeze(1)\n",
    "\n",
    "            probabilities = torch.sigmoid(output)  # Convert logits to probabilities\n",
    "\n",
    "            # Compute loss\n",
    "            loss = criterion(output, y)\n",
    "            val_losses.append(loss.item())\n",
    "\n",
    "            # Convert probabilities to binary predictions\n",
    "            binary_output = (probabilities >= threshold).float()\n",
    "\n",
    "            # Store all targets, predictions, and probabilities\n",
    "            all_targets.extend(y.cpu().numpy())\n",
    "            all_predictions.extend(binary_output.cpu().numpy())\n",
    "            all_probabilities.extend(probabilities.cpu().numpy())\n",
    "\n",
    "    # Compute mean loss\n",
    "    mean_loss = np.array(val_losses).mean()\n",
    "\n",
    "    # Compute metrics using sklearn\n",
    "    accuracy = (np.array(all_predictions) == np.array(all_targets)).mean()\n",
    "    roc_auc = roc_auc_score(all_targets, all_probabilities) if len(np.unique(all_targets)) > 1 else 0.0\n",
    "    pr_auc = average_precision_score(all_targets, all_probabilities) if len(np.unique(all_targets)) > 1 else 0.0\n",
    "\n",
    "    # Log metrics with wandb\n",
    "    # wandb.log({\n",
    "    #     \"validation_loss\": mean_loss,\n",
    "    #     \"validation_accuracy\": accuracy,\n",
    "    #     \"validation_roc_auc\": roc_auc,\n",
    "    #     \"validation_pr_auc\": pr_auc,\n",
    "    # })\n",
    "\n",
    "    return {\n",
    "        \"loss\": mean_loss,\n",
    "        \"accuracy\": accuracy,\n",
    "        \"roc_auc\": roc_auc,\n",
    "        \"pr_auc\": pr_auc\n",
    "    }\n",
    "\n",
    "def val_epoch(model, dataloader, criterion, device, threshold=0.5, model_name='Scratch', batch_converter=None):\n",
    "    \"\"\"\n",
    "    Validates the model for one epoch and computes evaluation metrics.\n",
    "\n",
    "    Args:\n",
    "        model (nn.Module): The model to evaluate.\n",
    "        dataloader (DataLoader): DataLoader providing validation data.\n",
    "        criterion (nn.Module): Loss function used for evaluation.\n",
    "        device (str or torch.device): Device on which computations are performed ('cuda' or 'cpu').\n",
    "        threshold (float, optional): Threshold for binary classification (applied to predicted probabilities). Defaults to 0.5.\n",
    "        model_name (str): Model type identifier (e.g., 'Scratch', 'ESM', 'RT', 'CCS').\n",
    "        batch_converter (callable, optional): Function for converting ESM batches into tokenized format.\n",
    "\n",
    "    Returns:\n",
    "        dict: Dictionary containing the following metrics:\n",
    "              - \"loss\": Mean validation loss.\n",
    "              - \"accuracy\": Classification accuracy.\n",
    "              - \"roc_auc\": Area under the ROC curve.\n",
    "              - \"pr_auc\": Area under the precision-recall curve.\n",
    "    \"\"\"\n",
    "    model.eval()\n",
    "    val_losses = []\n",
    "    all_targets = []\n",
    "    all_predictions = []\n",
    "    all_probabilities = []\n",
    "\n",
    "    with torch.no_grad():\n",
    "        for batch in dataloader:\n",
    "            # Prepare inputs and targets based on model type\n",
    "            if model_name == 'ESM':\n",
    "                X, y = batch\n",
    "                X, y = reordering(X, y, batch_converter, device)\n",
    "            elif model_name in ['RT', 'CCS']:\n",
    "                aa_idx, mod_x, y = batch\n",
    "                aa_idx, mod_x, y = aa_idx.to(device), mod_x.to(device), y.to(device)\n",
    "            else:\n",
    "                X, y = batch\n",
    "                X, y = X.to(device), y.to(device)\n",
    "\n",
    "            # Forward pass\n",
    "            if model_name in ['RT', 'CCS']:\n",
    "                output = model(aa_idx, mod_x).squeeze(1)\n",
    "            else:\n",
    "                output = model(X).squeeze(1)\n",
    "\n",
    "            probabilities = torch.sigmoid(output)  # Convert logits to probabilities\n",
    "            loss = criterion(output, y)\n",
    "            val_losses.append(loss.item())\n",
    "\n",
    "            # Threshold probabilities to get binary predictions\n",
    "            binary_output = (probabilities >= threshold).float()\n",
    "\n",
    "            # Store results\n",
    "            all_targets.extend(y.cpu().numpy())\n",
    "            all_predictions.extend(binary_output.cpu().numpy())\n",
    "            all_probabilities.extend(probabilities.cpu().numpy())\n",
    "\n",
    "    # Compute average loss and metrics\n",
    "    mean_loss = np.mean(val_losses)\n",
    "    accuracy = (np.array(all_predictions) == np.array(all_targets)).mean()\n",
    "    roc_auc = roc_auc_score(all_targets, all_probabilities) if len(np.unique(all_targets)) > 1 else 0.0\n",
    "    pr_auc = average_precision_score(all_targets, all_probabilities) if len(np.unique(all_targets)) > 1 else 0.0\n",
    "\n",
    "    # Log metrics with wandb\n",
    "    # wandb.log({\n",
    "    #     \"validation_loss\": mean_loss,\n",
    "    #     \"validation_accuracy\": accuracy,\n",
    "    #     \"validation_roc_auc\": roc_auc,\n",
    "    #     \"validation_pr_auc\": pr_auc,\n",
    "    # })\n",
    "\n",
    "    return {\n",
    "        \"loss\": mean_loss,\n",
    "        \"accuracy\": accuracy,\n",
    "        \"roc_auc\": roc_auc,\n",
    "        \"pr_auc\": pr_auc\n",
    "    }\n"
   ]
  },
  {
   "cell_type": "code",
   "execution_count": null,
   "metadata": {
    "executionInfo": {
     "elapsed": 28,
     "status": "ok",
     "timestamp": 1740067046906,
     "user": {
      "displayName": "Jimmy Walraff",
      "userId": "17365452855707799727"
     },
     "user_tz": -60
    },
    "id": "sbPbQ2T3_Kdp"
   },
   "outputs": [],
   "source": [
    "def train(model, train_loader, val_loader, n_epochs, lr, filename, threshold=0.5,\n",
    "          do_early_stopping=True, model_name='Scratch', batch_converter=None, weight=None):\n",
    "    \"\"\"\n",
    "    Trains the model over multiple epochs with validation after each epoch.\n",
    "\n",
    "    Args:\n",
    "        model (nn.Module): The model instance to train.\n",
    "        train_loader (DataLoader): DataLoader providing training data.\n",
    "        val_loader (DataLoader): DataLoader providing validation data.\n",
    "        n_epochs (int): Number of training epochs.\n",
    "        lr (float): Learning rate for the optimizer.\n",
    "        filename (str): File name to save the final model.\n",
    "        threshold (float, optional): Threshold for binary classification. Defaults to 0.5.\n",
    "        do_early_stopping (bool, optional): Whether to apply early stopping. Defaults to True.\n",
    "        model_name (str, optional): Identifier for model type (e.g., 'Scratch', 'ESM', 'RT', 'CCS').\n",
    "        batch_converter (callable, optional): Function to convert ESM batches into token format.\n",
    "        weight (torch.Tensor, optional): Weight for positive class in BCEWithLogitsLoss.\n",
    "\n",
    "    Returns:\n",
    "        dict: Training history containing:\n",
    "            - \"train_loss\": List of training losses per epoch.\n",
    "            - \"val_loss\": List of validation losses per epoch.\n",
    "            - \"val_accuracy\": List of validation accuracies.\n",
    "            - \"val_roc_auc\": List of ROC-AUC scores.\n",
    "            - \"val_pr_auc\": List of PR-AUC scores.\n",
    "    \"\"\"\n",
    "    device = \"cuda\" if torch.cuda.is_available() else \"cpu\"\n",
    "    torch.cuda.empty_cache()\n",
    "    model.to(device)\n",
    "\n",
    "    optimizer = torch.optim.Adam(model.parameters(), lr=lr)\n",
    "\n",
    "    if weight is not None:\n",
    "        criterion = nn.BCEWithLogitsLoss(pos_weight=weight)\n",
    "    else:\n",
    "        criterion = nn.BCEWithLogitsLoss()\n",
    "\n",
    "    history = {\n",
    "        \"train_loss\": [],\n",
    "        \"val_loss\": [],\n",
    "        \"val_accuracy\": [],\n",
    "        \"val_roc_auc\": [],\n",
    "        \"val_pr_auc\": [],\n",
    "    }\n",
    "\n",
    "    for epoch in range(n_epochs):\n",
    "        # Train for one epoch\n",
    "        train_loss = train_epoch(\n",
    "            model, train_loader, optimizer, criterion, device,\n",
    "            model_name=model_name, batch_converter=batch_converter\n",
    "        )\n",
    "\n",
    "        # Validate after each epoch\n",
    "        val_metrics = val_epoch(\n",
    "            model, val_loader, criterion, device, threshold,\n",
    "            model_name=model_name, batch_converter=batch_converter\n",
    "        )\n",
    "\n",
    "        # Record metrics\n",
    "        history[\"train_loss\"].append(train_loss)\n",
    "        history[\"val_loss\"].append(val_metrics[\"loss\"])\n",
    "        history[\"val_accuracy\"].append(val_metrics[\"accuracy\"])\n",
    "        history[\"val_roc_auc\"].append(val_metrics[\"roc_auc\"])\n",
    "        history[\"val_pr_auc\"].append(val_metrics[\"pr_auc\"])\n",
    "\n",
    "        # Early stopping\n",
    "        if early_stopping(history[\"val_loss\"], patience=5) and do_early_stopping:\n",
    "            print(f\"Early stopping triggered at epoch {epoch}.\")\n",
    "            break\n",
    "\n",
    "    # wandb.log({\"Early_stopping\": epoch})\n",
    "\n",
    "    return history"
   ]
  },
  {
   "cell_type": "code",
   "execution_count": null,
   "metadata": {
    "colab": {
     "base_uri": "https://localhost:8080/"
    },
    "executionInfo": {
     "elapsed": 7,
     "status": "ok",
     "timestamp": 1740067046913,
     "user": {
      "displayName": "Jimmy Walraff",
      "userId": "17365452855707799727"
     },
     "user_tz": -60
    },
    "id": "IWwZqNmP_Kdq",
    "outputId": "6637077c-4679-4034-cc38-2182ab04aefc"
   },
   "outputs": [
    {
     "data": {
      "text/plain": [
       "tensor(3.0789, dtype=torch.float64)"
      ]
     },
     "execution_count": 47,
     "metadata": {},
     "output_type": "execute_result"
    }
   ],
   "source": [
    "def compute_pos_weight(df, target_column):\n",
    "    \"\"\"\n",
    "    Computes the pos_weight value for BCEWithLogitsLoss based on class imbalance.\n",
    "\n",
    "    Args:\n",
    "        df (pd.DataFrame): DataFrame containing the target labels.\n",
    "        target_column (str): Name of the column with binary class labels (0 for negative, 1 for positive).\n",
    "\n",
    "    Returns:\n",
    "        torch.Tensor: A tensor representing the positive class weight for use in BCEWithLogitsLoss.\n",
    "                      If no positive samples are found, defaults to a weight of 1.0.\n",
    "    \"\"\"\n",
    "    class_counts = df[target_column].value_counts()\n",
    "\n",
    "    num_pos = class_counts.get(1, 0)  # Number of positive samples\n",
    "    num_neg = class_counts.get(0, 0)  # Number of negative samples\n",
    "\n",
    "    if num_pos == 0:\n",
    "        pos_weight = torch.tensor(1.0, dtype=torch.float64)\n",
    "    else:\n",
    "        pos_weight = torch.tensor(num_neg / num_pos, dtype=torch.float64)\n",
    "\n",
    "    return pos_weight\n",
    "\n",
    "compute_pos_weight(df, 'quantotypic')"
   ]
  },
  {
   "cell_type": "code",
   "execution_count": null,
   "metadata": {
    "executionInfo": {
     "elapsed": 42,
     "status": "ok",
     "timestamp": 1740067137539,
     "user": {
      "displayName": "Jimmy Walraff",
      "userId": "17365452855707799727"
     },
     "user_tz": -60
    },
    "id": "cUSKIsvu_Kdq"
   },
   "outputs": [],
   "source": [
    "def compute_best(history, best_history, model, best_model):\n",
    "    \"\"\"\n",
    "    Compares the current model to the best model so far based on validation PR AUC,\n",
    "    and updates the best model and history if the current model performs better.\n",
    "\n",
    "    Args:\n",
    "        history (dict): Dictionary containing the current training and validation metrics.\n",
    "        best_history (dict): Dictionary containing the best validation metrics so far.\n",
    "        model (nn.Module): Current model instance.\n",
    "        best_model (nn.Module): Best model instance so far.\n",
    "\n",
    "    Returns:\n",
    "        tuple: Updated best model and its corresponding history.\n",
    "    \"\"\"\n",
    "    if best_history is None or (history[\"val_pr_auc\"][-1] > best_history[\"val_pr_auc\"][-1]):\n",
    "        best_model = model\n",
    "        best_history = history\n",
    "\n",
    "    return best_model, best_history\n",
    "\n",
    "def evaluate_bilstm_model(model, test_df, amino_acid_vocab, max_len):\n",
    "    \"\"\"\n",
    "    Evaluates a trained BiLSTM model on the test dataset and returns performance metrics.\n",
    "\n",
    "    Args:\n",
    "        model (nn.Module): The trained model to evaluate.\n",
    "        test_df (pd.DataFrame): DataFrame containing test sequences and labels.\n",
    "        amino_acid_vocab (dict): Mapping from amino acids to integer indices.\n",
    "        max_len (int): Maximum sequence length (used for padding/truncation).\n",
    "\n",
    "    Returns:\n",
    "        dict: Dictionary containing the following evaluation metrics:\n",
    "              - 'accuracy': Classification accuracy.\n",
    "              - 'precision': Precision score.\n",
    "              - 'recall': Recall score.\n",
    "              - 'f1': F1 score.\n",
    "              - 'roc_auc': ROC AUC score.\n",
    "              - 'pr_auc': Precision-Recall AUC score.\n",
    "    \"\"\"\n",
    "    device = \"cuda\" if torch.cuda.is_available() else \"cpu\" # Get the device\n",
    "    model.eval()\n",
    "    model.to(device) # Move the model to the device\n",
    "    test_dataset = PeptideDataset(test_df['sequence'].values, test_df['quantotypic'].values, amino_acid_vocab, max_len)\n",
    "    test_loader = DataLoader(test_dataset, batch_size=64, shuffle=False)\n",
    "\n",
    "    all_preds = []\n",
    "    all_targets = []\n",
    "\n",
    "    with torch.no_grad():\n",
    "        for sequences, labels in test_loader:\n",
    "            sequences = sequences.to(device) # Move the sequences to the device\n",
    "            labels = labels.to(device) # Move the labels to the device\n",
    "            outputs = model(sequences)\n",
    "            preds = torch.sigmoid(outputs).cpu().numpy()\n",
    "            all_preds.extend(preds)\n",
    "            all_targets.extend(labels.cpu().numpy())\n",
    "\n",
    "    all_preds = np.array(all_preds).flatten()\n",
    "    all_targets = np.array(all_targets)\n",
    "\n",
    "    # Convertir les probabilités en classes pour l'accuracy\n",
    "    predicted_classes = (all_preds >= 0.5).astype(int)\n",
    "\n",
    "    accuracy = accuracy_score(all_targets, predicted_classes)\n",
    "    precision = precision_score(all_targets, predicted_classes)\n",
    "    recall = recall_score(all_targets, predicted_classes)\n",
    "    f1 = f1_score(all_targets, predicted_classes)\n",
    "    roc_auc = roc_auc_score(all_targets, all_preds)\n",
    "    pr_auc = average_precision_score(all_targets, all_preds)\n",
    "\n",
    "    return {\n",
    "        'accuracy': accuracy,\n",
    "        'precision': precision,\n",
    "        'recall': recall,\n",
    "        'f1': f1,\n",
    "        'roc_auc': roc_auc,\n",
    "        'pr_auc': pr_auc\n",
    "    }\n",
    "\n",
    "def write_into_json(dict, filename):\n",
    "    import json\n",
    "    with open(filename, 'w') as f:\n",
    "        json.dump(dict, f)\n",
    "\n",
    "import warnings\n",
    "warnings.simplefilter(\"ignore\", category=UserWarning)"
   ]
  },
  {
   "cell_type": "markdown",
   "metadata": {},
   "source": [
    "# Training"
   ]
  },
  {
   "cell_type": "code",
   "execution_count": null,
   "metadata": {
    "colab": {
     "base_uri": "https://localhost:8080/",
     "height": 1000
    },
    "executionInfo": {
     "elapsed": 3469935,
     "status": "ok",
     "timestamp": 1740070771019,
     "user": {
      "displayName": "Jimmy Walraff",
      "userId": "17365452855707799727"
     },
     "user_tz": -60
    },
    "id": "cLuoVxWE_Kdq",
    "outputId": "547a09d5-77d7-4e6e-eb5f-7a38b91f40d2"
   },
   "outputs": [
    {
     "name": "stdout",
     "output_type": "stream",
     "text": [
      "Fold 1 on 5\n",
      "Testing config 1 on 144\n",
      "Testing config 2 on 144\n",
      "Testing config 3 on 144\n",
      "Testing config 4 on 144\n",
      "Testing config 5 on 144\n",
      "Testing config 6 on 144\n",
      "Testing config 7 on 144\n",
      "Testing config 8 on 144\n",
      "Testing config 9 on 144\n",
      "Testing config 10 on 144\n",
      "Testing config 11 on 144\n",
      "Testing config 12 on 144\n",
      "Testing config 13 on 144\n",
      "Testing config 14 on 144\n",
      "Testing config 15 on 144\n",
      "Testing config 16 on 144\n",
      "Testing config 17 on 144\n",
      "Testing config 18 on 144\n",
      "Testing config 19 on 144\n",
      "Testing config 20 on 144\n",
      "Testing config 21 on 144\n",
      "Testing config 22 on 144\n",
      "Testing config 23 on 144\n",
      "Testing config 24 on 144\n",
      "Testing config 25 on 144\n",
      "Testing config 26 on 144\n",
      "Testing config 27 on 144\n",
      "Testing config 28 on 144\n",
      "Testing config 29 on 144\n",
      "Testing config 30 on 144\n",
      "Testing config 31 on 144\n",
      "Testing config 32 on 144\n",
      "Testing config 33 on 144\n",
      "Testing config 34 on 144\n",
      "Testing config 35 on 144\n",
      "Testing config 36 on 144\n",
      "Testing config 37 on 144\n",
      "Testing config 38 on 144\n",
      "Testing config 39 on 144\n",
      "Testing config 40 on 144\n",
      "Testing config 41 on 144\n",
      "Testing config 42 on 144\n",
      "Testing config 43 on 144\n",
      "Testing config 44 on 144\n",
      "Testing config 45 on 144\n",
      "Testing config 46 on 144\n",
      "Testing config 47 on 144\n",
      "Testing config 48 on 144\n",
      "Testing config 49 on 144\n",
      "Testing config 50 on 144\n",
      "Testing config 51 on 144\n",
      "Testing config 52 on 144\n",
      "Testing config 53 on 144\n",
      "Testing config 54 on 144\n",
      "Testing config 55 on 144\n",
      "Testing config 56 on 144\n",
      "Testing config 57 on 144\n",
      "Testing config 58 on 144\n",
      "Testing config 59 on 144\n",
      "Testing config 60 on 144\n",
      "Testing config 61 on 144\n",
      "Testing config 62 on 144\n",
      "Testing config 63 on 144\n",
      "Testing config 64 on 144\n",
      "Testing config 65 on 144\n",
      "Testing config 66 on 144\n",
      "Testing config 67 on 144\n",
      "Testing config 68 on 144\n",
      "Testing config 69 on 144\n",
      "Testing config 70 on 144\n",
      "Testing config 71 on 144\n",
      "Testing config 72 on 144\n",
      "Testing config 73 on 144\n",
      "Testing config 74 on 144\n",
      "Testing config 75 on 144\n",
      "Testing config 76 on 144\n",
      "Testing config 77 on 144\n",
      "Testing config 78 on 144\n",
      "Testing config 79 on 144\n",
      "Testing config 80 on 144\n",
      "Testing config 81 on 144\n",
      "Testing config 82 on 144\n",
      "Testing config 83 on 144\n",
      "Testing config 84 on 144\n",
      "Testing config 85 on 144\n",
      "Testing config 86 on 144\n",
      "Testing config 87 on 144\n",
      "Testing config 88 on 144\n",
      "Testing config 89 on 144\n",
      "Testing config 90 on 144\n",
      "Testing config 91 on 144\n",
      "Testing config 92 on 144\n",
      "Testing config 93 on 144\n",
      "Testing config 94 on 144\n",
      "Testing config 95 on 144\n",
      "Testing config 96 on 144\n",
      "Testing config 97 on 144\n",
      "Testing config 98 on 144\n",
      "Testing config 99 on 144\n",
      "Testing config 100 on 144\n",
      "Testing config 101 on 144\n",
      "Testing config 102 on 144\n",
      "Testing config 103 on 144\n",
      "Testing config 104 on 144\n",
      "Testing config 105 on 144\n",
      "Testing config 106 on 144\n",
      "Testing config 107 on 144\n",
      "Testing config 108 on 144\n",
      "Testing config 109 on 144\n",
      "Testing config 110 on 144\n",
      "Testing config 111 on 144\n",
      "Testing config 112 on 144\n",
      "Testing config 113 on 144\n",
      "Testing config 114 on 144\n",
      "Testing config 115 on 144\n",
      "Testing config 116 on 144\n",
      "Testing config 117 on 144\n",
      "Testing config 118 on 144\n",
      "Testing config 119 on 144\n",
      "Testing config 120 on 144\n",
      "Testing config 121 on 144\n",
      "Testing config 122 on 144\n",
      "Testing config 123 on 144\n",
      "Testing config 124 on 144\n",
      "Testing config 125 on 144\n",
      "Testing config 126 on 144\n",
      "Testing config 127 on 144\n",
      "Testing config 128 on 144\n",
      "Testing config 129 on 144\n",
      "Testing config 130 on 144\n",
      "Testing config 131 on 144\n",
      "Testing config 132 on 144\n",
      "Testing config 133 on 144\n",
      "Testing config 134 on 144\n",
      "Testing config 135 on 144\n",
      "Testing config 136 on 144\n",
      "Testing config 137 on 144\n",
      "Testing config 138 on 144\n",
      "Testing config 139 on 144\n",
      "Testing config 140 on 144\n",
      "Testing config 141 on 144\n",
      "Testing config 142 on 144\n",
      "Testing config 143 on 144\n",
      "Testing config 144 on 144\n",
      "\n",
      "--------------------------------------Config Done--------------------------------------------\n",
      "\n"
     ]
    },
    {
     "name": "stderr",
     "output_type": "stream",
     "text": [
      "Failed to detect the name of this notebook, you can set it manually with the WANDB_NOTEBOOK_NAME environment variable to enable code saving.\n",
      "\u001b[34m\u001b[1mwandb\u001b[0m: Currently logged in as: \u001b[33mjimmy-walraff02\u001b[0m (\u001b[33mTFE-proteomics\u001b[0m). Use \u001b[1m`wandb login --relogin`\u001b[0m to force relogin\n"
     ]
    },
    {
     "data": {
      "application/vnd.jupyter.widget-view+json": {
       "model_id": "03274d6388ab49959f3b7d60b6df7c01",
       "version_major": 2,
       "version_minor": 0
      },
      "text/plain": [
       "VBox(children=(Label(value='Waiting for wandb.init()...\\r'), FloatProgress(value=0.01111273252301746, max=1.0)…"
      ]
     },
     "metadata": {},
     "output_type": "display_data"
    },
    {
     "data": {
      "text/html": [
       "wandb version 0.19.8 is available!  To upgrade, please run:\n",
       " $ pip install wandb --upgrade"
      ],
      "text/plain": [
       "<IPython.core.display.HTML object>"
      ]
     },
     "metadata": {},
     "output_type": "display_data"
    },
    {
     "data": {
      "text/html": [
       "Tracking run with wandb version 0.16.4"
      ],
      "text/plain": [
       "<IPython.core.display.HTML object>"
      ]
     },
     "metadata": {},
     "output_type": "display_data"
    },
    {
     "data": {
      "text/html": [
       "Run data is saved locally in <code>/home/jwalraff/TFE/wandb/run-20250314_182340-ni5z2bur</code>"
      ],
      "text/plain": [
       "<IPython.core.display.HTML object>"
      ]
     },
     "metadata": {},
     "output_type": "display_data"
    },
    {
     "data": {
      "text/html": [
       "Syncing run <strong><a href='https://wandb.ai/TFE-proteomics/BiLSTM/runs/ni5z2bur' target=\"_blank\">ValidProtocol_BiLSTM_Scratch_fold_1</a></strong> to <a href='https://wandb.ai/TFE-proteomics/BiLSTM' target=\"_blank\">Weights & Biases</a> (<a href='https://wandb.me/run' target=\"_blank\">docs</a>)<br/>"
      ],
      "text/plain": [
       "<IPython.core.display.HTML object>"
      ]
     },
     "metadata": {},
     "output_type": "display_data"
    },
    {
     "data": {
      "text/html": [
       " View project at <a href='https://wandb.ai/TFE-proteomics/BiLSTM' target=\"_blank\">https://wandb.ai/TFE-proteomics/BiLSTM</a>"
      ],
      "text/plain": [
       "<IPython.core.display.HTML object>"
      ]
     },
     "metadata": {},
     "output_type": "display_data"
    },
    {
     "data": {
      "text/html": [
       " View run at <a href='https://wandb.ai/TFE-proteomics/BiLSTM/runs/ni5z2bur' target=\"_blank\">https://wandb.ai/TFE-proteomics/BiLSTM/runs/ni5z2bur</a>"
      ],
      "text/plain": [
       "<IPython.core.display.HTML object>"
      ]
     },
     "metadata": {},
     "output_type": "display_data"
    },
    {
     "data": {
      "application/vnd.jupyter.widget-view+json": {
       "model_id": "a58d8a8e6214439cbd6a26305579f7fd",
       "version_major": 2,
       "version_minor": 0
      },
      "text/plain": [
       "VBox(children=(Label(value='0.018 MB of 0.018 MB uploaded\\r'), FloatProgress(value=1.0, max=1.0)))"
      ]
     },
     "metadata": {},
     "output_type": "display_data"
    },
    {
     "data": {
      "text/html": [
       "<style>\n",
       "    table.wandb td:nth-child(1) { padding: 0 10px; text-align: left ; width: auto;} td:nth-child(2) {text-align: left ; width: 100%}\n",
       "    .wandb-row { display: flex; flex-direction: row; flex-wrap: wrap; justify-content: flex-start; width: 100% }\n",
       "    .wandb-col { display: flex; flex-direction: column; flex-basis: 100%; flex: 1; padding: 10px; }\n",
       "    </style>\n",
       "<div class=\"wandb-row\"><div class=\"wandb-col\"><h3>Run history:</h3><br/><table class=\"wandb\"><tr><td>accuracy</td><td>▁</td></tr><tr><td>f1</td><td>▁</td></tr><tr><td>pr_auc</td><td>▁</td></tr><tr><td>precision</td><td>▁</td></tr><tr><td>recall</td><td>▁</td></tr><tr><td>roc_auc</td><td>▁</td></tr></table><br/></div><div class=\"wandb-col\"><h3>Run summary:</h3><br/><table class=\"wandb\"><tr><td>accuracy</td><td>0.64516</td></tr><tr><td>f1</td><td>0.26667</td></tr><tr><td>pr_auc</td><td>0.31459</td></tr><tr><td>precision</td><td>0.25</td></tr><tr><td>recall</td><td>0.28571</td></tr><tr><td>roc_auc</td><td>0.59524</td></tr></table><br/></div></div>"
      ],
      "text/plain": [
       "<IPython.core.display.HTML object>"
      ]
     },
     "metadata": {},
     "output_type": "display_data"
    },
    {
     "data": {
      "text/html": [
       " View run <strong style=\"color:#cdcd00\">ValidProtocol_BiLSTM_Scratch_fold_1</strong> at: <a href='https://wandb.ai/TFE-proteomics/BiLSTM/runs/ni5z2bur' target=\"_blank\">https://wandb.ai/TFE-proteomics/BiLSTM/runs/ni5z2bur</a><br/>Synced 5 W&B file(s), 0 media file(s), 0 artifact file(s) and 0 other file(s)"
      ],
      "text/plain": [
       "<IPython.core.display.HTML object>"
      ]
     },
     "metadata": {},
     "output_type": "display_data"
    },
    {
     "data": {
      "text/html": [
       "Find logs at: <code>./wandb/run-20250314_182340-ni5z2bur/logs</code>"
      ],
      "text/plain": [
       "<IPython.core.display.HTML object>"
      ]
     },
     "metadata": {},
     "output_type": "display_data"
    },
    {
     "name": "stdout",
     "output_type": "stream",
     "text": [
      "Fold 2 on 5\n",
      "Testing config 1 on 144\n",
      "Testing config 2 on 144\n",
      "Testing config 3 on 144\n",
      "Testing config 4 on 144\n",
      "Testing config 5 on 144\n",
      "Testing config 6 on 144\n",
      "Testing config 7 on 144\n",
      "Testing config 8 on 144\n",
      "Testing config 9 on 144\n",
      "Testing config 10 on 144\n",
      "Testing config 11 on 144\n",
      "Testing config 12 on 144\n",
      "Testing config 13 on 144\n",
      "Testing config 14 on 144\n",
      "Testing config 15 on 144\n",
      "Testing config 16 on 144\n",
      "Testing config 17 on 144\n",
      "Testing config 18 on 144\n",
      "Testing config 19 on 144\n",
      "Testing config 20 on 144\n",
      "Testing config 21 on 144\n",
      "Testing config 22 on 144\n",
      "Testing config 23 on 144\n",
      "Testing config 24 on 144\n",
      "Testing config 25 on 144\n",
      "Testing config 26 on 144\n",
      "Testing config 27 on 144\n",
      "Testing config 28 on 144\n",
      "Testing config 29 on 144\n",
      "Testing config 30 on 144\n",
      "Testing config 31 on 144\n",
      "Testing config 32 on 144\n",
      "Testing config 33 on 144\n",
      "Testing config 34 on 144\n",
      "Testing config 35 on 144\n",
      "Testing config 36 on 144\n",
      "Testing config 37 on 144\n",
      "Testing config 38 on 144\n",
      "Testing config 39 on 144\n",
      "Testing config 40 on 144\n",
      "Testing config 41 on 144\n",
      "Testing config 42 on 144\n",
      "Testing config 43 on 144\n",
      "Testing config 44 on 144\n",
      "Testing config 45 on 144\n",
      "Testing config 46 on 144\n",
      "Testing config 47 on 144\n",
      "Testing config 48 on 144\n",
      "Testing config 49 on 144\n",
      "Testing config 50 on 144\n",
      "Testing config 51 on 144\n",
      "Testing config 52 on 144\n",
      "Testing config 53 on 144\n",
      "Testing config 54 on 144\n",
      "Testing config 55 on 144\n",
      "Testing config 56 on 144\n",
      "Testing config 57 on 144\n",
      "Testing config 58 on 144\n",
      "Testing config 59 on 144\n",
      "Testing config 60 on 144\n",
      "Testing config 61 on 144\n",
      "Testing config 62 on 144\n",
      "Testing config 63 on 144\n",
      "Testing config 64 on 144\n",
      "Testing config 65 on 144\n",
      "Testing config 66 on 144\n",
      "Testing config 67 on 144\n",
      "Testing config 68 on 144\n",
      "Testing config 69 on 144\n",
      "Testing config 70 on 144\n",
      "Testing config 71 on 144\n",
      "Testing config 72 on 144\n",
      "Testing config 73 on 144\n",
      "Testing config 74 on 144\n",
      "Testing config 75 on 144\n",
      "Testing config 76 on 144\n",
      "Testing config 77 on 144\n",
      "Testing config 78 on 144\n",
      "Testing config 79 on 144\n",
      "Testing config 80 on 144\n",
      "Testing config 81 on 144\n",
      "Testing config 82 on 144\n",
      "Testing config 83 on 144\n",
      "Testing config 84 on 144\n",
      "Testing config 85 on 144\n",
      "Testing config 86 on 144\n",
      "Testing config 87 on 144\n",
      "Testing config 88 on 144\n",
      "Testing config 89 on 144\n",
      "Testing config 90 on 144\n",
      "Testing config 91 on 144\n",
      "Testing config 92 on 144\n",
      "Testing config 93 on 144\n",
      "Testing config 94 on 144\n",
      "Testing config 95 on 144\n",
      "Testing config 96 on 144\n",
      "Testing config 97 on 144\n",
      "Testing config 98 on 144\n",
      "Testing config 99 on 144\n",
      "Testing config 100 on 144\n",
      "Testing config 101 on 144\n",
      "Testing config 102 on 144\n",
      "Testing config 103 on 144\n",
      "Testing config 104 on 144\n",
      "Testing config 105 on 144\n",
      "Testing config 106 on 144\n",
      "Testing config 107 on 144\n",
      "Testing config 108 on 144\n",
      "Testing config 109 on 144\n",
      "Testing config 110 on 144\n",
      "Testing config 111 on 144\n",
      "Testing config 112 on 144\n",
      "Testing config 113 on 144\n",
      "Testing config 114 on 144\n",
      "Testing config 115 on 144\n",
      "Testing config 116 on 144\n",
      "Testing config 117 on 144\n",
      "Testing config 118 on 144\n",
      "Testing config 119 on 144\n",
      "Testing config 120 on 144\n",
      "Testing config 121 on 144\n",
      "Testing config 122 on 144\n",
      "Testing config 123 on 144\n",
      "Testing config 124 on 144\n",
      "Testing config 125 on 144\n",
      "Testing config 126 on 144\n",
      "Testing config 127 on 144\n",
      "Testing config 128 on 144\n",
      "Testing config 129 on 144\n",
      "Testing config 130 on 144\n",
      "Testing config 131 on 144\n",
      "Testing config 132 on 144\n",
      "Testing config 133 on 144\n",
      "Testing config 134 on 144\n",
      "Testing config 135 on 144\n",
      "Testing config 136 on 144\n",
      "Testing config 137 on 144\n",
      "Testing config 138 on 144\n",
      "Testing config 139 on 144\n",
      "Testing config 140 on 144\n",
      "Testing config 141 on 144\n",
      "Testing config 142 on 144\n",
      "Testing config 143 on 144\n",
      "Testing config 144 on 144\n",
      "\n",
      "--------------------------------------Config Done--------------------------------------------\n",
      "\n"
     ]
    },
    {
     "data": {
      "text/html": [
       "wandb version 0.19.8 is available!  To upgrade, please run:\n",
       " $ pip install wandb --upgrade"
      ],
      "text/plain": [
       "<IPython.core.display.HTML object>"
      ]
     },
     "metadata": {},
     "output_type": "display_data"
    },
    {
     "data": {
      "text/html": [
       "Tracking run with wandb version 0.16.4"
      ],
      "text/plain": [
       "<IPython.core.display.HTML object>"
      ]
     },
     "metadata": {},
     "output_type": "display_data"
    },
    {
     "data": {
      "text/html": [
       "Run data is saved locally in <code>/home/jwalraff/TFE/wandb/run-20250314_182639-oyo70rpi</code>"
      ],
      "text/plain": [
       "<IPython.core.display.HTML object>"
      ]
     },
     "metadata": {},
     "output_type": "display_data"
    },
    {
     "data": {
      "text/html": [
       "Syncing run <strong><a href='https://wandb.ai/TFE-proteomics/BiLSTM/runs/oyo70rpi' target=\"_blank\">ValidProtocol_BiLSTM_Scratch_fold_2</a></strong> to <a href='https://wandb.ai/TFE-proteomics/BiLSTM' target=\"_blank\">Weights & Biases</a> (<a href='https://wandb.me/run' target=\"_blank\">docs</a>)<br/>"
      ],
      "text/plain": [
       "<IPython.core.display.HTML object>"
      ]
     },
     "metadata": {},
     "output_type": "display_data"
    },
    {
     "data": {
      "text/html": [
       " View project at <a href='https://wandb.ai/TFE-proteomics/BiLSTM' target=\"_blank\">https://wandb.ai/TFE-proteomics/BiLSTM</a>"
      ],
      "text/plain": [
       "<IPython.core.display.HTML object>"
      ]
     },
     "metadata": {},
     "output_type": "display_data"
    },
    {
     "data": {
      "text/html": [
       " View run at <a href='https://wandb.ai/TFE-proteomics/BiLSTM/runs/oyo70rpi' target=\"_blank\">https://wandb.ai/TFE-proteomics/BiLSTM/runs/oyo70rpi</a>"
      ],
      "text/plain": [
       "<IPython.core.display.HTML object>"
      ]
     },
     "metadata": {},
     "output_type": "display_data"
    },
    {
     "data": {
      "application/vnd.jupyter.widget-view+json": {
       "model_id": "e5b1a267b1c14465bb9005dd9b94fbc0",
       "version_major": 2,
       "version_minor": 0
      },
      "text/plain": [
       "VBox(children=(Label(value='0.015 MB of 0.018 MB uploaded\\r'), FloatProgress(value=0.7970033583053474, max=1.0…"
      ]
     },
     "metadata": {},
     "output_type": "display_data"
    },
    {
     "data": {
      "text/html": [
       "<style>\n",
       "    table.wandb td:nth-child(1) { padding: 0 10px; text-align: left ; width: auto;} td:nth-child(2) {text-align: left ; width: 100%}\n",
       "    .wandb-row { display: flex; flex-direction: row; flex-wrap: wrap; justify-content: flex-start; width: 100% }\n",
       "    .wandb-col { display: flex; flex-direction: column; flex-basis: 100%; flex: 1; padding: 10px; }\n",
       "    </style>\n",
       "<div class=\"wandb-row\"><div class=\"wandb-col\"><h3>Run history:</h3><br/><table class=\"wandb\"><tr><td>accuracy</td><td>▁</td></tr><tr><td>f1</td><td>▁</td></tr><tr><td>pr_auc</td><td>▁</td></tr><tr><td>precision</td><td>▁</td></tr><tr><td>recall</td><td>▁</td></tr><tr><td>roc_auc</td><td>▁</td></tr></table><br/></div><div class=\"wandb-col\"><h3>Run summary:</h3><br/><table class=\"wandb\"><tr><td>accuracy</td><td>0.64516</td></tr><tr><td>f1</td><td>0.26667</td></tr><tr><td>pr_auc</td><td>0.40924</td></tr><tr><td>precision</td><td>0.25</td></tr><tr><td>recall</td><td>0.28571</td></tr><tr><td>roc_auc</td><td>0.64286</td></tr></table><br/></div></div>"
      ],
      "text/plain": [
       "<IPython.core.display.HTML object>"
      ]
     },
     "metadata": {},
     "output_type": "display_data"
    },
    {
     "data": {
      "text/html": [
       " View run <strong style=\"color:#cdcd00\">ValidProtocol_BiLSTM_Scratch_fold_2</strong> at: <a href='https://wandb.ai/TFE-proteomics/BiLSTM/runs/oyo70rpi' target=\"_blank\">https://wandb.ai/TFE-proteomics/BiLSTM/runs/oyo70rpi</a><br/>Synced 5 W&B file(s), 0 media file(s), 0 artifact file(s) and 0 other file(s)"
      ],
      "text/plain": [
       "<IPython.core.display.HTML object>"
      ]
     },
     "metadata": {},
     "output_type": "display_data"
    },
    {
     "data": {
      "text/html": [
       "Find logs at: <code>./wandb/run-20250314_182639-oyo70rpi/logs</code>"
      ],
      "text/plain": [
       "<IPython.core.display.HTML object>"
      ]
     },
     "metadata": {},
     "output_type": "display_data"
    },
    {
     "name": "stdout",
     "output_type": "stream",
     "text": [
      "Fold 3 on 5\n",
      "Testing config 1 on 144\n",
      "Testing config 2 on 144\n",
      "Testing config 3 on 144\n",
      "Testing config 4 on 144\n",
      "Testing config 5 on 144\n",
      "Testing config 6 on 144\n",
      "Testing config 7 on 144\n",
      "Testing config 8 on 144\n",
      "Testing config 9 on 144\n",
      "Testing config 10 on 144\n",
      "Testing config 11 on 144\n",
      "Testing config 12 on 144\n",
      "Testing config 13 on 144\n",
      "Testing config 14 on 144\n",
      "Testing config 15 on 144\n",
      "Testing config 16 on 144\n",
      "Testing config 17 on 144\n",
      "Testing config 18 on 144\n",
      "Testing config 19 on 144\n",
      "Testing config 20 on 144\n",
      "Testing config 21 on 144\n",
      "Testing config 22 on 144\n",
      "Testing config 23 on 144\n",
      "Testing config 24 on 144\n",
      "Testing config 25 on 144\n",
      "Testing config 26 on 144\n",
      "Testing config 27 on 144\n",
      "Testing config 28 on 144\n",
      "Testing config 29 on 144\n",
      "Testing config 30 on 144\n",
      "Testing config 31 on 144\n",
      "Testing config 32 on 144\n",
      "Testing config 33 on 144\n",
      "Testing config 34 on 144\n",
      "Testing config 35 on 144\n",
      "Testing config 36 on 144\n",
      "Testing config 37 on 144\n",
      "Testing config 38 on 144\n",
      "Testing config 39 on 144\n",
      "Testing config 40 on 144\n",
      "Testing config 41 on 144\n",
      "Testing config 42 on 144\n",
      "Testing config 43 on 144\n",
      "Testing config 44 on 144\n",
      "Testing config 45 on 144\n",
      "Testing config 46 on 144\n",
      "Testing config 47 on 144\n",
      "Testing config 48 on 144\n",
      "Testing config 49 on 144\n",
      "Testing config 50 on 144\n",
      "Testing config 51 on 144\n",
      "Testing config 52 on 144\n",
      "Testing config 53 on 144\n",
      "Testing config 54 on 144\n",
      "Testing config 55 on 144\n",
      "Testing config 56 on 144\n",
      "Testing config 57 on 144\n",
      "Testing config 58 on 144\n",
      "Testing config 59 on 144\n",
      "Testing config 60 on 144\n",
      "Testing config 61 on 144\n",
      "Testing config 62 on 144\n",
      "Testing config 63 on 144\n",
      "Testing config 64 on 144\n",
      "Testing config 65 on 144\n",
      "Testing config 66 on 144\n",
      "Testing config 67 on 144\n",
      "Testing config 68 on 144\n",
      "Testing config 69 on 144\n",
      "Testing config 70 on 144\n",
      "Testing config 71 on 144\n",
      "Testing config 72 on 144\n",
      "Testing config 73 on 144\n",
      "Testing config 74 on 144\n",
      "Testing config 75 on 144\n",
      "Testing config 76 on 144\n",
      "Testing config 77 on 144\n",
      "Testing config 78 on 144\n",
      "Testing config 79 on 144\n",
      "Testing config 80 on 144\n",
      "Testing config 81 on 144\n",
      "Testing config 82 on 144\n",
      "Testing config 83 on 144\n",
      "Testing config 84 on 144\n",
      "Testing config 85 on 144\n",
      "Testing config 86 on 144\n",
      "Testing config 87 on 144\n",
      "Testing config 88 on 144\n",
      "Testing config 89 on 144\n",
      "Testing config 90 on 144\n",
      "Testing config 91 on 144\n",
      "Testing config 92 on 144\n",
      "Testing config 93 on 144\n",
      "Testing config 94 on 144\n",
      "Testing config 95 on 144\n",
      "Testing config 96 on 144\n",
      "Testing config 97 on 144\n",
      "Testing config 98 on 144\n",
      "Testing config 99 on 144\n",
      "Testing config 100 on 144\n",
      "Testing config 101 on 144\n",
      "Testing config 102 on 144\n",
      "Testing config 103 on 144\n",
      "Testing config 104 on 144\n",
      "Testing config 105 on 144\n",
      "Testing config 106 on 144\n",
      "Testing config 107 on 144\n",
      "Testing config 108 on 144\n",
      "Testing config 109 on 144\n",
      "Testing config 110 on 144\n",
      "Testing config 111 on 144\n",
      "Testing config 112 on 144\n",
      "Testing config 113 on 144\n",
      "Testing config 114 on 144\n",
      "Testing config 115 on 144\n",
      "Testing config 116 on 144\n",
      "Testing config 117 on 144\n",
      "Testing config 118 on 144\n",
      "Testing config 119 on 144\n",
      "Testing config 120 on 144\n",
      "Testing config 121 on 144\n",
      "Testing config 122 on 144\n",
      "Testing config 123 on 144\n",
      "Testing config 124 on 144\n",
      "Testing config 125 on 144\n",
      "Testing config 126 on 144\n",
      "Testing config 127 on 144\n",
      "Testing config 128 on 144\n",
      "Testing config 129 on 144\n",
      "Testing config 130 on 144\n",
      "Testing config 131 on 144\n",
      "Testing config 132 on 144\n",
      "Testing config 133 on 144\n",
      "Testing config 134 on 144\n",
      "Testing config 135 on 144\n",
      "Testing config 136 on 144\n",
      "Testing config 137 on 144\n",
      "Testing config 138 on 144\n",
      "Testing config 139 on 144\n",
      "Testing config 140 on 144\n",
      "Testing config 141 on 144\n",
      "Testing config 142 on 144\n",
      "Testing config 143 on 144\n",
      "Testing config 144 on 144\n",
      "\n",
      "--------------------------------------Config Done--------------------------------------------\n",
      "\n"
     ]
    },
    {
     "data": {
      "text/html": [
       "wandb version 0.19.8 is available!  To upgrade, please run:\n",
       " $ pip install wandb --upgrade"
      ],
      "text/plain": [
       "<IPython.core.display.HTML object>"
      ]
     },
     "metadata": {},
     "output_type": "display_data"
    },
    {
     "data": {
      "text/html": [
       "Tracking run with wandb version 0.16.4"
      ],
      "text/plain": [
       "<IPython.core.display.HTML object>"
      ]
     },
     "metadata": {},
     "output_type": "display_data"
    },
    {
     "data": {
      "text/html": [
       "Run data is saved locally in <code>/home/jwalraff/TFE/wandb/run-20250314_182936-kuueiwrh</code>"
      ],
      "text/plain": [
       "<IPython.core.display.HTML object>"
      ]
     },
     "metadata": {},
     "output_type": "display_data"
    },
    {
     "data": {
      "text/html": [
       "Syncing run <strong><a href='https://wandb.ai/TFE-proteomics/BiLSTM/runs/kuueiwrh' target=\"_blank\">ValidProtocol_BiLSTM_Scratch_fold_3</a></strong> to <a href='https://wandb.ai/TFE-proteomics/BiLSTM' target=\"_blank\">Weights & Biases</a> (<a href='https://wandb.me/run' target=\"_blank\">docs</a>)<br/>"
      ],
      "text/plain": [
       "<IPython.core.display.HTML object>"
      ]
     },
     "metadata": {},
     "output_type": "display_data"
    },
    {
     "data": {
      "text/html": [
       " View project at <a href='https://wandb.ai/TFE-proteomics/BiLSTM' target=\"_blank\">https://wandb.ai/TFE-proteomics/BiLSTM</a>"
      ],
      "text/plain": [
       "<IPython.core.display.HTML object>"
      ]
     },
     "metadata": {},
     "output_type": "display_data"
    },
    {
     "data": {
      "text/html": [
       " View run at <a href='https://wandb.ai/TFE-proteomics/BiLSTM/runs/kuueiwrh' target=\"_blank\">https://wandb.ai/TFE-proteomics/BiLSTM/runs/kuueiwrh</a>"
      ],
      "text/plain": [
       "<IPython.core.display.HTML object>"
      ]
     },
     "metadata": {},
     "output_type": "display_data"
    },
    {
     "data": {
      "application/vnd.jupyter.widget-view+json": {
       "model_id": "fcb6bfb908024d31ac5f52255e0b7376",
       "version_major": 2,
       "version_minor": 0
      },
      "text/plain": [
       "VBox(children=(Label(value='0.014 MB of 0.018 MB uploaded\\r'), FloatProgress(value=0.7631837706360296, max=1.0…"
      ]
     },
     "metadata": {},
     "output_type": "display_data"
    },
    {
     "data": {
      "text/html": [
       "<style>\n",
       "    table.wandb td:nth-child(1) { padding: 0 10px; text-align: left ; width: auto;} td:nth-child(2) {text-align: left ; width: 100%}\n",
       "    .wandb-row { display: flex; flex-direction: row; flex-wrap: wrap; justify-content: flex-start; width: 100% }\n",
       "    .wandb-col { display: flex; flex-direction: column; flex-basis: 100%; flex: 1; padding: 10px; }\n",
       "    </style>\n",
       "<div class=\"wandb-row\"><div class=\"wandb-col\"><h3>Run history:</h3><br/><table class=\"wandb\"><tr><td>accuracy</td><td>▁</td></tr><tr><td>f1</td><td>▁</td></tr><tr><td>pr_auc</td><td>▁</td></tr><tr><td>precision</td><td>▁</td></tr><tr><td>recall</td><td>▁</td></tr><tr><td>roc_auc</td><td>▁</td></tr></table><br/></div><div class=\"wandb-col\"><h3>Run summary:</h3><br/><table class=\"wandb\"><tr><td>accuracy</td><td>0.51613</td></tr><tr><td>f1</td><td>0.0</td></tr><tr><td>pr_auc</td><td>0.21814</td></tr><tr><td>precision</td><td>0.0</td></tr><tr><td>recall</td><td>0.0</td></tr><tr><td>roc_auc</td><td>0.36413</td></tr></table><br/></div></div>"
      ],
      "text/plain": [
       "<IPython.core.display.HTML object>"
      ]
     },
     "metadata": {},
     "output_type": "display_data"
    },
    {
     "data": {
      "text/html": [
       " View run <strong style=\"color:#cdcd00\">ValidProtocol_BiLSTM_Scratch_fold_3</strong> at: <a href='https://wandb.ai/TFE-proteomics/BiLSTM/runs/kuueiwrh' target=\"_blank\">https://wandb.ai/TFE-proteomics/BiLSTM/runs/kuueiwrh</a><br/>Synced 5 W&B file(s), 0 media file(s), 0 artifact file(s) and 0 other file(s)"
      ],
      "text/plain": [
       "<IPython.core.display.HTML object>"
      ]
     },
     "metadata": {},
     "output_type": "display_data"
    },
    {
     "data": {
      "text/html": [
       "Find logs at: <code>./wandb/run-20250314_182936-kuueiwrh/logs</code>"
      ],
      "text/plain": [
       "<IPython.core.display.HTML object>"
      ]
     },
     "metadata": {},
     "output_type": "display_data"
    },
    {
     "name": "stdout",
     "output_type": "stream",
     "text": [
      "Fold 4 on 5\n",
      "Testing config 1 on 144\n",
      "Testing config 2 on 144\n",
      "Testing config 3 on 144\n",
      "Testing config 4 on 144\n",
      "Testing config 5 on 144\n",
      "Testing config 6 on 144\n",
      "Testing config 7 on 144\n",
      "Testing config 8 on 144\n",
      "Testing config 9 on 144\n",
      "Testing config 10 on 144\n",
      "Testing config 11 on 144\n",
      "Testing config 12 on 144\n",
      "Testing config 13 on 144\n",
      "Testing config 14 on 144\n",
      "Testing config 15 on 144\n",
      "Testing config 16 on 144\n",
      "Testing config 17 on 144\n",
      "Testing config 18 on 144\n",
      "Testing config 19 on 144\n",
      "Testing config 20 on 144\n",
      "Testing config 21 on 144\n",
      "Testing config 22 on 144\n",
      "Testing config 23 on 144\n",
      "Testing config 24 on 144\n",
      "Testing config 25 on 144\n",
      "Testing config 26 on 144\n",
      "Testing config 27 on 144\n",
      "Testing config 28 on 144\n",
      "Testing config 29 on 144\n",
      "Testing config 30 on 144\n",
      "Testing config 31 on 144\n",
      "Testing config 32 on 144\n",
      "Testing config 33 on 144\n",
      "Testing config 34 on 144\n",
      "Testing config 35 on 144\n",
      "Testing config 36 on 144\n",
      "Testing config 37 on 144\n",
      "Testing config 38 on 144\n",
      "Testing config 39 on 144\n",
      "Testing config 40 on 144\n",
      "Testing config 41 on 144\n",
      "Testing config 42 on 144\n",
      "Testing config 43 on 144\n",
      "Testing config 44 on 144\n",
      "Testing config 45 on 144\n",
      "Testing config 46 on 144\n",
      "Testing config 47 on 144\n",
      "Testing config 48 on 144\n",
      "Testing config 49 on 144\n",
      "Testing config 50 on 144\n",
      "Testing config 51 on 144\n",
      "Testing config 52 on 144\n",
      "Testing config 53 on 144\n",
      "Testing config 54 on 144\n",
      "Testing config 55 on 144\n",
      "Testing config 56 on 144\n",
      "Testing config 57 on 144\n",
      "Testing config 58 on 144\n",
      "Testing config 59 on 144\n",
      "Testing config 60 on 144\n",
      "Testing config 61 on 144\n",
      "Testing config 62 on 144\n",
      "Testing config 63 on 144\n",
      "Testing config 64 on 144\n",
      "Testing config 65 on 144\n",
      "Testing config 66 on 144\n",
      "Testing config 67 on 144\n",
      "Testing config 68 on 144\n",
      "Testing config 69 on 144\n",
      "Testing config 70 on 144\n",
      "Testing config 71 on 144\n",
      "Testing config 72 on 144\n",
      "Testing config 73 on 144\n",
      "Testing config 74 on 144\n",
      "Testing config 75 on 144\n",
      "Testing config 76 on 144\n",
      "Testing config 77 on 144\n",
      "Testing config 78 on 144\n",
      "Testing config 79 on 144\n",
      "Testing config 80 on 144\n",
      "Testing config 81 on 144\n",
      "Testing config 82 on 144\n",
      "Testing config 83 on 144\n",
      "Testing config 84 on 144\n",
      "Testing config 85 on 144\n",
      "Testing config 86 on 144\n",
      "Testing config 87 on 144\n",
      "Testing config 88 on 144\n",
      "Testing config 89 on 144\n",
      "Testing config 90 on 144\n",
      "Testing config 91 on 144\n",
      "Testing config 92 on 144\n",
      "Testing config 93 on 144\n",
      "Testing config 94 on 144\n",
      "Testing config 95 on 144\n",
      "Testing config 96 on 144\n",
      "Testing config 97 on 144\n",
      "Testing config 98 on 144\n",
      "Testing config 99 on 144\n",
      "Testing config 100 on 144\n",
      "Testing config 101 on 144\n",
      "Testing config 102 on 144\n",
      "Testing config 103 on 144\n",
      "Testing config 104 on 144\n",
      "Testing config 105 on 144\n",
      "Testing config 106 on 144\n",
      "Testing config 107 on 144\n",
      "Testing config 108 on 144\n",
      "Testing config 109 on 144\n",
      "Testing config 110 on 144\n",
      "Testing config 111 on 144\n",
      "Testing config 112 on 144\n",
      "Testing config 113 on 144\n",
      "Testing config 114 on 144\n",
      "Testing config 115 on 144\n",
      "Testing config 116 on 144\n",
      "Testing config 117 on 144\n",
      "Testing config 118 on 144\n",
      "Testing config 119 on 144\n",
      "Testing config 120 on 144\n",
      "Testing config 121 on 144\n",
      "Testing config 122 on 144\n",
      "Testing config 123 on 144\n",
      "Testing config 124 on 144\n",
      "Testing config 125 on 144\n",
      "Testing config 126 on 144\n",
      "Testing config 127 on 144\n",
      "Testing config 128 on 144\n",
      "Testing config 129 on 144\n",
      "Testing config 130 on 144\n",
      "Testing config 131 on 144\n",
      "Testing config 132 on 144\n",
      "Testing config 133 on 144\n",
      "Testing config 134 on 144\n",
      "Testing config 135 on 144\n",
      "Testing config 136 on 144\n",
      "Testing config 137 on 144\n",
      "Testing config 138 on 144\n",
      "Testing config 139 on 144\n",
      "Testing config 140 on 144\n",
      "Testing config 141 on 144\n",
      "Testing config 142 on 144\n",
      "Testing config 143 on 144\n",
      "Testing config 144 on 144\n",
      "\n",
      "--------------------------------------Config Done--------------------------------------------\n",
      "\n"
     ]
    },
    {
     "data": {
      "text/html": [
       "wandb version 0.19.8 is available!  To upgrade, please run:\n",
       " $ pip install wandb --upgrade"
      ],
      "text/plain": [
       "<IPython.core.display.HTML object>"
      ]
     },
     "metadata": {},
     "output_type": "display_data"
    },
    {
     "data": {
      "text/html": [
       "Tracking run with wandb version 0.16.4"
      ],
      "text/plain": [
       "<IPython.core.display.HTML object>"
      ]
     },
     "metadata": {},
     "output_type": "display_data"
    },
    {
     "data": {
      "text/html": [
       "Run data is saved locally in <code>/home/jwalraff/TFE/wandb/run-20250314_183233-4zoio54d</code>"
      ],
      "text/plain": [
       "<IPython.core.display.HTML object>"
      ]
     },
     "metadata": {},
     "output_type": "display_data"
    },
    {
     "data": {
      "text/html": [
       "Syncing run <strong><a href='https://wandb.ai/TFE-proteomics/BiLSTM/runs/4zoio54d' target=\"_blank\">ValidProtocol_BiLSTM_Scratch_fold_4</a></strong> to <a href='https://wandb.ai/TFE-proteomics/BiLSTM' target=\"_blank\">Weights & Biases</a> (<a href='https://wandb.me/run' target=\"_blank\">docs</a>)<br/>"
      ],
      "text/plain": [
       "<IPython.core.display.HTML object>"
      ]
     },
     "metadata": {},
     "output_type": "display_data"
    },
    {
     "data": {
      "text/html": [
       " View project at <a href='https://wandb.ai/TFE-proteomics/BiLSTM' target=\"_blank\">https://wandb.ai/TFE-proteomics/BiLSTM</a>"
      ],
      "text/plain": [
       "<IPython.core.display.HTML object>"
      ]
     },
     "metadata": {},
     "output_type": "display_data"
    },
    {
     "data": {
      "text/html": [
       " View run at <a href='https://wandb.ai/TFE-proteomics/BiLSTM/runs/4zoio54d' target=\"_blank\">https://wandb.ai/TFE-proteomics/BiLSTM/runs/4zoio54d</a>"
      ],
      "text/plain": [
       "<IPython.core.display.HTML object>"
      ]
     },
     "metadata": {},
     "output_type": "display_data"
    },
    {
     "data": {
      "application/vnd.jupyter.widget-view+json": {
       "model_id": "b91dee70a3cb4f4b91ada481e68c1612",
       "version_major": 2,
       "version_minor": 0
      },
      "text/plain": [
       "VBox(children=(Label(value='0.018 MB of 0.018 MB uploaded\\r'), FloatProgress(value=1.0, max=1.0)))"
      ]
     },
     "metadata": {},
     "output_type": "display_data"
    },
    {
     "data": {
      "text/html": [
       "<style>\n",
       "    table.wandb td:nth-child(1) { padding: 0 10px; text-align: left ; width: auto;} td:nth-child(2) {text-align: left ; width: 100%}\n",
       "    .wandb-row { display: flex; flex-direction: row; flex-wrap: wrap; justify-content: flex-start; width: 100% }\n",
       "    .wandb-col { display: flex; flex-direction: column; flex-basis: 100%; flex: 1; padding: 10px; }\n",
       "    </style>\n",
       "<div class=\"wandb-row\"><div class=\"wandb-col\"><h3>Run history:</h3><br/><table class=\"wandb\"><tr><td>accuracy</td><td>▁</td></tr><tr><td>f1</td><td>▁</td></tr><tr><td>pr_auc</td><td>▁</td></tr><tr><td>precision</td><td>▁</td></tr><tr><td>recall</td><td>▁</td></tr><tr><td>roc_auc</td><td>▁</td></tr></table><br/></div><div class=\"wandb-col\"><h3>Run summary:</h3><br/><table class=\"wandb\"><tr><td>accuracy</td><td>0.67742</td></tr><tr><td>f1</td><td>0.44444</td></tr><tr><td>pr_auc</td><td>0.3369</td></tr><tr><td>precision</td><td>0.4</td></tr><tr><td>recall</td><td>0.5</td></tr><tr><td>roc_auc</td><td>0.54891</td></tr></table><br/></div></div>"
      ],
      "text/plain": [
       "<IPython.core.display.HTML object>"
      ]
     },
     "metadata": {},
     "output_type": "display_data"
    },
    {
     "data": {
      "text/html": [
       " View run <strong style=\"color:#cdcd00\">ValidProtocol_BiLSTM_Scratch_fold_4</strong> at: <a href='https://wandb.ai/TFE-proteomics/BiLSTM/runs/4zoio54d' target=\"_blank\">https://wandb.ai/TFE-proteomics/BiLSTM/runs/4zoio54d</a><br/>Synced 5 W&B file(s), 0 media file(s), 0 artifact file(s) and 0 other file(s)"
      ],
      "text/plain": [
       "<IPython.core.display.HTML object>"
      ]
     },
     "metadata": {},
     "output_type": "display_data"
    },
    {
     "data": {
      "text/html": [
       "Find logs at: <code>./wandb/run-20250314_183233-4zoio54d/logs</code>"
      ],
      "text/plain": [
       "<IPython.core.display.HTML object>"
      ]
     },
     "metadata": {},
     "output_type": "display_data"
    },
    {
     "name": "stdout",
     "output_type": "stream",
     "text": [
      "Fold 5 on 5\n",
      "Testing config 1 on 144\n",
      "Testing config 2 on 144\n",
      "Testing config 3 on 144\n",
      "Testing config 4 on 144\n",
      "Testing config 5 on 144\n",
      "Testing config 6 on 144\n",
      "Testing config 7 on 144\n",
      "Testing config 8 on 144\n",
      "Testing config 9 on 144\n",
      "Testing config 10 on 144\n",
      "Testing config 11 on 144\n",
      "Testing config 12 on 144\n",
      "Testing config 13 on 144\n",
      "Testing config 14 on 144\n",
      "Testing config 15 on 144\n",
      "Testing config 16 on 144\n",
      "Testing config 17 on 144\n",
      "Testing config 18 on 144\n",
      "Testing config 19 on 144\n",
      "Testing config 20 on 144\n",
      "Testing config 21 on 144\n",
      "Testing config 22 on 144\n",
      "Testing config 23 on 144\n",
      "Testing config 24 on 144\n",
      "Testing config 25 on 144\n",
      "Testing config 26 on 144\n",
      "Testing config 27 on 144\n",
      "Testing config 28 on 144\n",
      "Testing config 29 on 144\n",
      "Testing config 30 on 144\n",
      "Testing config 31 on 144\n",
      "Testing config 32 on 144\n",
      "Testing config 33 on 144\n",
      "Testing config 34 on 144\n",
      "Testing config 35 on 144\n",
      "Testing config 36 on 144\n",
      "Testing config 37 on 144\n",
      "Testing config 38 on 144\n",
      "Testing config 39 on 144\n",
      "Testing config 40 on 144\n",
      "Testing config 41 on 144\n",
      "Testing config 42 on 144\n",
      "Testing config 43 on 144\n",
      "Testing config 44 on 144\n",
      "Testing config 45 on 144\n",
      "Testing config 46 on 144\n",
      "Testing config 47 on 144\n",
      "Testing config 48 on 144\n",
      "Testing config 49 on 144\n",
      "Testing config 50 on 144\n",
      "Testing config 51 on 144\n",
      "Testing config 52 on 144\n",
      "Testing config 53 on 144\n",
      "Testing config 54 on 144\n",
      "Testing config 55 on 144\n",
      "Testing config 56 on 144\n",
      "Testing config 57 on 144\n",
      "Testing config 58 on 144\n",
      "Testing config 59 on 144\n",
      "Testing config 60 on 144\n",
      "Testing config 61 on 144\n",
      "Testing config 62 on 144\n",
      "Testing config 63 on 144\n",
      "Testing config 64 on 144\n",
      "Testing config 65 on 144\n",
      "Testing config 66 on 144\n",
      "Testing config 67 on 144\n",
      "Testing config 68 on 144\n",
      "Testing config 69 on 144\n",
      "Testing config 70 on 144\n",
      "Testing config 71 on 144\n",
      "Testing config 72 on 144\n",
      "Testing config 73 on 144\n",
      "Testing config 74 on 144\n",
      "Testing config 75 on 144\n",
      "Testing config 76 on 144\n",
      "Testing config 77 on 144\n",
      "Testing config 78 on 144\n",
      "Testing config 79 on 144\n",
      "Testing config 80 on 144\n",
      "Testing config 81 on 144\n",
      "Testing config 82 on 144\n",
      "Testing config 83 on 144\n",
      "Testing config 84 on 144\n",
      "Testing config 85 on 144\n",
      "Testing config 86 on 144\n",
      "Testing config 87 on 144\n",
      "Testing config 88 on 144\n",
      "Testing config 89 on 144\n",
      "Testing config 90 on 144\n",
      "Testing config 91 on 144\n",
      "Testing config 92 on 144\n",
      "Testing config 93 on 144\n",
      "Testing config 94 on 144\n",
      "Testing config 95 on 144\n",
      "Testing config 96 on 144\n",
      "Testing config 97 on 144\n",
      "Testing config 98 on 144\n",
      "Testing config 99 on 144\n",
      "Testing config 100 on 144\n",
      "Testing config 101 on 144\n",
      "Testing config 102 on 144\n",
      "Testing config 103 on 144\n",
      "Testing config 104 on 144\n",
      "Testing config 105 on 144\n",
      "Testing config 106 on 144\n",
      "Testing config 107 on 144\n",
      "Testing config 108 on 144\n",
      "Testing config 109 on 144\n",
      "Testing config 110 on 144\n",
      "Testing config 111 on 144\n",
      "Testing config 112 on 144\n",
      "Testing config 113 on 144\n",
      "Testing config 114 on 144\n",
      "Testing config 115 on 144\n",
      "Testing config 116 on 144\n",
      "Testing config 117 on 144\n",
      "Testing config 118 on 144\n",
      "Testing config 119 on 144\n",
      "Testing config 120 on 144\n",
      "Testing config 121 on 144\n",
      "Testing config 122 on 144\n",
      "Testing config 123 on 144\n",
      "Testing config 124 on 144\n",
      "Testing config 125 on 144\n",
      "Testing config 126 on 144\n",
      "Testing config 127 on 144\n",
      "Testing config 128 on 144\n",
      "Testing config 129 on 144\n",
      "Testing config 130 on 144\n",
      "Testing config 131 on 144\n",
      "Testing config 132 on 144\n",
      "Testing config 133 on 144\n",
      "Testing config 134 on 144\n",
      "Testing config 135 on 144\n",
      "Testing config 136 on 144\n",
      "Testing config 137 on 144\n",
      "Testing config 138 on 144\n",
      "Testing config 139 on 144\n",
      "Testing config 140 on 144\n",
      "Testing config 141 on 144\n",
      "Testing config 142 on 144\n",
      "Testing config 143 on 144\n",
      "Testing config 144 on 144\n",
      "\n",
      "--------------------------------------Config Done--------------------------------------------\n",
      "\n"
     ]
    },
    {
     "data": {
      "text/html": [
       "wandb version 0.19.8 is available!  To upgrade, please run:\n",
       " $ pip install wandb --upgrade"
      ],
      "text/plain": [
       "<IPython.core.display.HTML object>"
      ]
     },
     "metadata": {},
     "output_type": "display_data"
    },
    {
     "data": {
      "text/html": [
       "Tracking run with wandb version 0.16.4"
      ],
      "text/plain": [
       "<IPython.core.display.HTML object>"
      ]
     },
     "metadata": {},
     "output_type": "display_data"
    },
    {
     "data": {
      "text/html": [
       "Run data is saved locally in <code>/home/jwalraff/TFE/wandb/run-20250314_183530-ybftfj28</code>"
      ],
      "text/plain": [
       "<IPython.core.display.HTML object>"
      ]
     },
     "metadata": {},
     "output_type": "display_data"
    },
    {
     "data": {
      "text/html": [
       "Syncing run <strong><a href='https://wandb.ai/TFE-proteomics/BiLSTM/runs/ybftfj28' target=\"_blank\">ValidProtocol_BiLSTM_Scratch_fold_5</a></strong> to <a href='https://wandb.ai/TFE-proteomics/BiLSTM' target=\"_blank\">Weights & Biases</a> (<a href='https://wandb.me/run' target=\"_blank\">docs</a>)<br/>"
      ],
      "text/plain": [
       "<IPython.core.display.HTML object>"
      ]
     },
     "metadata": {},
     "output_type": "display_data"
    },
    {
     "data": {
      "text/html": [
       " View project at <a href='https://wandb.ai/TFE-proteomics/BiLSTM' target=\"_blank\">https://wandb.ai/TFE-proteomics/BiLSTM</a>"
      ],
      "text/plain": [
       "<IPython.core.display.HTML object>"
      ]
     },
     "metadata": {},
     "output_type": "display_data"
    },
    {
     "data": {
      "text/html": [
       " View run at <a href='https://wandb.ai/TFE-proteomics/BiLSTM/runs/ybftfj28' target=\"_blank\">https://wandb.ai/TFE-proteomics/BiLSTM/runs/ybftfj28</a>"
      ],
      "text/plain": [
       "<IPython.core.display.HTML object>"
      ]
     },
     "metadata": {},
     "output_type": "display_data"
    },
    {
     "data": {
      "application/vnd.jupyter.widget-view+json": {
       "model_id": "ece8d465a90341208bc4807e08831520",
       "version_major": 2,
       "version_minor": 0
      },
      "text/plain": [
       "VBox(children=(Label(value='0.018 MB of 0.018 MB uploaded\\r'), FloatProgress(value=1.0, max=1.0)))"
      ]
     },
     "metadata": {},
     "output_type": "display_data"
    },
    {
     "data": {
      "text/html": [
       "<style>\n",
       "    table.wandb td:nth-child(1) { padding: 0 10px; text-align: left ; width: auto;} td:nth-child(2) {text-align: left ; width: 100%}\n",
       "    .wandb-row { display: flex; flex-direction: row; flex-wrap: wrap; justify-content: flex-start; width: 100% }\n",
       "    .wandb-col { display: flex; flex-direction: column; flex-basis: 100%; flex: 1; padding: 10px; }\n",
       "    </style>\n",
       "<div class=\"wandb-row\"><div class=\"wandb-col\"><h3>Run history:</h3><br/><table class=\"wandb\"><tr><td>accuracy</td><td>▁</td></tr><tr><td>f1</td><td>▁</td></tr><tr><td>pr_auc</td><td>▁</td></tr><tr><td>precision</td><td>▁</td></tr><tr><td>recall</td><td>▁</td></tr><tr><td>roc_auc</td><td>▁</td></tr></table><br/></div><div class=\"wandb-col\"><h3>Run summary:</h3><br/><table class=\"wandb\"><tr><td>accuracy</td><td>0.74194</td></tr><tr><td>f1</td><td>0.0</td></tr><tr><td>pr_auc</td><td>0.38805</td></tr><tr><td>precision</td><td>0.0</td></tr><tr><td>recall</td><td>0.0</td></tr><tr><td>roc_auc</td><td>0.54348</td></tr></table><br/></div></div>"
      ],
      "text/plain": [
       "<IPython.core.display.HTML object>"
      ]
     },
     "metadata": {},
     "output_type": "display_data"
    },
    {
     "data": {
      "text/html": [
       " View run <strong style=\"color:#cdcd00\">ValidProtocol_BiLSTM_Scratch_fold_5</strong> at: <a href='https://wandb.ai/TFE-proteomics/BiLSTM/runs/ybftfj28' target=\"_blank\">https://wandb.ai/TFE-proteomics/BiLSTM/runs/ybftfj28</a><br/>Synced 5 W&B file(s), 0 media file(s), 0 artifact file(s) and 0 other file(s)"
      ],
      "text/plain": [
       "<IPython.core.display.HTML object>"
      ]
     },
     "metadata": {},
     "output_type": "display_data"
    },
    {
     "data": {
      "text/html": [
       "Find logs at: <code>./wandb/run-20250314_183530-ybftfj28/logs</code>"
      ],
      "text/plain": [
       "<IPython.core.display.HTML object>"
      ]
     },
     "metadata": {},
     "output_type": "display_data"
    },
    {
     "data": {
      "application/vnd.jupyter.widget-view+json": {
       "model_id": "2d22d45fd329452b80f0c5cade771cda",
       "version_major": 2,
       "version_minor": 0
      },
      "text/plain": [
       "VBox(children=(Label(value='Waiting for wandb.init()...\\r'), FloatProgress(value=0.011112283873889182, max=1.0…"
      ]
     },
     "metadata": {},
     "output_type": "display_data"
    },
    {
     "data": {
      "text/html": [
       "wandb version 0.19.8 is available!  To upgrade, please run:\n",
       " $ pip install wandb --upgrade"
      ],
      "text/plain": [
       "<IPython.core.display.HTML object>"
      ]
     },
     "metadata": {},
     "output_type": "display_data"
    },
    {
     "data": {
      "text/html": [
       "Tracking run with wandb version 0.16.4"
      ],
      "text/plain": [
       "<IPython.core.display.HTML object>"
      ]
     },
     "metadata": {},
     "output_type": "display_data"
    },
    {
     "data": {
      "text/html": [
       "Run data is saved locally in <code>/home/jwalraff/TFE/wandb/run-20250314_183539-6palibp8</code>"
      ],
      "text/plain": [
       "<IPython.core.display.HTML object>"
      ]
     },
     "metadata": {},
     "output_type": "display_data"
    },
    {
     "data": {
      "text/html": [
       "Syncing run <strong><a href='https://wandb.ai/TFE-proteomics/BiLSTM/runs/6palibp8' target=\"_blank\">ValidProtocol_BiLSTM_Scratch_CrossValidation_Summary</a></strong> to <a href='https://wandb.ai/TFE-proteomics/BiLSTM' target=\"_blank\">Weights & Biases</a> (<a href='https://wandb.me/run' target=\"_blank\">docs</a>)<br/>"
      ],
      "text/plain": [
       "<IPython.core.display.HTML object>"
      ]
     },
     "metadata": {},
     "output_type": "display_data"
    },
    {
     "data": {
      "text/html": [
       " View project at <a href='https://wandb.ai/TFE-proteomics/BiLSTM' target=\"_blank\">https://wandb.ai/TFE-proteomics/BiLSTM</a>"
      ],
      "text/plain": [
       "<IPython.core.display.HTML object>"
      ]
     },
     "metadata": {},
     "output_type": "display_data"
    },
    {
     "data": {
      "text/html": [
       " View run at <a href='https://wandb.ai/TFE-proteomics/BiLSTM/runs/6palibp8' target=\"_blank\">https://wandb.ai/TFE-proteomics/BiLSTM/runs/6palibp8</a>"
      ],
      "text/plain": [
       "<IPython.core.display.HTML object>"
      ]
     },
     "metadata": {},
     "output_type": "display_data"
    },
    {
     "data": {
      "application/vnd.jupyter.widget-view+json": {
       "model_id": "5dcd220a74744beeafaec67bcef6e468",
       "version_major": 2,
       "version_minor": 0
      },
      "text/plain": [
       "VBox(children=(Label(value='0.004 MB of 0.019 MB uploaded\\r'), FloatProgress(value=0.2222902633190447, max=1.0…"
      ]
     },
     "metadata": {},
     "output_type": "display_data"
    },
    {
     "data": {
      "text/html": [
       "<style>\n",
       "    table.wandb td:nth-child(1) { padding: 0 10px; text-align: left ; width: auto;} td:nth-child(2) {text-align: left ; width: 100%}\n",
       "    .wandb-row { display: flex; flex-direction: row; flex-wrap: wrap; justify-content: flex-start; width: 100% }\n",
       "    .wandb-col { display: flex; flex-direction: column; flex-basis: 100%; flex: 1; padding: 10px; }\n",
       "    </style>\n",
       "<div class=\"wandb-row\"><div class=\"wandb-col\"><h3>Run history:</h3><br/><table class=\"wandb\"><tr><td>accuracy_mean</td><td>▁</td></tr><tr><td>accuracy_std</td><td>▁</td></tr><tr><td>f1_mean</td><td>▁</td></tr><tr><td>f1_std</td><td>▁</td></tr><tr><td>pr_auc_mean</td><td>▁</td></tr><tr><td>pr_auc_std</td><td>▁</td></tr><tr><td>precision_mean</td><td>▁</td></tr><tr><td>precision_std</td><td>▁</td></tr><tr><td>recall_mean</td><td>▁</td></tr><tr><td>recall_std</td><td>▁</td></tr><tr><td>roc_auc_mean</td><td>▁</td></tr><tr><td>roc_auc_std</td><td>▁</td></tr></table><br/></div><div class=\"wandb-col\"><h3>Run summary:</h3><br/><table class=\"wandb\"><tr><td>accuracy_mean</td><td>0.64516</td></tr><tr><td>accuracy_std</td><td>0.07356</td></tr><tr><td>f1_mean</td><td>0.19556</td></tr><tr><td>f1_std</td><td>0.17236</td></tr><tr><td>pr_auc_mean</td><td>0.33339</td></tr><tr><td>pr_auc_std</td><td>0.06692</td></tr><tr><td>precision_mean</td><td>0.18</td></tr><tr><td>precision_std</td><td>0.15684</td></tr><tr><td>recall_mean</td><td>0.21429</td></tr><tr><td>recall_std</td><td>0.19166</td></tr><tr><td>roc_auc_mean</td><td>0.53892</td></tr><tr><td>roc_auc_std</td><td>0.0945</td></tr></table><br/></div></div>"
      ],
      "text/plain": [
       "<IPython.core.display.HTML object>"
      ]
     },
     "metadata": {},
     "output_type": "display_data"
    },
    {
     "data": {
      "text/html": [
       " View run <strong style=\"color:#cdcd00\">ValidProtocol_BiLSTM_Scratch_CrossValidation_Summary</strong> at: <a href='https://wandb.ai/TFE-proteomics/BiLSTM/runs/6palibp8' target=\"_blank\">https://wandb.ai/TFE-proteomics/BiLSTM/runs/6palibp8</a><br/>Synced 5 W&B file(s), 0 media file(s), 0 artifact file(s) and 0 other file(s)"
      ],
      "text/plain": [
       "<IPython.core.display.HTML object>"
      ]
     },
     "metadata": {},
     "output_type": "display_data"
    },
    {
     "data": {
      "text/html": [
       "Find logs at: <code>./wandb/run-20250314_183539-6palibp8/logs</code>"
      ],
      "text/plain": [
       "<IPython.core.display.HTML object>"
      ]
     },
     "metadata": {},
     "output_type": "display_data"
    },
    {
     "name": "stdout",
     "output_type": "stream",
     "text": [
      "Fold 1 on 5\n",
      "Testing config 1 on 144\n",
      "Testing config 2 on 144\n",
      "Testing config 3 on 144\n",
      "Testing config 4 on 144\n",
      "Testing config 5 on 144\n",
      "Testing config 6 on 144\n",
      "Testing config 7 on 144\n",
      "Testing config 8 on 144\n",
      "Testing config 9 on 144\n",
      "Testing config 10 on 144\n",
      "Testing config 11 on 144\n",
      "Testing config 12 on 144\n",
      "Testing config 13 on 144\n",
      "Testing config 14 on 144\n",
      "Testing config 15 on 144\n",
      "Testing config 16 on 144\n",
      "Testing config 17 on 144\n",
      "Testing config 18 on 144\n",
      "Testing config 19 on 144\n",
      "Testing config 20 on 144\n",
      "Testing config 21 on 144\n",
      "Testing config 22 on 144\n",
      "Testing config 23 on 144\n",
      "Testing config 24 on 144\n",
      "Testing config 25 on 144\n",
      "Testing config 26 on 144\n",
      "Testing config 27 on 144\n",
      "Testing config 28 on 144\n",
      "Testing config 29 on 144\n",
      "Testing config 30 on 144\n",
      "Testing config 31 on 144\n",
      "Testing config 32 on 144\n",
      "Testing config 33 on 144\n",
      "Testing config 34 on 144\n",
      "Testing config 35 on 144\n",
      "Testing config 36 on 144\n",
      "Testing config 37 on 144\n",
      "Testing config 38 on 144\n",
      "Testing config 39 on 144\n",
      "Testing config 40 on 144\n",
      "Testing config 41 on 144\n",
      "Testing config 42 on 144\n",
      "Testing config 43 on 144\n",
      "Testing config 44 on 144\n",
      "Testing config 45 on 144\n",
      "Testing config 46 on 144\n",
      "Testing config 47 on 144\n",
      "Testing config 48 on 144\n",
      "Testing config 49 on 144\n",
      "Testing config 50 on 144\n",
      "Testing config 51 on 144\n",
      "Testing config 52 on 144\n",
      "Testing config 53 on 144\n",
      "Testing config 54 on 144\n",
      "Testing config 55 on 144\n",
      "Testing config 56 on 144\n",
      "Testing config 57 on 144\n",
      "Testing config 58 on 144\n",
      "Testing config 59 on 144\n",
      "Testing config 60 on 144\n",
      "Testing config 61 on 144\n",
      "Testing config 62 on 144\n",
      "Testing config 63 on 144\n",
      "Testing config 64 on 144\n",
      "Testing config 65 on 144\n",
      "Testing config 66 on 144\n",
      "Testing config 67 on 144\n",
      "Testing config 68 on 144\n",
      "Testing config 69 on 144\n",
      "Testing config 70 on 144\n",
      "Testing config 71 on 144\n",
      "Testing config 72 on 144\n",
      "Testing config 73 on 144\n",
      "Testing config 74 on 144\n",
      "Testing config 75 on 144\n",
      "Testing config 76 on 144\n",
      "Testing config 77 on 144\n",
      "Testing config 78 on 144\n",
      "Testing config 79 on 144\n",
      "Testing config 80 on 144\n",
      "Testing config 81 on 144\n",
      "Testing config 82 on 144\n",
      "Testing config 83 on 144\n",
      "Testing config 84 on 144\n",
      "Testing config 85 on 144\n",
      "Testing config 86 on 144\n",
      "Testing config 87 on 144\n",
      "Testing config 88 on 144\n",
      "Testing config 89 on 144\n",
      "Testing config 90 on 144\n",
      "Testing config 91 on 144\n",
      "Testing config 92 on 144\n",
      "Testing config 93 on 144\n",
      "Testing config 94 on 144\n",
      "Testing config 95 on 144\n",
      "Testing config 96 on 144\n",
      "Testing config 97 on 144\n",
      "Testing config 98 on 144\n",
      "Testing config 99 on 144\n",
      "Testing config 100 on 144\n",
      "Testing config 101 on 144\n",
      "Testing config 102 on 144\n",
      "Testing config 103 on 144\n",
      "Testing config 104 on 144\n",
      "Testing config 105 on 144\n",
      "Testing config 106 on 144\n",
      "Testing config 107 on 144\n",
      "Testing config 108 on 144\n",
      "Testing config 109 on 144\n",
      "Testing config 110 on 144\n",
      "Testing config 111 on 144\n",
      "Testing config 112 on 144\n",
      "Testing config 113 on 144\n",
      "Testing config 114 on 144\n",
      "Testing config 115 on 144\n",
      "Testing config 116 on 144\n",
      "Testing config 117 on 144\n",
      "Testing config 118 on 144\n",
      "Testing config 119 on 144\n",
      "Testing config 120 on 144\n",
      "Testing config 121 on 144\n",
      "Testing config 122 on 144\n",
      "Testing config 123 on 144\n",
      "Testing config 124 on 144\n",
      "Testing config 125 on 144\n",
      "Testing config 126 on 144\n",
      "Testing config 127 on 144\n",
      "Testing config 128 on 144\n",
      "Testing config 129 on 144\n",
      "Testing config 130 on 144\n",
      "Testing config 131 on 144\n",
      "Testing config 132 on 144\n",
      "Testing config 133 on 144\n",
      "Testing config 134 on 144\n",
      "Testing config 135 on 144\n",
      "Testing config 136 on 144\n",
      "Testing config 137 on 144\n",
      "Testing config 138 on 144\n",
      "Testing config 139 on 144\n",
      "Testing config 140 on 144\n",
      "Testing config 141 on 144\n",
      "Testing config 142 on 144\n",
      "Testing config 143 on 144\n",
      "Testing config 144 on 144\n",
      "\n",
      "--------------------------------------Config Done--------------------------------------------\n",
      "\n"
     ]
    },
    {
     "data": {
      "text/html": [
       "wandb version 0.19.8 is available!  To upgrade, please run:\n",
       " $ pip install wandb --upgrade"
      ],
      "text/plain": [
       "<IPython.core.display.HTML object>"
      ]
     },
     "metadata": {},
     "output_type": "display_data"
    },
    {
     "data": {
      "text/html": [
       "Tracking run with wandb version 0.16.4"
      ],
      "text/plain": [
       "<IPython.core.display.HTML object>"
      ]
     },
     "metadata": {},
     "output_type": "display_data"
    },
    {
     "data": {
      "text/html": [
       "Run data is saved locally in <code>/home/jwalraff/TFE/wandb/run-20250314_183839-m1cie86g</code>"
      ],
      "text/plain": [
       "<IPython.core.display.HTML object>"
      ]
     },
     "metadata": {},
     "output_type": "display_data"
    },
    {
     "data": {
      "text/html": [
       "Syncing run <strong><a href='https://wandb.ai/TFE-proteomics/BiLSTM/runs/m1cie86g' target=\"_blank\">ValidProtocol_BiLSTM_Scratch_fold_1</a></strong> to <a href='https://wandb.ai/TFE-proteomics/BiLSTM' target=\"_blank\">Weights & Biases</a> (<a href='https://wandb.me/run' target=\"_blank\">docs</a>)<br/>"
      ],
      "text/plain": [
       "<IPython.core.display.HTML object>"
      ]
     },
     "metadata": {},
     "output_type": "display_data"
    },
    {
     "data": {
      "text/html": [
       " View project at <a href='https://wandb.ai/TFE-proteomics/BiLSTM' target=\"_blank\">https://wandb.ai/TFE-proteomics/BiLSTM</a>"
      ],
      "text/plain": [
       "<IPython.core.display.HTML object>"
      ]
     },
     "metadata": {},
     "output_type": "display_data"
    },
    {
     "data": {
      "text/html": [
       " View run at <a href='https://wandb.ai/TFE-proteomics/BiLSTM/runs/m1cie86g' target=\"_blank\">https://wandb.ai/TFE-proteomics/BiLSTM/runs/m1cie86g</a>"
      ],
      "text/plain": [
       "<IPython.core.display.HTML object>"
      ]
     },
     "metadata": {},
     "output_type": "display_data"
    },
    {
     "data": {
      "application/vnd.jupyter.widget-view+json": {
       "model_id": "4b1ba57e14e346338377411c81922835",
       "version_major": 2,
       "version_minor": 0
      },
      "text/plain": [
       "VBox(children=(Label(value='0.018 MB of 0.018 MB uploaded\\r'), FloatProgress(value=0.9859416994004548, max=1.0…"
      ]
     },
     "metadata": {},
     "output_type": "display_data"
    },
    {
     "data": {
      "text/html": [
       "<style>\n",
       "    table.wandb td:nth-child(1) { padding: 0 10px; text-align: left ; width: auto;} td:nth-child(2) {text-align: left ; width: 100%}\n",
       "    .wandb-row { display: flex; flex-direction: row; flex-wrap: wrap; justify-content: flex-start; width: 100% }\n",
       "    .wandb-col { display: flex; flex-direction: column; flex-basis: 100%; flex: 1; padding: 10px; }\n",
       "    </style>\n",
       "<div class=\"wandb-row\"><div class=\"wandb-col\"><h3>Run history:</h3><br/><table class=\"wandb\"><tr><td>accuracy</td><td>▁</td></tr><tr><td>f1</td><td>▁</td></tr><tr><td>pr_auc</td><td>▁</td></tr><tr><td>precision</td><td>▁</td></tr><tr><td>recall</td><td>▁</td></tr><tr><td>roc_auc</td><td>▁</td></tr></table><br/></div><div class=\"wandb-col\"><h3>Run summary:</h3><br/><table class=\"wandb\"><tr><td>accuracy</td><td>0.22581</td></tr><tr><td>f1</td><td>0.36842</td></tr><tr><td>pr_auc</td><td>0.50746</td></tr><tr><td>precision</td><td>0.22581</td></tr><tr><td>recall</td><td>1.0</td></tr><tr><td>roc_auc</td><td>0.66071</td></tr></table><br/></div></div>"
      ],
      "text/plain": [
       "<IPython.core.display.HTML object>"
      ]
     },
     "metadata": {},
     "output_type": "display_data"
    },
    {
     "data": {
      "text/html": [
       " View run <strong style=\"color:#cdcd00\">ValidProtocol_BiLSTM_Scratch_fold_1</strong> at: <a href='https://wandb.ai/TFE-proteomics/BiLSTM/runs/m1cie86g' target=\"_blank\">https://wandb.ai/TFE-proteomics/BiLSTM/runs/m1cie86g</a><br/>Synced 5 W&B file(s), 0 media file(s), 0 artifact file(s) and 0 other file(s)"
      ],
      "text/plain": [
       "<IPython.core.display.HTML object>"
      ]
     },
     "metadata": {},
     "output_type": "display_data"
    },
    {
     "data": {
      "text/html": [
       "Find logs at: <code>./wandb/run-20250314_183839-m1cie86g/logs</code>"
      ],
      "text/plain": [
       "<IPython.core.display.HTML object>"
      ]
     },
     "metadata": {},
     "output_type": "display_data"
    },
    {
     "name": "stdout",
     "output_type": "stream",
     "text": [
      "Fold 2 on 5\n",
      "Testing config 1 on 144\n",
      "Testing config 2 on 144\n",
      "Testing config 3 on 144\n",
      "Testing config 4 on 144\n",
      "Testing config 5 on 144\n",
      "Testing config 6 on 144\n",
      "Testing config 7 on 144\n",
      "Testing config 8 on 144\n",
      "Testing config 9 on 144\n",
      "Testing config 10 on 144\n",
      "Testing config 11 on 144\n",
      "Testing config 12 on 144\n",
      "Testing config 13 on 144\n",
      "Testing config 14 on 144\n",
      "Testing config 15 on 144\n",
      "Testing config 16 on 144\n",
      "Testing config 17 on 144\n",
      "Testing config 18 on 144\n",
      "Testing config 19 on 144\n",
      "Testing config 20 on 144\n",
      "Testing config 21 on 144\n",
      "Testing config 22 on 144\n",
      "Testing config 23 on 144\n",
      "Testing config 24 on 144\n",
      "Testing config 25 on 144\n",
      "Testing config 26 on 144\n",
      "Testing config 27 on 144\n",
      "Testing config 28 on 144\n",
      "Testing config 29 on 144\n",
      "Testing config 30 on 144\n",
      "Testing config 31 on 144\n",
      "Testing config 32 on 144\n",
      "Testing config 33 on 144\n",
      "Testing config 34 on 144\n",
      "Testing config 35 on 144\n",
      "Testing config 36 on 144\n",
      "Testing config 37 on 144\n",
      "Testing config 38 on 144\n",
      "Testing config 39 on 144\n",
      "Testing config 40 on 144\n",
      "Testing config 41 on 144\n",
      "Testing config 42 on 144\n",
      "Testing config 43 on 144\n",
      "Testing config 44 on 144\n",
      "Testing config 45 on 144\n",
      "Testing config 46 on 144\n",
      "Testing config 47 on 144\n",
      "Testing config 48 on 144\n",
      "Testing config 49 on 144\n",
      "Testing config 50 on 144\n",
      "Testing config 51 on 144\n",
      "Testing config 52 on 144\n",
      "Testing config 53 on 144\n",
      "Testing config 54 on 144\n",
      "Testing config 55 on 144\n",
      "Testing config 56 on 144\n",
      "Testing config 57 on 144\n",
      "Testing config 58 on 144\n",
      "Testing config 59 on 144\n",
      "Testing config 60 on 144\n",
      "Testing config 61 on 144\n",
      "Testing config 62 on 144\n",
      "Testing config 63 on 144\n",
      "Testing config 64 on 144\n",
      "Testing config 65 on 144\n",
      "Testing config 66 on 144\n",
      "Testing config 67 on 144\n",
      "Testing config 68 on 144\n",
      "Testing config 69 on 144\n",
      "Testing config 70 on 144\n",
      "Testing config 71 on 144\n",
      "Testing config 72 on 144\n",
      "Testing config 73 on 144\n",
      "Testing config 74 on 144\n",
      "Testing config 75 on 144\n",
      "Testing config 76 on 144\n",
      "Testing config 77 on 144\n",
      "Testing config 78 on 144\n",
      "Testing config 79 on 144\n",
      "Testing config 80 on 144\n",
      "Testing config 81 on 144\n",
      "Testing config 82 on 144\n",
      "Testing config 83 on 144\n",
      "Testing config 84 on 144\n",
      "Testing config 85 on 144\n",
      "Testing config 86 on 144\n",
      "Testing config 87 on 144\n",
      "Testing config 88 on 144\n",
      "Testing config 89 on 144\n",
      "Testing config 90 on 144\n",
      "Testing config 91 on 144\n",
      "Testing config 92 on 144\n",
      "Testing config 93 on 144\n",
      "Testing config 94 on 144\n",
      "Testing config 95 on 144\n",
      "Testing config 96 on 144\n",
      "Testing config 97 on 144\n",
      "Testing config 98 on 144\n",
      "Testing config 99 on 144\n",
      "Testing config 100 on 144\n",
      "Testing config 101 on 144\n",
      "Testing config 102 on 144\n",
      "Testing config 103 on 144\n",
      "Testing config 104 on 144\n",
      "Testing config 105 on 144\n",
      "Testing config 106 on 144\n",
      "Testing config 107 on 144\n",
      "Testing config 108 on 144\n",
      "Testing config 109 on 144\n",
      "Testing config 110 on 144\n",
      "Testing config 111 on 144\n",
      "Testing config 112 on 144\n",
      "Testing config 113 on 144\n",
      "Testing config 114 on 144\n",
      "Testing config 115 on 144\n",
      "Testing config 116 on 144\n",
      "Testing config 117 on 144\n",
      "Testing config 118 on 144\n",
      "Testing config 119 on 144\n",
      "Testing config 120 on 144\n",
      "Testing config 121 on 144\n",
      "Testing config 122 on 144\n",
      "Testing config 123 on 144\n",
      "Testing config 124 on 144\n",
      "Testing config 125 on 144\n",
      "Testing config 126 on 144\n",
      "Testing config 127 on 144\n",
      "Testing config 128 on 144\n",
      "Testing config 129 on 144\n",
      "Testing config 130 on 144\n",
      "Testing config 131 on 144\n",
      "Testing config 132 on 144\n",
      "Testing config 133 on 144\n",
      "Testing config 134 on 144\n",
      "Testing config 135 on 144\n",
      "Testing config 136 on 144\n",
      "Testing config 137 on 144\n",
      "Testing config 138 on 144\n",
      "Testing config 139 on 144\n",
      "Testing config 140 on 144\n",
      "Testing config 141 on 144\n",
      "Testing config 142 on 144\n",
      "Testing config 143 on 144\n",
      "Testing config 144 on 144\n",
      "\n",
      "--------------------------------------Config Done--------------------------------------------\n",
      "\n"
     ]
    },
    {
     "data": {
      "text/html": [
       "wandb version 0.19.8 is available!  To upgrade, please run:\n",
       " $ pip install wandb --upgrade"
      ],
      "text/plain": [
       "<IPython.core.display.HTML object>"
      ]
     },
     "metadata": {},
     "output_type": "display_data"
    },
    {
     "data": {
      "text/html": [
       "Tracking run with wandb version 0.16.4"
      ],
      "text/plain": [
       "<IPython.core.display.HTML object>"
      ]
     },
     "metadata": {},
     "output_type": "display_data"
    },
    {
     "data": {
      "text/html": [
       "Run data is saved locally in <code>/home/jwalraff/TFE/wandb/run-20250314_184139-buwz3gnz</code>"
      ],
      "text/plain": [
       "<IPython.core.display.HTML object>"
      ]
     },
     "metadata": {},
     "output_type": "display_data"
    },
    {
     "data": {
      "text/html": [
       "Syncing run <strong><a href='https://wandb.ai/TFE-proteomics/BiLSTM/runs/buwz3gnz' target=\"_blank\">ValidProtocol_BiLSTM_Scratch_fold_2</a></strong> to <a href='https://wandb.ai/TFE-proteomics/BiLSTM' target=\"_blank\">Weights & Biases</a> (<a href='https://wandb.me/run' target=\"_blank\">docs</a>)<br/>"
      ],
      "text/plain": [
       "<IPython.core.display.HTML object>"
      ]
     },
     "metadata": {},
     "output_type": "display_data"
    },
    {
     "data": {
      "text/html": [
       " View project at <a href='https://wandb.ai/TFE-proteomics/BiLSTM' target=\"_blank\">https://wandb.ai/TFE-proteomics/BiLSTM</a>"
      ],
      "text/plain": [
       "<IPython.core.display.HTML object>"
      ]
     },
     "metadata": {},
     "output_type": "display_data"
    },
    {
     "data": {
      "text/html": [
       " View run at <a href='https://wandb.ai/TFE-proteomics/BiLSTM/runs/buwz3gnz' target=\"_blank\">https://wandb.ai/TFE-proteomics/BiLSTM/runs/buwz3gnz</a>"
      ],
      "text/plain": [
       "<IPython.core.display.HTML object>"
      ]
     },
     "metadata": {},
     "output_type": "display_data"
    },
    {
     "data": {
      "application/vnd.jupyter.widget-view+json": {
       "model_id": "e50126e84cbd488eab40c40e6ce02d14",
       "version_major": 2,
       "version_minor": 0
      },
      "text/plain": [
       "VBox(children=(Label(value='0.018 MB of 0.018 MB uploaded\\r'), FloatProgress(value=1.0, max=1.0)))"
      ]
     },
     "metadata": {},
     "output_type": "display_data"
    },
    {
     "data": {
      "text/html": [
       "<style>\n",
       "    table.wandb td:nth-child(1) { padding: 0 10px; text-align: left ; width: auto;} td:nth-child(2) {text-align: left ; width: 100%}\n",
       "    .wandb-row { display: flex; flex-direction: row; flex-wrap: wrap; justify-content: flex-start; width: 100% }\n",
       "    .wandb-col { display: flex; flex-direction: column; flex-basis: 100%; flex: 1; padding: 10px; }\n",
       "    </style>\n",
       "<div class=\"wandb-row\"><div class=\"wandb-col\"><h3>Run history:</h3><br/><table class=\"wandb\"><tr><td>accuracy</td><td>▁</td></tr><tr><td>f1</td><td>▁</td></tr><tr><td>pr_auc</td><td>▁</td></tr><tr><td>precision</td><td>▁</td></tr><tr><td>recall</td><td>▁</td></tr><tr><td>roc_auc</td><td>▁</td></tr></table><br/></div><div class=\"wandb-col\"><h3>Run summary:</h3><br/><table class=\"wandb\"><tr><td>accuracy</td><td>0.22581</td></tr><tr><td>f1</td><td>0.36842</td></tr><tr><td>pr_auc</td><td>0.43645</td></tr><tr><td>precision</td><td>0.22581</td></tr><tr><td>recall</td><td>1.0</td></tr><tr><td>roc_auc</td><td>0.69643</td></tr></table><br/></div></div>"
      ],
      "text/plain": [
       "<IPython.core.display.HTML object>"
      ]
     },
     "metadata": {},
     "output_type": "display_data"
    },
    {
     "data": {
      "text/html": [
       " View run <strong style=\"color:#cdcd00\">ValidProtocol_BiLSTM_Scratch_fold_2</strong> at: <a href='https://wandb.ai/TFE-proteomics/BiLSTM/runs/buwz3gnz' target=\"_blank\">https://wandb.ai/TFE-proteomics/BiLSTM/runs/buwz3gnz</a><br/>Synced 5 W&B file(s), 0 media file(s), 0 artifact file(s) and 0 other file(s)"
      ],
      "text/plain": [
       "<IPython.core.display.HTML object>"
      ]
     },
     "metadata": {},
     "output_type": "display_data"
    },
    {
     "data": {
      "text/html": [
       "Find logs at: <code>./wandb/run-20250314_184139-buwz3gnz/logs</code>"
      ],
      "text/plain": [
       "<IPython.core.display.HTML object>"
      ]
     },
     "metadata": {},
     "output_type": "display_data"
    },
    {
     "name": "stdout",
     "output_type": "stream",
     "text": [
      "Fold 3 on 5\n",
      "Testing config 1 on 144\n",
      "Testing config 2 on 144\n",
      "Testing config 3 on 144\n",
      "Testing config 4 on 144\n",
      "Testing config 5 on 144\n",
      "Testing config 6 on 144\n",
      "Testing config 7 on 144\n",
      "Testing config 8 on 144\n",
      "Testing config 9 on 144\n",
      "Testing config 10 on 144\n",
      "Testing config 11 on 144\n",
      "Testing config 12 on 144\n",
      "Testing config 13 on 144\n",
      "Testing config 14 on 144\n",
      "Testing config 15 on 144\n",
      "Testing config 16 on 144\n",
      "Testing config 17 on 144\n",
      "Testing config 18 on 144\n",
      "Testing config 19 on 144\n",
      "Testing config 20 on 144\n",
      "Testing config 21 on 144\n",
      "Testing config 22 on 144\n",
      "Testing config 23 on 144\n",
      "Testing config 24 on 144\n",
      "Testing config 25 on 144\n",
      "Testing config 26 on 144\n",
      "Testing config 27 on 144\n",
      "Testing config 28 on 144\n",
      "Testing config 29 on 144\n",
      "Testing config 30 on 144\n",
      "Testing config 31 on 144\n",
      "Testing config 32 on 144\n",
      "Testing config 33 on 144\n",
      "Testing config 34 on 144\n",
      "Testing config 35 on 144\n",
      "Testing config 36 on 144\n",
      "Testing config 37 on 144\n",
      "Testing config 38 on 144\n",
      "Testing config 39 on 144\n",
      "Testing config 40 on 144\n",
      "Testing config 41 on 144\n",
      "Testing config 42 on 144\n",
      "Testing config 43 on 144\n",
      "Testing config 44 on 144\n",
      "Testing config 45 on 144\n",
      "Testing config 46 on 144\n",
      "Testing config 47 on 144\n",
      "Testing config 48 on 144\n",
      "Testing config 49 on 144\n",
      "Testing config 50 on 144\n",
      "Testing config 51 on 144\n",
      "Testing config 52 on 144\n",
      "Testing config 53 on 144\n",
      "Testing config 54 on 144\n",
      "Testing config 55 on 144\n",
      "Testing config 56 on 144\n",
      "Testing config 57 on 144\n",
      "Testing config 58 on 144\n",
      "Testing config 59 on 144\n",
      "Testing config 60 on 144\n",
      "Testing config 61 on 144\n",
      "Testing config 62 on 144\n",
      "Testing config 63 on 144\n",
      "Testing config 64 on 144\n",
      "Testing config 65 on 144\n",
      "Testing config 66 on 144\n",
      "Testing config 67 on 144\n",
      "Testing config 68 on 144\n",
      "Testing config 69 on 144\n",
      "Testing config 70 on 144\n",
      "Testing config 71 on 144\n",
      "Testing config 72 on 144\n",
      "Testing config 73 on 144\n",
      "Testing config 74 on 144\n",
      "Testing config 75 on 144\n",
      "Testing config 76 on 144\n",
      "Testing config 77 on 144\n",
      "Testing config 78 on 144\n",
      "Testing config 79 on 144\n",
      "Testing config 80 on 144\n",
      "Testing config 81 on 144\n",
      "Testing config 82 on 144\n",
      "Testing config 83 on 144\n",
      "Testing config 84 on 144\n",
      "Testing config 85 on 144\n",
      "Testing config 86 on 144\n",
      "Testing config 87 on 144\n",
      "Testing config 88 on 144\n",
      "Testing config 89 on 144\n",
      "Testing config 90 on 144\n",
      "Testing config 91 on 144\n",
      "Testing config 92 on 144\n",
      "Testing config 93 on 144\n",
      "Testing config 94 on 144\n",
      "Testing config 95 on 144\n",
      "Testing config 96 on 144\n",
      "Testing config 97 on 144\n",
      "Testing config 98 on 144\n",
      "Testing config 99 on 144\n",
      "Testing config 100 on 144\n",
      "Testing config 101 on 144\n",
      "Testing config 102 on 144\n",
      "Testing config 103 on 144\n",
      "Testing config 104 on 144\n",
      "Testing config 105 on 144\n",
      "Testing config 106 on 144\n",
      "Testing config 107 on 144\n",
      "Testing config 108 on 144\n",
      "Testing config 109 on 144\n",
      "Testing config 110 on 144\n",
      "Testing config 111 on 144\n",
      "Testing config 112 on 144\n",
      "Testing config 113 on 144\n",
      "Testing config 114 on 144\n",
      "Testing config 115 on 144\n",
      "Testing config 116 on 144\n",
      "Testing config 117 on 144\n",
      "Testing config 118 on 144\n",
      "Testing config 119 on 144\n",
      "Testing config 120 on 144\n",
      "Testing config 121 on 144\n",
      "Testing config 122 on 144\n",
      "Testing config 123 on 144\n",
      "Testing config 124 on 144\n",
      "Testing config 125 on 144\n",
      "Testing config 126 on 144\n",
      "Testing config 127 on 144\n",
      "Testing config 128 on 144\n",
      "Testing config 129 on 144\n",
      "Testing config 130 on 144\n",
      "Testing config 131 on 144\n",
      "Testing config 132 on 144\n",
      "Testing config 133 on 144\n",
      "Testing config 134 on 144\n",
      "Testing config 135 on 144\n",
      "Testing config 136 on 144\n",
      "Testing config 137 on 144\n",
      "Testing config 138 on 144\n",
      "Testing config 139 on 144\n",
      "Testing config 140 on 144\n",
      "Testing config 141 on 144\n",
      "Testing config 142 on 144\n",
      "Testing config 143 on 144\n",
      "Testing config 144 on 144\n",
      "\n",
      "--------------------------------------Config Done--------------------------------------------\n",
      "\n"
     ]
    },
    {
     "data": {
      "text/html": [
       "wandb version 0.19.8 is available!  To upgrade, please run:\n",
       " $ pip install wandb --upgrade"
      ],
      "text/plain": [
       "<IPython.core.display.HTML object>"
      ]
     },
     "metadata": {},
     "output_type": "display_data"
    },
    {
     "data": {
      "text/html": [
       "Tracking run with wandb version 0.16.4"
      ],
      "text/plain": [
       "<IPython.core.display.HTML object>"
      ]
     },
     "metadata": {},
     "output_type": "display_data"
    },
    {
     "data": {
      "text/html": [
       "Run data is saved locally in <code>/home/jwalraff/TFE/wandb/run-20250314_184439-f6cu914f</code>"
      ],
      "text/plain": [
       "<IPython.core.display.HTML object>"
      ]
     },
     "metadata": {},
     "output_type": "display_data"
    },
    {
     "data": {
      "text/html": [
       "Syncing run <strong><a href='https://wandb.ai/TFE-proteomics/BiLSTM/runs/f6cu914f' target=\"_blank\">ValidProtocol_BiLSTM_Scratch_fold_3</a></strong> to <a href='https://wandb.ai/TFE-proteomics/BiLSTM' target=\"_blank\">Weights & Biases</a> (<a href='https://wandb.me/run' target=\"_blank\">docs</a>)<br/>"
      ],
      "text/plain": [
       "<IPython.core.display.HTML object>"
      ]
     },
     "metadata": {},
     "output_type": "display_data"
    },
    {
     "data": {
      "text/html": [
       " View project at <a href='https://wandb.ai/TFE-proteomics/BiLSTM' target=\"_blank\">https://wandb.ai/TFE-proteomics/BiLSTM</a>"
      ],
      "text/plain": [
       "<IPython.core.display.HTML object>"
      ]
     },
     "metadata": {},
     "output_type": "display_data"
    },
    {
     "data": {
      "text/html": [
       " View run at <a href='https://wandb.ai/TFE-proteomics/BiLSTM/runs/f6cu914f' target=\"_blank\">https://wandb.ai/TFE-proteomics/BiLSTM/runs/f6cu914f</a>"
      ],
      "text/plain": [
       "<IPython.core.display.HTML object>"
      ]
     },
     "metadata": {},
     "output_type": "display_data"
    },
    {
     "data": {
      "application/vnd.jupyter.widget-view+json": {
       "model_id": "d737c6be0a6e403c912b6616344bb56f",
       "version_major": 2,
       "version_minor": 0
      },
      "text/plain": [
       "VBox(children=(Label(value='0.018 MB of 0.018 MB uploaded\\r'), FloatProgress(value=1.0, max=1.0)))"
      ]
     },
     "metadata": {},
     "output_type": "display_data"
    },
    {
     "data": {
      "text/html": [
       "<style>\n",
       "    table.wandb td:nth-child(1) { padding: 0 10px; text-align: left ; width: auto;} td:nth-child(2) {text-align: left ; width: 100%}\n",
       "    .wandb-row { display: flex; flex-direction: row; flex-wrap: wrap; justify-content: flex-start; width: 100% }\n",
       "    .wandb-col { display: flex; flex-direction: column; flex-basis: 100%; flex: 1; padding: 10px; }\n",
       "    </style>\n",
       "<div class=\"wandb-row\"><div class=\"wandb-col\"><h3>Run history:</h3><br/><table class=\"wandb\"><tr><td>accuracy</td><td>▁</td></tr><tr><td>f1</td><td>▁</td></tr><tr><td>pr_auc</td><td>▁</td></tr><tr><td>precision</td><td>▁</td></tr><tr><td>recall</td><td>▁</td></tr><tr><td>roc_auc</td><td>▁</td></tr></table><br/></div><div class=\"wandb-col\"><h3>Run summary:</h3><br/><table class=\"wandb\"><tr><td>accuracy</td><td>0.51613</td></tr><tr><td>f1</td><td>0.11765</td></tr><tr><td>pr_auc</td><td>0.25427</td></tr><tr><td>precision</td><td>0.11111</td></tr><tr><td>recall</td><td>0.125</td></tr><tr><td>roc_auc</td><td>0.41848</td></tr></table><br/></div></div>"
      ],
      "text/plain": [
       "<IPython.core.display.HTML object>"
      ]
     },
     "metadata": {},
     "output_type": "display_data"
    },
    {
     "data": {
      "text/html": [
       " View run <strong style=\"color:#cdcd00\">ValidProtocol_BiLSTM_Scratch_fold_3</strong> at: <a href='https://wandb.ai/TFE-proteomics/BiLSTM/runs/f6cu914f' target=\"_blank\">https://wandb.ai/TFE-proteomics/BiLSTM/runs/f6cu914f</a><br/>Synced 5 W&B file(s), 0 media file(s), 0 artifact file(s) and 0 other file(s)"
      ],
      "text/plain": [
       "<IPython.core.display.HTML object>"
      ]
     },
     "metadata": {},
     "output_type": "display_data"
    },
    {
     "data": {
      "text/html": [
       "Find logs at: <code>./wandb/run-20250314_184439-f6cu914f/logs</code>"
      ],
      "text/plain": [
       "<IPython.core.display.HTML object>"
      ]
     },
     "metadata": {},
     "output_type": "display_data"
    },
    {
     "name": "stdout",
     "output_type": "stream",
     "text": [
      "Fold 4 on 5\n",
      "Testing config 1 on 144\n",
      "Testing config 2 on 144\n",
      "Testing config 3 on 144\n",
      "Testing config 4 on 144\n",
      "Testing config 5 on 144\n",
      "Testing config 6 on 144\n",
      "Testing config 7 on 144\n",
      "Testing config 8 on 144\n",
      "Testing config 9 on 144\n",
      "Testing config 10 on 144\n",
      "Testing config 11 on 144\n",
      "Testing config 12 on 144\n",
      "Testing config 13 on 144\n",
      "Testing config 14 on 144\n",
      "Testing config 15 on 144\n",
      "Testing config 16 on 144\n",
      "Testing config 17 on 144\n",
      "Testing config 18 on 144\n",
      "Testing config 19 on 144\n",
      "Testing config 20 on 144\n",
      "Testing config 21 on 144\n",
      "Testing config 22 on 144\n",
      "Testing config 23 on 144\n",
      "Testing config 24 on 144\n",
      "Testing config 25 on 144\n",
      "Testing config 26 on 144\n",
      "Testing config 27 on 144\n",
      "Testing config 28 on 144\n",
      "Testing config 29 on 144\n",
      "Testing config 30 on 144\n",
      "Testing config 31 on 144\n",
      "Testing config 32 on 144\n",
      "Testing config 33 on 144\n",
      "Testing config 34 on 144\n",
      "Testing config 35 on 144\n",
      "Testing config 36 on 144\n",
      "Testing config 37 on 144\n",
      "Testing config 38 on 144\n",
      "Testing config 39 on 144\n",
      "Testing config 40 on 144\n",
      "Testing config 41 on 144\n",
      "Testing config 42 on 144\n",
      "Testing config 43 on 144\n",
      "Testing config 44 on 144\n",
      "Testing config 45 on 144\n",
      "Testing config 46 on 144\n",
      "Testing config 47 on 144\n",
      "Testing config 48 on 144\n",
      "Testing config 49 on 144\n",
      "Testing config 50 on 144\n",
      "Testing config 51 on 144\n",
      "Testing config 52 on 144\n",
      "Testing config 53 on 144\n",
      "Testing config 54 on 144\n",
      "Testing config 55 on 144\n",
      "Testing config 56 on 144\n",
      "Testing config 57 on 144\n",
      "Testing config 58 on 144\n",
      "Testing config 59 on 144\n",
      "Testing config 60 on 144\n",
      "Testing config 61 on 144\n",
      "Testing config 62 on 144\n",
      "Testing config 63 on 144\n",
      "Testing config 64 on 144\n",
      "Testing config 65 on 144\n",
      "Testing config 66 on 144\n",
      "Testing config 67 on 144\n",
      "Testing config 68 on 144\n",
      "Testing config 69 on 144\n",
      "Testing config 70 on 144\n",
      "Testing config 71 on 144\n",
      "Testing config 72 on 144\n",
      "Testing config 73 on 144\n",
      "Testing config 74 on 144\n",
      "Testing config 75 on 144\n",
      "Testing config 76 on 144\n",
      "Testing config 77 on 144\n",
      "Testing config 78 on 144\n",
      "Testing config 79 on 144\n",
      "Testing config 80 on 144\n",
      "Testing config 81 on 144\n",
      "Testing config 82 on 144\n",
      "Testing config 83 on 144\n",
      "Testing config 84 on 144\n",
      "Testing config 85 on 144\n",
      "Testing config 86 on 144\n",
      "Testing config 87 on 144\n",
      "Testing config 88 on 144\n",
      "Testing config 89 on 144\n",
      "Testing config 90 on 144\n",
      "Testing config 91 on 144\n",
      "Testing config 92 on 144\n",
      "Testing config 93 on 144\n",
      "Testing config 94 on 144\n",
      "Testing config 95 on 144\n",
      "Testing config 96 on 144\n",
      "Testing config 97 on 144\n",
      "Testing config 98 on 144\n",
      "Testing config 99 on 144\n",
      "Testing config 100 on 144\n",
      "Testing config 101 on 144\n",
      "Testing config 102 on 144\n",
      "Testing config 103 on 144\n",
      "Testing config 104 on 144\n",
      "Testing config 105 on 144\n",
      "Testing config 106 on 144\n",
      "Testing config 107 on 144\n",
      "Testing config 108 on 144\n",
      "Testing config 109 on 144\n",
      "Testing config 110 on 144\n",
      "Testing config 111 on 144\n",
      "Testing config 112 on 144\n",
      "Testing config 113 on 144\n",
      "Testing config 114 on 144\n",
      "Testing config 115 on 144\n",
      "Testing config 116 on 144\n",
      "Testing config 117 on 144\n",
      "Testing config 118 on 144\n",
      "Testing config 119 on 144\n",
      "Testing config 120 on 144\n",
      "Testing config 121 on 144\n",
      "Testing config 122 on 144\n",
      "Testing config 123 on 144\n",
      "Testing config 124 on 144\n",
      "Testing config 125 on 144\n",
      "Testing config 126 on 144\n",
      "Testing config 127 on 144\n",
      "Testing config 128 on 144\n",
      "Testing config 129 on 144\n",
      "Testing config 130 on 144\n",
      "Testing config 131 on 144\n",
      "Testing config 132 on 144\n",
      "Testing config 133 on 144\n",
      "Testing config 134 on 144\n",
      "Testing config 135 on 144\n",
      "Testing config 136 on 144\n",
      "Testing config 137 on 144\n",
      "Testing config 138 on 144\n",
      "Testing config 139 on 144\n",
      "Testing config 140 on 144\n",
      "Testing config 141 on 144\n",
      "Testing config 142 on 144\n",
      "Testing config 143 on 144\n",
      "Testing config 144 on 144\n",
      "\n",
      "--------------------------------------Config Done--------------------------------------------\n",
      "\n"
     ]
    },
    {
     "data": {
      "text/html": [
       "wandb version 0.19.8 is available!  To upgrade, please run:\n",
       " $ pip install wandb --upgrade"
      ],
      "text/plain": [
       "<IPython.core.display.HTML object>"
      ]
     },
     "metadata": {},
     "output_type": "display_data"
    },
    {
     "data": {
      "text/html": [
       "Tracking run with wandb version 0.16.4"
      ],
      "text/plain": [
       "<IPython.core.display.HTML object>"
      ]
     },
     "metadata": {},
     "output_type": "display_data"
    },
    {
     "data": {
      "text/html": [
       "Run data is saved locally in <code>/home/jwalraff/TFE/wandb/run-20250314_184739-flq2u5iv</code>"
      ],
      "text/plain": [
       "<IPython.core.display.HTML object>"
      ]
     },
     "metadata": {},
     "output_type": "display_data"
    },
    {
     "data": {
      "text/html": [
       "Syncing run <strong><a href='https://wandb.ai/TFE-proteomics/BiLSTM/runs/flq2u5iv' target=\"_blank\">ValidProtocol_BiLSTM_Scratch_fold_4</a></strong> to <a href='https://wandb.ai/TFE-proteomics/BiLSTM' target=\"_blank\">Weights & Biases</a> (<a href='https://wandb.me/run' target=\"_blank\">docs</a>)<br/>"
      ],
      "text/plain": [
       "<IPython.core.display.HTML object>"
      ]
     },
     "metadata": {},
     "output_type": "display_data"
    },
    {
     "data": {
      "text/html": [
       " View project at <a href='https://wandb.ai/TFE-proteomics/BiLSTM' target=\"_blank\">https://wandb.ai/TFE-proteomics/BiLSTM</a>"
      ],
      "text/plain": [
       "<IPython.core.display.HTML object>"
      ]
     },
     "metadata": {},
     "output_type": "display_data"
    },
    {
     "data": {
      "text/html": [
       " View run at <a href='https://wandb.ai/TFE-proteomics/BiLSTM/runs/flq2u5iv' target=\"_blank\">https://wandb.ai/TFE-proteomics/BiLSTM/runs/flq2u5iv</a>"
      ],
      "text/plain": [
       "<IPython.core.display.HTML object>"
      ]
     },
     "metadata": {},
     "output_type": "display_data"
    },
    {
     "data": {
      "application/vnd.jupyter.widget-view+json": {
       "model_id": "273eec82b10c4c44a7cdaa3108011d24",
       "version_major": 2,
       "version_minor": 0
      },
      "text/plain": [
       "VBox(children=(Label(value='0.018 MB of 0.018 MB uploaded\\r'), FloatProgress(value=1.0, max=1.0)))"
      ]
     },
     "metadata": {},
     "output_type": "display_data"
    },
    {
     "data": {
      "text/html": [
       "<style>\n",
       "    table.wandb td:nth-child(1) { padding: 0 10px; text-align: left ; width: auto;} td:nth-child(2) {text-align: left ; width: 100%}\n",
       "    .wandb-row { display: flex; flex-direction: row; flex-wrap: wrap; justify-content: flex-start; width: 100% }\n",
       "    .wandb-col { display: flex; flex-direction: column; flex-basis: 100%; flex: 1; padding: 10px; }\n",
       "    </style>\n",
       "<div class=\"wandb-row\"><div class=\"wandb-col\"><h3>Run history:</h3><br/><table class=\"wandb\"><tr><td>accuracy</td><td>▁</td></tr><tr><td>f1</td><td>▁</td></tr><tr><td>pr_auc</td><td>▁</td></tr><tr><td>precision</td><td>▁</td></tr><tr><td>recall</td><td>▁</td></tr><tr><td>roc_auc</td><td>▁</td></tr></table><br/></div><div class=\"wandb-col\"><h3>Run summary:</h3><br/><table class=\"wandb\"><tr><td>accuracy</td><td>0.74194</td></tr><tr><td>f1</td><td>0.0</td></tr><tr><td>pr_auc</td><td>0.33023</td></tr><tr><td>precision</td><td>0.0</td></tr><tr><td>recall</td><td>0.0</td></tr><tr><td>roc_auc</td><td>0.53804</td></tr></table><br/></div></div>"
      ],
      "text/plain": [
       "<IPython.core.display.HTML object>"
      ]
     },
     "metadata": {},
     "output_type": "display_data"
    },
    {
     "data": {
      "text/html": [
       " View run <strong style=\"color:#cdcd00\">ValidProtocol_BiLSTM_Scratch_fold_4</strong> at: <a href='https://wandb.ai/TFE-proteomics/BiLSTM/runs/flq2u5iv' target=\"_blank\">https://wandb.ai/TFE-proteomics/BiLSTM/runs/flq2u5iv</a><br/>Synced 5 W&B file(s), 0 media file(s), 0 artifact file(s) and 0 other file(s)"
      ],
      "text/plain": [
       "<IPython.core.display.HTML object>"
      ]
     },
     "metadata": {},
     "output_type": "display_data"
    },
    {
     "data": {
      "text/html": [
       "Find logs at: <code>./wandb/run-20250314_184739-flq2u5iv/logs</code>"
      ],
      "text/plain": [
       "<IPython.core.display.HTML object>"
      ]
     },
     "metadata": {},
     "output_type": "display_data"
    },
    {
     "name": "stdout",
     "output_type": "stream",
     "text": [
      "Fold 5 on 5\n",
      "Testing config 1 on 144\n",
      "Testing config 2 on 144\n",
      "Testing config 3 on 144\n",
      "Testing config 4 on 144\n",
      "Testing config 5 on 144\n",
      "Testing config 6 on 144\n",
      "Testing config 7 on 144\n",
      "Testing config 8 on 144\n",
      "Testing config 9 on 144\n",
      "Testing config 10 on 144\n",
      "Testing config 11 on 144\n",
      "Testing config 12 on 144\n",
      "Testing config 13 on 144\n",
      "Testing config 14 on 144\n",
      "Testing config 15 on 144\n",
      "Testing config 16 on 144\n",
      "Testing config 17 on 144\n",
      "Testing config 18 on 144\n",
      "Testing config 19 on 144\n",
      "Testing config 20 on 144\n",
      "Testing config 21 on 144\n",
      "Testing config 22 on 144\n",
      "Testing config 23 on 144\n",
      "Testing config 24 on 144\n",
      "Testing config 25 on 144\n",
      "Testing config 26 on 144\n",
      "Testing config 27 on 144\n",
      "Testing config 28 on 144\n",
      "Testing config 29 on 144\n",
      "Testing config 30 on 144\n",
      "Testing config 31 on 144\n",
      "Testing config 32 on 144\n",
      "Testing config 33 on 144\n",
      "Testing config 34 on 144\n",
      "Testing config 35 on 144\n",
      "Testing config 36 on 144\n",
      "Testing config 37 on 144\n",
      "Testing config 38 on 144\n",
      "Testing config 39 on 144\n",
      "Testing config 40 on 144\n",
      "Testing config 41 on 144\n",
      "Testing config 42 on 144\n",
      "Testing config 43 on 144\n",
      "Testing config 44 on 144\n",
      "Testing config 45 on 144\n",
      "Testing config 46 on 144\n",
      "Testing config 47 on 144\n",
      "Testing config 48 on 144\n",
      "Testing config 49 on 144\n",
      "Testing config 50 on 144\n",
      "Testing config 51 on 144\n",
      "Testing config 52 on 144\n",
      "Testing config 53 on 144\n",
      "Testing config 54 on 144\n",
      "Testing config 55 on 144\n",
      "Testing config 56 on 144\n",
      "Testing config 57 on 144\n",
      "Testing config 58 on 144\n",
      "Testing config 59 on 144\n",
      "Testing config 60 on 144\n",
      "Testing config 61 on 144\n",
      "Testing config 62 on 144\n",
      "Testing config 63 on 144\n",
      "Testing config 64 on 144\n",
      "Testing config 65 on 144\n",
      "Testing config 66 on 144\n",
      "Testing config 67 on 144\n",
      "Testing config 68 on 144\n",
      "Testing config 69 on 144\n",
      "Testing config 70 on 144\n",
      "Testing config 71 on 144\n",
      "Testing config 72 on 144\n",
      "Testing config 73 on 144\n",
      "Testing config 74 on 144\n",
      "Testing config 75 on 144\n",
      "Testing config 76 on 144\n",
      "Testing config 77 on 144\n",
      "Testing config 78 on 144\n",
      "Testing config 79 on 144\n",
      "Testing config 80 on 144\n",
      "Testing config 81 on 144\n",
      "Testing config 82 on 144\n",
      "Testing config 83 on 144\n",
      "Testing config 84 on 144\n",
      "Testing config 85 on 144\n",
      "Testing config 86 on 144\n",
      "Testing config 87 on 144\n",
      "Testing config 88 on 144\n",
      "Testing config 89 on 144\n",
      "Testing config 90 on 144\n",
      "Testing config 91 on 144\n",
      "Testing config 92 on 144\n",
      "Testing config 93 on 144\n",
      "Testing config 94 on 144\n",
      "Testing config 95 on 144\n",
      "Testing config 96 on 144\n",
      "Testing config 97 on 144\n",
      "Testing config 98 on 144\n",
      "Testing config 99 on 144\n",
      "Testing config 100 on 144\n",
      "Testing config 101 on 144\n",
      "Testing config 102 on 144\n",
      "Testing config 103 on 144\n",
      "Testing config 104 on 144\n",
      "Testing config 105 on 144\n",
      "Testing config 106 on 144\n",
      "Testing config 107 on 144\n",
      "Testing config 108 on 144\n",
      "Testing config 109 on 144\n",
      "Testing config 110 on 144\n",
      "Testing config 111 on 144\n",
      "Testing config 112 on 144\n",
      "Testing config 113 on 144\n",
      "Testing config 114 on 144\n",
      "Testing config 115 on 144\n",
      "Testing config 116 on 144\n",
      "Testing config 117 on 144\n",
      "Testing config 118 on 144\n",
      "Testing config 119 on 144\n",
      "Testing config 120 on 144\n",
      "Testing config 121 on 144\n",
      "Testing config 122 on 144\n",
      "Testing config 123 on 144\n",
      "Testing config 124 on 144\n",
      "Testing config 125 on 144\n",
      "Testing config 126 on 144\n",
      "Testing config 127 on 144\n",
      "Testing config 128 on 144\n",
      "Testing config 129 on 144\n",
      "Testing config 130 on 144\n",
      "Testing config 131 on 144\n",
      "Testing config 132 on 144\n",
      "Testing config 133 on 144\n",
      "Testing config 134 on 144\n",
      "Testing config 135 on 144\n",
      "Testing config 136 on 144\n",
      "Testing config 137 on 144\n",
      "Testing config 138 on 144\n",
      "Testing config 139 on 144\n",
      "Testing config 140 on 144\n",
      "Testing config 141 on 144\n",
      "Testing config 142 on 144\n",
      "Testing config 143 on 144\n",
      "Testing config 144 on 144\n",
      "\n",
      "--------------------------------------Config Done--------------------------------------------\n",
      "\n"
     ]
    },
    {
     "data": {
      "text/html": [
       "wandb version 0.19.8 is available!  To upgrade, please run:\n",
       " $ pip install wandb --upgrade"
      ],
      "text/plain": [
       "<IPython.core.display.HTML object>"
      ]
     },
     "metadata": {},
     "output_type": "display_data"
    },
    {
     "data": {
      "text/html": [
       "Tracking run with wandb version 0.16.4"
      ],
      "text/plain": [
       "<IPython.core.display.HTML object>"
      ]
     },
     "metadata": {},
     "output_type": "display_data"
    },
    {
     "data": {
      "text/html": [
       "Run data is saved locally in <code>/home/jwalraff/TFE/wandb/run-20250314_185039-qfwjdf5f</code>"
      ],
      "text/plain": [
       "<IPython.core.display.HTML object>"
      ]
     },
     "metadata": {},
     "output_type": "display_data"
    },
    {
     "data": {
      "text/html": [
       "Syncing run <strong><a href='https://wandb.ai/TFE-proteomics/BiLSTM/runs/qfwjdf5f' target=\"_blank\">ValidProtocol_BiLSTM_Scratch_fold_5</a></strong> to <a href='https://wandb.ai/TFE-proteomics/BiLSTM' target=\"_blank\">Weights & Biases</a> (<a href='https://wandb.me/run' target=\"_blank\">docs</a>)<br/>"
      ],
      "text/plain": [
       "<IPython.core.display.HTML object>"
      ]
     },
     "metadata": {},
     "output_type": "display_data"
    },
    {
     "data": {
      "text/html": [
       " View project at <a href='https://wandb.ai/TFE-proteomics/BiLSTM' target=\"_blank\">https://wandb.ai/TFE-proteomics/BiLSTM</a>"
      ],
      "text/plain": [
       "<IPython.core.display.HTML object>"
      ]
     },
     "metadata": {},
     "output_type": "display_data"
    },
    {
     "data": {
      "text/html": [
       " View run at <a href='https://wandb.ai/TFE-proteomics/BiLSTM/runs/qfwjdf5f' target=\"_blank\">https://wandb.ai/TFE-proteomics/BiLSTM/runs/qfwjdf5f</a>"
      ],
      "text/plain": [
       "<IPython.core.display.HTML object>"
      ]
     },
     "metadata": {},
     "output_type": "display_data"
    },
    {
     "data": {
      "application/vnd.jupyter.widget-view+json": {
       "model_id": "46ebd22f58494921ac15a7ace2b69817",
       "version_major": 2,
       "version_minor": 0
      },
      "text/plain": [
       "VBox(children=(Label(value='0.018 MB of 0.018 MB uploaded\\r'), FloatProgress(value=1.0, max=1.0)))"
      ]
     },
     "metadata": {},
     "output_type": "display_data"
    },
    {
     "data": {
      "text/html": [
       "<style>\n",
       "    table.wandb td:nth-child(1) { padding: 0 10px; text-align: left ; width: auto;} td:nth-child(2) {text-align: left ; width: 100%}\n",
       "    .wandb-row { display: flex; flex-direction: row; flex-wrap: wrap; justify-content: flex-start; width: 100% }\n",
       "    .wandb-col { display: flex; flex-direction: column; flex-basis: 100%; flex: 1; padding: 10px; }\n",
       "    </style>\n",
       "<div class=\"wandb-row\"><div class=\"wandb-col\"><h3>Run history:</h3><br/><table class=\"wandb\"><tr><td>accuracy</td><td>▁</td></tr><tr><td>f1</td><td>▁</td></tr><tr><td>pr_auc</td><td>▁</td></tr><tr><td>precision</td><td>▁</td></tr><tr><td>recall</td><td>▁</td></tr><tr><td>roc_auc</td><td>▁</td></tr></table><br/></div><div class=\"wandb-col\"><h3>Run summary:</h3><br/><table class=\"wandb\"><tr><td>accuracy</td><td>0.77419</td></tr><tr><td>f1</td><td>0.22222</td></tr><tr><td>pr_auc</td><td>0.32741</td></tr><tr><td>precision</td><td>1.0</td></tr><tr><td>recall</td><td>0.125</td></tr><tr><td>roc_auc</td><td>0.39674</td></tr></table><br/></div></div>"
      ],
      "text/plain": [
       "<IPython.core.display.HTML object>"
      ]
     },
     "metadata": {},
     "output_type": "display_data"
    },
    {
     "data": {
      "text/html": [
       " View run <strong style=\"color:#cdcd00\">ValidProtocol_BiLSTM_Scratch_fold_5</strong> at: <a href='https://wandb.ai/TFE-proteomics/BiLSTM/runs/qfwjdf5f' target=\"_blank\">https://wandb.ai/TFE-proteomics/BiLSTM/runs/qfwjdf5f</a><br/>Synced 5 W&B file(s), 0 media file(s), 0 artifact file(s) and 0 other file(s)"
      ],
      "text/plain": [
       "<IPython.core.display.HTML object>"
      ]
     },
     "metadata": {},
     "output_type": "display_data"
    },
    {
     "data": {
      "text/html": [
       "Find logs at: <code>./wandb/run-20250314_185039-qfwjdf5f/logs</code>"
      ],
      "text/plain": [
       "<IPython.core.display.HTML object>"
      ]
     },
     "metadata": {},
     "output_type": "display_data"
    },
    {
     "data": {
      "application/vnd.jupyter.widget-view+json": {
       "model_id": "2bf59da1a6564594a9114130c05b85f1",
       "version_major": 2,
       "version_minor": 0
      },
      "text/plain": [
       "VBox(children=(Label(value='Waiting for wandb.init()...\\r'), FloatProgress(value=0.011112533219986492, max=1.0…"
      ]
     },
     "metadata": {},
     "output_type": "display_data"
    },
    {
     "data": {
      "text/html": [
       "wandb version 0.19.8 is available!  To upgrade, please run:\n",
       " $ pip install wandb --upgrade"
      ],
      "text/plain": [
       "<IPython.core.display.HTML object>"
      ]
     },
     "metadata": {},
     "output_type": "display_data"
    },
    {
     "data": {
      "text/html": [
       "Tracking run with wandb version 0.16.4"
      ],
      "text/plain": [
       "<IPython.core.display.HTML object>"
      ]
     },
     "metadata": {},
     "output_type": "display_data"
    },
    {
     "data": {
      "text/html": [
       "Run data is saved locally in <code>/home/jwalraff/TFE/wandb/run-20250314_185048-e1tjmrgs</code>"
      ],
      "text/plain": [
       "<IPython.core.display.HTML object>"
      ]
     },
     "metadata": {},
     "output_type": "display_data"
    },
    {
     "data": {
      "text/html": [
       "Syncing run <strong><a href='https://wandb.ai/TFE-proteomics/BiLSTM/runs/e1tjmrgs' target=\"_blank\">ValidProtocol_BiLSTM_Scratch_CrossValidation_Summary</a></strong> to <a href='https://wandb.ai/TFE-proteomics/BiLSTM' target=\"_blank\">Weights & Biases</a> (<a href='https://wandb.me/run' target=\"_blank\">docs</a>)<br/>"
      ],
      "text/plain": [
       "<IPython.core.display.HTML object>"
      ]
     },
     "metadata": {},
     "output_type": "display_data"
    },
    {
     "data": {
      "text/html": [
       " View project at <a href='https://wandb.ai/TFE-proteomics/BiLSTM' target=\"_blank\">https://wandb.ai/TFE-proteomics/BiLSTM</a>"
      ],
      "text/plain": [
       "<IPython.core.display.HTML object>"
      ]
     },
     "metadata": {},
     "output_type": "display_data"
    },
    {
     "data": {
      "text/html": [
       " View run at <a href='https://wandb.ai/TFE-proteomics/BiLSTM/runs/e1tjmrgs' target=\"_blank\">https://wandb.ai/TFE-proteomics/BiLSTM/runs/e1tjmrgs</a>"
      ],
      "text/plain": [
       "<IPython.core.display.HTML object>"
      ]
     },
     "metadata": {},
     "output_type": "display_data"
    },
    {
     "data": {
      "application/vnd.jupyter.widget-view+json": {
       "model_id": "59c891c9cb8e430d9bf9f7de040d9cda",
       "version_major": 2,
       "version_minor": 0
      },
      "text/plain": [
       "VBox(children=(Label(value='0.004 MB of 0.019 MB uploaded\\r'), FloatProgress(value=0.2223639889762172, max=1.0…"
      ]
     },
     "metadata": {},
     "output_type": "display_data"
    },
    {
     "data": {
      "text/html": [
       "<style>\n",
       "    table.wandb td:nth-child(1) { padding: 0 10px; text-align: left ; width: auto;} td:nth-child(2) {text-align: left ; width: 100%}\n",
       "    .wandb-row { display: flex; flex-direction: row; flex-wrap: wrap; justify-content: flex-start; width: 100% }\n",
       "    .wandb-col { display: flex; flex-direction: column; flex-basis: 100%; flex: 1; padding: 10px; }\n",
       "    </style>\n",
       "<div class=\"wandb-row\"><div class=\"wandb-col\"><h3>Run history:</h3><br/><table class=\"wandb\"><tr><td>accuracy_mean</td><td>▁</td></tr><tr><td>accuracy_std</td><td>▁</td></tr><tr><td>f1_mean</td><td>▁</td></tr><tr><td>f1_std</td><td>▁</td></tr><tr><td>pr_auc_mean</td><td>▁</td></tr><tr><td>pr_auc_std</td><td>▁</td></tr><tr><td>precision_mean</td><td>▁</td></tr><tr><td>precision_std</td><td>▁</td></tr><tr><td>recall_mean</td><td>▁</td></tr><tr><td>recall_std</td><td>▁</td></tr><tr><td>roc_auc_mean</td><td>▁</td></tr><tr><td>roc_auc_std</td><td>▁</td></tr></table><br/></div><div class=\"wandb-col\"><h3>Run summary:</h3><br/><table class=\"wandb\"><tr><td>accuracy_mean</td><td>0.49677</td></tr><tr><td>accuracy_std</td><td>0.23845</td></tr><tr><td>f1_mean</td><td>0.21534</td></tr><tr><td>f1_std</td><td>0.14341</td></tr><tr><td>pr_auc_mean</td><td>0.37117</td></tr><tr><td>pr_auc_std</td><td>0.08955</td></tr><tr><td>precision_mean</td><td>0.31254</td></tr><tr><td>precision_std</td><td>0.35381</td></tr><tr><td>recall_mean</td><td>0.45</td></tr><tr><td>recall_std</td><td>0.45139</td></tr><tr><td>roc_auc_mean</td><td>0.54208</td></tr><tr><td>roc_auc_std</td><td>0.12191</td></tr></table><br/></div></div>"
      ],
      "text/plain": [
       "<IPython.core.display.HTML object>"
      ]
     },
     "metadata": {},
     "output_type": "display_data"
    },
    {
     "data": {
      "text/html": [
       " View run <strong style=\"color:#cdcd00\">ValidProtocol_BiLSTM_Scratch_CrossValidation_Summary</strong> at: <a href='https://wandb.ai/TFE-proteomics/BiLSTM/runs/e1tjmrgs' target=\"_blank\">https://wandb.ai/TFE-proteomics/BiLSTM/runs/e1tjmrgs</a><br/>Synced 5 W&B file(s), 0 media file(s), 0 artifact file(s) and 0 other file(s)"
      ],
      "text/plain": [
       "<IPython.core.display.HTML object>"
      ]
     },
     "metadata": {},
     "output_type": "display_data"
    },
    {
     "data": {
      "text/html": [
       "Find logs at: <code>./wandb/run-20250314_185048-e1tjmrgs/logs</code>"
      ],
      "text/plain": [
       "<IPython.core.display.HTML object>"
      ]
     },
     "metadata": {},
     "output_type": "display_data"
    },
    {
     "name": "stdout",
     "output_type": "stream",
     "text": [
      "Fold 1 on 5\n",
      "Testing config 1 on 144\n",
      "Testing config 2 on 144\n",
      "Testing config 3 on 144\n",
      "Testing config 4 on 144\n",
      "Testing config 5 on 144\n",
      "Testing config 6 on 144\n",
      "Testing config 7 on 144\n",
      "Testing config 8 on 144\n",
      "Testing config 9 on 144\n",
      "Testing config 10 on 144\n",
      "Testing config 11 on 144\n",
      "Testing config 12 on 144\n",
      "Testing config 13 on 144\n",
      "Testing config 14 on 144\n",
      "Testing config 15 on 144\n",
      "Testing config 16 on 144\n",
      "Testing config 17 on 144\n",
      "Testing config 18 on 144\n",
      "Testing config 19 on 144\n",
      "Testing config 20 on 144\n",
      "Testing config 21 on 144\n",
      "Testing config 22 on 144\n",
      "Testing config 23 on 144\n",
      "Testing config 24 on 144\n",
      "Testing config 25 on 144\n",
      "Testing config 26 on 144\n",
      "Testing config 27 on 144\n",
      "Testing config 28 on 144\n",
      "Testing config 29 on 144\n",
      "Testing config 30 on 144\n",
      "Testing config 31 on 144\n",
      "Testing config 32 on 144\n",
      "Testing config 33 on 144\n",
      "Testing config 34 on 144\n",
      "Testing config 35 on 144\n",
      "Testing config 36 on 144\n",
      "Testing config 37 on 144\n",
      "Testing config 38 on 144\n",
      "Testing config 39 on 144\n",
      "Testing config 40 on 144\n",
      "Testing config 41 on 144\n",
      "Testing config 42 on 144\n",
      "Testing config 43 on 144\n",
      "Testing config 44 on 144\n",
      "Testing config 45 on 144\n",
      "Testing config 46 on 144\n",
      "Testing config 47 on 144\n",
      "Testing config 48 on 144\n",
      "Testing config 49 on 144\n",
      "Testing config 50 on 144\n",
      "Testing config 51 on 144\n",
      "Testing config 52 on 144\n",
      "Testing config 53 on 144\n",
      "Testing config 54 on 144\n",
      "Testing config 55 on 144\n",
      "Testing config 56 on 144\n",
      "Testing config 57 on 144\n",
      "Testing config 58 on 144\n",
      "Testing config 59 on 144\n",
      "Testing config 60 on 144\n",
      "Testing config 61 on 144\n",
      "Testing config 62 on 144\n",
      "Testing config 63 on 144\n",
      "Testing config 64 on 144\n",
      "Testing config 65 on 144\n",
      "Testing config 66 on 144\n",
      "Testing config 67 on 144\n",
      "Testing config 68 on 144\n",
      "Testing config 69 on 144\n",
      "Testing config 70 on 144\n",
      "Testing config 71 on 144\n",
      "Testing config 72 on 144\n",
      "Testing config 73 on 144\n",
      "Testing config 74 on 144\n",
      "Testing config 75 on 144\n",
      "Testing config 76 on 144\n",
      "Testing config 77 on 144\n",
      "Testing config 78 on 144\n",
      "Testing config 79 on 144\n",
      "Testing config 80 on 144\n",
      "Testing config 81 on 144\n",
      "Testing config 82 on 144\n",
      "Testing config 83 on 144\n",
      "Testing config 84 on 144\n",
      "Testing config 85 on 144\n",
      "Testing config 86 on 144\n",
      "Testing config 87 on 144\n",
      "Testing config 88 on 144\n",
      "Testing config 89 on 144\n",
      "Testing config 90 on 144\n",
      "Testing config 91 on 144\n",
      "Testing config 92 on 144\n",
      "Testing config 93 on 144\n",
      "Testing config 94 on 144\n",
      "Testing config 95 on 144\n",
      "Testing config 96 on 144\n",
      "Testing config 97 on 144\n",
      "Testing config 98 on 144\n",
      "Testing config 99 on 144\n",
      "Testing config 100 on 144\n",
      "Testing config 101 on 144\n",
      "Testing config 102 on 144\n",
      "Testing config 103 on 144\n",
      "Testing config 104 on 144\n",
      "Testing config 105 on 144\n",
      "Testing config 106 on 144\n",
      "Testing config 107 on 144\n",
      "Testing config 108 on 144\n",
      "Testing config 109 on 144\n",
      "Testing config 110 on 144\n",
      "Testing config 111 on 144\n",
      "Testing config 112 on 144\n",
      "Testing config 113 on 144\n",
      "Testing config 114 on 144\n",
      "Testing config 115 on 144\n",
      "Testing config 116 on 144\n",
      "Testing config 117 on 144\n",
      "Testing config 118 on 144\n",
      "Testing config 119 on 144\n",
      "Testing config 120 on 144\n",
      "Testing config 121 on 144\n",
      "Testing config 122 on 144\n",
      "Testing config 123 on 144\n",
      "Testing config 124 on 144\n",
      "Testing config 125 on 144\n",
      "Testing config 126 on 144\n",
      "Testing config 127 on 144\n",
      "Testing config 128 on 144\n",
      "Testing config 129 on 144\n",
      "Testing config 130 on 144\n",
      "Testing config 131 on 144\n",
      "Testing config 132 on 144\n",
      "Testing config 133 on 144\n",
      "Testing config 134 on 144\n",
      "Testing config 135 on 144\n",
      "Testing config 136 on 144\n",
      "Testing config 137 on 144\n",
      "Testing config 138 on 144\n",
      "Testing config 139 on 144\n",
      "Testing config 140 on 144\n",
      "Testing config 141 on 144\n",
      "Testing config 142 on 144\n",
      "Testing config 143 on 144\n",
      "Testing config 144 on 144\n",
      "\n",
      "--------------------------------------Config Done--------------------------------------------\n",
      "\n"
     ]
    },
    {
     "data": {
      "text/html": [
       "wandb version 0.19.8 is available!  To upgrade, please run:\n",
       " $ pip install wandb --upgrade"
      ],
      "text/plain": [
       "<IPython.core.display.HTML object>"
      ]
     },
     "metadata": {},
     "output_type": "display_data"
    },
    {
     "data": {
      "text/html": [
       "Tracking run with wandb version 0.16.4"
      ],
      "text/plain": [
       "<IPython.core.display.HTML object>"
      ]
     },
     "metadata": {},
     "output_type": "display_data"
    },
    {
     "data": {
      "text/html": [
       "Run data is saved locally in <code>/home/jwalraff/TFE/wandb/run-20250314_185423-7fiyo6ny</code>"
      ],
      "text/plain": [
       "<IPython.core.display.HTML object>"
      ]
     },
     "metadata": {},
     "output_type": "display_data"
    },
    {
     "data": {
      "text/html": [
       "Syncing run <strong><a href='https://wandb.ai/TFE-proteomics/BiLSTM/runs/7fiyo6ny' target=\"_blank\">ValidProtocol_BiLSTM_Scratch_fold_1</a></strong> to <a href='https://wandb.ai/TFE-proteomics/BiLSTM' target=\"_blank\">Weights & Biases</a> (<a href='https://wandb.me/run' target=\"_blank\">docs</a>)<br/>"
      ],
      "text/plain": [
       "<IPython.core.display.HTML object>"
      ]
     },
     "metadata": {},
     "output_type": "display_data"
    },
    {
     "data": {
      "text/html": [
       " View project at <a href='https://wandb.ai/TFE-proteomics/BiLSTM' target=\"_blank\">https://wandb.ai/TFE-proteomics/BiLSTM</a>"
      ],
      "text/plain": [
       "<IPython.core.display.HTML object>"
      ]
     },
     "metadata": {},
     "output_type": "display_data"
    },
    {
     "data": {
      "text/html": [
       " View run at <a href='https://wandb.ai/TFE-proteomics/BiLSTM/runs/7fiyo6ny' target=\"_blank\">https://wandb.ai/TFE-proteomics/BiLSTM/runs/7fiyo6ny</a>"
      ],
      "text/plain": [
       "<IPython.core.display.HTML object>"
      ]
     },
     "metadata": {},
     "output_type": "display_data"
    },
    {
     "data": {
      "application/vnd.jupyter.widget-view+json": {
       "model_id": "b7dbdfd53fcc4bd8b96220d16d1c355a",
       "version_major": 2,
       "version_minor": 0
      },
      "text/plain": [
       "VBox(children=(Label(value='0.018 MB of 0.018 MB uploaded\\r'), FloatProgress(value=1.0, max=1.0)))"
      ]
     },
     "metadata": {},
     "output_type": "display_data"
    },
    {
     "data": {
      "text/html": [
       "<style>\n",
       "    table.wandb td:nth-child(1) { padding: 0 10px; text-align: left ; width: auto;} td:nth-child(2) {text-align: left ; width: 100%}\n",
       "    .wandb-row { display: flex; flex-direction: row; flex-wrap: wrap; justify-content: flex-start; width: 100% }\n",
       "    .wandb-col { display: flex; flex-direction: column; flex-basis: 100%; flex: 1; padding: 10px; }\n",
       "    </style>\n",
       "<div class=\"wandb-row\"><div class=\"wandb-col\"><h3>Run history:</h3><br/><table class=\"wandb\"><tr><td>accuracy</td><td>▁</td></tr><tr><td>f1</td><td>▁</td></tr><tr><td>pr_auc</td><td>▁</td></tr><tr><td>precision</td><td>▁</td></tr><tr><td>recall</td><td>▁</td></tr><tr><td>roc_auc</td><td>▁</td></tr></table><br/></div><div class=\"wandb-col\"><h3>Run summary:</h3><br/><table class=\"wandb\"><tr><td>accuracy</td><td>0.70968</td></tr><tr><td>f1</td><td>0.30769</td></tr><tr><td>pr_auc</td><td>0.36675</td></tr><tr><td>precision</td><td>0.33333</td></tr><tr><td>recall</td><td>0.28571</td></tr><tr><td>roc_auc</td><td>0.71429</td></tr></table><br/></div></div>"
      ],
      "text/plain": [
       "<IPython.core.display.HTML object>"
      ]
     },
     "metadata": {},
     "output_type": "display_data"
    },
    {
     "data": {
      "text/html": [
       " View run <strong style=\"color:#cdcd00\">ValidProtocol_BiLSTM_Scratch_fold_1</strong> at: <a href='https://wandb.ai/TFE-proteomics/BiLSTM/runs/7fiyo6ny' target=\"_blank\">https://wandb.ai/TFE-proteomics/BiLSTM/runs/7fiyo6ny</a><br/>Synced 5 W&B file(s), 0 media file(s), 0 artifact file(s) and 0 other file(s)"
      ],
      "text/plain": [
       "<IPython.core.display.HTML object>"
      ]
     },
     "metadata": {},
     "output_type": "display_data"
    },
    {
     "data": {
      "text/html": [
       "Find logs at: <code>./wandb/run-20250314_185423-7fiyo6ny/logs</code>"
      ],
      "text/plain": [
       "<IPython.core.display.HTML object>"
      ]
     },
     "metadata": {},
     "output_type": "display_data"
    },
    {
     "name": "stdout",
     "output_type": "stream",
     "text": [
      "Fold 2 on 5\n",
      "Testing config 1 on 144\n",
      "Testing config 2 on 144\n",
      "Testing config 3 on 144\n",
      "Testing config 4 on 144\n",
      "Testing config 5 on 144\n",
      "Testing config 6 on 144\n",
      "Testing config 7 on 144\n",
      "Testing config 8 on 144\n",
      "Testing config 9 on 144\n",
      "Testing config 10 on 144\n",
      "Testing config 11 on 144\n",
      "Testing config 12 on 144\n",
      "Testing config 13 on 144\n",
      "Testing config 14 on 144\n",
      "Testing config 15 on 144\n",
      "Testing config 16 on 144\n",
      "Testing config 17 on 144\n",
      "Testing config 18 on 144\n",
      "Testing config 19 on 144\n",
      "Testing config 20 on 144\n",
      "Testing config 21 on 144\n",
      "Testing config 22 on 144\n",
      "Testing config 23 on 144\n",
      "Testing config 24 on 144\n",
      "Testing config 25 on 144\n",
      "Testing config 26 on 144\n",
      "Testing config 27 on 144\n",
      "Testing config 28 on 144\n",
      "Testing config 29 on 144\n",
      "Testing config 30 on 144\n",
      "Testing config 31 on 144\n",
      "Testing config 32 on 144\n",
      "Testing config 33 on 144\n",
      "Testing config 34 on 144\n",
      "Testing config 35 on 144\n",
      "Testing config 36 on 144\n",
      "Testing config 37 on 144\n",
      "Testing config 38 on 144\n",
      "Testing config 39 on 144\n",
      "Testing config 40 on 144\n",
      "Testing config 41 on 144\n",
      "Testing config 42 on 144\n",
      "Testing config 43 on 144\n",
      "Testing config 44 on 144\n",
      "Testing config 45 on 144\n",
      "Testing config 46 on 144\n",
      "Testing config 47 on 144\n",
      "Testing config 48 on 144\n",
      "Testing config 49 on 144\n",
      "Testing config 50 on 144\n",
      "Testing config 51 on 144\n",
      "Testing config 52 on 144\n",
      "Testing config 53 on 144\n",
      "Testing config 54 on 144\n",
      "Testing config 55 on 144\n",
      "Testing config 56 on 144\n",
      "Testing config 57 on 144\n",
      "Testing config 58 on 144\n",
      "Testing config 59 on 144\n",
      "Testing config 60 on 144\n",
      "Testing config 61 on 144\n",
      "Testing config 62 on 144\n",
      "Testing config 63 on 144\n",
      "Testing config 64 on 144\n",
      "Testing config 65 on 144\n",
      "Testing config 66 on 144\n",
      "Testing config 67 on 144\n",
      "Testing config 68 on 144\n",
      "Testing config 69 on 144\n",
      "Testing config 70 on 144\n",
      "Testing config 71 on 144\n",
      "Testing config 72 on 144\n",
      "Testing config 73 on 144\n",
      "Testing config 74 on 144\n",
      "Testing config 75 on 144\n",
      "Testing config 76 on 144\n",
      "Testing config 77 on 144\n",
      "Testing config 78 on 144\n",
      "Testing config 79 on 144\n",
      "Testing config 80 on 144\n",
      "Testing config 81 on 144\n",
      "Testing config 82 on 144\n",
      "Testing config 83 on 144\n",
      "Testing config 84 on 144\n",
      "Testing config 85 on 144\n",
      "Testing config 86 on 144\n",
      "Testing config 87 on 144\n",
      "Testing config 88 on 144\n",
      "Testing config 89 on 144\n",
      "Testing config 90 on 144\n",
      "Testing config 91 on 144\n",
      "Testing config 92 on 144\n",
      "Testing config 93 on 144\n",
      "Testing config 94 on 144\n",
      "Testing config 95 on 144\n",
      "Testing config 96 on 144\n",
      "Testing config 97 on 144\n",
      "Testing config 98 on 144\n",
      "Testing config 99 on 144\n",
      "Testing config 100 on 144\n",
      "Testing config 101 on 144\n",
      "Testing config 102 on 144\n",
      "Testing config 103 on 144\n",
      "Testing config 104 on 144\n",
      "Testing config 105 on 144\n",
      "Testing config 106 on 144\n",
      "Testing config 107 on 144\n",
      "Testing config 108 on 144\n",
      "Testing config 109 on 144\n",
      "Testing config 110 on 144\n",
      "Testing config 111 on 144\n",
      "Testing config 112 on 144\n",
      "Testing config 113 on 144\n",
      "Testing config 114 on 144\n",
      "Testing config 115 on 144\n",
      "Testing config 116 on 144\n",
      "Testing config 117 on 144\n",
      "Testing config 118 on 144\n",
      "Testing config 119 on 144\n",
      "Testing config 120 on 144\n",
      "Testing config 121 on 144\n",
      "Testing config 122 on 144\n",
      "Testing config 123 on 144\n",
      "Testing config 124 on 144\n",
      "Testing config 125 on 144\n",
      "Testing config 126 on 144\n",
      "Testing config 127 on 144\n",
      "Testing config 128 on 144\n",
      "Testing config 129 on 144\n",
      "Testing config 130 on 144\n",
      "Testing config 131 on 144\n",
      "Testing config 132 on 144\n",
      "Testing config 133 on 144\n",
      "Testing config 134 on 144\n",
      "Testing config 135 on 144\n",
      "Testing config 136 on 144\n",
      "Testing config 137 on 144\n",
      "Testing config 138 on 144\n",
      "Testing config 139 on 144\n",
      "Testing config 140 on 144\n",
      "Testing config 141 on 144\n",
      "Testing config 142 on 144\n",
      "Testing config 143 on 144\n",
      "Testing config 144 on 144\n",
      "\n",
      "--------------------------------------Config Done--------------------------------------------\n",
      "\n"
     ]
    },
    {
     "data": {
      "text/html": [
       "wandb version 0.19.8 is available!  To upgrade, please run:\n",
       " $ pip install wandb --upgrade"
      ],
      "text/plain": [
       "<IPython.core.display.HTML object>"
      ]
     },
     "metadata": {},
     "output_type": "display_data"
    },
    {
     "data": {
      "text/html": [
       "Tracking run with wandb version 0.16.4"
      ],
      "text/plain": [
       "<IPython.core.display.HTML object>"
      ]
     },
     "metadata": {},
     "output_type": "display_data"
    },
    {
     "data": {
      "text/html": [
       "Run data is saved locally in <code>/home/jwalraff/TFE/wandb/run-20250314_185757-yhj7gsen</code>"
      ],
      "text/plain": [
       "<IPython.core.display.HTML object>"
      ]
     },
     "metadata": {},
     "output_type": "display_data"
    },
    {
     "data": {
      "text/html": [
       "Syncing run <strong><a href='https://wandb.ai/TFE-proteomics/BiLSTM/runs/yhj7gsen' target=\"_blank\">ValidProtocol_BiLSTM_Scratch_fold_2</a></strong> to <a href='https://wandb.ai/TFE-proteomics/BiLSTM' target=\"_blank\">Weights & Biases</a> (<a href='https://wandb.me/run' target=\"_blank\">docs</a>)<br/>"
      ],
      "text/plain": [
       "<IPython.core.display.HTML object>"
      ]
     },
     "metadata": {},
     "output_type": "display_data"
    },
    {
     "data": {
      "text/html": [
       " View project at <a href='https://wandb.ai/TFE-proteomics/BiLSTM' target=\"_blank\">https://wandb.ai/TFE-proteomics/BiLSTM</a>"
      ],
      "text/plain": [
       "<IPython.core.display.HTML object>"
      ]
     },
     "metadata": {},
     "output_type": "display_data"
    },
    {
     "data": {
      "text/html": [
       " View run at <a href='https://wandb.ai/TFE-proteomics/BiLSTM/runs/yhj7gsen' target=\"_blank\">https://wandb.ai/TFE-proteomics/BiLSTM/runs/yhj7gsen</a>"
      ],
      "text/plain": [
       "<IPython.core.display.HTML object>"
      ]
     },
     "metadata": {},
     "output_type": "display_data"
    },
    {
     "data": {
      "application/vnd.jupyter.widget-view+json": {
       "model_id": "da66bf9260a04d7294a13e4ffb3f06b8",
       "version_major": 2,
       "version_minor": 0
      },
      "text/plain": [
       "VBox(children=(Label(value='0.004 MB of 0.018 MB uploaded\\r'), FloatProgress(value=0.22830643470970446, max=1.…"
      ]
     },
     "metadata": {},
     "output_type": "display_data"
    },
    {
     "data": {
      "text/html": [
       "<style>\n",
       "    table.wandb td:nth-child(1) { padding: 0 10px; text-align: left ; width: auto;} td:nth-child(2) {text-align: left ; width: 100%}\n",
       "    .wandb-row { display: flex; flex-direction: row; flex-wrap: wrap; justify-content: flex-start; width: 100% }\n",
       "    .wandb-col { display: flex; flex-direction: column; flex-basis: 100%; flex: 1; padding: 10px; }\n",
       "    </style>\n",
       "<div class=\"wandb-row\"><div class=\"wandb-col\"><h3>Run history:</h3><br/><table class=\"wandb\"><tr><td>accuracy</td><td>▁</td></tr><tr><td>f1</td><td>▁</td></tr><tr><td>pr_auc</td><td>▁</td></tr><tr><td>precision</td><td>▁</td></tr><tr><td>recall</td><td>▁</td></tr><tr><td>roc_auc</td><td>▁</td></tr></table><br/></div><div class=\"wandb-col\"><h3>Run summary:</h3><br/><table class=\"wandb\"><tr><td>accuracy</td><td>0.77419</td></tr><tr><td>f1</td><td>0.36364</td></tr><tr><td>pr_auc</td><td>0.6128</td></tr><tr><td>precision</td><td>0.5</td></tr><tr><td>recall</td><td>0.28571</td></tr><tr><td>roc_auc</td><td>0.76786</td></tr></table><br/></div></div>"
      ],
      "text/plain": [
       "<IPython.core.display.HTML object>"
      ]
     },
     "metadata": {},
     "output_type": "display_data"
    },
    {
     "data": {
      "text/html": [
       " View run <strong style=\"color:#cdcd00\">ValidProtocol_BiLSTM_Scratch_fold_2</strong> at: <a href='https://wandb.ai/TFE-proteomics/BiLSTM/runs/yhj7gsen' target=\"_blank\">https://wandb.ai/TFE-proteomics/BiLSTM/runs/yhj7gsen</a><br/>Synced 5 W&B file(s), 0 media file(s), 0 artifact file(s) and 0 other file(s)"
      ],
      "text/plain": [
       "<IPython.core.display.HTML object>"
      ]
     },
     "metadata": {},
     "output_type": "display_data"
    },
    {
     "data": {
      "text/html": [
       "Find logs at: <code>./wandb/run-20250314_185757-yhj7gsen/logs</code>"
      ],
      "text/plain": [
       "<IPython.core.display.HTML object>"
      ]
     },
     "metadata": {},
     "output_type": "display_data"
    },
    {
     "name": "stdout",
     "output_type": "stream",
     "text": [
      "Fold 3 on 5\n",
      "Testing config 1 on 144\n",
      "Testing config 2 on 144\n",
      "Testing config 3 on 144\n",
      "Testing config 4 on 144\n",
      "Testing config 5 on 144\n",
      "Testing config 6 on 144\n",
      "Testing config 7 on 144\n",
      "Testing config 8 on 144\n",
      "Testing config 9 on 144\n",
      "Testing config 10 on 144\n",
      "Testing config 11 on 144\n",
      "Testing config 12 on 144\n",
      "Testing config 13 on 144\n",
      "Testing config 14 on 144\n",
      "Testing config 15 on 144\n",
      "Testing config 16 on 144\n",
      "Testing config 17 on 144\n",
      "Testing config 18 on 144\n",
      "Testing config 19 on 144\n",
      "Testing config 20 on 144\n",
      "Testing config 21 on 144\n",
      "Testing config 22 on 144\n",
      "Testing config 23 on 144\n",
      "Testing config 24 on 144\n",
      "Testing config 25 on 144\n",
      "Testing config 26 on 144\n",
      "Testing config 27 on 144\n",
      "Testing config 28 on 144\n",
      "Testing config 29 on 144\n",
      "Testing config 30 on 144\n",
      "Testing config 31 on 144\n",
      "Testing config 32 on 144\n",
      "Testing config 33 on 144\n",
      "Testing config 34 on 144\n",
      "Testing config 35 on 144\n",
      "Testing config 36 on 144\n",
      "Testing config 37 on 144\n",
      "Testing config 38 on 144\n",
      "Testing config 39 on 144\n",
      "Testing config 40 on 144\n",
      "Testing config 41 on 144\n",
      "Testing config 42 on 144\n",
      "Testing config 43 on 144\n",
      "Testing config 44 on 144\n",
      "Testing config 45 on 144\n",
      "Testing config 46 on 144\n",
      "Testing config 47 on 144\n",
      "Testing config 48 on 144\n",
      "Testing config 49 on 144\n",
      "Testing config 50 on 144\n",
      "Testing config 51 on 144\n",
      "Testing config 52 on 144\n",
      "Testing config 53 on 144\n",
      "Testing config 54 on 144\n",
      "Testing config 55 on 144\n",
      "Testing config 56 on 144\n",
      "Testing config 57 on 144\n",
      "Testing config 58 on 144\n",
      "Testing config 59 on 144\n",
      "Testing config 60 on 144\n",
      "Testing config 61 on 144\n",
      "Testing config 62 on 144\n",
      "Testing config 63 on 144\n",
      "Testing config 64 on 144\n",
      "Testing config 65 on 144\n",
      "Testing config 66 on 144\n",
      "Testing config 67 on 144\n",
      "Testing config 68 on 144\n",
      "Testing config 69 on 144\n",
      "Testing config 70 on 144\n",
      "Testing config 71 on 144\n",
      "Testing config 72 on 144\n",
      "Testing config 73 on 144\n",
      "Testing config 74 on 144\n",
      "Testing config 75 on 144\n",
      "Testing config 76 on 144\n",
      "Testing config 77 on 144\n",
      "Testing config 78 on 144\n",
      "Testing config 79 on 144\n",
      "Testing config 80 on 144\n",
      "Testing config 81 on 144\n",
      "Testing config 82 on 144\n",
      "Testing config 83 on 144\n",
      "Testing config 84 on 144\n",
      "Testing config 85 on 144\n",
      "Testing config 86 on 144\n",
      "Testing config 87 on 144\n",
      "Testing config 88 on 144\n",
      "Testing config 89 on 144\n",
      "Testing config 90 on 144\n",
      "Testing config 91 on 144\n",
      "Testing config 92 on 144\n",
      "Testing config 93 on 144\n",
      "Testing config 94 on 144\n",
      "Testing config 95 on 144\n",
      "Testing config 96 on 144\n",
      "Testing config 97 on 144\n",
      "Testing config 98 on 144\n",
      "Testing config 99 on 144\n",
      "Testing config 100 on 144\n",
      "Testing config 101 on 144\n",
      "Testing config 102 on 144\n",
      "Testing config 103 on 144\n",
      "Testing config 104 on 144\n",
      "Testing config 105 on 144\n",
      "Testing config 106 on 144\n",
      "Testing config 107 on 144\n",
      "Testing config 108 on 144\n",
      "Testing config 109 on 144\n",
      "Testing config 110 on 144\n",
      "Testing config 111 on 144\n",
      "Testing config 112 on 144\n",
      "Testing config 113 on 144\n",
      "Testing config 114 on 144\n",
      "Testing config 115 on 144\n",
      "Testing config 116 on 144\n",
      "Testing config 117 on 144\n",
      "Testing config 118 on 144\n",
      "Testing config 119 on 144\n",
      "Testing config 120 on 144\n",
      "Testing config 121 on 144\n",
      "Testing config 122 on 144\n",
      "Testing config 123 on 144\n",
      "Testing config 124 on 144\n",
      "Testing config 125 on 144\n",
      "Testing config 126 on 144\n",
      "Testing config 127 on 144\n",
      "Testing config 128 on 144\n",
      "Testing config 129 on 144\n",
      "Testing config 130 on 144\n",
      "Testing config 131 on 144\n",
      "Testing config 132 on 144\n",
      "Testing config 133 on 144\n",
      "Testing config 134 on 144\n",
      "Testing config 135 on 144\n",
      "Testing config 136 on 144\n",
      "Testing config 137 on 144\n",
      "Testing config 138 on 144\n",
      "Testing config 139 on 144\n",
      "Testing config 140 on 144\n",
      "Testing config 141 on 144\n",
      "Testing config 142 on 144\n",
      "Testing config 143 on 144\n",
      "Testing config 144 on 144\n",
      "\n",
      "--------------------------------------Config Done--------------------------------------------\n",
      "\n"
     ]
    },
    {
     "data": {
      "text/html": [
       "wandb version 0.19.8 is available!  To upgrade, please run:\n",
       " $ pip install wandb --upgrade"
      ],
      "text/plain": [
       "<IPython.core.display.HTML object>"
      ]
     },
     "metadata": {},
     "output_type": "display_data"
    },
    {
     "data": {
      "text/html": [
       "Tracking run with wandb version 0.16.4"
      ],
      "text/plain": [
       "<IPython.core.display.HTML object>"
      ]
     },
     "metadata": {},
     "output_type": "display_data"
    },
    {
     "data": {
      "text/html": [
       "Run data is saved locally in <code>/home/jwalraff/TFE/wandb/run-20250314_190132-396thpn1</code>"
      ],
      "text/plain": [
       "<IPython.core.display.HTML object>"
      ]
     },
     "metadata": {},
     "output_type": "display_data"
    },
    {
     "data": {
      "text/html": [
       "Syncing run <strong><a href='https://wandb.ai/TFE-proteomics/BiLSTM/runs/396thpn1' target=\"_blank\">ValidProtocol_BiLSTM_Scratch_fold_3</a></strong> to <a href='https://wandb.ai/TFE-proteomics/BiLSTM' target=\"_blank\">Weights & Biases</a> (<a href='https://wandb.me/run' target=\"_blank\">docs</a>)<br/>"
      ],
      "text/plain": [
       "<IPython.core.display.HTML object>"
      ]
     },
     "metadata": {},
     "output_type": "display_data"
    },
    {
     "data": {
      "text/html": [
       " View project at <a href='https://wandb.ai/TFE-proteomics/BiLSTM' target=\"_blank\">https://wandb.ai/TFE-proteomics/BiLSTM</a>"
      ],
      "text/plain": [
       "<IPython.core.display.HTML object>"
      ]
     },
     "metadata": {},
     "output_type": "display_data"
    },
    {
     "data": {
      "text/html": [
       " View run at <a href='https://wandb.ai/TFE-proteomics/BiLSTM/runs/396thpn1' target=\"_blank\">https://wandb.ai/TFE-proteomics/BiLSTM/runs/396thpn1</a>"
      ],
      "text/plain": [
       "<IPython.core.display.HTML object>"
      ]
     },
     "metadata": {},
     "output_type": "display_data"
    },
    {
     "data": {
      "application/vnd.jupyter.widget-view+json": {
       "model_id": "96672aa62e404bd4bbc3fb3934dec306",
       "version_major": 2,
       "version_minor": 0
      },
      "text/plain": [
       "VBox(children=(Label(value='0.004 MB of 0.018 MB uploaded\\r'), FloatProgress(value=0.225129265770424, max=1.0)…"
      ]
     },
     "metadata": {},
     "output_type": "display_data"
    },
    {
     "data": {
      "text/html": [
       "<style>\n",
       "    table.wandb td:nth-child(1) { padding: 0 10px; text-align: left ; width: auto;} td:nth-child(2) {text-align: left ; width: 100%}\n",
       "    .wandb-row { display: flex; flex-direction: row; flex-wrap: wrap; justify-content: flex-start; width: 100% }\n",
       "    .wandb-col { display: flex; flex-direction: column; flex-basis: 100%; flex: 1; padding: 10px; }\n",
       "    </style>\n",
       "<div class=\"wandb-row\"><div class=\"wandb-col\"><h3>Run history:</h3><br/><table class=\"wandb\"><tr><td>accuracy</td><td>▁</td></tr><tr><td>f1</td><td>▁</td></tr><tr><td>pr_auc</td><td>▁</td></tr><tr><td>precision</td><td>▁</td></tr><tr><td>recall</td><td>▁</td></tr><tr><td>roc_auc</td><td>▁</td></tr></table><br/></div><div class=\"wandb-col\"><h3>Run summary:</h3><br/><table class=\"wandb\"><tr><td>accuracy</td><td>0.41935</td></tr><tr><td>f1</td><td>0.1</td></tr><tr><td>pr_auc</td><td>0.19345</td></tr><tr><td>precision</td><td>0.08333</td></tr><tr><td>recall</td><td>0.125</td></tr><tr><td>roc_auc</td><td>0.26087</td></tr></table><br/></div></div>"
      ],
      "text/plain": [
       "<IPython.core.display.HTML object>"
      ]
     },
     "metadata": {},
     "output_type": "display_data"
    },
    {
     "data": {
      "text/html": [
       " View run <strong style=\"color:#cdcd00\">ValidProtocol_BiLSTM_Scratch_fold_3</strong> at: <a href='https://wandb.ai/TFE-proteomics/BiLSTM/runs/396thpn1' target=\"_blank\">https://wandb.ai/TFE-proteomics/BiLSTM/runs/396thpn1</a><br/>Synced 5 W&B file(s), 0 media file(s), 0 artifact file(s) and 0 other file(s)"
      ],
      "text/plain": [
       "<IPython.core.display.HTML object>"
      ]
     },
     "metadata": {},
     "output_type": "display_data"
    },
    {
     "data": {
      "text/html": [
       "Find logs at: <code>./wandb/run-20250314_190132-396thpn1/logs</code>"
      ],
      "text/plain": [
       "<IPython.core.display.HTML object>"
      ]
     },
     "metadata": {},
     "output_type": "display_data"
    },
    {
     "name": "stdout",
     "output_type": "stream",
     "text": [
      "Fold 4 on 5\n",
      "Testing config 1 on 144\n",
      "Testing config 2 on 144\n",
      "Testing config 3 on 144\n",
      "Testing config 4 on 144\n",
      "Testing config 5 on 144\n",
      "Testing config 6 on 144\n",
      "Testing config 7 on 144\n",
      "Testing config 8 on 144\n",
      "Testing config 9 on 144\n",
      "Testing config 10 on 144\n",
      "Testing config 11 on 144\n",
      "Testing config 12 on 144\n",
      "Testing config 13 on 144\n",
      "Testing config 14 on 144\n",
      "Testing config 15 on 144\n",
      "Testing config 16 on 144\n",
      "Testing config 17 on 144\n",
      "Testing config 18 on 144\n",
      "Testing config 19 on 144\n",
      "Testing config 20 on 144\n",
      "Testing config 21 on 144\n",
      "Testing config 22 on 144\n",
      "Testing config 23 on 144\n",
      "Testing config 24 on 144\n",
      "Testing config 25 on 144\n",
      "Testing config 26 on 144\n",
      "Testing config 27 on 144\n",
      "Testing config 28 on 144\n",
      "Testing config 29 on 144\n",
      "Testing config 30 on 144\n",
      "Testing config 31 on 144\n",
      "Testing config 32 on 144\n",
      "Testing config 33 on 144\n",
      "Testing config 34 on 144\n",
      "Testing config 35 on 144\n",
      "Testing config 36 on 144\n",
      "Testing config 37 on 144\n",
      "Testing config 38 on 144\n",
      "Testing config 39 on 144\n",
      "Testing config 40 on 144\n",
      "Testing config 41 on 144\n",
      "Testing config 42 on 144\n",
      "Testing config 43 on 144\n",
      "Testing config 44 on 144\n",
      "Testing config 45 on 144\n",
      "Testing config 46 on 144\n",
      "Testing config 47 on 144\n",
      "Testing config 48 on 144\n",
      "Testing config 49 on 144\n",
      "Testing config 50 on 144\n",
      "Testing config 51 on 144\n",
      "Testing config 52 on 144\n",
      "Testing config 53 on 144\n",
      "Testing config 54 on 144\n",
      "Testing config 55 on 144\n",
      "Testing config 56 on 144\n",
      "Testing config 57 on 144\n",
      "Testing config 58 on 144\n",
      "Testing config 59 on 144\n",
      "Testing config 60 on 144\n",
      "Testing config 61 on 144\n",
      "Testing config 62 on 144\n",
      "Testing config 63 on 144\n",
      "Testing config 64 on 144\n",
      "Testing config 65 on 144\n",
      "Testing config 66 on 144\n",
      "Testing config 67 on 144\n",
      "Testing config 68 on 144\n",
      "Testing config 69 on 144\n",
      "Testing config 70 on 144\n",
      "Testing config 71 on 144\n",
      "Testing config 72 on 144\n",
      "Testing config 73 on 144\n",
      "Testing config 74 on 144\n",
      "Testing config 75 on 144\n",
      "Testing config 76 on 144\n",
      "Testing config 77 on 144\n",
      "Testing config 78 on 144\n",
      "Testing config 79 on 144\n",
      "Testing config 80 on 144\n",
      "Testing config 81 on 144\n",
      "Testing config 82 on 144\n",
      "Testing config 83 on 144\n",
      "Testing config 84 on 144\n",
      "Testing config 85 on 144\n",
      "Testing config 86 on 144\n",
      "Testing config 87 on 144\n",
      "Testing config 88 on 144\n",
      "Testing config 89 on 144\n",
      "Testing config 90 on 144\n",
      "Testing config 91 on 144\n",
      "Testing config 92 on 144\n",
      "Testing config 93 on 144\n",
      "Testing config 94 on 144\n",
      "Testing config 95 on 144\n",
      "Testing config 96 on 144\n",
      "Testing config 97 on 144\n",
      "Testing config 98 on 144\n",
      "Testing config 99 on 144\n",
      "Testing config 100 on 144\n",
      "Testing config 101 on 144\n",
      "Testing config 102 on 144\n",
      "Testing config 103 on 144\n",
      "Testing config 104 on 144\n",
      "Testing config 105 on 144\n",
      "Testing config 106 on 144\n",
      "Testing config 107 on 144\n",
      "Testing config 108 on 144\n",
      "Testing config 109 on 144\n",
      "Testing config 110 on 144\n",
      "Testing config 111 on 144\n",
      "Testing config 112 on 144\n",
      "Testing config 113 on 144\n",
      "Testing config 114 on 144\n",
      "Testing config 115 on 144\n",
      "Testing config 116 on 144\n",
      "Testing config 117 on 144\n",
      "Testing config 118 on 144\n",
      "Testing config 119 on 144\n",
      "Testing config 120 on 144\n",
      "Testing config 121 on 144\n",
      "Testing config 122 on 144\n",
      "Testing config 123 on 144\n",
      "Testing config 124 on 144\n",
      "Testing config 125 on 144\n",
      "Testing config 126 on 144\n",
      "Testing config 127 on 144\n",
      "Testing config 128 on 144\n",
      "Testing config 129 on 144\n",
      "Testing config 130 on 144\n",
      "Testing config 131 on 144\n",
      "Testing config 132 on 144\n",
      "Testing config 133 on 144\n",
      "Testing config 134 on 144\n",
      "Testing config 135 on 144\n",
      "Testing config 136 on 144\n",
      "Testing config 137 on 144\n",
      "Testing config 138 on 144\n",
      "Testing config 139 on 144\n",
      "Testing config 140 on 144\n",
      "Testing config 141 on 144\n",
      "Testing config 142 on 144\n",
      "Testing config 143 on 144\n",
      "Testing config 144 on 144\n",
      "\n",
      "--------------------------------------Config Done--------------------------------------------\n",
      "\n"
     ]
    },
    {
     "data": {
      "text/html": [
       "wandb version 0.19.8 is available!  To upgrade, please run:\n",
       " $ pip install wandb --upgrade"
      ],
      "text/plain": [
       "<IPython.core.display.HTML object>"
      ]
     },
     "metadata": {},
     "output_type": "display_data"
    },
    {
     "data": {
      "text/html": [
       "Tracking run with wandb version 0.16.4"
      ],
      "text/plain": [
       "<IPython.core.display.HTML object>"
      ]
     },
     "metadata": {},
     "output_type": "display_data"
    },
    {
     "data": {
      "text/html": [
       "Run data is saved locally in <code>/home/jwalraff/TFE/wandb/run-20250314_190507-ymcdk57t</code>"
      ],
      "text/plain": [
       "<IPython.core.display.HTML object>"
      ]
     },
     "metadata": {},
     "output_type": "display_data"
    },
    {
     "data": {
      "text/html": [
       "Syncing run <strong><a href='https://wandb.ai/TFE-proteomics/BiLSTM/runs/ymcdk57t' target=\"_blank\">ValidProtocol_BiLSTM_Scratch_fold_4</a></strong> to <a href='https://wandb.ai/TFE-proteomics/BiLSTM' target=\"_blank\">Weights & Biases</a> (<a href='https://wandb.me/run' target=\"_blank\">docs</a>)<br/>"
      ],
      "text/plain": [
       "<IPython.core.display.HTML object>"
      ]
     },
     "metadata": {},
     "output_type": "display_data"
    },
    {
     "data": {
      "text/html": [
       " View project at <a href='https://wandb.ai/TFE-proteomics/BiLSTM' target=\"_blank\">https://wandb.ai/TFE-proteomics/BiLSTM</a>"
      ],
      "text/plain": [
       "<IPython.core.display.HTML object>"
      ]
     },
     "metadata": {},
     "output_type": "display_data"
    },
    {
     "data": {
      "text/html": [
       " View run at <a href='https://wandb.ai/TFE-proteomics/BiLSTM/runs/ymcdk57t' target=\"_blank\">https://wandb.ai/TFE-proteomics/BiLSTM/runs/ymcdk57t</a>"
      ],
      "text/plain": [
       "<IPython.core.display.HTML object>"
      ]
     },
     "metadata": {},
     "output_type": "display_data"
    },
    {
     "data": {
      "application/vnd.jupyter.widget-view+json": {
       "model_id": "0dccd78fc0eb4ad687befae953a8f6b6",
       "version_major": 2,
       "version_minor": 0
      },
      "text/plain": [
       "VBox(children=(Label(value='0.015 MB of 0.018 MB uploaded\\r'), FloatProgress(value=0.7970348176464511, max=1.0…"
      ]
     },
     "metadata": {},
     "output_type": "display_data"
    },
    {
     "data": {
      "text/html": [
       "<style>\n",
       "    table.wandb td:nth-child(1) { padding: 0 10px; text-align: left ; width: auto;} td:nth-child(2) {text-align: left ; width: 100%}\n",
       "    .wandb-row { display: flex; flex-direction: row; flex-wrap: wrap; justify-content: flex-start; width: 100% }\n",
       "    .wandb-col { display: flex; flex-direction: column; flex-basis: 100%; flex: 1; padding: 10px; }\n",
       "    </style>\n",
       "<div class=\"wandb-row\"><div class=\"wandb-col\"><h3>Run history:</h3><br/><table class=\"wandb\"><tr><td>accuracy</td><td>▁</td></tr><tr><td>f1</td><td>▁</td></tr><tr><td>pr_auc</td><td>▁</td></tr><tr><td>precision</td><td>▁</td></tr><tr><td>recall</td><td>▁</td></tr><tr><td>roc_auc</td><td>▁</td></tr></table><br/></div><div class=\"wandb-col\"><h3>Run summary:</h3><br/><table class=\"wandb\"><tr><td>accuracy</td><td>0.67742</td></tr><tr><td>f1</td><td>0.54545</td></tr><tr><td>pr_auc</td><td>0.5651</td></tr><tr><td>precision</td><td>0.42857</td></tr><tr><td>recall</td><td>0.75</td></tr><tr><td>roc_auc</td><td>0.74457</td></tr></table><br/></div></div>"
      ],
      "text/plain": [
       "<IPython.core.display.HTML object>"
      ]
     },
     "metadata": {},
     "output_type": "display_data"
    },
    {
     "data": {
      "text/html": [
       " View run <strong style=\"color:#cdcd00\">ValidProtocol_BiLSTM_Scratch_fold_4</strong> at: <a href='https://wandb.ai/TFE-proteomics/BiLSTM/runs/ymcdk57t' target=\"_blank\">https://wandb.ai/TFE-proteomics/BiLSTM/runs/ymcdk57t</a><br/>Synced 5 W&B file(s), 0 media file(s), 0 artifact file(s) and 0 other file(s)"
      ],
      "text/plain": [
       "<IPython.core.display.HTML object>"
      ]
     },
     "metadata": {},
     "output_type": "display_data"
    },
    {
     "data": {
      "text/html": [
       "Find logs at: <code>./wandb/run-20250314_190507-ymcdk57t/logs</code>"
      ],
      "text/plain": [
       "<IPython.core.display.HTML object>"
      ]
     },
     "metadata": {},
     "output_type": "display_data"
    },
    {
     "name": "stdout",
     "output_type": "stream",
     "text": [
      "Fold 5 on 5\n",
      "Testing config 1 on 144\n",
      "Testing config 2 on 144\n",
      "Testing config 3 on 144\n",
      "Testing config 4 on 144\n",
      "Testing config 5 on 144\n",
      "Testing config 6 on 144\n",
      "Testing config 7 on 144\n",
      "Testing config 8 on 144\n",
      "Testing config 9 on 144\n",
      "Testing config 10 on 144\n",
      "Testing config 11 on 144\n",
      "Testing config 12 on 144\n",
      "Testing config 13 on 144\n",
      "Testing config 14 on 144\n",
      "Testing config 15 on 144\n",
      "Testing config 16 on 144\n",
      "Testing config 17 on 144\n",
      "Testing config 18 on 144\n",
      "Testing config 19 on 144\n",
      "Testing config 20 on 144\n",
      "Testing config 21 on 144\n",
      "Testing config 22 on 144\n",
      "Testing config 23 on 144\n",
      "Testing config 24 on 144\n",
      "Testing config 25 on 144\n",
      "Testing config 26 on 144\n",
      "Testing config 27 on 144\n",
      "Testing config 28 on 144\n",
      "Testing config 29 on 144\n",
      "Testing config 30 on 144\n",
      "Testing config 31 on 144\n",
      "Testing config 32 on 144\n",
      "Testing config 33 on 144\n",
      "Testing config 34 on 144\n",
      "Testing config 35 on 144\n",
      "Testing config 36 on 144\n",
      "Testing config 37 on 144\n",
      "Testing config 38 on 144\n",
      "Testing config 39 on 144\n",
      "Testing config 40 on 144\n",
      "Testing config 41 on 144\n",
      "Testing config 42 on 144\n",
      "Testing config 43 on 144\n",
      "Testing config 44 on 144\n",
      "Testing config 45 on 144\n",
      "Testing config 46 on 144\n",
      "Testing config 47 on 144\n",
      "Testing config 48 on 144\n",
      "Testing config 49 on 144\n",
      "Testing config 50 on 144\n",
      "Testing config 51 on 144\n",
      "Testing config 52 on 144\n",
      "Testing config 53 on 144\n",
      "Testing config 54 on 144\n",
      "Testing config 55 on 144\n",
      "Testing config 56 on 144\n",
      "Testing config 57 on 144\n",
      "Testing config 58 on 144\n",
      "Testing config 59 on 144\n",
      "Testing config 60 on 144\n",
      "Testing config 61 on 144\n",
      "Testing config 62 on 144\n",
      "Testing config 63 on 144\n",
      "Testing config 64 on 144\n",
      "Testing config 65 on 144\n",
      "Testing config 66 on 144\n",
      "Testing config 67 on 144\n",
      "Testing config 68 on 144\n",
      "Testing config 69 on 144\n",
      "Testing config 70 on 144\n",
      "Testing config 71 on 144\n",
      "Testing config 72 on 144\n",
      "Testing config 73 on 144\n",
      "Testing config 74 on 144\n",
      "Testing config 75 on 144\n",
      "Testing config 76 on 144\n",
      "Testing config 77 on 144\n",
      "Testing config 78 on 144\n",
      "Testing config 79 on 144\n",
      "Testing config 80 on 144\n",
      "Testing config 81 on 144\n",
      "Testing config 82 on 144\n",
      "Testing config 83 on 144\n",
      "Testing config 84 on 144\n",
      "Testing config 85 on 144\n",
      "Testing config 86 on 144\n",
      "Testing config 87 on 144\n",
      "Testing config 88 on 144\n",
      "Testing config 89 on 144\n",
      "Testing config 90 on 144\n",
      "Testing config 91 on 144\n",
      "Testing config 92 on 144\n",
      "Testing config 93 on 144\n",
      "Testing config 94 on 144\n",
      "Testing config 95 on 144\n",
      "Testing config 96 on 144\n",
      "Testing config 97 on 144\n",
      "Testing config 98 on 144\n",
      "Testing config 99 on 144\n",
      "Testing config 100 on 144\n",
      "Testing config 101 on 144\n",
      "Testing config 102 on 144\n",
      "Testing config 103 on 144\n",
      "Testing config 104 on 144\n",
      "Testing config 105 on 144\n",
      "Testing config 106 on 144\n",
      "Testing config 107 on 144\n",
      "Testing config 108 on 144\n",
      "Testing config 109 on 144\n",
      "Testing config 110 on 144\n",
      "Testing config 111 on 144\n",
      "Testing config 112 on 144\n",
      "Testing config 113 on 144\n",
      "Testing config 114 on 144\n",
      "Testing config 115 on 144\n",
      "Testing config 116 on 144\n",
      "Testing config 117 on 144\n",
      "Testing config 118 on 144\n",
      "Testing config 119 on 144\n",
      "Testing config 120 on 144\n",
      "Testing config 121 on 144\n",
      "Testing config 122 on 144\n",
      "Testing config 123 on 144\n",
      "Testing config 124 on 144\n",
      "Testing config 125 on 144\n",
      "Testing config 126 on 144\n",
      "Testing config 127 on 144\n",
      "Testing config 128 on 144\n",
      "Testing config 129 on 144\n",
      "Testing config 130 on 144\n",
      "Testing config 131 on 144\n",
      "Testing config 132 on 144\n",
      "Testing config 133 on 144\n",
      "Testing config 134 on 144\n",
      "Testing config 135 on 144\n",
      "Testing config 136 on 144\n",
      "Testing config 137 on 144\n",
      "Testing config 138 on 144\n",
      "Testing config 139 on 144\n",
      "Testing config 140 on 144\n",
      "Testing config 141 on 144\n",
      "Testing config 142 on 144\n",
      "Testing config 143 on 144\n",
      "Testing config 144 on 144\n",
      "\n",
      "--------------------------------------Config Done--------------------------------------------\n",
      "\n"
     ]
    },
    {
     "data": {
      "text/html": [
       "wandb version 0.19.8 is available!  To upgrade, please run:\n",
       " $ pip install wandb --upgrade"
      ],
      "text/plain": [
       "<IPython.core.display.HTML object>"
      ]
     },
     "metadata": {},
     "output_type": "display_data"
    },
    {
     "data": {
      "text/html": [
       "Tracking run with wandb version 0.16.4"
      ],
      "text/plain": [
       "<IPython.core.display.HTML object>"
      ]
     },
     "metadata": {},
     "output_type": "display_data"
    },
    {
     "data": {
      "text/html": [
       "Run data is saved locally in <code>/home/jwalraff/TFE/wandb/run-20250314_190839-cvo06y23</code>"
      ],
      "text/plain": [
       "<IPython.core.display.HTML object>"
      ]
     },
     "metadata": {},
     "output_type": "display_data"
    },
    {
     "data": {
      "text/html": [
       "Syncing run <strong><a href='https://wandb.ai/TFE-proteomics/BiLSTM/runs/cvo06y23' target=\"_blank\">ValidProtocol_BiLSTM_Scratch_fold_5</a></strong> to <a href='https://wandb.ai/TFE-proteomics/BiLSTM' target=\"_blank\">Weights & Biases</a> (<a href='https://wandb.me/run' target=\"_blank\">docs</a>)<br/>"
      ],
      "text/plain": [
       "<IPython.core.display.HTML object>"
      ]
     },
     "metadata": {},
     "output_type": "display_data"
    },
    {
     "data": {
      "text/html": [
       " View project at <a href='https://wandb.ai/TFE-proteomics/BiLSTM' target=\"_blank\">https://wandb.ai/TFE-proteomics/BiLSTM</a>"
      ],
      "text/plain": [
       "<IPython.core.display.HTML object>"
      ]
     },
     "metadata": {},
     "output_type": "display_data"
    },
    {
     "data": {
      "text/html": [
       " View run at <a href='https://wandb.ai/TFE-proteomics/BiLSTM/runs/cvo06y23' target=\"_blank\">https://wandb.ai/TFE-proteomics/BiLSTM/runs/cvo06y23</a>"
      ],
      "text/plain": [
       "<IPython.core.display.HTML object>"
      ]
     },
     "metadata": {},
     "output_type": "display_data"
    },
    {
     "data": {
      "application/vnd.jupyter.widget-view+json": {
       "model_id": "6143bbb1d18f47b38fefa8f3e1060317",
       "version_major": 2,
       "version_minor": 0
      },
      "text/plain": [
       "VBox(children=(Label(value='0.015 MB of 0.018 MB uploaded\\r'), FloatProgress(value=0.7981988509911495, max=1.0…"
      ]
     },
     "metadata": {},
     "output_type": "display_data"
    },
    {
     "data": {
      "text/html": [
       "<style>\n",
       "    table.wandb td:nth-child(1) { padding: 0 10px; text-align: left ; width: auto;} td:nth-child(2) {text-align: left ; width: 100%}\n",
       "    .wandb-row { display: flex; flex-direction: row; flex-wrap: wrap; justify-content: flex-start; width: 100% }\n",
       "    .wandb-col { display: flex; flex-direction: column; flex-basis: 100%; flex: 1; padding: 10px; }\n",
       "    </style>\n",
       "<div class=\"wandb-row\"><div class=\"wandb-col\"><h3>Run history:</h3><br/><table class=\"wandb\"><tr><td>accuracy</td><td>▁</td></tr><tr><td>f1</td><td>▁</td></tr><tr><td>pr_auc</td><td>▁</td></tr><tr><td>precision</td><td>▁</td></tr><tr><td>recall</td><td>▁</td></tr><tr><td>roc_auc</td><td>▁</td></tr></table><br/></div><div class=\"wandb-col\"><h3>Run summary:</h3><br/><table class=\"wandb\"><tr><td>accuracy</td><td>0.67742</td></tr><tr><td>f1</td><td>0.16667</td></tr><tr><td>pr_auc</td><td>0.35702</td></tr><tr><td>precision</td><td>0.25</td></tr><tr><td>recall</td><td>0.125</td></tr><tr><td>roc_auc</td><td>0.5</td></tr></table><br/></div></div>"
      ],
      "text/plain": [
       "<IPython.core.display.HTML object>"
      ]
     },
     "metadata": {},
     "output_type": "display_data"
    },
    {
     "data": {
      "text/html": [
       " View run <strong style=\"color:#cdcd00\">ValidProtocol_BiLSTM_Scratch_fold_5</strong> at: <a href='https://wandb.ai/TFE-proteomics/BiLSTM/runs/cvo06y23' target=\"_blank\">https://wandb.ai/TFE-proteomics/BiLSTM/runs/cvo06y23</a><br/>Synced 5 W&B file(s), 0 media file(s), 0 artifact file(s) and 0 other file(s)"
      ],
      "text/plain": [
       "<IPython.core.display.HTML object>"
      ]
     },
     "metadata": {},
     "output_type": "display_data"
    },
    {
     "data": {
      "text/html": [
       "Find logs at: <code>./wandb/run-20250314_190839-cvo06y23/logs</code>"
      ],
      "text/plain": [
       "<IPython.core.display.HTML object>"
      ]
     },
     "metadata": {},
     "output_type": "display_data"
    },
    {
     "data": {
      "application/vnd.jupyter.widget-view+json": {
       "model_id": "08384771708a46cda3a607517aedbf41",
       "version_major": 2,
       "version_minor": 0
      },
      "text/plain": [
       "VBox(children=(Label(value='Waiting for wandb.init()...\\r'), FloatProgress(value=0.011112323693103261, max=1.0…"
      ]
     },
     "metadata": {},
     "output_type": "display_data"
    },
    {
     "data": {
      "text/html": [
       "wandb version 0.19.8 is available!  To upgrade, please run:\n",
       " $ pip install wandb --upgrade"
      ],
      "text/plain": [
       "<IPython.core.display.HTML object>"
      ]
     },
     "metadata": {},
     "output_type": "display_data"
    },
    {
     "data": {
      "text/html": [
       "Tracking run with wandb version 0.16.4"
      ],
      "text/plain": [
       "<IPython.core.display.HTML object>"
      ]
     },
     "metadata": {},
     "output_type": "display_data"
    },
    {
     "data": {
      "text/html": [
       "Run data is saved locally in <code>/home/jwalraff/TFE/wandb/run-20250314_190849-vgupugsl</code>"
      ],
      "text/plain": [
       "<IPython.core.display.HTML object>"
      ]
     },
     "metadata": {},
     "output_type": "display_data"
    },
    {
     "data": {
      "text/html": [
       "Syncing run <strong><a href='https://wandb.ai/TFE-proteomics/BiLSTM/runs/vgupugsl' target=\"_blank\">ValidProtocol_BiLSTM_Scratch_CrossValidation_Summary</a></strong> to <a href='https://wandb.ai/TFE-proteomics/BiLSTM' target=\"_blank\">Weights & Biases</a> (<a href='https://wandb.me/run' target=\"_blank\">docs</a>)<br/>"
      ],
      "text/plain": [
       "<IPython.core.display.HTML object>"
      ]
     },
     "metadata": {},
     "output_type": "display_data"
    },
    {
     "data": {
      "text/html": [
       " View project at <a href='https://wandb.ai/TFE-proteomics/BiLSTM' target=\"_blank\">https://wandb.ai/TFE-proteomics/BiLSTM</a>"
      ],
      "text/plain": [
       "<IPython.core.display.HTML object>"
      ]
     },
     "metadata": {},
     "output_type": "display_data"
    },
    {
     "data": {
      "text/html": [
       " View run at <a href='https://wandb.ai/TFE-proteomics/BiLSTM/runs/vgupugsl' target=\"_blank\">https://wandb.ai/TFE-proteomics/BiLSTM/runs/vgupugsl</a>"
      ],
      "text/plain": [
       "<IPython.core.display.HTML object>"
      ]
     },
     "metadata": {},
     "output_type": "display_data"
    },
    {
     "data": {
      "application/vnd.jupyter.widget-view+json": {
       "model_id": "d372a291b7904a1692ff43980c8da787",
       "version_major": 2,
       "version_minor": 0
      },
      "text/plain": [
       "VBox(children=(Label(value='0.004 MB of 0.019 MB uploaded\\r'), FloatProgress(value=0.22169498443798152, max=1.…"
      ]
     },
     "metadata": {},
     "output_type": "display_data"
    },
    {
     "data": {
      "text/html": [
       "<style>\n",
       "    table.wandb td:nth-child(1) { padding: 0 10px; text-align: left ; width: auto;} td:nth-child(2) {text-align: left ; width: 100%}\n",
       "    .wandb-row { display: flex; flex-direction: row; flex-wrap: wrap; justify-content: flex-start; width: 100% }\n",
       "    .wandb-col { display: flex; flex-direction: column; flex-basis: 100%; flex: 1; padding: 10px; }\n",
       "    </style>\n",
       "<div class=\"wandb-row\"><div class=\"wandb-col\"><h3>Run history:</h3><br/><table class=\"wandb\"><tr><td>accuracy_mean</td><td>▁</td></tr><tr><td>accuracy_std</td><td>▁</td></tr><tr><td>f1_mean</td><td>▁</td></tr><tr><td>f1_std</td><td>▁</td></tr><tr><td>pr_auc_mean</td><td>▁</td></tr><tr><td>pr_auc_std</td><td>▁</td></tr><tr><td>precision_mean</td><td>▁</td></tr><tr><td>precision_std</td><td>▁</td></tr><tr><td>recall_mean</td><td>▁</td></tr><tr><td>recall_std</td><td>▁</td></tr><tr><td>roc_auc_mean</td><td>▁</td></tr><tr><td>roc_auc_std</td><td>▁</td></tr></table><br/></div><div class=\"wandb-col\"><h3>Run summary:</h3><br/><table class=\"wandb\"><tr><td>accuracy_mean</td><td>0.65161</td></tr><tr><td>accuracy_std</td><td>0.12139</td></tr><tr><td>f1_mean</td><td>0.29669</td></tr><tr><td>f1_std</td><td>0.15626</td></tr><tr><td>pr_auc_mean</td><td>0.41902</td></tr><tr><td>pr_auc_std</td><td>0.15254</td></tr><tr><td>precision_mean</td><td>0.31905</td></tr><tr><td>precision_std</td><td>0.1451</td></tr><tr><td>recall_mean</td><td>0.31429</td></tr><tr><td>recall_std</td><td>0.22941</td></tr><tr><td>roc_auc_mean</td><td>0.59752</td></tr><tr><td>roc_auc_std</td><td>0.19345</td></tr></table><br/></div></div>"
      ],
      "text/plain": [
       "<IPython.core.display.HTML object>"
      ]
     },
     "metadata": {},
     "output_type": "display_data"
    },
    {
     "data": {
      "text/html": [
       " View run <strong style=\"color:#cdcd00\">ValidProtocol_BiLSTM_Scratch_CrossValidation_Summary</strong> at: <a href='https://wandb.ai/TFE-proteomics/BiLSTM/runs/vgupugsl' target=\"_blank\">https://wandb.ai/TFE-proteomics/BiLSTM/runs/vgupugsl</a><br/>Synced 5 W&B file(s), 0 media file(s), 0 artifact file(s) and 0 other file(s)"
      ],
      "text/plain": [
       "<IPython.core.display.HTML object>"
      ]
     },
     "metadata": {},
     "output_type": "display_data"
    },
    {
     "data": {
      "text/html": [
       "Find logs at: <code>./wandb/run-20250314_190849-vgupugsl/logs</code>"
      ],
      "text/plain": [
       "<IPython.core.display.HTML object>"
      ]
     },
     "metadata": {},
     "output_type": "display_data"
    }
   ],
   "source": [
    "LEARNING_RATE = 0.001\n",
    "VOCAB_SIZE = len(amino_acid_vocab) + 1  # +1 for padding\n",
    "EMBED_DIM = 64\n",
    "HIDDEN_DIM = 16\n",
    "OUTPUT_DIM = 1\n",
    "N_EPOCHS = 100\n",
    "BATCH_SIZE = 32\n",
    "LSTM_LAYERS = 2\n",
    "LSTM_HIDDEN_DIM = 32\n",
    "N_SPLITS = 5\n",
    "DROPOUT = 0.3\n",
    "\n",
    "# Define paths and useful variables\n",
    "count = 1\n",
    "do_early_stopping = False\n",
    "models_path = \"/home/jwalraff/TFE/Models\"\n",
    "results_path = \"/home/jwalraff/TFE/Results\"\n",
    "images_path = \"/home/jwalraff/TFE/Images\"\n",
    "\n",
    "imbalanced_name_dict = {\n",
    "    \"Imbalance\": {\n",
    "        (False, False): \"N\",\n",
    "        (True, False): \"W\",\n",
    "        (False, True): \"O\"\n",
    "    },\n",
    "    \"Early Stopping\": {\n",
    "        True: \"ES\",\n",
    "        False: \"NES\"\n",
    "    },\n",
    "    \"Transfer Learning\": {\n",
    "        True: \"FT\",\n",
    "        False: \"FE\",\n",
    "        None: \"N\"\n",
    "    }\n",
    "}\n",
    "\n",
    "# Stratified K-Fold\n",
    "kf = StratifiedKFold(n_splits=N_SPLITS, shuffle=True, random_state=42)\n",
    "\n",
    "# Loop over all configurations of variant (here only different class imbalance technique) in order to compute all in once\n",
    "for weighting, oversampling in [(False, False), (True, False), (False, True)]:\n",
    "    temp_results_list = []\n",
    "    # Loop over the folds\n",
    "    for fold, (train_idx, test_idx) in enumerate(kf.split(df, df['quantotypic'])):\n",
    "        # Split the data and creating dataloaders\n",
    "        print(f\"Fold {fold+1} on 5\")\n",
    "        tmp_train_df = df.iloc[train_idx]\n",
    "        test_df = df.iloc[test_idx]\n",
    "\n",
    "        train_df, val_df = train_test_split(tmp_train_df, test_size=0.2, stratify=tmp_train_df['quantotypic'], random_state=42)\n",
    "\n",
    "        if oversampling:\n",
    "            train_df = utils.balance_classes_with_oversampling(train_df)\n",
    "\n",
    "        train_dataset = PeptideDataset(train_df['sequence'].values, train_df['quantotypic'].values, amino_acid_vocab, max_len)\n",
    "        val_dataset = PeptideDataset(val_df['sequence'].values, val_df['quantotypic'].values, amino_acid_vocab, max_len)\n",
    "\n",
    "        train_loader = DataLoader(train_dataset, batch_size=BATCH_SIZE, shuffle=True)\n",
    "        validation_loader = DataLoader(val_dataset, batch_size=BATCH_SIZE)\n",
    "\n",
    "        pos_weight = compute_pos_weight(train_df, 'quantotypic') if weighting else None\n",
    "\n",
    "        best_model = None\n",
    "        best_history = None\n",
    "\n",
    "        # GridSearch for hyperparameters\n",
    "        config_count = 1\n",
    "        for LR in [0.0001, 0.001, 0.01, 0.1]:\n",
    "            for n_layers in [1, 2, 3]:\n",
    "                for dropout in [0.2, 0.3]:\n",
    "                    for hidden_size, embed_size in [(64, 64), (128, 128)]:\n",
    "                        for n_epoch in [25, 50, 100]:\n",
    "                            print(f\"Testing config {config_count} on {4*3*2*2*3}\")\n",
    "                            config_count += 1\n",
    "                            model = PeptideBiLSTMClassifier(VOCAB_SIZE, embed_size, hidden_size, hidden_size, OUTPUT_DIM, dropout, n_layers)\n",
    "\n",
    "                            # wandb.init(\n",
    "                            #     project=\"BiLSTM\",\n",
    "                            #     name=f\"BiLSTM_Scratch_config_hyperparameters\",\n",
    "                            #     config={\n",
    "                            #         \"learning_rate\": LR,\n",
    "                            #         \"architecture\": \"BiLSTM\",\n",
    "                            #         \"dataset\": \"SPARE\",\n",
    "                            #         \"epochs\": n_epoch,\n",
    "                            #         \"Batch_size\": batch_size,\n",
    "                            #         \"Dropout\": dropout,\n",
    "                            #         \"Hidden_size\": hidden_size,\n",
    "                            #         \"Embedding_size\": embed_size,\n",
    "                            #         \"Number of layers\": n_layers,\n",
    "                            #         \"Oversampling\": oversampling,\n",
    "                            #         \"Weighting\": weighting,\n",
    "                            #         \"Early stopping\": do_early_stopping\n",
    "                            #     }\n",
    "                            # )\n",
    "\n",
    "                            history = train(model, train_loader, validation_loader, n_epoch, LR, \"test\", do_early_stopping=do_early_stopping,\n",
    "                                            model_name='Scratch', weight=pos_weight)\n",
    "\n",
    "                            best_model, best_history = compute_best(history, best_history, model, best_model)\n",
    "\n",
    "                            # wandb.finish()\n",
    "\n",
    "\n",
    "        print(\"\\n--------------------------------------Config Done--------------------------------------------\\n\")\n",
    "        results = evaluate_bilstm_model(best_model, test_df, amino_acid_vocab, max_len)\n",
    "\n",
    "        temp_results_list.append({\n",
    "                'accuracy': results['accuracy'],\n",
    "                'precision': results['precision'],\n",
    "                'recall': results['recall'],\n",
    "                'f1': results['f1'],\n",
    "                'roc_auc': results['roc_auc'],\n",
    "                'pr_auc': results['pr_auc']\n",
    "            })\n",
    "\n",
    "        wandb.init(project=\"BiLSTM\", name=f\"ValidProtocol_BiLSTM_Scratch_fold_{fold+1}\",\n",
    "                    config={\n",
    "                        \"weighting\": weighting,\n",
    "                        \"oversampling\": oversampling,\n",
    "                        \"early_stopping\": do_early_stopping\n",
    "                    })\n",
    "\n",
    "        wandb.log(results)\n",
    "        wandb.finish()\n",
    "        \n",
    "        # Save the best model\n",
    "        text = f\"{imbalanced_name_dict['Early Stopping'][False]}_{imbalanced_name_dict['Transfer Learning'][None]}_{imbalanced_name_dict['Imbalance'][(weighting, oversampling)]}\"\n",
    "        filename = f\"Best_BiLSTM_{text}_cvfold{fold+1}\"\n",
    "        torch.save(best_model.state_dict(), f\"{models_path}/{filename}.pth\")\n",
    "\n",
    "    accuracy_list = [res['accuracy'] for res in temp_results_list]\n",
    "    precision_list = [res['precision'] for res in temp_results_list]\n",
    "    recall_list = [res['recall'] for res in temp_results_list]\n",
    "    f1_list = [res['f1'] for res in temp_results_list]\n",
    "    roc_auc_list = [res['roc_auc'] for res in temp_results_list]\n",
    "    pr_auc_list = [res['pr_auc'] for res in temp_results_list]\n",
    "\n",
    "    metrics_summary = {\n",
    "        'accuracy_mean': np.mean(accuracy_list),\n",
    "        'accuracy_std': np.std(accuracy_list),\n",
    "        'precision_mean': np.mean(precision_list),\n",
    "        'precision_std': np.std(precision_list),\n",
    "        'recall_mean': np.mean(recall_list),\n",
    "        'recall_std': np.std(recall_list),\n",
    "        'f1_mean': np.mean(f1_list),\n",
    "        'f1_std': np.std(f1_list),\n",
    "        'roc_auc_mean': np.mean(roc_auc_list),\n",
    "        'roc_auc_std': np.std(roc_auc_list),\n",
    "        'pr_auc_mean': np.mean(pr_auc_list),\n",
    "        'pr_auc_std': np.std(pr_auc_list),\n",
    "    }\n",
    "\n",
    "    wandb.init(project=\"BiLSTM\", name=f\"ValidProtocol_BiLSTM_Scratch_CrossValidation_Summary\",\n",
    "                config={\n",
    "                    \"weighting\": weighting,\n",
    "                    \"oversampling\": oversampling,\n",
    "                    \"early_stopping\": do_early_stopping\n",
    "                })\n",
    "    wandb.log(metrics_summary)\n",
    "    wandb.finish()\n",
    "\n",
    "    dict_save = {\n",
    "        'weighting': weighting,\n",
    "        'oversampling': oversampling,\n",
    "        'early_stopping': do_early_stopping,\n",
    "        'metrics': metrics_summary\n",
    "    }\n",
    "\n",
    "    # Save the results in a JSON file\n",
    "    write_into_json(dict_save, f\"{results_path}/ValidProtocol_BiLSTM_Experiment_{count}.json\")\n",
    "    count += 1"
   ]
  }
 ],
 "metadata": {
  "colab": {
   "provenance": []
  },
  "kernelspec": {
   "display_name": "Python 3",
   "language": "python",
   "name": "python3"
  },
  "language_info": {
   "codemirror_mode": {
    "name": "ipython",
    "version": 3
   },
   "file_extension": ".py",
   "mimetype": "text/x-python",
   "name": "python",
   "nbconvert_exporter": "python",
   "pygments_lexer": "ipython3",
   "version": "3.10.6"
  }
 },
 "nbformat": 4,
 "nbformat_minor": 4
}
